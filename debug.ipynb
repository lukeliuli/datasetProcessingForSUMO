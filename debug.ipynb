{
 "cells": [
  {
   "cell_type": "code",
   "execution_count": 5,
   "metadata": {},
   "outputs": [
    {
     "name": "stderr",
     "output_type": "stream",
     "text": [
      "C:\\Users\\Administrator\\AppData\\Local\\Temp\\ipykernel_16000\\2984826684.py:101: FutureWarning: The frame.append method is deprecated and will be removed from pandas in a future version. Use pandas.concat instead.\n",
      "  redFlagRecord = redFlagRecord.append(veh, ignore_index=True)\n",
      "C:\\Users\\Administrator\\AppData\\Local\\Temp\\ipykernel_16000\\2984826684.py:101: FutureWarning: The frame.append method is deprecated and will be removed from pandas in a future version. Use pandas.concat instead.\n",
      "  redFlagRecord = redFlagRecord.append(veh, ignore_index=True)\n",
      "C:\\Users\\Administrator\\AppData\\Local\\Temp\\ipykernel_16000\\2984826684.py:101: FutureWarning: The frame.append method is deprecated and will be removed from pandas in a future version. Use pandas.concat instead.\n",
      "  redFlagRecord = redFlagRecord.append(veh, ignore_index=True)\n",
      "C:\\Users\\Administrator\\AppData\\Local\\Temp\\ipykernel_16000\\2984826684.py:101: FutureWarning: The frame.append method is deprecated and will be removed from pandas in a future version. Use pandas.concat instead.\n",
      "  redFlagRecord = redFlagRecord.append(veh, ignore_index=True)\n",
      "C:\\Users\\Administrator\\AppData\\Local\\Temp\\ipykernel_16000\\2984826684.py:101: FutureWarning: The frame.append method is deprecated and will be removed from pandas in a future version. Use pandas.concat instead.\n",
      "  redFlagRecord = redFlagRecord.append(veh, ignore_index=True)\n",
      "C:\\Users\\Administrator\\AppData\\Local\\Temp\\ipykernel_16000\\2984826684.py:101: FutureWarning: The frame.append method is deprecated and will be removed from pandas in a future version. Use pandas.concat instead.\n",
      "  redFlagRecord = redFlagRecord.append(veh, ignore_index=True)\n"
     ]
    },
    {
     "name": "stdout",
     "output_type": "stream",
     "text": [
      "LaneID:28925528_0;Time:603.0;\n",
      "LaneID:28925528_0;Time:604.0;\n",
      "LaneID:28925528_0;Time:605.0;\n",
      "LaneID:28925528_0;Time:606.0;\n",
      "LaneID:28925528_0;Time:611.0;\n",
      "LaneID:28925528_0;Time:612.0;\n",
      "LaneID:28925528_0;Time:613.0;\n",
      "LaneID:28925528_0;Time:614.0;\n",
      "LaneID:28925528_0;Time:615.0;\n",
      "LaneID:28925528_0;Time:616.0;\n",
      "LaneID:28925528_0;Time:617.0;\n",
      "LaneID:28925528_0;Time:618.0;\n",
      "LaneID:28925528_0;Time:619.0;\n",
      "LaneID:28925528_0;Time:620.0;\n",
      "LaneID:28925528_0;Time:621.0;\n"
     ]
    },
    {
     "name": "stderr",
     "output_type": "stream",
     "text": [
      "C:\\Users\\Administrator\\AppData\\Local\\Temp\\ipykernel_16000\\2984826684.py:101: FutureWarning: The frame.append method is deprecated and will be removed from pandas in a future version. Use pandas.concat instead.\n",
      "  redFlagRecord = redFlagRecord.append(veh, ignore_index=True)\n",
      "C:\\Users\\Administrator\\AppData\\Local\\Temp\\ipykernel_16000\\2984826684.py:101: FutureWarning: The frame.append method is deprecated and will be removed from pandas in a future version. Use pandas.concat instead.\n",
      "  redFlagRecord = redFlagRecord.append(veh, ignore_index=True)\n",
      "C:\\Users\\Administrator\\AppData\\Local\\Temp\\ipykernel_16000\\2984826684.py:101: FutureWarning: The frame.append method is deprecated and will be removed from pandas in a future version. Use pandas.concat instead.\n",
      "  redFlagRecord = redFlagRecord.append(veh, ignore_index=True)\n",
      "C:\\Users\\Administrator\\AppData\\Local\\Temp\\ipykernel_16000\\2984826684.py:101: FutureWarning: The frame.append method is deprecated and will be removed from pandas in a future version. Use pandas.concat instead.\n",
      "  redFlagRecord = redFlagRecord.append(veh, ignore_index=True)\n",
      "C:\\Users\\Administrator\\AppData\\Local\\Temp\\ipykernel_16000\\2984826684.py:101: FutureWarning: The frame.append method is deprecated and will be removed from pandas in a future version. Use pandas.concat instead.\n",
      "  redFlagRecord = redFlagRecord.append(veh, ignore_index=True)\n",
      "C:\\Users\\Administrator\\AppData\\Local\\Temp\\ipykernel_16000\\2984826684.py:101: FutureWarning: The frame.append method is deprecated and will be removed from pandas in a future version. Use pandas.concat instead.\n",
      "  redFlagRecord = redFlagRecord.append(veh, ignore_index=True)\n"
     ]
    },
    {
     "name": "stdout",
     "output_type": "stream",
     "text": [
      "LaneID:28925528_0;Time:622.0;\n",
      "LaneID:28925528_0;Time:623.0;\n",
      "LaneID:28925528_0;Time:624.0;\n",
      "LaneID:28925528_0;Time:625.0;\n",
      "LaneID:28925528_0;Time:626.0;\n",
      "LaneID:28925528_0;Time:627.0;\n"
     ]
    },
    {
     "name": "stderr",
     "output_type": "stream",
     "text": [
      "C:\\Users\\Administrator\\AppData\\Local\\Temp\\ipykernel_16000\\2984826684.py:101: FutureWarning: The frame.append method is deprecated and will be removed from pandas in a future version. Use pandas.concat instead.\n",
      "  redFlagRecord = redFlagRecord.append(veh, ignore_index=True)\n",
      "C:\\Users\\Administrator\\AppData\\Local\\Temp\\ipykernel_16000\\2984826684.py:101: FutureWarning: The frame.append method is deprecated and will be removed from pandas in a future version. Use pandas.concat instead.\n",
      "  redFlagRecord = redFlagRecord.append(veh, ignore_index=True)\n",
      "C:\\Users\\Administrator\\AppData\\Local\\Temp\\ipykernel_16000\\2984826684.py:101: FutureWarning: The frame.append method is deprecated and will be removed from pandas in a future version. Use pandas.concat instead.\n",
      "  redFlagRecord = redFlagRecord.append(veh, ignore_index=True)\n",
      "C:\\Users\\Administrator\\AppData\\Local\\Temp\\ipykernel_16000\\2984826684.py:101: FutureWarning: The frame.append method is deprecated and will be removed from pandas in a future version. Use pandas.concat instead.\n",
      "  redFlagRecord = redFlagRecord.append(veh, ignore_index=True)\n",
      "C:\\Users\\Administrator\\AppData\\Local\\Temp\\ipykernel_16000\\2984826684.py:101: FutureWarning: The frame.append method is deprecated and will be removed from pandas in a future version. Use pandas.concat instead.\n",
      "  redFlagRecord = redFlagRecord.append(veh, ignore_index=True)\n",
      "C:\\Users\\Administrator\\AppData\\Local\\Temp\\ipykernel_16000\\2984826684.py:101: FutureWarning: The frame.append method is deprecated and will be removed from pandas in a future version. Use pandas.concat instead.\n",
      "  redFlagRecord = redFlagRecord.append(veh, ignore_index=True)\n"
     ]
    },
    {
     "name": "stdout",
     "output_type": "stream",
     "text": [
      "LaneID:28925528_0;Time:628.0;\n",
      "LaneID:28925528_0;Time:629.0;\n",
      "LaneID:28925528_0;Time:630.0;\n",
      "LaneID:28925528_0;Time:631.0;\n",
      "LaneID:28925528_0;Time:632.0;\n",
      "LaneID:28925528_0;Time:633.0;\n"
     ]
    },
    {
     "name": "stderr",
     "output_type": "stream",
     "text": [
      "C:\\Users\\Administrator\\AppData\\Local\\Temp\\ipykernel_16000\\2984826684.py:101: FutureWarning: The frame.append method is deprecated and will be removed from pandas in a future version. Use pandas.concat instead.\n",
      "  redFlagRecord = redFlagRecord.append(veh, ignore_index=True)\n",
      "C:\\Users\\Administrator\\AppData\\Local\\Temp\\ipykernel_16000\\2984826684.py:101: FutureWarning: The frame.append method is deprecated and will be removed from pandas in a future version. Use pandas.concat instead.\n",
      "  redFlagRecord = redFlagRecord.append(veh, ignore_index=True)\n",
      "C:\\Users\\Administrator\\AppData\\Local\\Temp\\ipykernel_16000\\2984826684.py:101: FutureWarning: The frame.append method is deprecated and will be removed from pandas in a future version. Use pandas.concat instead.\n",
      "  redFlagRecord = redFlagRecord.append(veh, ignore_index=True)\n",
      "C:\\Users\\Administrator\\AppData\\Local\\Temp\\ipykernel_16000\\2984826684.py:101: FutureWarning: The frame.append method is deprecated and will be removed from pandas in a future version. Use pandas.concat instead.\n",
      "  redFlagRecord = redFlagRecord.append(veh, ignore_index=True)\n",
      "C:\\Users\\Administrator\\AppData\\Local\\Temp\\ipykernel_16000\\2984826684.py:101: FutureWarning: The frame.append method is deprecated and will be removed from pandas in a future version. Use pandas.concat instead.\n",
      "  redFlagRecord = redFlagRecord.append(veh, ignore_index=True)\n",
      "C:\\Users\\Administrator\\AppData\\Local\\Temp\\ipykernel_16000\\2984826684.py:101: FutureWarning: The frame.append method is deprecated and will be removed from pandas in a future version. Use pandas.concat instead.\n",
      "  redFlagRecord = redFlagRecord.append(veh, ignore_index=True)\n"
     ]
    },
    {
     "name": "stdout",
     "output_type": "stream",
     "text": [
      "LaneID:28925528_0;Time:634.0;\n",
      "LaneID:28925528_0;Time:635.0;\n",
      "LaneID:28925528_0;Time:636.0;\n",
      "LaneID:28925528_0;Time:637.0;\n",
      "LaneID:28925528_0;Time:638.0;\n",
      "LaneID:28925528_0;Time:639.0;\n",
      "LaneID:28925528_0;Time:640.0;\n",
      "LaneID:28925528_0;Time:654.0;\n",
      "LaneID:28925528_0;Time:655.0;\n",
      "LaneID:28925528_0;Time:656.0;\n",
      "LaneID:28925528_0;Time:657.0;\n",
      "LaneID:28925528_0;Time:658.0;\n",
      "LaneID:28925528_0;Time:659.0;\n",
      "LaneID:28925528_0;Time:660.0;\n",
      "LaneID:28925528_0;Time:661.0;\n",
      "LaneID:28925528_0;Time:662.0;\n",
      "LaneID:28925528_0;Time:663.0;\n",
      "LaneID:28925528_0;Time:664.0;\n"
     ]
    },
    {
     "name": "stderr",
     "output_type": "stream",
     "text": [
      "C:\\Users\\Administrator\\AppData\\Local\\Temp\\ipykernel_16000\\2984826684.py:101: FutureWarning: The frame.append method is deprecated and will be removed from pandas in a future version. Use pandas.concat instead.\n",
      "  redFlagRecord = redFlagRecord.append(veh, ignore_index=True)\n",
      "C:\\Users\\Administrator\\AppData\\Local\\Temp\\ipykernel_16000\\2984826684.py:101: FutureWarning: The frame.append method is deprecated and will be removed from pandas in a future version. Use pandas.concat instead.\n",
      "  redFlagRecord = redFlagRecord.append(veh, ignore_index=True)\n",
      "C:\\Users\\Administrator\\AppData\\Local\\Temp\\ipykernel_16000\\2984826684.py:101: FutureWarning: The frame.append method is deprecated and will be removed from pandas in a future version. Use pandas.concat instead.\n",
      "  redFlagRecord = redFlagRecord.append(veh, ignore_index=True)\n",
      "C:\\Users\\Administrator\\AppData\\Local\\Temp\\ipykernel_16000\\2984826684.py:101: FutureWarning: The frame.append method is deprecated and will be removed from pandas in a future version. Use pandas.concat instead.\n",
      "  redFlagRecord = redFlagRecord.append(veh, ignore_index=True)\n",
      "C:\\Users\\Administrator\\AppData\\Local\\Temp\\ipykernel_16000\\2984826684.py:101: FutureWarning: The frame.append method is deprecated and will be removed from pandas in a future version. Use pandas.concat instead.\n",
      "  redFlagRecord = redFlagRecord.append(veh, ignore_index=True)\n",
      "C:\\Users\\Administrator\\AppData\\Local\\Temp\\ipykernel_16000\\2984826684.py:101: FutureWarning: The frame.append method is deprecated and will be removed from pandas in a future version. Use pandas.concat instead.\n",
      "  redFlagRecord = redFlagRecord.append(veh, ignore_index=True)\n"
     ]
    },
    {
     "name": "stdout",
     "output_type": "stream",
     "text": [
      "LaneID:28925528_0;Time:665.0;\n",
      "LaneID:28925528_0;Time:666.0;\n",
      "LaneID:28925528_0;Time:667.0;\n",
      "LaneID:28925528_0;Time:668.0;\n",
      "LaneID:28925528_0;Time:674.0;\n",
      "LaneID:28925528_0;Time:675.0;\n",
      "LaneID:28925528_0;Time:676.0;\n",
      "LaneID:28925528_0;Time:677.0;\n",
      "LaneID:28925528_0;Time:678.0;\n",
      "LaneID:28925528_0;Time:679.0;\n",
      "LaneID:28925528_0;Time:680.0;\n",
      "LaneID:28925528_0;Time:681.0;\n",
      "LaneID:28925528_0;Time:682.0;\n",
      "LaneID:28925528_0;Time:683.0;\n",
      "LaneID:28925528_0;Time:684.0;\n"
     ]
    },
    {
     "name": "stderr",
     "output_type": "stream",
     "text": [
      "C:\\Users\\Administrator\\AppData\\Local\\Temp\\ipykernel_16000\\2984826684.py:101: FutureWarning: The frame.append method is deprecated and will be removed from pandas in a future version. Use pandas.concat instead.\n",
      "  redFlagRecord = redFlagRecord.append(veh, ignore_index=True)\n",
      "C:\\Users\\Administrator\\AppData\\Local\\Temp\\ipykernel_16000\\2984826684.py:101: FutureWarning: The frame.append method is deprecated and will be removed from pandas in a future version. Use pandas.concat instead.\n",
      "  redFlagRecord = redFlagRecord.append(veh, ignore_index=True)\n",
      "C:\\Users\\Administrator\\AppData\\Local\\Temp\\ipykernel_16000\\2984826684.py:101: FutureWarning: The frame.append method is deprecated and will be removed from pandas in a future version. Use pandas.concat instead.\n",
      "  redFlagRecord = redFlagRecord.append(veh, ignore_index=True)\n",
      "C:\\Users\\Administrator\\AppData\\Local\\Temp\\ipykernel_16000\\2984826684.py:101: FutureWarning: The frame.append method is deprecated and will be removed from pandas in a future version. Use pandas.concat instead.\n",
      "  redFlagRecord = redFlagRecord.append(veh, ignore_index=True)\n",
      "C:\\Users\\Administrator\\AppData\\Local\\Temp\\ipykernel_16000\\2984826684.py:101: FutureWarning: The frame.append method is deprecated and will be removed from pandas in a future version. Use pandas.concat instead.\n",
      "  redFlagRecord = redFlagRecord.append(veh, ignore_index=True)\n",
      "C:\\Users\\Administrator\\AppData\\Local\\Temp\\ipykernel_16000\\2984826684.py:101: FutureWarning: The frame.append method is deprecated and will be removed from pandas in a future version. Use pandas.concat instead.\n",
      "  redFlagRecord = redFlagRecord.append(veh, ignore_index=True)\n"
     ]
    },
    {
     "name": "stdout",
     "output_type": "stream",
     "text": [
      "LaneID:28925528_0;Time:685.0;\n",
      "LaneID:28925528_0;Time:686.0;\n",
      "LaneID:28925528_0;Time:687.0;\n",
      "LaneID:28925528_0;Time:688.0;\n",
      "LaneID:28925528_0;Time:689.0;\n",
      "LaneID:28925528_0;Time:690.0;\n"
     ]
    },
    {
     "name": "stderr",
     "output_type": "stream",
     "text": [
      "C:\\Users\\Administrator\\AppData\\Local\\Temp\\ipykernel_16000\\2984826684.py:101: FutureWarning: The frame.append method is deprecated and will be removed from pandas in a future version. Use pandas.concat instead.\n",
      "  redFlagRecord = redFlagRecord.append(veh, ignore_index=True)\n",
      "C:\\Users\\Administrator\\AppData\\Local\\Temp\\ipykernel_16000\\2984826684.py:101: FutureWarning: The frame.append method is deprecated and will be removed from pandas in a future version. Use pandas.concat instead.\n",
      "  redFlagRecord = redFlagRecord.append(veh, ignore_index=True)\n",
      "C:\\Users\\Administrator\\AppData\\Local\\Temp\\ipykernel_16000\\2984826684.py:101: FutureWarning: The frame.append method is deprecated and will be removed from pandas in a future version. Use pandas.concat instead.\n",
      "  redFlagRecord = redFlagRecord.append(veh, ignore_index=True)\n",
      "C:\\Users\\Administrator\\AppData\\Local\\Temp\\ipykernel_16000\\2984826684.py:101: FutureWarning: The frame.append method is deprecated and will be removed from pandas in a future version. Use pandas.concat instead.\n",
      "  redFlagRecord = redFlagRecord.append(veh, ignore_index=True)\n",
      "C:\\Users\\Administrator\\AppData\\Local\\Temp\\ipykernel_16000\\2984826684.py:101: FutureWarning: The frame.append method is deprecated and will be removed from pandas in a future version. Use pandas.concat instead.\n",
      "  redFlagRecord = redFlagRecord.append(veh, ignore_index=True)\n",
      "C:\\Users\\Administrator\\AppData\\Local\\Temp\\ipykernel_16000\\2984826684.py:101: FutureWarning: The frame.append method is deprecated and will be removed from pandas in a future version. Use pandas.concat instead.\n",
      "  redFlagRecord = redFlagRecord.append(veh, ignore_index=True)\n",
      "C:\\Users\\Administrator\\AppData\\Local\\Temp\\ipykernel_16000\\2984826684.py:101: FutureWarning: The frame.append method is deprecated and will be removed from pandas in a future version. Use pandas.concat instead.\n",
      "  redFlagRecord = redFlagRecord.append(veh, ignore_index=True)\n"
     ]
    },
    {
     "name": "stdout",
     "output_type": "stream",
     "text": [
      "LaneID:28925528_0;Time:691.0;\n",
      "LaneID:28925528_0;Time:692.0;\n",
      "LaneID:28925528_0;Time:693.0;\n",
      "LaneID:28925528_0;Time:694.0;\n",
      "LaneID:28925528_0;Time:695.0;\n",
      "LaneID:28925528_0;Time:696.0;\n",
      "LaneID:28925528_0;Time:697.0;\n"
     ]
    },
    {
     "name": "stderr",
     "output_type": "stream",
     "text": [
      "C:\\Users\\Administrator\\AppData\\Local\\Temp\\ipykernel_16000\\2984826684.py:101: FutureWarning: The frame.append method is deprecated and will be removed from pandas in a future version. Use pandas.concat instead.\n",
      "  redFlagRecord = redFlagRecord.append(veh, ignore_index=True)\n",
      "C:\\Users\\Administrator\\AppData\\Local\\Temp\\ipykernel_16000\\2984826684.py:101: FutureWarning: The frame.append method is deprecated and will be removed from pandas in a future version. Use pandas.concat instead.\n",
      "  redFlagRecord = redFlagRecord.append(veh, ignore_index=True)\n",
      "C:\\Users\\Administrator\\AppData\\Local\\Temp\\ipykernel_16000\\2984826684.py:101: FutureWarning: The frame.append method is deprecated and will be removed from pandas in a future version. Use pandas.concat instead.\n",
      "  redFlagRecord = redFlagRecord.append(veh, ignore_index=True)\n",
      "C:\\Users\\Administrator\\AppData\\Local\\Temp\\ipykernel_16000\\2984826684.py:101: FutureWarning: The frame.append method is deprecated and will be removed from pandas in a future version. Use pandas.concat instead.\n",
      "  redFlagRecord = redFlagRecord.append(veh, ignore_index=True)\n",
      "C:\\Users\\Administrator\\AppData\\Local\\Temp\\ipykernel_16000\\2984826684.py:101: FutureWarning: The frame.append method is deprecated and will be removed from pandas in a future version. Use pandas.concat instead.\n",
      "  redFlagRecord = redFlagRecord.append(veh, ignore_index=True)\n",
      "C:\\Users\\Administrator\\AppData\\Local\\Temp\\ipykernel_16000\\2984826684.py:101: FutureWarning: The frame.append method is deprecated and will be removed from pandas in a future version. Use pandas.concat instead.\n",
      "  redFlagRecord = redFlagRecord.append(veh, ignore_index=True)\n"
     ]
    },
    {
     "name": "stdout",
     "output_type": "stream",
     "text": [
      "LaneID:28925528_0;Time:698.0;\n",
      "LaneID:28925528_0;Time:699.0;\n",
      "LaneID:28925528_0;Time:700.0;\n",
      "LaneID:28925528_0;Time:701.0;\n",
      "LaneID:28925528_0;Time:702.0;\n",
      "LaneID:28925528_0;Time:717.0;\n",
      "LaneID:28925528_0;Time:718.0;\n",
      "LaneID:28925528_0;Time:719.0;\n",
      "LaneID:28925528_0;Time:720.0;\n",
      "LaneID:28925528_0;Time:721.0;\n",
      "LaneID:28925528_0;Time:722.0;\n",
      "LaneID:28925528_0;Time:723.0;\n",
      "LaneID:28925528_0;Time:724.0;\n",
      "LaneID:28925528_0;Time:725.0;\n",
      "LaneID:28925528_0;Time:726.0;\n",
      "LaneID:28925528_0;Time:727.0;\n",
      "LaneID:28925528_0;Time:728.0;\n",
      "LaneID:28925528_0;Time:729.0;\n"
     ]
    },
    {
     "name": "stderr",
     "output_type": "stream",
     "text": [
      "C:\\Users\\Administrator\\AppData\\Local\\Temp\\ipykernel_16000\\2984826684.py:101: FutureWarning: The frame.append method is deprecated and will be removed from pandas in a future version. Use pandas.concat instead.\n",
      "  redFlagRecord = redFlagRecord.append(veh, ignore_index=True)\n",
      "C:\\Users\\Administrator\\AppData\\Local\\Temp\\ipykernel_16000\\2984826684.py:101: FutureWarning: The frame.append method is deprecated and will be removed from pandas in a future version. Use pandas.concat instead.\n",
      "  redFlagRecord = redFlagRecord.append(veh, ignore_index=True)\n",
      "C:\\Users\\Administrator\\AppData\\Local\\Temp\\ipykernel_16000\\2984826684.py:101: FutureWarning: The frame.append method is deprecated and will be removed from pandas in a future version. Use pandas.concat instead.\n",
      "  redFlagRecord = redFlagRecord.append(veh, ignore_index=True)\n",
      "C:\\Users\\Administrator\\AppData\\Local\\Temp\\ipykernel_16000\\2984826684.py:101: FutureWarning: The frame.append method is deprecated and will be removed from pandas in a future version. Use pandas.concat instead.\n",
      "  redFlagRecord = redFlagRecord.append(veh, ignore_index=True)\n",
      "C:\\Users\\Administrator\\AppData\\Local\\Temp\\ipykernel_16000\\2984826684.py:101: FutureWarning: The frame.append method is deprecated and will be removed from pandas in a future version. Use pandas.concat instead.\n",
      "  redFlagRecord = redFlagRecord.append(veh, ignore_index=True)\n",
      "C:\\Users\\Administrator\\AppData\\Local\\Temp\\ipykernel_16000\\2984826684.py:101: FutureWarning: The frame.append method is deprecated and will be removed from pandas in a future version. Use pandas.concat instead.\n",
      "  redFlagRecord = redFlagRecord.append(veh, ignore_index=True)\n"
     ]
    },
    {
     "name": "stdout",
     "output_type": "stream",
     "text": [
      "LaneID:28925528_0;Time:730.0;\n",
      "LaneID:28925528_0;Time:738.0;\n",
      "LaneID:28925528_0;Time:739.0;\n",
      "LaneID:28925528_0;Time:740.0;\n",
      "LaneID:28925528_0;Time:741.0;\n",
      "LaneID:28925528_0;Time:742.0;\n",
      "LaneID:28925528_0;Time:743.0;\n",
      "LaneID:28925528_0;Time:744.0;\n",
      "LaneID:28925528_0;Time:745.0;\n",
      "LaneID:28925528_0;Time:746.0;\n",
      "LaneID:28925528_0;Time:747.0;\n",
      "LaneID:28925528_0;Time:748.0;\n",
      "LaneID:28925528_0;Time:749.0;\n",
      "LaneID:28925528_0;Time:750.0;\n",
      "LaneID:28925528_0;Time:751.0;\n"
     ]
    },
    {
     "name": "stderr",
     "output_type": "stream",
     "text": [
      "C:\\Users\\Administrator\\AppData\\Local\\Temp\\ipykernel_16000\\2984826684.py:101: FutureWarning: The frame.append method is deprecated and will be removed from pandas in a future version. Use pandas.concat instead.\n",
      "  redFlagRecord = redFlagRecord.append(veh, ignore_index=True)\n",
      "C:\\Users\\Administrator\\AppData\\Local\\Temp\\ipykernel_16000\\2984826684.py:101: FutureWarning: The frame.append method is deprecated and will be removed from pandas in a future version. Use pandas.concat instead.\n",
      "  redFlagRecord = redFlagRecord.append(veh, ignore_index=True)\n",
      "C:\\Users\\Administrator\\AppData\\Local\\Temp\\ipykernel_16000\\2984826684.py:101: FutureWarning: The frame.append method is deprecated and will be removed from pandas in a future version. Use pandas.concat instead.\n",
      "  redFlagRecord = redFlagRecord.append(veh, ignore_index=True)\n",
      "C:\\Users\\Administrator\\AppData\\Local\\Temp\\ipykernel_16000\\2984826684.py:101: FutureWarning: The frame.append method is deprecated and will be removed from pandas in a future version. Use pandas.concat instead.\n",
      "  redFlagRecord = redFlagRecord.append(veh, ignore_index=True)\n",
      "C:\\Users\\Administrator\\AppData\\Local\\Temp\\ipykernel_16000\\2984826684.py:101: FutureWarning: The frame.append method is deprecated and will be removed from pandas in a future version. Use pandas.concat instead.\n",
      "  redFlagRecord = redFlagRecord.append(veh, ignore_index=True)\n",
      "C:\\Users\\Administrator\\AppData\\Local\\Temp\\ipykernel_16000\\2984826684.py:101: FutureWarning: The frame.append method is deprecated and will be removed from pandas in a future version. Use pandas.concat instead.\n",
      "  redFlagRecord = redFlagRecord.append(veh, ignore_index=True)\n",
      "C:\\Users\\Administrator\\AppData\\Local\\Temp\\ipykernel_16000\\2984826684.py:101: FutureWarning: The frame.append method is deprecated and will be removed from pandas in a future version. Use pandas.concat instead.\n",
      "  redFlagRecord = redFlagRecord.append(veh, ignore_index=True)\n"
     ]
    },
    {
     "name": "stdout",
     "output_type": "stream",
     "text": [
      "LaneID:28925528_0;Time:752.0;\n",
      "LaneID:28925528_0;Time:753.0;\n",
      "LaneID:28925528_0;Time:754.0;\n",
      "LaneID:28925528_0;Time:755.0;\n",
      "LaneID:28925528_0;Time:756.0;\n",
      "LaneID:28925528_0;Time:757.0;\n",
      "LaneID:28925528_0;Time:758.0;\n"
     ]
    },
    {
     "name": "stderr",
     "output_type": "stream",
     "text": [
      "C:\\Users\\Administrator\\AppData\\Local\\Temp\\ipykernel_16000\\2984826684.py:101: FutureWarning: The frame.append method is deprecated and will be removed from pandas in a future version. Use pandas.concat instead.\n",
      "  redFlagRecord = redFlagRecord.append(veh, ignore_index=True)\n",
      "C:\\Users\\Administrator\\AppData\\Local\\Temp\\ipykernel_16000\\2984826684.py:101: FutureWarning: The frame.append method is deprecated and will be removed from pandas in a future version. Use pandas.concat instead.\n",
      "  redFlagRecord = redFlagRecord.append(veh, ignore_index=True)\n",
      "C:\\Users\\Administrator\\AppData\\Local\\Temp\\ipykernel_16000\\2984826684.py:101: FutureWarning: The frame.append method is deprecated and will be removed from pandas in a future version. Use pandas.concat instead.\n",
      "  redFlagRecord = redFlagRecord.append(veh, ignore_index=True)\n",
      "C:\\Users\\Administrator\\AppData\\Local\\Temp\\ipykernel_16000\\2984826684.py:101: FutureWarning: The frame.append method is deprecated and will be removed from pandas in a future version. Use pandas.concat instead.\n",
      "  redFlagRecord = redFlagRecord.append(veh, ignore_index=True)\n",
      "C:\\Users\\Administrator\\AppData\\Local\\Temp\\ipykernel_16000\\2984826684.py:101: FutureWarning: The frame.append method is deprecated and will be removed from pandas in a future version. Use pandas.concat instead.\n",
      "  redFlagRecord = redFlagRecord.append(veh, ignore_index=True)\n",
      "C:\\Users\\Administrator\\AppData\\Local\\Temp\\ipykernel_16000\\2984826684.py:101: FutureWarning: The frame.append method is deprecated and will be removed from pandas in a future version. Use pandas.concat instead.\n",
      "  redFlagRecord = redFlagRecord.append(veh, ignore_index=True)\n"
     ]
    },
    {
     "name": "stdout",
     "output_type": "stream",
     "text": [
      "LaneID:28925528_0;Time:759.0;\n",
      "LaneID:28925528_0;Time:760.0;\n",
      "LaneID:28925528_0;Time:761.0;\n",
      "LaneID:28925528_0;Time:762.0;\n",
      "LaneID:28925528_0;Time:763.0;\n",
      "LaneID:28925528_0;Time:764.0;\n",
      "LaneID:28925528_0;Time:765.0;\n",
      "LaneID:28925528_0;Time:766.0;\n",
      "LaneID:28925528_0;Time:780.0;\n",
      "LaneID:28925528_0;Time:781.0;\n",
      "LaneID:28925528_0;Time:782.0;\n",
      "LaneID:28925528_0;Time:783.0;\n",
      "LaneID:28925528_0;Time:784.0;\n",
      "LaneID:28925528_0;Time:785.0;\n",
      "LaneID:28925528_0;Time:786.0;\n",
      "LaneID:28925528_0;Time:787.0;\n",
      "LaneID:28925528_0;Time:788.0;\n",
      "LaneID:28925528_0;Time:789.0;\n",
      "LaneID:28925528_0;Time:790.0;\n",
      "LaneID:28925528_0;Time:791.0;\n",
      "LaneID:28925528_0;Time:792.0;\n"
     ]
    },
    {
     "name": "stderr",
     "output_type": "stream",
     "text": [
      "C:\\Users\\Administrator\\AppData\\Local\\Temp\\ipykernel_16000\\2984826684.py:101: FutureWarning: The frame.append method is deprecated and will be removed from pandas in a future version. Use pandas.concat instead.\n",
      "  redFlagRecord = redFlagRecord.append(veh, ignore_index=True)\n",
      "C:\\Users\\Administrator\\AppData\\Local\\Temp\\ipykernel_16000\\2984826684.py:101: FutureWarning: The frame.append method is deprecated and will be removed from pandas in a future version. Use pandas.concat instead.\n",
      "  redFlagRecord = redFlagRecord.append(veh, ignore_index=True)\n",
      "C:\\Users\\Administrator\\AppData\\Local\\Temp\\ipykernel_16000\\2984826684.py:101: FutureWarning: The frame.append method is deprecated and will be removed from pandas in a future version. Use pandas.concat instead.\n",
      "  redFlagRecord = redFlagRecord.append(veh, ignore_index=True)\n",
      "C:\\Users\\Administrator\\AppData\\Local\\Temp\\ipykernel_16000\\2984826684.py:101: FutureWarning: The frame.append method is deprecated and will be removed from pandas in a future version. Use pandas.concat instead.\n",
      "  redFlagRecord = redFlagRecord.append(veh, ignore_index=True)\n",
      "C:\\Users\\Administrator\\AppData\\Local\\Temp\\ipykernel_16000\\2984826684.py:101: FutureWarning: The frame.append method is deprecated and will be removed from pandas in a future version. Use pandas.concat instead.\n",
      "  redFlagRecord = redFlagRecord.append(veh, ignore_index=True)\n",
      "C:\\Users\\Administrator\\AppData\\Local\\Temp\\ipykernel_16000\\2984826684.py:101: FutureWarning: The frame.append method is deprecated and will be removed from pandas in a future version. Use pandas.concat instead.\n",
      "  redFlagRecord = redFlagRecord.append(veh, ignore_index=True)\n",
      "C:\\Users\\Administrator\\AppData\\Local\\Temp\\ipykernel_16000\\2984826684.py:101: FutureWarning: The frame.append method is deprecated and will be removed from pandas in a future version. Use pandas.concat instead.\n",
      "  redFlagRecord = redFlagRecord.append(veh, ignore_index=True)\n"
     ]
    },
    {
     "name": "stdout",
     "output_type": "stream",
     "text": [
      "LaneID:28925528_0;Time:802.0;\n",
      "LaneID:28925528_0;Time:803.0;\n",
      "LaneID:28925528_0;Time:804.0;\n",
      "LaneID:28925528_0;Time:805.0;\n",
      "LaneID:28925528_0;Time:806.0;\n",
      "LaneID:28925528_0;Time:807.0;\n",
      "LaneID:28925528_0;Time:808.0;\n",
      "LaneID:28925528_0;Time:809.0;\n",
      "LaneID:28925528_0;Time:810.0;\n",
      "LaneID:28925528_0;Time:811.0;\n",
      "LaneID:28925528_0;Time:812.0;\n",
      "LaneID:28925528_0;Time:813.0;\n",
      "LaneID:28925528_0;Time:814.0;\n",
      "LaneID:28925528_0;Time:815.0;\n",
      "LaneID:28925528_0;Time:816.0;\n",
      "LaneID:28925528_0;Time:817.0;\n"
     ]
    },
    {
     "name": "stderr",
     "output_type": "stream",
     "text": [
      "C:\\Users\\Administrator\\AppData\\Local\\Temp\\ipykernel_16000\\2984826684.py:101: FutureWarning: The frame.append method is deprecated and will be removed from pandas in a future version. Use pandas.concat instead.\n",
      "  redFlagRecord = redFlagRecord.append(veh, ignore_index=True)\n",
      "C:\\Users\\Administrator\\AppData\\Local\\Temp\\ipykernel_16000\\2984826684.py:101: FutureWarning: The frame.append method is deprecated and will be removed from pandas in a future version. Use pandas.concat instead.\n",
      "  redFlagRecord = redFlagRecord.append(veh, ignore_index=True)\n",
      "C:\\Users\\Administrator\\AppData\\Local\\Temp\\ipykernel_16000\\2984826684.py:101: FutureWarning: The frame.append method is deprecated and will be removed from pandas in a future version. Use pandas.concat instead.\n",
      "  redFlagRecord = redFlagRecord.append(veh, ignore_index=True)\n",
      "C:\\Users\\Administrator\\AppData\\Local\\Temp\\ipykernel_16000\\2984826684.py:101: FutureWarning: The frame.append method is deprecated and will be removed from pandas in a future version. Use pandas.concat instead.\n",
      "  redFlagRecord = redFlagRecord.append(veh, ignore_index=True)\n",
      "C:\\Users\\Administrator\\AppData\\Local\\Temp\\ipykernel_16000\\2984826684.py:101: FutureWarning: The frame.append method is deprecated and will be removed from pandas in a future version. Use pandas.concat instead.\n",
      "  redFlagRecord = redFlagRecord.append(veh, ignore_index=True)\n"
     ]
    },
    {
     "name": "stdout",
     "output_type": "stream",
     "text": [
      "LaneID:28925528_0;Time:818.0;\n",
      "LaneID:28925528_0;Time:819.0;\n",
      "LaneID:28925528_0;Time:820.0;\n",
      "LaneID:28925528_0;Time:821.0;\n",
      "LaneID:28925528_0;Time:822.0;\n"
     ]
    },
    {
     "name": "stderr",
     "output_type": "stream",
     "text": [
      "C:\\Users\\Administrator\\AppData\\Local\\Temp\\ipykernel_16000\\2984826684.py:101: FutureWarning: The frame.append method is deprecated and will be removed from pandas in a future version. Use pandas.concat instead.\n",
      "  redFlagRecord = redFlagRecord.append(veh, ignore_index=True)\n",
      "C:\\Users\\Administrator\\AppData\\Local\\Temp\\ipykernel_16000\\2984826684.py:101: FutureWarning: The frame.append method is deprecated and will be removed from pandas in a future version. Use pandas.concat instead.\n",
      "  redFlagRecord = redFlagRecord.append(veh, ignore_index=True)\n",
      "C:\\Users\\Administrator\\AppData\\Local\\Temp\\ipykernel_16000\\2984826684.py:101: FutureWarning: The frame.append method is deprecated and will be removed from pandas in a future version. Use pandas.concat instead.\n",
      "  redFlagRecord = redFlagRecord.append(veh, ignore_index=True)\n",
      "C:\\Users\\Administrator\\AppData\\Local\\Temp\\ipykernel_16000\\2984826684.py:101: FutureWarning: The frame.append method is deprecated and will be removed from pandas in a future version. Use pandas.concat instead.\n",
      "  redFlagRecord = redFlagRecord.append(veh, ignore_index=True)\n",
      "C:\\Users\\Administrator\\AppData\\Local\\Temp\\ipykernel_16000\\2984826684.py:101: FutureWarning: The frame.append method is deprecated and will be removed from pandas in a future version. Use pandas.concat instead.\n",
      "  redFlagRecord = redFlagRecord.append(veh, ignore_index=True)\n"
     ]
    },
    {
     "name": "stdout",
     "output_type": "stream",
     "text": [
      "LaneID:28925528_0;Time:823.0;\n",
      "LaneID:28925528_0;Time:824.0;\n",
      "LaneID:28925528_0;Time:825.0;\n",
      "LaneID:28925528_0;Time:826.0;\n",
      "LaneID:28925528_0;Time:827.0;\n",
      "LaneID:28925528_0;Time:828.0;\n",
      "LaneID:28925528_0;Time:829.0;\n",
      "LaneID:28925528_0;Time:845.0;\n",
      "LaneID:28925528_0;Time:846.0;\n",
      "LaneID:28925528_0;Time:847.0;\n",
      "LaneID:28925528_0;Time:848.0;\n",
      "LaneID:28925528_0;Time:849.0;\n",
      "LaneID:28925528_0;Time:850.0;\n",
      "LaneID:28925528_0;Time:851.0;\n",
      "LaneID:28925528_0;Time:852.0;\n",
      "LaneID:28925528_0;Time:853.0;\n",
      "LaneID:28925528_0;Time:854.0;\n",
      "LaneID:28925528_0;Time:867.0;\n",
      "LaneID:28925528_0;Time:868.0;\n",
      "LaneID:28925528_0;Time:869.0;\n",
      "LaneID:28925528_0;Time:870.0;\n",
      "LaneID:28925528_0;Time:871.0;\n",
      "LaneID:28925528_0;Time:872.0;\n",
      "LaneID:28925528_0;Time:873.0;\n",
      "LaneID:28925528_0;Time:874.0;\n",
      "LaneID:28925528_0;Time:875.0;\n",
      "LaneID:28925528_0;Time:876.0;\n",
      "LaneID:28925528_0;Time:877.0;\n",
      "LaneID:28925528_0;Time:878.0;\n"
     ]
    },
    {
     "name": "stderr",
     "output_type": "stream",
     "text": [
      "C:\\Users\\Administrator\\AppData\\Local\\Temp\\ipykernel_16000\\2984826684.py:101: FutureWarning: The frame.append method is deprecated and will be removed from pandas in a future version. Use pandas.concat instead.\n",
      "  redFlagRecord = redFlagRecord.append(veh, ignore_index=True)\n",
      "C:\\Users\\Administrator\\AppData\\Local\\Temp\\ipykernel_16000\\2984826684.py:101: FutureWarning: The frame.append method is deprecated and will be removed from pandas in a future version. Use pandas.concat instead.\n",
      "  redFlagRecord = redFlagRecord.append(veh, ignore_index=True)\n",
      "C:\\Users\\Administrator\\AppData\\Local\\Temp\\ipykernel_16000\\2984826684.py:101: FutureWarning: The frame.append method is deprecated and will be removed from pandas in a future version. Use pandas.concat instead.\n",
      "  redFlagRecord = redFlagRecord.append(veh, ignore_index=True)\n",
      "C:\\Users\\Administrator\\AppData\\Local\\Temp\\ipykernel_16000\\2984826684.py:101: FutureWarning: The frame.append method is deprecated and will be removed from pandas in a future version. Use pandas.concat instead.\n",
      "  redFlagRecord = redFlagRecord.append(veh, ignore_index=True)\n",
      "C:\\Users\\Administrator\\AppData\\Local\\Temp\\ipykernel_16000\\2984826684.py:101: FutureWarning: The frame.append method is deprecated and will be removed from pandas in a future version. Use pandas.concat instead.\n",
      "  redFlagRecord = redFlagRecord.append(veh, ignore_index=True)\n",
      "C:\\Users\\Administrator\\AppData\\Local\\Temp\\ipykernel_16000\\2984826684.py:101: FutureWarning: The frame.append method is deprecated and will be removed from pandas in a future version. Use pandas.concat instead.\n",
      "  redFlagRecord = redFlagRecord.append(veh, ignore_index=True)\n",
      "C:\\Users\\Administrator\\AppData\\Local\\Temp\\ipykernel_16000\\2984826684.py:101: FutureWarning: The frame.append method is deprecated and will be removed from pandas in a future version. Use pandas.concat instead.\n",
      "  redFlagRecord = redFlagRecord.append(veh, ignore_index=True)\n"
     ]
    },
    {
     "name": "stdout",
     "output_type": "stream",
     "text": [
      "LaneID:28925528_0;Time:879.0;\n",
      "LaneID:28925528_0;Time:880.0;\n",
      "LaneID:28925528_0;Time:881.0;\n",
      "LaneID:28925528_0;Time:882.0;\n",
      "LaneID:28925528_0;Time:883.0;\n",
      "LaneID:28925528_0;Time:884.0;\n",
      "LaneID:28925528_0;Time:885.0;\n"
     ]
    },
    {
     "name": "stderr",
     "output_type": "stream",
     "text": [
      "C:\\Users\\Administrator\\AppData\\Local\\Temp\\ipykernel_16000\\2984826684.py:101: FutureWarning: The frame.append method is deprecated and will be removed from pandas in a future version. Use pandas.concat instead.\n",
      "  redFlagRecord = redFlagRecord.append(veh, ignore_index=True)\n",
      "C:\\Users\\Administrator\\AppData\\Local\\Temp\\ipykernel_16000\\2984826684.py:101: FutureWarning: The frame.append method is deprecated and will be removed from pandas in a future version. Use pandas.concat instead.\n",
      "  redFlagRecord = redFlagRecord.append(veh, ignore_index=True)\n",
      "C:\\Users\\Administrator\\AppData\\Local\\Temp\\ipykernel_16000\\2984826684.py:101: FutureWarning: The frame.append method is deprecated and will be removed from pandas in a future version. Use pandas.concat instead.\n",
      "  redFlagRecord = redFlagRecord.append(veh, ignore_index=True)\n",
      "C:\\Users\\Administrator\\AppData\\Local\\Temp\\ipykernel_16000\\2984826684.py:101: FutureWarning: The frame.append method is deprecated and will be removed from pandas in a future version. Use pandas.concat instead.\n",
      "  redFlagRecord = redFlagRecord.append(veh, ignore_index=True)\n",
      "C:\\Users\\Administrator\\AppData\\Local\\Temp\\ipykernel_16000\\2984826684.py:101: FutureWarning: The frame.append method is deprecated and will be removed from pandas in a future version. Use pandas.concat instead.\n",
      "  redFlagRecord = redFlagRecord.append(veh, ignore_index=True)\n",
      "C:\\Users\\Administrator\\AppData\\Local\\Temp\\ipykernel_16000\\2984826684.py:101: FutureWarning: The frame.append method is deprecated and will be removed from pandas in a future version. Use pandas.concat instead.\n",
      "  redFlagRecord = redFlagRecord.append(veh, ignore_index=True)\n",
      "C:\\Users\\Administrator\\AppData\\Local\\Temp\\ipykernel_16000\\2984826684.py:101: FutureWarning: The frame.append method is deprecated and will be removed from pandas in a future version. Use pandas.concat instead.\n",
      "  redFlagRecord = redFlagRecord.append(veh, ignore_index=True)\n"
     ]
    },
    {
     "name": "stdout",
     "output_type": "stream",
     "text": [
      "LaneID:28925528_0;Time:887.0;\n",
      "LaneID:28925528_0;Time:888.0;\n",
      "LaneID:28925528_0;Time:889.0;\n",
      "LaneID:28925528_0;Time:890.0;\n",
      "LaneID:28925528_0;Time:891.0;\n",
      "LaneID:28925528_0;Time:892.0;\n",
      "LaneID:28925528_0;Time:893.0;\n",
      "LaneID:28925528_0;Time:894.0;\n",
      "LaneID:28925528_0;Time:895.0;\n",
      "LaneID:28925528_0;Time:896.0;\n",
      "LaneID:28925528_0;Time:897.0;\n",
      "LaneID:28925528_0;Time:898.0;\n",
      "LaneID:28925528_0;Time:899.0;\n",
      "LaneID:28925528_0;Time:900.0;\n",
      "LaneID:28925528_0;Time:901.0;\n",
      "LaneID:28925528_0;Time:902.0;\n"
     ]
    },
    {
     "name": "stderr",
     "output_type": "stream",
     "text": [
      "C:\\Users\\Administrator\\AppData\\Local\\Temp\\ipykernel_16000\\2984826684.py:101: FutureWarning: The frame.append method is deprecated and will be removed from pandas in a future version. Use pandas.concat instead.\n",
      "  redFlagRecord = redFlagRecord.append(veh, ignore_index=True)\n",
      "C:\\Users\\Administrator\\AppData\\Local\\Temp\\ipykernel_16000\\2984826684.py:101: FutureWarning: The frame.append method is deprecated and will be removed from pandas in a future version. Use pandas.concat instead.\n",
      "  redFlagRecord = redFlagRecord.append(veh, ignore_index=True)\n",
      "C:\\Users\\Administrator\\AppData\\Local\\Temp\\ipykernel_16000\\2984826684.py:101: FutureWarning: The frame.append method is deprecated and will be removed from pandas in a future version. Use pandas.concat instead.\n",
      "  redFlagRecord = redFlagRecord.append(veh, ignore_index=True)\n",
      "C:\\Users\\Administrator\\AppData\\Local\\Temp\\ipykernel_16000\\2984826684.py:101: FutureWarning: The frame.append method is deprecated and will be removed from pandas in a future version. Use pandas.concat instead.\n",
      "  redFlagRecord = redFlagRecord.append(veh, ignore_index=True)\n",
      "C:\\Users\\Administrator\\AppData\\Local\\Temp\\ipykernel_16000\\2984826684.py:101: FutureWarning: The frame.append method is deprecated and will be removed from pandas in a future version. Use pandas.concat instead.\n",
      "  redFlagRecord = redFlagRecord.append(veh, ignore_index=True)\n",
      "C:\\Users\\Administrator\\AppData\\Local\\Temp\\ipykernel_16000\\2984826684.py:101: FutureWarning: The frame.append method is deprecated and will be removed from pandas in a future version. Use pandas.concat instead.\n",
      "  redFlagRecord = redFlagRecord.append(veh, ignore_index=True)\n"
     ]
    },
    {
     "name": "stdout",
     "output_type": "stream",
     "text": [
      "LaneID:28925528_0;Time:903.0;\n",
      "LaneID:28925528_0;Time:904.0;\n",
      "LaneID:28925528_0;Time:905.0;\n",
      "LaneID:28925528_0;Time:906.0;\n",
      "LaneID:28925528_0;Time:907.0;\n",
      "LaneID:28925528_0;Time:908.0;\n"
     ]
    },
    {
     "name": "stderr",
     "output_type": "stream",
     "text": [
      "C:\\Users\\Administrator\\AppData\\Local\\Temp\\ipykernel_16000\\2984826684.py:101: FutureWarning: The frame.append method is deprecated and will be removed from pandas in a future version. Use pandas.concat instead.\n",
      "  redFlagRecord = redFlagRecord.append(veh, ignore_index=True)\n",
      "C:\\Users\\Administrator\\AppData\\Local\\Temp\\ipykernel_16000\\2984826684.py:101: FutureWarning: The frame.append method is deprecated and will be removed from pandas in a future version. Use pandas.concat instead.\n",
      "  redFlagRecord = redFlagRecord.append(veh, ignore_index=True)\n",
      "C:\\Users\\Administrator\\AppData\\Local\\Temp\\ipykernel_16000\\2984826684.py:101: FutureWarning: The frame.append method is deprecated and will be removed from pandas in a future version. Use pandas.concat instead.\n",
      "  redFlagRecord = redFlagRecord.append(veh, ignore_index=True)\n",
      "C:\\Users\\Administrator\\AppData\\Local\\Temp\\ipykernel_16000\\2984826684.py:101: FutureWarning: The frame.append method is deprecated and will be removed from pandas in a future version. Use pandas.concat instead.\n",
      "  redFlagRecord = redFlagRecord.append(veh, ignore_index=True)\n",
      "C:\\Users\\Administrator\\AppData\\Local\\Temp\\ipykernel_16000\\2984826684.py:101: FutureWarning: The frame.append method is deprecated and will be removed from pandas in a future version. Use pandas.concat instead.\n",
      "  redFlagRecord = redFlagRecord.append(veh, ignore_index=True)\n",
      "C:\\Users\\Administrator\\AppData\\Local\\Temp\\ipykernel_16000\\2984826684.py:101: FutureWarning: The frame.append method is deprecated and will be removed from pandas in a future version. Use pandas.concat instead.\n",
      "  redFlagRecord = redFlagRecord.append(veh, ignore_index=True)\n",
      "C:\\Users\\Administrator\\AppData\\Local\\Temp\\ipykernel_16000\\2984826684.py:101: FutureWarning: The frame.append method is deprecated and will be removed from pandas in a future version. Use pandas.concat instead.\n",
      "  redFlagRecord = redFlagRecord.append(veh, ignore_index=True)\n"
     ]
    },
    {
     "name": "stdout",
     "output_type": "stream",
     "text": [
      "LaneID:28925528_0;Time:909.0;\n",
      "LaneID:28925528_0;Time:910.0;\n",
      "LaneID:28925528_0;Time:911.0;\n",
      "LaneID:28925528_0;Time:912.0;\n",
      "LaneID:28925528_0;Time:913.0;\n",
      "LaneID:28925528_0;Time:914.0;\n",
      "LaneID:28925528_0;Time:915.0;\n"
     ]
    },
    {
     "name": "stderr",
     "output_type": "stream",
     "text": [
      "C:\\Users\\Administrator\\AppData\\Local\\Temp\\ipykernel_16000\\2984826684.py:101: FutureWarning: The frame.append method is deprecated and will be removed from pandas in a future version. Use pandas.concat instead.\n",
      "  redFlagRecord = redFlagRecord.append(veh, ignore_index=True)\n",
      "C:\\Users\\Administrator\\AppData\\Local\\Temp\\ipykernel_16000\\2984826684.py:101: FutureWarning: The frame.append method is deprecated and will be removed from pandas in a future version. Use pandas.concat instead.\n",
      "  redFlagRecord = redFlagRecord.append(veh, ignore_index=True)\n",
      "C:\\Users\\Administrator\\AppData\\Local\\Temp\\ipykernel_16000\\2984826684.py:101: FutureWarning: The frame.append method is deprecated and will be removed from pandas in a future version. Use pandas.concat instead.\n",
      "  redFlagRecord = redFlagRecord.append(veh, ignore_index=True)\n",
      "C:\\Users\\Administrator\\AppData\\Local\\Temp\\ipykernel_16000\\2984826684.py:101: FutureWarning: The frame.append method is deprecated and will be removed from pandas in a future version. Use pandas.concat instead.\n",
      "  redFlagRecord = redFlagRecord.append(veh, ignore_index=True)\n",
      "C:\\Users\\Administrator\\AppData\\Local\\Temp\\ipykernel_16000\\2984826684.py:101: FutureWarning: The frame.append method is deprecated and will be removed from pandas in a future version. Use pandas.concat instead.\n",
      "  redFlagRecord = redFlagRecord.append(veh, ignore_index=True)\n",
      "C:\\Users\\Administrator\\AppData\\Local\\Temp\\ipykernel_16000\\2984826684.py:101: FutureWarning: The frame.append method is deprecated and will be removed from pandas in a future version. Use pandas.concat instead.\n",
      "  redFlagRecord = redFlagRecord.append(veh, ignore_index=True)\n"
     ]
    },
    {
     "name": "stdout",
     "output_type": "stream",
     "text": [
      "LaneID:28925528_0;Time:916.0;\n",
      "LaneID:28925528_0;Time:917.0;\n",
      "LaneID:28925528_0;Time:918.0;\n",
      "LaneID:28925528_0;Time:919.0;\n",
      "LaneID:28925528_0;Time:926.0;\n",
      "LaneID:28925528_0;Time:927.0;\n",
      "LaneID:28925528_0;Time:928.0;\n",
      "LaneID:28925528_0;Time:929.0;\n",
      "LaneID:28925528_0;Time:930.0;\n",
      "LaneID:28925528_0;Time:931.0;\n",
      "LaneID:28925528_0;Time:932.0;\n",
      "LaneID:28925528_0;Time:933.0;\n",
      "LaneID:28925528_0;Time:934.0;\n",
      "LaneID:28925528_0;Time:935.0;\n",
      "LaneID:28925528_0;Time:936.0;\n",
      "LaneID:28925528_0;Time:937.0;\n",
      "LaneID:28925528_0;Time:938.0;\n",
      "LaneID:28925528_0;Time:939.0;\n"
     ]
    },
    {
     "name": "stderr",
     "output_type": "stream",
     "text": [
      "C:\\Users\\Administrator\\AppData\\Local\\Temp\\ipykernel_16000\\2984826684.py:101: FutureWarning: The frame.append method is deprecated and will be removed from pandas in a future version. Use pandas.concat instead.\n",
      "  redFlagRecord = redFlagRecord.append(veh, ignore_index=True)\n",
      "C:\\Users\\Administrator\\AppData\\Local\\Temp\\ipykernel_16000\\2984826684.py:101: FutureWarning: The frame.append method is deprecated and will be removed from pandas in a future version. Use pandas.concat instead.\n",
      "  redFlagRecord = redFlagRecord.append(veh, ignore_index=True)\n",
      "C:\\Users\\Administrator\\AppData\\Local\\Temp\\ipykernel_16000\\2984826684.py:101: FutureWarning: The frame.append method is deprecated and will be removed from pandas in a future version. Use pandas.concat instead.\n",
      "  redFlagRecord = redFlagRecord.append(veh, ignore_index=True)\n",
      "C:\\Users\\Administrator\\AppData\\Local\\Temp\\ipykernel_16000\\2984826684.py:101: FutureWarning: The frame.append method is deprecated and will be removed from pandas in a future version. Use pandas.concat instead.\n",
      "  redFlagRecord = redFlagRecord.append(veh, ignore_index=True)\n",
      "C:\\Users\\Administrator\\AppData\\Local\\Temp\\ipykernel_16000\\2984826684.py:101: FutureWarning: The frame.append method is deprecated and will be removed from pandas in a future version. Use pandas.concat instead.\n",
      "  redFlagRecord = redFlagRecord.append(veh, ignore_index=True)\n",
      "C:\\Users\\Administrator\\AppData\\Local\\Temp\\ipykernel_16000\\2984826684.py:101: FutureWarning: The frame.append method is deprecated and will be removed from pandas in a future version. Use pandas.concat instead.\n",
      "  redFlagRecord = redFlagRecord.append(veh, ignore_index=True)\n",
      "C:\\Users\\Administrator\\AppData\\Local\\Temp\\ipykernel_16000\\2984826684.py:101: FutureWarning: The frame.append method is deprecated and will be removed from pandas in a future version. Use pandas.concat instead.\n",
      "  redFlagRecord = redFlagRecord.append(veh, ignore_index=True)\n"
     ]
    },
    {
     "name": "stdout",
     "output_type": "stream",
     "text": [
      "LaneID:28925528_0;Time:940.0;\n",
      "LaneID:28925528_0;Time:941.0;\n",
      "LaneID:28925528_0;Time:942.0;\n",
      "LaneID:28925528_0;Time:943.0;\n",
      "LaneID:28925528_0;Time:944.0;\n",
      "LaneID:28925528_0;Time:945.0;\n",
      "LaneID:28925528_0;Time:946.0;\n"
     ]
    },
    {
     "name": "stderr",
     "output_type": "stream",
     "text": [
      "C:\\Users\\Administrator\\AppData\\Local\\Temp\\ipykernel_16000\\2984826684.py:101: FutureWarning: The frame.append method is deprecated and will be removed from pandas in a future version. Use pandas.concat instead.\n",
      "  redFlagRecord = redFlagRecord.append(veh, ignore_index=True)\n",
      "C:\\Users\\Administrator\\AppData\\Local\\Temp\\ipykernel_16000\\2984826684.py:101: FutureWarning: The frame.append method is deprecated and will be removed from pandas in a future version. Use pandas.concat instead.\n",
      "  redFlagRecord = redFlagRecord.append(veh, ignore_index=True)\n",
      "C:\\Users\\Administrator\\AppData\\Local\\Temp\\ipykernel_16000\\2984826684.py:101: FutureWarning: The frame.append method is deprecated and will be removed from pandas in a future version. Use pandas.concat instead.\n",
      "  redFlagRecord = redFlagRecord.append(veh, ignore_index=True)\n",
      "C:\\Users\\Administrator\\AppData\\Local\\Temp\\ipykernel_16000\\2984826684.py:101: FutureWarning: The frame.append method is deprecated and will be removed from pandas in a future version. Use pandas.concat instead.\n",
      "  redFlagRecord = redFlagRecord.append(veh, ignore_index=True)\n",
      "C:\\Users\\Administrator\\AppData\\Local\\Temp\\ipykernel_16000\\2984826684.py:101: FutureWarning: The frame.append method is deprecated and will be removed from pandas in a future version. Use pandas.concat instead.\n",
      "  redFlagRecord = redFlagRecord.append(veh, ignore_index=True)\n",
      "C:\\Users\\Administrator\\AppData\\Local\\Temp\\ipykernel_16000\\2984826684.py:101: FutureWarning: The frame.append method is deprecated and will be removed from pandas in a future version. Use pandas.concat instead.\n",
      "  redFlagRecord = redFlagRecord.append(veh, ignore_index=True)\n"
     ]
    },
    {
     "name": "stdout",
     "output_type": "stream",
     "text": [
      "LaneID:28925528_0;Time:947.0;\n",
      "LaneID:28925528_0;Time:948.0;\n",
      "LaneID:28925528_0;Time:949.0;\n",
      "LaneID:28925528_0;Time:950.0;\n",
      "LaneID:28925528_0;Time:951.0;\n",
      "LaneID:28925528_0;Time:952.0;\n",
      "LaneID:28925528_0;Time:953.0;\n",
      "LaneID:28925528_0;Time:954.0;\n",
      "LaneID:28925528_0;Time:955.0;\n",
      "LaneID:28925528_0;Time:956.0;\n",
      "LaneID:28925528_0;Time:957.0;\n",
      "LaneID:28925528_0;Time:958.0;\n",
      "LaneID:28925528_0;Time:959.0;\n",
      "LaneID:28925528_0;Time:960.0;\n",
      "LaneID:28925528_0;Time:961.0;\n",
      "LaneID:28925528_0;Time:962.0;\n",
      "LaneID:28925528_0;Time:963.0;\n"
     ]
    },
    {
     "name": "stderr",
     "output_type": "stream",
     "text": [
      "C:\\Users\\Administrator\\AppData\\Local\\Temp\\ipykernel_16000\\2984826684.py:101: FutureWarning: The frame.append method is deprecated and will be removed from pandas in a future version. Use pandas.concat instead.\n",
      "  redFlagRecord = redFlagRecord.append(veh, ignore_index=True)\n",
      "C:\\Users\\Administrator\\AppData\\Local\\Temp\\ipykernel_16000\\2984826684.py:101: FutureWarning: The frame.append method is deprecated and will be removed from pandas in a future version. Use pandas.concat instead.\n",
      "  redFlagRecord = redFlagRecord.append(veh, ignore_index=True)\n",
      "C:\\Users\\Administrator\\AppData\\Local\\Temp\\ipykernel_16000\\2984826684.py:101: FutureWarning: The frame.append method is deprecated and will be removed from pandas in a future version. Use pandas.concat instead.\n",
      "  redFlagRecord = redFlagRecord.append(veh, ignore_index=True)\n",
      "C:\\Users\\Administrator\\AppData\\Local\\Temp\\ipykernel_16000\\2984826684.py:101: FutureWarning: The frame.append method is deprecated and will be removed from pandas in a future version. Use pandas.concat instead.\n",
      "  redFlagRecord = redFlagRecord.append(veh, ignore_index=True)\n",
      "C:\\Users\\Administrator\\AppData\\Local\\Temp\\ipykernel_16000\\2984826684.py:101: FutureWarning: The frame.append method is deprecated and will be removed from pandas in a future version. Use pandas.concat instead.\n",
      "  redFlagRecord = redFlagRecord.append(veh, ignore_index=True)\n",
      "C:\\Users\\Administrator\\AppData\\Local\\Temp\\ipykernel_16000\\2984826684.py:101: FutureWarning: The frame.append method is deprecated and will be removed from pandas in a future version. Use pandas.concat instead.\n",
      "  redFlagRecord = redFlagRecord.append(veh, ignore_index=True)\n",
      "C:\\Users\\Administrator\\AppData\\Local\\Temp\\ipykernel_16000\\2984826684.py:101: FutureWarning: The frame.append method is deprecated and will be removed from pandas in a future version. Use pandas.concat instead.\n",
      "  redFlagRecord = redFlagRecord.append(veh, ignore_index=True)\n"
     ]
    },
    {
     "name": "stdout",
     "output_type": "stream",
     "text": [
      "LaneID:28925528_0;Time:964.0;\n",
      "LaneID:28925528_0;Time:965.0;\n",
      "LaneID:28925528_0;Time:966.0;\n",
      "LaneID:28925528_0;Time:967.0;\n",
      "LaneID:28925528_0;Time:968.0;\n",
      "LaneID:28925528_0;Time:969.0;\n",
      "LaneID:28925528_0;Time:970.0;\n"
     ]
    },
    {
     "name": "stderr",
     "output_type": "stream",
     "text": [
      "C:\\Users\\Administrator\\AppData\\Local\\Temp\\ipykernel_16000\\2984826684.py:101: FutureWarning: The frame.append method is deprecated and will be removed from pandas in a future version. Use pandas.concat instead.\n",
      "  redFlagRecord = redFlagRecord.append(veh, ignore_index=True)\n",
      "C:\\Users\\Administrator\\AppData\\Local\\Temp\\ipykernel_16000\\2984826684.py:101: FutureWarning: The frame.append method is deprecated and will be removed from pandas in a future version. Use pandas.concat instead.\n",
      "  redFlagRecord = redFlagRecord.append(veh, ignore_index=True)\n",
      "C:\\Users\\Administrator\\AppData\\Local\\Temp\\ipykernel_16000\\2984826684.py:101: FutureWarning: The frame.append method is deprecated and will be removed from pandas in a future version. Use pandas.concat instead.\n",
      "  redFlagRecord = redFlagRecord.append(veh, ignore_index=True)\n",
      "C:\\Users\\Administrator\\AppData\\Local\\Temp\\ipykernel_16000\\2984826684.py:101: FutureWarning: The frame.append method is deprecated and will be removed from pandas in a future version. Use pandas.concat instead.\n",
      "  redFlagRecord = redFlagRecord.append(veh, ignore_index=True)\n",
      "C:\\Users\\Administrator\\AppData\\Local\\Temp\\ipykernel_16000\\2984826684.py:101: FutureWarning: The frame.append method is deprecated and will be removed from pandas in a future version. Use pandas.concat instead.\n",
      "  redFlagRecord = redFlagRecord.append(veh, ignore_index=True)\n",
      "C:\\Users\\Administrator\\AppData\\Local\\Temp\\ipykernel_16000\\2984826684.py:101: FutureWarning: The frame.append method is deprecated and will be removed from pandas in a future version. Use pandas.concat instead.\n",
      "  redFlagRecord = redFlagRecord.append(veh, ignore_index=True)\n",
      "C:\\Users\\Administrator\\AppData\\Local\\Temp\\ipykernel_16000\\2984826684.py:101: FutureWarning: The frame.append method is deprecated and will be removed from pandas in a future version. Use pandas.concat instead.\n",
      "  redFlagRecord = redFlagRecord.append(veh, ignore_index=True)\n"
     ]
    },
    {
     "name": "stdout",
     "output_type": "stream",
     "text": [
      "LaneID:28925528_0;Time:971.0;\n",
      "LaneID:28925528_0;Time:972.0;\n",
      "LaneID:28925528_0;Time:973.0;\n",
      "LaneID:28925528_0;Time:974.0;\n",
      "LaneID:28925528_0;Time:975.0;\n",
      "LaneID:28925528_0;Time:976.0;\n",
      "LaneID:28925528_0;Time:977.0;\n",
      "LaneID:28925528_0;Time:978.0;\n",
      "LaneID:28925528_0;Time:979.0;\n",
      "LaneID:28925528_0;Time:980.0;\n",
      "LaneID:28925528_0;Time:981.0;\n",
      "LaneID:28925528_0;Time:982.0;\n",
      "LaneID:28925528_0;Time:983.0;\n",
      "LaneID:28925528_0;Time:984.0;\n",
      "LaneID:28925528_0;Time:985.0;\n",
      "LaneID:28925528_0;Time:998.0;\n",
      "LaneID:28925528_0;Time:999.0;\n",
      "LaneID:28925528_0;Time:1000.0;\n",
      "LaneID:28925528_0;Time:1001.0;\n",
      "LaneID:28925528_0;Time:1002.0;\n",
      "LaneID:28925528_0;Time:1003.0;\n",
      "LaneID:28925528_0;Time:1004.0;\n",
      "LaneID:28925528_0;Time:1005.0;\n",
      "LaneID:28925528_0;Time:1006.0;\n",
      "LaneID:28925528_0;Time:1007.0;\n",
      "LaneID:28925528_0;Time:1008.0;\n",
      "LaneID:28925528_0;Time:1009.0;\n",
      "LaneID:28925528_0;Time:1018.0;\n",
      "LaneID:28925528_0;Time:1019.0;\n",
      "LaneID:28925528_0;Time:1020.0;\n",
      "LaneID:28925528_0;Time:1021.0;\n",
      "LaneID:28925528_0;Time:1022.0;\n",
      "LaneID:28925528_0;Time:1023.0;\n",
      "LaneID:28925528_0;Time:1024.0;\n",
      "LaneID:28925528_0;Time:1025.0;\n",
      "LaneID:28925528_0;Time:1026.0;\n",
      "LaneID:28925528_0;Time:1027.0;\n"
     ]
    },
    {
     "name": "stderr",
     "output_type": "stream",
     "text": [
      "C:\\Users\\Administrator\\AppData\\Local\\Temp\\ipykernel_16000\\2984826684.py:101: FutureWarning: The frame.append method is deprecated and will be removed from pandas in a future version. Use pandas.concat instead.\n",
      "  redFlagRecord = redFlagRecord.append(veh, ignore_index=True)\n",
      "C:\\Users\\Administrator\\AppData\\Local\\Temp\\ipykernel_16000\\2984826684.py:101: FutureWarning: The frame.append method is deprecated and will be removed from pandas in a future version. Use pandas.concat instead.\n",
      "  redFlagRecord = redFlagRecord.append(veh, ignore_index=True)\n",
      "C:\\Users\\Administrator\\AppData\\Local\\Temp\\ipykernel_16000\\2984826684.py:101: FutureWarning: The frame.append method is deprecated and will be removed from pandas in a future version. Use pandas.concat instead.\n",
      "  redFlagRecord = redFlagRecord.append(veh, ignore_index=True)\n",
      "C:\\Users\\Administrator\\AppData\\Local\\Temp\\ipykernel_16000\\2984826684.py:101: FutureWarning: The frame.append method is deprecated and will be removed from pandas in a future version. Use pandas.concat instead.\n",
      "  redFlagRecord = redFlagRecord.append(veh, ignore_index=True)\n",
      "C:\\Users\\Administrator\\AppData\\Local\\Temp\\ipykernel_16000\\2984826684.py:101: FutureWarning: The frame.append method is deprecated and will be removed from pandas in a future version. Use pandas.concat instead.\n",
      "  redFlagRecord = redFlagRecord.append(veh, ignore_index=True)\n",
      "C:\\Users\\Administrator\\AppData\\Local\\Temp\\ipykernel_16000\\2984826684.py:101: FutureWarning: The frame.append method is deprecated and will be removed from pandas in a future version. Use pandas.concat instead.\n",
      "  redFlagRecord = redFlagRecord.append(veh, ignore_index=True)\n"
     ]
    },
    {
     "name": "stdout",
     "output_type": "stream",
     "text": [
      "LaneID:28925528_0;Time:1028.0;\n",
      "LaneID:28925528_0;Time:1029.0;\n",
      "LaneID:28925528_0;Time:1030.0;\n",
      "LaneID:28925528_0;Time:1031.0;\n",
      "LaneID:28925528_0;Time:1032.0;\n",
      "LaneID:28925528_0;Time:1033.0;\n",
      "LaneID:28925528_0;Time:1034.0;\n"
     ]
    },
    {
     "name": "stderr",
     "output_type": "stream",
     "text": [
      "C:\\Users\\Administrator\\AppData\\Local\\Temp\\ipykernel_16000\\2984826684.py:101: FutureWarning: The frame.append method is deprecated and will be removed from pandas in a future version. Use pandas.concat instead.\n",
      "  redFlagRecord = redFlagRecord.append(veh, ignore_index=True)\n",
      "C:\\Users\\Administrator\\AppData\\Local\\Temp\\ipykernel_16000\\2984826684.py:101: FutureWarning: The frame.append method is deprecated and will be removed from pandas in a future version. Use pandas.concat instead.\n",
      "  redFlagRecord = redFlagRecord.append(veh, ignore_index=True)\n",
      "C:\\Users\\Administrator\\AppData\\Local\\Temp\\ipykernel_16000\\2984826684.py:101: FutureWarning: The frame.append method is deprecated and will be removed from pandas in a future version. Use pandas.concat instead.\n",
      "  redFlagRecord = redFlagRecord.append(veh, ignore_index=True)\n",
      "C:\\Users\\Administrator\\AppData\\Local\\Temp\\ipykernel_16000\\2984826684.py:101: FutureWarning: The frame.append method is deprecated and will be removed from pandas in a future version. Use pandas.concat instead.\n",
      "  redFlagRecord = redFlagRecord.append(veh, ignore_index=True)\n",
      "C:\\Users\\Administrator\\AppData\\Local\\Temp\\ipykernel_16000\\2984826684.py:101: FutureWarning: The frame.append method is deprecated and will be removed from pandas in a future version. Use pandas.concat instead.\n",
      "  redFlagRecord = redFlagRecord.append(veh, ignore_index=True)\n",
      "C:\\Users\\Administrator\\AppData\\Local\\Temp\\ipykernel_16000\\2984826684.py:101: FutureWarning: The frame.append method is deprecated and will be removed from pandas in a future version. Use pandas.concat instead.\n",
      "  redFlagRecord = redFlagRecord.append(veh, ignore_index=True)\n",
      "C:\\Users\\Administrator\\AppData\\Local\\Temp\\ipykernel_16000\\2984826684.py:101: FutureWarning: The frame.append method is deprecated and will be removed from pandas in a future version. Use pandas.concat instead.\n",
      "  redFlagRecord = redFlagRecord.append(veh, ignore_index=True)\n"
     ]
    },
    {
     "name": "stdout",
     "output_type": "stream",
     "text": [
      "LaneID:28925528_0;Time:1035.0;\n",
      "LaneID:28925528_0;Time:1036.0;\n",
      "LaneID:28925528_0;Time:1037.0;\n",
      "LaneID:28925528_0;Time:1038.0;\n",
      "LaneID:28925528_0;Time:1039.0;\n",
      "LaneID:28925528_0;Time:1040.0;\n",
      "LaneID:28925528_0;Time:1041.0;\n",
      "LaneID:28925528_0;Time:1042.0;\n",
      "LaneID:28925528_0;Time:1043.0;\n",
      "LaneID:28925528_0;Time:1056.0;\n",
      "LaneID:28925528_0;Time:1057.0;\n",
      "LaneID:28925528_0;Time:1058.0;\n",
      "LaneID:28925528_0;Time:1059.0;\n",
      "LaneID:28925528_0;Time:1060.0;\n",
      "LaneID:28925528_0;Time:1061.0;\n",
      "LaneID:28925528_0;Time:1068.0;\n"
     ]
    },
    {
     "name": "stderr",
     "output_type": "stream",
     "text": [
      "C:\\Users\\Administrator\\AppData\\Local\\Temp\\ipykernel_16000\\2984826684.py:101: FutureWarning: The frame.append method is deprecated and will be removed from pandas in a future version. Use pandas.concat instead.\n",
      "  redFlagRecord = redFlagRecord.append(veh, ignore_index=True)\n",
      "C:\\Users\\Administrator\\AppData\\Local\\Temp\\ipykernel_16000\\2984826684.py:101: FutureWarning: The frame.append method is deprecated and will be removed from pandas in a future version. Use pandas.concat instead.\n",
      "  redFlagRecord = redFlagRecord.append(veh, ignore_index=True)\n",
      "C:\\Users\\Administrator\\AppData\\Local\\Temp\\ipykernel_16000\\2984826684.py:101: FutureWarning: The frame.append method is deprecated and will be removed from pandas in a future version. Use pandas.concat instead.\n",
      "  redFlagRecord = redFlagRecord.append(veh, ignore_index=True)\n",
      "C:\\Users\\Administrator\\AppData\\Local\\Temp\\ipykernel_16000\\2984826684.py:101: FutureWarning: The frame.append method is deprecated and will be removed from pandas in a future version. Use pandas.concat instead.\n",
      "  redFlagRecord = redFlagRecord.append(veh, ignore_index=True)\n",
      "C:\\Users\\Administrator\\AppData\\Local\\Temp\\ipykernel_16000\\2984826684.py:101: FutureWarning: The frame.append method is deprecated and will be removed from pandas in a future version. Use pandas.concat instead.\n",
      "  redFlagRecord = redFlagRecord.append(veh, ignore_index=True)\n",
      "C:\\Users\\Administrator\\AppData\\Local\\Temp\\ipykernel_16000\\2984826684.py:101: FutureWarning: The frame.append method is deprecated and will be removed from pandas in a future version. Use pandas.concat instead.\n",
      "  redFlagRecord = redFlagRecord.append(veh, ignore_index=True)\n",
      "C:\\Users\\Administrator\\AppData\\Local\\Temp\\ipykernel_16000\\2984826684.py:101: FutureWarning: The frame.append method is deprecated and will be removed from pandas in a future version. Use pandas.concat instead.\n",
      "  redFlagRecord = redFlagRecord.append(veh, ignore_index=True)\n"
     ]
    },
    {
     "name": "stdout",
     "output_type": "stream",
     "text": [
      "LaneID:28925528_0;Time:1069.0;\n",
      "LaneID:28925528_0;Time:1070.0;\n",
      "LaneID:28925528_0;Time:1071.0;\n",
      "LaneID:28925528_0;Time:1075.0;\n",
      "LaneID:28925528_0;Time:1076.0;\n",
      "LaneID:28925528_0;Time:1077.0;\n",
      "LaneID:28925528_0;Time:1078.0;\n",
      "LaneID:28925528_0;Time:1079.0;\n",
      "LaneID:28925528_0;Time:1080.0;\n",
      "LaneID:28925528_0;Time:1081.0;\n",
      "LaneID:28925528_0;Time:1082.0;\n",
      "LaneID:28925528_0;Time:1083.0;\n",
      "LaneID:28925528_0;Time:1084.0;\n",
      "LaneID:28925528_0;Time:1085.0;\n",
      "LaneID:28925528_0;Time:1086.0;\n"
     ]
    },
    {
     "name": "stderr",
     "output_type": "stream",
     "text": [
      "C:\\Users\\Administrator\\AppData\\Local\\Temp\\ipykernel_16000\\2984826684.py:101: FutureWarning: The frame.append method is deprecated and will be removed from pandas in a future version. Use pandas.concat instead.\n",
      "  redFlagRecord = redFlagRecord.append(veh, ignore_index=True)\n",
      "C:\\Users\\Administrator\\AppData\\Local\\Temp\\ipykernel_16000\\2984826684.py:101: FutureWarning: The frame.append method is deprecated and will be removed from pandas in a future version. Use pandas.concat instead.\n",
      "  redFlagRecord = redFlagRecord.append(veh, ignore_index=True)\n",
      "C:\\Users\\Administrator\\AppData\\Local\\Temp\\ipykernel_16000\\2984826684.py:101: FutureWarning: The frame.append method is deprecated and will be removed from pandas in a future version. Use pandas.concat instead.\n",
      "  redFlagRecord = redFlagRecord.append(veh, ignore_index=True)\n",
      "C:\\Users\\Administrator\\AppData\\Local\\Temp\\ipykernel_16000\\2984826684.py:101: FutureWarning: The frame.append method is deprecated and will be removed from pandas in a future version. Use pandas.concat instead.\n",
      "  redFlagRecord = redFlagRecord.append(veh, ignore_index=True)\n",
      "C:\\Users\\Administrator\\AppData\\Local\\Temp\\ipykernel_16000\\2984826684.py:101: FutureWarning: The frame.append method is deprecated and will be removed from pandas in a future version. Use pandas.concat instead.\n",
      "  redFlagRecord = redFlagRecord.append(veh, ignore_index=True)\n",
      "C:\\Users\\Administrator\\AppData\\Local\\Temp\\ipykernel_16000\\2984826684.py:101: FutureWarning: The frame.append method is deprecated and will be removed from pandas in a future version. Use pandas.concat instead.\n",
      "  redFlagRecord = redFlagRecord.append(veh, ignore_index=True)\n"
     ]
    },
    {
     "name": "stdout",
     "output_type": "stream",
     "text": [
      "LaneID:28925528_0;Time:1087.0;\n",
      "LaneID:28925528_0;Time:1088.0;\n",
      "LaneID:28925528_0;Time:1089.0;\n",
      "LaneID:28925528_0;Time:1090.0;\n",
      "LaneID:28925528_0;Time:1091.0;\n",
      "LaneID:28925528_0;Time:1092.0;\n",
      "LaneID:28925528_0;Time:1093.0;\n"
     ]
    },
    {
     "name": "stderr",
     "output_type": "stream",
     "text": [
      "C:\\Users\\Administrator\\AppData\\Local\\Temp\\ipykernel_16000\\2984826684.py:101: FutureWarning: The frame.append method is deprecated and will be removed from pandas in a future version. Use pandas.concat instead.\n",
      "  redFlagRecord = redFlagRecord.append(veh, ignore_index=True)\n",
      "C:\\Users\\Administrator\\AppData\\Local\\Temp\\ipykernel_16000\\2984826684.py:101: FutureWarning: The frame.append method is deprecated and will be removed from pandas in a future version. Use pandas.concat instead.\n",
      "  redFlagRecord = redFlagRecord.append(veh, ignore_index=True)\n",
      "C:\\Users\\Administrator\\AppData\\Local\\Temp\\ipykernel_16000\\2984826684.py:101: FutureWarning: The frame.append method is deprecated and will be removed from pandas in a future version. Use pandas.concat instead.\n",
      "  redFlagRecord = redFlagRecord.append(veh, ignore_index=True)\n",
      "C:\\Users\\Administrator\\AppData\\Local\\Temp\\ipykernel_16000\\2984826684.py:101: FutureWarning: The frame.append method is deprecated and will be removed from pandas in a future version. Use pandas.concat instead.\n",
      "  redFlagRecord = redFlagRecord.append(veh, ignore_index=True)\n",
      "C:\\Users\\Administrator\\AppData\\Local\\Temp\\ipykernel_16000\\2984826684.py:101: FutureWarning: The frame.append method is deprecated and will be removed from pandas in a future version. Use pandas.concat instead.\n",
      "  redFlagRecord = redFlagRecord.append(veh, ignore_index=True)\n",
      "C:\\Users\\Administrator\\AppData\\Local\\Temp\\ipykernel_16000\\2984826684.py:101: FutureWarning: The frame.append method is deprecated and will be removed from pandas in a future version. Use pandas.concat instead.\n",
      "  redFlagRecord = redFlagRecord.append(veh, ignore_index=True)\n",
      "C:\\Users\\Administrator\\AppData\\Local\\Temp\\ipykernel_16000\\2984826684.py:101: FutureWarning: The frame.append method is deprecated and will be removed from pandas in a future version. Use pandas.concat instead.\n",
      "  redFlagRecord = redFlagRecord.append(veh, ignore_index=True)\n"
     ]
    },
    {
     "name": "stdout",
     "output_type": "stream",
     "text": [
      "LaneID:28925528_0;Time:1094.0;\n",
      "LaneID:28925528_0;Time:1095.0;\n",
      "LaneID:28925528_0;Time:1096.0;\n",
      "LaneID:28925528_0;Time:1097.0;\n",
      "LaneID:28925528_0;Time:1098.0;\n",
      "LaneID:28925528_0;Time:1099.0;\n"
     ]
    },
    {
     "name": "stderr",
     "output_type": "stream",
     "text": [
      "C:\\Users\\Administrator\\AppData\\Local\\Temp\\ipykernel_16000\\2984826684.py:101: FutureWarning: The frame.append method is deprecated and will be removed from pandas in a future version. Use pandas.concat instead.\n",
      "  redFlagRecord = redFlagRecord.append(veh, ignore_index=True)\n",
      "C:\\Users\\Administrator\\AppData\\Local\\Temp\\ipykernel_16000\\2984826684.py:101: FutureWarning: The frame.append method is deprecated and will be removed from pandas in a future version. Use pandas.concat instead.\n",
      "  redFlagRecord = redFlagRecord.append(veh, ignore_index=True)\n",
      "C:\\Users\\Administrator\\AppData\\Local\\Temp\\ipykernel_16000\\2984826684.py:101: FutureWarning: The frame.append method is deprecated and will be removed from pandas in a future version. Use pandas.concat instead.\n",
      "  redFlagRecord = redFlagRecord.append(veh, ignore_index=True)\n",
      "C:\\Users\\Administrator\\AppData\\Local\\Temp\\ipykernel_16000\\2984826684.py:101: FutureWarning: The frame.append method is deprecated and will be removed from pandas in a future version. Use pandas.concat instead.\n",
      "  redFlagRecord = redFlagRecord.append(veh, ignore_index=True)\n",
      "C:\\Users\\Administrator\\AppData\\Local\\Temp\\ipykernel_16000\\2984826684.py:101: FutureWarning: The frame.append method is deprecated and will be removed from pandas in a future version. Use pandas.concat instead.\n",
      "  redFlagRecord = redFlagRecord.append(veh, ignore_index=True)\n",
      "C:\\Users\\Administrator\\AppData\\Local\\Temp\\ipykernel_16000\\2984826684.py:101: FutureWarning: The frame.append method is deprecated and will be removed from pandas in a future version. Use pandas.concat instead.\n",
      "  redFlagRecord = redFlagRecord.append(veh, ignore_index=True)\n"
     ]
    },
    {
     "name": "stdout",
     "output_type": "stream",
     "text": [
      "LaneID:28925528_0;Time:1100.0;\n",
      "LaneID:28925528_0;Time:1101.0;\n",
      "LaneID:28925528_0;Time:1102.0;\n",
      "LaneID:28925528_0;Time:1103.0;\n",
      "LaneID:28925528_0;Time:1104.0;\n",
      "LaneID:28925528_0;Time:1113.0;\n",
      "LaneID:28925528_0;Time:1114.0;\n",
      "LaneID:28925528_0;Time:1115.0;\n",
      "LaneID:28925528_0;Time:1116.0;\n",
      "LaneID:28925528_0;Time:1117.0;\n",
      "LaneID:28925528_0;Time:1118.0;\n",
      "LaneID:28925528_0;Time:1119.0;\n",
      "LaneID:28925528_0;Time:1120.0;\n",
      "LaneID:28925528_0;Time:1121.0;\n",
      "LaneID:28925528_0;Time:1122.0;\n",
      "LaneID:28925528_0;Time:1123.0;\n",
      "LaneID:28925528_0;Time:1124.0;\n"
     ]
    },
    {
     "name": "stderr",
     "output_type": "stream",
     "text": [
      "C:\\Users\\Administrator\\AppData\\Local\\Temp\\ipykernel_16000\\2984826684.py:101: FutureWarning: The frame.append method is deprecated and will be removed from pandas in a future version. Use pandas.concat instead.\n",
      "  redFlagRecord = redFlagRecord.append(veh, ignore_index=True)\n",
      "C:\\Users\\Administrator\\AppData\\Local\\Temp\\ipykernel_16000\\2984826684.py:101: FutureWarning: The frame.append method is deprecated and will be removed from pandas in a future version. Use pandas.concat instead.\n",
      "  redFlagRecord = redFlagRecord.append(veh, ignore_index=True)\n",
      "C:\\Users\\Administrator\\AppData\\Local\\Temp\\ipykernel_16000\\2984826684.py:101: FutureWarning: The frame.append method is deprecated and will be removed from pandas in a future version. Use pandas.concat instead.\n",
      "  redFlagRecord = redFlagRecord.append(veh, ignore_index=True)\n",
      "C:\\Users\\Administrator\\AppData\\Local\\Temp\\ipykernel_16000\\2984826684.py:101: FutureWarning: The frame.append method is deprecated and will be removed from pandas in a future version. Use pandas.concat instead.\n",
      "  redFlagRecord = redFlagRecord.append(veh, ignore_index=True)\n",
      "C:\\Users\\Administrator\\AppData\\Local\\Temp\\ipykernel_16000\\2984826684.py:101: FutureWarning: The frame.append method is deprecated and will be removed from pandas in a future version. Use pandas.concat instead.\n",
      "  redFlagRecord = redFlagRecord.append(veh, ignore_index=True)\n",
      "C:\\Users\\Administrator\\AppData\\Local\\Temp\\ipykernel_16000\\2984826684.py:101: FutureWarning: The frame.append method is deprecated and will be removed from pandas in a future version. Use pandas.concat instead.\n",
      "  redFlagRecord = redFlagRecord.append(veh, ignore_index=True)\n"
     ]
    },
    {
     "name": "stdout",
     "output_type": "stream",
     "text": [
      "LaneID:28925528_0;Time:1125.0;\n",
      "LaneID:28925528_0;Time:1126.0;\n",
      "LaneID:28925528_0;Time:1127.0;\n",
      "LaneID:28925528_0;Time:1128.0;\n",
      "LaneID:28925528_0;Time:1129.0;\n",
      "LaneID:28925528_0;Time:1130.0;\n"
     ]
    },
    {
     "name": "stderr",
     "output_type": "stream",
     "text": [
      "C:\\Users\\Administrator\\AppData\\Local\\Temp\\ipykernel_16000\\2984826684.py:101: FutureWarning: The frame.append method is deprecated and will be removed from pandas in a future version. Use pandas.concat instead.\n",
      "  redFlagRecord = redFlagRecord.append(veh, ignore_index=True)\n",
      "C:\\Users\\Administrator\\AppData\\Local\\Temp\\ipykernel_16000\\2984826684.py:101: FutureWarning: The frame.append method is deprecated and will be removed from pandas in a future version. Use pandas.concat instead.\n",
      "  redFlagRecord = redFlagRecord.append(veh, ignore_index=True)\n",
      "C:\\Users\\Administrator\\AppData\\Local\\Temp\\ipykernel_16000\\2984826684.py:101: FutureWarning: The frame.append method is deprecated and will be removed from pandas in a future version. Use pandas.concat instead.\n",
      "  redFlagRecord = redFlagRecord.append(veh, ignore_index=True)\n",
      "C:\\Users\\Administrator\\AppData\\Local\\Temp\\ipykernel_16000\\2984826684.py:101: FutureWarning: The frame.append method is deprecated and will be removed from pandas in a future version. Use pandas.concat instead.\n",
      "  redFlagRecord = redFlagRecord.append(veh, ignore_index=True)\n",
      "C:\\Users\\Administrator\\AppData\\Local\\Temp\\ipykernel_16000\\2984826684.py:101: FutureWarning: The frame.append method is deprecated and will be removed from pandas in a future version. Use pandas.concat instead.\n",
      "  redFlagRecord = redFlagRecord.append(veh, ignore_index=True)\n",
      "C:\\Users\\Administrator\\AppData\\Local\\Temp\\ipykernel_16000\\2984826684.py:101: FutureWarning: The frame.append method is deprecated and will be removed from pandas in a future version. Use pandas.concat instead.\n",
      "  redFlagRecord = redFlagRecord.append(veh, ignore_index=True)\n"
     ]
    },
    {
     "name": "stdout",
     "output_type": "stream",
     "text": [
      "LaneID:28925528_0;Time:1131.0;\n",
      "LaneID:28925528_0;Time:1132.0;\n",
      "LaneID:28925528_0;Time:1133.0;\n",
      "LaneID:28925528_0;Time:1134.0;\n",
      "LaneID:28925528_0;Time:1135.0;\n",
      "LaneID:28925528_0;Time:1136.0;\n",
      "LaneID:28925528_0;Time:1137.0;\n",
      "LaneID:28925528_0;Time:1138.0;\n",
      "LaneID:28925528_0;Time:1150.0;\n",
      "LaneID:28925528_0;Time:1151.0;\n",
      "LaneID:28925528_0;Time:1152.0;\n",
      "LaneID:28925528_0;Time:1153.0;\n",
      "LaneID:28925528_0;Time:1154.0;\n",
      "LaneID:28925528_0;Time:1155.0;\n",
      "LaneID:28925528_0;Time:1162.0;\n",
      "LaneID:28925528_0;Time:1163.0;\n",
      "LaneID:28925528_0;Time:1164.0;\n"
     ]
    },
    {
     "name": "stderr",
     "output_type": "stream",
     "text": [
      "C:\\Users\\Administrator\\AppData\\Local\\Temp\\ipykernel_16000\\2984826684.py:101: FutureWarning: The frame.append method is deprecated and will be removed from pandas in a future version. Use pandas.concat instead.\n",
      "  redFlagRecord = redFlagRecord.append(veh, ignore_index=True)\n",
      "C:\\Users\\Administrator\\AppData\\Local\\Temp\\ipykernel_16000\\2984826684.py:101: FutureWarning: The frame.append method is deprecated and will be removed from pandas in a future version. Use pandas.concat instead.\n",
      "  redFlagRecord = redFlagRecord.append(veh, ignore_index=True)\n",
      "C:\\Users\\Administrator\\AppData\\Local\\Temp\\ipykernel_16000\\2984826684.py:101: FutureWarning: The frame.append method is deprecated and will be removed from pandas in a future version. Use pandas.concat instead.\n",
      "  redFlagRecord = redFlagRecord.append(veh, ignore_index=True)\n",
      "C:\\Users\\Administrator\\AppData\\Local\\Temp\\ipykernel_16000\\2984826684.py:101: FutureWarning: The frame.append method is deprecated and will be removed from pandas in a future version. Use pandas.concat instead.\n",
      "  redFlagRecord = redFlagRecord.append(veh, ignore_index=True)\n",
      "C:\\Users\\Administrator\\AppData\\Local\\Temp\\ipykernel_16000\\2984826684.py:101: FutureWarning: The frame.append method is deprecated and will be removed from pandas in a future version. Use pandas.concat instead.\n",
      "  redFlagRecord = redFlagRecord.append(veh, ignore_index=True)\n",
      "C:\\Users\\Administrator\\AppData\\Local\\Temp\\ipykernel_16000\\2984826684.py:101: FutureWarning: The frame.append method is deprecated and will be removed from pandas in a future version. Use pandas.concat instead.\n",
      "  redFlagRecord = redFlagRecord.append(veh, ignore_index=True)\n"
     ]
    },
    {
     "name": "stdout",
     "output_type": "stream",
     "text": [
      "LaneID:28925528_0;Time:1170.0;\n",
      "LaneID:28925528_0;Time:1171.0;\n",
      "LaneID:28925528_0;Time:1172.0;\n",
      "LaneID:28925528_0;Time:1173.0;\n",
      "LaneID:28925528_0;Time:1174.0;\n",
      "LaneID:28925528_0;Time:1175.0;\n",
      "LaneID:28925528_0;Time:1176.0;\n",
      "LaneID:28925528_0;Time:1177.0;\n",
      "LaneID:28925528_0;Time:1184.0;\n",
      "LaneID:28925528_0;Time:1185.0;\n",
      "LaneID:28925528_0;Time:1186.0;\n",
      "LaneID:28925528_0;Time:1187.0;\n",
      "LaneID:28925528_0;Time:1188.0;\n",
      "LaneID:28925528_0;Time:1189.0;\n"
     ]
    },
    {
     "name": "stderr",
     "output_type": "stream",
     "text": [
      "C:\\Users\\Administrator\\AppData\\Local\\Temp\\ipykernel_16000\\2984826684.py:101: FutureWarning: The frame.append method is deprecated and will be removed from pandas in a future version. Use pandas.concat instead.\n",
      "  redFlagRecord = redFlagRecord.append(veh, ignore_index=True)\n",
      "C:\\Users\\Administrator\\AppData\\Local\\Temp\\ipykernel_16000\\2984826684.py:101: FutureWarning: The frame.append method is deprecated and will be removed from pandas in a future version. Use pandas.concat instead.\n",
      "  redFlagRecord = redFlagRecord.append(veh, ignore_index=True)\n",
      "C:\\Users\\Administrator\\AppData\\Local\\Temp\\ipykernel_16000\\2984826684.py:101: FutureWarning: The frame.append method is deprecated and will be removed from pandas in a future version. Use pandas.concat instead.\n",
      "  redFlagRecord = redFlagRecord.append(veh, ignore_index=True)\n",
      "C:\\Users\\Administrator\\AppData\\Local\\Temp\\ipykernel_16000\\2984826684.py:101: FutureWarning: The frame.append method is deprecated and will be removed from pandas in a future version. Use pandas.concat instead.\n",
      "  redFlagRecord = redFlagRecord.append(veh, ignore_index=True)\n",
      "C:\\Users\\Administrator\\AppData\\Local\\Temp\\ipykernel_16000\\2984826684.py:101: FutureWarning: The frame.append method is deprecated and will be removed from pandas in a future version. Use pandas.concat instead.\n",
      "  redFlagRecord = redFlagRecord.append(veh, ignore_index=True)\n",
      "C:\\Users\\Administrator\\AppData\\Local\\Temp\\ipykernel_16000\\2984826684.py:101: FutureWarning: The frame.append method is deprecated and will be removed from pandas in a future version. Use pandas.concat instead.\n",
      "  redFlagRecord = redFlagRecord.append(veh, ignore_index=True)\n"
     ]
    },
    {
     "name": "stdout",
     "output_type": "stream",
     "text": [
      "LaneID:28925528_0;Time:1190.0;\n",
      "LaneID:28925528_0;Time:1191.0;\n",
      "LaneID:28925528_0;Time:1192.0;\n",
      "LaneID:28925528_0;Time:1193.0;\n",
      "LaneID:28925528_0;Time:1194.0;\n",
      "LaneID:28925528_0;Time:1195.0;\n",
      "LaneID:28925528_0;Time:1196.0;\n",
      "LaneID:28925528_0;Time:1197.0;\n",
      "LaneID:28925528_0;Time:1209.0;\n",
      "LaneID:28925528_0;Time:1210.0;\n",
      "LaneID:28925528_0;Time:1211.0;\n",
      "LaneID:28925528_0;Time:1212.0;\n",
      "LaneID:28925528_0;Time:1213.0;\n",
      "LaneID:28925528_0;Time:1214.0;\n"
     ]
    },
    {
     "name": "stderr",
     "output_type": "stream",
     "text": [
      "C:\\Users\\Administrator\\AppData\\Local\\Temp\\ipykernel_16000\\2984826684.py:101: FutureWarning: The frame.append method is deprecated and will be removed from pandas in a future version. Use pandas.concat instead.\n",
      "  redFlagRecord = redFlagRecord.append(veh, ignore_index=True)\n",
      "C:\\Users\\Administrator\\AppData\\Local\\Temp\\ipykernel_16000\\2984826684.py:101: FutureWarning: The frame.append method is deprecated and will be removed from pandas in a future version. Use pandas.concat instead.\n",
      "  redFlagRecord = redFlagRecord.append(veh, ignore_index=True)\n",
      "C:\\Users\\Administrator\\AppData\\Local\\Temp\\ipykernel_16000\\2984826684.py:101: FutureWarning: The frame.append method is deprecated and will be removed from pandas in a future version. Use pandas.concat instead.\n",
      "  redFlagRecord = redFlagRecord.append(veh, ignore_index=True)\n",
      "C:\\Users\\Administrator\\AppData\\Local\\Temp\\ipykernel_16000\\2984826684.py:101: FutureWarning: The frame.append method is deprecated and will be removed from pandas in a future version. Use pandas.concat instead.\n",
      "  redFlagRecord = redFlagRecord.append(veh, ignore_index=True)\n",
      "C:\\Users\\Administrator\\AppData\\Local\\Temp\\ipykernel_16000\\2984826684.py:101: FutureWarning: The frame.append method is deprecated and will be removed from pandas in a future version. Use pandas.concat instead.\n",
      "  redFlagRecord = redFlagRecord.append(veh, ignore_index=True)\n",
      "C:\\Users\\Administrator\\AppData\\Local\\Temp\\ipykernel_16000\\2984826684.py:101: FutureWarning: The frame.append method is deprecated and will be removed from pandas in a future version. Use pandas.concat instead.\n",
      "  redFlagRecord = redFlagRecord.append(veh, ignore_index=True)\n"
     ]
    },
    {
     "name": "stdout",
     "output_type": "stream",
     "text": [
      "LaneID:28925528_0;Time:1215.0;\n",
      "LaneID:28925528_0;Time:1216.0;\n",
      "LaneID:28925528_0;Time:1217.0;\n",
      "LaneID:28925528_0;Time:1218.0;\n",
      "LaneID:28925528_0;Time:1219.0;\n",
      "LaneID:28925528_0;Time:1220.0;\n",
      "LaneID:28925528_0;Time:1221.0;\n",
      "LaneID:28925528_0;Time:1222.0;\n",
      "LaneID:28925528_0;Time:1223.0;\n",
      "LaneID:28925528_0;Time:1224.0;\n"
     ]
    },
    {
     "name": "stderr",
     "output_type": "stream",
     "text": [
      "C:\\Users\\Administrator\\AppData\\Local\\Temp\\ipykernel_16000\\2984826684.py:101: FutureWarning: The frame.append method is deprecated and will be removed from pandas in a future version. Use pandas.concat instead.\n",
      "  redFlagRecord = redFlagRecord.append(veh, ignore_index=True)\n",
      "C:\\Users\\Administrator\\AppData\\Local\\Temp\\ipykernel_16000\\2984826684.py:101: FutureWarning: The frame.append method is deprecated and will be removed from pandas in a future version. Use pandas.concat instead.\n",
      "  redFlagRecord = redFlagRecord.append(veh, ignore_index=True)\n",
      "C:\\Users\\Administrator\\AppData\\Local\\Temp\\ipykernel_16000\\2984826684.py:101: FutureWarning: The frame.append method is deprecated and will be removed from pandas in a future version. Use pandas.concat instead.\n",
      "  redFlagRecord = redFlagRecord.append(veh, ignore_index=True)\n",
      "C:\\Users\\Administrator\\AppData\\Local\\Temp\\ipykernel_16000\\2984826684.py:101: FutureWarning: The frame.append method is deprecated and will be removed from pandas in a future version. Use pandas.concat instead.\n",
      "  redFlagRecord = redFlagRecord.append(veh, ignore_index=True)\n",
      "C:\\Users\\Administrator\\AppData\\Local\\Temp\\ipykernel_16000\\2984826684.py:101: FutureWarning: The frame.append method is deprecated and will be removed from pandas in a future version. Use pandas.concat instead.\n",
      "  redFlagRecord = redFlagRecord.append(veh, ignore_index=True)\n",
      "C:\\Users\\Administrator\\AppData\\Local\\Temp\\ipykernel_16000\\2984826684.py:101: FutureWarning: The frame.append method is deprecated and will be removed from pandas in a future version. Use pandas.concat instead.\n",
      "  redFlagRecord = redFlagRecord.append(veh, ignore_index=True)\n"
     ]
    },
    {
     "name": "stdout",
     "output_type": "stream",
     "text": [
      "LaneID:28925528_0;Time:1225.0;\n",
      "LaneID:28925528_0;Time:1226.0;\n",
      "LaneID:28925528_0;Time:1227.0;\n",
      "LaneID:28925528_0;Time:1228.0;\n",
      "LaneID:28925528_0;Time:1229.0;\n",
      "LaneID:28925528_0;Time:1230.0;\n",
      "LaneID:28925528_0;Time:1231.0;\n",
      "LaneID:28925528_0;Time:1232.0;\n",
      "LaneID:28925528_0;Time:1233.0;\n",
      "LaneID:28925528_0;Time:1234.0;\n",
      "LaneID:28925528_0;Time:1235.0;\n",
      "LaneID:28925528_0;Time:1236.0;\n",
      "LaneID:28925528_0;Time:1237.0;\n",
      "LaneID:28925528_0;Time:1238.0;\n",
      "LaneID:28925528_0;Time:1239.0;\n"
     ]
    },
    {
     "name": "stderr",
     "output_type": "stream",
     "text": [
      "C:\\Users\\Administrator\\AppData\\Local\\Temp\\ipykernel_16000\\2984826684.py:101: FutureWarning: The frame.append method is deprecated and will be removed from pandas in a future version. Use pandas.concat instead.\n",
      "  redFlagRecord = redFlagRecord.append(veh, ignore_index=True)\n",
      "C:\\Users\\Administrator\\AppData\\Local\\Temp\\ipykernel_16000\\2984826684.py:101: FutureWarning: The frame.append method is deprecated and will be removed from pandas in a future version. Use pandas.concat instead.\n",
      "  redFlagRecord = redFlagRecord.append(veh, ignore_index=True)\n",
      "C:\\Users\\Administrator\\AppData\\Local\\Temp\\ipykernel_16000\\2984826684.py:101: FutureWarning: The frame.append method is deprecated and will be removed from pandas in a future version. Use pandas.concat instead.\n",
      "  redFlagRecord = redFlagRecord.append(veh, ignore_index=True)\n",
      "C:\\Users\\Administrator\\AppData\\Local\\Temp\\ipykernel_16000\\2984826684.py:101: FutureWarning: The frame.append method is deprecated and will be removed from pandas in a future version. Use pandas.concat instead.\n",
      "  redFlagRecord = redFlagRecord.append(veh, ignore_index=True)\n",
      "C:\\Users\\Administrator\\AppData\\Local\\Temp\\ipykernel_16000\\2984826684.py:101: FutureWarning: The frame.append method is deprecated and will be removed from pandas in a future version. Use pandas.concat instead.\n",
      "  redFlagRecord = redFlagRecord.append(veh, ignore_index=True)\n",
      "C:\\Users\\Administrator\\AppData\\Local\\Temp\\ipykernel_16000\\2984826684.py:101: FutureWarning: The frame.append method is deprecated and will be removed from pandas in a future version. Use pandas.concat instead.\n",
      "  redFlagRecord = redFlagRecord.append(veh, ignore_index=True)\n",
      "C:\\Users\\Administrator\\AppData\\Local\\Temp\\ipykernel_16000\\2984826684.py:101: FutureWarning: The frame.append method is deprecated and will be removed from pandas in a future version. Use pandas.concat instead.\n",
      "  redFlagRecord = redFlagRecord.append(veh, ignore_index=True)\n",
      "C:\\Users\\Administrator\\AppData\\Local\\Temp\\ipykernel_16000\\2984826684.py:101: FutureWarning: The frame.append method is deprecated and will be removed from pandas in a future version. Use pandas.concat instead.\n",
      "  redFlagRecord = redFlagRecord.append(veh, ignore_index=True)\n",
      "C:\\Users\\Administrator\\AppData\\Local\\Temp\\ipykernel_16000\\2984826684.py:101: FutureWarning: The frame.append method is deprecated and will be removed from pandas in a future version. Use pandas.concat instead.\n",
      "  redFlagRecord = redFlagRecord.append(veh, ignore_index=True)\n",
      "C:\\Users\\Administrator\\AppData\\Local\\Temp\\ipykernel_16000\\2984826684.py:101: FutureWarning: The frame.append method is deprecated and will be removed from pandas in a future version. Use pandas.concat instead.\n",
      "  redFlagRecord = redFlagRecord.append(veh, ignore_index=True)\n",
      "C:\\Users\\Administrator\\AppData\\Local\\Temp\\ipykernel_16000\\2984826684.py:101: FutureWarning: The frame.append method is deprecated and will be removed from pandas in a future version. Use pandas.concat instead.\n",
      "  redFlagRecord = redFlagRecord.append(veh, ignore_index=True)\n",
      "C:\\Users\\Administrator\\AppData\\Local\\Temp\\ipykernel_16000\\2984826684.py:101: FutureWarning: The frame.append method is deprecated and will be removed from pandas in a future version. Use pandas.concat instead.\n",
      "  redFlagRecord = redFlagRecord.append(veh, ignore_index=True)\n"
     ]
    },
    {
     "name": "stdout",
     "output_type": "stream",
     "text": [
      "LaneID:28925528_0;Time:1240.0;\n",
      "LaneID:28925528_0;Time:1241.0;\n",
      "LaneID:28925528_0;Time:1242.0;\n",
      "LaneID:28925528_0;Time:1243.0;\n",
      "LaneID:28925528_0;Time:1244.0;\n",
      "LaneID:28925528_0;Time:1245.0;\n",
      "LaneID:28925528_0;Time:1246.0;\n"
     ]
    },
    {
     "name": "stderr",
     "output_type": "stream",
     "text": [
      "C:\\Users\\Administrator\\AppData\\Local\\Temp\\ipykernel_16000\\2984826684.py:101: FutureWarning: The frame.append method is deprecated and will be removed from pandas in a future version. Use pandas.concat instead.\n",
      "  redFlagRecord = redFlagRecord.append(veh, ignore_index=True)\n",
      "C:\\Users\\Administrator\\AppData\\Local\\Temp\\ipykernel_16000\\2984826684.py:101: FutureWarning: The frame.append method is deprecated and will be removed from pandas in a future version. Use pandas.concat instead.\n",
      "  redFlagRecord = redFlagRecord.append(veh, ignore_index=True)\n",
      "C:\\Users\\Administrator\\AppData\\Local\\Temp\\ipykernel_16000\\2984826684.py:101: FutureWarning: The frame.append method is deprecated and will be removed from pandas in a future version. Use pandas.concat instead.\n",
      "  redFlagRecord = redFlagRecord.append(veh, ignore_index=True)\n",
      "C:\\Users\\Administrator\\AppData\\Local\\Temp\\ipykernel_16000\\2984826684.py:101: FutureWarning: The frame.append method is deprecated and will be removed from pandas in a future version. Use pandas.concat instead.\n",
      "  redFlagRecord = redFlagRecord.append(veh, ignore_index=True)\n",
      "C:\\Users\\Administrator\\AppData\\Local\\Temp\\ipykernel_16000\\2984826684.py:101: FutureWarning: The frame.append method is deprecated and will be removed from pandas in a future version. Use pandas.concat instead.\n",
      "  redFlagRecord = redFlagRecord.append(veh, ignore_index=True)\n",
      "C:\\Users\\Administrator\\AppData\\Local\\Temp\\ipykernel_16000\\2984826684.py:101: FutureWarning: The frame.append method is deprecated and will be removed from pandas in a future version. Use pandas.concat instead.\n",
      "  redFlagRecord = redFlagRecord.append(veh, ignore_index=True)\n"
     ]
    },
    {
     "name": "stdout",
     "output_type": "stream",
     "text": [
      "LaneID:28925528_0;Time:1247.0;\n",
      "LaneID:28925528_0;Time:1248.0;\n",
      "LaneID:28925528_0;Time:1249.0;\n",
      "LaneID:28925528_0;Time:1250.0;\n",
      "LaneID:28925528_0;Time:1251.0;\n",
      "LaneID:28925528_0;Time:1252.0;\n"
     ]
    },
    {
     "name": "stderr",
     "output_type": "stream",
     "text": [
      "C:\\Users\\Administrator\\AppData\\Local\\Temp\\ipykernel_16000\\2984826684.py:101: FutureWarning: The frame.append method is deprecated and will be removed from pandas in a future version. Use pandas.concat instead.\n",
      "  redFlagRecord = redFlagRecord.append(veh, ignore_index=True)\n",
      "C:\\Users\\Administrator\\AppData\\Local\\Temp\\ipykernel_16000\\2984826684.py:101: FutureWarning: The frame.append method is deprecated and will be removed from pandas in a future version. Use pandas.concat instead.\n",
      "  redFlagRecord = redFlagRecord.append(veh, ignore_index=True)\n",
      "C:\\Users\\Administrator\\AppData\\Local\\Temp\\ipykernel_16000\\2984826684.py:101: FutureWarning: The frame.append method is deprecated and will be removed from pandas in a future version. Use pandas.concat instead.\n",
      "  redFlagRecord = redFlagRecord.append(veh, ignore_index=True)\n",
      "C:\\Users\\Administrator\\AppData\\Local\\Temp\\ipykernel_16000\\2984826684.py:101: FutureWarning: The frame.append method is deprecated and will be removed from pandas in a future version. Use pandas.concat instead.\n",
      "  redFlagRecord = redFlagRecord.append(veh, ignore_index=True)\n",
      "C:\\Users\\Administrator\\AppData\\Local\\Temp\\ipykernel_16000\\2984826684.py:101: FutureWarning: The frame.append method is deprecated and will be removed from pandas in a future version. Use pandas.concat instead.\n",
      "  redFlagRecord = redFlagRecord.append(veh, ignore_index=True)\n",
      "C:\\Users\\Administrator\\AppData\\Local\\Temp\\ipykernel_16000\\2984826684.py:101: FutureWarning: The frame.append method is deprecated and will be removed from pandas in a future version. Use pandas.concat instead.\n",
      "  redFlagRecord = redFlagRecord.append(veh, ignore_index=True)\n"
     ]
    },
    {
     "name": "stdout",
     "output_type": "stream",
     "text": [
      "LaneID:28925528_0;Time:1253.0;\n",
      "LaneID:28925528_0;Time:1254.0;\n",
      "LaneID:28925528_0;Time:1255.0;\n",
      "LaneID:28925528_0;Time:1256.0;\n",
      "LaneID:28925528_0;Time:1257.0;\n",
      "LaneID:28925528_0;Time:1258.0;\n",
      "LaneID:28925528_0;Time:1259.0;\n",
      "LaneID:28925528_0;Time:1265.0;\n",
      "LaneID:28925528_0;Time:1266.0;\n",
      "LaneID:28925528_0;Time:1267.0;\n",
      "LaneID:28925528_0;Time:1268.0;\n",
      "LaneID:28925528_0;Time:1269.0;\n",
      "LaneID:28925528_0;Time:1270.0;\n",
      "LaneID:28925528_0;Time:1271.0;\n",
      "LaneID:28925528_0;Time:1278.0;\n"
     ]
    },
    {
     "name": "stderr",
     "output_type": "stream",
     "text": [
      "C:\\Users\\Administrator\\AppData\\Local\\Temp\\ipykernel_16000\\2984826684.py:101: FutureWarning: The frame.append method is deprecated and will be removed from pandas in a future version. Use pandas.concat instead.\n",
      "  redFlagRecord = redFlagRecord.append(veh, ignore_index=True)\n",
      "C:\\Users\\Administrator\\AppData\\Local\\Temp\\ipykernel_16000\\2984826684.py:101: FutureWarning: The frame.append method is deprecated and will be removed from pandas in a future version. Use pandas.concat instead.\n",
      "  redFlagRecord = redFlagRecord.append(veh, ignore_index=True)\n",
      "C:\\Users\\Administrator\\AppData\\Local\\Temp\\ipykernel_16000\\2984826684.py:101: FutureWarning: The frame.append method is deprecated and will be removed from pandas in a future version. Use pandas.concat instead.\n",
      "  redFlagRecord = redFlagRecord.append(veh, ignore_index=True)\n",
      "C:\\Users\\Administrator\\AppData\\Local\\Temp\\ipykernel_16000\\2984826684.py:101: FutureWarning: The frame.append method is deprecated and will be removed from pandas in a future version. Use pandas.concat instead.\n",
      "  redFlagRecord = redFlagRecord.append(veh, ignore_index=True)\n",
      "C:\\Users\\Administrator\\AppData\\Local\\Temp\\ipykernel_16000\\2984826684.py:101: FutureWarning: The frame.append method is deprecated and will be removed from pandas in a future version. Use pandas.concat instead.\n",
      "  redFlagRecord = redFlagRecord.append(veh, ignore_index=True)\n",
      "C:\\Users\\Administrator\\AppData\\Local\\Temp\\ipykernel_16000\\2984826684.py:101: FutureWarning: The frame.append method is deprecated and will be removed from pandas in a future version. Use pandas.concat instead.\n",
      "  redFlagRecord = redFlagRecord.append(veh, ignore_index=True)\n",
      "C:\\Users\\Administrator\\AppData\\Local\\Temp\\ipykernel_16000\\2984826684.py:101: FutureWarning: The frame.append method is deprecated and will be removed from pandas in a future version. Use pandas.concat instead.\n",
      "  redFlagRecord = redFlagRecord.append(veh, ignore_index=True)\n"
     ]
    },
    {
     "name": "stdout",
     "output_type": "stream",
     "text": [
      "LaneID:28925528_0;Time:1279.0;\n",
      "LaneID:28925528_0;Time:1280.0;\n",
      "LaneID:28925528_0;Time:1281.0;\n",
      "LaneID:28925528_0;Time:1282.0;\n",
      "LaneID:28925528_0;Time:1283.0;\n",
      "LaneID:28925528_0;Time:1284.0;\n",
      "LaneID:28925528_0;Time:1285.0;\n"
     ]
    },
    {
     "name": "stderr",
     "output_type": "stream",
     "text": [
      "C:\\Users\\Administrator\\AppData\\Local\\Temp\\ipykernel_16000\\2984826684.py:101: FutureWarning: The frame.append method is deprecated and will be removed from pandas in a future version. Use pandas.concat instead.\n",
      "  redFlagRecord = redFlagRecord.append(veh, ignore_index=True)\n",
      "C:\\Users\\Administrator\\AppData\\Local\\Temp\\ipykernel_16000\\2984826684.py:101: FutureWarning: The frame.append method is deprecated and will be removed from pandas in a future version. Use pandas.concat instead.\n",
      "  redFlagRecord = redFlagRecord.append(veh, ignore_index=True)\n",
      "C:\\Users\\Administrator\\AppData\\Local\\Temp\\ipykernel_16000\\2984826684.py:101: FutureWarning: The frame.append method is deprecated and will be removed from pandas in a future version. Use pandas.concat instead.\n",
      "  redFlagRecord = redFlagRecord.append(veh, ignore_index=True)\n",
      "C:\\Users\\Administrator\\AppData\\Local\\Temp\\ipykernel_16000\\2984826684.py:101: FutureWarning: The frame.append method is deprecated and will be removed from pandas in a future version. Use pandas.concat instead.\n",
      "  redFlagRecord = redFlagRecord.append(veh, ignore_index=True)\n",
      "C:\\Users\\Administrator\\AppData\\Local\\Temp\\ipykernel_16000\\2984826684.py:101: FutureWarning: The frame.append method is deprecated and will be removed from pandas in a future version. Use pandas.concat instead.\n",
      "  redFlagRecord = redFlagRecord.append(veh, ignore_index=True)\n",
      "C:\\Users\\Administrator\\AppData\\Local\\Temp\\ipykernel_16000\\2984826684.py:101: FutureWarning: The frame.append method is deprecated and will be removed from pandas in a future version. Use pandas.concat instead.\n",
      "  redFlagRecord = redFlagRecord.append(veh, ignore_index=True)\n"
     ]
    },
    {
     "name": "stdout",
     "output_type": "stream",
     "text": [
      "LaneID:28925528_0;Time:1286.0;\n",
      "LaneID:28925528_0;Time:1287.0;\n",
      "LaneID:28925528_0;Time:1288.0;\n",
      "LaneID:28925528_0;Time:1289.0;\n",
      "LaneID:28925528_0;Time:1290.0;\n",
      "LaneID:28925528_0;Time:1291.0;\n",
      "LaneID:28925528_0;Time:1304.0;\n",
      "LaneID:28925528_0;Time:1305.0;\n",
      "LaneID:28925528_0;Time:1306.0;\n",
      "LaneID:28925528_0;Time:1307.0;\n",
      "LaneID:28925528_0;Time:1308.0;\n",
      "LaneID:28925528_0;Time:1309.0;\n",
      "LaneID:28925528_0;Time:1310.0;\n",
      "LaneID:28925528_0;Time:1311.0;\n",
      "LaneID:28925528_0;Time:1312.0;\n",
      "LaneID:28925528_0;Time:1313.0;\n",
      "LaneID:28925528_0;Time:1314.0;\n",
      "LaneID:28925528_0;Time:1315.0;\n",
      "LaneID:28925528_0;Time:1316.0;\n"
     ]
    },
    {
     "name": "stderr",
     "output_type": "stream",
     "text": [
      "C:\\Users\\Administrator\\AppData\\Local\\Temp\\ipykernel_16000\\2984826684.py:101: FutureWarning: The frame.append method is deprecated and will be removed from pandas in a future version. Use pandas.concat instead.\n",
      "  redFlagRecord = redFlagRecord.append(veh, ignore_index=True)\n",
      "C:\\Users\\Administrator\\AppData\\Local\\Temp\\ipykernel_16000\\2984826684.py:101: FutureWarning: The frame.append method is deprecated and will be removed from pandas in a future version. Use pandas.concat instead.\n",
      "  redFlagRecord = redFlagRecord.append(veh, ignore_index=True)\n",
      "C:\\Users\\Administrator\\AppData\\Local\\Temp\\ipykernel_16000\\2984826684.py:101: FutureWarning: The frame.append method is deprecated and will be removed from pandas in a future version. Use pandas.concat instead.\n",
      "  redFlagRecord = redFlagRecord.append(veh, ignore_index=True)\n",
      "C:\\Users\\Administrator\\AppData\\Local\\Temp\\ipykernel_16000\\2984826684.py:101: FutureWarning: The frame.append method is deprecated and will be removed from pandas in a future version. Use pandas.concat instead.\n",
      "  redFlagRecord = redFlagRecord.append(veh, ignore_index=True)\n",
      "C:\\Users\\Administrator\\AppData\\Local\\Temp\\ipykernel_16000\\2984826684.py:101: FutureWarning: The frame.append method is deprecated and will be removed from pandas in a future version. Use pandas.concat instead.\n",
      "  redFlagRecord = redFlagRecord.append(veh, ignore_index=True)\n",
      "C:\\Users\\Administrator\\AppData\\Local\\Temp\\ipykernel_16000\\2984826684.py:101: FutureWarning: The frame.append method is deprecated and will be removed from pandas in a future version. Use pandas.concat instead.\n",
      "  redFlagRecord = redFlagRecord.append(veh, ignore_index=True)\n",
      "C:\\Users\\Administrator\\AppData\\Local\\Temp\\ipykernel_16000\\2984826684.py:101: FutureWarning: The frame.append method is deprecated and will be removed from pandas in a future version. Use pandas.concat instead.\n",
      "  redFlagRecord = redFlagRecord.append(veh, ignore_index=True)\n"
     ]
    },
    {
     "name": "stdout",
     "output_type": "stream",
     "text": [
      "LaneID:28925528_0;Time:1317.0;\n",
      "LaneID:28925528_0;Time:1318.0;\n",
      "LaneID:28925528_0;Time:1319.0;\n",
      "LaneID:28925528_0;Time:1324.0;\n",
      "LaneID:28925528_0;Time:1325.0;\n",
      "LaneID:28925528_0;Time:1326.0;\n",
      "LaneID:28925528_0;Time:1327.0;\n",
      "LaneID:28925528_0;Time:1328.0;\n",
      "LaneID:28925528_0;Time:1329.0;\n",
      "LaneID:28925528_0;Time:1330.0;\n",
      "LaneID:28925528_0;Time:1331.0;\n",
      "LaneID:28925528_0;Time:1332.0;\n",
      "LaneID:28925528_0;Time:1333.0;\n",
      "LaneID:28925528_0;Time:1334.0;\n",
      "LaneID:28925528_0;Time:1335.0;\n",
      "LaneID:28925528_0;Time:1336.0;\n"
     ]
    },
    {
     "name": "stderr",
     "output_type": "stream",
     "text": [
      "C:\\Users\\Administrator\\AppData\\Local\\Temp\\ipykernel_16000\\2984826684.py:101: FutureWarning: The frame.append method is deprecated and will be removed from pandas in a future version. Use pandas.concat instead.\n",
      "  redFlagRecord = redFlagRecord.append(veh, ignore_index=True)\n",
      "C:\\Users\\Administrator\\AppData\\Local\\Temp\\ipykernel_16000\\2984826684.py:101: FutureWarning: The frame.append method is deprecated and will be removed from pandas in a future version. Use pandas.concat instead.\n",
      "  redFlagRecord = redFlagRecord.append(veh, ignore_index=True)\n",
      "C:\\Users\\Administrator\\AppData\\Local\\Temp\\ipykernel_16000\\2984826684.py:101: FutureWarning: The frame.append method is deprecated and will be removed from pandas in a future version. Use pandas.concat instead.\n",
      "  redFlagRecord = redFlagRecord.append(veh, ignore_index=True)\n",
      "C:\\Users\\Administrator\\AppData\\Local\\Temp\\ipykernel_16000\\2984826684.py:101: FutureWarning: The frame.append method is deprecated and will be removed from pandas in a future version. Use pandas.concat instead.\n",
      "  redFlagRecord = redFlagRecord.append(veh, ignore_index=True)\n",
      "C:\\Users\\Administrator\\AppData\\Local\\Temp\\ipykernel_16000\\2984826684.py:101: FutureWarning: The frame.append method is deprecated and will be removed from pandas in a future version. Use pandas.concat instead.\n",
      "  redFlagRecord = redFlagRecord.append(veh, ignore_index=True)\n",
      "C:\\Users\\Administrator\\AppData\\Local\\Temp\\ipykernel_16000\\2984826684.py:101: FutureWarning: The frame.append method is deprecated and will be removed from pandas in a future version. Use pandas.concat instead.\n",
      "  redFlagRecord = redFlagRecord.append(veh, ignore_index=True)\n",
      "C:\\Users\\Administrator\\AppData\\Local\\Temp\\ipykernel_16000\\2984826684.py:101: FutureWarning: The frame.append method is deprecated and will be removed from pandas in a future version. Use pandas.concat instead.\n",
      "  redFlagRecord = redFlagRecord.append(veh, ignore_index=True)\n"
     ]
    },
    {
     "name": "stdout",
     "output_type": "stream",
     "text": [
      "LaneID:28925528_0;Time:1337.0;\n",
      "LaneID:28925528_0;Time:1338.0;\n",
      "LaneID:28925528_0;Time:1339.0;\n",
      "LaneID:28925528_0;Time:1340.0;\n",
      "LaneID:28925528_0;Time:1341.0;\n",
      "LaneID:28925528_0;Time:1342.0;\n",
      "LaneID:28925528_0;Time:1343.0;\n"
     ]
    },
    {
     "name": "stderr",
     "output_type": "stream",
     "text": [
      "C:\\Users\\Administrator\\AppData\\Local\\Temp\\ipykernel_16000\\2984826684.py:101: FutureWarning: The frame.append method is deprecated and will be removed from pandas in a future version. Use pandas.concat instead.\n",
      "  redFlagRecord = redFlagRecord.append(veh, ignore_index=True)\n",
      "C:\\Users\\Administrator\\AppData\\Local\\Temp\\ipykernel_16000\\2984826684.py:101: FutureWarning: The frame.append method is deprecated and will be removed from pandas in a future version. Use pandas.concat instead.\n",
      "  redFlagRecord = redFlagRecord.append(veh, ignore_index=True)\n",
      "C:\\Users\\Administrator\\AppData\\Local\\Temp\\ipykernel_16000\\2984826684.py:101: FutureWarning: The frame.append method is deprecated and will be removed from pandas in a future version. Use pandas.concat instead.\n",
      "  redFlagRecord = redFlagRecord.append(veh, ignore_index=True)\n",
      "C:\\Users\\Administrator\\AppData\\Local\\Temp\\ipykernel_16000\\2984826684.py:101: FutureWarning: The frame.append method is deprecated and will be removed from pandas in a future version. Use pandas.concat instead.\n",
      "  redFlagRecord = redFlagRecord.append(veh, ignore_index=True)\n",
      "C:\\Users\\Administrator\\AppData\\Local\\Temp\\ipykernel_16000\\2984826684.py:101: FutureWarning: The frame.append method is deprecated and will be removed from pandas in a future version. Use pandas.concat instead.\n",
      "  redFlagRecord = redFlagRecord.append(veh, ignore_index=True)\n",
      "C:\\Users\\Administrator\\AppData\\Local\\Temp\\ipykernel_16000\\2984826684.py:101: FutureWarning: The frame.append method is deprecated and will be removed from pandas in a future version. Use pandas.concat instead.\n",
      "  redFlagRecord = redFlagRecord.append(veh, ignore_index=True)\n"
     ]
    },
    {
     "name": "stdout",
     "output_type": "stream",
     "text": [
      "LaneID:28925528_0;Time:1344.0;\n",
      "LaneID:28925528_0;Time:1345.0;\n",
      "LaneID:28925528_0;Time:1346.0;\n",
      "LaneID:28925528_0;Time:1347.0;\n",
      "LaneID:28925528_0;Time:1348.0;\n",
      "LaneID:28925528_0;Time:1349.0;\n"
     ]
    },
    {
     "name": "stderr",
     "output_type": "stream",
     "text": [
      "C:\\Users\\Administrator\\AppData\\Local\\Temp\\ipykernel_16000\\2984826684.py:101: FutureWarning: The frame.append method is deprecated and will be removed from pandas in a future version. Use pandas.concat instead.\n",
      "  redFlagRecord = redFlagRecord.append(veh, ignore_index=True)\n",
      "C:\\Users\\Administrator\\AppData\\Local\\Temp\\ipykernel_16000\\2984826684.py:101: FutureWarning: The frame.append method is deprecated and will be removed from pandas in a future version. Use pandas.concat instead.\n",
      "  redFlagRecord = redFlagRecord.append(veh, ignore_index=True)\n",
      "C:\\Users\\Administrator\\AppData\\Local\\Temp\\ipykernel_16000\\2984826684.py:101: FutureWarning: The frame.append method is deprecated and will be removed from pandas in a future version. Use pandas.concat instead.\n",
      "  redFlagRecord = redFlagRecord.append(veh, ignore_index=True)\n",
      "C:\\Users\\Administrator\\AppData\\Local\\Temp\\ipykernel_16000\\2984826684.py:101: FutureWarning: The frame.append method is deprecated and will be removed from pandas in a future version. Use pandas.concat instead.\n",
      "  redFlagRecord = redFlagRecord.append(veh, ignore_index=True)\n",
      "C:\\Users\\Administrator\\AppData\\Local\\Temp\\ipykernel_16000\\2984826684.py:101: FutureWarning: The frame.append method is deprecated and will be removed from pandas in a future version. Use pandas.concat instead.\n",
      "  redFlagRecord = redFlagRecord.append(veh, ignore_index=True)\n",
      "C:\\Users\\Administrator\\AppData\\Local\\Temp\\ipykernel_16000\\2984826684.py:101: FutureWarning: The frame.append method is deprecated and will be removed from pandas in a future version. Use pandas.concat instead.\n",
      "  redFlagRecord = redFlagRecord.append(veh, ignore_index=True)\n"
     ]
    },
    {
     "name": "stdout",
     "output_type": "stream",
     "text": [
      "LaneID:28925528_0;Time:1350.0;\n",
      "LaneID:28925528_0;Time:1351.0;\n",
      "LaneID:28925528_0;Time:1361.0;\n",
      "LaneID:28925528_0;Time:1362.0;\n",
      "LaneID:28925528_0;Time:1363.0;\n",
      "LaneID:28925528_0;Time:1364.0;\n",
      "LaneID:28925528_0;Time:1365.0;\n",
      "LaneID:28925528_0;Time:1366.0;\n",
      "LaneID:28925528_0;Time:1367.0;\n",
      "LaneID:28925528_0;Time:1368.0;\n",
      "LaneID:28925528_0;Time:1369.0;\n",
      "LaneID:28925528_0;Time:1370.0;\n",
      "LaneID:28925528_0;Time:1371.0;\n",
      "LaneID:28925528_0;Time:1372.0;\n",
      "LaneID:28925528_0;Time:1373.0;\n",
      "LaneID:28925528_0;Time:1374.0;\n"
     ]
    },
    {
     "name": "stderr",
     "output_type": "stream",
     "text": [
      "C:\\Users\\Administrator\\AppData\\Local\\Temp\\ipykernel_16000\\2984826684.py:101: FutureWarning: The frame.append method is deprecated and will be removed from pandas in a future version. Use pandas.concat instead.\n",
      "  redFlagRecord = redFlagRecord.append(veh, ignore_index=True)\n",
      "C:\\Users\\Administrator\\AppData\\Local\\Temp\\ipykernel_16000\\2984826684.py:101: FutureWarning: The frame.append method is deprecated and will be removed from pandas in a future version. Use pandas.concat instead.\n",
      "  redFlagRecord = redFlagRecord.append(veh, ignore_index=True)\n",
      "C:\\Users\\Administrator\\AppData\\Local\\Temp\\ipykernel_16000\\2984826684.py:101: FutureWarning: The frame.append method is deprecated and will be removed from pandas in a future version. Use pandas.concat instead.\n",
      "  redFlagRecord = redFlagRecord.append(veh, ignore_index=True)\n",
      "C:\\Users\\Administrator\\AppData\\Local\\Temp\\ipykernel_16000\\2984826684.py:101: FutureWarning: The frame.append method is deprecated and will be removed from pandas in a future version. Use pandas.concat instead.\n",
      "  redFlagRecord = redFlagRecord.append(veh, ignore_index=True)\n",
      "C:\\Users\\Administrator\\AppData\\Local\\Temp\\ipykernel_16000\\2984826684.py:101: FutureWarning: The frame.append method is deprecated and will be removed from pandas in a future version. Use pandas.concat instead.\n",
      "  redFlagRecord = redFlagRecord.append(veh, ignore_index=True)\n",
      "C:\\Users\\Administrator\\AppData\\Local\\Temp\\ipykernel_16000\\2984826684.py:101: FutureWarning: The frame.append method is deprecated and will be removed from pandas in a future version. Use pandas.concat instead.\n",
      "  redFlagRecord = redFlagRecord.append(veh, ignore_index=True)\n"
     ]
    },
    {
     "name": "stdout",
     "output_type": "stream",
     "text": [
      "LaneID:28925528_0;Time:1375.0;\n",
      "LaneID:28925528_0;Time:1376.0;\n",
      "LaneID:28925528_0;Time:1377.0;\n",
      "LaneID:28925528_0;Time:1378.0;\n",
      "LaneID:28925528_0;Time:1379.0;\n",
      "LaneID:28925528_0;Time:1380.0;\n"
     ]
    },
    {
     "name": "stderr",
     "output_type": "stream",
     "text": [
      "C:\\Users\\Administrator\\AppData\\Local\\Temp\\ipykernel_16000\\2984826684.py:101: FutureWarning: The frame.append method is deprecated and will be removed from pandas in a future version. Use pandas.concat instead.\n",
      "  redFlagRecord = redFlagRecord.append(veh, ignore_index=True)\n",
      "C:\\Users\\Administrator\\AppData\\Local\\Temp\\ipykernel_16000\\2984826684.py:101: FutureWarning: The frame.append method is deprecated and will be removed from pandas in a future version. Use pandas.concat instead.\n",
      "  redFlagRecord = redFlagRecord.append(veh, ignore_index=True)\n",
      "C:\\Users\\Administrator\\AppData\\Local\\Temp\\ipykernel_16000\\2984826684.py:101: FutureWarning: The frame.append method is deprecated and will be removed from pandas in a future version. Use pandas.concat instead.\n",
      "  redFlagRecord = redFlagRecord.append(veh, ignore_index=True)\n",
      "C:\\Users\\Administrator\\AppData\\Local\\Temp\\ipykernel_16000\\2984826684.py:101: FutureWarning: The frame.append method is deprecated and will be removed from pandas in a future version. Use pandas.concat instead.\n",
      "  redFlagRecord = redFlagRecord.append(veh, ignore_index=True)\n",
      "C:\\Users\\Administrator\\AppData\\Local\\Temp\\ipykernel_16000\\2984826684.py:101: FutureWarning: The frame.append method is deprecated and will be removed from pandas in a future version. Use pandas.concat instead.\n",
      "  redFlagRecord = redFlagRecord.append(veh, ignore_index=True)\n",
      "C:\\Users\\Administrator\\AppData\\Local\\Temp\\ipykernel_16000\\2984826684.py:101: FutureWarning: The frame.append method is deprecated and will be removed from pandas in a future version. Use pandas.concat instead.\n",
      "  redFlagRecord = redFlagRecord.append(veh, ignore_index=True)\n"
     ]
    },
    {
     "name": "stdout",
     "output_type": "stream",
     "text": [
      "LaneID:28925528_0;Time:1381.0;\n",
      "LaneID:28925528_0;Time:1382.0;\n",
      "LaneID:28925528_0;Time:1383.0;\n",
      "LaneID:28925528_0;Time:1384.0;\n",
      "LaneID:28925528_0;Time:1385.0;\n",
      "LaneID:28925528_0;Time:1386.0;\n",
      "LaneID:28925528_0;Time:1387.0;\n",
      "LaneID:28925528_0;Time:1401.0;\n",
      "LaneID:28925528_0;Time:1402.0;\n",
      "LaneID:28925528_0;Time:1403.0;\n",
      "LaneID:28925528_0;Time:1404.0;\n",
      "LaneID:28925528_0;Time:1405.0;\n",
      "LaneID:28925528_0;Time:1406.0;\n",
      "LaneID:28925528_0;Time:1407.0;\n",
      "LaneID:28925528_0;Time:1408.0;\n",
      "LaneID:28925528_0;Time:1409.0;\n",
      "LaneID:28925528_0;Time:1410.0;\n",
      "LaneID:28925528_0;Time:1411.0;\n",
      "LaneID:28925528_0;Time:1412.0;\n",
      "LaneID:28925528_0;Time:1418.0;\n",
      "LaneID:28925528_0;Time:1419.0;\n",
      "LaneID:28925528_0;Time:1420.0;\n",
      "LaneID:28925528_0;Time:1421.0;\n",
      "LaneID:28925528_0;Time:1422.0;\n",
      "LaneID:28925528_0;Time:1423.0;\n",
      "LaneID:28925528_0;Time:1424.0;\n",
      "LaneID:28925528_0;Time:1425.0;\n",
      "LaneID:28925528_0;Time:1426.0;\n",
      "LaneID:28925528_0;Time:1427.0;\n",
      "LaneID:28925528_0;Time:1428.0;\n",
      "LaneID:28925528_0;Time:1429.0;\n"
     ]
    },
    {
     "name": "stderr",
     "output_type": "stream",
     "text": [
      "C:\\Users\\Administrator\\AppData\\Local\\Temp\\ipykernel_16000\\2984826684.py:101: FutureWarning: The frame.append method is deprecated and will be removed from pandas in a future version. Use pandas.concat instead.\n",
      "  redFlagRecord = redFlagRecord.append(veh, ignore_index=True)\n",
      "C:\\Users\\Administrator\\AppData\\Local\\Temp\\ipykernel_16000\\2984826684.py:101: FutureWarning: The frame.append method is deprecated and will be removed from pandas in a future version. Use pandas.concat instead.\n",
      "  redFlagRecord = redFlagRecord.append(veh, ignore_index=True)\n",
      "C:\\Users\\Administrator\\AppData\\Local\\Temp\\ipykernel_16000\\2984826684.py:101: FutureWarning: The frame.append method is deprecated and will be removed from pandas in a future version. Use pandas.concat instead.\n",
      "  redFlagRecord = redFlagRecord.append(veh, ignore_index=True)\n",
      "C:\\Users\\Administrator\\AppData\\Local\\Temp\\ipykernel_16000\\2984826684.py:101: FutureWarning: The frame.append method is deprecated and will be removed from pandas in a future version. Use pandas.concat instead.\n",
      "  redFlagRecord = redFlagRecord.append(veh, ignore_index=True)\n",
      "C:\\Users\\Administrator\\AppData\\Local\\Temp\\ipykernel_16000\\2984826684.py:101: FutureWarning: The frame.append method is deprecated and will be removed from pandas in a future version. Use pandas.concat instead.\n",
      "  redFlagRecord = redFlagRecord.append(veh, ignore_index=True)\n",
      "C:\\Users\\Administrator\\AppData\\Local\\Temp\\ipykernel_16000\\2984826684.py:101: FutureWarning: The frame.append method is deprecated and will be removed from pandas in a future version. Use pandas.concat instead.\n",
      "  redFlagRecord = redFlagRecord.append(veh, ignore_index=True)\n",
      "C:\\Users\\Administrator\\AppData\\Local\\Temp\\ipykernel_16000\\2984826684.py:101: FutureWarning: The frame.append method is deprecated and will be removed from pandas in a future version. Use pandas.concat instead.\n",
      "  redFlagRecord = redFlagRecord.append(veh, ignore_index=True)\n"
     ]
    },
    {
     "name": "stdout",
     "output_type": "stream",
     "text": [
      "LaneID:28925528_0;Time:1430.0;\n",
      "LaneID:28925528_0;Time:1431.0;\n",
      "LaneID:28925528_0;Time:1432.0;\n",
      "LaneID:28925528_0;Time:1433.0;\n",
      "LaneID:28925528_0;Time:1434.0;\n",
      "LaneID:28925528_0;Time:1435.0;\n",
      "LaneID:28925528_0;Time:1436.0;\n"
     ]
    },
    {
     "name": "stderr",
     "output_type": "stream",
     "text": [
      "C:\\Users\\Administrator\\AppData\\Local\\Temp\\ipykernel_16000\\2984826684.py:101: FutureWarning: The frame.append method is deprecated and will be removed from pandas in a future version. Use pandas.concat instead.\n",
      "  redFlagRecord = redFlagRecord.append(veh, ignore_index=True)\n",
      "C:\\Users\\Administrator\\AppData\\Local\\Temp\\ipykernel_16000\\2984826684.py:101: FutureWarning: The frame.append method is deprecated and will be removed from pandas in a future version. Use pandas.concat instead.\n",
      "  redFlagRecord = redFlagRecord.append(veh, ignore_index=True)\n",
      "C:\\Users\\Administrator\\AppData\\Local\\Temp\\ipykernel_16000\\2984826684.py:101: FutureWarning: The frame.append method is deprecated and will be removed from pandas in a future version. Use pandas.concat instead.\n",
      "  redFlagRecord = redFlagRecord.append(veh, ignore_index=True)\n",
      "C:\\Users\\Administrator\\AppData\\Local\\Temp\\ipykernel_16000\\2984826684.py:101: FutureWarning: The frame.append method is deprecated and will be removed from pandas in a future version. Use pandas.concat instead.\n",
      "  redFlagRecord = redFlagRecord.append(veh, ignore_index=True)\n",
      "C:\\Users\\Administrator\\AppData\\Local\\Temp\\ipykernel_16000\\2984826684.py:101: FutureWarning: The frame.append method is deprecated and will be removed from pandas in a future version. Use pandas.concat instead.\n",
      "  redFlagRecord = redFlagRecord.append(veh, ignore_index=True)\n",
      "C:\\Users\\Administrator\\AppData\\Local\\Temp\\ipykernel_16000\\2984826684.py:101: FutureWarning: The frame.append method is deprecated and will be removed from pandas in a future version. Use pandas.concat instead.\n",
      "  redFlagRecord = redFlagRecord.append(veh, ignore_index=True)\n",
      "C:\\Users\\Administrator\\AppData\\Local\\Temp\\ipykernel_16000\\2984826684.py:101: FutureWarning: The frame.append method is deprecated and will be removed from pandas in a future version. Use pandas.concat instead.\n",
      "  redFlagRecord = redFlagRecord.append(veh, ignore_index=True)\n"
     ]
    },
    {
     "name": "stdout",
     "output_type": "stream",
     "text": [
      "LaneID:28925528_0;Time:1437.0;\n",
      "LaneID:28925528_0;Time:1438.0;\n",
      "LaneID:28925528_0;Time:1439.0;\n",
      "LaneID:28925528_0;Time:1440.0;\n",
      "LaneID:28925528_0;Time:1441.0;\n",
      "LaneID:28925528_0;Time:1442.0;\n",
      "LaneID:28925528_0;Time:1443.0;\n"
     ]
    },
    {
     "name": "stderr",
     "output_type": "stream",
     "text": [
      "C:\\Users\\Administrator\\AppData\\Local\\Temp\\ipykernel_16000\\2984826684.py:101: FutureWarning: The frame.append method is deprecated and will be removed from pandas in a future version. Use pandas.concat instead.\n",
      "  redFlagRecord = redFlagRecord.append(veh, ignore_index=True)\n",
      "C:\\Users\\Administrator\\AppData\\Local\\Temp\\ipykernel_16000\\2984826684.py:101: FutureWarning: The frame.append method is deprecated and will be removed from pandas in a future version. Use pandas.concat instead.\n",
      "  redFlagRecord = redFlagRecord.append(veh, ignore_index=True)\n",
      "C:\\Users\\Administrator\\AppData\\Local\\Temp\\ipykernel_16000\\2984826684.py:101: FutureWarning: The frame.append method is deprecated and will be removed from pandas in a future version. Use pandas.concat instead.\n",
      "  redFlagRecord = redFlagRecord.append(veh, ignore_index=True)\n",
      "C:\\Users\\Administrator\\AppData\\Local\\Temp\\ipykernel_16000\\2984826684.py:101: FutureWarning: The frame.append method is deprecated and will be removed from pandas in a future version. Use pandas.concat instead.\n",
      "  redFlagRecord = redFlagRecord.append(veh, ignore_index=True)\n",
      "C:\\Users\\Administrator\\AppData\\Local\\Temp\\ipykernel_16000\\2984826684.py:101: FutureWarning: The frame.append method is deprecated and will be removed from pandas in a future version. Use pandas.concat instead.\n",
      "  redFlagRecord = redFlagRecord.append(veh, ignore_index=True)\n",
      "C:\\Users\\Administrator\\AppData\\Local\\Temp\\ipykernel_16000\\2984826684.py:101: FutureWarning: The frame.append method is deprecated and will be removed from pandas in a future version. Use pandas.concat instead.\n",
      "  redFlagRecord = redFlagRecord.append(veh, ignore_index=True)\n"
     ]
    },
    {
     "name": "stdout",
     "output_type": "stream",
     "text": [
      "LaneID:28925528_0;Time:1458.0;\n",
      "LaneID:28925528_0;Time:1459.0;\n",
      "LaneID:28925528_0;Time:1460.0;\n",
      "LaneID:28925528_0;Time:1461.0;\n",
      "LaneID:28925528_0;Time:1462.0;\n",
      "LaneID:28925528_0;Time:1463.0;\n",
      "LaneID:28925528_0;Time:1464.0;\n",
      "LaneID:28925528_0;Time:1465.0;\n",
      "LaneID:28925528_0;Time:1466.0;\n",
      "LaneID:28925528_0;Time:1467.0;\n",
      "LaneID:28925528_0;Time:1468.0;\n",
      "LaneID:28925528_0;Time:1469.0;\n",
      "LaneID:28925528_0;Time:1470.0;\n",
      "LaneID:28925528_0;Time:1471.0;\n",
      "LaneID:28925528_0;Time:1472.0;\n"
     ]
    },
    {
     "name": "stderr",
     "output_type": "stream",
     "text": [
      "C:\\Users\\Administrator\\AppData\\Local\\Temp\\ipykernel_16000\\2984826684.py:101: FutureWarning: The frame.append method is deprecated and will be removed from pandas in a future version. Use pandas.concat instead.\n",
      "  redFlagRecord = redFlagRecord.append(veh, ignore_index=True)\n",
      "C:\\Users\\Administrator\\AppData\\Local\\Temp\\ipykernel_16000\\2984826684.py:101: FutureWarning: The frame.append method is deprecated and will be removed from pandas in a future version. Use pandas.concat instead.\n",
      "  redFlagRecord = redFlagRecord.append(veh, ignore_index=True)\n",
      "C:\\Users\\Administrator\\AppData\\Local\\Temp\\ipykernel_16000\\2984826684.py:101: FutureWarning: The frame.append method is deprecated and will be removed from pandas in a future version. Use pandas.concat instead.\n",
      "  redFlagRecord = redFlagRecord.append(veh, ignore_index=True)\n",
      "C:\\Users\\Administrator\\AppData\\Local\\Temp\\ipykernel_16000\\2984826684.py:101: FutureWarning: The frame.append method is deprecated and will be removed from pandas in a future version. Use pandas.concat instead.\n",
      "  redFlagRecord = redFlagRecord.append(veh, ignore_index=True)\n",
      "C:\\Users\\Administrator\\AppData\\Local\\Temp\\ipykernel_16000\\2984826684.py:101: FutureWarning: The frame.append method is deprecated and will be removed from pandas in a future version. Use pandas.concat instead.\n",
      "  redFlagRecord = redFlagRecord.append(veh, ignore_index=True)\n",
      "C:\\Users\\Administrator\\AppData\\Local\\Temp\\ipykernel_16000\\2984826684.py:101: FutureWarning: The frame.append method is deprecated and will be removed from pandas in a future version. Use pandas.concat instead.\n",
      "  redFlagRecord = redFlagRecord.append(veh, ignore_index=True)\n"
     ]
    },
    {
     "name": "stdout",
     "output_type": "stream",
     "text": [
      "LaneID:28925528_0;Time:1473.0;\n",
      "LaneID:28925528_0;Time:1474.0;\n",
      "LaneID:28925528_0;Time:1477.0;\n",
      "LaneID:28925528_0;Time:1478.0;\n",
      "LaneID:28925528_0;Time:1479.0;\n",
      "LaneID:28925528_0;Time:1480.0;\n",
      "LaneID:28925528_0;Time:1481.0;\n",
      "LaneID:28925528_0;Time:1482.0;\n",
      "LaneID:28925528_0;Time:1483.0;\n",
      "LaneID:28925528_0;Time:1484.0;\n",
      "LaneID:28925528_0;Time:1485.0;\n",
      "LaneID:28925528_0;Time:1486.0;\n",
      "LaneID:28925528_0;Time:1487.0;\n",
      "LaneID:28925528_0;Time:1488.0;\n",
      "LaneID:28925528_0;Time:1489.0;\n",
      "LaneID:28925528_0;Time:1490.0;\n"
     ]
    },
    {
     "name": "stderr",
     "output_type": "stream",
     "text": [
      "C:\\Users\\Administrator\\AppData\\Local\\Temp\\ipykernel_16000\\2984826684.py:101: FutureWarning: The frame.append method is deprecated and will be removed from pandas in a future version. Use pandas.concat instead.\n",
      "  redFlagRecord = redFlagRecord.append(veh, ignore_index=True)\n",
      "C:\\Users\\Administrator\\AppData\\Local\\Temp\\ipykernel_16000\\2984826684.py:101: FutureWarning: The frame.append method is deprecated and will be removed from pandas in a future version. Use pandas.concat instead.\n",
      "  redFlagRecord = redFlagRecord.append(veh, ignore_index=True)\n",
      "C:\\Users\\Administrator\\AppData\\Local\\Temp\\ipykernel_16000\\2984826684.py:101: FutureWarning: The frame.append method is deprecated and will be removed from pandas in a future version. Use pandas.concat instead.\n",
      "  redFlagRecord = redFlagRecord.append(veh, ignore_index=True)\n",
      "C:\\Users\\Administrator\\AppData\\Local\\Temp\\ipykernel_16000\\2984826684.py:101: FutureWarning: The frame.append method is deprecated and will be removed from pandas in a future version. Use pandas.concat instead.\n",
      "  redFlagRecord = redFlagRecord.append(veh, ignore_index=True)\n",
      "C:\\Users\\Administrator\\AppData\\Local\\Temp\\ipykernel_16000\\2984826684.py:101: FutureWarning: The frame.append method is deprecated and will be removed from pandas in a future version. Use pandas.concat instead.\n",
      "  redFlagRecord = redFlagRecord.append(veh, ignore_index=True)\n",
      "C:\\Users\\Administrator\\AppData\\Local\\Temp\\ipykernel_16000\\2984826684.py:101: FutureWarning: The frame.append method is deprecated and will be removed from pandas in a future version. Use pandas.concat instead.\n",
      "  redFlagRecord = redFlagRecord.append(veh, ignore_index=True)\n",
      "C:\\Users\\Administrator\\AppData\\Local\\Temp\\ipykernel_16000\\2984826684.py:101: FutureWarning: The frame.append method is deprecated and will be removed from pandas in a future version. Use pandas.concat instead.\n",
      "  redFlagRecord = redFlagRecord.append(veh, ignore_index=True)\n"
     ]
    },
    {
     "name": "stdout",
     "output_type": "stream",
     "text": [
      "LaneID:28925528_0;Time:1491.0;\n",
      "LaneID:28925528_0;Time:1492.0;\n",
      "LaneID:28925528_0;Time:1493.0;\n",
      "LaneID:28925528_0;Time:1494.0;\n",
      "LaneID:28925528_0;Time:1495.0;\n",
      "LaneID:28925528_0;Time:1496.0;\n",
      "LaneID:28925528_0;Time:1497.0;\n"
     ]
    },
    {
     "name": "stderr",
     "output_type": "stream",
     "text": [
      "C:\\Users\\Administrator\\AppData\\Local\\Temp\\ipykernel_16000\\2984826684.py:101: FutureWarning: The frame.append method is deprecated and will be removed from pandas in a future version. Use pandas.concat instead.\n",
      "  redFlagRecord = redFlagRecord.append(veh, ignore_index=True)\n",
      "C:\\Users\\Administrator\\AppData\\Local\\Temp\\ipykernel_16000\\2984826684.py:101: FutureWarning: The frame.append method is deprecated and will be removed from pandas in a future version. Use pandas.concat instead.\n",
      "  redFlagRecord = redFlagRecord.append(veh, ignore_index=True)\n",
      "C:\\Users\\Administrator\\AppData\\Local\\Temp\\ipykernel_16000\\2984826684.py:101: FutureWarning: The frame.append method is deprecated and will be removed from pandas in a future version. Use pandas.concat instead.\n",
      "  redFlagRecord = redFlagRecord.append(veh, ignore_index=True)\n",
      "C:\\Users\\Administrator\\AppData\\Local\\Temp\\ipykernel_16000\\2984826684.py:101: FutureWarning: The frame.append method is deprecated and will be removed from pandas in a future version. Use pandas.concat instead.\n",
      "  redFlagRecord = redFlagRecord.append(veh, ignore_index=True)\n",
      "C:\\Users\\Administrator\\AppData\\Local\\Temp\\ipykernel_16000\\2984826684.py:101: FutureWarning: The frame.append method is deprecated and will be removed from pandas in a future version. Use pandas.concat instead.\n",
      "  redFlagRecord = redFlagRecord.append(veh, ignore_index=True)\n",
      "C:\\Users\\Administrator\\AppData\\Local\\Temp\\ipykernel_16000\\2984826684.py:101: FutureWarning: The frame.append method is deprecated and will be removed from pandas in a future version. Use pandas.concat instead.\n",
      "  redFlagRecord = redFlagRecord.append(veh, ignore_index=True)\n"
     ]
    },
    {
     "name": "stdout",
     "output_type": "stream",
     "text": [
      "LaneID:28925528_0;Time:1498.0;\n",
      "LaneID:28925528_0;Time:1499.0;\n",
      "LaneID:28925528_0;Time:1500.0;\n",
      "LaneID:28925528_0;Time:1501.0;\n",
      "LaneID:28925528_0;Time:1502.0;\n",
      "LaneID:28925528_0;Time:1503.0;\n"
     ]
    },
    {
     "name": "stderr",
     "output_type": "stream",
     "text": [
      "C:\\Users\\Administrator\\AppData\\Local\\Temp\\ipykernel_16000\\2984826684.py:101: FutureWarning: The frame.append method is deprecated and will be removed from pandas in a future version. Use pandas.concat instead.\n",
      "  redFlagRecord = redFlagRecord.append(veh, ignore_index=True)\n",
      "C:\\Users\\Administrator\\AppData\\Local\\Temp\\ipykernel_16000\\2984826684.py:101: FutureWarning: The frame.append method is deprecated and will be removed from pandas in a future version. Use pandas.concat instead.\n",
      "  redFlagRecord = redFlagRecord.append(veh, ignore_index=True)\n",
      "C:\\Users\\Administrator\\AppData\\Local\\Temp\\ipykernel_16000\\2984826684.py:101: FutureWarning: The frame.append method is deprecated and will be removed from pandas in a future version. Use pandas.concat instead.\n",
      "  redFlagRecord = redFlagRecord.append(veh, ignore_index=True)\n",
      "C:\\Users\\Administrator\\AppData\\Local\\Temp\\ipykernel_16000\\2984826684.py:101: FutureWarning: The frame.append method is deprecated and will be removed from pandas in a future version. Use pandas.concat instead.\n",
      "  redFlagRecord = redFlagRecord.append(veh, ignore_index=True)\n",
      "C:\\Users\\Administrator\\AppData\\Local\\Temp\\ipykernel_16000\\2984826684.py:101: FutureWarning: The frame.append method is deprecated and will be removed from pandas in a future version. Use pandas.concat instead.\n",
      "  redFlagRecord = redFlagRecord.append(veh, ignore_index=True)\n",
      "C:\\Users\\Administrator\\AppData\\Local\\Temp\\ipykernel_16000\\2984826684.py:101: FutureWarning: The frame.append method is deprecated and will be removed from pandas in a future version. Use pandas.concat instead.\n",
      "  redFlagRecord = redFlagRecord.append(veh, ignore_index=True)\n",
      "C:\\Users\\Administrator\\AppData\\Local\\Temp\\ipykernel_16000\\2984826684.py:101: FutureWarning: The frame.append method is deprecated and will be removed from pandas in a future version. Use pandas.concat instead.\n",
      "  redFlagRecord = redFlagRecord.append(veh, ignore_index=True)\n"
     ]
    },
    {
     "name": "stdout",
     "output_type": "stream",
     "text": [
      "LaneID:28925528_0;Time:1504.0;\n",
      "LaneID:28925528_0;Time:1505.0;\n",
      "LaneID:28925528_0;Time:1506.0;\n",
      "LaneID:28925528_0;Time:1507.0;\n",
      "LaneID:28925528_0;Time:1515.0;\n",
      "LaneID:28925528_0;Time:1516.0;\n",
      "LaneID:28925528_0;Time:1517.0;\n",
      "LaneID:28925528_0;Time:1518.0;\n",
      "LaneID:28925528_0;Time:1519.0;\n",
      "LaneID:28925528_0;Time:1520.0;\n",
      "LaneID:28925528_0;Time:1521.0;\n",
      "LaneID:28925528_0;Time:1528.0;\n",
      "LaneID:28925528_0;Time:1529.0;\n",
      "LaneID:28925528_0;Time:1530.0;\n",
      "LaneID:28925528_0;Time:1531.0;\n",
      "LaneID:28925528_0;Time:1532.0;\n"
     ]
    },
    {
     "name": "stderr",
     "output_type": "stream",
     "text": [
      "C:\\Users\\Administrator\\AppData\\Local\\Temp\\ipykernel_16000\\2984826684.py:101: FutureWarning: The frame.append method is deprecated and will be removed from pandas in a future version. Use pandas.concat instead.\n",
      "  redFlagRecord = redFlagRecord.append(veh, ignore_index=True)\n",
      "C:\\Users\\Administrator\\AppData\\Local\\Temp\\ipykernel_16000\\2984826684.py:101: FutureWarning: The frame.append method is deprecated and will be removed from pandas in a future version. Use pandas.concat instead.\n",
      "  redFlagRecord = redFlagRecord.append(veh, ignore_index=True)\n",
      "C:\\Users\\Administrator\\AppData\\Local\\Temp\\ipykernel_16000\\2984826684.py:101: FutureWarning: The frame.append method is deprecated and will be removed from pandas in a future version. Use pandas.concat instead.\n",
      "  redFlagRecord = redFlagRecord.append(veh, ignore_index=True)\n",
      "C:\\Users\\Administrator\\AppData\\Local\\Temp\\ipykernel_16000\\2984826684.py:101: FutureWarning: The frame.append method is deprecated and will be removed from pandas in a future version. Use pandas.concat instead.\n",
      "  redFlagRecord = redFlagRecord.append(veh, ignore_index=True)\n",
      "C:\\Users\\Administrator\\AppData\\Local\\Temp\\ipykernel_16000\\2984826684.py:101: FutureWarning: The frame.append method is deprecated and will be removed from pandas in a future version. Use pandas.concat instead.\n",
      "  redFlagRecord = redFlagRecord.append(veh, ignore_index=True)\n",
      "C:\\Users\\Administrator\\AppData\\Local\\Temp\\ipykernel_16000\\2984826684.py:101: FutureWarning: The frame.append method is deprecated and will be removed from pandas in a future version. Use pandas.concat instead.\n",
      "  redFlagRecord = redFlagRecord.append(veh, ignore_index=True)\n"
     ]
    },
    {
     "name": "stdout",
     "output_type": "stream",
     "text": [
      "LaneID:28925528_0;Time:1533.0;\n",
      "LaneID:28925528_0;Time:1534.0;\n",
      "LaneID:28925528_0;Time:1535.0;\n",
      "LaneID:28925528_0;Time:1536.0;\n",
      "LaneID:28925528_0;Time:1537.0;\n",
      "LaneID:28925528_0;Time:1538.0;\n",
      "LaneID:28925528_0;Time:1539.0;\n",
      "LaneID:28925528_0;Time:1540.0;\n",
      "LaneID:28925528_0;Time:1553.0;\n",
      "LaneID:28925528_0;Time:1554.0;\n",
      "LaneID:28925528_0;Time:1555.0;\n",
      "LaneID:28925528_0;Time:1556.0;\n",
      "LaneID:28925528_0;Time:1557.0;\n",
      "LaneID:28925528_0;Time:1558.0;\n",
      "LaneID:28925528_0;Time:1559.0;\n",
      "LaneID:28925528_0;Time:1560.0;\n",
      "LaneID:28925528_0;Time:1561.0;\n",
      "LaneID:28925528_0;Time:1562.0;\n",
      "LaneID:28925528_0;Time:1563.0;\n"
     ]
    },
    {
     "name": "stderr",
     "output_type": "stream",
     "text": [
      "C:\\Users\\Administrator\\AppData\\Local\\Temp\\ipykernel_16000\\2984826684.py:101: FutureWarning: The frame.append method is deprecated and will be removed from pandas in a future version. Use pandas.concat instead.\n",
      "  redFlagRecord = redFlagRecord.append(veh, ignore_index=True)\n",
      "C:\\Users\\Administrator\\AppData\\Local\\Temp\\ipykernel_16000\\2984826684.py:101: FutureWarning: The frame.append method is deprecated and will be removed from pandas in a future version. Use pandas.concat instead.\n",
      "  redFlagRecord = redFlagRecord.append(veh, ignore_index=True)\n",
      "C:\\Users\\Administrator\\AppData\\Local\\Temp\\ipykernel_16000\\2984826684.py:101: FutureWarning: The frame.append method is deprecated and will be removed from pandas in a future version. Use pandas.concat instead.\n",
      "  redFlagRecord = redFlagRecord.append(veh, ignore_index=True)\n",
      "C:\\Users\\Administrator\\AppData\\Local\\Temp\\ipykernel_16000\\2984826684.py:101: FutureWarning: The frame.append method is deprecated and will be removed from pandas in a future version. Use pandas.concat instead.\n",
      "  redFlagRecord = redFlagRecord.append(veh, ignore_index=True)\n",
      "C:\\Users\\Administrator\\AppData\\Local\\Temp\\ipykernel_16000\\2984826684.py:101: FutureWarning: The frame.append method is deprecated and will be removed from pandas in a future version. Use pandas.concat instead.\n",
      "  redFlagRecord = redFlagRecord.append(veh, ignore_index=True)\n",
      "C:\\Users\\Administrator\\AppData\\Local\\Temp\\ipykernel_16000\\2984826684.py:101: FutureWarning: The frame.append method is deprecated and will be removed from pandas in a future version. Use pandas.concat instead.\n",
      "  redFlagRecord = redFlagRecord.append(veh, ignore_index=True)\n"
     ]
    },
    {
     "name": "stdout",
     "output_type": "stream",
     "text": [
      "LaneID:28925528_0;Time:1564.0;\n",
      "LaneID:28925528_0;Time:1565.0;\n",
      "LaneID:28925528_0;Time:1566.0;\n",
      "LaneID:28925528_0;Time:1567.0;\n",
      "LaneID:28925528_0;Time:1573.0;\n",
      "LaneID:28925528_0;Time:1574.0;\n",
      "LaneID:28925528_0;Time:1575.0;\n",
      "LaneID:28925528_0;Time:1576.0;\n",
      "LaneID:28925528_0;Time:1577.0;\n",
      "LaneID:28925528_0;Time:1578.0;\n",
      "LaneID:28925528_0;Time:1579.0;\n",
      "LaneID:28925528_0;Time:1580.0;\n",
      "LaneID:28925528_0;Time:1581.0;\n",
      "LaneID:28925528_0;Time:1582.0;\n",
      "LaneID:28925528_0;Time:1583.0;\n"
     ]
    },
    {
     "name": "stderr",
     "output_type": "stream",
     "text": [
      "C:\\Users\\Administrator\\AppData\\Local\\Temp\\ipykernel_16000\\2984826684.py:101: FutureWarning: The frame.append method is deprecated and will be removed from pandas in a future version. Use pandas.concat instead.\n",
      "  redFlagRecord = redFlagRecord.append(veh, ignore_index=True)\n",
      "C:\\Users\\Administrator\\AppData\\Local\\Temp\\ipykernel_16000\\2984826684.py:101: FutureWarning: The frame.append method is deprecated and will be removed from pandas in a future version. Use pandas.concat instead.\n",
      "  redFlagRecord = redFlagRecord.append(veh, ignore_index=True)\n",
      "C:\\Users\\Administrator\\AppData\\Local\\Temp\\ipykernel_16000\\2984826684.py:101: FutureWarning: The frame.append method is deprecated and will be removed from pandas in a future version. Use pandas.concat instead.\n",
      "  redFlagRecord = redFlagRecord.append(veh, ignore_index=True)\n",
      "C:\\Users\\Administrator\\AppData\\Local\\Temp\\ipykernel_16000\\2984826684.py:101: FutureWarning: The frame.append method is deprecated and will be removed from pandas in a future version. Use pandas.concat instead.\n",
      "  redFlagRecord = redFlagRecord.append(veh, ignore_index=True)\n",
      "C:\\Users\\Administrator\\AppData\\Local\\Temp\\ipykernel_16000\\2984826684.py:101: FutureWarning: The frame.append method is deprecated and will be removed from pandas in a future version. Use pandas.concat instead.\n",
      "  redFlagRecord = redFlagRecord.append(veh, ignore_index=True)\n",
      "C:\\Users\\Administrator\\AppData\\Local\\Temp\\ipykernel_16000\\2984826684.py:101: FutureWarning: The frame.append method is deprecated and will be removed from pandas in a future version. Use pandas.concat instead.\n",
      "  redFlagRecord = redFlagRecord.append(veh, ignore_index=True)\n",
      "C:\\Users\\Administrator\\AppData\\Local\\Temp\\ipykernel_16000\\2984826684.py:101: FutureWarning: The frame.append method is deprecated and will be removed from pandas in a future version. Use pandas.concat instead.\n",
      "  redFlagRecord = redFlagRecord.append(veh, ignore_index=True)\n"
     ]
    },
    {
     "name": "stdout",
     "output_type": "stream",
     "text": [
      "LaneID:28925528_0;Time:1584.0;\n",
      "LaneID:28925528_0;Time:1585.0;\n",
      "LaneID:28925528_0;Time:1586.0;\n",
      "LaneID:28925528_0;Time:1587.0;\n",
      "LaneID:28925528_0;Time:1588.0;\n",
      "LaneID:28925528_0;Time:1589.0;\n",
      "LaneID:28925528_0;Time:1590.0;\n"
     ]
    },
    {
     "name": "stderr",
     "output_type": "stream",
     "text": [
      "C:\\Users\\Administrator\\AppData\\Local\\Temp\\ipykernel_16000\\2984826684.py:101: FutureWarning: The frame.append method is deprecated and will be removed from pandas in a future version. Use pandas.concat instead.\n",
      "  redFlagRecord = redFlagRecord.append(veh, ignore_index=True)\n",
      "C:\\Users\\Administrator\\AppData\\Local\\Temp\\ipykernel_16000\\2984826684.py:101: FutureWarning: The frame.append method is deprecated and will be removed from pandas in a future version. Use pandas.concat instead.\n",
      "  redFlagRecord = redFlagRecord.append(veh, ignore_index=True)\n",
      "C:\\Users\\Administrator\\AppData\\Local\\Temp\\ipykernel_16000\\2984826684.py:101: FutureWarning: The frame.append method is deprecated and will be removed from pandas in a future version. Use pandas.concat instead.\n",
      "  redFlagRecord = redFlagRecord.append(veh, ignore_index=True)\n",
      "C:\\Users\\Administrator\\AppData\\Local\\Temp\\ipykernel_16000\\2984826684.py:101: FutureWarning: The frame.append method is deprecated and will be removed from pandas in a future version. Use pandas.concat instead.\n",
      "  redFlagRecord = redFlagRecord.append(veh, ignore_index=True)\n",
      "C:\\Users\\Administrator\\AppData\\Local\\Temp\\ipykernel_16000\\2984826684.py:101: FutureWarning: The frame.append method is deprecated and will be removed from pandas in a future version. Use pandas.concat instead.\n",
      "  redFlagRecord = redFlagRecord.append(veh, ignore_index=True)\n",
      "C:\\Users\\Administrator\\AppData\\Local\\Temp\\ipykernel_16000\\2984826684.py:101: FutureWarning: The frame.append method is deprecated and will be removed from pandas in a future version. Use pandas.concat instead.\n",
      "  redFlagRecord = redFlagRecord.append(veh, ignore_index=True)\n",
      "C:\\Users\\Administrator\\AppData\\Local\\Temp\\ipykernel_16000\\2984826684.py:101: FutureWarning: The frame.append method is deprecated and will be removed from pandas in a future version. Use pandas.concat instead.\n",
      "  redFlagRecord = redFlagRecord.append(veh, ignore_index=True)\n"
     ]
    },
    {
     "name": "stdout",
     "output_type": "stream",
     "text": [
      "LaneID:28925528_0;Time:1591.0;\n",
      "LaneID:28925528_0;Time:1592.0;\n",
      "LaneID:28925528_0;Time:1593.0;\n",
      "LaneID:28925528_0;Time:1594.0;\n",
      "LaneID:28925528_0;Time:1595.0;\n",
      "LaneID:28925528_0;Time:1596.0;\n",
      "LaneID:28925528_0;Time:1597.0;\n"
     ]
    },
    {
     "name": "stderr",
     "output_type": "stream",
     "text": [
      "C:\\Users\\Administrator\\AppData\\Local\\Temp\\ipykernel_16000\\2984826684.py:101: FutureWarning: The frame.append method is deprecated and will be removed from pandas in a future version. Use pandas.concat instead.\n",
      "  redFlagRecord = redFlagRecord.append(veh, ignore_index=True)\n",
      "C:\\Users\\Administrator\\AppData\\Local\\Temp\\ipykernel_16000\\2984826684.py:101: FutureWarning: The frame.append method is deprecated and will be removed from pandas in a future version. Use pandas.concat instead.\n",
      "  redFlagRecord = redFlagRecord.append(veh, ignore_index=True)\n",
      "C:\\Users\\Administrator\\AppData\\Local\\Temp\\ipykernel_16000\\2984826684.py:101: FutureWarning: The frame.append method is deprecated and will be removed from pandas in a future version. Use pandas.concat instead.\n",
      "  redFlagRecord = redFlagRecord.append(veh, ignore_index=True)\n",
      "C:\\Users\\Administrator\\AppData\\Local\\Temp\\ipykernel_16000\\2984826684.py:101: FutureWarning: The frame.append method is deprecated and will be removed from pandas in a future version. Use pandas.concat instead.\n",
      "  redFlagRecord = redFlagRecord.append(veh, ignore_index=True)\n",
      "C:\\Users\\Administrator\\AppData\\Local\\Temp\\ipykernel_16000\\2984826684.py:101: FutureWarning: The frame.append method is deprecated and will be removed from pandas in a future version. Use pandas.concat instead.\n",
      "  redFlagRecord = redFlagRecord.append(veh, ignore_index=True)\n",
      "C:\\Users\\Administrator\\AppData\\Local\\Temp\\ipykernel_16000\\2984826684.py:101: FutureWarning: The frame.append method is deprecated and will be removed from pandas in a future version. Use pandas.concat instead.\n",
      "  redFlagRecord = redFlagRecord.append(veh, ignore_index=True)\n",
      "C:\\Users\\Administrator\\AppData\\Local\\Temp\\ipykernel_16000\\2984826684.py:101: FutureWarning: The frame.append method is deprecated and will be removed from pandas in a future version. Use pandas.concat instead.\n",
      "  redFlagRecord = redFlagRecord.append(veh, ignore_index=True)\n"
     ]
    },
    {
     "name": "stdout",
     "output_type": "stream",
     "text": [
      "LaneID:28925528_0;Time:1598.0;\n",
      "LaneID:28925528_0;Time:1599.0;\n",
      "LaneID:28925528_0;Time:1600.0;\n",
      "LaneID:28925528_0;Time:1612.0;\n",
      "LaneID:28925528_0;Time:1613.0;\n",
      "LaneID:28925528_0;Time:1614.0;\n",
      "LaneID:28925528_0;Time:1615.0;\n",
      "LaneID:28925528_0;Time:1616.0;\n",
      "LaneID:28925528_0;Time:1617.0;\n",
      "LaneID:28925528_0;Time:1618.0;\n",
      "LaneID:28925528_0;Time:1619.0;\n",
      "LaneID:28925528_0;Time:1620.0;\n",
      "LaneID:28925528_0;Time:1621.0;\n",
      "LaneID:28925528_0;Time:1622.0;\n",
      "LaneID:28925528_0;Time:1623.0;\n",
      "LaneID:28925528_0;Time:1624.0;\n",
      "LaneID:28925528_0;Time:1625.0;\n",
      "LaneID:28925528_0;Time:1626.0;\n"
     ]
    },
    {
     "name": "stderr",
     "output_type": "stream",
     "text": [
      "C:\\Users\\Administrator\\AppData\\Local\\Temp\\ipykernel_16000\\2984826684.py:101: FutureWarning: The frame.append method is deprecated and will be removed from pandas in a future version. Use pandas.concat instead.\n",
      "  redFlagRecord = redFlagRecord.append(veh, ignore_index=True)\n",
      "C:\\Users\\Administrator\\AppData\\Local\\Temp\\ipykernel_16000\\2984826684.py:101: FutureWarning: The frame.append method is deprecated and will be removed from pandas in a future version. Use pandas.concat instead.\n",
      "  redFlagRecord = redFlagRecord.append(veh, ignore_index=True)\n",
      "C:\\Users\\Administrator\\AppData\\Local\\Temp\\ipykernel_16000\\2984826684.py:101: FutureWarning: The frame.append method is deprecated and will be removed from pandas in a future version. Use pandas.concat instead.\n",
      "  redFlagRecord = redFlagRecord.append(veh, ignore_index=True)\n",
      "C:\\Users\\Administrator\\AppData\\Local\\Temp\\ipykernel_16000\\2984826684.py:101: FutureWarning: The frame.append method is deprecated and will be removed from pandas in a future version. Use pandas.concat instead.\n",
      "  redFlagRecord = redFlagRecord.append(veh, ignore_index=True)\n",
      "C:\\Users\\Administrator\\AppData\\Local\\Temp\\ipykernel_16000\\2984826684.py:101: FutureWarning: The frame.append method is deprecated and will be removed from pandas in a future version. Use pandas.concat instead.\n",
      "  redFlagRecord = redFlagRecord.append(veh, ignore_index=True)\n",
      "C:\\Users\\Administrator\\AppData\\Local\\Temp\\ipykernel_16000\\2984826684.py:101: FutureWarning: The frame.append method is deprecated and will be removed from pandas in a future version. Use pandas.concat instead.\n",
      "  redFlagRecord = redFlagRecord.append(veh, ignore_index=True)\n"
     ]
    },
    {
     "name": "stdout",
     "output_type": "stream",
     "text": [
      "LaneID:28925528_0;Time:1627.0;\n",
      "LaneID:28925528_0;Time:1628.0;\n",
      "LaneID:28925528_0;Time:1629.0;\n",
      "LaneID:28925528_0;Time:1630.0;\n",
      "LaneID:28925528_0;Time:1631.0;\n",
      "LaneID:28925528_0;Time:1632.0;\n",
      "LaneID:28925528_0;Time:1633.0;\n",
      "LaneID:28925528_0;Time:1634.0;\n",
      "LaneID:28925528_0;Time:1635.0;\n",
      "LaneID:28925528_0;Time:1636.0;\n",
      "LaneID:28925528_0;Time:1649.0;\n",
      "LaneID:28925528_0;Time:1650.0;\n",
      "LaneID:28925528_0;Time:1651.0;\n",
      "LaneID:28925528_0;Time:1652.0;\n",
      "LaneID:28925528_0;Time:1653.0;\n",
      "LaneID:28925528_0;Time:1654.0;\n",
      "LaneID:28925528_0;Time:1655.0;\n",
      "LaneID:28925528_0;Time:1656.0;\n",
      "LaneID:28925528_0;Time:1657.0;\n",
      "LaneID:28925528_0;Time:1658.0;\n",
      "LaneID:28925528_0;Time:1659.0;\n",
      "LaneID:28925528_0;Time:1660.0;\n"
     ]
    },
    {
     "name": "stderr",
     "output_type": "stream",
     "text": [
      "C:\\Users\\Administrator\\AppData\\Local\\Temp\\ipykernel_16000\\2984826684.py:101: FutureWarning: The frame.append method is deprecated and will be removed from pandas in a future version. Use pandas.concat instead.\n",
      "  redFlagRecord = redFlagRecord.append(veh, ignore_index=True)\n",
      "C:\\Users\\Administrator\\AppData\\Local\\Temp\\ipykernel_16000\\2984826684.py:101: FutureWarning: The frame.append method is deprecated and will be removed from pandas in a future version. Use pandas.concat instead.\n",
      "  redFlagRecord = redFlagRecord.append(veh, ignore_index=True)\n",
      "C:\\Users\\Administrator\\AppData\\Local\\Temp\\ipykernel_16000\\2984826684.py:101: FutureWarning: The frame.append method is deprecated and will be removed from pandas in a future version. Use pandas.concat instead.\n",
      "  redFlagRecord = redFlagRecord.append(veh, ignore_index=True)\n",
      "C:\\Users\\Administrator\\AppData\\Local\\Temp\\ipykernel_16000\\2984826684.py:101: FutureWarning: The frame.append method is deprecated and will be removed from pandas in a future version. Use pandas.concat instead.\n",
      "  redFlagRecord = redFlagRecord.append(veh, ignore_index=True)\n",
      "C:\\Users\\Administrator\\AppData\\Local\\Temp\\ipykernel_16000\\2984826684.py:101: FutureWarning: The frame.append method is deprecated and will be removed from pandas in a future version. Use pandas.concat instead.\n",
      "  redFlagRecord = redFlagRecord.append(veh, ignore_index=True)\n",
      "C:\\Users\\Administrator\\AppData\\Local\\Temp\\ipykernel_16000\\2984826684.py:101: FutureWarning: The frame.append method is deprecated and will be removed from pandas in a future version. Use pandas.concat instead.\n",
      "  redFlagRecord = redFlagRecord.append(veh, ignore_index=True)\n",
      "C:\\Users\\Administrator\\AppData\\Local\\Temp\\ipykernel_16000\\2984826684.py:101: FutureWarning: The frame.append method is deprecated and will be removed from pandas in a future version. Use pandas.concat instead.\n",
      "  redFlagRecord = redFlagRecord.append(veh, ignore_index=True)\n"
     ]
    },
    {
     "name": "stdout",
     "output_type": "stream",
     "text": [
      "LaneID:28925528_0;Time:1668.0;\n",
      "LaneID:28925528_0;Time:1669.0;\n",
      "LaneID:28925528_0;Time:1670.0;\n",
      "LaneID:28925528_0;Time:1671.0;\n",
      "LaneID:28925528_0;Time:1672.0;\n",
      "LaneID:28925528_0;Time:1673.0;\n",
      "LaneID:28925528_0;Time:1674.0;\n",
      "LaneID:28925528_0;Time:1675.0;\n",
      "LaneID:28925528_0;Time:1676.0;\n",
      "LaneID:28925528_0;Time:1677.0;\n",
      "LaneID:28925528_0;Time:1678.0;\n",
      "LaneID:28925528_0;Time:1679.0;\n",
      "LaneID:28925528_0;Time:1680.0;\n",
      "LaneID:28925528_0;Time:1681.0;\n",
      "LaneID:28925528_0;Time:1682.0;\n",
      "LaneID:28925528_0;Time:1683.0;\n"
     ]
    },
    {
     "name": "stderr",
     "output_type": "stream",
     "text": [
      "C:\\Users\\Administrator\\AppData\\Local\\Temp\\ipykernel_16000\\2984826684.py:101: FutureWarning: The frame.append method is deprecated and will be removed from pandas in a future version. Use pandas.concat instead.\n",
      "  redFlagRecord = redFlagRecord.append(veh, ignore_index=True)\n",
      "C:\\Users\\Administrator\\AppData\\Local\\Temp\\ipykernel_16000\\2984826684.py:101: FutureWarning: The frame.append method is deprecated and will be removed from pandas in a future version. Use pandas.concat instead.\n",
      "  redFlagRecord = redFlagRecord.append(veh, ignore_index=True)\n",
      "C:\\Users\\Administrator\\AppData\\Local\\Temp\\ipykernel_16000\\2984826684.py:101: FutureWarning: The frame.append method is deprecated and will be removed from pandas in a future version. Use pandas.concat instead.\n",
      "  redFlagRecord = redFlagRecord.append(veh, ignore_index=True)\n",
      "C:\\Users\\Administrator\\AppData\\Local\\Temp\\ipykernel_16000\\2984826684.py:101: FutureWarning: The frame.append method is deprecated and will be removed from pandas in a future version. Use pandas.concat instead.\n",
      "  redFlagRecord = redFlagRecord.append(veh, ignore_index=True)\n",
      "C:\\Users\\Administrator\\AppData\\Local\\Temp\\ipykernel_16000\\2984826684.py:101: FutureWarning: The frame.append method is deprecated and will be removed from pandas in a future version. Use pandas.concat instead.\n",
      "  redFlagRecord = redFlagRecord.append(veh, ignore_index=True)\n",
      "C:\\Users\\Administrator\\AppData\\Local\\Temp\\ipykernel_16000\\2984826684.py:101: FutureWarning: The frame.append method is deprecated and will be removed from pandas in a future version. Use pandas.concat instead.\n",
      "  redFlagRecord = redFlagRecord.append(veh, ignore_index=True)\n",
      "C:\\Users\\Administrator\\AppData\\Local\\Temp\\ipykernel_16000\\2984826684.py:101: FutureWarning: The frame.append method is deprecated and will be removed from pandas in a future version. Use pandas.concat instead.\n",
      "  redFlagRecord = redFlagRecord.append(veh, ignore_index=True)\n"
     ]
    },
    {
     "name": "stdout",
     "output_type": "stream",
     "text": [
      "LaneID:28925528_0;Time:1684.0;\n",
      "LaneID:28925528_0;Time:1685.0;\n",
      "LaneID:28925528_0;Time:1686.0;\n",
      "LaneID:28925528_0;Time:1687.0;\n",
      "LaneID:28925528_0;Time:1688.0;\n",
      "LaneID:28925528_0;Time:1689.0;\n",
      "LaneID:28925528_0;Time:1690.0;\n"
     ]
    },
    {
     "name": "stderr",
     "output_type": "stream",
     "text": [
      "C:\\Users\\Administrator\\AppData\\Local\\Temp\\ipykernel_16000\\2984826684.py:101: FutureWarning: The frame.append method is deprecated and will be removed from pandas in a future version. Use pandas.concat instead.\n",
      "  redFlagRecord = redFlagRecord.append(veh, ignore_index=True)\n",
      "C:\\Users\\Administrator\\AppData\\Local\\Temp\\ipykernel_16000\\2984826684.py:101: FutureWarning: The frame.append method is deprecated and will be removed from pandas in a future version. Use pandas.concat instead.\n",
      "  redFlagRecord = redFlagRecord.append(veh, ignore_index=True)\n",
      "C:\\Users\\Administrator\\AppData\\Local\\Temp\\ipykernel_16000\\2984826684.py:101: FutureWarning: The frame.append method is deprecated and will be removed from pandas in a future version. Use pandas.concat instead.\n",
      "  redFlagRecord = redFlagRecord.append(veh, ignore_index=True)\n",
      "C:\\Users\\Administrator\\AppData\\Local\\Temp\\ipykernel_16000\\2984826684.py:101: FutureWarning: The frame.append method is deprecated and will be removed from pandas in a future version. Use pandas.concat instead.\n",
      "  redFlagRecord = redFlagRecord.append(veh, ignore_index=True)\n",
      "C:\\Users\\Administrator\\AppData\\Local\\Temp\\ipykernel_16000\\2984826684.py:101: FutureWarning: The frame.append method is deprecated and will be removed from pandas in a future version. Use pandas.concat instead.\n",
      "  redFlagRecord = redFlagRecord.append(veh, ignore_index=True)\n",
      "C:\\Users\\Administrator\\AppData\\Local\\Temp\\ipykernel_16000\\2984826684.py:101: FutureWarning: The frame.append method is deprecated and will be removed from pandas in a future version. Use pandas.concat instead.\n",
      "  redFlagRecord = redFlagRecord.append(veh, ignore_index=True)\n",
      "C:\\Users\\Administrator\\AppData\\Local\\Temp\\ipykernel_16000\\2984826684.py:101: FutureWarning: The frame.append method is deprecated and will be removed from pandas in a future version. Use pandas.concat instead.\n",
      "  redFlagRecord = redFlagRecord.append(veh, ignore_index=True)\n"
     ]
    },
    {
     "name": "stdout",
     "output_type": "stream",
     "text": [
      "LaneID:28925528_0;Time:1691.0;\n",
      "LaneID:28925528_0;Time:1692.0;\n",
      "LaneID:28925528_0;Time:1693.0;\n",
      "LaneID:28925528_0;Time:1694.0;\n",
      "LaneID:28925528_0;Time:1707.0;\n",
      "LaneID:28925528_0;Time:1708.0;\n",
      "LaneID:28925528_0;Time:1709.0;\n",
      "LaneID:28925528_0;Time:1710.0;\n",
      "LaneID:28925528_0;Time:1711.0;\n",
      "LaneID:28925528_0;Time:1712.0;\n",
      "LaneID:28925528_0;Time:1713.0;\n",
      "LaneID:28925528_0;Time:1714.0;\n",
      "LaneID:28925528_0;Time:1715.0;\n",
      "LaneID:28925528_0;Time:1716.0;\n",
      "LaneID:28925528_0;Time:1717.0;\n",
      "LaneID:28925528_0;Time:1718.0;\n",
      "LaneID:28925528_0;Time:1719.0;\n",
      "LaneID:28925528_0;Time:1720.0;\n",
      "LaneID:28925528_0;Time:1721.0;\n"
     ]
    },
    {
     "name": "stderr",
     "output_type": "stream",
     "text": [
      "C:\\Users\\Administrator\\AppData\\Local\\Temp\\ipykernel_16000\\2984826684.py:101: FutureWarning: The frame.append method is deprecated and will be removed from pandas in a future version. Use pandas.concat instead.\n",
      "  redFlagRecord = redFlagRecord.append(veh, ignore_index=True)\n",
      "C:\\Users\\Administrator\\AppData\\Local\\Temp\\ipykernel_16000\\2984826684.py:101: FutureWarning: The frame.append method is deprecated and will be removed from pandas in a future version. Use pandas.concat instead.\n",
      "  redFlagRecord = redFlagRecord.append(veh, ignore_index=True)\n",
      "C:\\Users\\Administrator\\AppData\\Local\\Temp\\ipykernel_16000\\2984826684.py:101: FutureWarning: The frame.append method is deprecated and will be removed from pandas in a future version. Use pandas.concat instead.\n",
      "  redFlagRecord = redFlagRecord.append(veh, ignore_index=True)\n",
      "C:\\Users\\Administrator\\AppData\\Local\\Temp\\ipykernel_16000\\2984826684.py:101: FutureWarning: The frame.append method is deprecated and will be removed from pandas in a future version. Use pandas.concat instead.\n",
      "  redFlagRecord = redFlagRecord.append(veh, ignore_index=True)\n",
      "C:\\Users\\Administrator\\AppData\\Local\\Temp\\ipykernel_16000\\2984826684.py:101: FutureWarning: The frame.append method is deprecated and will be removed from pandas in a future version. Use pandas.concat instead.\n",
      "  redFlagRecord = redFlagRecord.append(veh, ignore_index=True)\n",
      "C:\\Users\\Administrator\\AppData\\Local\\Temp\\ipykernel_16000\\2984826684.py:101: FutureWarning: The frame.append method is deprecated and will be removed from pandas in a future version. Use pandas.concat instead.\n",
      "  redFlagRecord = redFlagRecord.append(veh, ignore_index=True)\n",
      "C:\\Users\\Administrator\\AppData\\Local\\Temp\\ipykernel_16000\\2984826684.py:101: FutureWarning: The frame.append method is deprecated and will be removed from pandas in a future version. Use pandas.concat instead.\n",
      "  redFlagRecord = redFlagRecord.append(veh, ignore_index=True)\n"
     ]
    },
    {
     "name": "stdout",
     "output_type": "stream",
     "text": [
      "LaneID:28925528_0;Time:1722.0;\n",
      "LaneID:28925528_0;Time:1726.0;\n",
      "LaneID:28925528_0;Time:1727.0;\n",
      "LaneID:28925528_0;Time:1728.0;\n",
      "LaneID:28925528_0;Time:1729.0;\n",
      "LaneID:28925528_0;Time:1730.0;\n",
      "LaneID:28925528_0;Time:1731.0;\n",
      "LaneID:28925528_0;Time:1732.0;\n",
      "LaneID:28925528_0;Time:1733.0;\n",
      "LaneID:28925528_0;Time:1734.0;\n",
      "LaneID:28925528_0;Time:1735.0;\n",
      "LaneID:28925528_0;Time:1736.0;\n",
      "LaneID:28925528_0;Time:1737.0;\n",
      "LaneID:28925528_0;Time:1738.0;\n",
      "LaneID:28925528_0;Time:1739.0;\n",
      "LaneID:28925528_0;Time:1740.0;\n"
     ]
    },
    {
     "name": "stderr",
     "output_type": "stream",
     "text": [
      "C:\\Users\\Administrator\\AppData\\Local\\Temp\\ipykernel_16000\\2984826684.py:101: FutureWarning: The frame.append method is deprecated and will be removed from pandas in a future version. Use pandas.concat instead.\n",
      "  redFlagRecord = redFlagRecord.append(veh, ignore_index=True)\n",
      "C:\\Users\\Administrator\\AppData\\Local\\Temp\\ipykernel_16000\\2984826684.py:101: FutureWarning: The frame.append method is deprecated and will be removed from pandas in a future version. Use pandas.concat instead.\n",
      "  redFlagRecord = redFlagRecord.append(veh, ignore_index=True)\n",
      "C:\\Users\\Administrator\\AppData\\Local\\Temp\\ipykernel_16000\\2984826684.py:101: FutureWarning: The frame.append method is deprecated and will be removed from pandas in a future version. Use pandas.concat instead.\n",
      "  redFlagRecord = redFlagRecord.append(veh, ignore_index=True)\n",
      "C:\\Users\\Administrator\\AppData\\Local\\Temp\\ipykernel_16000\\2984826684.py:101: FutureWarning: The frame.append method is deprecated and will be removed from pandas in a future version. Use pandas.concat instead.\n",
      "  redFlagRecord = redFlagRecord.append(veh, ignore_index=True)\n",
      "C:\\Users\\Administrator\\AppData\\Local\\Temp\\ipykernel_16000\\2984826684.py:101: FutureWarning: The frame.append method is deprecated and will be removed from pandas in a future version. Use pandas.concat instead.\n",
      "  redFlagRecord = redFlagRecord.append(veh, ignore_index=True)\n",
      "C:\\Users\\Administrator\\AppData\\Local\\Temp\\ipykernel_16000\\2984826684.py:101: FutureWarning: The frame.append method is deprecated and will be removed from pandas in a future version. Use pandas.concat instead.\n",
      "  redFlagRecord = redFlagRecord.append(veh, ignore_index=True)\n",
      "C:\\Users\\Administrator\\AppData\\Local\\Temp\\ipykernel_16000\\2984826684.py:101: FutureWarning: The frame.append method is deprecated and will be removed from pandas in a future version. Use pandas.concat instead.\n",
      "  redFlagRecord = redFlagRecord.append(veh, ignore_index=True)\n"
     ]
    },
    {
     "name": "stdout",
     "output_type": "stream",
     "text": [
      "LaneID:28925528_0;Time:1741.0;\n",
      "LaneID:28925528_0;Time:1742.0;\n",
      "LaneID:28925528_0;Time:1743.0;\n",
      "LaneID:28925528_0;Time:1744.0;\n",
      "LaneID:28925528_0;Time:1745.0;\n",
      "LaneID:28925528_0;Time:1746.0;\n",
      "LaneID:28925528_0;Time:1747.0;\n"
     ]
    },
    {
     "name": "stderr",
     "output_type": "stream",
     "text": [
      "C:\\Users\\Administrator\\AppData\\Local\\Temp\\ipykernel_16000\\2984826684.py:101: FutureWarning: The frame.append method is deprecated and will be removed from pandas in a future version. Use pandas.concat instead.\n",
      "  redFlagRecord = redFlagRecord.append(veh, ignore_index=True)\n",
      "C:\\Users\\Administrator\\AppData\\Local\\Temp\\ipykernel_16000\\2984826684.py:101: FutureWarning: The frame.append method is deprecated and will be removed from pandas in a future version. Use pandas.concat instead.\n",
      "  redFlagRecord = redFlagRecord.append(veh, ignore_index=True)\n",
      "C:\\Users\\Administrator\\AppData\\Local\\Temp\\ipykernel_16000\\2984826684.py:101: FutureWarning: The frame.append method is deprecated and will be removed from pandas in a future version. Use pandas.concat instead.\n",
      "  redFlagRecord = redFlagRecord.append(veh, ignore_index=True)\n",
      "C:\\Users\\Administrator\\AppData\\Local\\Temp\\ipykernel_16000\\2984826684.py:101: FutureWarning: The frame.append method is deprecated and will be removed from pandas in a future version. Use pandas.concat instead.\n",
      "  redFlagRecord = redFlagRecord.append(veh, ignore_index=True)\n",
      "C:\\Users\\Administrator\\AppData\\Local\\Temp\\ipykernel_16000\\2984826684.py:101: FutureWarning: The frame.append method is deprecated and will be removed from pandas in a future version. Use pandas.concat instead.\n",
      "  redFlagRecord = redFlagRecord.append(veh, ignore_index=True)\n",
      "C:\\Users\\Administrator\\AppData\\Local\\Temp\\ipykernel_16000\\2984826684.py:101: FutureWarning: The frame.append method is deprecated and will be removed from pandas in a future version. Use pandas.concat instead.\n",
      "  redFlagRecord = redFlagRecord.append(veh, ignore_index=True)\n",
      "C:\\Users\\Administrator\\AppData\\Local\\Temp\\ipykernel_16000\\2984826684.py:101: FutureWarning: The frame.append method is deprecated and will be removed from pandas in a future version. Use pandas.concat instead.\n",
      "  redFlagRecord = redFlagRecord.append(veh, ignore_index=True)\n"
     ]
    },
    {
     "name": "stdout",
     "output_type": "stream",
     "text": [
      "LaneID:28925528_0;Time:1748.0;\n",
      "LaneID:28925528_0;Time:1749.0;\n",
      "LaneID:28925528_0;Time:1750.0;\n",
      "LaneID:28925528_0;Time:1751.0;\n",
      "LaneID:28925528_0;Time:1752.0;\n",
      "LaneID:28925528_0;Time:1753.0;\n",
      "LaneID:28925528_0;Time:1754.0;\n",
      "LaneID:28925528_0;Time:1755.0;\n",
      "LaneID:28925528_0;Time:1764.0;\n",
      "LaneID:28925528_0;Time:1765.0;\n",
      "LaneID:28925528_0;Time:1766.0;\n",
      "LaneID:28925528_0;Time:1767.0;\n",
      "LaneID:28925528_0;Time:1768.0;\n",
      "LaneID:28925528_0;Time:1769.0;\n",
      "LaneID:28925528_0;Time:1776.0;\n"
     ]
    },
    {
     "name": "stderr",
     "output_type": "stream",
     "text": [
      "C:\\Users\\Administrator\\AppData\\Local\\Temp\\ipykernel_16000\\2984826684.py:101: FutureWarning: The frame.append method is deprecated and will be removed from pandas in a future version. Use pandas.concat instead.\n",
      "  redFlagRecord = redFlagRecord.append(veh, ignore_index=True)\n",
      "C:\\Users\\Administrator\\AppData\\Local\\Temp\\ipykernel_16000\\2984826684.py:101: FutureWarning: The frame.append method is deprecated and will be removed from pandas in a future version. Use pandas.concat instead.\n",
      "  redFlagRecord = redFlagRecord.append(veh, ignore_index=True)\n",
      "C:\\Users\\Administrator\\AppData\\Local\\Temp\\ipykernel_16000\\2984826684.py:101: FutureWarning: The frame.append method is deprecated and will be removed from pandas in a future version. Use pandas.concat instead.\n",
      "  redFlagRecord = redFlagRecord.append(veh, ignore_index=True)\n",
      "C:\\Users\\Administrator\\AppData\\Local\\Temp\\ipykernel_16000\\2984826684.py:101: FutureWarning: The frame.append method is deprecated and will be removed from pandas in a future version. Use pandas.concat instead.\n",
      "  redFlagRecord = redFlagRecord.append(veh, ignore_index=True)\n",
      "C:\\Users\\Administrator\\AppData\\Local\\Temp\\ipykernel_16000\\2984826684.py:101: FutureWarning: The frame.append method is deprecated and will be removed from pandas in a future version. Use pandas.concat instead.\n",
      "  redFlagRecord = redFlagRecord.append(veh, ignore_index=True)\n",
      "C:\\Users\\Administrator\\AppData\\Local\\Temp\\ipykernel_16000\\2984826684.py:101: FutureWarning: The frame.append method is deprecated and will be removed from pandas in a future version. Use pandas.concat instead.\n",
      "  redFlagRecord = redFlagRecord.append(veh, ignore_index=True)\n",
      "C:\\Users\\Administrator\\AppData\\Local\\Temp\\ipykernel_16000\\2984826684.py:101: FutureWarning: The frame.append method is deprecated and will be removed from pandas in a future version. Use pandas.concat instead.\n",
      "  redFlagRecord = redFlagRecord.append(veh, ignore_index=True)\n"
     ]
    },
    {
     "name": "stdout",
     "output_type": "stream",
     "text": [
      "LaneID:28925528_0;Time:1777.0;\n",
      "LaneID:28925528_0;Time:1778.0;\n",
      "LaneID:28925528_0;Time:1779.0;\n",
      "LaneID:28925528_0;Time:1780.0;\n",
      "LaneID:28925528_0;Time:1781.0;\n",
      "LaneID:28925528_0;Time:1782.0;\n",
      "LaneID:28925528_0;Time:1783.0;\n"
     ]
    },
    {
     "name": "stderr",
     "output_type": "stream",
     "text": [
      "C:\\Users\\Administrator\\AppData\\Local\\Temp\\ipykernel_16000\\2984826684.py:101: FutureWarning: The frame.append method is deprecated and will be removed from pandas in a future version. Use pandas.concat instead.\n",
      "  redFlagRecord = redFlagRecord.append(veh, ignore_index=True)\n",
      "C:\\Users\\Administrator\\AppData\\Local\\Temp\\ipykernel_16000\\2984826684.py:101: FutureWarning: The frame.append method is deprecated and will be removed from pandas in a future version. Use pandas.concat instead.\n",
      "  redFlagRecord = redFlagRecord.append(veh, ignore_index=True)\n",
      "C:\\Users\\Administrator\\AppData\\Local\\Temp\\ipykernel_16000\\2984826684.py:101: FutureWarning: The frame.append method is deprecated and will be removed from pandas in a future version. Use pandas.concat instead.\n",
      "  redFlagRecord = redFlagRecord.append(veh, ignore_index=True)\n",
      "C:\\Users\\Administrator\\AppData\\Local\\Temp\\ipykernel_16000\\2984826684.py:101: FutureWarning: The frame.append method is deprecated and will be removed from pandas in a future version. Use pandas.concat instead.\n",
      "  redFlagRecord = redFlagRecord.append(veh, ignore_index=True)\n",
      "C:\\Users\\Administrator\\AppData\\Local\\Temp\\ipykernel_16000\\2984826684.py:101: FutureWarning: The frame.append method is deprecated and will be removed from pandas in a future version. Use pandas.concat instead.\n",
      "  redFlagRecord = redFlagRecord.append(veh, ignore_index=True)\n",
      "C:\\Users\\Administrator\\AppData\\Local\\Temp\\ipykernel_16000\\2984826684.py:101: FutureWarning: The frame.append method is deprecated and will be removed from pandas in a future version. Use pandas.concat instead.\n",
      "  redFlagRecord = redFlagRecord.append(veh, ignore_index=True)\n"
     ]
    },
    {
     "name": "stdout",
     "output_type": "stream",
     "text": [
      "LaneID:28925528_0;Time:1784.0;\n",
      "LaneID:28925528_0;Time:1785.0;\n",
      "LaneID:28925528_0;Time:1786.0;\n",
      "LaneID:28925528_0;Time:1787.0;\n",
      "LaneID:28925528_0;Time:1788.0;\n",
      "LaneID:28925528_0;Time:1789.0;\n",
      "LaneID:28925528_0;Time:1801.0;\n",
      "LaneID:28925528_0;Time:1802.0;\n",
      "LaneID:28925528_0;Time:1803.0;\n",
      "LaneID:28925528_0;Time:1804.0;\n",
      "LaneID:28925528_0;Time:1805.0;\n",
      "LaneID:28925528_0;Time:1806.0;\n",
      "LaneID:28925528_0;Time:1807.0;\n",
      "LaneID:28925528_0;Time:1808.0;\n",
      "LaneID:28925528_0;Time:1809.0;\n",
      "LaneID:28925528_0;Time:1810.0;\n",
      "LaneID:28925528_0;Time:1811.0;\n",
      "LaneID:28925528_0;Time:1812.0;\n",
      "LaneID:28925528_0;Time:1813.0;\n",
      "LaneID:28925528_0;Time:1814.0;\n",
      "LaneID:28925528_0;Time:1815.0;\n"
     ]
    },
    {
     "name": "stderr",
     "output_type": "stream",
     "text": [
      "C:\\Users\\Administrator\\AppData\\Local\\Temp\\ipykernel_16000\\2984826684.py:101: FutureWarning: The frame.append method is deprecated and will be removed from pandas in a future version. Use pandas.concat instead.\n",
      "  redFlagRecord = redFlagRecord.append(veh, ignore_index=True)\n",
      "C:\\Users\\Administrator\\AppData\\Local\\Temp\\ipykernel_16000\\2984826684.py:101: FutureWarning: The frame.append method is deprecated and will be removed from pandas in a future version. Use pandas.concat instead.\n",
      "  redFlagRecord = redFlagRecord.append(veh, ignore_index=True)\n",
      "C:\\Users\\Administrator\\AppData\\Local\\Temp\\ipykernel_16000\\2984826684.py:101: FutureWarning: The frame.append method is deprecated and will be removed from pandas in a future version. Use pandas.concat instead.\n",
      "  redFlagRecord = redFlagRecord.append(veh, ignore_index=True)\n",
      "C:\\Users\\Administrator\\AppData\\Local\\Temp\\ipykernel_16000\\2984826684.py:101: FutureWarning: The frame.append method is deprecated and will be removed from pandas in a future version. Use pandas.concat instead.\n",
      "  redFlagRecord = redFlagRecord.append(veh, ignore_index=True)\n",
      "C:\\Users\\Administrator\\AppData\\Local\\Temp\\ipykernel_16000\\2984826684.py:101: FutureWarning: The frame.append method is deprecated and will be removed from pandas in a future version. Use pandas.concat instead.\n",
      "  redFlagRecord = redFlagRecord.append(veh, ignore_index=True)\n",
      "C:\\Users\\Administrator\\AppData\\Local\\Temp\\ipykernel_16000\\2984826684.py:101: FutureWarning: The frame.append method is deprecated and will be removed from pandas in a future version. Use pandas.concat instead.\n",
      "  redFlagRecord = redFlagRecord.append(veh, ignore_index=True)\n"
     ]
    },
    {
     "name": "stdout",
     "output_type": "stream",
     "text": [
      "LaneID:28925528_0;Time:1847.0;\n",
      "LaneID:28925528_0;Time:1848.0;\n",
      "LaneID:28925528_0;Time:1849.0;\n",
      "LaneID:28925528_0;Time:1850.0;\n",
      "LaneID:28925528_0;Time:1851.0;\n",
      "LaneID:28925528_0;Time:1852.0;\n",
      "LaneID:28925528_0;Time:1853.0;\n",
      "LaneID:28925528_0;Time:1856.0;\n",
      "LaneID:28925528_0;Time:1857.0;\n",
      "LaneID:28925528_0;Time:1858.0;\n",
      "LaneID:28925528_0;Time:1859.0;\n",
      "LaneID:28925528_0;Time:1860.0;\n",
      "LaneID:28925528_0;Time:1861.0;\n",
      "LaneID:28925528_0;Time:1868.0;\n",
      "LaneID:28925528_0;Time:1869.0;\n",
      "LaneID:28925528_0;Time:1870.0;\n",
      "LaneID:28925528_0;Time:1871.0;\n",
      "LaneID:28925528_0;Time:1872.0;\n",
      "LaneID:28925528_0;Time:1873.0;\n"
     ]
    },
    {
     "name": "stderr",
     "output_type": "stream",
     "text": [
      "C:\\Users\\Administrator\\AppData\\Local\\Temp\\ipykernel_16000\\2984826684.py:101: FutureWarning: The frame.append method is deprecated and will be removed from pandas in a future version. Use pandas.concat instead.\n",
      "  redFlagRecord = redFlagRecord.append(veh, ignore_index=True)\n",
      "C:\\Users\\Administrator\\AppData\\Local\\Temp\\ipykernel_16000\\2984826684.py:101: FutureWarning: The frame.append method is deprecated and will be removed from pandas in a future version. Use pandas.concat instead.\n",
      "  redFlagRecord = redFlagRecord.append(veh, ignore_index=True)\n",
      "C:\\Users\\Administrator\\AppData\\Local\\Temp\\ipykernel_16000\\2984826684.py:101: FutureWarning: The frame.append method is deprecated and will be removed from pandas in a future version. Use pandas.concat instead.\n",
      "  redFlagRecord = redFlagRecord.append(veh, ignore_index=True)\n",
      "C:\\Users\\Administrator\\AppData\\Local\\Temp\\ipykernel_16000\\2984826684.py:101: FutureWarning: The frame.append method is deprecated and will be removed from pandas in a future version. Use pandas.concat instead.\n",
      "  redFlagRecord = redFlagRecord.append(veh, ignore_index=True)\n",
      "C:\\Users\\Administrator\\AppData\\Local\\Temp\\ipykernel_16000\\2984826684.py:101: FutureWarning: The frame.append method is deprecated and will be removed from pandas in a future version. Use pandas.concat instead.\n",
      "  redFlagRecord = redFlagRecord.append(veh, ignore_index=True)\n",
      "C:\\Users\\Administrator\\AppData\\Local\\Temp\\ipykernel_16000\\2984826684.py:101: FutureWarning: The frame.append method is deprecated and will be removed from pandas in a future version. Use pandas.concat instead.\n",
      "  redFlagRecord = redFlagRecord.append(veh, ignore_index=True)\n"
     ]
    },
    {
     "name": "stdout",
     "output_type": "stream",
     "text": [
      "LaneID:28925528_0;Time:1874.0;\n",
      "LaneID:28925528_0;Time:1875.0;\n",
      "LaneID:28925528_0;Time:1876.0;\n",
      "LaneID:28925528_0;Time:1877.0;\n",
      "LaneID:28925528_0;Time:1889.0;\n",
      "LaneID:28925528_0;Time:1890.0;\n",
      "LaneID:28925528_0;Time:1891.0;\n",
      "LaneID:28925528_0;Time:1892.0;\n",
      "LaneID:28925528_0;Time:1893.0;\n",
      "LaneID:28925528_0;Time:1894.0;\n",
      "LaneID:28925528_0;Time:1895.0;\n",
      "LaneID:28925528_0;Time:1896.0;\n",
      "LaneID:28925528_0;Time:1897.0;\n",
      "LaneID:28925528_0;Time:1898.0;\n",
      "LaneID:28925528_0;Time:1899.0;\n"
     ]
    },
    {
     "name": "stderr",
     "output_type": "stream",
     "text": [
      "C:\\Users\\Administrator\\AppData\\Local\\Temp\\ipykernel_16000\\2984826684.py:101: FutureWarning: The frame.append method is deprecated and will be removed from pandas in a future version. Use pandas.concat instead.\n",
      "  redFlagRecord = redFlagRecord.append(veh, ignore_index=True)\n",
      "C:\\Users\\Administrator\\AppData\\Local\\Temp\\ipykernel_16000\\2984826684.py:101: FutureWarning: The frame.append method is deprecated and will be removed from pandas in a future version. Use pandas.concat instead.\n",
      "  redFlagRecord = redFlagRecord.append(veh, ignore_index=True)\n",
      "C:\\Users\\Administrator\\AppData\\Local\\Temp\\ipykernel_16000\\2984826684.py:101: FutureWarning: The frame.append method is deprecated and will be removed from pandas in a future version. Use pandas.concat instead.\n",
      "  redFlagRecord = redFlagRecord.append(veh, ignore_index=True)\n",
      "C:\\Users\\Administrator\\AppData\\Local\\Temp\\ipykernel_16000\\2984826684.py:101: FutureWarning: The frame.append method is deprecated and will be removed from pandas in a future version. Use pandas.concat instead.\n",
      "  redFlagRecord = redFlagRecord.append(veh, ignore_index=True)\n",
      "C:\\Users\\Administrator\\AppData\\Local\\Temp\\ipykernel_16000\\2984826684.py:101: FutureWarning: The frame.append method is deprecated and will be removed from pandas in a future version. Use pandas.concat instead.\n",
      "  redFlagRecord = redFlagRecord.append(veh, ignore_index=True)\n",
      "C:\\Users\\Administrator\\AppData\\Local\\Temp\\ipykernel_16000\\2984826684.py:101: FutureWarning: The frame.append method is deprecated and will be removed from pandas in a future version. Use pandas.concat instead.\n",
      "  redFlagRecord = redFlagRecord.append(veh, ignore_index=True)\n",
      "C:\\Users\\Administrator\\AppData\\Local\\Temp\\ipykernel_16000\\2984826684.py:101: FutureWarning: The frame.append method is deprecated and will be removed from pandas in a future version. Use pandas.concat instead.\n",
      "  redFlagRecord = redFlagRecord.append(veh, ignore_index=True)\n"
     ]
    },
    {
     "name": "stdout",
     "output_type": "stream",
     "text": [
      "LaneID:28925528_0;Time:1900.0;\n",
      "LaneID:28925528_0;Time:1901.0;\n",
      "LaneID:28925528_0;Time:1902.0;\n",
      "LaneID:28925528_0;Time:1903.0;\n",
      "LaneID:28925528_0;Time:1904.0;\n",
      "LaneID:28925528_0;Time:1905.0;\n",
      "LaneID:28925528_0;Time:1906.0;\n"
     ]
    },
    {
     "name": "stderr",
     "output_type": "stream",
     "text": [
      "C:\\Users\\Administrator\\AppData\\Local\\Temp\\ipykernel_16000\\2984826684.py:101: FutureWarning: The frame.append method is deprecated and will be removed from pandas in a future version. Use pandas.concat instead.\n",
      "  redFlagRecord = redFlagRecord.append(veh, ignore_index=True)\n",
      "C:\\Users\\Administrator\\AppData\\Local\\Temp\\ipykernel_16000\\2984826684.py:101: FutureWarning: The frame.append method is deprecated and will be removed from pandas in a future version. Use pandas.concat instead.\n",
      "  redFlagRecord = redFlagRecord.append(veh, ignore_index=True)\n",
      "C:\\Users\\Administrator\\AppData\\Local\\Temp\\ipykernel_16000\\2984826684.py:101: FutureWarning: The frame.append method is deprecated and will be removed from pandas in a future version. Use pandas.concat instead.\n",
      "  redFlagRecord = redFlagRecord.append(veh, ignore_index=True)\n",
      "C:\\Users\\Administrator\\AppData\\Local\\Temp\\ipykernel_16000\\2984826684.py:101: FutureWarning: The frame.append method is deprecated and will be removed from pandas in a future version. Use pandas.concat instead.\n",
      "  redFlagRecord = redFlagRecord.append(veh, ignore_index=True)\n",
      "C:\\Users\\Administrator\\AppData\\Local\\Temp\\ipykernel_16000\\2984826684.py:101: FutureWarning: The frame.append method is deprecated and will be removed from pandas in a future version. Use pandas.concat instead.\n",
      "  redFlagRecord = redFlagRecord.append(veh, ignore_index=True)\n",
      "C:\\Users\\Administrator\\AppData\\Local\\Temp\\ipykernel_16000\\2984826684.py:101: FutureWarning: The frame.append method is deprecated and will be removed from pandas in a future version. Use pandas.concat instead.\n",
      "  redFlagRecord = redFlagRecord.append(veh, ignore_index=True)\n"
     ]
    },
    {
     "name": "stdout",
     "output_type": "stream",
     "text": [
      "LaneID:28925528_0;Time:1907.0;\n",
      "LaneID:28925528_0;Time:1908.0;\n",
      "LaneID:28925528_0;Time:1909.0;\n",
      "LaneID:28925528_0;Time:1910.0;\n",
      "LaneID:28925528_0;Time:1911.0;\n",
      "LaneID:28925528_0;Time:1920.0;\n",
      "LaneID:28925528_0;Time:1921.0;\n",
      "LaneID:28925528_0;Time:1922.0;\n",
      "LaneID:28925528_0;Time:1923.0;\n",
      "LaneID:28925528_0;Time:1924.0;\n",
      "LaneID:28925528_0;Time:1925.0;\n",
      "LaneID:28925528_0;Time:1926.0;\n",
      "LaneID:28925528_0;Time:1927.0;\n",
      "LaneID:28925528_0;Time:1928.0;\n",
      "LaneID:28925528_0;Time:1929.0;\n",
      "LaneID:28925528_0;Time:1930.0;\n",
      "LaneID:28925528_0;Time:1931.0;\n",
      "LaneID:28925528_0;Time:1932.0;\n"
     ]
    },
    {
     "name": "stderr",
     "output_type": "stream",
     "text": [
      "C:\\Users\\Administrator\\AppData\\Local\\Temp\\ipykernel_16000\\2984826684.py:101: FutureWarning: The frame.append method is deprecated and will be removed from pandas in a future version. Use pandas.concat instead.\n",
      "  redFlagRecord = redFlagRecord.append(veh, ignore_index=True)\n",
      "C:\\Users\\Administrator\\AppData\\Local\\Temp\\ipykernel_16000\\2984826684.py:101: FutureWarning: The frame.append method is deprecated and will be removed from pandas in a future version. Use pandas.concat instead.\n",
      "  redFlagRecord = redFlagRecord.append(veh, ignore_index=True)\n",
      "C:\\Users\\Administrator\\AppData\\Local\\Temp\\ipykernel_16000\\2984826684.py:101: FutureWarning: The frame.append method is deprecated and will be removed from pandas in a future version. Use pandas.concat instead.\n",
      "  redFlagRecord = redFlagRecord.append(veh, ignore_index=True)\n",
      "C:\\Users\\Administrator\\AppData\\Local\\Temp\\ipykernel_16000\\2984826684.py:101: FutureWarning: The frame.append method is deprecated and will be removed from pandas in a future version. Use pandas.concat instead.\n",
      "  redFlagRecord = redFlagRecord.append(veh, ignore_index=True)\n",
      "C:\\Users\\Administrator\\AppData\\Local\\Temp\\ipykernel_16000\\2984826684.py:101: FutureWarning: The frame.append method is deprecated and will be removed from pandas in a future version. Use pandas.concat instead.\n",
      "  redFlagRecord = redFlagRecord.append(veh, ignore_index=True)\n",
      "C:\\Users\\Administrator\\AppData\\Local\\Temp\\ipykernel_16000\\2984826684.py:101: FutureWarning: The frame.append method is deprecated and will be removed from pandas in a future version. Use pandas.concat instead.\n",
      "  redFlagRecord = redFlagRecord.append(veh, ignore_index=True)\n",
      "C:\\Users\\Administrator\\AppData\\Local\\Temp\\ipykernel_16000\\2984826684.py:101: FutureWarning: The frame.append method is deprecated and will be removed from pandas in a future version. Use pandas.concat instead.\n",
      "  redFlagRecord = redFlagRecord.append(veh, ignore_index=True)\n"
     ]
    },
    {
     "name": "stdout",
     "output_type": "stream",
     "text": [
      "LaneID:28925528_0;Time:1933.0;\n",
      "LaneID:28925528_0;Time:1934.0;\n",
      "LaneID:28925528_0;Time:1935.0;\n",
      "LaneID:28925528_0;Time:1936.0;\n",
      "LaneID:28925528_0;Time:1937.0;\n",
      "LaneID:28925528_0;Time:1938.0;\n",
      "LaneID:28925528_0;Time:1939.0;\n"
     ]
    },
    {
     "name": "stderr",
     "output_type": "stream",
     "text": [
      "C:\\Users\\Administrator\\AppData\\Local\\Temp\\ipykernel_16000\\2984826684.py:101: FutureWarning: The frame.append method is deprecated and will be removed from pandas in a future version. Use pandas.concat instead.\n",
      "  redFlagRecord = redFlagRecord.append(veh, ignore_index=True)\n",
      "C:\\Users\\Administrator\\AppData\\Local\\Temp\\ipykernel_16000\\2984826684.py:101: FutureWarning: The frame.append method is deprecated and will be removed from pandas in a future version. Use pandas.concat instead.\n",
      "  redFlagRecord = redFlagRecord.append(veh, ignore_index=True)\n",
      "C:\\Users\\Administrator\\AppData\\Local\\Temp\\ipykernel_16000\\2984826684.py:101: FutureWarning: The frame.append method is deprecated and will be removed from pandas in a future version. Use pandas.concat instead.\n",
      "  redFlagRecord = redFlagRecord.append(veh, ignore_index=True)\n",
      "C:\\Users\\Administrator\\AppData\\Local\\Temp\\ipykernel_16000\\2984826684.py:101: FutureWarning: The frame.append method is deprecated and will be removed from pandas in a future version. Use pandas.concat instead.\n",
      "  redFlagRecord = redFlagRecord.append(veh, ignore_index=True)\n",
      "C:\\Users\\Administrator\\AppData\\Local\\Temp\\ipykernel_16000\\2984826684.py:101: FutureWarning: The frame.append method is deprecated and will be removed from pandas in a future version. Use pandas.concat instead.\n",
      "  redFlagRecord = redFlagRecord.append(veh, ignore_index=True)\n",
      "C:\\Users\\Administrator\\AppData\\Local\\Temp\\ipykernel_16000\\2984826684.py:101: FutureWarning: The frame.append method is deprecated and will be removed from pandas in a future version. Use pandas.concat instead.\n",
      "  redFlagRecord = redFlagRecord.append(veh, ignore_index=True)\n",
      "C:\\Users\\Administrator\\AppData\\Local\\Temp\\ipykernel_16000\\2984826684.py:101: FutureWarning: The frame.append method is deprecated and will be removed from pandas in a future version. Use pandas.concat instead.\n",
      "  redFlagRecord = redFlagRecord.append(veh, ignore_index=True)\n"
     ]
    },
    {
     "name": "stdout",
     "output_type": "stream",
     "text": [
      "LaneID:28925528_0;Time:1940.0;\n",
      "LaneID:28925528_0;Time:1941.0;\n",
      "LaneID:28925528_0;Time:1942.0;\n",
      "LaneID:28925528_0;Time:1952.0;\n",
      "LaneID:28925528_0;Time:1953.0;\n",
      "LaneID:28925528_0;Time:1954.0;\n",
      "LaneID:28925528_0;Time:1955.0;\n",
      "LaneID:28925528_0;Time:1956.0;\n",
      "LaneID:28925528_0;Time:1957.0;\n",
      "LaneID:28925528_0;Time:1958.0;\n",
      "LaneID:28925528_0;Time:1959.0;\n",
      "LaneID:28925528_0;Time:1960.0;\n",
      "LaneID:28925528_0;Time:1961.0;\n",
      "LaneID:28925528_0;Time:1962.0;\n",
      "LaneID:28925528_0;Time:1963.0;\n",
      "LaneID:28925528_0;Time:1964.0;\n",
      "LaneID:28925528_0;Time:1965.0;\n",
      "LaneID:28925528_0;Time:1966.0;\n",
      "LaneID:28925528_0;Time:1967.0;\n"
     ]
    },
    {
     "name": "stderr",
     "output_type": "stream",
     "text": [
      "C:\\Users\\Administrator\\AppData\\Local\\Temp\\ipykernel_16000\\2984826684.py:101: FutureWarning: The frame.append method is deprecated and will be removed from pandas in a future version. Use pandas.concat instead.\n",
      "  redFlagRecord = redFlagRecord.append(veh, ignore_index=True)\n",
      "C:\\Users\\Administrator\\AppData\\Local\\Temp\\ipykernel_16000\\2984826684.py:101: FutureWarning: The frame.append method is deprecated and will be removed from pandas in a future version. Use pandas.concat instead.\n",
      "  redFlagRecord = redFlagRecord.append(veh, ignore_index=True)\n",
      "C:\\Users\\Administrator\\AppData\\Local\\Temp\\ipykernel_16000\\2984826684.py:101: FutureWarning: The frame.append method is deprecated and will be removed from pandas in a future version. Use pandas.concat instead.\n",
      "  redFlagRecord = redFlagRecord.append(veh, ignore_index=True)\n",
      "C:\\Users\\Administrator\\AppData\\Local\\Temp\\ipykernel_16000\\2984826684.py:101: FutureWarning: The frame.append method is deprecated and will be removed from pandas in a future version. Use pandas.concat instead.\n",
      "  redFlagRecord = redFlagRecord.append(veh, ignore_index=True)\n",
      "C:\\Users\\Administrator\\AppData\\Local\\Temp\\ipykernel_16000\\2984826684.py:101: FutureWarning: The frame.append method is deprecated and will be removed from pandas in a future version. Use pandas.concat instead.\n",
      "  redFlagRecord = redFlagRecord.append(veh, ignore_index=True)\n",
      "C:\\Users\\Administrator\\AppData\\Local\\Temp\\ipykernel_16000\\2984826684.py:101: FutureWarning: The frame.append method is deprecated and will be removed from pandas in a future version. Use pandas.concat instead.\n",
      "  redFlagRecord = redFlagRecord.append(veh, ignore_index=True)\n",
      "C:\\Users\\Administrator\\AppData\\Local\\Temp\\ipykernel_16000\\2984826684.py:101: FutureWarning: The frame.append method is deprecated and will be removed from pandas in a future version. Use pandas.concat instead.\n",
      "  redFlagRecord = redFlagRecord.append(veh, ignore_index=True)\n"
     ]
    },
    {
     "name": "stdout",
     "output_type": "stream",
     "text": [
      "LaneID:28925528_0;Time:1968.0;\n",
      "LaneID:28925528_0;Time:1969.0;\n",
      "LaneID:28925528_0;Time:1970.0;\n",
      "LaneID:28925528_0;Time:1971.0;\n",
      "LaneID:28925528_0;Time:1972.0;\n",
      "LaneID:28925528_0;Time:1973.0;\n",
      "LaneID:28925528_0;Time:1983.0;\n",
      "LaneID:28925528_0;Time:1984.0;\n",
      "LaneID:28925528_0;Time:1985.0;\n",
      "LaneID:28925528_0;Time:1986.0;\n",
      "LaneID:28925528_0;Time:1987.0;\n",
      "LaneID:28925528_0;Time:1988.0;\n",
      "LaneID:28925528_0;Time:1989.0;\n",
      "LaneID:28925528_0;Time:1990.0;\n",
      "LaneID:28925528_0;Time:1991.0;\n",
      "LaneID:28925528_0;Time:1992.0;\n",
      "LaneID:28925528_0;Time:1993.0;\n",
      "LaneID:28925528_0;Time:1994.0;\n",
      "LaneID:28925528_0;Time:1995.0;\n"
     ]
    },
    {
     "name": "stderr",
     "output_type": "stream",
     "text": [
      "C:\\Users\\Administrator\\AppData\\Local\\Temp\\ipykernel_16000\\2984826684.py:101: FutureWarning: The frame.append method is deprecated and will be removed from pandas in a future version. Use pandas.concat instead.\n",
      "  redFlagRecord = redFlagRecord.append(veh, ignore_index=True)\n",
      "C:\\Users\\Administrator\\AppData\\Local\\Temp\\ipykernel_16000\\2984826684.py:101: FutureWarning: The frame.append method is deprecated and will be removed from pandas in a future version. Use pandas.concat instead.\n",
      "  redFlagRecord = redFlagRecord.append(veh, ignore_index=True)\n",
      "C:\\Users\\Administrator\\AppData\\Local\\Temp\\ipykernel_16000\\2984826684.py:101: FutureWarning: The frame.append method is deprecated and will be removed from pandas in a future version. Use pandas.concat instead.\n",
      "  redFlagRecord = redFlagRecord.append(veh, ignore_index=True)\n",
      "C:\\Users\\Administrator\\AppData\\Local\\Temp\\ipykernel_16000\\2984826684.py:101: FutureWarning: The frame.append method is deprecated and will be removed from pandas in a future version. Use pandas.concat instead.\n",
      "  redFlagRecord = redFlagRecord.append(veh, ignore_index=True)\n",
      "C:\\Users\\Administrator\\AppData\\Local\\Temp\\ipykernel_16000\\2984826684.py:101: FutureWarning: The frame.append method is deprecated and will be removed from pandas in a future version. Use pandas.concat instead.\n",
      "  redFlagRecord = redFlagRecord.append(veh, ignore_index=True)\n",
      "C:\\Users\\Administrator\\AppData\\Local\\Temp\\ipykernel_16000\\2984826684.py:101: FutureWarning: The frame.append method is deprecated and will be removed from pandas in a future version. Use pandas.concat instead.\n",
      "  redFlagRecord = redFlagRecord.append(veh, ignore_index=True)\n",
      "C:\\Users\\Administrator\\AppData\\Local\\Temp\\ipykernel_16000\\2984826684.py:101: FutureWarning: The frame.append method is deprecated and will be removed from pandas in a future version. Use pandas.concat instead.\n",
      "  redFlagRecord = redFlagRecord.append(veh, ignore_index=True)\n"
     ]
    },
    {
     "name": "stdout",
     "output_type": "stream",
     "text": [
      "LaneID:28925528_0;Time:1996.0;\n",
      "LaneID:28925528_0;Time:1997.0;\n",
      "LaneID:28925528_0;Time:1998.0;\n",
      "LaneID:28925528_0;Time:1999.0;\n",
      "LaneID:28925528_0;Time:2000.0;\n",
      "LaneID:28925528_0;Time:2001.0;\n",
      "LaneID:28925528_0;Time:2002.0;\n",
      "LaneID:28925528_0;Time:2003.0;\n",
      "LaneID:28925528_0;Time:2004.0;\n",
      "LaneID:28925528_0;Time:2005.0;\n",
      "LaneID:28925528_0;Time:2006.0;\n",
      "LaneID:28925528_0;Time:2014.0;\n",
      "LaneID:28925528_0;Time:2015.0;\n",
      "LaneID:28925528_0;Time:2016.0;\n",
      "LaneID:28925528_0;Time:2017.0;\n",
      "LaneID:28925528_0;Time:2018.0;\n",
      "LaneID:28925528_0;Time:2019.0;\n",
      "LaneID:28925528_0;Time:2026.0;\n"
     ]
    },
    {
     "name": "stderr",
     "output_type": "stream",
     "text": [
      "C:\\Users\\Administrator\\AppData\\Local\\Temp\\ipykernel_16000\\2984826684.py:101: FutureWarning: The frame.append method is deprecated and will be removed from pandas in a future version. Use pandas.concat instead.\n",
      "  redFlagRecord = redFlagRecord.append(veh, ignore_index=True)\n",
      "C:\\Users\\Administrator\\AppData\\Local\\Temp\\ipykernel_16000\\2984826684.py:101: FutureWarning: The frame.append method is deprecated and will be removed from pandas in a future version. Use pandas.concat instead.\n",
      "  redFlagRecord = redFlagRecord.append(veh, ignore_index=True)\n",
      "C:\\Users\\Administrator\\AppData\\Local\\Temp\\ipykernel_16000\\2984826684.py:101: FutureWarning: The frame.append method is deprecated and will be removed from pandas in a future version. Use pandas.concat instead.\n",
      "  redFlagRecord = redFlagRecord.append(veh, ignore_index=True)\n",
      "C:\\Users\\Administrator\\AppData\\Local\\Temp\\ipykernel_16000\\2984826684.py:101: FutureWarning: The frame.append method is deprecated and will be removed from pandas in a future version. Use pandas.concat instead.\n",
      "  redFlagRecord = redFlagRecord.append(veh, ignore_index=True)\n",
      "C:\\Users\\Administrator\\AppData\\Local\\Temp\\ipykernel_16000\\2984826684.py:101: FutureWarning: The frame.append method is deprecated and will be removed from pandas in a future version. Use pandas.concat instead.\n",
      "  redFlagRecord = redFlagRecord.append(veh, ignore_index=True)\n",
      "C:\\Users\\Administrator\\AppData\\Local\\Temp\\ipykernel_16000\\2984826684.py:101: FutureWarning: The frame.append method is deprecated and will be removed from pandas in a future version. Use pandas.concat instead.\n",
      "  redFlagRecord = redFlagRecord.append(veh, ignore_index=True)\n",
      "C:\\Users\\Administrator\\AppData\\Local\\Temp\\ipykernel_16000\\2984826684.py:101: FutureWarning: The frame.append method is deprecated and will be removed from pandas in a future version. Use pandas.concat instead.\n",
      "  redFlagRecord = redFlagRecord.append(veh, ignore_index=True)\n"
     ]
    },
    {
     "name": "stdout",
     "output_type": "stream",
     "text": [
      "LaneID:28925528_0;Time:2027.0;\n",
      "LaneID:28925528_0;Time:2028.0;\n",
      "LaneID:28925528_0;Time:2029.0;\n",
      "LaneID:28925528_0;Time:2030.0;\n",
      "LaneID:28925528_0;Time:2031.0;\n",
      "LaneID:28925528_0;Time:2032.0;\n",
      "LaneID:28925528_0;Time:2033.0;\n",
      "LaneID:28925528_0;Time:2034.0;\n",
      "LaneID:28925528_0;Time:2035.0;\n",
      "LaneID:28925528_0;Time:2047.0;\n",
      "LaneID:28925528_0;Time:2048.0;\n",
      "LaneID:28925528_0;Time:2049.0;\n",
      "LaneID:28925528_0;Time:2050.0;\n",
      "LaneID:28925528_0;Time:2051.0;\n",
      "LaneID:28925528_0;Time:2052.0;\n",
      "LaneID:28925528_0;Time:2053.0;\n",
      "LaneID:28925528_0;Time:2054.0;\n",
      "LaneID:28925528_0;Time:2055.0;\n",
      "LaneID:28925528_0;Time:2056.0;\n",
      "LaneID:28925528_0;Time:2057.0;\n",
      "LaneID:28925528_0;Time:2058.0;\n",
      "LaneID:28925528_0;Time:2059.0;\n",
      "LaneID:28925528_0;Time:2060.0;\n",
      "LaneID:28925528_0;Time:2061.0;\n"
     ]
    },
    {
     "name": "stderr",
     "output_type": "stream",
     "text": [
      "C:\\Users\\Administrator\\AppData\\Local\\Temp\\ipykernel_16000\\2984826684.py:101: FutureWarning: The frame.append method is deprecated and will be removed from pandas in a future version. Use pandas.concat instead.\n",
      "  redFlagRecord = redFlagRecord.append(veh, ignore_index=True)\n",
      "C:\\Users\\Administrator\\AppData\\Local\\Temp\\ipykernel_16000\\2984826684.py:101: FutureWarning: The frame.append method is deprecated and will be removed from pandas in a future version. Use pandas.concat instead.\n",
      "  redFlagRecord = redFlagRecord.append(veh, ignore_index=True)\n",
      "C:\\Users\\Administrator\\AppData\\Local\\Temp\\ipykernel_16000\\2984826684.py:101: FutureWarning: The frame.append method is deprecated and will be removed from pandas in a future version. Use pandas.concat instead.\n",
      "  redFlagRecord = redFlagRecord.append(veh, ignore_index=True)\n",
      "C:\\Users\\Administrator\\AppData\\Local\\Temp\\ipykernel_16000\\2984826684.py:101: FutureWarning: The frame.append method is deprecated and will be removed from pandas in a future version. Use pandas.concat instead.\n",
      "  redFlagRecord = redFlagRecord.append(veh, ignore_index=True)\n",
      "C:\\Users\\Administrator\\AppData\\Local\\Temp\\ipykernel_16000\\2984826684.py:101: FutureWarning: The frame.append method is deprecated and will be removed from pandas in a future version. Use pandas.concat instead.\n",
      "  redFlagRecord = redFlagRecord.append(veh, ignore_index=True)\n",
      "C:\\Users\\Administrator\\AppData\\Local\\Temp\\ipykernel_16000\\2984826684.py:101: FutureWarning: The frame.append method is deprecated and will be removed from pandas in a future version. Use pandas.concat instead.\n",
      "  redFlagRecord = redFlagRecord.append(veh, ignore_index=True)\n",
      "C:\\Users\\Administrator\\AppData\\Local\\Temp\\ipykernel_16000\\2984826684.py:101: FutureWarning: The frame.append method is deprecated and will be removed from pandas in a future version. Use pandas.concat instead.\n",
      "  redFlagRecord = redFlagRecord.append(veh, ignore_index=True)\n"
     ]
    },
    {
     "name": "stdout",
     "output_type": "stream",
     "text": [
      "LaneID:28925528_0;Time:2062.0;\n",
      "LaneID:28925528_0;Time:2063.0;\n",
      "LaneID:28925528_0;Time:2064.0;\n",
      "LaneID:28925528_0;Time:2065.0;\n",
      "LaneID:28925528_0;Time:2066.0;\n",
      "LaneID:28925528_0;Time:2067.0;\n",
      "LaneID:28925528_0;Time:2068.0;\n",
      "LaneID:28925528_0;Time:2078.0;\n",
      "LaneID:28925528_0;Time:2079.0;\n",
      "LaneID:28925528_0;Time:2080.0;\n",
      "LaneID:28925528_0;Time:2081.0;\n",
      "LaneID:28925528_0;Time:2082.0;\n",
      "LaneID:28925528_0;Time:2083.0;\n",
      "LaneID:28925528_0;Time:2084.0;\n",
      "LaneID:28925528_0;Time:2085.0;\n",
      "LaneID:28925528_0;Time:2086.0;\n",
      "LaneID:28925528_0;Time:2087.0;\n",
      "LaneID:28925528_0;Time:2088.0;\n",
      "LaneID:28925528_0;Time:2089.0;\n",
      "LaneID:28925528_0;Time:2090.0;\n"
     ]
    },
    {
     "name": "stderr",
     "output_type": "stream",
     "text": [
      "C:\\Users\\Administrator\\AppData\\Local\\Temp\\ipykernel_16000\\2984826684.py:101: FutureWarning: The frame.append method is deprecated and will be removed from pandas in a future version. Use pandas.concat instead.\n",
      "  redFlagRecord = redFlagRecord.append(veh, ignore_index=True)\n",
      "C:\\Users\\Administrator\\AppData\\Local\\Temp\\ipykernel_16000\\2984826684.py:101: FutureWarning: The frame.append method is deprecated and will be removed from pandas in a future version. Use pandas.concat instead.\n",
      "  redFlagRecord = redFlagRecord.append(veh, ignore_index=True)\n",
      "C:\\Users\\Administrator\\AppData\\Local\\Temp\\ipykernel_16000\\2984826684.py:101: FutureWarning: The frame.append method is deprecated and will be removed from pandas in a future version. Use pandas.concat instead.\n",
      "  redFlagRecord = redFlagRecord.append(veh, ignore_index=True)\n",
      "C:\\Users\\Administrator\\AppData\\Local\\Temp\\ipykernel_16000\\2984826684.py:101: FutureWarning: The frame.append method is deprecated and will be removed from pandas in a future version. Use pandas.concat instead.\n",
      "  redFlagRecord = redFlagRecord.append(veh, ignore_index=True)\n",
      "C:\\Users\\Administrator\\AppData\\Local\\Temp\\ipykernel_16000\\2984826684.py:101: FutureWarning: The frame.append method is deprecated and will be removed from pandas in a future version. Use pandas.concat instead.\n",
      "  redFlagRecord = redFlagRecord.append(veh, ignore_index=True)\n",
      "C:\\Users\\Administrator\\AppData\\Local\\Temp\\ipykernel_16000\\2984826684.py:101: FutureWarning: The frame.append method is deprecated and will be removed from pandas in a future version. Use pandas.concat instead.\n",
      "  redFlagRecord = redFlagRecord.append(veh, ignore_index=True)\n"
     ]
    },
    {
     "name": "stdout",
     "output_type": "stream",
     "text": [
      "LaneID:28925528_0;Time:2091.0;\n",
      "LaneID:28925528_0;Time:2092.0;\n",
      "LaneID:28925528_0;Time:2093.0;\n",
      "LaneID:28925528_0;Time:2094.0;\n",
      "LaneID:28925528_0;Time:2095.0;\n",
      "LaneID:28925528_0;Time:2096.0;\n",
      "LaneID:28925528_0;Time:2097.0;\n",
      "LaneID:28925528_0;Time:2098.0;\n",
      "LaneID:28925528_0;Time:2099.0;\n",
      "LaneID:28925528_0;Time:2108.0;\n",
      "LaneID:28925528_0;Time:2109.0;\n",
      "LaneID:28925528_0;Time:2110.0;\n",
      "LaneID:28925528_0;Time:2111.0;\n",
      "LaneID:28925528_0;Time:2112.0;\n",
      "LaneID:28925528_0;Time:2113.0;\n",
      "LaneID:28925528_0;Time:2114.0;\n",
      "LaneID:28925528_0;Time:2115.0;\n",
      "LaneID:28925528_0;Time:2116.0;\n",
      "LaneID:28925528_0;Time:2117.0;\n",
      "LaneID:28925528_0;Time:2118.0;\n"
     ]
    },
    {
     "name": "stderr",
     "output_type": "stream",
     "text": [
      "C:\\Users\\Administrator\\AppData\\Local\\Temp\\ipykernel_16000\\2984826684.py:101: FutureWarning: The frame.append method is deprecated and will be removed from pandas in a future version. Use pandas.concat instead.\n",
      "  redFlagRecord = redFlagRecord.append(veh, ignore_index=True)\n",
      "C:\\Users\\Administrator\\AppData\\Local\\Temp\\ipykernel_16000\\2984826684.py:101: FutureWarning: The frame.append method is deprecated and will be removed from pandas in a future version. Use pandas.concat instead.\n",
      "  redFlagRecord = redFlagRecord.append(veh, ignore_index=True)\n",
      "C:\\Users\\Administrator\\AppData\\Local\\Temp\\ipykernel_16000\\2984826684.py:101: FutureWarning: The frame.append method is deprecated and will be removed from pandas in a future version. Use pandas.concat instead.\n",
      "  redFlagRecord = redFlagRecord.append(veh, ignore_index=True)\n",
      "C:\\Users\\Administrator\\AppData\\Local\\Temp\\ipykernel_16000\\2984826684.py:101: FutureWarning: The frame.append method is deprecated and will be removed from pandas in a future version. Use pandas.concat instead.\n",
      "  redFlagRecord = redFlagRecord.append(veh, ignore_index=True)\n",
      "C:\\Users\\Administrator\\AppData\\Local\\Temp\\ipykernel_16000\\2984826684.py:101: FutureWarning: The frame.append method is deprecated and will be removed from pandas in a future version. Use pandas.concat instead.\n",
      "  redFlagRecord = redFlagRecord.append(veh, ignore_index=True)\n",
      "C:\\Users\\Administrator\\AppData\\Local\\Temp\\ipykernel_16000\\2984826684.py:101: FutureWarning: The frame.append method is deprecated and will be removed from pandas in a future version. Use pandas.concat instead.\n",
      "  redFlagRecord = redFlagRecord.append(veh, ignore_index=True)\n"
     ]
    },
    {
     "name": "stdout",
     "output_type": "stream",
     "text": [
      "LaneID:28925528_0;Time:2119.0;\n",
      "LaneID:28925528_0;Time:2120.0;\n",
      "LaneID:28925528_0;Time:2121.0;\n",
      "LaneID:28925528_0;Time:2122.0;\n",
      "LaneID:28925528_0;Time:2123.0;\n",
      "LaneID:28925528_0;Time:2124.0;\n",
      "LaneID:28925528_0;Time:2125.0;\n"
     ]
    },
    {
     "name": "stderr",
     "output_type": "stream",
     "text": [
      "C:\\Users\\Administrator\\AppData\\Local\\Temp\\ipykernel_16000\\2984826684.py:101: FutureWarning: The frame.append method is deprecated and will be removed from pandas in a future version. Use pandas.concat instead.\n",
      "  redFlagRecord = redFlagRecord.append(veh, ignore_index=True)\n",
      "C:\\Users\\Administrator\\AppData\\Local\\Temp\\ipykernel_16000\\2984826684.py:101: FutureWarning: The frame.append method is deprecated and will be removed from pandas in a future version. Use pandas.concat instead.\n",
      "  redFlagRecord = redFlagRecord.append(veh, ignore_index=True)\n",
      "C:\\Users\\Administrator\\AppData\\Local\\Temp\\ipykernel_16000\\2984826684.py:101: FutureWarning: The frame.append method is deprecated and will be removed from pandas in a future version. Use pandas.concat instead.\n",
      "  redFlagRecord = redFlagRecord.append(veh, ignore_index=True)\n",
      "C:\\Users\\Administrator\\AppData\\Local\\Temp\\ipykernel_16000\\2984826684.py:101: FutureWarning: The frame.append method is deprecated and will be removed from pandas in a future version. Use pandas.concat instead.\n",
      "  redFlagRecord = redFlagRecord.append(veh, ignore_index=True)\n",
      "C:\\Users\\Administrator\\AppData\\Local\\Temp\\ipykernel_16000\\2984826684.py:101: FutureWarning: The frame.append method is deprecated and will be removed from pandas in a future version. Use pandas.concat instead.\n",
      "  redFlagRecord = redFlagRecord.append(veh, ignore_index=True)\n",
      "C:\\Users\\Administrator\\AppData\\Local\\Temp\\ipykernel_16000\\2984826684.py:101: FutureWarning: The frame.append method is deprecated and will be removed from pandas in a future version. Use pandas.concat instead.\n",
      "  redFlagRecord = redFlagRecord.append(veh, ignore_index=True)\n"
     ]
    },
    {
     "name": "stdout",
     "output_type": "stream",
     "text": [
      "LaneID:28925528_0;Time:2126.0;\n",
      "LaneID:28925528_0;Time:2127.0;\n",
      "LaneID:28925528_0;Time:2128.0;\n",
      "LaneID:28925528_0;Time:2129.0;\n",
      "LaneID:28925528_0;Time:2130.0;\n",
      "LaneID:28925528_0;Time:2131.0;\n",
      "LaneID:28925528_0;Time:2140.0;\n",
      "LaneID:28925528_0;Time:2141.0;\n",
      "LaneID:28925528_0;Time:2142.0;\n",
      "LaneID:28925528_0;Time:2143.0;\n",
      "LaneID:28925528_0;Time:2144.0;\n",
      "LaneID:28925528_0;Time:2145.0;\n",
      "LaneID:28925528_0;Time:2146.0;\n",
      "LaneID:28925528_0;Time:2147.0;\n",
      "LaneID:28925528_0;Time:2148.0;\n",
      "LaneID:28925528_0;Time:2149.0;\n",
      "LaneID:28925528_0;Time:2150.0;\n",
      "LaneID:28925528_0;Time:2151.0;\n",
      "LaneID:28925528_0;Time:2152.0;\n",
      "LaneID:28925528_0;Time:2153.0;\n",
      "LaneID:28925528_0;Time:2154.0;\n"
     ]
    },
    {
     "name": "stderr",
     "output_type": "stream",
     "text": [
      "C:\\Users\\Administrator\\AppData\\Local\\Temp\\ipykernel_16000\\2984826684.py:101: FutureWarning: The frame.append method is deprecated and will be removed from pandas in a future version. Use pandas.concat instead.\n",
      "  redFlagRecord = redFlagRecord.append(veh, ignore_index=True)\n",
      "C:\\Users\\Administrator\\AppData\\Local\\Temp\\ipykernel_16000\\2984826684.py:101: FutureWarning: The frame.append method is deprecated and will be removed from pandas in a future version. Use pandas.concat instead.\n",
      "  redFlagRecord = redFlagRecord.append(veh, ignore_index=True)\n",
      "C:\\Users\\Administrator\\AppData\\Local\\Temp\\ipykernel_16000\\2984826684.py:101: FutureWarning: The frame.append method is deprecated and will be removed from pandas in a future version. Use pandas.concat instead.\n",
      "  redFlagRecord = redFlagRecord.append(veh, ignore_index=True)\n",
      "C:\\Users\\Administrator\\AppData\\Local\\Temp\\ipykernel_16000\\2984826684.py:101: FutureWarning: The frame.append method is deprecated and will be removed from pandas in a future version. Use pandas.concat instead.\n",
      "  redFlagRecord = redFlagRecord.append(veh, ignore_index=True)\n",
      "C:\\Users\\Administrator\\AppData\\Local\\Temp\\ipykernel_16000\\2984826684.py:101: FutureWarning: The frame.append method is deprecated and will be removed from pandas in a future version. Use pandas.concat instead.\n",
      "  redFlagRecord = redFlagRecord.append(veh, ignore_index=True)\n",
      "C:\\Users\\Administrator\\AppData\\Local\\Temp\\ipykernel_16000\\2984826684.py:101: FutureWarning: The frame.append method is deprecated and will be removed from pandas in a future version. Use pandas.concat instead.\n",
      "  redFlagRecord = redFlagRecord.append(veh, ignore_index=True)\n",
      "C:\\Users\\Administrator\\AppData\\Local\\Temp\\ipykernel_16000\\2984826684.py:101: FutureWarning: The frame.append method is deprecated and will be removed from pandas in a future version. Use pandas.concat instead.\n",
      "  redFlagRecord = redFlagRecord.append(veh, ignore_index=True)\n"
     ]
    },
    {
     "name": "stdout",
     "output_type": "stream",
     "text": [
      "LaneID:28925528_0;Time:2155.0;\n",
      "LaneID:28925528_0;Time:2156.0;\n",
      "LaneID:28925528_0;Time:2157.0;\n",
      "LaneID:28925528_0;Time:2158.0;\n",
      "LaneID:28925528_0;Time:2159.0;\n",
      "LaneID:28925528_0;Time:2160.0;\n",
      "LaneID:28925528_0;Time:2161.0;\n",
      "LaneID:28925528_0;Time:2162.0;\n",
      "LaneID:28925528_0;Time:2170.0;\n",
      "LaneID:28925528_0;Time:2171.0;\n",
      "LaneID:28925528_0;Time:2172.0;\n",
      "LaneID:28925528_0;Time:2173.0;\n",
      "LaneID:28925528_0;Time:2174.0;\n",
      "LaneID:28925528_0;Time:2175.0;\n",
      "LaneID:28925528_0;Time:2176.0;\n",
      "LaneID:28925528_0;Time:2177.0;\n",
      "LaneID:28925528_0;Time:2178.0;\n",
      "LaneID:28925528_0;Time:2179.0;\n",
      "LaneID:28925528_0;Time:2180.0;\n",
      "LaneID:28925528_0;Time:2181.0;\n",
      "LaneID:28925528_0;Time:2182.0;\n",
      "LaneID:28925528_0;Time:2183.0;\n",
      "LaneID:28925528_0;Time:2184.0;\n"
     ]
    },
    {
     "name": "stderr",
     "output_type": "stream",
     "text": [
      "C:\\Users\\Administrator\\AppData\\Local\\Temp\\ipykernel_16000\\2984826684.py:101: FutureWarning: The frame.append method is deprecated and will be removed from pandas in a future version. Use pandas.concat instead.\n",
      "  redFlagRecord = redFlagRecord.append(veh, ignore_index=True)\n",
      "C:\\Users\\Administrator\\AppData\\Local\\Temp\\ipykernel_16000\\2984826684.py:101: FutureWarning: The frame.append method is deprecated and will be removed from pandas in a future version. Use pandas.concat instead.\n",
      "  redFlagRecord = redFlagRecord.append(veh, ignore_index=True)\n",
      "C:\\Users\\Administrator\\AppData\\Local\\Temp\\ipykernel_16000\\2984826684.py:101: FutureWarning: The frame.append method is deprecated and will be removed from pandas in a future version. Use pandas.concat instead.\n",
      "  redFlagRecord = redFlagRecord.append(veh, ignore_index=True)\n",
      "C:\\Users\\Administrator\\AppData\\Local\\Temp\\ipykernel_16000\\2984826684.py:101: FutureWarning: The frame.append method is deprecated and will be removed from pandas in a future version. Use pandas.concat instead.\n",
      "  redFlagRecord = redFlagRecord.append(veh, ignore_index=True)\n",
      "C:\\Users\\Administrator\\AppData\\Local\\Temp\\ipykernel_16000\\2984826684.py:101: FutureWarning: The frame.append method is deprecated and will be removed from pandas in a future version. Use pandas.concat instead.\n",
      "  redFlagRecord = redFlagRecord.append(veh, ignore_index=True)\n",
      "C:\\Users\\Administrator\\AppData\\Local\\Temp\\ipykernel_16000\\2984826684.py:101: FutureWarning: The frame.append method is deprecated and will be removed from pandas in a future version. Use pandas.concat instead.\n",
      "  redFlagRecord = redFlagRecord.append(veh, ignore_index=True)\n"
     ]
    },
    {
     "name": "stdout",
     "output_type": "stream",
     "text": [
      "LaneID:28925528_0;Time:2185.0;\n",
      "LaneID:28925528_0;Time:2186.0;\n",
      "LaneID:28925528_0;Time:2187.0;\n",
      "LaneID:28925528_0;Time:2188.0;\n",
      "LaneID:28925528_0;Time:2189.0;\n",
      "LaneID:28925528_0;Time:2190.0;\n",
      "LaneID:28925528_0;Time:2191.0;\n",
      "LaneID:28925528_0;Time:2192.0;\n",
      "LaneID:28925528_0;Time:2193.0;\n",
      "LaneID:28925528_0;Time:2204.0;\n",
      "LaneID:28925528_0;Time:2205.0;\n",
      "LaneID:28925528_0;Time:2206.0;\n",
      "LaneID:28925528_0;Time:2207.0;\n",
      "LaneID:28925528_0;Time:2208.0;\n",
      "LaneID:28925528_0;Time:2209.0;\n",
      "LaneID:28925528_0;Time:2210.0;\n",
      "LaneID:28925528_0;Time:2211.0;\n",
      "LaneID:28925528_0;Time:2212.0;\n",
      "LaneID:28925528_0;Time:2213.0;\n",
      "LaneID:28925528_0;Time:2214.0;\n",
      "LaneID:28925528_0;Time:2215.0;\n"
     ]
    },
    {
     "name": "stderr",
     "output_type": "stream",
     "text": [
      "C:\\Users\\Administrator\\AppData\\Local\\Temp\\ipykernel_16000\\2984826684.py:101: FutureWarning: The frame.append method is deprecated and will be removed from pandas in a future version. Use pandas.concat instead.\n",
      "  redFlagRecord = redFlagRecord.append(veh, ignore_index=True)\n",
      "C:\\Users\\Administrator\\AppData\\Local\\Temp\\ipykernel_16000\\2984826684.py:101: FutureWarning: The frame.append method is deprecated and will be removed from pandas in a future version. Use pandas.concat instead.\n",
      "  redFlagRecord = redFlagRecord.append(veh, ignore_index=True)\n",
      "C:\\Users\\Administrator\\AppData\\Local\\Temp\\ipykernel_16000\\2984826684.py:101: FutureWarning: The frame.append method is deprecated and will be removed from pandas in a future version. Use pandas.concat instead.\n",
      "  redFlagRecord = redFlagRecord.append(veh, ignore_index=True)\n",
      "C:\\Users\\Administrator\\AppData\\Local\\Temp\\ipykernel_16000\\2984826684.py:101: FutureWarning: The frame.append method is deprecated and will be removed from pandas in a future version. Use pandas.concat instead.\n",
      "  redFlagRecord = redFlagRecord.append(veh, ignore_index=True)\n",
      "C:\\Users\\Administrator\\AppData\\Local\\Temp\\ipykernel_16000\\2984826684.py:101: FutureWarning: The frame.append method is deprecated and will be removed from pandas in a future version. Use pandas.concat instead.\n",
      "  redFlagRecord = redFlagRecord.append(veh, ignore_index=True)\n",
      "C:\\Users\\Administrator\\AppData\\Local\\Temp\\ipykernel_16000\\2984826684.py:101: FutureWarning: The frame.append method is deprecated and will be removed from pandas in a future version. Use pandas.concat instead.\n",
      "  redFlagRecord = redFlagRecord.append(veh, ignore_index=True)\n"
     ]
    },
    {
     "name": "stdout",
     "output_type": "stream",
     "text": [
      "LaneID:28925528_0;Time:2216.0;\n",
      "LaneID:28925528_0;Time:2217.0;\n",
      "LaneID:28925528_0;Time:2218.0;\n",
      "LaneID:28925528_0;Time:2219.0;\n",
      "LaneID:28925528_0;Time:2220.0;\n",
      "LaneID:28925528_0;Time:2221.0;\n",
      "LaneID:28925528_0;Time:2222.0;\n",
      "LaneID:28925528_0;Time:2223.0;\n",
      "LaneID:28925528_0;Time:2224.0;\n",
      "LaneID:28925528_0;Time:2225.0;\n",
      "LaneID:28925528_0;Time:2234.0;\n",
      "LaneID:28925528_0;Time:2235.0;\n",
      "LaneID:28925528_0;Time:2236.0;\n",
      "LaneID:28925528_0;Time:2237.0;\n",
      "LaneID:28925528_0;Time:2238.0;\n",
      "LaneID:28925528_0;Time:2239.0;\n",
      "LaneID:28925528_0;Time:2240.0;\n",
      "LaneID:28925528_0;Time:2241.0;\n",
      "LaneID:28925528_0;Time:2242.0;\n",
      "LaneID:28925528_0;Time:2243.0;\n",
      "LaneID:28925528_0;Time:2244.0;\n",
      "LaneID:28925528_0;Time:2245.0;\n"
     ]
    },
    {
     "name": "stderr",
     "output_type": "stream",
     "text": [
      "C:\\Users\\Administrator\\AppData\\Local\\Temp\\ipykernel_16000\\2984826684.py:101: FutureWarning: The frame.append method is deprecated and will be removed from pandas in a future version. Use pandas.concat instead.\n",
      "  redFlagRecord = redFlagRecord.append(veh, ignore_index=True)\n",
      "C:\\Users\\Administrator\\AppData\\Local\\Temp\\ipykernel_16000\\2984826684.py:101: FutureWarning: The frame.append method is deprecated and will be removed from pandas in a future version. Use pandas.concat instead.\n",
      "  redFlagRecord = redFlagRecord.append(veh, ignore_index=True)\n",
      "C:\\Users\\Administrator\\AppData\\Local\\Temp\\ipykernel_16000\\2984826684.py:101: FutureWarning: The frame.append method is deprecated and will be removed from pandas in a future version. Use pandas.concat instead.\n",
      "  redFlagRecord = redFlagRecord.append(veh, ignore_index=True)\n",
      "C:\\Users\\Administrator\\AppData\\Local\\Temp\\ipykernel_16000\\2984826684.py:101: FutureWarning: The frame.append method is deprecated and will be removed from pandas in a future version. Use pandas.concat instead.\n",
      "  redFlagRecord = redFlagRecord.append(veh, ignore_index=True)\n",
      "C:\\Users\\Administrator\\AppData\\Local\\Temp\\ipykernel_16000\\2984826684.py:101: FutureWarning: The frame.append method is deprecated and will be removed from pandas in a future version. Use pandas.concat instead.\n",
      "  redFlagRecord = redFlagRecord.append(veh, ignore_index=True)\n",
      "C:\\Users\\Administrator\\AppData\\Local\\Temp\\ipykernel_16000\\2984826684.py:101: FutureWarning: The frame.append method is deprecated and will be removed from pandas in a future version. Use pandas.concat instead.\n",
      "  redFlagRecord = redFlagRecord.append(veh, ignore_index=True)\n"
     ]
    },
    {
     "name": "stdout",
     "output_type": "stream",
     "text": [
      "LaneID:28925528_0;Time:2246.0;\n",
      "LaneID:28925528_0;Time:2247.0;\n",
      "LaneID:28925528_0;Time:2248.0;\n",
      "LaneID:28925528_0;Time:2249.0;\n",
      "LaneID:28925528_0;Time:2250.0;\n",
      "LaneID:28925528_0;Time:2251.0;\n",
      "LaneID:28925528_0;Time:2252.0;\n",
      "LaneID:28925528_0;Time:2253.0;\n",
      "LaneID:28925528_0;Time:2254.0;\n",
      "LaneID:28925528_0;Time:2255.0;\n",
      "LaneID:28925528_0;Time:2256.0;\n",
      "LaneID:28925528_0;Time:2266.0;\n",
      "LaneID:28925528_0;Time:2267.0;\n",
      "LaneID:28925528_0;Time:2268.0;\n",
      "LaneID:28925528_0;Time:2269.0;\n",
      "LaneID:28925528_0;Time:2270.0;\n",
      "LaneID:28925528_0;Time:2271.0;\n",
      "LaneID:28925528_0;Time:2272.0;\n",
      "LaneID:28925528_0;Time:2273.0;\n",
      "LaneID:28925528_0;Time:2274.0;\n",
      "LaneID:28925528_0;Time:2275.0;\n",
      "LaneID:28925528_0;Time:2276.0;\n"
     ]
    },
    {
     "name": "stderr",
     "output_type": "stream",
     "text": [
      "C:\\Users\\Administrator\\AppData\\Local\\Temp\\ipykernel_16000\\2984826684.py:101: FutureWarning: The frame.append method is deprecated and will be removed from pandas in a future version. Use pandas.concat instead.\n",
      "  redFlagRecord = redFlagRecord.append(veh, ignore_index=True)\n",
      "C:\\Users\\Administrator\\AppData\\Local\\Temp\\ipykernel_16000\\2984826684.py:101: FutureWarning: The frame.append method is deprecated and will be removed from pandas in a future version. Use pandas.concat instead.\n",
      "  redFlagRecord = redFlagRecord.append(veh, ignore_index=True)\n",
      "C:\\Users\\Administrator\\AppData\\Local\\Temp\\ipykernel_16000\\2984826684.py:101: FutureWarning: The frame.append method is deprecated and will be removed from pandas in a future version. Use pandas.concat instead.\n",
      "  redFlagRecord = redFlagRecord.append(veh, ignore_index=True)\n",
      "C:\\Users\\Administrator\\AppData\\Local\\Temp\\ipykernel_16000\\2984826684.py:101: FutureWarning: The frame.append method is deprecated and will be removed from pandas in a future version. Use pandas.concat instead.\n",
      "  redFlagRecord = redFlagRecord.append(veh, ignore_index=True)\n",
      "C:\\Users\\Administrator\\AppData\\Local\\Temp\\ipykernel_16000\\2984826684.py:101: FutureWarning: The frame.append method is deprecated and will be removed from pandas in a future version. Use pandas.concat instead.\n",
      "  redFlagRecord = redFlagRecord.append(veh, ignore_index=True)\n",
      "C:\\Users\\Administrator\\AppData\\Local\\Temp\\ipykernel_16000\\2984826684.py:101: FutureWarning: The frame.append method is deprecated and will be removed from pandas in a future version. Use pandas.concat instead.\n",
      "  redFlagRecord = redFlagRecord.append(veh, ignore_index=True)\n"
     ]
    },
    {
     "name": "stdout",
     "output_type": "stream",
     "text": [
      "LaneID:28925528_0;Time:2277.0;\n",
      "LaneID:28925528_0;Time:2278.0;\n",
      "LaneID:28925528_0;Time:2279.0;\n",
      "LaneID:28925528_0;Time:2280.0;\n",
      "LaneID:28925528_0;Time:2281.0;\n",
      "LaneID:28925528_0;Time:2282.0;\n",
      "LaneID:28925528_0;Time:2283.0;\n",
      "LaneID:28925528_0;Time:2284.0;\n",
      "LaneID:28925528_0;Time:2285.0;\n",
      "LaneID:28925528_0;Time:2286.0;\n",
      "LaneID:28925528_0;Time:2287.0;\n",
      "LaneID:28925528_0;Time:2288.0;\n",
      "LaneID:28925528_0;Time:2297.0;\n",
      "LaneID:28925528_0;Time:2298.0;\n",
      "LaneID:28925528_0;Time:2299.0;\n",
      "LaneID:28925528_0;Time:2300.0;\n",
      "LaneID:28925528_0;Time:2301.0;\n",
      "LaneID:28925528_0;Time:2302.0;\n",
      "LaneID:28925528_0;Time:2303.0;\n",
      "LaneID:28925528_0;Time:2304.0;\n",
      "LaneID:28925528_0;Time:2305.0;\n",
      "LaneID:28925528_0;Time:2306.0;\n",
      "LaneID:28925528_0;Time:2307.0;\n",
      "LaneID:28925528_0;Time:2308.0;\n"
     ]
    },
    {
     "name": "stderr",
     "output_type": "stream",
     "text": [
      "C:\\Users\\Administrator\\AppData\\Local\\Temp\\ipykernel_16000\\2984826684.py:101: FutureWarning: The frame.append method is deprecated and will be removed from pandas in a future version. Use pandas.concat instead.\n",
      "  redFlagRecord = redFlagRecord.append(veh, ignore_index=True)\n",
      "C:\\Users\\Administrator\\AppData\\Local\\Temp\\ipykernel_16000\\2984826684.py:101: FutureWarning: The frame.append method is deprecated and will be removed from pandas in a future version. Use pandas.concat instead.\n",
      "  redFlagRecord = redFlagRecord.append(veh, ignore_index=True)\n",
      "C:\\Users\\Administrator\\AppData\\Local\\Temp\\ipykernel_16000\\2984826684.py:101: FutureWarning: The frame.append method is deprecated and will be removed from pandas in a future version. Use pandas.concat instead.\n",
      "  redFlagRecord = redFlagRecord.append(veh, ignore_index=True)\n",
      "C:\\Users\\Administrator\\AppData\\Local\\Temp\\ipykernel_16000\\2984826684.py:101: FutureWarning: The frame.append method is deprecated and will be removed from pandas in a future version. Use pandas.concat instead.\n",
      "  redFlagRecord = redFlagRecord.append(veh, ignore_index=True)\n",
      "C:\\Users\\Administrator\\AppData\\Local\\Temp\\ipykernel_16000\\2984826684.py:101: FutureWarning: The frame.append method is deprecated and will be removed from pandas in a future version. Use pandas.concat instead.\n",
      "  redFlagRecord = redFlagRecord.append(veh, ignore_index=True)\n",
      "C:\\Users\\Administrator\\AppData\\Local\\Temp\\ipykernel_16000\\2984826684.py:101: FutureWarning: The frame.append method is deprecated and will be removed from pandas in a future version. Use pandas.concat instead.\n",
      "  redFlagRecord = redFlagRecord.append(veh, ignore_index=True)\n",
      "C:\\Users\\Administrator\\AppData\\Local\\Temp\\ipykernel_16000\\2984826684.py:101: FutureWarning: The frame.append method is deprecated and will be removed from pandas in a future version. Use pandas.concat instead.\n",
      "  redFlagRecord = redFlagRecord.append(veh, ignore_index=True)\n",
      "C:\\Users\\Administrator\\AppData\\Local\\Temp\\ipykernel_16000\\2984826684.py:101: FutureWarning: The frame.append method is deprecated and will be removed from pandas in a future version. Use pandas.concat instead.\n",
      "  redFlagRecord = redFlagRecord.append(veh, ignore_index=True)\n",
      "C:\\Users\\Administrator\\AppData\\Local\\Temp\\ipykernel_16000\\2984826684.py:101: FutureWarning: The frame.append method is deprecated and will be removed from pandas in a future version. Use pandas.concat instead.\n",
      "  redFlagRecord = redFlagRecord.append(veh, ignore_index=True)\n",
      "C:\\Users\\Administrator\\AppData\\Local\\Temp\\ipykernel_16000\\2984826684.py:101: FutureWarning: The frame.append method is deprecated and will be removed from pandas in a future version. Use pandas.concat instead.\n",
      "  redFlagRecord = redFlagRecord.append(veh, ignore_index=True)\n",
      "C:\\Users\\Administrator\\AppData\\Local\\Temp\\ipykernel_16000\\2984826684.py:101: FutureWarning: The frame.append method is deprecated and will be removed from pandas in a future version. Use pandas.concat instead.\n",
      "  redFlagRecord = redFlagRecord.append(veh, ignore_index=True)\n",
      "C:\\Users\\Administrator\\AppData\\Local\\Temp\\ipykernel_16000\\2984826684.py:101: FutureWarning: The frame.append method is deprecated and will be removed from pandas in a future version. Use pandas.concat instead.\n",
      "  redFlagRecord = redFlagRecord.append(veh, ignore_index=True)\n",
      "C:\\Users\\Administrator\\AppData\\Local\\Temp\\ipykernel_16000\\2984826684.py:101: FutureWarning: The frame.append method is deprecated and will be removed from pandas in a future version. Use pandas.concat instead.\n",
      "  redFlagRecord = redFlagRecord.append(veh, ignore_index=True)\n"
     ]
    },
    {
     "name": "stdout",
     "output_type": "stream",
     "text": [
      "LaneID:28925528_0;Time:2309.0;\n",
      "LaneID:28925528_0;Time:2310.0;\n",
      "LaneID:28925528_0;Time:2311.0;\n",
      "LaneID:28925528_0;Time:2313.0;\n",
      "LaneID:28925528_0;Time:2314.0;\n",
      "LaneID:28925528_0;Time:2315.0;\n",
      "LaneID:28925528_0;Time:2316.0;\n",
      "LaneID:28925528_0;Time:2317.0;\n",
      "LaneID:28925528_0;Time:2318.0;\n",
      "LaneID:28925528_0;Time:2319.0;\n",
      "LaneID:28925528_0;Time:2320.0;\n",
      "LaneID:28925528_0;Time:2321.0;\n",
      "LaneID:28925528_0;Time:2322.0;\n",
      "LaneID:28925528_0;Time:2323.0;\n",
      "LaneID:28925528_0;Time:2324.0;\n",
      "LaneID:28925528_0;Time:2325.0;\n"
     ]
    },
    {
     "name": "stderr",
     "output_type": "stream",
     "text": [
      "C:\\Users\\Administrator\\AppData\\Local\\Temp\\ipykernel_16000\\2984826684.py:101: FutureWarning: The frame.append method is deprecated and will be removed from pandas in a future version. Use pandas.concat instead.\n",
      "  redFlagRecord = redFlagRecord.append(veh, ignore_index=True)\n",
      "C:\\Users\\Administrator\\AppData\\Local\\Temp\\ipykernel_16000\\2984826684.py:101: FutureWarning: The frame.append method is deprecated and will be removed from pandas in a future version. Use pandas.concat instead.\n",
      "  redFlagRecord = redFlagRecord.append(veh, ignore_index=True)\n",
      "C:\\Users\\Administrator\\AppData\\Local\\Temp\\ipykernel_16000\\2984826684.py:101: FutureWarning: The frame.append method is deprecated and will be removed from pandas in a future version. Use pandas.concat instead.\n",
      "  redFlagRecord = redFlagRecord.append(veh, ignore_index=True)\n",
      "C:\\Users\\Administrator\\AppData\\Local\\Temp\\ipykernel_16000\\2984826684.py:101: FutureWarning: The frame.append method is deprecated and will be removed from pandas in a future version. Use pandas.concat instead.\n",
      "  redFlagRecord = redFlagRecord.append(veh, ignore_index=True)\n",
      "C:\\Users\\Administrator\\AppData\\Local\\Temp\\ipykernel_16000\\2984826684.py:101: FutureWarning: The frame.append method is deprecated and will be removed from pandas in a future version. Use pandas.concat instead.\n",
      "  redFlagRecord = redFlagRecord.append(veh, ignore_index=True)\n",
      "C:\\Users\\Administrator\\AppData\\Local\\Temp\\ipykernel_16000\\2984826684.py:101: FutureWarning: The frame.append method is deprecated and will be removed from pandas in a future version. Use pandas.concat instead.\n",
      "  redFlagRecord = redFlagRecord.append(veh, ignore_index=True)\n",
      "C:\\Users\\Administrator\\AppData\\Local\\Temp\\ipykernel_16000\\2984826684.py:101: FutureWarning: The frame.append method is deprecated and will be removed from pandas in a future version. Use pandas.concat instead.\n",
      "  redFlagRecord = redFlagRecord.append(veh, ignore_index=True)\n"
     ]
    },
    {
     "name": "stdout",
     "output_type": "stream",
     "text": [
      "LaneID:28925528_0;Time:2326.0;\n",
      "LaneID:28925528_0;Time:2327.0;\n",
      "LaneID:28925528_0;Time:2328.0;\n",
      "LaneID:28925528_0;Time:2329.0;\n",
      "LaneID:28925528_0;Time:2330.0;\n",
      "LaneID:28925528_0;Time:2331.0;\n",
      "LaneID:28925528_0;Time:2332.0;\n"
     ]
    },
    {
     "name": "stderr",
     "output_type": "stream",
     "text": [
      "C:\\Users\\Administrator\\AppData\\Local\\Temp\\ipykernel_16000\\2984826684.py:101: FutureWarning: The frame.append method is deprecated and will be removed from pandas in a future version. Use pandas.concat instead.\n",
      "  redFlagRecord = redFlagRecord.append(veh, ignore_index=True)\n",
      "C:\\Users\\Administrator\\AppData\\Local\\Temp\\ipykernel_16000\\2984826684.py:101: FutureWarning: The frame.append method is deprecated and will be removed from pandas in a future version. Use pandas.concat instead.\n",
      "  redFlagRecord = redFlagRecord.append(veh, ignore_index=True)\n",
      "C:\\Users\\Administrator\\AppData\\Local\\Temp\\ipykernel_16000\\2984826684.py:101: FutureWarning: The frame.append method is deprecated and will be removed from pandas in a future version. Use pandas.concat instead.\n",
      "  redFlagRecord = redFlagRecord.append(veh, ignore_index=True)\n",
      "C:\\Users\\Administrator\\AppData\\Local\\Temp\\ipykernel_16000\\2984826684.py:101: FutureWarning: The frame.append method is deprecated and will be removed from pandas in a future version. Use pandas.concat instead.\n",
      "  redFlagRecord = redFlagRecord.append(veh, ignore_index=True)\n",
      "C:\\Users\\Administrator\\AppData\\Local\\Temp\\ipykernel_16000\\2984826684.py:101: FutureWarning: The frame.append method is deprecated and will be removed from pandas in a future version. Use pandas.concat instead.\n",
      "  redFlagRecord = redFlagRecord.append(veh, ignore_index=True)\n",
      "C:\\Users\\Administrator\\AppData\\Local\\Temp\\ipykernel_16000\\2984826684.py:101: FutureWarning: The frame.append method is deprecated and will be removed from pandas in a future version. Use pandas.concat instead.\n",
      "  redFlagRecord = redFlagRecord.append(veh, ignore_index=True)\n",
      "C:\\Users\\Administrator\\AppData\\Local\\Temp\\ipykernel_16000\\2984826684.py:101: FutureWarning: The frame.append method is deprecated and will be removed from pandas in a future version. Use pandas.concat instead.\n",
      "  redFlagRecord = redFlagRecord.append(veh, ignore_index=True)\n"
     ]
    },
    {
     "name": "stdout",
     "output_type": "stream",
     "text": [
      "LaneID:28925528_0;Time:2333.0;\n",
      "LaneID:28925528_0;Time:2334.0;\n",
      "LaneID:28925528_0;Time:2335.0;\n",
      "LaneID:28925528_0;Time:2336.0;\n",
      "LaneID:28925528_0;Time:2337.0;\n",
      "LaneID:28925528_0;Time:2338.0;\n",
      "LaneID:28925528_0;Time:2339.0;\n"
     ]
    },
    {
     "name": "stderr",
     "output_type": "stream",
     "text": [
      "C:\\Users\\Administrator\\AppData\\Local\\Temp\\ipykernel_16000\\2984826684.py:101: FutureWarning: The frame.append method is deprecated and will be removed from pandas in a future version. Use pandas.concat instead.\n",
      "  redFlagRecord = redFlagRecord.append(veh, ignore_index=True)\n",
      "C:\\Users\\Administrator\\AppData\\Local\\Temp\\ipykernel_16000\\2984826684.py:101: FutureWarning: The frame.append method is deprecated and will be removed from pandas in a future version. Use pandas.concat instead.\n",
      "  redFlagRecord = redFlagRecord.append(veh, ignore_index=True)\n",
      "C:\\Users\\Administrator\\AppData\\Local\\Temp\\ipykernel_16000\\2984826684.py:101: FutureWarning: The frame.append method is deprecated and will be removed from pandas in a future version. Use pandas.concat instead.\n",
      "  redFlagRecord = redFlagRecord.append(veh, ignore_index=True)\n",
      "C:\\Users\\Administrator\\AppData\\Local\\Temp\\ipykernel_16000\\2984826684.py:101: FutureWarning: The frame.append method is deprecated and will be removed from pandas in a future version. Use pandas.concat instead.\n",
      "  redFlagRecord = redFlagRecord.append(veh, ignore_index=True)\n",
      "C:\\Users\\Administrator\\AppData\\Local\\Temp\\ipykernel_16000\\2984826684.py:101: FutureWarning: The frame.append method is deprecated and will be removed from pandas in a future version. Use pandas.concat instead.\n",
      "  redFlagRecord = redFlagRecord.append(veh, ignore_index=True)\n",
      "C:\\Users\\Administrator\\AppData\\Local\\Temp\\ipykernel_16000\\2984826684.py:101: FutureWarning: The frame.append method is deprecated and will be removed from pandas in a future version. Use pandas.concat instead.\n",
      "  redFlagRecord = redFlagRecord.append(veh, ignore_index=True)\n",
      "C:\\Users\\Administrator\\AppData\\Local\\Temp\\ipykernel_16000\\2984826684.py:101: FutureWarning: The frame.append method is deprecated and will be removed from pandas in a future version. Use pandas.concat instead.\n",
      "  redFlagRecord = redFlagRecord.append(veh, ignore_index=True)\n"
     ]
    },
    {
     "name": "stdout",
     "output_type": "stream",
     "text": [
      "LaneID:28925528_0;Time:2340.0;\n",
      "LaneID:28925528_0;Time:2341.0;\n",
      "LaneID:28925528_0;Time:2342.0;\n",
      "LaneID:28925528_0;Time:2343.0;\n",
      "LaneID:28925528_0;Time:2344.0;\n",
      "LaneID:28925528_0;Time:2345.0;\n",
      "LaneID:28925528_0;Time:2346.0;\n",
      "LaneID:28925528_0;Time:2347.0;\n",
      "LaneID:28925528_0;Time:2348.0;\n",
      "LaneID:28925528_0;Time:2349.0;\n",
      "LaneID:28925528_0;Time:2350.0;\n",
      "LaneID:28925528_0;Time:2351.0;\n",
      "LaneID:28925528_0;Time:2352.0;\n",
      "LaneID:28925528_0;Time:2353.0;\n",
      "LaneID:28925528_0;Time:2354.0;\n",
      "LaneID:28925528_0;Time:2355.0;\n",
      "LaneID:28925528_0;Time:2356.0;\n",
      "LaneID:28925528_0;Time:2357.0;\n"
     ]
    },
    {
     "name": "stderr",
     "output_type": "stream",
     "text": [
      "C:\\Users\\Administrator\\AppData\\Local\\Temp\\ipykernel_16000\\2984826684.py:101: FutureWarning: The frame.append method is deprecated and will be removed from pandas in a future version. Use pandas.concat instead.\n",
      "  redFlagRecord = redFlagRecord.append(veh, ignore_index=True)\n",
      "C:\\Users\\Administrator\\AppData\\Local\\Temp\\ipykernel_16000\\2984826684.py:101: FutureWarning: The frame.append method is deprecated and will be removed from pandas in a future version. Use pandas.concat instead.\n",
      "  redFlagRecord = redFlagRecord.append(veh, ignore_index=True)\n",
      "C:\\Users\\Administrator\\AppData\\Local\\Temp\\ipykernel_16000\\2984826684.py:101: FutureWarning: The frame.append method is deprecated and will be removed from pandas in a future version. Use pandas.concat instead.\n",
      "  redFlagRecord = redFlagRecord.append(veh, ignore_index=True)\n",
      "C:\\Users\\Administrator\\AppData\\Local\\Temp\\ipykernel_16000\\2984826684.py:101: FutureWarning: The frame.append method is deprecated and will be removed from pandas in a future version. Use pandas.concat instead.\n",
      "  redFlagRecord = redFlagRecord.append(veh, ignore_index=True)\n",
      "C:\\Users\\Administrator\\AppData\\Local\\Temp\\ipykernel_16000\\2984826684.py:101: FutureWarning: The frame.append method is deprecated and will be removed from pandas in a future version. Use pandas.concat instead.\n",
      "  redFlagRecord = redFlagRecord.append(veh, ignore_index=True)\n",
      "C:\\Users\\Administrator\\AppData\\Local\\Temp\\ipykernel_16000\\2984826684.py:101: FutureWarning: The frame.append method is deprecated and will be removed from pandas in a future version. Use pandas.concat instead.\n",
      "  redFlagRecord = redFlagRecord.append(veh, ignore_index=True)\n",
      "C:\\Users\\Administrator\\AppData\\Local\\Temp\\ipykernel_16000\\2984826684.py:101: FutureWarning: The frame.append method is deprecated and will be removed from pandas in a future version. Use pandas.concat instead.\n",
      "  redFlagRecord = redFlagRecord.append(veh, ignore_index=True)\n"
     ]
    },
    {
     "name": "stdout",
     "output_type": "stream",
     "text": [
      "LaneID:28925528_0;Time:2358.0;\n",
      "LaneID:28925528_0;Time:2359.0;\n",
      "LaneID:28925528_0;Time:2360.0;\n",
      "LaneID:28925528_0;Time:2361.0;\n",
      "LaneID:28925528_0;Time:2362.0;\n",
      "LaneID:28925528_0;Time:2363.0;\n",
      "LaneID:28925528_0;Time:2364.0;\n"
     ]
    },
    {
     "name": "stderr",
     "output_type": "stream",
     "text": [
      "C:\\Users\\Administrator\\AppData\\Local\\Temp\\ipykernel_16000\\2984826684.py:101: FutureWarning: The frame.append method is deprecated and will be removed from pandas in a future version. Use pandas.concat instead.\n",
      "  redFlagRecord = redFlagRecord.append(veh, ignore_index=True)\n",
      "C:\\Users\\Administrator\\AppData\\Local\\Temp\\ipykernel_16000\\2984826684.py:101: FutureWarning: The frame.append method is deprecated and will be removed from pandas in a future version. Use pandas.concat instead.\n",
      "  redFlagRecord = redFlagRecord.append(veh, ignore_index=True)\n",
      "C:\\Users\\Administrator\\AppData\\Local\\Temp\\ipykernel_16000\\2984826684.py:101: FutureWarning: The frame.append method is deprecated and will be removed from pandas in a future version. Use pandas.concat instead.\n",
      "  redFlagRecord = redFlagRecord.append(veh, ignore_index=True)\n",
      "C:\\Users\\Administrator\\AppData\\Local\\Temp\\ipykernel_16000\\2984826684.py:101: FutureWarning: The frame.append method is deprecated and will be removed from pandas in a future version. Use pandas.concat instead.\n",
      "  redFlagRecord = redFlagRecord.append(veh, ignore_index=True)\n",
      "C:\\Users\\Administrator\\AppData\\Local\\Temp\\ipykernel_16000\\2984826684.py:101: FutureWarning: The frame.append method is deprecated and will be removed from pandas in a future version. Use pandas.concat instead.\n",
      "  redFlagRecord = redFlagRecord.append(veh, ignore_index=True)\n",
      "C:\\Users\\Administrator\\AppData\\Local\\Temp\\ipykernel_16000\\2984826684.py:101: FutureWarning: The frame.append method is deprecated and will be removed from pandas in a future version. Use pandas.concat instead.\n",
      "  redFlagRecord = redFlagRecord.append(veh, ignore_index=True)\n",
      "C:\\Users\\Administrator\\AppData\\Local\\Temp\\ipykernel_16000\\2984826684.py:101: FutureWarning: The frame.append method is deprecated and will be removed from pandas in a future version. Use pandas.concat instead.\n",
      "  redFlagRecord = redFlagRecord.append(veh, ignore_index=True)\n"
     ]
    },
    {
     "name": "stdout",
     "output_type": "stream",
     "text": [
      "LaneID:28925528_0;Time:2365.0;\n",
      "LaneID:28925528_0;Time:2366.0;\n",
      "LaneID:28925528_0;Time:2367.0;\n",
      "LaneID:28925528_0;Time:2368.0;\n",
      "LaneID:28925528_0;Time:2369.0;\n",
      "LaneID:28925528_0;Time:2370.0;\n",
      "LaneID:28925528_0;Time:2371.0;\n"
     ]
    },
    {
     "name": "stderr",
     "output_type": "stream",
     "text": [
      "C:\\Users\\Administrator\\AppData\\Local\\Temp\\ipykernel_16000\\2984826684.py:101: FutureWarning: The frame.append method is deprecated and will be removed from pandas in a future version. Use pandas.concat instead.\n",
      "  redFlagRecord = redFlagRecord.append(veh, ignore_index=True)\n",
      "C:\\Users\\Administrator\\AppData\\Local\\Temp\\ipykernel_16000\\2984826684.py:101: FutureWarning: The frame.append method is deprecated and will be removed from pandas in a future version. Use pandas.concat instead.\n",
      "  redFlagRecord = redFlagRecord.append(veh, ignore_index=True)\n",
      "C:\\Users\\Administrator\\AppData\\Local\\Temp\\ipykernel_16000\\2984826684.py:101: FutureWarning: The frame.append method is deprecated and will be removed from pandas in a future version. Use pandas.concat instead.\n",
      "  redFlagRecord = redFlagRecord.append(veh, ignore_index=True)\n",
      "C:\\Users\\Administrator\\AppData\\Local\\Temp\\ipykernel_16000\\2984826684.py:101: FutureWarning: The frame.append method is deprecated and will be removed from pandas in a future version. Use pandas.concat instead.\n",
      "  redFlagRecord = redFlagRecord.append(veh, ignore_index=True)\n",
      "C:\\Users\\Administrator\\AppData\\Local\\Temp\\ipykernel_16000\\2984826684.py:101: FutureWarning: The frame.append method is deprecated and will be removed from pandas in a future version. Use pandas.concat instead.\n",
      "  redFlagRecord = redFlagRecord.append(veh, ignore_index=True)\n",
      "C:\\Users\\Administrator\\AppData\\Local\\Temp\\ipykernel_16000\\2984826684.py:101: FutureWarning: The frame.append method is deprecated and will be removed from pandas in a future version. Use pandas.concat instead.\n",
      "  redFlagRecord = redFlagRecord.append(veh, ignore_index=True)\n",
      "C:\\Users\\Administrator\\AppData\\Local\\Temp\\ipykernel_16000\\2984826684.py:101: FutureWarning: The frame.append method is deprecated and will be removed from pandas in a future version. Use pandas.concat instead.\n",
      "  redFlagRecord = redFlagRecord.append(veh, ignore_index=True)\n"
     ]
    },
    {
     "name": "stdout",
     "output_type": "stream",
     "text": [
      "LaneID:28925528_0;Time:2372.0;\n",
      "LaneID:28925528_0;Time:2373.0;\n",
      "LaneID:28925528_0;Time:2374.0;\n",
      "LaneID:28925528_0;Time:2375.0;\n",
      "LaneID:28925528_0;Time:2376.0;\n",
      "LaneID:28925528_0;Time:2377.0;\n",
      "LaneID:28925528_0;Time:2378.0;\n",
      "LaneID:28925528_0;Time:2379.0;\n",
      "LaneID:28925528_0;Time:2380.0;\n",
      "LaneID:28925528_0;Time:2381.0;\n",
      "LaneID:28925528_0;Time:2382.0;\n",
      "LaneID:28925528_0;Time:2383.0;\n",
      "LaneID:28925528_0;Time:2384.0;\n",
      "LaneID:28925528_0;Time:2385.0;\n",
      "LaneID:28925528_0;Time:2386.0;\n",
      "LaneID:28925528_0;Time:2387.0;\n",
      "LaneID:28925528_0;Time:2388.0;\n",
      "LaneID:28925528_0;Time:2389.0;\n",
      "LaneID:28925528_0;Time:2390.0;\n"
     ]
    },
    {
     "name": "stderr",
     "output_type": "stream",
     "text": [
      "C:\\Users\\Administrator\\AppData\\Local\\Temp\\ipykernel_16000\\2984826684.py:101: FutureWarning: The frame.append method is deprecated and will be removed from pandas in a future version. Use pandas.concat instead.\n",
      "  redFlagRecord = redFlagRecord.append(veh, ignore_index=True)\n",
      "C:\\Users\\Administrator\\AppData\\Local\\Temp\\ipykernel_16000\\2984826684.py:101: FutureWarning: The frame.append method is deprecated and will be removed from pandas in a future version. Use pandas.concat instead.\n",
      "  redFlagRecord = redFlagRecord.append(veh, ignore_index=True)\n",
      "C:\\Users\\Administrator\\AppData\\Local\\Temp\\ipykernel_16000\\2984826684.py:101: FutureWarning: The frame.append method is deprecated and will be removed from pandas in a future version. Use pandas.concat instead.\n",
      "  redFlagRecord = redFlagRecord.append(veh, ignore_index=True)\n",
      "C:\\Users\\Administrator\\AppData\\Local\\Temp\\ipykernel_16000\\2984826684.py:101: FutureWarning: The frame.append method is deprecated and will be removed from pandas in a future version. Use pandas.concat instead.\n",
      "  redFlagRecord = redFlagRecord.append(veh, ignore_index=True)\n",
      "C:\\Users\\Administrator\\AppData\\Local\\Temp\\ipykernel_16000\\2984826684.py:101: FutureWarning: The frame.append method is deprecated and will be removed from pandas in a future version. Use pandas.concat instead.\n",
      "  redFlagRecord = redFlagRecord.append(veh, ignore_index=True)\n",
      "C:\\Users\\Administrator\\AppData\\Local\\Temp\\ipykernel_16000\\2984826684.py:101: FutureWarning: The frame.append method is deprecated and will be removed from pandas in a future version. Use pandas.concat instead.\n",
      "  redFlagRecord = redFlagRecord.append(veh, ignore_index=True)\n",
      "C:\\Users\\Administrator\\AppData\\Local\\Temp\\ipykernel_16000\\2984826684.py:101: FutureWarning: The frame.append method is deprecated and will be removed from pandas in a future version. Use pandas.concat instead.\n",
      "  redFlagRecord = redFlagRecord.append(veh, ignore_index=True)\n"
     ]
    },
    {
     "name": "stdout",
     "output_type": "stream",
     "text": [
      "LaneID:28925528_0;Time:2391.0;\n",
      "LaneID:28925528_0;Time:2392.0;\n",
      "LaneID:28925528_0;Time:2393.0;\n",
      "LaneID:28925528_0;Time:2394.0;\n",
      "LaneID:28925528_0;Time:2395.0;\n",
      "LaneID:28925528_0;Time:2396.0;\n",
      "LaneID:28925528_0;Time:2397.0;\n"
     ]
    },
    {
     "name": "stderr",
     "output_type": "stream",
     "text": [
      "C:\\Users\\Administrator\\AppData\\Local\\Temp\\ipykernel_16000\\2984826684.py:101: FutureWarning: The frame.append method is deprecated and will be removed from pandas in a future version. Use pandas.concat instead.\n",
      "  redFlagRecord = redFlagRecord.append(veh, ignore_index=True)\n",
      "C:\\Users\\Administrator\\AppData\\Local\\Temp\\ipykernel_16000\\2984826684.py:101: FutureWarning: The frame.append method is deprecated and will be removed from pandas in a future version. Use pandas.concat instead.\n",
      "  redFlagRecord = redFlagRecord.append(veh, ignore_index=True)\n",
      "C:\\Users\\Administrator\\AppData\\Local\\Temp\\ipykernel_16000\\2984826684.py:101: FutureWarning: The frame.append method is deprecated and will be removed from pandas in a future version. Use pandas.concat instead.\n",
      "  redFlagRecord = redFlagRecord.append(veh, ignore_index=True)\n",
      "C:\\Users\\Administrator\\AppData\\Local\\Temp\\ipykernel_16000\\2984826684.py:101: FutureWarning: The frame.append method is deprecated and will be removed from pandas in a future version. Use pandas.concat instead.\n",
      "  redFlagRecord = redFlagRecord.append(veh, ignore_index=True)\n",
      "C:\\Users\\Administrator\\AppData\\Local\\Temp\\ipykernel_16000\\2984826684.py:101: FutureWarning: The frame.append method is deprecated and will be removed from pandas in a future version. Use pandas.concat instead.\n",
      "  redFlagRecord = redFlagRecord.append(veh, ignore_index=True)\n",
      "C:\\Users\\Administrator\\AppData\\Local\\Temp\\ipykernel_16000\\2984826684.py:101: FutureWarning: The frame.append method is deprecated and will be removed from pandas in a future version. Use pandas.concat instead.\n",
      "  redFlagRecord = redFlagRecord.append(veh, ignore_index=True)\n",
      "C:\\Users\\Administrator\\AppData\\Local\\Temp\\ipykernel_16000\\2984826684.py:101: FutureWarning: The frame.append method is deprecated and will be removed from pandas in a future version. Use pandas.concat instead.\n",
      "  redFlagRecord = redFlagRecord.append(veh, ignore_index=True)\n"
     ]
    },
    {
     "name": "stdout",
     "output_type": "stream",
     "text": [
      "LaneID:28925528_0;Time:2398.0;\n",
      "LaneID:28925528_0;Time:2399.0;\n",
      "LaneID:28925528_0;Time:2400.0;\n",
      "LaneID:28925528_0;Time:2401.0;\n",
      "LaneID:28925528_0;Time:2402.0;\n",
      "LaneID:28925528_0;Time:2403.0;\n",
      "LaneID:28925528_0;Time:2404.0;\n"
     ]
    },
    {
     "name": "stderr",
     "output_type": "stream",
     "text": [
      "C:\\Users\\Administrator\\AppData\\Local\\Temp\\ipykernel_16000\\2984826684.py:101: FutureWarning: The frame.append method is deprecated and will be removed from pandas in a future version. Use pandas.concat instead.\n",
      "  redFlagRecord = redFlagRecord.append(veh, ignore_index=True)\n",
      "C:\\Users\\Administrator\\AppData\\Local\\Temp\\ipykernel_16000\\2984826684.py:101: FutureWarning: The frame.append method is deprecated and will be removed from pandas in a future version. Use pandas.concat instead.\n",
      "  redFlagRecord = redFlagRecord.append(veh, ignore_index=True)\n",
      "C:\\Users\\Administrator\\AppData\\Local\\Temp\\ipykernel_16000\\2984826684.py:101: FutureWarning: The frame.append method is deprecated and will be removed from pandas in a future version. Use pandas.concat instead.\n",
      "  redFlagRecord = redFlagRecord.append(veh, ignore_index=True)\n",
      "C:\\Users\\Administrator\\AppData\\Local\\Temp\\ipykernel_16000\\2984826684.py:101: FutureWarning: The frame.append method is deprecated and will be removed from pandas in a future version. Use pandas.concat instead.\n",
      "  redFlagRecord = redFlagRecord.append(veh, ignore_index=True)\n",
      "C:\\Users\\Administrator\\AppData\\Local\\Temp\\ipykernel_16000\\2984826684.py:101: FutureWarning: The frame.append method is deprecated and will be removed from pandas in a future version. Use pandas.concat instead.\n",
      "  redFlagRecord = redFlagRecord.append(veh, ignore_index=True)\n",
      "C:\\Users\\Administrator\\AppData\\Local\\Temp\\ipykernel_16000\\2984826684.py:101: FutureWarning: The frame.append method is deprecated and will be removed from pandas in a future version. Use pandas.concat instead.\n",
      "  redFlagRecord = redFlagRecord.append(veh, ignore_index=True)\n",
      "C:\\Users\\Administrator\\AppData\\Local\\Temp\\ipykernel_16000\\2984826684.py:101: FutureWarning: The frame.append method is deprecated and will be removed from pandas in a future version. Use pandas.concat instead.\n",
      "  redFlagRecord = redFlagRecord.append(veh, ignore_index=True)\n"
     ]
    },
    {
     "name": "stdout",
     "output_type": "stream",
     "text": [
      "LaneID:28925528_0;Time:2407.0;\n",
      "LaneID:28925528_0;Time:2408.0;\n",
      "LaneID:28925528_0;Time:2409.0;\n",
      "LaneID:28925528_0;Time:2410.0;\n",
      "LaneID:28925528_0;Time:2411.0;\n",
      "LaneID:28925528_0;Time:2412.0;\n",
      "LaneID:28925528_0;Time:2413.0;\n",
      "LaneID:28925528_0;Time:2414.0;\n",
      "LaneID:28925528_0;Time:2415.0;\n",
      "LaneID:28925528_0;Time:2416.0;\n",
      "LaneID:28925528_0;Time:2417.0;\n",
      "LaneID:28925528_0;Time:2418.0;\n",
      "LaneID:28925528_0;Time:2419.0;\n",
      "LaneID:28925528_0;Time:2420.0;\n",
      "LaneID:28925528_0;Time:2421.0;\n",
      "LaneID:28925528_0;Time:2422.0;\n"
     ]
    },
    {
     "name": "stderr",
     "output_type": "stream",
     "text": [
      "C:\\Users\\Administrator\\AppData\\Local\\Temp\\ipykernel_16000\\2984826684.py:101: FutureWarning: The frame.append method is deprecated and will be removed from pandas in a future version. Use pandas.concat instead.\n",
      "  redFlagRecord = redFlagRecord.append(veh, ignore_index=True)\n",
      "C:\\Users\\Administrator\\AppData\\Local\\Temp\\ipykernel_16000\\2984826684.py:101: FutureWarning: The frame.append method is deprecated and will be removed from pandas in a future version. Use pandas.concat instead.\n",
      "  redFlagRecord = redFlagRecord.append(veh, ignore_index=True)\n",
      "C:\\Users\\Administrator\\AppData\\Local\\Temp\\ipykernel_16000\\2984826684.py:101: FutureWarning: The frame.append method is deprecated and will be removed from pandas in a future version. Use pandas.concat instead.\n",
      "  redFlagRecord = redFlagRecord.append(veh, ignore_index=True)\n",
      "C:\\Users\\Administrator\\AppData\\Local\\Temp\\ipykernel_16000\\2984826684.py:101: FutureWarning: The frame.append method is deprecated and will be removed from pandas in a future version. Use pandas.concat instead.\n",
      "  redFlagRecord = redFlagRecord.append(veh, ignore_index=True)\n",
      "C:\\Users\\Administrator\\AppData\\Local\\Temp\\ipykernel_16000\\2984826684.py:101: FutureWarning: The frame.append method is deprecated and will be removed from pandas in a future version. Use pandas.concat instead.\n",
      "  redFlagRecord = redFlagRecord.append(veh, ignore_index=True)\n",
      "C:\\Users\\Administrator\\AppData\\Local\\Temp\\ipykernel_16000\\2984826684.py:101: FutureWarning: The frame.append method is deprecated and will be removed from pandas in a future version. Use pandas.concat instead.\n",
      "  redFlagRecord = redFlagRecord.append(veh, ignore_index=True)\n",
      "C:\\Users\\Administrator\\AppData\\Local\\Temp\\ipykernel_16000\\2984826684.py:101: FutureWarning: The frame.append method is deprecated and will be removed from pandas in a future version. Use pandas.concat instead.\n",
      "  redFlagRecord = redFlagRecord.append(veh, ignore_index=True)\n",
      "C:\\Users\\Administrator\\AppData\\Local\\Temp\\ipykernel_16000\\2984826684.py:101: FutureWarning: The frame.append method is deprecated and will be removed from pandas in a future version. Use pandas.concat instead.\n",
      "  redFlagRecord = redFlagRecord.append(veh, ignore_index=True)\n"
     ]
    },
    {
     "name": "stdout",
     "output_type": "stream",
     "text": [
      "LaneID:28925528_0;Time:2423.0;\n",
      "LaneID:28925528_0;Time:2424.0;\n",
      "LaneID:28925528_0;Time:2425.0;\n",
      "LaneID:28925528_0;Time:2426.0;\n",
      "LaneID:28925528_0;Time:2427.0;\n",
      "LaneID:28925528_0;Time:2428.0;\n",
      "LaneID:28925528_0;Time:2429.0;\n",
      "LaneID:28925528_0;Time:2430.0;\n"
     ]
    },
    {
     "name": "stderr",
     "output_type": "stream",
     "text": [
      "C:\\Users\\Administrator\\AppData\\Local\\Temp\\ipykernel_16000\\2984826684.py:101: FutureWarning: The frame.append method is deprecated and will be removed from pandas in a future version. Use pandas.concat instead.\n",
      "  redFlagRecord = redFlagRecord.append(veh, ignore_index=True)\n",
      "C:\\Users\\Administrator\\AppData\\Local\\Temp\\ipykernel_16000\\2984826684.py:101: FutureWarning: The frame.append method is deprecated and will be removed from pandas in a future version. Use pandas.concat instead.\n",
      "  redFlagRecord = redFlagRecord.append(veh, ignore_index=True)\n",
      "C:\\Users\\Administrator\\AppData\\Local\\Temp\\ipykernel_16000\\2984826684.py:101: FutureWarning: The frame.append method is deprecated and will be removed from pandas in a future version. Use pandas.concat instead.\n",
      "  redFlagRecord = redFlagRecord.append(veh, ignore_index=True)\n",
      "C:\\Users\\Administrator\\AppData\\Local\\Temp\\ipykernel_16000\\2984826684.py:101: FutureWarning: The frame.append method is deprecated and will be removed from pandas in a future version. Use pandas.concat instead.\n",
      "  redFlagRecord = redFlagRecord.append(veh, ignore_index=True)\n",
      "C:\\Users\\Administrator\\AppData\\Local\\Temp\\ipykernel_16000\\2984826684.py:101: FutureWarning: The frame.append method is deprecated and will be removed from pandas in a future version. Use pandas.concat instead.\n",
      "  redFlagRecord = redFlagRecord.append(veh, ignore_index=True)\n",
      "C:\\Users\\Administrator\\AppData\\Local\\Temp\\ipykernel_16000\\2984826684.py:101: FutureWarning: The frame.append method is deprecated and will be removed from pandas in a future version. Use pandas.concat instead.\n",
      "  redFlagRecord = redFlagRecord.append(veh, ignore_index=True)\n",
      "C:\\Users\\Administrator\\AppData\\Local\\Temp\\ipykernel_16000\\2984826684.py:101: FutureWarning: The frame.append method is deprecated and will be removed from pandas in a future version. Use pandas.concat instead.\n",
      "  redFlagRecord = redFlagRecord.append(veh, ignore_index=True)\n"
     ]
    },
    {
     "name": "stdout",
     "output_type": "stream",
     "text": [
      "LaneID:28925528_0;Time:2431.0;\n",
      "LaneID:28925528_0;Time:2432.0;\n",
      "LaneID:28925528_0;Time:2433.0;\n",
      "LaneID:28925528_0;Time:2434.0;\n",
      "LaneID:28925528_0;Time:2435.0;\n",
      "LaneID:28925528_0;Time:2436.0;\n",
      "LaneID:28925528_0;Time:2437.0;\n",
      "LaneID:28925528_0;Time:2438.0;\n",
      "LaneID:28925528_0;Time:2439.0;\n",
      "LaneID:28925528_0;Time:2440.0;\n",
      "LaneID:28925528_0;Time:2441.0;\n",
      "LaneID:28925528_0;Time:2442.0;\n",
      "LaneID:28925528_0;Time:2443.0;\n",
      "LaneID:28925528_0;Time:2444.0;\n",
      "LaneID:28925528_0;Time:2445.0;\n",
      "LaneID:28925528_0;Time:2446.0;\n",
      "LaneID:28925528_0;Time:2447.0;\n",
      "LaneID:28925528_0;Time:2448.0;\n"
     ]
    },
    {
     "name": "stderr",
     "output_type": "stream",
     "text": [
      "C:\\Users\\Administrator\\AppData\\Local\\Temp\\ipykernel_16000\\2984826684.py:101: FutureWarning: The frame.append method is deprecated and will be removed from pandas in a future version. Use pandas.concat instead.\n",
      "  redFlagRecord = redFlagRecord.append(veh, ignore_index=True)\n",
      "C:\\Users\\Administrator\\AppData\\Local\\Temp\\ipykernel_16000\\2984826684.py:101: FutureWarning: The frame.append method is deprecated and will be removed from pandas in a future version. Use pandas.concat instead.\n",
      "  redFlagRecord = redFlagRecord.append(veh, ignore_index=True)\n",
      "C:\\Users\\Administrator\\AppData\\Local\\Temp\\ipykernel_16000\\2984826684.py:101: FutureWarning: The frame.append method is deprecated and will be removed from pandas in a future version. Use pandas.concat instead.\n",
      "  redFlagRecord = redFlagRecord.append(veh, ignore_index=True)\n",
      "C:\\Users\\Administrator\\AppData\\Local\\Temp\\ipykernel_16000\\2984826684.py:101: FutureWarning: The frame.append method is deprecated and will be removed from pandas in a future version. Use pandas.concat instead.\n",
      "  redFlagRecord = redFlagRecord.append(veh, ignore_index=True)\n",
      "C:\\Users\\Administrator\\AppData\\Local\\Temp\\ipykernel_16000\\2984826684.py:101: FutureWarning: The frame.append method is deprecated and will be removed from pandas in a future version. Use pandas.concat instead.\n",
      "  redFlagRecord = redFlagRecord.append(veh, ignore_index=True)\n",
      "C:\\Users\\Administrator\\AppData\\Local\\Temp\\ipykernel_16000\\2984826684.py:101: FutureWarning: The frame.append method is deprecated and will be removed from pandas in a future version. Use pandas.concat instead.\n",
      "  redFlagRecord = redFlagRecord.append(veh, ignore_index=True)\n",
      "C:\\Users\\Administrator\\AppData\\Local\\Temp\\ipykernel_16000\\2984826684.py:101: FutureWarning: The frame.append method is deprecated and will be removed from pandas in a future version. Use pandas.concat instead.\n",
      "  redFlagRecord = redFlagRecord.append(veh, ignore_index=True)\n"
     ]
    },
    {
     "name": "stdout",
     "output_type": "stream",
     "text": [
      "LaneID:28925528_0;Time:2449.0;\n",
      "LaneID:28925528_0;Time:2450.0;\n",
      "LaneID:28925528_0;Time:2451.0;\n",
      "LaneID:28925528_0;Time:2452.0;\n",
      "LaneID:28925528_0;Time:2453.0;\n",
      "LaneID:28925528_0;Time:2454.0;\n",
      "LaneID:28925528_0;Time:2455.0;\n"
     ]
    },
    {
     "name": "stderr",
     "output_type": "stream",
     "text": [
      "C:\\Users\\Administrator\\AppData\\Local\\Temp\\ipykernel_16000\\2984826684.py:101: FutureWarning: The frame.append method is deprecated and will be removed from pandas in a future version. Use pandas.concat instead.\n",
      "  redFlagRecord = redFlagRecord.append(veh, ignore_index=True)\n",
      "C:\\Users\\Administrator\\AppData\\Local\\Temp\\ipykernel_16000\\2984826684.py:101: FutureWarning: The frame.append method is deprecated and will be removed from pandas in a future version. Use pandas.concat instead.\n",
      "  redFlagRecord = redFlagRecord.append(veh, ignore_index=True)\n",
      "C:\\Users\\Administrator\\AppData\\Local\\Temp\\ipykernel_16000\\2984826684.py:101: FutureWarning: The frame.append method is deprecated and will be removed from pandas in a future version. Use pandas.concat instead.\n",
      "  redFlagRecord = redFlagRecord.append(veh, ignore_index=True)\n",
      "C:\\Users\\Administrator\\AppData\\Local\\Temp\\ipykernel_16000\\2984826684.py:101: FutureWarning: The frame.append method is deprecated and will be removed from pandas in a future version. Use pandas.concat instead.\n",
      "  redFlagRecord = redFlagRecord.append(veh, ignore_index=True)\n",
      "C:\\Users\\Administrator\\AppData\\Local\\Temp\\ipykernel_16000\\2984826684.py:101: FutureWarning: The frame.append method is deprecated and will be removed from pandas in a future version. Use pandas.concat instead.\n",
      "  redFlagRecord = redFlagRecord.append(veh, ignore_index=True)\n",
      "C:\\Users\\Administrator\\AppData\\Local\\Temp\\ipykernel_16000\\2984826684.py:101: FutureWarning: The frame.append method is deprecated and will be removed from pandas in a future version. Use pandas.concat instead.\n",
      "  redFlagRecord = redFlagRecord.append(veh, ignore_index=True)\n",
      "C:\\Users\\Administrator\\AppData\\Local\\Temp\\ipykernel_16000\\2984826684.py:101: FutureWarning: The frame.append method is deprecated and will be removed from pandas in a future version. Use pandas.concat instead.\n",
      "  redFlagRecord = redFlagRecord.append(veh, ignore_index=True)\n"
     ]
    },
    {
     "name": "stdout",
     "output_type": "stream",
     "text": [
      "LaneID:28925528_0;Time:2456.0;\n",
      "LaneID:28925528_0;Time:2457.0;\n",
      "LaneID:28925528_0;Time:2458.0;\n",
      "LaneID:28925528_0;Time:2459.0;\n",
      "LaneID:28925528_0;Time:2460.0;\n",
      "LaneID:28925528_0;Time:2461.0;\n",
      "LaneID:28925528_0;Time:2462.0;\n"
     ]
    },
    {
     "name": "stderr",
     "output_type": "stream",
     "text": [
      "C:\\Users\\Administrator\\AppData\\Local\\Temp\\ipykernel_16000\\2984826684.py:101: FutureWarning: The frame.append method is deprecated and will be removed from pandas in a future version. Use pandas.concat instead.\n",
      "  redFlagRecord = redFlagRecord.append(veh, ignore_index=True)\n",
      "C:\\Users\\Administrator\\AppData\\Local\\Temp\\ipykernel_16000\\2984826684.py:101: FutureWarning: The frame.append method is deprecated and will be removed from pandas in a future version. Use pandas.concat instead.\n",
      "  redFlagRecord = redFlagRecord.append(veh, ignore_index=True)\n",
      "C:\\Users\\Administrator\\AppData\\Local\\Temp\\ipykernel_16000\\2984826684.py:101: FutureWarning: The frame.append method is deprecated and will be removed from pandas in a future version. Use pandas.concat instead.\n",
      "  redFlagRecord = redFlagRecord.append(veh, ignore_index=True)\n",
      "C:\\Users\\Administrator\\AppData\\Local\\Temp\\ipykernel_16000\\2984826684.py:101: FutureWarning: The frame.append method is deprecated and will be removed from pandas in a future version. Use pandas.concat instead.\n",
      "  redFlagRecord = redFlagRecord.append(veh, ignore_index=True)\n",
      "C:\\Users\\Administrator\\AppData\\Local\\Temp\\ipykernel_16000\\2984826684.py:101: FutureWarning: The frame.append method is deprecated and will be removed from pandas in a future version. Use pandas.concat instead.\n",
      "  redFlagRecord = redFlagRecord.append(veh, ignore_index=True)\n",
      "C:\\Users\\Administrator\\AppData\\Local\\Temp\\ipykernel_16000\\2984826684.py:101: FutureWarning: The frame.append method is deprecated and will be removed from pandas in a future version. Use pandas.concat instead.\n",
      "  redFlagRecord = redFlagRecord.append(veh, ignore_index=True)\n"
     ]
    },
    {
     "name": "stdout",
     "output_type": "stream",
     "text": [
      "LaneID:28925528_0;Time:2463.0;\n",
      "LaneID:28925528_0;Time:2464.0;\n",
      "LaneID:28925528_0;Time:2465.0;\n",
      "LaneID:28925528_0;Time:2466.0;\n",
      "LaneID:28925528_0;Time:2467.0;\n",
      "LaneID:28925528_0;Time:2468.0;\n",
      "LaneID:28925528_0;Time:2470.0;\n",
      "LaneID:28925528_0;Time:2471.0;\n",
      "LaneID:28925528_0;Time:2472.0;\n",
      "LaneID:28925528_0;Time:2473.0;\n",
      "LaneID:28925528_0;Time:2474.0;\n",
      "LaneID:28925528_0;Time:2475.0;\n",
      "LaneID:28925528_0;Time:2476.0;\n",
      "LaneID:28925528_0;Time:2477.0;\n",
      "LaneID:28925528_0;Time:2478.0;\n",
      "LaneID:28925528_0;Time:2479.0;\n",
      "LaneID:28925528_0;Time:2480.0;\n",
      "LaneID:28925528_0;Time:2481.0;\n"
     ]
    },
    {
     "name": "stderr",
     "output_type": "stream",
     "text": [
      "C:\\Users\\Administrator\\AppData\\Local\\Temp\\ipykernel_16000\\2984826684.py:101: FutureWarning: The frame.append method is deprecated and will be removed from pandas in a future version. Use pandas.concat instead.\n",
      "  redFlagRecord = redFlagRecord.append(veh, ignore_index=True)\n",
      "C:\\Users\\Administrator\\AppData\\Local\\Temp\\ipykernel_16000\\2984826684.py:101: FutureWarning: The frame.append method is deprecated and will be removed from pandas in a future version. Use pandas.concat instead.\n",
      "  redFlagRecord = redFlagRecord.append(veh, ignore_index=True)\n",
      "C:\\Users\\Administrator\\AppData\\Local\\Temp\\ipykernel_16000\\2984826684.py:101: FutureWarning: The frame.append method is deprecated and will be removed from pandas in a future version. Use pandas.concat instead.\n",
      "  redFlagRecord = redFlagRecord.append(veh, ignore_index=True)\n",
      "C:\\Users\\Administrator\\AppData\\Local\\Temp\\ipykernel_16000\\2984826684.py:101: FutureWarning: The frame.append method is deprecated and will be removed from pandas in a future version. Use pandas.concat instead.\n",
      "  redFlagRecord = redFlagRecord.append(veh, ignore_index=True)\n",
      "C:\\Users\\Administrator\\AppData\\Local\\Temp\\ipykernel_16000\\2984826684.py:101: FutureWarning: The frame.append method is deprecated and will be removed from pandas in a future version. Use pandas.concat instead.\n",
      "  redFlagRecord = redFlagRecord.append(veh, ignore_index=True)\n",
      "C:\\Users\\Administrator\\AppData\\Local\\Temp\\ipykernel_16000\\2984826684.py:101: FutureWarning: The frame.append method is deprecated and will be removed from pandas in a future version. Use pandas.concat instead.\n",
      "  redFlagRecord = redFlagRecord.append(veh, ignore_index=True)\n",
      "C:\\Users\\Administrator\\AppData\\Local\\Temp\\ipykernel_16000\\2984826684.py:101: FutureWarning: The frame.append method is deprecated and will be removed from pandas in a future version. Use pandas.concat instead.\n",
      "  redFlagRecord = redFlagRecord.append(veh, ignore_index=True)\n"
     ]
    },
    {
     "name": "stdout",
     "output_type": "stream",
     "text": [
      "LaneID:28925528_0;Time:2485.0;\n",
      "LaneID:28925528_0;Time:2486.0;\n",
      "LaneID:28925528_0;Time:2487.0;\n",
      "LaneID:28925528_0;Time:2488.0;\n",
      "LaneID:28925528_0;Time:2489.0;\n",
      "LaneID:28925528_0;Time:2490.0;\n",
      "LaneID:28925528_0;Time:2491.0;\n",
      "LaneID:28925528_0;Time:2492.0;\n",
      "LaneID:28925528_0;Time:2493.0;\n",
      "LaneID:28925528_0;Time:2494.0;\n"
     ]
    },
    {
     "name": "stderr",
     "output_type": "stream",
     "text": [
      "C:\\Users\\Administrator\\AppData\\Local\\Temp\\ipykernel_16000\\2984826684.py:101: FutureWarning: The frame.append method is deprecated and will be removed from pandas in a future version. Use pandas.concat instead.\n",
      "  redFlagRecord = redFlagRecord.append(veh, ignore_index=True)\n",
      "C:\\Users\\Administrator\\AppData\\Local\\Temp\\ipykernel_16000\\2984826684.py:101: FutureWarning: The frame.append method is deprecated and will be removed from pandas in a future version. Use pandas.concat instead.\n",
      "  redFlagRecord = redFlagRecord.append(veh, ignore_index=True)\n",
      "C:\\Users\\Administrator\\AppData\\Local\\Temp\\ipykernel_16000\\2984826684.py:101: FutureWarning: The frame.append method is deprecated and will be removed from pandas in a future version. Use pandas.concat instead.\n",
      "  redFlagRecord = redFlagRecord.append(veh, ignore_index=True)\n",
      "C:\\Users\\Administrator\\AppData\\Local\\Temp\\ipykernel_16000\\2984826684.py:101: FutureWarning: The frame.append method is deprecated and will be removed from pandas in a future version. Use pandas.concat instead.\n",
      "  redFlagRecord = redFlagRecord.append(veh, ignore_index=True)\n",
      "C:\\Users\\Administrator\\AppData\\Local\\Temp\\ipykernel_16000\\2984826684.py:101: FutureWarning: The frame.append method is deprecated and will be removed from pandas in a future version. Use pandas.concat instead.\n",
      "  redFlagRecord = redFlagRecord.append(veh, ignore_index=True)\n",
      "C:\\Users\\Administrator\\AppData\\Local\\Temp\\ipykernel_16000\\2984826684.py:101: FutureWarning: The frame.append method is deprecated and will be removed from pandas in a future version. Use pandas.concat instead.\n",
      "  redFlagRecord = redFlagRecord.append(veh, ignore_index=True)\n",
      "C:\\Users\\Administrator\\AppData\\Local\\Temp\\ipykernel_16000\\2984826684.py:101: FutureWarning: The frame.append method is deprecated and will be removed from pandas in a future version. Use pandas.concat instead.\n",
      "  redFlagRecord = redFlagRecord.append(veh, ignore_index=True)\n"
     ]
    },
    {
     "name": "stdout",
     "output_type": "stream",
     "text": [
      "LaneID:28925528_0;Time:2495.0;\n",
      "LaneID:28925528_0;Time:2496.0;\n",
      "LaneID:28925528_0;Time:2497.0;\n",
      "LaneID:28925528_0;Time:2498.0;\n",
      "LaneID:28925528_0;Time:2499.0;\n",
      "LaneID:28925528_0;Time:2501.0;\n",
      "LaneID:28925528_0;Time:2502.0;\n",
      "LaneID:28925528_0;Time:2503.0;\n",
      "LaneID:28925528_0;Time:2504.0;\n",
      "LaneID:28925528_0;Time:2505.0;\n",
      "LaneID:28925528_0;Time:2506.0;\n",
      "LaneID:28925528_0;Time:2507.0;\n",
      "LaneID:28925528_0;Time:2508.0;\n",
      "LaneID:28925528_0;Time:2509.0;\n",
      "LaneID:28925528_0;Time:2510.0;\n",
      "LaneID:28925528_0;Time:2511.0;\n",
      "LaneID:28925528_0;Time:2512.0;\n",
      "LaneID:28925528_0;Time:2513.0;\n",
      "LaneID:28925528_0;Time:2514.0;\n"
     ]
    },
    {
     "name": "stderr",
     "output_type": "stream",
     "text": [
      "C:\\Users\\Administrator\\AppData\\Local\\Temp\\ipykernel_16000\\2984826684.py:101: FutureWarning: The frame.append method is deprecated and will be removed from pandas in a future version. Use pandas.concat instead.\n",
      "  redFlagRecord = redFlagRecord.append(veh, ignore_index=True)\n",
      "C:\\Users\\Administrator\\AppData\\Local\\Temp\\ipykernel_16000\\2984826684.py:101: FutureWarning: The frame.append method is deprecated and will be removed from pandas in a future version. Use pandas.concat instead.\n",
      "  redFlagRecord = redFlagRecord.append(veh, ignore_index=True)\n",
      "C:\\Users\\Administrator\\AppData\\Local\\Temp\\ipykernel_16000\\2984826684.py:101: FutureWarning: The frame.append method is deprecated and will be removed from pandas in a future version. Use pandas.concat instead.\n",
      "  redFlagRecord = redFlagRecord.append(veh, ignore_index=True)\n",
      "C:\\Users\\Administrator\\AppData\\Local\\Temp\\ipykernel_16000\\2984826684.py:101: FutureWarning: The frame.append method is deprecated and will be removed from pandas in a future version. Use pandas.concat instead.\n",
      "  redFlagRecord = redFlagRecord.append(veh, ignore_index=True)\n",
      "C:\\Users\\Administrator\\AppData\\Local\\Temp\\ipykernel_16000\\2984826684.py:101: FutureWarning: The frame.append method is deprecated and will be removed from pandas in a future version. Use pandas.concat instead.\n",
      "  redFlagRecord = redFlagRecord.append(veh, ignore_index=True)\n",
      "C:\\Users\\Administrator\\AppData\\Local\\Temp\\ipykernel_16000\\2984826684.py:101: FutureWarning: The frame.append method is deprecated and will be removed from pandas in a future version. Use pandas.concat instead.\n",
      "  redFlagRecord = redFlagRecord.append(veh, ignore_index=True)\n",
      "C:\\Users\\Administrator\\AppData\\Local\\Temp\\ipykernel_16000\\2984826684.py:101: FutureWarning: The frame.append method is deprecated and will be removed from pandas in a future version. Use pandas.concat instead.\n",
      "  redFlagRecord = redFlagRecord.append(veh, ignore_index=True)\n"
     ]
    },
    {
     "name": "stdout",
     "output_type": "stream",
     "text": [
      "LaneID:28925528_0;Time:2515.0;\n",
      "LaneID:28925528_0;Time:2516.0;\n",
      "LaneID:28925528_0;Time:2517.0;\n",
      "LaneID:28925528_0;Time:2518.0;\n",
      "LaneID:28925528_0;Time:2519.0;\n",
      "LaneID:28925528_0;Time:2520.0;\n",
      "LaneID:28925528_0;Time:2521.0;\n"
     ]
    },
    {
     "name": "stderr",
     "output_type": "stream",
     "text": [
      "C:\\Users\\Administrator\\AppData\\Local\\Temp\\ipykernel_16000\\2984826684.py:101: FutureWarning: The frame.append method is deprecated and will be removed from pandas in a future version. Use pandas.concat instead.\n",
      "  redFlagRecord = redFlagRecord.append(veh, ignore_index=True)\n",
      "C:\\Users\\Administrator\\AppData\\Local\\Temp\\ipykernel_16000\\2984826684.py:101: FutureWarning: The frame.append method is deprecated and will be removed from pandas in a future version. Use pandas.concat instead.\n",
      "  redFlagRecord = redFlagRecord.append(veh, ignore_index=True)\n",
      "C:\\Users\\Administrator\\AppData\\Local\\Temp\\ipykernel_16000\\2984826684.py:101: FutureWarning: The frame.append method is deprecated and will be removed from pandas in a future version. Use pandas.concat instead.\n",
      "  redFlagRecord = redFlagRecord.append(veh, ignore_index=True)\n",
      "C:\\Users\\Administrator\\AppData\\Local\\Temp\\ipykernel_16000\\2984826684.py:101: FutureWarning: The frame.append method is deprecated and will be removed from pandas in a future version. Use pandas.concat instead.\n",
      "  redFlagRecord = redFlagRecord.append(veh, ignore_index=True)\n",
      "C:\\Users\\Administrator\\AppData\\Local\\Temp\\ipykernel_16000\\2984826684.py:101: FutureWarning: The frame.append method is deprecated and will be removed from pandas in a future version. Use pandas.concat instead.\n",
      "  redFlagRecord = redFlagRecord.append(veh, ignore_index=True)\n",
      "C:\\Users\\Administrator\\AppData\\Local\\Temp\\ipykernel_16000\\2984826684.py:101: FutureWarning: The frame.append method is deprecated and will be removed from pandas in a future version. Use pandas.concat instead.\n",
      "  redFlagRecord = redFlagRecord.append(veh, ignore_index=True)\n",
      "C:\\Users\\Administrator\\AppData\\Local\\Temp\\ipykernel_16000\\2984826684.py:101: FutureWarning: The frame.append method is deprecated and will be removed from pandas in a future version. Use pandas.concat instead.\n",
      "  redFlagRecord = redFlagRecord.append(veh, ignore_index=True)\n"
     ]
    },
    {
     "name": "stdout",
     "output_type": "stream",
     "text": [
      "LaneID:28925528_0;Time:2522.0;\n",
      "LaneID:28925528_0;Time:2523.0;\n",
      "LaneID:28925528_0;Time:2524.0;\n",
      "LaneID:28925528_0;Time:2525.0;\n",
      "LaneID:28925528_0;Time:2526.0;\n",
      "LaneID:28925528_0;Time:2527.0;\n",
      "LaneID:28925528_0;Time:2528.0;\n"
     ]
    },
    {
     "name": "stderr",
     "output_type": "stream",
     "text": [
      "C:\\Users\\Administrator\\AppData\\Local\\Temp\\ipykernel_16000\\2984826684.py:101: FutureWarning: The frame.append method is deprecated and will be removed from pandas in a future version. Use pandas.concat instead.\n",
      "  redFlagRecord = redFlagRecord.append(veh, ignore_index=True)\n",
      "C:\\Users\\Administrator\\AppData\\Local\\Temp\\ipykernel_16000\\2984826684.py:101: FutureWarning: The frame.append method is deprecated and will be removed from pandas in a future version. Use pandas.concat instead.\n",
      "  redFlagRecord = redFlagRecord.append(veh, ignore_index=True)\n",
      "C:\\Users\\Administrator\\AppData\\Local\\Temp\\ipykernel_16000\\2984826684.py:101: FutureWarning: The frame.append method is deprecated and will be removed from pandas in a future version. Use pandas.concat instead.\n",
      "  redFlagRecord = redFlagRecord.append(veh, ignore_index=True)\n",
      "C:\\Users\\Administrator\\AppData\\Local\\Temp\\ipykernel_16000\\2984826684.py:101: FutureWarning: The frame.append method is deprecated and will be removed from pandas in a future version. Use pandas.concat instead.\n",
      "  redFlagRecord = redFlagRecord.append(veh, ignore_index=True)\n",
      "C:\\Users\\Administrator\\AppData\\Local\\Temp\\ipykernel_16000\\2984826684.py:101: FutureWarning: The frame.append method is deprecated and will be removed from pandas in a future version. Use pandas.concat instead.\n",
      "  redFlagRecord = redFlagRecord.append(veh, ignore_index=True)\n",
      "C:\\Users\\Administrator\\AppData\\Local\\Temp\\ipykernel_16000\\2984826684.py:101: FutureWarning: The frame.append method is deprecated and will be removed from pandas in a future version. Use pandas.concat instead.\n",
      "  redFlagRecord = redFlagRecord.append(veh, ignore_index=True)\n",
      "C:\\Users\\Administrator\\AppData\\Local\\Temp\\ipykernel_16000\\2984826684.py:101: FutureWarning: The frame.append method is deprecated and will be removed from pandas in a future version. Use pandas.concat instead.\n",
      "  redFlagRecord = redFlagRecord.append(veh, ignore_index=True)\n"
     ]
    },
    {
     "name": "stdout",
     "output_type": "stream",
     "text": [
      "LaneID:28925528_0;Time:2529.0;\n",
      "LaneID:28925528_0;Time:2530.0;\n",
      "LaneID:28925528_0;Time:2531.0;\n",
      "LaneID:28925528_0;Time:2533.0;\n",
      "LaneID:28925528_0;Time:2534.0;\n",
      "LaneID:28925528_0;Time:2535.0;\n",
      "LaneID:28925528_0;Time:2536.0;\n",
      "LaneID:28925528_0;Time:2537.0;\n",
      "LaneID:28925528_0;Time:2538.0;\n",
      "LaneID:28925528_0;Time:2539.0;\n",
      "LaneID:28925528_0;Time:2540.0;\n",
      "LaneID:28925528_0;Time:2541.0;\n",
      "LaneID:28925528_0;Time:2542.0;\n",
      "LaneID:28925528_0;Time:2543.0;\n",
      "LaneID:28925528_0;Time:2544.0;\n",
      "LaneID:28925528_0;Time:2545.0;\n",
      "LaneID:28925528_0;Time:2546.0;\n",
      "LaneID:28925528_0;Time:2547.0;\n",
      "LaneID:28925528_0;Time:2548.0;\n"
     ]
    },
    {
     "name": "stderr",
     "output_type": "stream",
     "text": [
      "C:\\Users\\Administrator\\AppData\\Local\\Temp\\ipykernel_16000\\2984826684.py:101: FutureWarning: The frame.append method is deprecated and will be removed from pandas in a future version. Use pandas.concat instead.\n",
      "  redFlagRecord = redFlagRecord.append(veh, ignore_index=True)\n",
      "C:\\Users\\Administrator\\AppData\\Local\\Temp\\ipykernel_16000\\2984826684.py:101: FutureWarning: The frame.append method is deprecated and will be removed from pandas in a future version. Use pandas.concat instead.\n",
      "  redFlagRecord = redFlagRecord.append(veh, ignore_index=True)\n",
      "C:\\Users\\Administrator\\AppData\\Local\\Temp\\ipykernel_16000\\2984826684.py:101: FutureWarning: The frame.append method is deprecated and will be removed from pandas in a future version. Use pandas.concat instead.\n",
      "  redFlagRecord = redFlagRecord.append(veh, ignore_index=True)\n",
      "C:\\Users\\Administrator\\AppData\\Local\\Temp\\ipykernel_16000\\2984826684.py:101: FutureWarning: The frame.append method is deprecated and will be removed from pandas in a future version. Use pandas.concat instead.\n",
      "  redFlagRecord = redFlagRecord.append(veh, ignore_index=True)\n",
      "C:\\Users\\Administrator\\AppData\\Local\\Temp\\ipykernel_16000\\2984826684.py:101: FutureWarning: The frame.append method is deprecated and will be removed from pandas in a future version. Use pandas.concat instead.\n",
      "  redFlagRecord = redFlagRecord.append(veh, ignore_index=True)\n",
      "C:\\Users\\Administrator\\AppData\\Local\\Temp\\ipykernel_16000\\2984826684.py:101: FutureWarning: The frame.append method is deprecated and will be removed from pandas in a future version. Use pandas.concat instead.\n",
      "  redFlagRecord = redFlagRecord.append(veh, ignore_index=True)\n",
      "C:\\Users\\Administrator\\AppData\\Local\\Temp\\ipykernel_16000\\2984826684.py:101: FutureWarning: The frame.append method is deprecated and will be removed from pandas in a future version. Use pandas.concat instead.\n",
      "  redFlagRecord = redFlagRecord.append(veh, ignore_index=True)\n"
     ]
    },
    {
     "name": "stdout",
     "output_type": "stream",
     "text": [
      "LaneID:28925528_0;Time:2549.0;\n",
      "LaneID:28925528_0;Time:2550.0;\n",
      "LaneID:28925528_0;Time:2551.0;\n",
      "LaneID:28925528_0;Time:2552.0;\n",
      "LaneID:28925528_0;Time:2553.0;\n",
      "LaneID:28925528_0;Time:2554.0;\n",
      "LaneID:28925528_0;Time:2555.0;\n"
     ]
    },
    {
     "name": "stderr",
     "output_type": "stream",
     "text": [
      "C:\\Users\\Administrator\\AppData\\Local\\Temp\\ipykernel_16000\\2984826684.py:101: FutureWarning: The frame.append method is deprecated and will be removed from pandas in a future version. Use pandas.concat instead.\n",
      "  redFlagRecord = redFlagRecord.append(veh, ignore_index=True)\n",
      "C:\\Users\\Administrator\\AppData\\Local\\Temp\\ipykernel_16000\\2984826684.py:101: FutureWarning: The frame.append method is deprecated and will be removed from pandas in a future version. Use pandas.concat instead.\n",
      "  redFlagRecord = redFlagRecord.append(veh, ignore_index=True)\n",
      "C:\\Users\\Administrator\\AppData\\Local\\Temp\\ipykernel_16000\\2984826684.py:101: FutureWarning: The frame.append method is deprecated and will be removed from pandas in a future version. Use pandas.concat instead.\n",
      "  redFlagRecord = redFlagRecord.append(veh, ignore_index=True)\n",
      "C:\\Users\\Administrator\\AppData\\Local\\Temp\\ipykernel_16000\\2984826684.py:101: FutureWarning: The frame.append method is deprecated and will be removed from pandas in a future version. Use pandas.concat instead.\n",
      "  redFlagRecord = redFlagRecord.append(veh, ignore_index=True)\n",
      "C:\\Users\\Administrator\\AppData\\Local\\Temp\\ipykernel_16000\\2984826684.py:101: FutureWarning: The frame.append method is deprecated and will be removed from pandas in a future version. Use pandas.concat instead.\n",
      "  redFlagRecord = redFlagRecord.append(veh, ignore_index=True)\n",
      "C:\\Users\\Administrator\\AppData\\Local\\Temp\\ipykernel_16000\\2984826684.py:101: FutureWarning: The frame.append method is deprecated and will be removed from pandas in a future version. Use pandas.concat instead.\n",
      "  redFlagRecord = redFlagRecord.append(veh, ignore_index=True)\n",
      "C:\\Users\\Administrator\\AppData\\Local\\Temp\\ipykernel_16000\\2984826684.py:101: FutureWarning: The frame.append method is deprecated and will be removed from pandas in a future version. Use pandas.concat instead.\n",
      "  redFlagRecord = redFlagRecord.append(veh, ignore_index=True)\n"
     ]
    },
    {
     "name": "stdout",
     "output_type": "stream",
     "text": [
      "LaneID:28925528_0;Time:2556.0;\n",
      "LaneID:28925528_0;Time:2557.0;\n",
      "LaneID:28925528_0;Time:2558.0;\n",
      "LaneID:28925528_0;Time:2559.0;\n",
      "LaneID:28925528_0;Time:2564.0;\n",
      "LaneID:28925528_0;Time:2565.0;\n",
      "LaneID:28925528_0;Time:2566.0;\n",
      "LaneID:28925528_0;Time:2567.0;\n",
      "LaneID:28925528_0;Time:2568.0;\n",
      "LaneID:28925528_0;Time:2569.0;\n",
      "LaneID:28925528_0;Time:2570.0;\n",
      "LaneID:28925528_0;Time:2571.0;\n",
      "LaneID:28925528_0;Time:2572.0;\n",
      "LaneID:28925528_0;Time:2573.0;\n",
      "LaneID:28925528_0;Time:2574.0;\n",
      "LaneID:28925528_0;Time:2575.0;\n"
     ]
    },
    {
     "name": "stderr",
     "output_type": "stream",
     "text": [
      "C:\\Users\\Administrator\\AppData\\Local\\Temp\\ipykernel_16000\\2984826684.py:101: FutureWarning: The frame.append method is deprecated and will be removed from pandas in a future version. Use pandas.concat instead.\n",
      "  redFlagRecord = redFlagRecord.append(veh, ignore_index=True)\n",
      "C:\\Users\\Administrator\\AppData\\Local\\Temp\\ipykernel_16000\\2984826684.py:101: FutureWarning: The frame.append method is deprecated and will be removed from pandas in a future version. Use pandas.concat instead.\n",
      "  redFlagRecord = redFlagRecord.append(veh, ignore_index=True)\n",
      "C:\\Users\\Administrator\\AppData\\Local\\Temp\\ipykernel_16000\\2984826684.py:101: FutureWarning: The frame.append method is deprecated and will be removed from pandas in a future version. Use pandas.concat instead.\n",
      "  redFlagRecord = redFlagRecord.append(veh, ignore_index=True)\n",
      "C:\\Users\\Administrator\\AppData\\Local\\Temp\\ipykernel_16000\\2984826684.py:101: FutureWarning: The frame.append method is deprecated and will be removed from pandas in a future version. Use pandas.concat instead.\n",
      "  redFlagRecord = redFlagRecord.append(veh, ignore_index=True)\n",
      "C:\\Users\\Administrator\\AppData\\Local\\Temp\\ipykernel_16000\\2984826684.py:101: FutureWarning: The frame.append method is deprecated and will be removed from pandas in a future version. Use pandas.concat instead.\n",
      "  redFlagRecord = redFlagRecord.append(veh, ignore_index=True)\n",
      "C:\\Users\\Administrator\\AppData\\Local\\Temp\\ipykernel_16000\\2984826684.py:101: FutureWarning: The frame.append method is deprecated and will be removed from pandas in a future version. Use pandas.concat instead.\n",
      "  redFlagRecord = redFlagRecord.append(veh, ignore_index=True)\n",
      "C:\\Users\\Administrator\\AppData\\Local\\Temp\\ipykernel_16000\\2984826684.py:101: FutureWarning: The frame.append method is deprecated and will be removed from pandas in a future version. Use pandas.concat instead.\n",
      "  redFlagRecord = redFlagRecord.append(veh, ignore_index=True)\n"
     ]
    },
    {
     "name": "stdout",
     "output_type": "stream",
     "text": [
      "LaneID:28925528_0;Time:2576.0;\n",
      "LaneID:28925528_0;Time:2577.0;\n",
      "LaneID:28925528_0;Time:2578.0;\n",
      "LaneID:28925528_0;Time:2579.0;\n",
      "LaneID:28925528_0;Time:2580.0;\n",
      "LaneID:28925528_0;Time:2581.0;\n",
      "LaneID:28925528_0;Time:2582.0;\n"
     ]
    },
    {
     "name": "stderr",
     "output_type": "stream",
     "text": [
      "C:\\Users\\Administrator\\AppData\\Local\\Temp\\ipykernel_16000\\2984826684.py:101: FutureWarning: The frame.append method is deprecated and will be removed from pandas in a future version. Use pandas.concat instead.\n",
      "  redFlagRecord = redFlagRecord.append(veh, ignore_index=True)\n",
      "C:\\Users\\Administrator\\AppData\\Local\\Temp\\ipykernel_16000\\2984826684.py:101: FutureWarning: The frame.append method is deprecated and will be removed from pandas in a future version. Use pandas.concat instead.\n",
      "  redFlagRecord = redFlagRecord.append(veh, ignore_index=True)\n",
      "C:\\Users\\Administrator\\AppData\\Local\\Temp\\ipykernel_16000\\2984826684.py:101: FutureWarning: The frame.append method is deprecated and will be removed from pandas in a future version. Use pandas.concat instead.\n",
      "  redFlagRecord = redFlagRecord.append(veh, ignore_index=True)\n",
      "C:\\Users\\Administrator\\AppData\\Local\\Temp\\ipykernel_16000\\2984826684.py:101: FutureWarning: The frame.append method is deprecated and will be removed from pandas in a future version. Use pandas.concat instead.\n",
      "  redFlagRecord = redFlagRecord.append(veh, ignore_index=True)\n",
      "C:\\Users\\Administrator\\AppData\\Local\\Temp\\ipykernel_16000\\2984826684.py:101: FutureWarning: The frame.append method is deprecated and will be removed from pandas in a future version. Use pandas.concat instead.\n",
      "  redFlagRecord = redFlagRecord.append(veh, ignore_index=True)\n",
      "C:\\Users\\Administrator\\AppData\\Local\\Temp\\ipykernel_16000\\2984826684.py:101: FutureWarning: The frame.append method is deprecated and will be removed from pandas in a future version. Use pandas.concat instead.\n",
      "  redFlagRecord = redFlagRecord.append(veh, ignore_index=True)\n",
      "C:\\Users\\Administrator\\AppData\\Local\\Temp\\ipykernel_16000\\2984826684.py:101: FutureWarning: The frame.append method is deprecated and will be removed from pandas in a future version. Use pandas.concat instead.\n",
      "  redFlagRecord = redFlagRecord.append(veh, ignore_index=True)\n"
     ]
    },
    {
     "name": "stdout",
     "output_type": "stream",
     "text": [
      "LaneID:28925528_0;Time:2583.0;\n",
      "LaneID:28925528_0;Time:2584.0;\n",
      "LaneID:28925528_0;Time:2585.0;\n",
      "LaneID:28925528_0;Time:2586.0;\n",
      "LaneID:28925528_0;Time:2587.0;\n",
      "LaneID:28925528_0;Time:2588.0;\n",
      "LaneID:28925528_0;Time:2589.0;\n"
     ]
    },
    {
     "name": "stderr",
     "output_type": "stream",
     "text": [
      "C:\\Users\\Administrator\\AppData\\Local\\Temp\\ipykernel_16000\\2984826684.py:101: FutureWarning: The frame.append method is deprecated and will be removed from pandas in a future version. Use pandas.concat instead.\n",
      "  redFlagRecord = redFlagRecord.append(veh, ignore_index=True)\n",
      "C:\\Users\\Administrator\\AppData\\Local\\Temp\\ipykernel_16000\\2984826684.py:101: FutureWarning: The frame.append method is deprecated and will be removed from pandas in a future version. Use pandas.concat instead.\n",
      "  redFlagRecord = redFlagRecord.append(veh, ignore_index=True)\n",
      "C:\\Users\\Administrator\\AppData\\Local\\Temp\\ipykernel_16000\\2984826684.py:101: FutureWarning: The frame.append method is deprecated and will be removed from pandas in a future version. Use pandas.concat instead.\n",
      "  redFlagRecord = redFlagRecord.append(veh, ignore_index=True)\n",
      "C:\\Users\\Administrator\\AppData\\Local\\Temp\\ipykernel_16000\\2984826684.py:101: FutureWarning: The frame.append method is deprecated and will be removed from pandas in a future version. Use pandas.concat instead.\n",
      "  redFlagRecord = redFlagRecord.append(veh, ignore_index=True)\n",
      "C:\\Users\\Administrator\\AppData\\Local\\Temp\\ipykernel_16000\\2984826684.py:101: FutureWarning: The frame.append method is deprecated and will be removed from pandas in a future version. Use pandas.concat instead.\n",
      "  redFlagRecord = redFlagRecord.append(veh, ignore_index=True)\n",
      "C:\\Users\\Administrator\\AppData\\Local\\Temp\\ipykernel_16000\\2984826684.py:101: FutureWarning: The frame.append method is deprecated and will be removed from pandas in a future version. Use pandas.concat instead.\n",
      "  redFlagRecord = redFlagRecord.append(veh, ignore_index=True)\n",
      "C:\\Users\\Administrator\\AppData\\Local\\Temp\\ipykernel_16000\\2984826684.py:101: FutureWarning: The frame.append method is deprecated and will be removed from pandas in a future version. Use pandas.concat instead.\n",
      "  redFlagRecord = redFlagRecord.append(veh, ignore_index=True)\n"
     ]
    },
    {
     "name": "stdout",
     "output_type": "stream",
     "text": [
      "LaneID:28925528_0;Time:2590.0;\n",
      "LaneID:28925528_0;Time:2591.0;\n",
      "LaneID:28925528_0;Time:2592.0;\n",
      "LaneID:28925528_0;Time:2596.0;\n",
      "LaneID:28925528_0;Time:2597.0;\n",
      "LaneID:28925528_0;Time:2598.0;\n",
      "LaneID:28925528_0;Time:2599.0;\n",
      "LaneID:28925528_0;Time:2600.0;\n",
      "LaneID:28925528_0;Time:2601.0;\n",
      "LaneID:28925528_0;Time:2602.0;\n",
      "LaneID:28925528_0;Time:2603.0;\n",
      "LaneID:28925528_0;Time:2604.0;\n",
      "LaneID:28925528_0;Time:2605.0;\n",
      "LaneID:28925528_0;Time:2606.0;\n",
      "LaneID:28925528_0;Time:2607.0;\n",
      "LaneID:28925528_0;Time:2608.0;\n",
      "LaneID:28925528_0;Time:2609.0;\n",
      "LaneID:28925528_0;Time:2610.0;\n"
     ]
    },
    {
     "name": "stderr",
     "output_type": "stream",
     "text": [
      "C:\\Users\\Administrator\\AppData\\Local\\Temp\\ipykernel_16000\\2984826684.py:101: FutureWarning: The frame.append method is deprecated and will be removed from pandas in a future version. Use pandas.concat instead.\n",
      "  redFlagRecord = redFlagRecord.append(veh, ignore_index=True)\n",
      "C:\\Users\\Administrator\\AppData\\Local\\Temp\\ipykernel_16000\\2984826684.py:101: FutureWarning: The frame.append method is deprecated and will be removed from pandas in a future version. Use pandas.concat instead.\n",
      "  redFlagRecord = redFlagRecord.append(veh, ignore_index=True)\n",
      "C:\\Users\\Administrator\\AppData\\Local\\Temp\\ipykernel_16000\\2984826684.py:101: FutureWarning: The frame.append method is deprecated and will be removed from pandas in a future version. Use pandas.concat instead.\n",
      "  redFlagRecord = redFlagRecord.append(veh, ignore_index=True)\n",
      "C:\\Users\\Administrator\\AppData\\Local\\Temp\\ipykernel_16000\\2984826684.py:101: FutureWarning: The frame.append method is deprecated and will be removed from pandas in a future version. Use pandas.concat instead.\n",
      "  redFlagRecord = redFlagRecord.append(veh, ignore_index=True)\n",
      "C:\\Users\\Administrator\\AppData\\Local\\Temp\\ipykernel_16000\\2984826684.py:101: FutureWarning: The frame.append method is deprecated and will be removed from pandas in a future version. Use pandas.concat instead.\n",
      "  redFlagRecord = redFlagRecord.append(veh, ignore_index=True)\n",
      "C:\\Users\\Administrator\\AppData\\Local\\Temp\\ipykernel_16000\\2984826684.py:101: FutureWarning: The frame.append method is deprecated and will be removed from pandas in a future version. Use pandas.concat instead.\n",
      "  redFlagRecord = redFlagRecord.append(veh, ignore_index=True)\n",
      "C:\\Users\\Administrator\\AppData\\Local\\Temp\\ipykernel_16000\\2984826684.py:101: FutureWarning: The frame.append method is deprecated and will be removed from pandas in a future version. Use pandas.concat instead.\n",
      "  redFlagRecord = redFlagRecord.append(veh, ignore_index=True)\n"
     ]
    },
    {
     "name": "stdout",
     "output_type": "stream",
     "text": [
      "LaneID:28925528_0;Time:2611.0;\n",
      "LaneID:28925528_0;Time:2612.0;\n",
      "LaneID:28925528_0;Time:2613.0;\n",
      "LaneID:28925528_0;Time:2614.0;\n",
      "LaneID:28925528_0;Time:2615.0;\n",
      "LaneID:28925528_0;Time:2616.0;\n",
      "LaneID:28925528_0;Time:2617.0;\n"
     ]
    },
    {
     "name": "stderr",
     "output_type": "stream",
     "text": [
      "C:\\Users\\Administrator\\AppData\\Local\\Temp\\ipykernel_16000\\2984826684.py:101: FutureWarning: The frame.append method is deprecated and will be removed from pandas in a future version. Use pandas.concat instead.\n",
      "  redFlagRecord = redFlagRecord.append(veh, ignore_index=True)\n",
      "C:\\Users\\Administrator\\AppData\\Local\\Temp\\ipykernel_16000\\2984826684.py:101: FutureWarning: The frame.append method is deprecated and will be removed from pandas in a future version. Use pandas.concat instead.\n",
      "  redFlagRecord = redFlagRecord.append(veh, ignore_index=True)\n",
      "C:\\Users\\Administrator\\AppData\\Local\\Temp\\ipykernel_16000\\2984826684.py:101: FutureWarning: The frame.append method is deprecated and will be removed from pandas in a future version. Use pandas.concat instead.\n",
      "  redFlagRecord = redFlagRecord.append(veh, ignore_index=True)\n",
      "C:\\Users\\Administrator\\AppData\\Local\\Temp\\ipykernel_16000\\2984826684.py:101: FutureWarning: The frame.append method is deprecated and will be removed from pandas in a future version. Use pandas.concat instead.\n",
      "  redFlagRecord = redFlagRecord.append(veh, ignore_index=True)\n",
      "C:\\Users\\Administrator\\AppData\\Local\\Temp\\ipykernel_16000\\2984826684.py:101: FutureWarning: The frame.append method is deprecated and will be removed from pandas in a future version. Use pandas.concat instead.\n",
      "  redFlagRecord = redFlagRecord.append(veh, ignore_index=True)\n",
      "C:\\Users\\Administrator\\AppData\\Local\\Temp\\ipykernel_16000\\2984826684.py:101: FutureWarning: The frame.append method is deprecated and will be removed from pandas in a future version. Use pandas.concat instead.\n",
      "  redFlagRecord = redFlagRecord.append(veh, ignore_index=True)\n"
     ]
    },
    {
     "name": "stdout",
     "output_type": "stream",
     "text": [
      "LaneID:28925528_0;Time:2618.0;\n",
      "LaneID:28925528_0;Time:2619.0;\n",
      "LaneID:28925528_0;Time:2620.0;\n",
      "LaneID:28925528_0;Time:2621.0;\n",
      "LaneID:28925528_0;Time:2622.0;\n",
      "LaneID:28925528_0;Time:2623.0;\n",
      "LaneID:28925528_0;Time:2627.0;\n",
      "LaneID:28925528_0;Time:2628.0;\n",
      "LaneID:28925528_0;Time:2629.0;\n",
      "LaneID:28925528_0;Time:2630.0;\n",
      "LaneID:28925528_0;Time:2631.0;\n",
      "LaneID:28925528_0;Time:2632.0;\n",
      "LaneID:28925528_0;Time:2633.0;\n",
      "LaneID:28925528_0;Time:2634.0;\n",
      "LaneID:28925528_0;Time:2635.0;\n",
      "LaneID:28925528_0;Time:2636.0;\n",
      "LaneID:28925528_0;Time:2637.0;\n"
     ]
    },
    {
     "name": "stderr",
     "output_type": "stream",
     "text": [
      "C:\\Users\\Administrator\\AppData\\Local\\Temp\\ipykernel_16000\\2984826684.py:101: FutureWarning: The frame.append method is deprecated and will be removed from pandas in a future version. Use pandas.concat instead.\n",
      "  redFlagRecord = redFlagRecord.append(veh, ignore_index=True)\n",
      "C:\\Users\\Administrator\\AppData\\Local\\Temp\\ipykernel_16000\\2984826684.py:101: FutureWarning: The frame.append method is deprecated and will be removed from pandas in a future version. Use pandas.concat instead.\n",
      "  redFlagRecord = redFlagRecord.append(veh, ignore_index=True)\n",
      "C:\\Users\\Administrator\\AppData\\Local\\Temp\\ipykernel_16000\\2984826684.py:101: FutureWarning: The frame.append method is deprecated and will be removed from pandas in a future version. Use pandas.concat instead.\n",
      "  redFlagRecord = redFlagRecord.append(veh, ignore_index=True)\n",
      "C:\\Users\\Administrator\\AppData\\Local\\Temp\\ipykernel_16000\\2984826684.py:101: FutureWarning: The frame.append method is deprecated and will be removed from pandas in a future version. Use pandas.concat instead.\n",
      "  redFlagRecord = redFlagRecord.append(veh, ignore_index=True)\n",
      "C:\\Users\\Administrator\\AppData\\Local\\Temp\\ipykernel_16000\\2984826684.py:101: FutureWarning: The frame.append method is deprecated and will be removed from pandas in a future version. Use pandas.concat instead.\n",
      "  redFlagRecord = redFlagRecord.append(veh, ignore_index=True)\n",
      "C:\\Users\\Administrator\\AppData\\Local\\Temp\\ipykernel_16000\\2984826684.py:101: FutureWarning: The frame.append method is deprecated and will be removed from pandas in a future version. Use pandas.concat instead.\n",
      "  redFlagRecord = redFlagRecord.append(veh, ignore_index=True)\n",
      "C:\\Users\\Administrator\\AppData\\Local\\Temp\\ipykernel_16000\\2984826684.py:101: FutureWarning: The frame.append method is deprecated and will be removed from pandas in a future version. Use pandas.concat instead.\n",
      "  redFlagRecord = redFlagRecord.append(veh, ignore_index=True)\n"
     ]
    },
    {
     "name": "stdout",
     "output_type": "stream",
     "text": [
      "LaneID:28925528_0;Time:2638.0;\n",
      "LaneID:28925528_0;Time:2639.0;\n",
      "LaneID:28925528_0;Time:2640.0;\n",
      "LaneID:28925528_0;Time:2641.0;\n",
      "LaneID:28925528_0;Time:2642.0;\n",
      "LaneID:28925528_0;Time:2643.0;\n",
      "LaneID:28925528_0;Time:2644.0;\n"
     ]
    },
    {
     "name": "stderr",
     "output_type": "stream",
     "text": [
      "C:\\Users\\Administrator\\AppData\\Local\\Temp\\ipykernel_16000\\2984826684.py:101: FutureWarning: The frame.append method is deprecated and will be removed from pandas in a future version. Use pandas.concat instead.\n",
      "  redFlagRecord = redFlagRecord.append(veh, ignore_index=True)\n",
      "C:\\Users\\Administrator\\AppData\\Local\\Temp\\ipykernel_16000\\2984826684.py:101: FutureWarning: The frame.append method is deprecated and will be removed from pandas in a future version. Use pandas.concat instead.\n",
      "  redFlagRecord = redFlagRecord.append(veh, ignore_index=True)\n",
      "C:\\Users\\Administrator\\AppData\\Local\\Temp\\ipykernel_16000\\2984826684.py:101: FutureWarning: The frame.append method is deprecated and will be removed from pandas in a future version. Use pandas.concat instead.\n",
      "  redFlagRecord = redFlagRecord.append(veh, ignore_index=True)\n",
      "C:\\Users\\Administrator\\AppData\\Local\\Temp\\ipykernel_16000\\2984826684.py:101: FutureWarning: The frame.append method is deprecated and will be removed from pandas in a future version. Use pandas.concat instead.\n",
      "  redFlagRecord = redFlagRecord.append(veh, ignore_index=True)\n",
      "C:\\Users\\Administrator\\AppData\\Local\\Temp\\ipykernel_16000\\2984826684.py:101: FutureWarning: The frame.append method is deprecated and will be removed from pandas in a future version. Use pandas.concat instead.\n",
      "  redFlagRecord = redFlagRecord.append(veh, ignore_index=True)\n",
      "C:\\Users\\Administrator\\AppData\\Local\\Temp\\ipykernel_16000\\2984826684.py:101: FutureWarning: The frame.append method is deprecated and will be removed from pandas in a future version. Use pandas.concat instead.\n",
      "  redFlagRecord = redFlagRecord.append(veh, ignore_index=True)\n",
      "C:\\Users\\Administrator\\AppData\\Local\\Temp\\ipykernel_16000\\2984826684.py:101: FutureWarning: The frame.append method is deprecated and will be removed from pandas in a future version. Use pandas.concat instead.\n",
      "  redFlagRecord = redFlagRecord.append(veh, ignore_index=True)\n"
     ]
    },
    {
     "name": "stdout",
     "output_type": "stream",
     "text": [
      "LaneID:28925528_0;Time:2645.0;\n",
      "LaneID:28925528_0;Time:2646.0;\n",
      "LaneID:28925528_0;Time:2647.0;\n",
      "LaneID:28925528_0;Time:2648.0;\n",
      "LaneID:28925528_0;Time:2649.0;\n",
      "LaneID:28925528_0;Time:2650.0;\n",
      "LaneID:28925528_0;Time:2651.0;\n"
     ]
    },
    {
     "name": "stderr",
     "output_type": "stream",
     "text": [
      "C:\\Users\\Administrator\\AppData\\Local\\Temp\\ipykernel_16000\\2984826684.py:101: FutureWarning: The frame.append method is deprecated and will be removed from pandas in a future version. Use pandas.concat instead.\n",
      "  redFlagRecord = redFlagRecord.append(veh, ignore_index=True)\n",
      "C:\\Users\\Administrator\\AppData\\Local\\Temp\\ipykernel_16000\\2984826684.py:101: FutureWarning: The frame.append method is deprecated and will be removed from pandas in a future version. Use pandas.concat instead.\n",
      "  redFlagRecord = redFlagRecord.append(veh, ignore_index=True)\n",
      "C:\\Users\\Administrator\\AppData\\Local\\Temp\\ipykernel_16000\\2984826684.py:101: FutureWarning: The frame.append method is deprecated and will be removed from pandas in a future version. Use pandas.concat instead.\n",
      "  redFlagRecord = redFlagRecord.append(veh, ignore_index=True)\n",
      "C:\\Users\\Administrator\\AppData\\Local\\Temp\\ipykernel_16000\\2984826684.py:101: FutureWarning: The frame.append method is deprecated and will be removed from pandas in a future version. Use pandas.concat instead.\n",
      "  redFlagRecord = redFlagRecord.append(veh, ignore_index=True)\n",
      "C:\\Users\\Administrator\\AppData\\Local\\Temp\\ipykernel_16000\\2984826684.py:101: FutureWarning: The frame.append method is deprecated and will be removed from pandas in a future version. Use pandas.concat instead.\n",
      "  redFlagRecord = redFlagRecord.append(veh, ignore_index=True)\n",
      "C:\\Users\\Administrator\\AppData\\Local\\Temp\\ipykernel_16000\\2984826684.py:101: FutureWarning: The frame.append method is deprecated and will be removed from pandas in a future version. Use pandas.concat instead.\n",
      "  redFlagRecord = redFlagRecord.append(veh, ignore_index=True)\n",
      "C:\\Users\\Administrator\\AppData\\Local\\Temp\\ipykernel_16000\\2984826684.py:101: FutureWarning: The frame.append method is deprecated and will be removed from pandas in a future version. Use pandas.concat instead.\n",
      "  redFlagRecord = redFlagRecord.append(veh, ignore_index=True)\n"
     ]
    },
    {
     "name": "stdout",
     "output_type": "stream",
     "text": [
      "LaneID:28925528_0;Time:2652.0;\n",
      "LaneID:28925528_0;Time:2653.0;\n",
      "LaneID:28925528_0;Time:2654.0;\n",
      "LaneID:28925528_0;Time:2659.0;\n",
      "LaneID:28925528_0;Time:2660.0;\n",
      "LaneID:28925528_0;Time:2661.0;\n",
      "LaneID:28925528_0;Time:2662.0;\n",
      "LaneID:28925528_0;Time:2663.0;\n",
      "LaneID:28925528_0;Time:2664.0;\n",
      "LaneID:28925528_0;Time:2665.0;\n",
      "LaneID:28925528_0;Time:2666.0;\n",
      "LaneID:28925528_0;Time:2667.0;\n",
      "LaneID:28925528_0;Time:2668.0;\n",
      "LaneID:28925528_0;Time:2669.0;\n",
      "LaneID:28925528_0;Time:2670.0;\n",
      "LaneID:28925528_0;Time:2671.0;\n",
      "LaneID:28925528_0;Time:2672.0;\n",
      "LaneID:28925528_0;Time:2673.0;\n"
     ]
    },
    {
     "name": "stderr",
     "output_type": "stream",
     "text": [
      "C:\\Users\\Administrator\\AppData\\Local\\Temp\\ipykernel_16000\\2984826684.py:101: FutureWarning: The frame.append method is deprecated and will be removed from pandas in a future version. Use pandas.concat instead.\n",
      "  redFlagRecord = redFlagRecord.append(veh, ignore_index=True)\n",
      "C:\\Users\\Administrator\\AppData\\Local\\Temp\\ipykernel_16000\\2984826684.py:101: FutureWarning: The frame.append method is deprecated and will be removed from pandas in a future version. Use pandas.concat instead.\n",
      "  redFlagRecord = redFlagRecord.append(veh, ignore_index=True)\n",
      "C:\\Users\\Administrator\\AppData\\Local\\Temp\\ipykernel_16000\\2984826684.py:101: FutureWarning: The frame.append method is deprecated and will be removed from pandas in a future version. Use pandas.concat instead.\n",
      "  redFlagRecord = redFlagRecord.append(veh, ignore_index=True)\n",
      "C:\\Users\\Administrator\\AppData\\Local\\Temp\\ipykernel_16000\\2984826684.py:101: FutureWarning: The frame.append method is deprecated and will be removed from pandas in a future version. Use pandas.concat instead.\n",
      "  redFlagRecord = redFlagRecord.append(veh, ignore_index=True)\n",
      "C:\\Users\\Administrator\\AppData\\Local\\Temp\\ipykernel_16000\\2984826684.py:101: FutureWarning: The frame.append method is deprecated and will be removed from pandas in a future version. Use pandas.concat instead.\n",
      "  redFlagRecord = redFlagRecord.append(veh, ignore_index=True)\n",
      "C:\\Users\\Administrator\\AppData\\Local\\Temp\\ipykernel_16000\\2984826684.py:101: FutureWarning: The frame.append method is deprecated and will be removed from pandas in a future version. Use pandas.concat instead.\n",
      "  redFlagRecord = redFlagRecord.append(veh, ignore_index=True)\n",
      "C:\\Users\\Administrator\\AppData\\Local\\Temp\\ipykernel_16000\\2984826684.py:101: FutureWarning: The frame.append method is deprecated and will be removed from pandas in a future version. Use pandas.concat instead.\n",
      "  redFlagRecord = redFlagRecord.append(veh, ignore_index=True)\n"
     ]
    },
    {
     "name": "stdout",
     "output_type": "stream",
     "text": [
      "LaneID:28925528_0;Time:2674.0;\n",
      "LaneID:28925528_0;Time:2675.0;\n",
      "LaneID:28925528_0;Time:2676.0;\n",
      "LaneID:28925528_0;Time:2677.0;\n",
      "LaneID:28925528_0;Time:2678.0;\n",
      "LaneID:28925528_0;Time:2679.0;\n",
      "LaneID:28925528_0;Time:2680.0;\n"
     ]
    },
    {
     "name": "stderr",
     "output_type": "stream",
     "text": [
      "C:\\Users\\Administrator\\AppData\\Local\\Temp\\ipykernel_16000\\2984826684.py:101: FutureWarning: The frame.append method is deprecated and will be removed from pandas in a future version. Use pandas.concat instead.\n",
      "  redFlagRecord = redFlagRecord.append(veh, ignore_index=True)\n",
      "C:\\Users\\Administrator\\AppData\\Local\\Temp\\ipykernel_16000\\2984826684.py:101: FutureWarning: The frame.append method is deprecated and will be removed from pandas in a future version. Use pandas.concat instead.\n",
      "  redFlagRecord = redFlagRecord.append(veh, ignore_index=True)\n",
      "C:\\Users\\Administrator\\AppData\\Local\\Temp\\ipykernel_16000\\2984826684.py:101: FutureWarning: The frame.append method is deprecated and will be removed from pandas in a future version. Use pandas.concat instead.\n",
      "  redFlagRecord = redFlagRecord.append(veh, ignore_index=True)\n",
      "C:\\Users\\Administrator\\AppData\\Local\\Temp\\ipykernel_16000\\2984826684.py:101: FutureWarning: The frame.append method is deprecated and will be removed from pandas in a future version. Use pandas.concat instead.\n",
      "  redFlagRecord = redFlagRecord.append(veh, ignore_index=True)\n",
      "C:\\Users\\Administrator\\AppData\\Local\\Temp\\ipykernel_16000\\2984826684.py:101: FutureWarning: The frame.append method is deprecated and will be removed from pandas in a future version. Use pandas.concat instead.\n",
      "  redFlagRecord = redFlagRecord.append(veh, ignore_index=True)\n",
      "C:\\Users\\Administrator\\AppData\\Local\\Temp\\ipykernel_16000\\2984826684.py:101: FutureWarning: The frame.append method is deprecated and will be removed from pandas in a future version. Use pandas.concat instead.\n",
      "  redFlagRecord = redFlagRecord.append(veh, ignore_index=True)\n",
      "C:\\Users\\Administrator\\AppData\\Local\\Temp\\ipykernel_16000\\2984826684.py:101: FutureWarning: The frame.append method is deprecated and will be removed from pandas in a future version. Use pandas.concat instead.\n",
      "  redFlagRecord = redFlagRecord.append(veh, ignore_index=True)\n"
     ]
    },
    {
     "name": "stdout",
     "output_type": "stream",
     "text": [
      "LaneID:28925528_0;Time:2681.0;\n",
      "LaneID:28925528_0;Time:2682.0;\n",
      "LaneID:28925528_0;Time:2683.0;\n",
      "LaneID:28925528_0;Time:2684.0;\n",
      "LaneID:28925528_0;Time:2685.0;\n",
      "LaneID:28925528_0;Time:2690.0;\n",
      "LaneID:28925528_0;Time:2691.0;\n",
      "LaneID:28925528_0;Time:2692.0;\n",
      "LaneID:28925528_0;Time:2693.0;\n",
      "LaneID:28925528_0;Time:2694.0;\n",
      "LaneID:28925528_0;Time:2695.0;\n",
      "LaneID:28925528_0;Time:2696.0;\n",
      "LaneID:28925528_0;Time:2697.0;\n",
      "LaneID:28925528_0;Time:2698.0;\n",
      "LaneID:28925528_0;Time:2699.0;\n",
      "LaneID:28925528_0;Time:2700.0;\n",
      "LaneID:28925528_0;Time:2701.0;\n",
      "LaneID:28925528_0;Time:2702.0;\n"
     ]
    },
    {
     "name": "stderr",
     "output_type": "stream",
     "text": [
      "C:\\Users\\Administrator\\AppData\\Local\\Temp\\ipykernel_16000\\2984826684.py:101: FutureWarning: The frame.append method is deprecated and will be removed from pandas in a future version. Use pandas.concat instead.\n",
      "  redFlagRecord = redFlagRecord.append(veh, ignore_index=True)\n",
      "C:\\Users\\Administrator\\AppData\\Local\\Temp\\ipykernel_16000\\2984826684.py:101: FutureWarning: The frame.append method is deprecated and will be removed from pandas in a future version. Use pandas.concat instead.\n",
      "  redFlagRecord = redFlagRecord.append(veh, ignore_index=True)\n",
      "C:\\Users\\Administrator\\AppData\\Local\\Temp\\ipykernel_16000\\2984826684.py:101: FutureWarning: The frame.append method is deprecated and will be removed from pandas in a future version. Use pandas.concat instead.\n",
      "  redFlagRecord = redFlagRecord.append(veh, ignore_index=True)\n",
      "C:\\Users\\Administrator\\AppData\\Local\\Temp\\ipykernel_16000\\2984826684.py:101: FutureWarning: The frame.append method is deprecated and will be removed from pandas in a future version. Use pandas.concat instead.\n",
      "  redFlagRecord = redFlagRecord.append(veh, ignore_index=True)\n",
      "C:\\Users\\Administrator\\AppData\\Local\\Temp\\ipykernel_16000\\2984826684.py:101: FutureWarning: The frame.append method is deprecated and will be removed from pandas in a future version. Use pandas.concat instead.\n",
      "  redFlagRecord = redFlagRecord.append(veh, ignore_index=True)\n",
      "C:\\Users\\Administrator\\AppData\\Local\\Temp\\ipykernel_16000\\2984826684.py:101: FutureWarning: The frame.append method is deprecated and will be removed from pandas in a future version. Use pandas.concat instead.\n",
      "  redFlagRecord = redFlagRecord.append(veh, ignore_index=True)\n",
      "C:\\Users\\Administrator\\AppData\\Local\\Temp\\ipykernel_16000\\2984826684.py:101: FutureWarning: The frame.append method is deprecated and will be removed from pandas in a future version. Use pandas.concat instead.\n",
      "  redFlagRecord = redFlagRecord.append(veh, ignore_index=True)\n",
      "C:\\Users\\Administrator\\AppData\\Local\\Temp\\ipykernel_16000\\2984826684.py:101: FutureWarning: The frame.append method is deprecated and will be removed from pandas in a future version. Use pandas.concat instead.\n",
      "  redFlagRecord = redFlagRecord.append(veh, ignore_index=True)\n"
     ]
    },
    {
     "name": "stdout",
     "output_type": "stream",
     "text": [
      "LaneID:28925528_0;Time:2703.0;\n",
      "LaneID:28925528_0;Time:2704.0;\n",
      "LaneID:28925528_0;Time:2705.0;\n",
      "LaneID:28925528_0;Time:2706.0;\n",
      "LaneID:28925528_0;Time:2707.0;\n",
      "LaneID:28925528_0;Time:2708.0;\n",
      "LaneID:28925528_0;Time:2709.0;\n",
      "LaneID:28925528_0;Time:2710.0;\n",
      "LaneID:28925528_0;Time:2711.0;\n",
      "LaneID:28925528_0;Time:2712.0;\n",
      "LaneID:28925528_0;Time:2713.0;\n",
      "LaneID:28925528_0;Time:2714.0;\n"
     ]
    },
    {
     "name": "stderr",
     "output_type": "stream",
     "text": [
      "C:\\Users\\Administrator\\AppData\\Local\\Temp\\ipykernel_16000\\2984826684.py:101: FutureWarning: The frame.append method is deprecated and will be removed from pandas in a future version. Use pandas.concat instead.\n",
      "  redFlagRecord = redFlagRecord.append(veh, ignore_index=True)\n",
      "C:\\Users\\Administrator\\AppData\\Local\\Temp\\ipykernel_16000\\2984826684.py:101: FutureWarning: The frame.append method is deprecated and will be removed from pandas in a future version. Use pandas.concat instead.\n",
      "  redFlagRecord = redFlagRecord.append(veh, ignore_index=True)\n",
      "C:\\Users\\Administrator\\AppData\\Local\\Temp\\ipykernel_16000\\2984826684.py:101: FutureWarning: The frame.append method is deprecated and will be removed from pandas in a future version. Use pandas.concat instead.\n",
      "  redFlagRecord = redFlagRecord.append(veh, ignore_index=True)\n",
      "C:\\Users\\Administrator\\AppData\\Local\\Temp\\ipykernel_16000\\2984826684.py:101: FutureWarning: The frame.append method is deprecated and will be removed from pandas in a future version. Use pandas.concat instead.\n",
      "  redFlagRecord = redFlagRecord.append(veh, ignore_index=True)\n",
      "C:\\Users\\Administrator\\AppData\\Local\\Temp\\ipykernel_16000\\2984826684.py:101: FutureWarning: The frame.append method is deprecated and will be removed from pandas in a future version. Use pandas.concat instead.\n",
      "  redFlagRecord = redFlagRecord.append(veh, ignore_index=True)\n"
     ]
    },
    {
     "name": "stdout",
     "output_type": "stream",
     "text": [
      "LaneID:28925528_0;Time:2715.0;\n",
      "LaneID:28925528_0;Time:2716.0;\n",
      "LaneID:28925528_0;Time:2777.0;\n",
      "LaneID:28925528_0;Time:2778.0;\n",
      "LaneID:28925528_0;Time:2779.0;\n",
      "LaneID:28925528_0;Time:2780.0;\n",
      "LaneID:28925528_0;Time:2781.0;\n",
      "LaneID:28925528_0;Time:2782.0;\n",
      "LaneID:28925528_0;Time:2783.0;\n",
      "LaneID:28925528_0;Time:2792.0;\n",
      "LaneID:28925528_0;Time:2793.0;\n",
      "LaneID:28925528_0;Time:2794.0;\n",
      "LaneID:28925528_0;Time:2795.0;\n",
      "LaneID:28925528_0;Time:2796.0;\n",
      "LaneID:28925528_0;Time:2797.0;\n",
      "LaneID:28925528_0;Time:2798.0;\n",
      "LaneID:28925528_0;Time:2799.0;\n",
      "LaneID:28925528_0;Time:2800.0;\n",
      "LaneID:28925528_0;Time:2801.0;\n",
      "LaneID:28925528_0;Time:2802.0;\n",
      "LaneID:28925528_0;Time:2803.0;\n",
      "LaneID:28925528_0;Time:2804.0;\n",
      "LaneID:28925528_0;Time:2805.0;\n",
      "LaneID:28925528_0;Time:2806.0;\n",
      "LaneID:28925528_0;Time:2807.0;\n",
      "LaneID:28925528_0;Time:2813.0;\n",
      "LaneID:28925528_0;Time:2814.0;\n",
      "LaneID:28925528_0;Time:2815.0;\n",
      "LaneID:28925528_0;Time:2816.0;\n",
      "LaneID:28925528_0;Time:2817.0;\n",
      "LaneID:28925528_0;Time:2818.0;\n",
      "LaneID:28925528_0;Time:2819.0;\n",
      "LaneID:28925528_0;Time:2820.0;\n",
      "LaneID:28925528_0;Time:2821.0;\n",
      "LaneID:28925528_0;Time:2822.0;\n"
     ]
    },
    {
     "name": "stderr",
     "output_type": "stream",
     "text": [
      "C:\\Users\\Administrator\\AppData\\Local\\Temp\\ipykernel_16000\\2984826684.py:101: FutureWarning: The frame.append method is deprecated and will be removed from pandas in a future version. Use pandas.concat instead.\n",
      "  redFlagRecord = redFlagRecord.append(veh, ignore_index=True)\n",
      "C:\\Users\\Administrator\\AppData\\Local\\Temp\\ipykernel_16000\\2984826684.py:101: FutureWarning: The frame.append method is deprecated and will be removed from pandas in a future version. Use pandas.concat instead.\n",
      "  redFlagRecord = redFlagRecord.append(veh, ignore_index=True)\n",
      "C:\\Users\\Administrator\\AppData\\Local\\Temp\\ipykernel_16000\\2984826684.py:101: FutureWarning: The frame.append method is deprecated and will be removed from pandas in a future version. Use pandas.concat instead.\n",
      "  redFlagRecord = redFlagRecord.append(veh, ignore_index=True)\n",
      "C:\\Users\\Administrator\\AppData\\Local\\Temp\\ipykernel_16000\\2984826684.py:101: FutureWarning: The frame.append method is deprecated and will be removed from pandas in a future version. Use pandas.concat instead.\n",
      "  redFlagRecord = redFlagRecord.append(veh, ignore_index=True)\n",
      "C:\\Users\\Administrator\\AppData\\Local\\Temp\\ipykernel_16000\\2984826684.py:101: FutureWarning: The frame.append method is deprecated and will be removed from pandas in a future version. Use pandas.concat instead.\n",
      "  redFlagRecord = redFlagRecord.append(veh, ignore_index=True)\n",
      "C:\\Users\\Administrator\\AppData\\Local\\Temp\\ipykernel_16000\\2984826684.py:101: FutureWarning: The frame.append method is deprecated and will be removed from pandas in a future version. Use pandas.concat instead.\n",
      "  redFlagRecord = redFlagRecord.append(veh, ignore_index=True)\n",
      "C:\\Users\\Administrator\\AppData\\Local\\Temp\\ipykernel_16000\\2984826684.py:101: FutureWarning: The frame.append method is deprecated and will be removed from pandas in a future version. Use pandas.concat instead.\n",
      "  redFlagRecord = redFlagRecord.append(veh, ignore_index=True)\n"
     ]
    },
    {
     "name": "stdout",
     "output_type": "stream",
     "text": [
      "LaneID:28925528_0;Time:2823.0;\n",
      "LaneID:28925528_0;Time:2824.0;\n",
      "LaneID:28925528_0;Time:2825.0;\n",
      "LaneID:28925528_0;Time:2826.0;\n",
      "LaneID:28925528_0;Time:2827.0;\n",
      "LaneID:28925528_0;Time:2828.0;\n",
      "LaneID:28925528_0;Time:2829.0;\n"
     ]
    },
    {
     "name": "stderr",
     "output_type": "stream",
     "text": [
      "C:\\Users\\Administrator\\AppData\\Local\\Temp\\ipykernel_16000\\2984826684.py:101: FutureWarning: The frame.append method is deprecated and will be removed from pandas in a future version. Use pandas.concat instead.\n",
      "  redFlagRecord = redFlagRecord.append(veh, ignore_index=True)\n",
      "C:\\Users\\Administrator\\AppData\\Local\\Temp\\ipykernel_16000\\2984826684.py:101: FutureWarning: The frame.append method is deprecated and will be removed from pandas in a future version. Use pandas.concat instead.\n",
      "  redFlagRecord = redFlagRecord.append(veh, ignore_index=True)\n",
      "C:\\Users\\Administrator\\AppData\\Local\\Temp\\ipykernel_16000\\2984826684.py:101: FutureWarning: The frame.append method is deprecated and will be removed from pandas in a future version. Use pandas.concat instead.\n",
      "  redFlagRecord = redFlagRecord.append(veh, ignore_index=True)\n",
      "C:\\Users\\Administrator\\AppData\\Local\\Temp\\ipykernel_16000\\2984826684.py:101: FutureWarning: The frame.append method is deprecated and will be removed from pandas in a future version. Use pandas.concat instead.\n",
      "  redFlagRecord = redFlagRecord.append(veh, ignore_index=True)\n",
      "C:\\Users\\Administrator\\AppData\\Local\\Temp\\ipykernel_16000\\2984826684.py:101: FutureWarning: The frame.append method is deprecated and will be removed from pandas in a future version. Use pandas.concat instead.\n",
      "  redFlagRecord = redFlagRecord.append(veh, ignore_index=True)\n",
      "C:\\Users\\Administrator\\AppData\\Local\\Temp\\ipykernel_16000\\2984826684.py:101: FutureWarning: The frame.append method is deprecated and will be removed from pandas in a future version. Use pandas.concat instead.\n",
      "  redFlagRecord = redFlagRecord.append(veh, ignore_index=True)\n",
      "C:\\Users\\Administrator\\AppData\\Local\\Temp\\ipykernel_16000\\2984826684.py:101: FutureWarning: The frame.append method is deprecated and will be removed from pandas in a future version. Use pandas.concat instead.\n",
      "  redFlagRecord = redFlagRecord.append(veh, ignore_index=True)\n",
      "C:\\Users\\Administrator\\AppData\\Local\\Temp\\ipykernel_16000\\2984826684.py:101: FutureWarning: The frame.append method is deprecated and will be removed from pandas in a future version. Use pandas.concat instead.\n",
      "  redFlagRecord = redFlagRecord.append(veh, ignore_index=True)\n",
      "C:\\Users\\Administrator\\AppData\\Local\\Temp\\ipykernel_16000\\2984826684.py:101: FutureWarning: The frame.append method is deprecated and will be removed from pandas in a future version. Use pandas.concat instead.\n",
      "  redFlagRecord = redFlagRecord.append(veh, ignore_index=True)\n",
      "C:\\Users\\Administrator\\AppData\\Local\\Temp\\ipykernel_16000\\2984826684.py:101: FutureWarning: The frame.append method is deprecated and will be removed from pandas in a future version. Use pandas.concat instead.\n",
      "  redFlagRecord = redFlagRecord.append(veh, ignore_index=True)\n",
      "C:\\Users\\Administrator\\AppData\\Local\\Temp\\ipykernel_16000\\2984826684.py:101: FutureWarning: The frame.append method is deprecated and will be removed from pandas in a future version. Use pandas.concat instead.\n",
      "  redFlagRecord = redFlagRecord.append(veh, ignore_index=True)\n",
      "C:\\Users\\Administrator\\AppData\\Local\\Temp\\ipykernel_16000\\2984826684.py:101: FutureWarning: The frame.append method is deprecated and will be removed from pandas in a future version. Use pandas.concat instead.\n",
      "  redFlagRecord = redFlagRecord.append(veh, ignore_index=True)\n",
      "C:\\Users\\Administrator\\AppData\\Local\\Temp\\ipykernel_16000\\2984826684.py:101: FutureWarning: The frame.append method is deprecated and will be removed from pandas in a future version. Use pandas.concat instead.\n",
      "  redFlagRecord = redFlagRecord.append(veh, ignore_index=True)\n",
      "C:\\Users\\Administrator\\AppData\\Local\\Temp\\ipykernel_16000\\2984826684.py:101: FutureWarning: The frame.append method is deprecated and will be removed from pandas in a future version. Use pandas.concat instead.\n",
      "  redFlagRecord = redFlagRecord.append(veh, ignore_index=True)\n"
     ]
    },
    {
     "name": "stdout",
     "output_type": "stream",
     "text": [
      "LaneID:28925528_0;Time:2830.0;\n",
      "LaneID:28925528_0;Time:2831.0;\n",
      "LaneID:28925528_0;Time:2832.0;\n",
      "LaneID:28925528_0;Time:2833.0;\n",
      "LaneID:28925528_0;Time:2834.0;\n",
      "LaneID:28925528_0;Time:2835.0;\n",
      "LaneID:28925528_0;Time:2836.0;\n",
      "LaneID:28925528_0;Time:2837.0;\n"
     ]
    },
    {
     "name": "stderr",
     "output_type": "stream",
     "text": [
      "C:\\Users\\Administrator\\AppData\\Local\\Temp\\ipykernel_16000\\2984826684.py:101: FutureWarning: The frame.append method is deprecated and will be removed from pandas in a future version. Use pandas.concat instead.\n",
      "  redFlagRecord = redFlagRecord.append(veh, ignore_index=True)\n",
      "C:\\Users\\Administrator\\AppData\\Local\\Temp\\ipykernel_16000\\2984826684.py:101: FutureWarning: The frame.append method is deprecated and will be removed from pandas in a future version. Use pandas.concat instead.\n",
      "  redFlagRecord = redFlagRecord.append(veh, ignore_index=True)\n",
      "C:\\Users\\Administrator\\AppData\\Local\\Temp\\ipykernel_16000\\2984826684.py:101: FutureWarning: The frame.append method is deprecated and will be removed from pandas in a future version. Use pandas.concat instead.\n",
      "  redFlagRecord = redFlagRecord.append(veh, ignore_index=True)\n",
      "C:\\Users\\Administrator\\AppData\\Local\\Temp\\ipykernel_16000\\2984826684.py:101: FutureWarning: The frame.append method is deprecated and will be removed from pandas in a future version. Use pandas.concat instead.\n",
      "  redFlagRecord = redFlagRecord.append(veh, ignore_index=True)\n",
      "C:\\Users\\Administrator\\AppData\\Local\\Temp\\ipykernel_16000\\2984826684.py:101: FutureWarning: The frame.append method is deprecated and will be removed from pandas in a future version. Use pandas.concat instead.\n",
      "  redFlagRecord = redFlagRecord.append(veh, ignore_index=True)\n",
      "C:\\Users\\Administrator\\AppData\\Local\\Temp\\ipykernel_16000\\2984826684.py:101: FutureWarning: The frame.append method is deprecated and will be removed from pandas in a future version. Use pandas.concat instead.\n",
      "  redFlagRecord = redFlagRecord.append(veh, ignore_index=True)\n",
      "C:\\Users\\Administrator\\AppData\\Local\\Temp\\ipykernel_16000\\2984826684.py:101: FutureWarning: The frame.append method is deprecated and will be removed from pandas in a future version. Use pandas.concat instead.\n",
      "  redFlagRecord = redFlagRecord.append(veh, ignore_index=True)\n"
     ]
    },
    {
     "name": "stdout",
     "output_type": "stream",
     "text": [
      "LaneID:28925528_0;Time:2838.0;\n",
      "LaneID:28925528_0;Time:2839.0;\n",
      "LaneID:28925528_0;Time:2840.0;\n",
      "LaneID:28925528_0;Time:2841.0;\n",
      "LaneID:28925528_0;Time:2854.0;\n",
      "LaneID:28925528_0;Time:2855.0;\n",
      "LaneID:28925528_0;Time:2856.0;\n",
      "LaneID:28925528_0;Time:2857.0;\n",
      "LaneID:28925528_0;Time:2858.0;\n",
      "LaneID:28925528_0;Time:2859.0;\n",
      "LaneID:28925528_0;Time:2860.0;\n",
      "LaneID:28925528_0;Time:2861.0;\n",
      "LaneID:28925528_0;Time:2862.0;\n",
      "LaneID:28925528_0;Time:2863.0;\n",
      "LaneID:28925528_0;Time:2864.0;\n",
      "LaneID:28925528_0;Time:2865.0;\n",
      "LaneID:28925528_0;Time:2866.0;\n",
      "LaneID:28925528_0;Time:2867.0;\n",
      "LaneID:28925528_0;Time:2868.0;\n"
     ]
    },
    {
     "name": "stderr",
     "output_type": "stream",
     "text": [
      "C:\\Users\\Administrator\\AppData\\Local\\Temp\\ipykernel_16000\\2984826684.py:101: FutureWarning: The frame.append method is deprecated and will be removed from pandas in a future version. Use pandas.concat instead.\n",
      "  redFlagRecord = redFlagRecord.append(veh, ignore_index=True)\n",
      "C:\\Users\\Administrator\\AppData\\Local\\Temp\\ipykernel_16000\\2984826684.py:101: FutureWarning: The frame.append method is deprecated and will be removed from pandas in a future version. Use pandas.concat instead.\n",
      "  redFlagRecord = redFlagRecord.append(veh, ignore_index=True)\n",
      "C:\\Users\\Administrator\\AppData\\Local\\Temp\\ipykernel_16000\\2984826684.py:101: FutureWarning: The frame.append method is deprecated and will be removed from pandas in a future version. Use pandas.concat instead.\n",
      "  redFlagRecord = redFlagRecord.append(veh, ignore_index=True)\n",
      "C:\\Users\\Administrator\\AppData\\Local\\Temp\\ipykernel_16000\\2984826684.py:101: FutureWarning: The frame.append method is deprecated and will be removed from pandas in a future version. Use pandas.concat instead.\n",
      "  redFlagRecord = redFlagRecord.append(veh, ignore_index=True)\n",
      "C:\\Users\\Administrator\\AppData\\Local\\Temp\\ipykernel_16000\\2984826684.py:101: FutureWarning: The frame.append method is deprecated and will be removed from pandas in a future version. Use pandas.concat instead.\n",
      "  redFlagRecord = redFlagRecord.append(veh, ignore_index=True)\n",
      "C:\\Users\\Administrator\\AppData\\Local\\Temp\\ipykernel_16000\\2984826684.py:101: FutureWarning: The frame.append method is deprecated and will be removed from pandas in a future version. Use pandas.concat instead.\n",
      "  redFlagRecord = redFlagRecord.append(veh, ignore_index=True)\n",
      "C:\\Users\\Administrator\\AppData\\Local\\Temp\\ipykernel_16000\\2984826684.py:101: FutureWarning: The frame.append method is deprecated and will be removed from pandas in a future version. Use pandas.concat instead.\n",
      "  redFlagRecord = redFlagRecord.append(veh, ignore_index=True)\n"
     ]
    },
    {
     "name": "stdout",
     "output_type": "stream",
     "text": [
      "LaneID:28925528_0;Time:2869.0;\n",
      "LaneID:28925528_0;Time:2874.0;\n",
      "LaneID:28925528_0;Time:2875.0;\n",
      "LaneID:28925528_0;Time:2876.0;\n",
      "LaneID:28925528_0;Time:2877.0;\n",
      "LaneID:28925528_0;Time:2878.0;\n",
      "LaneID:28925528_0;Time:2879.0;\n",
      "LaneID:28925528_0;Time:2880.0;\n",
      "LaneID:28925528_0;Time:2881.0;\n",
      "LaneID:28925528_0;Time:2882.0;\n",
      "LaneID:28925528_0;Time:2883.0;\n",
      "LaneID:28925528_0;Time:2884.0;\n",
      "LaneID:28925528_0;Time:2885.0;\n",
      "LaneID:28925528_0;Time:2886.0;\n",
      "LaneID:28925528_0;Time:2887.0;\n",
      "LaneID:28925528_0;Time:2888.0;\n"
     ]
    },
    {
     "name": "stderr",
     "output_type": "stream",
     "text": [
      "C:\\Users\\Administrator\\AppData\\Local\\Temp\\ipykernel_16000\\2984826684.py:101: FutureWarning: The frame.append method is deprecated and will be removed from pandas in a future version. Use pandas.concat instead.\n",
      "  redFlagRecord = redFlagRecord.append(veh, ignore_index=True)\n",
      "C:\\Users\\Administrator\\AppData\\Local\\Temp\\ipykernel_16000\\2984826684.py:101: FutureWarning: The frame.append method is deprecated and will be removed from pandas in a future version. Use pandas.concat instead.\n",
      "  redFlagRecord = redFlagRecord.append(veh, ignore_index=True)\n",
      "C:\\Users\\Administrator\\AppData\\Local\\Temp\\ipykernel_16000\\2984826684.py:101: FutureWarning: The frame.append method is deprecated and will be removed from pandas in a future version. Use pandas.concat instead.\n",
      "  redFlagRecord = redFlagRecord.append(veh, ignore_index=True)\n",
      "C:\\Users\\Administrator\\AppData\\Local\\Temp\\ipykernel_16000\\2984826684.py:101: FutureWarning: The frame.append method is deprecated and will be removed from pandas in a future version. Use pandas.concat instead.\n",
      "  redFlagRecord = redFlagRecord.append(veh, ignore_index=True)\n",
      "C:\\Users\\Administrator\\AppData\\Local\\Temp\\ipykernel_16000\\2984826684.py:101: FutureWarning: The frame.append method is deprecated and will be removed from pandas in a future version. Use pandas.concat instead.\n",
      "  redFlagRecord = redFlagRecord.append(veh, ignore_index=True)\n",
      "C:\\Users\\Administrator\\AppData\\Local\\Temp\\ipykernel_16000\\2984826684.py:101: FutureWarning: The frame.append method is deprecated and will be removed from pandas in a future version. Use pandas.concat instead.\n",
      "  redFlagRecord = redFlagRecord.append(veh, ignore_index=True)\n",
      "C:\\Users\\Administrator\\AppData\\Local\\Temp\\ipykernel_16000\\2984826684.py:101: FutureWarning: The frame.append method is deprecated and will be removed from pandas in a future version. Use pandas.concat instead.\n",
      "  redFlagRecord = redFlagRecord.append(veh, ignore_index=True)\n"
     ]
    },
    {
     "name": "stdout",
     "output_type": "stream",
     "text": [
      "LaneID:28925528_0;Time:2889.0;\n",
      "LaneID:28925528_0;Time:2890.0;\n",
      "LaneID:28925528_0;Time:2891.0;\n",
      "LaneID:28925528_0;Time:2892.0;\n",
      "LaneID:28925528_0;Time:2893.0;\n",
      "LaneID:28925528_0;Time:2894.0;\n",
      "LaneID:28925528_0;Time:2895.0;\n"
     ]
    },
    {
     "name": "stderr",
     "output_type": "stream",
     "text": [
      "C:\\Users\\Administrator\\AppData\\Local\\Temp\\ipykernel_16000\\2984826684.py:101: FutureWarning: The frame.append method is deprecated and will be removed from pandas in a future version. Use pandas.concat instead.\n",
      "  redFlagRecord = redFlagRecord.append(veh, ignore_index=True)\n",
      "C:\\Users\\Administrator\\AppData\\Local\\Temp\\ipykernel_16000\\2984826684.py:101: FutureWarning: The frame.append method is deprecated and will be removed from pandas in a future version. Use pandas.concat instead.\n",
      "  redFlagRecord = redFlagRecord.append(veh, ignore_index=True)\n",
      "C:\\Users\\Administrator\\AppData\\Local\\Temp\\ipykernel_16000\\2984826684.py:101: FutureWarning: The frame.append method is deprecated and will be removed from pandas in a future version. Use pandas.concat instead.\n",
      "  redFlagRecord = redFlagRecord.append(veh, ignore_index=True)\n",
      "C:\\Users\\Administrator\\AppData\\Local\\Temp\\ipykernel_16000\\2984826684.py:101: FutureWarning: The frame.append method is deprecated and will be removed from pandas in a future version. Use pandas.concat instead.\n",
      "  redFlagRecord = redFlagRecord.append(veh, ignore_index=True)\n",
      "C:\\Users\\Administrator\\AppData\\Local\\Temp\\ipykernel_16000\\2984826684.py:101: FutureWarning: The frame.append method is deprecated and will be removed from pandas in a future version. Use pandas.concat instead.\n",
      "  redFlagRecord = redFlagRecord.append(veh, ignore_index=True)\n",
      "C:\\Users\\Administrator\\AppData\\Local\\Temp\\ipykernel_16000\\2984826684.py:101: FutureWarning: The frame.append method is deprecated and will be removed from pandas in a future version. Use pandas.concat instead.\n",
      "  redFlagRecord = redFlagRecord.append(veh, ignore_index=True)\n"
     ]
    },
    {
     "name": "stdout",
     "output_type": "stream",
     "text": [
      "LaneID:28925528_0;Time:2896.0;\n",
      "LaneID:28925528_0;Time:2897.0;\n",
      "LaneID:28925528_0;Time:2898.0;\n",
      "LaneID:28925528_0;Time:2899.0;\n",
      "LaneID:28925528_0;Time:2900.0;\n",
      "LaneID:28925528_0;Time:2901.0;\n",
      "LaneID:28925528_0;Time:2902.0;\n",
      "LaneID:28925528_0;Time:2917.0;\n",
      "LaneID:28925528_0;Time:2918.0;\n",
      "LaneID:28925528_0;Time:2919.0;\n",
      "LaneID:28925528_0;Time:2920.0;\n",
      "LaneID:28925528_0;Time:2921.0;\n",
      "LaneID:28925528_0;Time:2922.0;\n",
      "LaneID:28925528_0;Time:2923.0;\n",
      "LaneID:28925528_0;Time:2924.0;\n",
      "LaneID:28925528_0;Time:2925.0;\n",
      "LaneID:28925528_0;Time:2926.0;\n"
     ]
    },
    {
     "name": "stderr",
     "output_type": "stream",
     "text": [
      "C:\\Users\\Administrator\\AppData\\Local\\Temp\\ipykernel_16000\\2984826684.py:101: FutureWarning: The frame.append method is deprecated and will be removed from pandas in a future version. Use pandas.concat instead.\n",
      "  redFlagRecord = redFlagRecord.append(veh, ignore_index=True)\n",
      "C:\\Users\\Administrator\\AppData\\Local\\Temp\\ipykernel_16000\\2984826684.py:101: FutureWarning: The frame.append method is deprecated and will be removed from pandas in a future version. Use pandas.concat instead.\n",
      "  redFlagRecord = redFlagRecord.append(veh, ignore_index=True)\n",
      "C:\\Users\\Administrator\\AppData\\Local\\Temp\\ipykernel_16000\\2984826684.py:101: FutureWarning: The frame.append method is deprecated and will be removed from pandas in a future version. Use pandas.concat instead.\n",
      "  redFlagRecord = redFlagRecord.append(veh, ignore_index=True)\n",
      "C:\\Users\\Administrator\\AppData\\Local\\Temp\\ipykernel_16000\\2984826684.py:101: FutureWarning: The frame.append method is deprecated and will be removed from pandas in a future version. Use pandas.concat instead.\n",
      "  redFlagRecord = redFlagRecord.append(veh, ignore_index=True)\n",
      "C:\\Users\\Administrator\\AppData\\Local\\Temp\\ipykernel_16000\\2984826684.py:101: FutureWarning: The frame.append method is deprecated and will be removed from pandas in a future version. Use pandas.concat instead.\n",
      "  redFlagRecord = redFlagRecord.append(veh, ignore_index=True)\n",
      "C:\\Users\\Administrator\\AppData\\Local\\Temp\\ipykernel_16000\\2984826684.py:101: FutureWarning: The frame.append method is deprecated and will be removed from pandas in a future version. Use pandas.concat instead.\n",
      "  redFlagRecord = redFlagRecord.append(veh, ignore_index=True)\n",
      "C:\\Users\\Administrator\\AppData\\Local\\Temp\\ipykernel_16000\\2984826684.py:101: FutureWarning: The frame.append method is deprecated and will be removed from pandas in a future version. Use pandas.concat instead.\n",
      "  redFlagRecord = redFlagRecord.append(veh, ignore_index=True)\n"
     ]
    },
    {
     "name": "stdout",
     "output_type": "stream",
     "text": [
      "LaneID:28925528_0;Time:2927.0;\n",
      "LaneID:28925528_0;Time:2928.0;\n",
      "LaneID:28925528_0;Time:2929.0;\n",
      "LaneID:28925528_0;Time:2930.0;\n",
      "LaneID:28925528_0;Time:2931.0;\n",
      "LaneID:28925528_0;Time:2937.0;\n",
      "LaneID:28925528_0;Time:2938.0;\n",
      "LaneID:28925528_0;Time:2939.0;\n",
      "LaneID:28925528_0;Time:2940.0;\n",
      "LaneID:28925528_0;Time:2941.0;\n",
      "LaneID:28925528_0;Time:2942.0;\n",
      "LaneID:28925528_0;Time:2943.0;\n",
      "LaneID:28925528_0;Time:2944.0;\n",
      "LaneID:28925528_0;Time:2945.0;\n",
      "LaneID:28925528_0;Time:2946.0;\n",
      "LaneID:28925528_0;Time:2947.0;\n"
     ]
    },
    {
     "name": "stderr",
     "output_type": "stream",
     "text": [
      "C:\\Users\\Administrator\\AppData\\Local\\Temp\\ipykernel_16000\\2984826684.py:101: FutureWarning: The frame.append method is deprecated and will be removed from pandas in a future version. Use pandas.concat instead.\n",
      "  redFlagRecord = redFlagRecord.append(veh, ignore_index=True)\n",
      "C:\\Users\\Administrator\\AppData\\Local\\Temp\\ipykernel_16000\\2984826684.py:101: FutureWarning: The frame.append method is deprecated and will be removed from pandas in a future version. Use pandas.concat instead.\n",
      "  redFlagRecord = redFlagRecord.append(veh, ignore_index=True)\n",
      "C:\\Users\\Administrator\\AppData\\Local\\Temp\\ipykernel_16000\\2984826684.py:101: FutureWarning: The frame.append method is deprecated and will be removed from pandas in a future version. Use pandas.concat instead.\n",
      "  redFlagRecord = redFlagRecord.append(veh, ignore_index=True)\n",
      "C:\\Users\\Administrator\\AppData\\Local\\Temp\\ipykernel_16000\\2984826684.py:101: FutureWarning: The frame.append method is deprecated and will be removed from pandas in a future version. Use pandas.concat instead.\n",
      "  redFlagRecord = redFlagRecord.append(veh, ignore_index=True)\n",
      "C:\\Users\\Administrator\\AppData\\Local\\Temp\\ipykernel_16000\\2984826684.py:101: FutureWarning: The frame.append method is deprecated and will be removed from pandas in a future version. Use pandas.concat instead.\n",
      "  redFlagRecord = redFlagRecord.append(veh, ignore_index=True)\n",
      "C:\\Users\\Administrator\\AppData\\Local\\Temp\\ipykernel_16000\\2984826684.py:101: FutureWarning: The frame.append method is deprecated and will be removed from pandas in a future version. Use pandas.concat instead.\n",
      "  redFlagRecord = redFlagRecord.append(veh, ignore_index=True)\n",
      "C:\\Users\\Administrator\\AppData\\Local\\Temp\\ipykernel_16000\\2984826684.py:101: FutureWarning: The frame.append method is deprecated and will be removed from pandas in a future version. Use pandas.concat instead.\n",
      "  redFlagRecord = redFlagRecord.append(veh, ignore_index=True)\n"
     ]
    },
    {
     "name": "stdout",
     "output_type": "stream",
     "text": [
      "LaneID:28925528_0;Time:2948.0;\n",
      "LaneID:28925528_0;Time:2949.0;\n",
      "LaneID:28925528_0;Time:2950.0;\n",
      "LaneID:28925528_0;Time:2951.0;\n",
      "LaneID:28925528_0;Time:2952.0;\n",
      "LaneID:28925528_0;Time:2953.0;\n",
      "LaneID:28925528_0;Time:2954.0;\n"
     ]
    },
    {
     "name": "stderr",
     "output_type": "stream",
     "text": [
      "C:\\Users\\Administrator\\AppData\\Local\\Temp\\ipykernel_16000\\2984826684.py:101: FutureWarning: The frame.append method is deprecated and will be removed from pandas in a future version. Use pandas.concat instead.\n",
      "  redFlagRecord = redFlagRecord.append(veh, ignore_index=True)\n",
      "C:\\Users\\Administrator\\AppData\\Local\\Temp\\ipykernel_16000\\2984826684.py:101: FutureWarning: The frame.append method is deprecated and will be removed from pandas in a future version. Use pandas.concat instead.\n",
      "  redFlagRecord = redFlagRecord.append(veh, ignore_index=True)\n",
      "C:\\Users\\Administrator\\AppData\\Local\\Temp\\ipykernel_16000\\2984826684.py:101: FutureWarning: The frame.append method is deprecated and will be removed from pandas in a future version. Use pandas.concat instead.\n",
      "  redFlagRecord = redFlagRecord.append(veh, ignore_index=True)\n",
      "C:\\Users\\Administrator\\AppData\\Local\\Temp\\ipykernel_16000\\2984826684.py:101: FutureWarning: The frame.append method is deprecated and will be removed from pandas in a future version. Use pandas.concat instead.\n",
      "  redFlagRecord = redFlagRecord.append(veh, ignore_index=True)\n",
      "C:\\Users\\Administrator\\AppData\\Local\\Temp\\ipykernel_16000\\2984826684.py:101: FutureWarning: The frame.append method is deprecated and will be removed from pandas in a future version. Use pandas.concat instead.\n",
      "  redFlagRecord = redFlagRecord.append(veh, ignore_index=True)\n",
      "C:\\Users\\Administrator\\AppData\\Local\\Temp\\ipykernel_16000\\2984826684.py:101: FutureWarning: The frame.append method is deprecated and will be removed from pandas in a future version. Use pandas.concat instead.\n",
      "  redFlagRecord = redFlagRecord.append(veh, ignore_index=True)\n",
      "C:\\Users\\Administrator\\AppData\\Local\\Temp\\ipykernel_16000\\2984826684.py:101: FutureWarning: The frame.append method is deprecated and will be removed from pandas in a future version. Use pandas.concat instead.\n",
      "  redFlagRecord = redFlagRecord.append(veh, ignore_index=True)\n"
     ]
    },
    {
     "name": "stdout",
     "output_type": "stream",
     "text": [
      "LaneID:28925528_0;Time:2955.0;\n",
      "LaneID:28925528_0;Time:2956.0;\n",
      "LaneID:28925528_0;Time:2957.0;\n",
      "LaneID:28925528_0;Time:2958.0;\n",
      "LaneID:28925528_0;Time:2959.0;\n",
      "LaneID:28925528_0;Time:2960.0;\n",
      "LaneID:28925528_0;Time:2961.0;\n"
     ]
    },
    {
     "name": "stderr",
     "output_type": "stream",
     "text": [
      "C:\\Users\\Administrator\\AppData\\Local\\Temp\\ipykernel_16000\\2984826684.py:101: FutureWarning: The frame.append method is deprecated and will be removed from pandas in a future version. Use pandas.concat instead.\n",
      "  redFlagRecord = redFlagRecord.append(veh, ignore_index=True)\n",
      "C:\\Users\\Administrator\\AppData\\Local\\Temp\\ipykernel_16000\\2984826684.py:101: FutureWarning: The frame.append method is deprecated and will be removed from pandas in a future version. Use pandas.concat instead.\n",
      "  redFlagRecord = redFlagRecord.append(veh, ignore_index=True)\n",
      "C:\\Users\\Administrator\\AppData\\Local\\Temp\\ipykernel_16000\\2984826684.py:101: FutureWarning: The frame.append method is deprecated and will be removed from pandas in a future version. Use pandas.concat instead.\n",
      "  redFlagRecord = redFlagRecord.append(veh, ignore_index=True)\n",
      "C:\\Users\\Administrator\\AppData\\Local\\Temp\\ipykernel_16000\\2984826684.py:101: FutureWarning: The frame.append method is deprecated and will be removed from pandas in a future version. Use pandas.concat instead.\n",
      "  redFlagRecord = redFlagRecord.append(veh, ignore_index=True)\n",
      "C:\\Users\\Administrator\\AppData\\Local\\Temp\\ipykernel_16000\\2984826684.py:101: FutureWarning: The frame.append method is deprecated and will be removed from pandas in a future version. Use pandas.concat instead.\n",
      "  redFlagRecord = redFlagRecord.append(veh, ignore_index=True)\n",
      "C:\\Users\\Administrator\\AppData\\Local\\Temp\\ipykernel_16000\\2984826684.py:101: FutureWarning: The frame.append method is deprecated and will be removed from pandas in a future version. Use pandas.concat instead.\n",
      "  redFlagRecord = redFlagRecord.append(veh, ignore_index=True)\n"
     ]
    },
    {
     "name": "stdout",
     "output_type": "stream",
     "text": [
      "LaneID:28925528_0;Time:2962.0;\n",
      "LaneID:28925528_0;Time:2963.0;\n",
      "LaneID:28925528_0;Time:2964.0;\n",
      "LaneID:28925528_0;Time:2965.0;\n",
      "LaneID:28925528_0;Time:2979.0;\n",
      "LaneID:28925528_0;Time:2980.0;\n",
      "LaneID:28925528_0;Time:2981.0;\n",
      "LaneID:28925528_0;Time:2982.0;\n",
      "LaneID:28925528_0;Time:2983.0;\n",
      "LaneID:28925528_0;Time:2984.0;\n",
      "LaneID:28925528_0;Time:2985.0;\n",
      "LaneID:28925528_0;Time:2986.0;\n",
      "LaneID:28925528_0;Time:2987.0;\n",
      "LaneID:28925528_0;Time:2988.0;\n",
      "LaneID:28925528_0;Time:2989.0;\n",
      "LaneID:28925528_0;Time:2990.0;\n",
      "LaneID:28925528_0;Time:2991.0;\n",
      "LaneID:28925528_0;Time:2992.0;\n"
     ]
    },
    {
     "name": "stderr",
     "output_type": "stream",
     "text": [
      "C:\\Users\\Administrator\\AppData\\Local\\Temp\\ipykernel_16000\\2984826684.py:101: FutureWarning: The frame.append method is deprecated and will be removed from pandas in a future version. Use pandas.concat instead.\n",
      "  redFlagRecord = redFlagRecord.append(veh, ignore_index=True)\n",
      "C:\\Users\\Administrator\\AppData\\Local\\Temp\\ipykernel_16000\\2984826684.py:101: FutureWarning: The frame.append method is deprecated and will be removed from pandas in a future version. Use pandas.concat instead.\n",
      "  redFlagRecord = redFlagRecord.append(veh, ignore_index=True)\n",
      "C:\\Users\\Administrator\\AppData\\Local\\Temp\\ipykernel_16000\\2984826684.py:101: FutureWarning: The frame.append method is deprecated and will be removed from pandas in a future version. Use pandas.concat instead.\n",
      "  redFlagRecord = redFlagRecord.append(veh, ignore_index=True)\n",
      "C:\\Users\\Administrator\\AppData\\Local\\Temp\\ipykernel_16000\\2984826684.py:101: FutureWarning: The frame.append method is deprecated and will be removed from pandas in a future version. Use pandas.concat instead.\n",
      "  redFlagRecord = redFlagRecord.append(veh, ignore_index=True)\n",
      "C:\\Users\\Administrator\\AppData\\Local\\Temp\\ipykernel_16000\\2984826684.py:101: FutureWarning: The frame.append method is deprecated and will be removed from pandas in a future version. Use pandas.concat instead.\n",
      "  redFlagRecord = redFlagRecord.append(veh, ignore_index=True)\n",
      "C:\\Users\\Administrator\\AppData\\Local\\Temp\\ipykernel_16000\\2984826684.py:101: FutureWarning: The frame.append method is deprecated and will be removed from pandas in a future version. Use pandas.concat instead.\n",
      "  redFlagRecord = redFlagRecord.append(veh, ignore_index=True)\n"
     ]
    },
    {
     "name": "stdout",
     "output_type": "stream",
     "text": [
      "LaneID:28925528_0;Time:2993.0;\n",
      "LaneID:28925528_0;Time:3000.0;\n",
      "LaneID:28925528_0;Time:3001.0;\n",
      "LaneID:28925528_0;Time:3002.0;\n",
      "LaneID:28925528_0;Time:3003.0;\n",
      "LaneID:28925528_0;Time:3004.0;\n",
      "LaneID:28925528_0;Time:3005.0;\n",
      "LaneID:28925528_0;Time:3006.0;\n",
      "LaneID:28925528_0;Time:3007.0;\n",
      "LaneID:28925528_0;Time:3008.0;\n",
      "LaneID:28925528_0;Time:3009.0;\n",
      "LaneID:28925528_0;Time:3010.0;\n",
      "LaneID:28925528_0;Time:3011.0;\n",
      "LaneID:28925528_0;Time:3012.0;\n",
      "LaneID:28925528_0;Time:3013.0;\n"
     ]
    },
    {
     "name": "stderr",
     "output_type": "stream",
     "text": [
      "C:\\Users\\Administrator\\AppData\\Local\\Temp\\ipykernel_16000\\2984826684.py:101: FutureWarning: The frame.append method is deprecated and will be removed from pandas in a future version. Use pandas.concat instead.\n",
      "  redFlagRecord = redFlagRecord.append(veh, ignore_index=True)\n",
      "C:\\Users\\Administrator\\AppData\\Local\\Temp\\ipykernel_16000\\2984826684.py:101: FutureWarning: The frame.append method is deprecated and will be removed from pandas in a future version. Use pandas.concat instead.\n",
      "  redFlagRecord = redFlagRecord.append(veh, ignore_index=True)\n",
      "C:\\Users\\Administrator\\AppData\\Local\\Temp\\ipykernel_16000\\2984826684.py:101: FutureWarning: The frame.append method is deprecated and will be removed from pandas in a future version. Use pandas.concat instead.\n",
      "  redFlagRecord = redFlagRecord.append(veh, ignore_index=True)\n",
      "C:\\Users\\Administrator\\AppData\\Local\\Temp\\ipykernel_16000\\2984826684.py:101: FutureWarning: The frame.append method is deprecated and will be removed from pandas in a future version. Use pandas.concat instead.\n",
      "  redFlagRecord = redFlagRecord.append(veh, ignore_index=True)\n",
      "C:\\Users\\Administrator\\AppData\\Local\\Temp\\ipykernel_16000\\2984826684.py:101: FutureWarning: The frame.append method is deprecated and will be removed from pandas in a future version. Use pandas.concat instead.\n",
      "  redFlagRecord = redFlagRecord.append(veh, ignore_index=True)\n",
      "C:\\Users\\Administrator\\AppData\\Local\\Temp\\ipykernel_16000\\2984826684.py:101: FutureWarning: The frame.append method is deprecated and will be removed from pandas in a future version. Use pandas.concat instead.\n",
      "  redFlagRecord = redFlagRecord.append(veh, ignore_index=True)\n",
      "C:\\Users\\Administrator\\AppData\\Local\\Temp\\ipykernel_16000\\2984826684.py:101: FutureWarning: The frame.append method is deprecated and will be removed from pandas in a future version. Use pandas.concat instead.\n",
      "  redFlagRecord = redFlagRecord.append(veh, ignore_index=True)\n"
     ]
    },
    {
     "name": "stdout",
     "output_type": "stream",
     "text": [
      "LaneID:28925528_0;Time:3014.0;\n",
      "LaneID:28925528_0;Time:3015.0;\n",
      "LaneID:28925528_0;Time:3016.0;\n",
      "LaneID:28925528_0;Time:3017.0;\n",
      "LaneID:28925528_0;Time:3018.0;\n",
      "LaneID:28925528_0;Time:3019.0;\n",
      "LaneID:28925528_0;Time:3020.0;\n"
     ]
    },
    {
     "name": "stderr",
     "output_type": "stream",
     "text": [
      "C:\\Users\\Administrator\\AppData\\Local\\Temp\\ipykernel_16000\\2984826684.py:101: FutureWarning: The frame.append method is deprecated and will be removed from pandas in a future version. Use pandas.concat instead.\n",
      "  redFlagRecord = redFlagRecord.append(veh, ignore_index=True)\n",
      "C:\\Users\\Administrator\\AppData\\Local\\Temp\\ipykernel_16000\\2984826684.py:101: FutureWarning: The frame.append method is deprecated and will be removed from pandas in a future version. Use pandas.concat instead.\n",
      "  redFlagRecord = redFlagRecord.append(veh, ignore_index=True)\n",
      "C:\\Users\\Administrator\\AppData\\Local\\Temp\\ipykernel_16000\\2984826684.py:101: FutureWarning: The frame.append method is deprecated and will be removed from pandas in a future version. Use pandas.concat instead.\n",
      "  redFlagRecord = redFlagRecord.append(veh, ignore_index=True)\n",
      "C:\\Users\\Administrator\\AppData\\Local\\Temp\\ipykernel_16000\\2984826684.py:101: FutureWarning: The frame.append method is deprecated and will be removed from pandas in a future version. Use pandas.concat instead.\n",
      "  redFlagRecord = redFlagRecord.append(veh, ignore_index=True)\n",
      "C:\\Users\\Administrator\\AppData\\Local\\Temp\\ipykernel_16000\\2984826684.py:101: FutureWarning: The frame.append method is deprecated and will be removed from pandas in a future version. Use pandas.concat instead.\n",
      "  redFlagRecord = redFlagRecord.append(veh, ignore_index=True)\n",
      "C:\\Users\\Administrator\\AppData\\Local\\Temp\\ipykernel_16000\\2984826684.py:101: FutureWarning: The frame.append method is deprecated and will be removed from pandas in a future version. Use pandas.concat instead.\n",
      "  redFlagRecord = redFlagRecord.append(veh, ignore_index=True)\n",
      "C:\\Users\\Administrator\\AppData\\Local\\Temp\\ipykernel_16000\\2984826684.py:101: FutureWarning: The frame.append method is deprecated and will be removed from pandas in a future version. Use pandas.concat instead.\n",
      "  redFlagRecord = redFlagRecord.append(veh, ignore_index=True)\n"
     ]
    },
    {
     "name": "stdout",
     "output_type": "stream",
     "text": [
      "LaneID:28925528_0;Time:3021.0;\n",
      "LaneID:28925528_0;Time:3022.0;\n",
      "LaneID:28925528_0;Time:3023.0;\n",
      "LaneID:28925528_0;Time:3024.0;\n",
      "LaneID:28925528_0;Time:3025.0;\n",
      "LaneID:28925528_0;Time:3026.0;\n",
      "LaneID:28925528_0;Time:3041.0;\n",
      "LaneID:28925528_0;Time:3042.0;\n",
      "LaneID:28925528_0;Time:3043.0;\n",
      "LaneID:28925528_0;Time:3044.0;\n",
      "LaneID:28925528_0;Time:3045.0;\n",
      "LaneID:28925528_0;Time:3046.0;\n",
      "LaneID:28925528_0;Time:3047.0;\n",
      "LaneID:28925528_0;Time:3048.0;\n",
      "LaneID:28925528_0;Time:3049.0;\n",
      "LaneID:28925528_0;Time:3050.0;\n",
      "LaneID:28925528_0;Time:3051.0;\n",
      "LaneID:28925528_0;Time:3052.0;\n"
     ]
    },
    {
     "name": "stderr",
     "output_type": "stream",
     "text": [
      "C:\\Users\\Administrator\\AppData\\Local\\Temp\\ipykernel_16000\\2984826684.py:101: FutureWarning: The frame.append method is deprecated and will be removed from pandas in a future version. Use pandas.concat instead.\n",
      "  redFlagRecord = redFlagRecord.append(veh, ignore_index=True)\n",
      "C:\\Users\\Administrator\\AppData\\Local\\Temp\\ipykernel_16000\\2984826684.py:101: FutureWarning: The frame.append method is deprecated and will be removed from pandas in a future version. Use pandas.concat instead.\n",
      "  redFlagRecord = redFlagRecord.append(veh, ignore_index=True)\n",
      "C:\\Users\\Administrator\\AppData\\Local\\Temp\\ipykernel_16000\\2984826684.py:101: FutureWarning: The frame.append method is deprecated and will be removed from pandas in a future version. Use pandas.concat instead.\n",
      "  redFlagRecord = redFlagRecord.append(veh, ignore_index=True)\n",
      "C:\\Users\\Administrator\\AppData\\Local\\Temp\\ipykernel_16000\\2984826684.py:101: FutureWarning: The frame.append method is deprecated and will be removed from pandas in a future version. Use pandas.concat instead.\n",
      "  redFlagRecord = redFlagRecord.append(veh, ignore_index=True)\n",
      "C:\\Users\\Administrator\\AppData\\Local\\Temp\\ipykernel_16000\\2984826684.py:101: FutureWarning: The frame.append method is deprecated and will be removed from pandas in a future version. Use pandas.concat instead.\n",
      "  redFlagRecord = redFlagRecord.append(veh, ignore_index=True)\n",
      "C:\\Users\\Administrator\\AppData\\Local\\Temp\\ipykernel_16000\\2984826684.py:101: FutureWarning: The frame.append method is deprecated and will be removed from pandas in a future version. Use pandas.concat instead.\n",
      "  redFlagRecord = redFlagRecord.append(veh, ignore_index=True)\n"
     ]
    },
    {
     "name": "stdout",
     "output_type": "stream",
     "text": [
      "LaneID:28925528_0;Time:3053.0;\n",
      "LaneID:28925528_0;Time:3054.0;\n",
      "LaneID:28925528_0;Time:3055.0;\n",
      "LaneID:28925528_0;Time:3062.0;\n",
      "LaneID:28925528_0;Time:3063.0;\n",
      "LaneID:28925528_0;Time:3064.0;\n",
      "LaneID:28925528_0;Time:3065.0;\n",
      "LaneID:28925528_0;Time:3066.0;\n",
      "LaneID:28925528_0;Time:3067.0;\n",
      "LaneID:28925528_0;Time:3068.0;\n",
      "LaneID:28925528_0;Time:3069.0;\n",
      "LaneID:28925528_0;Time:3070.0;\n",
      "LaneID:28925528_0;Time:3071.0;\n",
      "LaneID:28925528_0;Time:3072.0;\n",
      "LaneID:28925528_0;Time:3073.0;\n"
     ]
    },
    {
     "name": "stderr",
     "output_type": "stream",
     "text": [
      "C:\\Users\\Administrator\\AppData\\Local\\Temp\\ipykernel_16000\\2984826684.py:101: FutureWarning: The frame.append method is deprecated and will be removed from pandas in a future version. Use pandas.concat instead.\n",
      "  redFlagRecord = redFlagRecord.append(veh, ignore_index=True)\n",
      "C:\\Users\\Administrator\\AppData\\Local\\Temp\\ipykernel_16000\\2984826684.py:101: FutureWarning: The frame.append method is deprecated and will be removed from pandas in a future version. Use pandas.concat instead.\n",
      "  redFlagRecord = redFlagRecord.append(veh, ignore_index=True)\n",
      "C:\\Users\\Administrator\\AppData\\Local\\Temp\\ipykernel_16000\\2984826684.py:101: FutureWarning: The frame.append method is deprecated and will be removed from pandas in a future version. Use pandas.concat instead.\n",
      "  redFlagRecord = redFlagRecord.append(veh, ignore_index=True)\n",
      "C:\\Users\\Administrator\\AppData\\Local\\Temp\\ipykernel_16000\\2984826684.py:101: FutureWarning: The frame.append method is deprecated and will be removed from pandas in a future version. Use pandas.concat instead.\n",
      "  redFlagRecord = redFlagRecord.append(veh, ignore_index=True)\n",
      "C:\\Users\\Administrator\\AppData\\Local\\Temp\\ipykernel_16000\\2984826684.py:101: FutureWarning: The frame.append method is deprecated and will be removed from pandas in a future version. Use pandas.concat instead.\n",
      "  redFlagRecord = redFlagRecord.append(veh, ignore_index=True)\n",
      "C:\\Users\\Administrator\\AppData\\Local\\Temp\\ipykernel_16000\\2984826684.py:101: FutureWarning: The frame.append method is deprecated and will be removed from pandas in a future version. Use pandas.concat instead.\n",
      "  redFlagRecord = redFlagRecord.append(veh, ignore_index=True)\n",
      "C:\\Users\\Administrator\\AppData\\Local\\Temp\\ipykernel_16000\\2984826684.py:101: FutureWarning: The frame.append method is deprecated and will be removed from pandas in a future version. Use pandas.concat instead.\n",
      "  redFlagRecord = redFlagRecord.append(veh, ignore_index=True)\n"
     ]
    },
    {
     "name": "stdout",
     "output_type": "stream",
     "text": [
      "LaneID:28925528_0;Time:3074.0;\n",
      "LaneID:28925528_0;Time:3075.0;\n",
      "LaneID:28925528_0;Time:3076.0;\n",
      "LaneID:28925528_0;Time:3077.0;\n",
      "LaneID:28925528_0;Time:3078.0;\n",
      "LaneID:28925528_0;Time:3079.0;\n"
     ]
    },
    {
     "name": "stderr",
     "output_type": "stream",
     "text": [
      "C:\\Users\\Administrator\\AppData\\Local\\Temp\\ipykernel_16000\\2984826684.py:101: FutureWarning: The frame.append method is deprecated and will be removed from pandas in a future version. Use pandas.concat instead.\n",
      "  redFlagRecord = redFlagRecord.append(veh, ignore_index=True)\n",
      "C:\\Users\\Administrator\\AppData\\Local\\Temp\\ipykernel_16000\\2984826684.py:101: FutureWarning: The frame.append method is deprecated and will be removed from pandas in a future version. Use pandas.concat instead.\n",
      "  redFlagRecord = redFlagRecord.append(veh, ignore_index=True)\n",
      "C:\\Users\\Administrator\\AppData\\Local\\Temp\\ipykernel_16000\\2984826684.py:101: FutureWarning: The frame.append method is deprecated and will be removed from pandas in a future version. Use pandas.concat instead.\n",
      "  redFlagRecord = redFlagRecord.append(veh, ignore_index=True)\n",
      "C:\\Users\\Administrator\\AppData\\Local\\Temp\\ipykernel_16000\\2984826684.py:101: FutureWarning: The frame.append method is deprecated and will be removed from pandas in a future version. Use pandas.concat instead.\n",
      "  redFlagRecord = redFlagRecord.append(veh, ignore_index=True)\n",
      "C:\\Users\\Administrator\\AppData\\Local\\Temp\\ipykernel_16000\\2984826684.py:101: FutureWarning: The frame.append method is deprecated and will be removed from pandas in a future version. Use pandas.concat instead.\n",
      "  redFlagRecord = redFlagRecord.append(veh, ignore_index=True)\n",
      "C:\\Users\\Administrator\\AppData\\Local\\Temp\\ipykernel_16000\\2984826684.py:101: FutureWarning: The frame.append method is deprecated and will be removed from pandas in a future version. Use pandas.concat instead.\n",
      "  redFlagRecord = redFlagRecord.append(veh, ignore_index=True)\n",
      "C:\\Users\\Administrator\\AppData\\Local\\Temp\\ipykernel_16000\\2984826684.py:101: FutureWarning: The frame.append method is deprecated and will be removed from pandas in a future version. Use pandas.concat instead.\n",
      "  redFlagRecord = redFlagRecord.append(veh, ignore_index=True)\n"
     ]
    },
    {
     "name": "stdout",
     "output_type": "stream",
     "text": [
      "LaneID:28925528_0;Time:3080.0;\n",
      "LaneID:28925528_0;Time:3081.0;\n",
      "LaneID:28925528_0;Time:3082.0;\n",
      "LaneID:28925528_0;Time:3083.0;\n",
      "LaneID:28925528_0;Time:3084.0;\n",
      "LaneID:28925528_0;Time:3085.0;\n",
      "LaneID:28925528_0;Time:3086.0;\n"
     ]
    },
    {
     "name": "stderr",
     "output_type": "stream",
     "text": [
      "C:\\Users\\Administrator\\AppData\\Local\\Temp\\ipykernel_16000\\2984826684.py:101: FutureWarning: The frame.append method is deprecated and will be removed from pandas in a future version. Use pandas.concat instead.\n",
      "  redFlagRecord = redFlagRecord.append(veh, ignore_index=True)\n",
      "C:\\Users\\Administrator\\AppData\\Local\\Temp\\ipykernel_16000\\2984826684.py:101: FutureWarning: The frame.append method is deprecated and will be removed from pandas in a future version. Use pandas.concat instead.\n",
      "  redFlagRecord = redFlagRecord.append(veh, ignore_index=True)\n",
      "C:\\Users\\Administrator\\AppData\\Local\\Temp\\ipykernel_16000\\2984826684.py:101: FutureWarning: The frame.append method is deprecated and will be removed from pandas in a future version. Use pandas.concat instead.\n",
      "  redFlagRecord = redFlagRecord.append(veh, ignore_index=True)\n",
      "C:\\Users\\Administrator\\AppData\\Local\\Temp\\ipykernel_16000\\2984826684.py:101: FutureWarning: The frame.append method is deprecated and will be removed from pandas in a future version. Use pandas.concat instead.\n",
      "  redFlagRecord = redFlagRecord.append(veh, ignore_index=True)\n",
      "C:\\Users\\Administrator\\AppData\\Local\\Temp\\ipykernel_16000\\2984826684.py:101: FutureWarning: The frame.append method is deprecated and will be removed from pandas in a future version. Use pandas.concat instead.\n",
      "  redFlagRecord = redFlagRecord.append(veh, ignore_index=True)\n",
      "C:\\Users\\Administrator\\AppData\\Local\\Temp\\ipykernel_16000\\2984826684.py:101: FutureWarning: The frame.append method is deprecated and will be removed from pandas in a future version. Use pandas.concat instead.\n",
      "  redFlagRecord = redFlagRecord.append(veh, ignore_index=True)\n",
      "C:\\Users\\Administrator\\AppData\\Local\\Temp\\ipykernel_16000\\2984826684.py:101: FutureWarning: The frame.append method is deprecated and will be removed from pandas in a future version. Use pandas.concat instead.\n",
      "  redFlagRecord = redFlagRecord.append(veh, ignore_index=True)\n"
     ]
    },
    {
     "name": "stdout",
     "output_type": "stream",
     "text": [
      "LaneID:28925528_0;Time:3087.0;\n",
      "LaneID:28925528_0;Time:3088.0;\n",
      "LaneID:28925528_0;Time:3089.0;\n",
      "LaneID:28925528_0;Time:3102.0;\n",
      "LaneID:28925528_0;Time:3103.0;\n",
      "LaneID:28925528_0;Time:3104.0;\n",
      "LaneID:28925528_0;Time:3105.0;\n",
      "LaneID:28925528_0;Time:3106.0;\n",
      "LaneID:28925528_0;Time:3107.0;\n",
      "LaneID:28925528_0;Time:3108.0;\n",
      "LaneID:28925528_0;Time:3109.0;\n",
      "LaneID:28925528_0;Time:3110.0;\n",
      "LaneID:28925528_0;Time:3111.0;\n",
      "LaneID:28925528_0;Time:3112.0;\n",
      "LaneID:28925528_0;Time:3113.0;\n",
      "LaneID:28925528_0;Time:3114.0;\n",
      "LaneID:28925528_0;Time:3115.0;\n",
      "LaneID:28925528_0;Time:3116.0;\n",
      "LaneID:28925528_0;Time:3117.0;\n"
     ]
    },
    {
     "name": "stderr",
     "output_type": "stream",
     "text": [
      "C:\\Users\\Administrator\\AppData\\Local\\Temp\\ipykernel_16000\\2984826684.py:101: FutureWarning: The frame.append method is deprecated and will be removed from pandas in a future version. Use pandas.concat instead.\n",
      "  redFlagRecord = redFlagRecord.append(veh, ignore_index=True)\n",
      "C:\\Users\\Administrator\\AppData\\Local\\Temp\\ipykernel_16000\\2984826684.py:101: FutureWarning: The frame.append method is deprecated and will be removed from pandas in a future version. Use pandas.concat instead.\n",
      "  redFlagRecord = redFlagRecord.append(veh, ignore_index=True)\n",
      "C:\\Users\\Administrator\\AppData\\Local\\Temp\\ipykernel_16000\\2984826684.py:101: FutureWarning: The frame.append method is deprecated and will be removed from pandas in a future version. Use pandas.concat instead.\n",
      "  redFlagRecord = redFlagRecord.append(veh, ignore_index=True)\n",
      "C:\\Users\\Administrator\\AppData\\Local\\Temp\\ipykernel_16000\\2984826684.py:101: FutureWarning: The frame.append method is deprecated and will be removed from pandas in a future version. Use pandas.concat instead.\n",
      "  redFlagRecord = redFlagRecord.append(veh, ignore_index=True)\n",
      "C:\\Users\\Administrator\\AppData\\Local\\Temp\\ipykernel_16000\\2984826684.py:101: FutureWarning: The frame.append method is deprecated and will be removed from pandas in a future version. Use pandas.concat instead.\n",
      "  redFlagRecord = redFlagRecord.append(veh, ignore_index=True)\n",
      "C:\\Users\\Administrator\\AppData\\Local\\Temp\\ipykernel_16000\\2984826684.py:101: FutureWarning: The frame.append method is deprecated and will be removed from pandas in a future version. Use pandas.concat instead.\n",
      "  redFlagRecord = redFlagRecord.append(veh, ignore_index=True)\n"
     ]
    },
    {
     "name": "stdout",
     "output_type": "stream",
     "text": [
      "LaneID:28925528_0;Time:3124.0;\n",
      "LaneID:28925528_0;Time:3125.0;\n",
      "LaneID:28925528_0;Time:3126.0;\n",
      "LaneID:28925528_0;Time:3127.0;\n",
      "LaneID:28925528_0;Time:3128.0;\n",
      "LaneID:28925528_0;Time:3129.0;\n",
      "LaneID:28925528_0;Time:3130.0;\n",
      "LaneID:28925528_0;Time:3131.0;\n",
      "LaneID:28925528_0;Time:3138.0;\n",
      "LaneID:28925528_0;Time:3139.0;\n",
      "LaneID:28925528_0;Time:3140.0;\n",
      "LaneID:28925528_0;Time:3141.0;\n",
      "LaneID:28925528_0;Time:3142.0;\n",
      "LaneID:28925528_0;Time:3143.0;\n"
     ]
    },
    {
     "name": "stderr",
     "output_type": "stream",
     "text": [
      "C:\\Users\\Administrator\\AppData\\Local\\Temp\\ipykernel_16000\\2984826684.py:101: FutureWarning: The frame.append method is deprecated and will be removed from pandas in a future version. Use pandas.concat instead.\n",
      "  redFlagRecord = redFlagRecord.append(veh, ignore_index=True)\n",
      "C:\\Users\\Administrator\\AppData\\Local\\Temp\\ipykernel_16000\\2984826684.py:101: FutureWarning: The frame.append method is deprecated and will be removed from pandas in a future version. Use pandas.concat instead.\n",
      "  redFlagRecord = redFlagRecord.append(veh, ignore_index=True)\n",
      "C:\\Users\\Administrator\\AppData\\Local\\Temp\\ipykernel_16000\\2984826684.py:101: FutureWarning: The frame.append method is deprecated and will be removed from pandas in a future version. Use pandas.concat instead.\n",
      "  redFlagRecord = redFlagRecord.append(veh, ignore_index=True)\n",
      "C:\\Users\\Administrator\\AppData\\Local\\Temp\\ipykernel_16000\\2984826684.py:101: FutureWarning: The frame.append method is deprecated and will be removed from pandas in a future version. Use pandas.concat instead.\n",
      "  redFlagRecord = redFlagRecord.append(veh, ignore_index=True)\n",
      "C:\\Users\\Administrator\\AppData\\Local\\Temp\\ipykernel_16000\\2984826684.py:101: FutureWarning: The frame.append method is deprecated and will be removed from pandas in a future version. Use pandas.concat instead.\n",
      "  redFlagRecord = redFlagRecord.append(veh, ignore_index=True)\n",
      "C:\\Users\\Administrator\\AppData\\Local\\Temp\\ipykernel_16000\\2984826684.py:101: FutureWarning: The frame.append method is deprecated and will be removed from pandas in a future version. Use pandas.concat instead.\n",
      "  redFlagRecord = redFlagRecord.append(veh, ignore_index=True)\n"
     ]
    },
    {
     "name": "stdout",
     "output_type": "stream",
     "text": [
      "LaneID:28925528_0;Time:3144.0;\n",
      "LaneID:28925528_0;Time:3145.0;\n",
      "LaneID:28925528_0;Time:3146.0;\n",
      "LaneID:28925528_0;Time:3147.0;\n",
      "LaneID:28925528_0;Time:3148.0;\n",
      "LaneID:28925528_0;Time:3149.0;\n",
      "LaneID:28925528_0;Time:3150.0;\n",
      "LaneID:28925528_0;Time:3153.0;\n",
      "LaneID:28925528_0;Time:3154.0;\n",
      "LaneID:28925528_0;Time:3155.0;\n",
      "LaneID:28925528_0;Time:3164.0;\n",
      "LaneID:28925528_0;Time:3165.0;\n",
      "LaneID:28925528_0;Time:3166.0;\n",
      "LaneID:28925528_0;Time:3167.0;\n",
      "LaneID:28925528_0;Time:3168.0;\n",
      "LaneID:28925528_0;Time:3169.0;\n",
      "LaneID:28925528_0;Time:3170.0;\n",
      "LaneID:28925528_0;Time:3171.0;\n",
      "LaneID:28925528_0;Time:3172.0;\n",
      "LaneID:28925528_0;Time:3173.0;\n"
     ]
    },
    {
     "name": "stderr",
     "output_type": "stream",
     "text": [
      "C:\\Users\\Administrator\\AppData\\Local\\Temp\\ipykernel_16000\\2984826684.py:101: FutureWarning: The frame.append method is deprecated and will be removed from pandas in a future version. Use pandas.concat instead.\n",
      "  redFlagRecord = redFlagRecord.append(veh, ignore_index=True)\n",
      "C:\\Users\\Administrator\\AppData\\Local\\Temp\\ipykernel_16000\\2984826684.py:101: FutureWarning: The frame.append method is deprecated and will be removed from pandas in a future version. Use pandas.concat instead.\n",
      "  redFlagRecord = redFlagRecord.append(veh, ignore_index=True)\n",
      "C:\\Users\\Administrator\\AppData\\Local\\Temp\\ipykernel_16000\\2984826684.py:101: FutureWarning: The frame.append method is deprecated and will be removed from pandas in a future version. Use pandas.concat instead.\n",
      "  redFlagRecord = redFlagRecord.append(veh, ignore_index=True)\n",
      "C:\\Users\\Administrator\\AppData\\Local\\Temp\\ipykernel_16000\\2984826684.py:101: FutureWarning: The frame.append method is deprecated and will be removed from pandas in a future version. Use pandas.concat instead.\n",
      "  redFlagRecord = redFlagRecord.append(veh, ignore_index=True)\n",
      "C:\\Users\\Administrator\\AppData\\Local\\Temp\\ipykernel_16000\\2984826684.py:101: FutureWarning: The frame.append method is deprecated and will be removed from pandas in a future version. Use pandas.concat instead.\n",
      "  redFlagRecord = redFlagRecord.append(veh, ignore_index=True)\n",
      "C:\\Users\\Administrator\\AppData\\Local\\Temp\\ipykernel_16000\\2984826684.py:101: FutureWarning: The frame.append method is deprecated and will be removed from pandas in a future version. Use pandas.concat instead.\n",
      "  redFlagRecord = redFlagRecord.append(veh, ignore_index=True)\n",
      "C:\\Users\\Administrator\\AppData\\Local\\Temp\\ipykernel_16000\\2984826684.py:101: FutureWarning: The frame.append method is deprecated and will be removed from pandas in a future version. Use pandas.concat instead.\n",
      "  redFlagRecord = redFlagRecord.append(veh, ignore_index=True)\n"
     ]
    },
    {
     "name": "stdout",
     "output_type": "stream",
     "text": [
      "LaneID:28925528_0;Time:3174.0;\n",
      "LaneID:28925528_0;Time:3175.0;\n",
      "LaneID:28925528_0;Time:3176.0;\n",
      "LaneID:28925528_0;Time:3177.0;\n",
      "LaneID:28925528_0;Time:3178.0;\n",
      "LaneID:28925528_0;Time:3179.0;\n",
      "LaneID:28925528_0;Time:3186.0;\n",
      "LaneID:28925528_0;Time:3187.0;\n",
      "LaneID:28925528_0;Time:3188.0;\n",
      "LaneID:28925528_0;Time:3189.0;\n",
      "LaneID:28925528_0;Time:3190.0;\n",
      "LaneID:28925528_0;Time:3191.0;\n",
      "LaneID:28925528_0;Time:3192.0;\n",
      "LaneID:28925528_0;Time:3193.0;\n",
      "LaneID:28925528_0;Time:3194.0;\n",
      "LaneID:28925528_0;Time:3195.0;\n",
      "LaneID:28925528_0;Time:3196.0;\n",
      "LaneID:28925528_0;Time:3197.0;\n",
      "LaneID:28925528_0;Time:3198.0;\n",
      "LaneID:28925528_0;Time:3199.0;\n",
      "LaneID:28925528_0;Time:3200.0;\n",
      "LaneID:28925528_0;Time:3201.0;\n"
     ]
    },
    {
     "name": "stderr",
     "output_type": "stream",
     "text": [
      "C:\\Users\\Administrator\\AppData\\Local\\Temp\\ipykernel_16000\\2984826684.py:101: FutureWarning: The frame.append method is deprecated and will be removed from pandas in a future version. Use pandas.concat instead.\n",
      "  redFlagRecord = redFlagRecord.append(veh, ignore_index=True)\n",
      "C:\\Users\\Administrator\\AppData\\Local\\Temp\\ipykernel_16000\\2984826684.py:101: FutureWarning: The frame.append method is deprecated and will be removed from pandas in a future version. Use pandas.concat instead.\n",
      "  redFlagRecord = redFlagRecord.append(veh, ignore_index=True)\n",
      "C:\\Users\\Administrator\\AppData\\Local\\Temp\\ipykernel_16000\\2984826684.py:101: FutureWarning: The frame.append method is deprecated and will be removed from pandas in a future version. Use pandas.concat instead.\n",
      "  redFlagRecord = redFlagRecord.append(veh, ignore_index=True)\n",
      "C:\\Users\\Administrator\\AppData\\Local\\Temp\\ipykernel_16000\\2984826684.py:101: FutureWarning: The frame.append method is deprecated and will be removed from pandas in a future version. Use pandas.concat instead.\n",
      "  redFlagRecord = redFlagRecord.append(veh, ignore_index=True)\n",
      "C:\\Users\\Administrator\\AppData\\Local\\Temp\\ipykernel_16000\\2984826684.py:101: FutureWarning: The frame.append method is deprecated and will be removed from pandas in a future version. Use pandas.concat instead.\n",
      "  redFlagRecord = redFlagRecord.append(veh, ignore_index=True)\n",
      "C:\\Users\\Administrator\\AppData\\Local\\Temp\\ipykernel_16000\\2984826684.py:101: FutureWarning: The frame.append method is deprecated and will be removed from pandas in a future version. Use pandas.concat instead.\n",
      "  redFlagRecord = redFlagRecord.append(veh, ignore_index=True)\n",
      "C:\\Users\\Administrator\\AppData\\Local\\Temp\\ipykernel_16000\\2984826684.py:101: FutureWarning: The frame.append method is deprecated and will be removed from pandas in a future version. Use pandas.concat instead.\n",
      "  redFlagRecord = redFlagRecord.append(veh, ignore_index=True)\n"
     ]
    },
    {
     "name": "stdout",
     "output_type": "stream",
     "text": [
      "LaneID:28925528_0;Time:3202.0;\n",
      "LaneID:28925528_0;Time:3203.0;\n",
      "LaneID:28925528_0;Time:3204.0;\n",
      "LaneID:28925528_0;Time:3205.0;\n",
      "LaneID:28925528_0;Time:3206.0;\n",
      "LaneID:28925528_0;Time:3207.0;\n",
      "LaneID:28925528_0;Time:3208.0;\n"
     ]
    },
    {
     "name": "stderr",
     "output_type": "stream",
     "text": [
      "C:\\Users\\Administrator\\AppData\\Local\\Temp\\ipykernel_16000\\2984826684.py:101: FutureWarning: The frame.append method is deprecated and will be removed from pandas in a future version. Use pandas.concat instead.\n",
      "  redFlagRecord = redFlagRecord.append(veh, ignore_index=True)\n",
      "C:\\Users\\Administrator\\AppData\\Local\\Temp\\ipykernel_16000\\2984826684.py:101: FutureWarning: The frame.append method is deprecated and will be removed from pandas in a future version. Use pandas.concat instead.\n",
      "  redFlagRecord = redFlagRecord.append(veh, ignore_index=True)\n",
      "C:\\Users\\Administrator\\AppData\\Local\\Temp\\ipykernel_16000\\2984826684.py:101: FutureWarning: The frame.append method is deprecated and will be removed from pandas in a future version. Use pandas.concat instead.\n",
      "  redFlagRecord = redFlagRecord.append(veh, ignore_index=True)\n",
      "C:\\Users\\Administrator\\AppData\\Local\\Temp\\ipykernel_16000\\2984826684.py:101: FutureWarning: The frame.append method is deprecated and will be removed from pandas in a future version. Use pandas.concat instead.\n",
      "  redFlagRecord = redFlagRecord.append(veh, ignore_index=True)\n",
      "C:\\Users\\Administrator\\AppData\\Local\\Temp\\ipykernel_16000\\2984826684.py:101: FutureWarning: The frame.append method is deprecated and will be removed from pandas in a future version. Use pandas.concat instead.\n",
      "  redFlagRecord = redFlagRecord.append(veh, ignore_index=True)\n",
      "C:\\Users\\Administrator\\AppData\\Local\\Temp\\ipykernel_16000\\2984826684.py:101: FutureWarning: The frame.append method is deprecated and will be removed from pandas in a future version. Use pandas.concat instead.\n",
      "  redFlagRecord = redFlagRecord.append(veh, ignore_index=True)\n",
      "C:\\Users\\Administrator\\AppData\\Local\\Temp\\ipykernel_16000\\2984826684.py:101: FutureWarning: The frame.append method is deprecated and will be removed from pandas in a future version. Use pandas.concat instead.\n",
      "  redFlagRecord = redFlagRecord.append(veh, ignore_index=True)\n"
     ]
    },
    {
     "name": "stdout",
     "output_type": "stream",
     "text": [
      "LaneID:28925528_0;Time:3209.0;\n",
      "LaneID:28925528_0;Time:3210.0;\n",
      "LaneID:28925528_0;Time:3211.0;\n",
      "LaneID:28925528_0;Time:3212.0;\n",
      "LaneID:28925528_0;Time:3213.0;\n",
      "LaneID:28925528_0;Time:3214.0;\n",
      "LaneID:28925528_0;Time:3228.0;\n",
      "LaneID:28925528_0;Time:3229.0;\n",
      "LaneID:28925528_0;Time:3230.0;\n",
      "LaneID:28925528_0;Time:3231.0;\n",
      "LaneID:28925528_0;Time:3232.0;\n",
      "LaneID:28925528_0;Time:3233.0;\n",
      "LaneID:28925528_0;Time:3234.0;\n",
      "LaneID:28925528_0;Time:3235.0;\n",
      "LaneID:28925528_0;Time:3236.0;\n",
      "LaneID:28925528_0;Time:3237.0;\n",
      "LaneID:28925528_0;Time:3238.0;\n",
      "LaneID:28925528_0;Time:3239.0;\n",
      "LaneID:28925528_0;Time:3240.0;\n"
     ]
    },
    {
     "name": "stderr",
     "output_type": "stream",
     "text": [
      "C:\\Users\\Administrator\\AppData\\Local\\Temp\\ipykernel_16000\\2984826684.py:101: FutureWarning: The frame.append method is deprecated and will be removed from pandas in a future version. Use pandas.concat instead.\n",
      "  redFlagRecord = redFlagRecord.append(veh, ignore_index=True)\n",
      "C:\\Users\\Administrator\\AppData\\Local\\Temp\\ipykernel_16000\\2984826684.py:101: FutureWarning: The frame.append method is deprecated and will be removed from pandas in a future version. Use pandas.concat instead.\n",
      "  redFlagRecord = redFlagRecord.append(veh, ignore_index=True)\n",
      "C:\\Users\\Administrator\\AppData\\Local\\Temp\\ipykernel_16000\\2984826684.py:101: FutureWarning: The frame.append method is deprecated and will be removed from pandas in a future version. Use pandas.concat instead.\n",
      "  redFlagRecord = redFlagRecord.append(veh, ignore_index=True)\n",
      "C:\\Users\\Administrator\\AppData\\Local\\Temp\\ipykernel_16000\\2984826684.py:101: FutureWarning: The frame.append method is deprecated and will be removed from pandas in a future version. Use pandas.concat instead.\n",
      "  redFlagRecord = redFlagRecord.append(veh, ignore_index=True)\n",
      "C:\\Users\\Administrator\\AppData\\Local\\Temp\\ipykernel_16000\\2984826684.py:101: FutureWarning: The frame.append method is deprecated and will be removed from pandas in a future version. Use pandas.concat instead.\n",
      "  redFlagRecord = redFlagRecord.append(veh, ignore_index=True)\n",
      "C:\\Users\\Administrator\\AppData\\Local\\Temp\\ipykernel_16000\\2984826684.py:101: FutureWarning: The frame.append method is deprecated and will be removed from pandas in a future version. Use pandas.concat instead.\n",
      "  redFlagRecord = redFlagRecord.append(veh, ignore_index=True)\n",
      "C:\\Users\\Administrator\\AppData\\Local\\Temp\\ipykernel_16000\\2984826684.py:101: FutureWarning: The frame.append method is deprecated and will be removed from pandas in a future version. Use pandas.concat instead.\n",
      "  redFlagRecord = redFlagRecord.append(veh, ignore_index=True)\n",
      "C:\\Users\\Administrator\\AppData\\Local\\Temp\\ipykernel_16000\\2984826684.py:101: FutureWarning: The frame.append method is deprecated and will be removed from pandas in a future version. Use pandas.concat instead.\n",
      "  redFlagRecord = redFlagRecord.append(veh, ignore_index=True)\n",
      "C:\\Users\\Administrator\\AppData\\Local\\Temp\\ipykernel_16000\\2984826684.py:101: FutureWarning: The frame.append method is deprecated and will be removed from pandas in a future version. Use pandas.concat instead.\n",
      "  redFlagRecord = redFlagRecord.append(veh, ignore_index=True)\n",
      "C:\\Users\\Administrator\\AppData\\Local\\Temp\\ipykernel_16000\\2984826684.py:101: FutureWarning: The frame.append method is deprecated and will be removed from pandas in a future version. Use pandas.concat instead.\n",
      "  redFlagRecord = redFlagRecord.append(veh, ignore_index=True)\n",
      "C:\\Users\\Administrator\\AppData\\Local\\Temp\\ipykernel_16000\\2984826684.py:101: FutureWarning: The frame.append method is deprecated and will be removed from pandas in a future version. Use pandas.concat instead.\n",
      "  redFlagRecord = redFlagRecord.append(veh, ignore_index=True)\n"
     ]
    },
    {
     "name": "stdout",
     "output_type": "stream",
     "text": [
      "LaneID:28925528_0;Time:3241.0;\n",
      "LaneID:28925528_0;Time:3248.0;\n",
      "LaneID:28925528_0;Time:3249.0;\n",
      "LaneID:28925528_0;Time:3250.0;\n",
      "LaneID:28925528_0;Time:3251.0;\n",
      "LaneID:28925528_0;Time:3252.0;\n",
      "LaneID:28925528_0;Time:3253.0;\n",
      "LaneID:28925528_0;Time:3254.0;\n",
      "LaneID:28925528_0;Time:3255.0;\n",
      "LaneID:28925528_0;Time:3262.0;\n",
      "LaneID:28925528_0;Time:3263.0;\n",
      "LaneID:28925528_0;Time:3264.0;\n",
      "LaneID:28925528_0;Time:3265.0;\n",
      "LaneID:28925528_0;Time:3266.0;\n"
     ]
    },
    {
     "name": "stderr",
     "output_type": "stream",
     "text": [
      "C:\\Users\\Administrator\\AppData\\Local\\Temp\\ipykernel_16000\\2984826684.py:101: FutureWarning: The frame.append method is deprecated and will be removed from pandas in a future version. Use pandas.concat instead.\n",
      "  redFlagRecord = redFlagRecord.append(veh, ignore_index=True)\n",
      "C:\\Users\\Administrator\\AppData\\Local\\Temp\\ipykernel_16000\\2984826684.py:101: FutureWarning: The frame.append method is deprecated and will be removed from pandas in a future version. Use pandas.concat instead.\n",
      "  redFlagRecord = redFlagRecord.append(veh, ignore_index=True)\n",
      "C:\\Users\\Administrator\\AppData\\Local\\Temp\\ipykernel_16000\\2984826684.py:101: FutureWarning: The frame.append method is deprecated and will be removed from pandas in a future version. Use pandas.concat instead.\n",
      "  redFlagRecord = redFlagRecord.append(veh, ignore_index=True)\n",
      "C:\\Users\\Administrator\\AppData\\Local\\Temp\\ipykernel_16000\\2984826684.py:101: FutureWarning: The frame.append method is deprecated and will be removed from pandas in a future version. Use pandas.concat instead.\n",
      "  redFlagRecord = redFlagRecord.append(veh, ignore_index=True)\n",
      "C:\\Users\\Administrator\\AppData\\Local\\Temp\\ipykernel_16000\\2984826684.py:101: FutureWarning: The frame.append method is deprecated and will be removed from pandas in a future version. Use pandas.concat instead.\n",
      "  redFlagRecord = redFlagRecord.append(veh, ignore_index=True)\n",
      "C:\\Users\\Administrator\\AppData\\Local\\Temp\\ipykernel_16000\\2984826684.py:101: FutureWarning: The frame.append method is deprecated and will be removed from pandas in a future version. Use pandas.concat instead.\n",
      "  redFlagRecord = redFlagRecord.append(veh, ignore_index=True)\n",
      "C:\\Users\\Administrator\\AppData\\Local\\Temp\\ipykernel_16000\\2984826684.py:101: FutureWarning: The frame.append method is deprecated and will be removed from pandas in a future version. Use pandas.concat instead.\n",
      "  redFlagRecord = redFlagRecord.append(veh, ignore_index=True)\n"
     ]
    },
    {
     "name": "stdout",
     "output_type": "stream",
     "text": [
      "LaneID:28925528_0;Time:3267.0;\n",
      "LaneID:28925528_0;Time:3268.0;\n",
      "LaneID:28925528_0;Time:3269.0;\n",
      "LaneID:28925528_0;Time:3270.0;\n",
      "LaneID:28925528_0;Time:3271.0;\n",
      "LaneID:28925528_0;Time:3272.0;\n",
      "LaneID:28925528_0;Time:3273.0;\n",
      "LaneID:28925528_0;Time:3274.0;\n",
      "LaneID:28925528_0;Time:3275.0;\n",
      "LaneID:28925528_0;Time:3289.0;\n",
      "LaneID:28925528_0;Time:3290.0;\n",
      "LaneID:28925528_0;Time:3291.0;\n",
      "LaneID:28925528_0;Time:3292.0;\n",
      "LaneID:28925528_0;Time:3293.0;\n",
      "LaneID:28925528_0;Time:3294.0;\n",
      "LaneID:28925528_0;Time:3295.0;\n",
      "LaneID:28925528_0;Time:3296.0;\n",
      "LaneID:28925528_0;Time:3297.0;\n",
      "LaneID:28925528_0;Time:3298.0;\n",
      "LaneID:28925528_0;Time:3299.0;\n"
     ]
    },
    {
     "name": "stderr",
     "output_type": "stream",
     "text": [
      "C:\\Users\\Administrator\\AppData\\Local\\Temp\\ipykernel_16000\\2984826684.py:101: FutureWarning: The frame.append method is deprecated and will be removed from pandas in a future version. Use pandas.concat instead.\n",
      "  redFlagRecord = redFlagRecord.append(veh, ignore_index=True)\n",
      "C:\\Users\\Administrator\\AppData\\Local\\Temp\\ipykernel_16000\\2984826684.py:101: FutureWarning: The frame.append method is deprecated and will be removed from pandas in a future version. Use pandas.concat instead.\n",
      "  redFlagRecord = redFlagRecord.append(veh, ignore_index=True)\n",
      "C:\\Users\\Administrator\\AppData\\Local\\Temp\\ipykernel_16000\\2984826684.py:101: FutureWarning: The frame.append method is deprecated and will be removed from pandas in a future version. Use pandas.concat instead.\n",
      "  redFlagRecord = redFlagRecord.append(veh, ignore_index=True)\n",
      "C:\\Users\\Administrator\\AppData\\Local\\Temp\\ipykernel_16000\\2984826684.py:101: FutureWarning: The frame.append method is deprecated and will be removed from pandas in a future version. Use pandas.concat instead.\n",
      "  redFlagRecord = redFlagRecord.append(veh, ignore_index=True)\n",
      "C:\\Users\\Administrator\\AppData\\Local\\Temp\\ipykernel_16000\\2984826684.py:101: FutureWarning: The frame.append method is deprecated and will be removed from pandas in a future version. Use pandas.concat instead.\n",
      "  redFlagRecord = redFlagRecord.append(veh, ignore_index=True)\n",
      "C:\\Users\\Administrator\\AppData\\Local\\Temp\\ipykernel_16000\\2984826684.py:101: FutureWarning: The frame.append method is deprecated and will be removed from pandas in a future version. Use pandas.concat instead.\n",
      "  redFlagRecord = redFlagRecord.append(veh, ignore_index=True)\n",
      "C:\\Users\\Administrator\\AppData\\Local\\Temp\\ipykernel_16000\\2984826684.py:101: FutureWarning: The frame.append method is deprecated and will be removed from pandas in a future version. Use pandas.concat instead.\n",
      "  redFlagRecord = redFlagRecord.append(veh, ignore_index=True)\n"
     ]
    },
    {
     "name": "stdout",
     "output_type": "stream",
     "text": [
      "LaneID:28925528_0;Time:3300.0;\n",
      "LaneID:28925528_0;Time:3301.0;\n",
      "LaneID:28925528_0;Time:3302.0;\n",
      "LaneID:28925528_0;Time:3303.0;\n",
      "LaneID:28925528_0;Time:3311.0;\n",
      "LaneID:28925528_0;Time:3312.0;\n",
      "LaneID:28925528_0;Time:3313.0;\n",
      "LaneID:28925528_0;Time:3314.0;\n",
      "LaneID:28925528_0;Time:3315.0;\n",
      "LaneID:28925528_0;Time:3316.0;\n",
      "LaneID:28925528_0;Time:3323.0;\n",
      "LaneID:28925528_0;Time:3324.0;\n",
      "LaneID:28925528_0;Time:3325.0;\n"
     ]
    },
    {
     "name": "stderr",
     "output_type": "stream",
     "text": [
      "C:\\Users\\Administrator\\AppData\\Local\\Temp\\ipykernel_16000\\2984826684.py:101: FutureWarning: The frame.append method is deprecated and will be removed from pandas in a future version. Use pandas.concat instead.\n",
      "  redFlagRecord = redFlagRecord.append(veh, ignore_index=True)\n",
      "C:\\Users\\Administrator\\AppData\\Local\\Temp\\ipykernel_16000\\2984826684.py:101: FutureWarning: The frame.append method is deprecated and will be removed from pandas in a future version. Use pandas.concat instead.\n",
      "  redFlagRecord = redFlagRecord.append(veh, ignore_index=True)\n",
      "C:\\Users\\Administrator\\AppData\\Local\\Temp\\ipykernel_16000\\2984826684.py:101: FutureWarning: The frame.append method is deprecated and will be removed from pandas in a future version. Use pandas.concat instead.\n",
      "  redFlagRecord = redFlagRecord.append(veh, ignore_index=True)\n",
      "C:\\Users\\Administrator\\AppData\\Local\\Temp\\ipykernel_16000\\2984826684.py:101: FutureWarning: The frame.append method is deprecated and will be removed from pandas in a future version. Use pandas.concat instead.\n",
      "  redFlagRecord = redFlagRecord.append(veh, ignore_index=True)\n",
      "C:\\Users\\Administrator\\AppData\\Local\\Temp\\ipykernel_16000\\2984826684.py:101: FutureWarning: The frame.append method is deprecated and will be removed from pandas in a future version. Use pandas.concat instead.\n",
      "  redFlagRecord = redFlagRecord.append(veh, ignore_index=True)\n",
      "C:\\Users\\Administrator\\AppData\\Local\\Temp\\ipykernel_16000\\2984826684.py:101: FutureWarning: The frame.append method is deprecated and will be removed from pandas in a future version. Use pandas.concat instead.\n",
      "  redFlagRecord = redFlagRecord.append(veh, ignore_index=True)\n"
     ]
    },
    {
     "name": "stdout",
     "output_type": "stream",
     "text": [
      "LaneID:28925528_0;Time:3326.0;\n",
      "LaneID:28925528_0;Time:3327.0;\n",
      "LaneID:28925528_0;Time:3328.0;\n",
      "LaneID:28925528_0;Time:3329.0;\n",
      "LaneID:28925528_0;Time:3330.0;\n",
      "LaneID:28925528_0;Time:3331.0;\n"
     ]
    },
    {
     "name": "stderr",
     "output_type": "stream",
     "text": [
      "C:\\Users\\Administrator\\AppData\\Local\\Temp\\ipykernel_16000\\2984826684.py:101: FutureWarning: The frame.append method is deprecated and will be removed from pandas in a future version. Use pandas.concat instead.\n",
      "  redFlagRecord = redFlagRecord.append(veh, ignore_index=True)\n",
      "C:\\Users\\Administrator\\AppData\\Local\\Temp\\ipykernel_16000\\2984826684.py:101: FutureWarning: The frame.append method is deprecated and will be removed from pandas in a future version. Use pandas.concat instead.\n",
      "  redFlagRecord = redFlagRecord.append(veh, ignore_index=True)\n",
      "C:\\Users\\Administrator\\AppData\\Local\\Temp\\ipykernel_16000\\2984826684.py:101: FutureWarning: The frame.append method is deprecated and will be removed from pandas in a future version. Use pandas.concat instead.\n",
      "  redFlagRecord = redFlagRecord.append(veh, ignore_index=True)\n",
      "C:\\Users\\Administrator\\AppData\\Local\\Temp\\ipykernel_16000\\2984826684.py:101: FutureWarning: The frame.append method is deprecated and will be removed from pandas in a future version. Use pandas.concat instead.\n",
      "  redFlagRecord = redFlagRecord.append(veh, ignore_index=True)\n",
      "C:\\Users\\Administrator\\AppData\\Local\\Temp\\ipykernel_16000\\2984826684.py:101: FutureWarning: The frame.append method is deprecated and will be removed from pandas in a future version. Use pandas.concat instead.\n",
      "  redFlagRecord = redFlagRecord.append(veh, ignore_index=True)\n",
      "C:\\Users\\Administrator\\AppData\\Local\\Temp\\ipykernel_16000\\2984826684.py:101: FutureWarning: The frame.append method is deprecated and will be removed from pandas in a future version. Use pandas.concat instead.\n",
      "  redFlagRecord = redFlagRecord.append(veh, ignore_index=True)\n"
     ]
    },
    {
     "name": "stdout",
     "output_type": "stream",
     "text": [
      "LaneID:28925528_0;Time:3332.0;\n",
      "LaneID:28925528_0;Time:3333.0;\n",
      "LaneID:28925528_0;Time:3334.0;\n",
      "LaneID:28925528_0;Time:3335.0;\n",
      "LaneID:28925528_0;Time:3336.0;\n",
      "LaneID:28925528_0;Time:3337.0;\n",
      "LaneID:28925528_0;Time:3352.0;\n",
      "LaneID:28925528_0;Time:3353.0;\n",
      "LaneID:28925528_0;Time:3354.0;\n",
      "LaneID:28925528_0;Time:3355.0;\n",
      "LaneID:28925528_0;Time:3356.0;\n",
      "LaneID:28925528_0;Time:3357.0;\n",
      "LaneID:28925528_0;Time:3358.0;\n",
      "LaneID:28925528_0;Time:3359.0;\n",
      "LaneID:28925528_0;Time:3360.0;\n",
      "LaneID:28925528_0;Time:3361.0;\n",
      "LaneID:28925528_0;Time:3362.0;\n",
      "LaneID:28925528_0;Time:3363.0;\n"
     ]
    },
    {
     "name": "stderr",
     "output_type": "stream",
     "text": [
      "C:\\Users\\Administrator\\AppData\\Local\\Temp\\ipykernel_16000\\2984826684.py:101: FutureWarning: The frame.append method is deprecated and will be removed from pandas in a future version. Use pandas.concat instead.\n",
      "  redFlagRecord = redFlagRecord.append(veh, ignore_index=True)\n",
      "C:\\Users\\Administrator\\AppData\\Local\\Temp\\ipykernel_16000\\2984826684.py:101: FutureWarning: The frame.append method is deprecated and will be removed from pandas in a future version. Use pandas.concat instead.\n",
      "  redFlagRecord = redFlagRecord.append(veh, ignore_index=True)\n",
      "C:\\Users\\Administrator\\AppData\\Local\\Temp\\ipykernel_16000\\2984826684.py:101: FutureWarning: The frame.append method is deprecated and will be removed from pandas in a future version. Use pandas.concat instead.\n",
      "  redFlagRecord = redFlagRecord.append(veh, ignore_index=True)\n",
      "C:\\Users\\Administrator\\AppData\\Local\\Temp\\ipykernel_16000\\2984826684.py:101: FutureWarning: The frame.append method is deprecated and will be removed from pandas in a future version. Use pandas.concat instead.\n",
      "  redFlagRecord = redFlagRecord.append(veh, ignore_index=True)\n",
      "C:\\Users\\Administrator\\AppData\\Local\\Temp\\ipykernel_16000\\2984826684.py:101: FutureWarning: The frame.append method is deprecated and will be removed from pandas in a future version. Use pandas.concat instead.\n",
      "  redFlagRecord = redFlagRecord.append(veh, ignore_index=True)\n",
      "C:\\Users\\Administrator\\AppData\\Local\\Temp\\ipykernel_16000\\2984826684.py:101: FutureWarning: The frame.append method is deprecated and will be removed from pandas in a future version. Use pandas.concat instead.\n",
      "  redFlagRecord = redFlagRecord.append(veh, ignore_index=True)\n",
      "C:\\Users\\Administrator\\AppData\\Local\\Temp\\ipykernel_16000\\2984826684.py:101: FutureWarning: The frame.append method is deprecated and will be removed from pandas in a future version. Use pandas.concat instead.\n",
      "  redFlagRecord = redFlagRecord.append(veh, ignore_index=True)\n"
     ]
    },
    {
     "name": "stdout",
     "output_type": "stream",
     "text": [
      "LaneID:28925528_0;Time:3364.0;\n",
      "LaneID:28925528_0;Time:3365.0;\n",
      "LaneID:28925528_0;Time:3373.0;\n",
      "LaneID:28925528_0;Time:3374.0;\n",
      "LaneID:28925528_0;Time:3375.0;\n",
      "LaneID:28925528_0;Time:3376.0;\n",
      "LaneID:28925528_0;Time:3377.0;\n",
      "LaneID:28925528_0;Time:3378.0;\n",
      "LaneID:28925528_0;Time:3379.0;\n",
      "LaneID:28925528_0;Time:3380.0;\n",
      "LaneID:28925528_0;Time:3381.0;\n",
      "LaneID:28925528_0;Time:3382.0;\n",
      "LaneID:28925528_0;Time:3383.0;\n",
      "LaneID:28925528_0;Time:3384.0;\n",
      "LaneID:28925528_0;Time:3385.0;\n",
      "LaneID:28925528_0;Time:3386.0;\n",
      "LaneID:28925528_0;Time:3387.0;\n"
     ]
    },
    {
     "name": "stderr",
     "output_type": "stream",
     "text": [
      "C:\\Users\\Administrator\\AppData\\Local\\Temp\\ipykernel_16000\\2984826684.py:101: FutureWarning: The frame.append method is deprecated and will be removed from pandas in a future version. Use pandas.concat instead.\n",
      "  redFlagRecord = redFlagRecord.append(veh, ignore_index=True)\n",
      "C:\\Users\\Administrator\\AppData\\Local\\Temp\\ipykernel_16000\\2984826684.py:101: FutureWarning: The frame.append method is deprecated and will be removed from pandas in a future version. Use pandas.concat instead.\n",
      "  redFlagRecord = redFlagRecord.append(veh, ignore_index=True)\n",
      "C:\\Users\\Administrator\\AppData\\Local\\Temp\\ipykernel_16000\\2984826684.py:101: FutureWarning: The frame.append method is deprecated and will be removed from pandas in a future version. Use pandas.concat instead.\n",
      "  redFlagRecord = redFlagRecord.append(veh, ignore_index=True)\n",
      "C:\\Users\\Administrator\\AppData\\Local\\Temp\\ipykernel_16000\\2984826684.py:101: FutureWarning: The frame.append method is deprecated and will be removed from pandas in a future version. Use pandas.concat instead.\n",
      "  redFlagRecord = redFlagRecord.append(veh, ignore_index=True)\n",
      "C:\\Users\\Administrator\\AppData\\Local\\Temp\\ipykernel_16000\\2984826684.py:101: FutureWarning: The frame.append method is deprecated and will be removed from pandas in a future version. Use pandas.concat instead.\n",
      "  redFlagRecord = redFlagRecord.append(veh, ignore_index=True)\n",
      "C:\\Users\\Administrator\\AppData\\Local\\Temp\\ipykernel_16000\\2984826684.py:101: FutureWarning: The frame.append method is deprecated and will be removed from pandas in a future version. Use pandas.concat instead.\n",
      "  redFlagRecord = redFlagRecord.append(veh, ignore_index=True)\n",
      "C:\\Users\\Administrator\\AppData\\Local\\Temp\\ipykernel_16000\\2984826684.py:101: FutureWarning: The frame.append method is deprecated and will be removed from pandas in a future version. Use pandas.concat instead.\n",
      "  redFlagRecord = redFlagRecord.append(veh, ignore_index=True)\n",
      "C:\\Users\\Administrator\\AppData\\Local\\Temp\\ipykernel_16000\\2984826684.py:101: FutureWarning: The frame.append method is deprecated and will be removed from pandas in a future version. Use pandas.concat instead.\n",
      "  redFlagRecord = redFlagRecord.append(veh, ignore_index=True)\n"
     ]
    },
    {
     "name": "stdout",
     "output_type": "stream",
     "text": [
      "LaneID:28925528_0;Time:3388.0;\n",
      "LaneID:28925528_0;Time:3389.0;\n",
      "LaneID:28925528_0;Time:3390.0;\n",
      "LaneID:28925528_0;Time:3391.0;\n",
      "LaneID:28925528_0;Time:3392.0;\n",
      "LaneID:28925528_0;Time:3393.0;\n",
      "LaneID:28925528_0;Time:3394.0;\n",
      "LaneID:28925528_0;Time:3395.0;\n"
     ]
    },
    {
     "name": "stderr",
     "output_type": "stream",
     "text": [
      "C:\\Users\\Administrator\\AppData\\Local\\Temp\\ipykernel_16000\\2984826684.py:101: FutureWarning: The frame.append method is deprecated and will be removed from pandas in a future version. Use pandas.concat instead.\n",
      "  redFlagRecord = redFlagRecord.append(veh, ignore_index=True)\n",
      "C:\\Users\\Administrator\\AppData\\Local\\Temp\\ipykernel_16000\\2984826684.py:101: FutureWarning: The frame.append method is deprecated and will be removed from pandas in a future version. Use pandas.concat instead.\n",
      "  redFlagRecord = redFlagRecord.append(veh, ignore_index=True)\n",
      "C:\\Users\\Administrator\\AppData\\Local\\Temp\\ipykernel_16000\\2984826684.py:101: FutureWarning: The frame.append method is deprecated and will be removed from pandas in a future version. Use pandas.concat instead.\n",
      "  redFlagRecord = redFlagRecord.append(veh, ignore_index=True)\n",
      "C:\\Users\\Administrator\\AppData\\Local\\Temp\\ipykernel_16000\\2984826684.py:101: FutureWarning: The frame.append method is deprecated and will be removed from pandas in a future version. Use pandas.concat instead.\n",
      "  redFlagRecord = redFlagRecord.append(veh, ignore_index=True)\n",
      "C:\\Users\\Administrator\\AppData\\Local\\Temp\\ipykernel_16000\\2984826684.py:101: FutureWarning: The frame.append method is deprecated and will be removed from pandas in a future version. Use pandas.concat instead.\n",
      "  redFlagRecord = redFlagRecord.append(veh, ignore_index=True)\n",
      "C:\\Users\\Administrator\\AppData\\Local\\Temp\\ipykernel_16000\\2984826684.py:101: FutureWarning: The frame.append method is deprecated and will be removed from pandas in a future version. Use pandas.concat instead.\n",
      "  redFlagRecord = redFlagRecord.append(veh, ignore_index=True)\n",
      "C:\\Users\\Administrator\\AppData\\Local\\Temp\\ipykernel_16000\\2984826684.py:101: FutureWarning: The frame.append method is deprecated and will be removed from pandas in a future version. Use pandas.concat instead.\n",
      "  redFlagRecord = redFlagRecord.append(veh, ignore_index=True)\n"
     ]
    },
    {
     "name": "stdout",
     "output_type": "stream",
     "text": [
      "LaneID:28925528_0;Time:3396.0;\n",
      "LaneID:28925528_0;Time:3397.0;\n",
      "LaneID:28925528_0;Time:3398.0;\n",
      "LaneID:28925528_0;Time:3399.0;\n",
      "LaneID:28925528_0;Time:3414.0;\n",
      "LaneID:28925528_0;Time:3415.0;\n",
      "LaneID:28925528_0;Time:3416.0;\n",
      "LaneID:28925528_0;Time:3417.0;\n",
      "LaneID:28925528_0;Time:3418.0;\n",
      "LaneID:28925528_0;Time:3419.0;\n",
      "LaneID:28925528_0;Time:3420.0;\n",
      "LaneID:28925528_0;Time:3421.0;\n",
      "LaneID:28925528_0;Time:3422.0;\n",
      "LaneID:28925528_0;Time:3423.0;\n",
      "LaneID:28925528_0;Time:3424.0;\n",
      "LaneID:28925528_0;Time:3425.0;\n",
      "LaneID:28925528_0;Time:3426.0;\n",
      "LaneID:28925528_0;Time:3427.0;\n",
      "LaneID:28925528_0;Time:3435.0;\n",
      "LaneID:28925528_0;Time:3436.0;\n",
      "LaneID:28925528_0;Time:3437.0;\n",
      "LaneID:28925528_0;Time:3438.0;\n",
      "LaneID:28925528_0;Time:3439.0;\n",
      "LaneID:28925528_0;Time:3440.0;\n",
      "LaneID:28925528_0;Time:3441.0;\n",
      "LaneID:28925528_0;Time:3442.0;\n",
      "LaneID:28925528_0;Time:3443.0;\n",
      "LaneID:28925528_0;Time:3444.0;\n",
      "LaneID:28925528_0;Time:3445.0;\n",
      "LaneID:28925528_0;Time:3446.0;\n",
      "LaneID:28925528_0;Time:3447.0;\n",
      "LaneID:28925528_0;Time:3448.0;\n",
      "LaneID:28925528_0;Time:3449.0;\n",
      "LaneID:28925528_0;Time:3450.0;\n"
     ]
    },
    {
     "name": "stderr",
     "output_type": "stream",
     "text": [
      "C:\\Users\\Administrator\\AppData\\Local\\Temp\\ipykernel_16000\\2984826684.py:101: FutureWarning: The frame.append method is deprecated and will be removed from pandas in a future version. Use pandas.concat instead.\n",
      "  redFlagRecord = redFlagRecord.append(veh, ignore_index=True)\n",
      "C:\\Users\\Administrator\\AppData\\Local\\Temp\\ipykernel_16000\\2984826684.py:101: FutureWarning: The frame.append method is deprecated and will be removed from pandas in a future version. Use pandas.concat instead.\n",
      "  redFlagRecord = redFlagRecord.append(veh, ignore_index=True)\n",
      "C:\\Users\\Administrator\\AppData\\Local\\Temp\\ipykernel_16000\\2984826684.py:101: FutureWarning: The frame.append method is deprecated and will be removed from pandas in a future version. Use pandas.concat instead.\n",
      "  redFlagRecord = redFlagRecord.append(veh, ignore_index=True)\n",
      "C:\\Users\\Administrator\\AppData\\Local\\Temp\\ipykernel_16000\\2984826684.py:101: FutureWarning: The frame.append method is deprecated and will be removed from pandas in a future version. Use pandas.concat instead.\n",
      "  redFlagRecord = redFlagRecord.append(veh, ignore_index=True)\n",
      "C:\\Users\\Administrator\\AppData\\Local\\Temp\\ipykernel_16000\\2984826684.py:101: FutureWarning: The frame.append method is deprecated and will be removed from pandas in a future version. Use pandas.concat instead.\n",
      "  redFlagRecord = redFlagRecord.append(veh, ignore_index=True)\n",
      "C:\\Users\\Administrator\\AppData\\Local\\Temp\\ipykernel_16000\\2984826684.py:101: FutureWarning: The frame.append method is deprecated and will be removed from pandas in a future version. Use pandas.concat instead.\n",
      "  redFlagRecord = redFlagRecord.append(veh, ignore_index=True)\n",
      "C:\\Users\\Administrator\\AppData\\Local\\Temp\\ipykernel_16000\\2984826684.py:101: FutureWarning: The frame.append method is deprecated and will be removed from pandas in a future version. Use pandas.concat instead.\n",
      "  redFlagRecord = redFlagRecord.append(veh, ignore_index=True)\n"
     ]
    },
    {
     "name": "stdout",
     "output_type": "stream",
     "text": [
      "LaneID:28925528_0;Time:3451.0;\n",
      "LaneID:28925528_0;Time:3452.0;\n",
      "LaneID:28925528_0;Time:3453.0;\n",
      "LaneID:28925528_0;Time:3454.0;\n",
      "LaneID:28925528_0;Time:3455.0;\n",
      "LaneID:28925528_0;Time:3456.0;\n",
      "LaneID:28925528_0;Time:3457.0;\n"
     ]
    },
    {
     "name": "stderr",
     "output_type": "stream",
     "text": [
      "C:\\Users\\Administrator\\AppData\\Local\\Temp\\ipykernel_16000\\2984826684.py:101: FutureWarning: The frame.append method is deprecated and will be removed from pandas in a future version. Use pandas.concat instead.\n",
      "  redFlagRecord = redFlagRecord.append(veh, ignore_index=True)\n",
      "C:\\Users\\Administrator\\AppData\\Local\\Temp\\ipykernel_16000\\2984826684.py:101: FutureWarning: The frame.append method is deprecated and will be removed from pandas in a future version. Use pandas.concat instead.\n",
      "  redFlagRecord = redFlagRecord.append(veh, ignore_index=True)\n",
      "C:\\Users\\Administrator\\AppData\\Local\\Temp\\ipykernel_16000\\2984826684.py:101: FutureWarning: The frame.append method is deprecated and will be removed from pandas in a future version. Use pandas.concat instead.\n",
      "  redFlagRecord = redFlagRecord.append(veh, ignore_index=True)\n",
      "C:\\Users\\Administrator\\AppData\\Local\\Temp\\ipykernel_16000\\2984826684.py:101: FutureWarning: The frame.append method is deprecated and will be removed from pandas in a future version. Use pandas.concat instead.\n",
      "  redFlagRecord = redFlagRecord.append(veh, ignore_index=True)\n",
      "C:\\Users\\Administrator\\AppData\\Local\\Temp\\ipykernel_16000\\2984826684.py:101: FutureWarning: The frame.append method is deprecated and will be removed from pandas in a future version. Use pandas.concat instead.\n",
      "  redFlagRecord = redFlagRecord.append(veh, ignore_index=True)\n",
      "C:\\Users\\Administrator\\AppData\\Local\\Temp\\ipykernel_16000\\2984826684.py:101: FutureWarning: The frame.append method is deprecated and will be removed from pandas in a future version. Use pandas.concat instead.\n",
      "  redFlagRecord = redFlagRecord.append(veh, ignore_index=True)\n",
      "C:\\Users\\Administrator\\AppData\\Local\\Temp\\ipykernel_16000\\2984826684.py:101: FutureWarning: The frame.append method is deprecated and will be removed from pandas in a future version. Use pandas.concat instead.\n",
      "  redFlagRecord = redFlagRecord.append(veh, ignore_index=True)\n",
      "C:\\Users\\Administrator\\AppData\\Local\\Temp\\ipykernel_16000\\2984826684.py:101: FutureWarning: The frame.append method is deprecated and will be removed from pandas in a future version. Use pandas.concat instead.\n",
      "  redFlagRecord = redFlagRecord.append(veh, ignore_index=True)\n",
      "C:\\Users\\Administrator\\AppData\\Local\\Temp\\ipykernel_16000\\2984826684.py:101: FutureWarning: The frame.append method is deprecated and will be removed from pandas in a future version. Use pandas.concat instead.\n",
      "  redFlagRecord = redFlagRecord.append(veh, ignore_index=True)\n",
      "C:\\Users\\Administrator\\AppData\\Local\\Temp\\ipykernel_16000\\2984826684.py:101: FutureWarning: The frame.append method is deprecated and will be removed from pandas in a future version. Use pandas.concat instead.\n",
      "  redFlagRecord = redFlagRecord.append(veh, ignore_index=True)\n",
      "C:\\Users\\Administrator\\AppData\\Local\\Temp\\ipykernel_16000\\2984826684.py:101: FutureWarning: The frame.append method is deprecated and will be removed from pandas in a future version. Use pandas.concat instead.\n",
      "  redFlagRecord = redFlagRecord.append(veh, ignore_index=True)\n",
      "C:\\Users\\Administrator\\AppData\\Local\\Temp\\ipykernel_16000\\2984826684.py:101: FutureWarning: The frame.append method is deprecated and will be removed from pandas in a future version. Use pandas.concat instead.\n",
      "  redFlagRecord = redFlagRecord.append(veh, ignore_index=True)\n"
     ]
    },
    {
     "name": "stdout",
     "output_type": "stream",
     "text": [
      "LaneID:28925528_0;Time:3458.0;\n",
      "LaneID:28925528_0;Time:3459.0;\n",
      "LaneID:28925528_0;Time:3460.0;\n",
      "LaneID:28925528_0;Time:3461.0;\n",
      "LaneID:28925528_0;Time:3462.0;\n",
      "LaneID:28925528_0;Time:3476.0;\n",
      "LaneID:28925528_0;Time:3477.0;\n",
      "LaneID:28925528_0;Time:3478.0;\n",
      "LaneID:28925528_0;Time:3479.0;\n",
      "LaneID:28925528_0;Time:3480.0;\n",
      "LaneID:28925528_0;Time:3481.0;\n",
      "LaneID:28925528_0;Time:3482.0;\n",
      "LaneID:28925528_0;Time:3483.0;\n",
      "LaneID:28925528_0;Time:3484.0;\n",
      "LaneID:28925528_0;Time:3485.0;\n",
      "LaneID:28925528_0;Time:3486.0;\n",
      "LaneID:28925528_0;Time:3487.0;\n",
      "LaneID:28925528_0;Time:3488.0;\n",
      "LaneID:28925528_0;Time:3489.0;\n",
      "LaneID:28925528_0;Time:3497.0;\n",
      "LaneID:28925528_0;Time:3498.0;\n",
      "LaneID:28925528_0;Time:3499.0;\n",
      "LaneID:28925528_0;Time:3500.0;\n",
      "LaneID:28925528_0;Time:3501.0;\n",
      "LaneID:28925528_0;Time:3502.0;\n",
      "LaneID:28925528_0;Time:3503.0;\n",
      "LaneID:28925528_0;Time:3504.0;\n",
      "LaneID:28925528_0;Time:3505.0;\n",
      "LaneID:28925528_0;Time:3506.0;\n"
     ]
    },
    {
     "name": "stderr",
     "output_type": "stream",
     "text": [
      "C:\\Users\\Administrator\\AppData\\Local\\Temp\\ipykernel_16000\\2984826684.py:101: FutureWarning: The frame.append method is deprecated and will be removed from pandas in a future version. Use pandas.concat instead.\n",
      "  redFlagRecord = redFlagRecord.append(veh, ignore_index=True)\n",
      "C:\\Users\\Administrator\\AppData\\Local\\Temp\\ipykernel_16000\\2984826684.py:101: FutureWarning: The frame.append method is deprecated and will be removed from pandas in a future version. Use pandas.concat instead.\n",
      "  redFlagRecord = redFlagRecord.append(veh, ignore_index=True)\n",
      "C:\\Users\\Administrator\\AppData\\Local\\Temp\\ipykernel_16000\\2984826684.py:101: FutureWarning: The frame.append method is deprecated and will be removed from pandas in a future version. Use pandas.concat instead.\n",
      "  redFlagRecord = redFlagRecord.append(veh, ignore_index=True)\n",
      "C:\\Users\\Administrator\\AppData\\Local\\Temp\\ipykernel_16000\\2984826684.py:101: FutureWarning: The frame.append method is deprecated and will be removed from pandas in a future version. Use pandas.concat instead.\n",
      "  redFlagRecord = redFlagRecord.append(veh, ignore_index=True)\n",
      "C:\\Users\\Administrator\\AppData\\Local\\Temp\\ipykernel_16000\\2984826684.py:101: FutureWarning: The frame.append method is deprecated and will be removed from pandas in a future version. Use pandas.concat instead.\n",
      "  redFlagRecord = redFlagRecord.append(veh, ignore_index=True)\n",
      "C:\\Users\\Administrator\\AppData\\Local\\Temp\\ipykernel_16000\\2984826684.py:101: FutureWarning: The frame.append method is deprecated and will be removed from pandas in a future version. Use pandas.concat instead.\n",
      "  redFlagRecord = redFlagRecord.append(veh, ignore_index=True)\n",
      "C:\\Users\\Administrator\\AppData\\Local\\Temp\\ipykernel_16000\\2984826684.py:101: FutureWarning: The frame.append method is deprecated and will be removed from pandas in a future version. Use pandas.concat instead.\n",
      "  redFlagRecord = redFlagRecord.append(veh, ignore_index=True)\n"
     ]
    },
    {
     "name": "stdout",
     "output_type": "stream",
     "text": [
      "LaneID:28925528_0;Time:3507.0;\n",
      "LaneID:28925528_0;Time:3508.0;\n",
      "LaneID:28925528_0;Time:3509.0;\n",
      "LaneID:28925528_0;Time:3510.0;\n",
      "LaneID:28925528_0;Time:3511.0;\n",
      "LaneID:28925528_0;Time:3512.0;\n",
      "LaneID:28925528_0;Time:3513.0;\n"
     ]
    },
    {
     "name": "stderr",
     "output_type": "stream",
     "text": [
      "C:\\Users\\Administrator\\AppData\\Local\\Temp\\ipykernel_16000\\2984826684.py:101: FutureWarning: The frame.append method is deprecated and will be removed from pandas in a future version. Use pandas.concat instead.\n",
      "  redFlagRecord = redFlagRecord.append(veh, ignore_index=True)\n",
      "C:\\Users\\Administrator\\AppData\\Local\\Temp\\ipykernel_16000\\2984826684.py:101: FutureWarning: The frame.append method is deprecated and will be removed from pandas in a future version. Use pandas.concat instead.\n",
      "  redFlagRecord = redFlagRecord.append(veh, ignore_index=True)\n",
      "C:\\Users\\Administrator\\AppData\\Local\\Temp\\ipykernel_16000\\2984826684.py:101: FutureWarning: The frame.append method is deprecated and will be removed from pandas in a future version. Use pandas.concat instead.\n",
      "  redFlagRecord = redFlagRecord.append(veh, ignore_index=True)\n",
      "C:\\Users\\Administrator\\AppData\\Local\\Temp\\ipykernel_16000\\2984826684.py:101: FutureWarning: The frame.append method is deprecated and will be removed from pandas in a future version. Use pandas.concat instead.\n",
      "  redFlagRecord = redFlagRecord.append(veh, ignore_index=True)\n",
      "C:\\Users\\Administrator\\AppData\\Local\\Temp\\ipykernel_16000\\2984826684.py:101: FutureWarning: The frame.append method is deprecated and will be removed from pandas in a future version. Use pandas.concat instead.\n",
      "  redFlagRecord = redFlagRecord.append(veh, ignore_index=True)\n",
      "C:\\Users\\Administrator\\AppData\\Local\\Temp\\ipykernel_16000\\2984826684.py:101: FutureWarning: The frame.append method is deprecated and will be removed from pandas in a future version. Use pandas.concat instead.\n",
      "  redFlagRecord = redFlagRecord.append(veh, ignore_index=True)\n",
      "C:\\Users\\Administrator\\AppData\\Local\\Temp\\ipykernel_16000\\2984826684.py:101: FutureWarning: The frame.append method is deprecated and will be removed from pandas in a future version. Use pandas.concat instead.\n",
      "  redFlagRecord = redFlagRecord.append(veh, ignore_index=True)\n"
     ]
    },
    {
     "name": "stdout",
     "output_type": "stream",
     "text": [
      "LaneID:28925528_0;Time:3514.0;\n",
      "LaneID:28925528_0;Time:3515.0;\n",
      "LaneID:28925528_0;Time:3516.0;\n",
      "LaneID:28925528_0;Time:3517.0;\n",
      "LaneID:28925528_0;Time:3518.0;\n",
      "LaneID:28925528_0;Time:3519.0;\n",
      "LaneID:28925528_0;Time:3520.0;\n"
     ]
    },
    {
     "name": "stderr",
     "output_type": "stream",
     "text": [
      "C:\\Users\\Administrator\\AppData\\Local\\Temp\\ipykernel_16000\\2984826684.py:101: FutureWarning: The frame.append method is deprecated and will be removed from pandas in a future version. Use pandas.concat instead.\n",
      "  redFlagRecord = redFlagRecord.append(veh, ignore_index=True)\n",
      "C:\\Users\\Administrator\\AppData\\Local\\Temp\\ipykernel_16000\\2984826684.py:101: FutureWarning: The frame.append method is deprecated and will be removed from pandas in a future version. Use pandas.concat instead.\n",
      "  redFlagRecord = redFlagRecord.append(veh, ignore_index=True)\n",
      "C:\\Users\\Administrator\\AppData\\Local\\Temp\\ipykernel_16000\\2984826684.py:101: FutureWarning: The frame.append method is deprecated and will be removed from pandas in a future version. Use pandas.concat instead.\n",
      "  redFlagRecord = redFlagRecord.append(veh, ignore_index=True)\n",
      "C:\\Users\\Administrator\\AppData\\Local\\Temp\\ipykernel_16000\\2984826684.py:101: FutureWarning: The frame.append method is deprecated and will be removed from pandas in a future version. Use pandas.concat instead.\n",
      "  redFlagRecord = redFlagRecord.append(veh, ignore_index=True)\n",
      "C:\\Users\\Administrator\\AppData\\Local\\Temp\\ipykernel_16000\\2984826684.py:101: FutureWarning: The frame.append method is deprecated and will be removed from pandas in a future version. Use pandas.concat instead.\n",
      "  redFlagRecord = redFlagRecord.append(veh, ignore_index=True)\n",
      "C:\\Users\\Administrator\\AppData\\Local\\Temp\\ipykernel_16000\\2984826684.py:101: FutureWarning: The frame.append method is deprecated and will be removed from pandas in a future version. Use pandas.concat instead.\n",
      "  redFlagRecord = redFlagRecord.append(veh, ignore_index=True)\n",
      "C:\\Users\\Administrator\\AppData\\Local\\Temp\\ipykernel_16000\\2984826684.py:101: FutureWarning: The frame.append method is deprecated and will be removed from pandas in a future version. Use pandas.concat instead.\n",
      "  redFlagRecord = redFlagRecord.append(veh, ignore_index=True)\n"
     ]
    },
    {
     "name": "stdout",
     "output_type": "stream",
     "text": [
      "LaneID:28925528_0;Time:3521.0;\n",
      "LaneID:28925528_0;Time:3522.0;\n",
      "LaneID:28925528_0;Time:3523.0;\n",
      "LaneID:28925528_0;Time:3524.0;\n",
      "LaneID:28925528_0;Time:3539.0;\n",
      "LaneID:28925528_0;Time:3540.0;\n",
      "LaneID:28925528_0;Time:3541.0;\n",
      "LaneID:28925528_0;Time:3542.0;\n",
      "LaneID:28925528_0;Time:3543.0;\n",
      "LaneID:28925528_0;Time:3544.0;\n",
      "LaneID:28925528_0;Time:3545.0;\n",
      "LaneID:28925528_0;Time:3546.0;\n",
      "LaneID:28925528_0;Time:3547.0;\n",
      "LaneID:28925528_0;Time:3548.0;\n",
      "LaneID:28925528_0;Time:3549.0;\n",
      "LaneID:28925528_0;Time:3550.0;\n",
      "LaneID:28925528_0;Time:3551.0;\n",
      "LaneID:28925528_0;Time:3559.0;\n",
      "LaneID:28925528_0;Time:3560.0;\n",
      "LaneID:28925528_0;Time:3561.0;\n",
      "LaneID:28925528_0;Time:3562.0;\n",
      "LaneID:28925528_0;Time:3563.0;\n",
      "LaneID:28925528_0;Time:3564.0;\n",
      "LaneID:28925528_0;Time:3565.0;\n",
      "LaneID:28925528_0;Time:3566.0;\n",
      "LaneID:28925528_0;Time:3567.0;\n",
      "LaneID:28925528_0;Time:3568.0;\n",
      "LaneID:28925528_0;Time:3569.0;\n",
      "LaneID:28925528_0;Time:3570.0;\n"
     ]
    },
    {
     "name": "stderr",
     "output_type": "stream",
     "text": [
      "C:\\Users\\Administrator\\AppData\\Local\\Temp\\ipykernel_16000\\2984826684.py:101: FutureWarning: The frame.append method is deprecated and will be removed from pandas in a future version. Use pandas.concat instead.\n",
      "  redFlagRecord = redFlagRecord.append(veh, ignore_index=True)\n",
      "C:\\Users\\Administrator\\AppData\\Local\\Temp\\ipykernel_16000\\2984826684.py:101: FutureWarning: The frame.append method is deprecated and will be removed from pandas in a future version. Use pandas.concat instead.\n",
      "  redFlagRecord = redFlagRecord.append(veh, ignore_index=True)\n",
      "C:\\Users\\Administrator\\AppData\\Local\\Temp\\ipykernel_16000\\2984826684.py:101: FutureWarning: The frame.append method is deprecated and will be removed from pandas in a future version. Use pandas.concat instead.\n",
      "  redFlagRecord = redFlagRecord.append(veh, ignore_index=True)\n",
      "C:\\Users\\Administrator\\AppData\\Local\\Temp\\ipykernel_16000\\2984826684.py:101: FutureWarning: The frame.append method is deprecated and will be removed from pandas in a future version. Use pandas.concat instead.\n",
      "  redFlagRecord = redFlagRecord.append(veh, ignore_index=True)\n",
      "C:\\Users\\Administrator\\AppData\\Local\\Temp\\ipykernel_16000\\2984826684.py:101: FutureWarning: The frame.append method is deprecated and will be removed from pandas in a future version. Use pandas.concat instead.\n",
      "  redFlagRecord = redFlagRecord.append(veh, ignore_index=True)\n",
      "C:\\Users\\Administrator\\AppData\\Local\\Temp\\ipykernel_16000\\2984826684.py:101: FutureWarning: The frame.append method is deprecated and will be removed from pandas in a future version. Use pandas.concat instead.\n",
      "  redFlagRecord = redFlagRecord.append(veh, ignore_index=True)\n",
      "C:\\Users\\Administrator\\AppData\\Local\\Temp\\ipykernel_16000\\2984826684.py:101: FutureWarning: The frame.append method is deprecated and will be removed from pandas in a future version. Use pandas.concat instead.\n",
      "  redFlagRecord = redFlagRecord.append(veh, ignore_index=True)\n"
     ]
    },
    {
     "name": "stdout",
     "output_type": "stream",
     "text": [
      "LaneID:28925528_0;Time:3571.0;\n",
      "LaneID:28925528_0;Time:3572.0;\n",
      "LaneID:28925528_0;Time:3573.0;\n",
      "LaneID:28925528_0;Time:3574.0;\n",
      "LaneID:28925528_0;Time:3575.0;\n",
      "LaneID:28925528_0;Time:3576.0;\n",
      "LaneID:28925528_0;Time:3577.0;\n"
     ]
    },
    {
     "name": "stderr",
     "output_type": "stream",
     "text": [
      "C:\\Users\\Administrator\\AppData\\Local\\Temp\\ipykernel_16000\\2984826684.py:101: FutureWarning: The frame.append method is deprecated and will be removed from pandas in a future version. Use pandas.concat instead.\n",
      "  redFlagRecord = redFlagRecord.append(veh, ignore_index=True)\n",
      "C:\\Users\\Administrator\\AppData\\Local\\Temp\\ipykernel_16000\\2984826684.py:101: FutureWarning: The frame.append method is deprecated and will be removed from pandas in a future version. Use pandas.concat instead.\n",
      "  redFlagRecord = redFlagRecord.append(veh, ignore_index=True)\n",
      "C:\\Users\\Administrator\\AppData\\Local\\Temp\\ipykernel_16000\\2984826684.py:101: FutureWarning: The frame.append method is deprecated and will be removed from pandas in a future version. Use pandas.concat instead.\n",
      "  redFlagRecord = redFlagRecord.append(veh, ignore_index=True)\n",
      "C:\\Users\\Administrator\\AppData\\Local\\Temp\\ipykernel_16000\\2984826684.py:101: FutureWarning: The frame.append method is deprecated and will be removed from pandas in a future version. Use pandas.concat instead.\n",
      "  redFlagRecord = redFlagRecord.append(veh, ignore_index=True)\n",
      "C:\\Users\\Administrator\\AppData\\Local\\Temp\\ipykernel_16000\\2984826684.py:101: FutureWarning: The frame.append method is deprecated and will be removed from pandas in a future version. Use pandas.concat instead.\n",
      "  redFlagRecord = redFlagRecord.append(veh, ignore_index=True)\n",
      "C:\\Users\\Administrator\\AppData\\Local\\Temp\\ipykernel_16000\\2984826684.py:101: FutureWarning: The frame.append method is deprecated and will be removed from pandas in a future version. Use pandas.concat instead.\n",
      "  redFlagRecord = redFlagRecord.append(veh, ignore_index=True)\n"
     ]
    },
    {
     "name": "stdout",
     "output_type": "stream",
     "text": [
      "LaneID:28925528_0;Time:3578.0;\n",
      "LaneID:28925528_0;Time:3579.0;\n",
      "LaneID:28925528_0;Time:3580.0;\n",
      "LaneID:28925528_0;Time:3581.0;\n",
      "LaneID:28925528_0;Time:3582.0;\n",
      "LaneID:28925528_0;Time:3583.0;\n",
      "LaneID:28925528_0;Time:3584.0;\n",
      "LaneID:28925528_0;Time:3585.0;\n",
      "LaneID:28925528_0;Time:3586.0;\n",
      "LaneID:28925528_0;Time:3587.0;\n",
      "LaneID:28925528_0;Time:3601.0;\n",
      "LaneID:28925528_0;Time:3602.0;\n",
      "LaneID:28925528_0;Time:3603.0;\n",
      "LaneID:28925528_0;Time:3604.0;\n",
      "LaneID:28925528_0;Time:3605.0;\n",
      "LaneID:28925528_0;Time:3606.0;\n",
      "LaneID:28925528_0;Time:3607.0;\n",
      "LaneID:28925528_0;Time:3608.0;\n",
      "LaneID:28925528_0;Time:3609.0;\n",
      "LaneID:28925528_0;Time:3610.0;\n",
      "LaneID:28925528_0;Time:3611.0;\n"
     ]
    },
    {
     "name": "stderr",
     "output_type": "stream",
     "text": [
      "C:\\Users\\Administrator\\AppData\\Local\\Temp\\ipykernel_16000\\2984826684.py:101: FutureWarning: The frame.append method is deprecated and will be removed from pandas in a future version. Use pandas.concat instead.\n",
      "  redFlagRecord = redFlagRecord.append(veh, ignore_index=True)\n",
      "C:\\Users\\Administrator\\AppData\\Local\\Temp\\ipykernel_16000\\2984826684.py:101: FutureWarning: The frame.append method is deprecated and will be removed from pandas in a future version. Use pandas.concat instead.\n",
      "  redFlagRecord = redFlagRecord.append(veh, ignore_index=True)\n",
      "C:\\Users\\Administrator\\AppData\\Local\\Temp\\ipykernel_16000\\2984826684.py:101: FutureWarning: The frame.append method is deprecated and will be removed from pandas in a future version. Use pandas.concat instead.\n",
      "  redFlagRecord = redFlagRecord.append(veh, ignore_index=True)\n",
      "C:\\Users\\Administrator\\AppData\\Local\\Temp\\ipykernel_16000\\2984826684.py:101: FutureWarning: The frame.append method is deprecated and will be removed from pandas in a future version. Use pandas.concat instead.\n",
      "  redFlagRecord = redFlagRecord.append(veh, ignore_index=True)\n",
      "C:\\Users\\Administrator\\AppData\\Local\\Temp\\ipykernel_16000\\2984826684.py:101: FutureWarning: The frame.append method is deprecated and will be removed from pandas in a future version. Use pandas.concat instead.\n",
      "  redFlagRecord = redFlagRecord.append(veh, ignore_index=True)\n",
      "C:\\Users\\Administrator\\AppData\\Local\\Temp\\ipykernel_16000\\2984826684.py:101: FutureWarning: The frame.append method is deprecated and will be removed from pandas in a future version. Use pandas.concat instead.\n",
      "  redFlagRecord = redFlagRecord.append(veh, ignore_index=True)\n",
      "C:\\Users\\Administrator\\AppData\\Local\\Temp\\ipykernel_16000\\2984826684.py:101: FutureWarning: The frame.append method is deprecated and will be removed from pandas in a future version. Use pandas.concat instead.\n",
      "  redFlagRecord = redFlagRecord.append(veh, ignore_index=True)\n"
     ]
    },
    {
     "name": "stdout",
     "output_type": "stream",
     "text": [
      "LaneID:28925528_0;Time:3612.0;\n",
      "LaneID:28925528_0;Time:3613.0;\n",
      "LaneID:28925528_0;Time:3676.0;\n",
      "LaneID:28925528_0;Time:3677.0;\n",
      "LaneID:28925528_0;Time:3678.0;\n",
      "LaneID:28925528_0;Time:3679.0;\n",
      "LaneID:28925528_0;Time:3680.0;\n",
      "LaneID:28925528_0;Time:3681.0;\n",
      "LaneID:28925528_0;Time:3682.0;\n",
      "LaneID:28925528_0;Time:3683.0;\n",
      "LaneID:28925528_0;Time:3684.0;\n",
      "LaneID:28925528_0;Time:3685.0;\n",
      "LaneID:28925528_0;Time:3686.0;\n",
      "LaneID:28925528_0;Time:3687.0;\n",
      "LaneID:28925528_0;Time:3688.0;\n",
      "LaneID:28925528_0;Time:3689.0;\n"
     ]
    },
    {
     "name": "stderr",
     "output_type": "stream",
     "text": [
      "C:\\Users\\Administrator\\AppData\\Local\\Temp\\ipykernel_16000\\2984826684.py:101: FutureWarning: The frame.append method is deprecated and will be removed from pandas in a future version. Use pandas.concat instead.\n",
      "  redFlagRecord = redFlagRecord.append(veh, ignore_index=True)\n",
      "C:\\Users\\Administrator\\AppData\\Local\\Temp\\ipykernel_16000\\2984826684.py:101: FutureWarning: The frame.append method is deprecated and will be removed from pandas in a future version. Use pandas.concat instead.\n",
      "  redFlagRecord = redFlagRecord.append(veh, ignore_index=True)\n",
      "C:\\Users\\Administrator\\AppData\\Local\\Temp\\ipykernel_16000\\2984826684.py:101: FutureWarning: The frame.append method is deprecated and will be removed from pandas in a future version. Use pandas.concat instead.\n",
      "  redFlagRecord = redFlagRecord.append(veh, ignore_index=True)\n",
      "C:\\Users\\Administrator\\AppData\\Local\\Temp\\ipykernel_16000\\2984826684.py:101: FutureWarning: The frame.append method is deprecated and will be removed from pandas in a future version. Use pandas.concat instead.\n",
      "  redFlagRecord = redFlagRecord.append(veh, ignore_index=True)\n",
      "C:\\Users\\Administrator\\AppData\\Local\\Temp\\ipykernel_16000\\2984826684.py:101: FutureWarning: The frame.append method is deprecated and will be removed from pandas in a future version. Use pandas.concat instead.\n",
      "  redFlagRecord = redFlagRecord.append(veh, ignore_index=True)\n",
      "C:\\Users\\Administrator\\AppData\\Local\\Temp\\ipykernel_16000\\2984826684.py:101: FutureWarning: The frame.append method is deprecated and will be removed from pandas in a future version. Use pandas.concat instead.\n",
      "  redFlagRecord = redFlagRecord.append(veh, ignore_index=True)\n"
     ]
    },
    {
     "name": "stdout",
     "output_type": "stream",
     "text": [
      "LaneID:28925528_0;Time:3690.0;\n",
      "LaneID:28925528_0;Time:3691.0;\n",
      "LaneID:28925528_0;Time:3692.0;\n",
      "LaneID:28925528_0;Time:3693.0;\n",
      "LaneID:28925528_0;Time:3694.0;\n",
      "LaneID:28925528_0;Time:3695.0;\n",
      "LaneID:28925528_0;Time:3696.0;\n"
     ]
    },
    {
     "name": "stderr",
     "output_type": "stream",
     "text": [
      "C:\\Users\\Administrator\\AppData\\Local\\Temp\\ipykernel_16000\\2984826684.py:101: FutureWarning: The frame.append method is deprecated and will be removed from pandas in a future version. Use pandas.concat instead.\n",
      "  redFlagRecord = redFlagRecord.append(veh, ignore_index=True)\n",
      "C:\\Users\\Administrator\\AppData\\Local\\Temp\\ipykernel_16000\\2984826684.py:101: FutureWarning: The frame.append method is deprecated and will be removed from pandas in a future version. Use pandas.concat instead.\n",
      "  redFlagRecord = redFlagRecord.append(veh, ignore_index=True)\n",
      "C:\\Users\\Administrator\\AppData\\Local\\Temp\\ipykernel_16000\\2984826684.py:101: FutureWarning: The frame.append method is deprecated and will be removed from pandas in a future version. Use pandas.concat instead.\n",
      "  redFlagRecord = redFlagRecord.append(veh, ignore_index=True)\n",
      "C:\\Users\\Administrator\\AppData\\Local\\Temp\\ipykernel_16000\\2984826684.py:101: FutureWarning: The frame.append method is deprecated and will be removed from pandas in a future version. Use pandas.concat instead.\n",
      "  redFlagRecord = redFlagRecord.append(veh, ignore_index=True)\n",
      "C:\\Users\\Administrator\\AppData\\Local\\Temp\\ipykernel_16000\\2984826684.py:101: FutureWarning: The frame.append method is deprecated and will be removed from pandas in a future version. Use pandas.concat instead.\n",
      "  redFlagRecord = redFlagRecord.append(veh, ignore_index=True)\n",
      "C:\\Users\\Administrator\\AppData\\Local\\Temp\\ipykernel_16000\\2984826684.py:101: FutureWarning: The frame.append method is deprecated and will be removed from pandas in a future version. Use pandas.concat instead.\n",
      "  redFlagRecord = redFlagRecord.append(veh, ignore_index=True)\n",
      "C:\\Users\\Administrator\\AppData\\Local\\Temp\\ipykernel_16000\\2984826684.py:101: FutureWarning: The frame.append method is deprecated and will be removed from pandas in a future version. Use pandas.concat instead.\n",
      "  redFlagRecord = redFlagRecord.append(veh, ignore_index=True)\n"
     ]
    },
    {
     "name": "stdout",
     "output_type": "stream",
     "text": [
      "LaneID:28925528_0;Time:3697.0;\n",
      "LaneID:28925528_0;Time:3698.0;\n",
      "LaneID:28925528_0;Time:3699.0;\n",
      "LaneID:28925528_0;Time:3700.0;\n",
      "LaneID:28925528_0;Time:3701.0;\n",
      "LaneID:28925528_0;Time:3702.0;\n"
     ]
    },
    {
     "name": "stderr",
     "output_type": "stream",
     "text": [
      "C:\\Users\\Administrator\\AppData\\Local\\Temp\\ipykernel_16000\\2984826684.py:101: FutureWarning: The frame.append method is deprecated and will be removed from pandas in a future version. Use pandas.concat instead.\n",
      "  redFlagRecord = redFlagRecord.append(veh, ignore_index=True)\n",
      "C:\\Users\\Administrator\\AppData\\Local\\Temp\\ipykernel_16000\\2984826684.py:101: FutureWarning: The frame.append method is deprecated and will be removed from pandas in a future version. Use pandas.concat instead.\n",
      "  redFlagRecord = redFlagRecord.append(veh, ignore_index=True)\n",
      "C:\\Users\\Administrator\\AppData\\Local\\Temp\\ipykernel_16000\\2984826684.py:101: FutureWarning: The frame.append method is deprecated and will be removed from pandas in a future version. Use pandas.concat instead.\n",
      "  redFlagRecord = redFlagRecord.append(veh, ignore_index=True)\n",
      "C:\\Users\\Administrator\\AppData\\Local\\Temp\\ipykernel_16000\\2984826684.py:101: FutureWarning: The frame.append method is deprecated and will be removed from pandas in a future version. Use pandas.concat instead.\n",
      "  redFlagRecord = redFlagRecord.append(veh, ignore_index=True)\n",
      "C:\\Users\\Administrator\\AppData\\Local\\Temp\\ipykernel_16000\\2984826684.py:101: FutureWarning: The frame.append method is deprecated and will be removed from pandas in a future version. Use pandas.concat instead.\n",
      "  redFlagRecord = redFlagRecord.append(veh, ignore_index=True)\n"
     ]
    },
    {
     "name": "stdout",
     "output_type": "stream",
     "text": [
      "LaneID:28925528_0;Time:3703.0;\n",
      "LaneID:28925528_0;Time:3704.0;\n",
      "LaneID:28925528_0;Time:3705.0;\n",
      "LaneID:28925528_0;Time:3706.0;\n",
      "LaneID:28925528_0;Time:3714.0;\n",
      "LaneID:28925528_0;Time:3715.0;\n",
      "LaneID:28925528_0;Time:3716.0;\n",
      "LaneID:28925528_0;Time:3717.0;\n",
      "LaneID:28925528_0;Time:3718.0;\n",
      "LaneID:28925528_0;Time:3719.0;\n",
      "LaneID:28925528_0;Time:3720.0;\n",
      "LaneID:28925528_0;Time:3727.0;\n"
     ]
    },
    {
     "name": "stderr",
     "output_type": "stream",
     "text": [
      "C:\\Users\\Administrator\\AppData\\Local\\Temp\\ipykernel_16000\\2984826684.py:101: FutureWarning: The frame.append method is deprecated and will be removed from pandas in a future version. Use pandas.concat instead.\n",
      "  redFlagRecord = redFlagRecord.append(veh, ignore_index=True)\n",
      "C:\\Users\\Administrator\\AppData\\Local\\Temp\\ipykernel_16000\\2984826684.py:101: FutureWarning: The frame.append method is deprecated and will be removed from pandas in a future version. Use pandas.concat instead.\n",
      "  redFlagRecord = redFlagRecord.append(veh, ignore_index=True)\n",
      "C:\\Users\\Administrator\\AppData\\Local\\Temp\\ipykernel_16000\\2984826684.py:101: FutureWarning: The frame.append method is deprecated and will be removed from pandas in a future version. Use pandas.concat instead.\n",
      "  redFlagRecord = redFlagRecord.append(veh, ignore_index=True)\n",
      "C:\\Users\\Administrator\\AppData\\Local\\Temp\\ipykernel_16000\\2984826684.py:101: FutureWarning: The frame.append method is deprecated and will be removed from pandas in a future version. Use pandas.concat instead.\n",
      "  redFlagRecord = redFlagRecord.append(veh, ignore_index=True)\n",
      "C:\\Users\\Administrator\\AppData\\Local\\Temp\\ipykernel_16000\\2984826684.py:101: FutureWarning: The frame.append method is deprecated and will be removed from pandas in a future version. Use pandas.concat instead.\n",
      "  redFlagRecord = redFlagRecord.append(veh, ignore_index=True)\n",
      "C:\\Users\\Administrator\\AppData\\Local\\Temp\\ipykernel_16000\\2984826684.py:101: FutureWarning: The frame.append method is deprecated and will be removed from pandas in a future version. Use pandas.concat instead.\n",
      "  redFlagRecord = redFlagRecord.append(veh, ignore_index=True)\n",
      "C:\\Users\\Administrator\\AppData\\Local\\Temp\\ipykernel_16000\\2984826684.py:101: FutureWarning: The frame.append method is deprecated and will be removed from pandas in a future version. Use pandas.concat instead.\n",
      "  redFlagRecord = redFlagRecord.append(veh, ignore_index=True)\n",
      "C:\\Users\\Administrator\\AppData\\Local\\Temp\\ipykernel_16000\\2984826684.py:101: FutureWarning: The frame.append method is deprecated and will be removed from pandas in a future version. Use pandas.concat instead.\n",
      "  redFlagRecord = redFlagRecord.append(veh, ignore_index=True)\n"
     ]
    },
    {
     "name": "stdout",
     "output_type": "stream",
     "text": [
      "LaneID:28925528_0;Time:3728.0;\n",
      "LaneID:28925528_0;Time:3729.0;\n",
      "LaneID:28925528_0;Time:3730.0;\n",
      "LaneID:28925528_0;Time:3731.0;\n",
      "LaneID:28925528_0;Time:3732.0;\n",
      "LaneID:28925528_0;Time:3733.0;\n",
      "LaneID:28925528_0;Time:3734.0;\n",
      "LaneID:28925528_0;Time:3735.0;\n"
     ]
    },
    {
     "name": "stderr",
     "output_type": "stream",
     "text": [
      "C:\\Users\\Administrator\\AppData\\Local\\Temp\\ipykernel_16000\\2984826684.py:101: FutureWarning: The frame.append method is deprecated and will be removed from pandas in a future version. Use pandas.concat instead.\n",
      "  redFlagRecord = redFlagRecord.append(veh, ignore_index=True)\n",
      "C:\\Users\\Administrator\\AppData\\Local\\Temp\\ipykernel_16000\\2984826684.py:101: FutureWarning: The frame.append method is deprecated and will be removed from pandas in a future version. Use pandas.concat instead.\n",
      "  redFlagRecord = redFlagRecord.append(veh, ignore_index=True)\n",
      "C:\\Users\\Administrator\\AppData\\Local\\Temp\\ipykernel_16000\\2984826684.py:101: FutureWarning: The frame.append method is deprecated and will be removed from pandas in a future version. Use pandas.concat instead.\n",
      "  redFlagRecord = redFlagRecord.append(veh, ignore_index=True)\n",
      "C:\\Users\\Administrator\\AppData\\Local\\Temp\\ipykernel_16000\\2984826684.py:101: FutureWarning: The frame.append method is deprecated and will be removed from pandas in a future version. Use pandas.concat instead.\n",
      "  redFlagRecord = redFlagRecord.append(veh, ignore_index=True)\n",
      "C:\\Users\\Administrator\\AppData\\Local\\Temp\\ipykernel_16000\\2984826684.py:101: FutureWarning: The frame.append method is deprecated and will be removed from pandas in a future version. Use pandas.concat instead.\n",
      "  redFlagRecord = redFlagRecord.append(veh, ignore_index=True)\n",
      "C:\\Users\\Administrator\\AppData\\Local\\Temp\\ipykernel_16000\\2984826684.py:101: FutureWarning: The frame.append method is deprecated and will be removed from pandas in a future version. Use pandas.concat instead.\n",
      "  redFlagRecord = redFlagRecord.append(veh, ignore_index=True)\n"
     ]
    },
    {
     "name": "stdout",
     "output_type": "stream",
     "text": [
      "LaneID:28925528_0;Time:3736.0;\n",
      "LaneID:28925528_0;Time:3737.0;\n",
      "LaneID:28925528_0;Time:3738.0;\n",
      "LaneID:28925528_0;Time:3739.0;\n",
      "LaneID:28925528_0;Time:3740.0;\n",
      "LaneID:28925528_0;Time:3741.0;\n",
      "LaneID:28925528_0;Time:3758.0;\n",
      "LaneID:28925528_0;Time:3759.0;\n",
      "LaneID:28925528_0;Time:3760.0;\n",
      "LaneID:28925528_0;Time:3761.0;\n",
      "LaneID:28925528_0;Time:3762.0;\n",
      "LaneID:28925528_0;Time:3763.0;\n",
      "LaneID:28925528_0;Time:3764.0;\n",
      "LaneID:28925528_0;Time:3765.0;\n",
      "LaneID:28925528_0;Time:3766.0;\n",
      "LaneID:28925528_0;Time:3767.0;\n",
      "LaneID:28925528_0;Time:3768.0;\n",
      "LaneID:28925528_0;Time:3778.0;\n",
      "LaneID:28925528_0;Time:3779.0;\n",
      "LaneID:28925528_0;Time:3780.0;\n",
      "LaneID:28925528_0;Time:3781.0;\n",
      "LaneID:28925528_0;Time:3782.0;\n",
      "LaneID:28925528_0;Time:3783.0;\n",
      "LaneID:28925528_0;Time:3784.0;\n",
      "LaneID:28925528_0;Time:3785.0;\n",
      "LaneID:28925528_0;Time:3786.0;\n",
      "LaneID:28925528_0;Time:3787.0;\n",
      "LaneID:28925528_0;Time:3788.0;\n"
     ]
    },
    {
     "name": "stderr",
     "output_type": "stream",
     "text": [
      "C:\\Users\\Administrator\\AppData\\Local\\Temp\\ipykernel_16000\\2984826684.py:101: FutureWarning: The frame.append method is deprecated and will be removed from pandas in a future version. Use pandas.concat instead.\n",
      "  redFlagRecord = redFlagRecord.append(veh, ignore_index=True)\n",
      "C:\\Users\\Administrator\\AppData\\Local\\Temp\\ipykernel_16000\\2984826684.py:101: FutureWarning: The frame.append method is deprecated and will be removed from pandas in a future version. Use pandas.concat instead.\n",
      "  redFlagRecord = redFlagRecord.append(veh, ignore_index=True)\n",
      "C:\\Users\\Administrator\\AppData\\Local\\Temp\\ipykernel_16000\\2984826684.py:101: FutureWarning: The frame.append method is deprecated and will be removed from pandas in a future version. Use pandas.concat instead.\n",
      "  redFlagRecord = redFlagRecord.append(veh, ignore_index=True)\n",
      "C:\\Users\\Administrator\\AppData\\Local\\Temp\\ipykernel_16000\\2984826684.py:101: FutureWarning: The frame.append method is deprecated and will be removed from pandas in a future version. Use pandas.concat instead.\n",
      "  redFlagRecord = redFlagRecord.append(veh, ignore_index=True)\n",
      "C:\\Users\\Administrator\\AppData\\Local\\Temp\\ipykernel_16000\\2984826684.py:101: FutureWarning: The frame.append method is deprecated and will be removed from pandas in a future version. Use pandas.concat instead.\n",
      "  redFlagRecord = redFlagRecord.append(veh, ignore_index=True)\n",
      "C:\\Users\\Administrator\\AppData\\Local\\Temp\\ipykernel_16000\\2984826684.py:101: FutureWarning: The frame.append method is deprecated and will be removed from pandas in a future version. Use pandas.concat instead.\n",
      "  redFlagRecord = redFlagRecord.append(veh, ignore_index=True)\n",
      "C:\\Users\\Administrator\\AppData\\Local\\Temp\\ipykernel_16000\\2984826684.py:101: FutureWarning: The frame.append method is deprecated and will be removed from pandas in a future version. Use pandas.concat instead.\n",
      "  redFlagRecord = redFlagRecord.append(veh, ignore_index=True)\n"
     ]
    },
    {
     "name": "stdout",
     "output_type": "stream",
     "text": [
      "LaneID:28925528_0;Time:3789.0;\n",
      "LaneID:28925528_0;Time:3790.0;\n",
      "LaneID:28925528_0;Time:3791.0;\n",
      "LaneID:28925528_0;Time:3792.0;\n",
      "LaneID:28925528_0;Time:3793.0;\n",
      "LaneID:28925528_0;Time:3794.0;\n",
      "LaneID:28925528_0;Time:3795.0;\n"
     ]
    },
    {
     "name": "stderr",
     "output_type": "stream",
     "text": [
      "C:\\Users\\Administrator\\AppData\\Local\\Temp\\ipykernel_16000\\2984826684.py:101: FutureWarning: The frame.append method is deprecated and will be removed from pandas in a future version. Use pandas.concat instead.\n",
      "  redFlagRecord = redFlagRecord.append(veh, ignore_index=True)\n",
      "C:\\Users\\Administrator\\AppData\\Local\\Temp\\ipykernel_16000\\2984826684.py:101: FutureWarning: The frame.append method is deprecated and will be removed from pandas in a future version. Use pandas.concat instead.\n",
      "  redFlagRecord = redFlagRecord.append(veh, ignore_index=True)\n",
      "C:\\Users\\Administrator\\AppData\\Local\\Temp\\ipykernel_16000\\2984826684.py:101: FutureWarning: The frame.append method is deprecated and will be removed from pandas in a future version. Use pandas.concat instead.\n",
      "  redFlagRecord = redFlagRecord.append(veh, ignore_index=True)\n",
      "C:\\Users\\Administrator\\AppData\\Local\\Temp\\ipykernel_16000\\2984826684.py:101: FutureWarning: The frame.append method is deprecated and will be removed from pandas in a future version. Use pandas.concat instead.\n",
      "  redFlagRecord = redFlagRecord.append(veh, ignore_index=True)\n",
      "C:\\Users\\Administrator\\AppData\\Local\\Temp\\ipykernel_16000\\2984826684.py:101: FutureWarning: The frame.append method is deprecated and will be removed from pandas in a future version. Use pandas.concat instead.\n",
      "  redFlagRecord = redFlagRecord.append(veh, ignore_index=True)\n",
      "C:\\Users\\Administrator\\AppData\\Local\\Temp\\ipykernel_16000\\2984826684.py:101: FutureWarning: The frame.append method is deprecated and will be removed from pandas in a future version. Use pandas.concat instead.\n",
      "  redFlagRecord = redFlagRecord.append(veh, ignore_index=True)\n"
     ]
    },
    {
     "name": "stdout",
     "output_type": "stream",
     "text": [
      "LaneID:28925528_0;Time:3796.0;\n",
      "LaneID:28925528_0;Time:3797.0;\n",
      "LaneID:28925528_0;Time:3798.0;\n",
      "LaneID:28925528_0;Time:3799.0;\n",
      "LaneID:28925528_0;Time:3800.0;\n",
      "LaneID:28925528_0;Time:3801.0;\n",
      "LaneID:28925528_0;Time:3802.0;\n",
      "LaneID:28925528_0;Time:3803.0;\n",
      "LaneID:28925528_0;Time:3804.0;\n",
      "LaneID:28925528_0;Time:3805.0;\n",
      "LaneID:28925528_0;Time:3820.0;\n",
      "LaneID:28925528_0;Time:3821.0;\n",
      "LaneID:28925528_0;Time:3822.0;\n",
      "LaneID:28925528_0;Time:3823.0;\n",
      "LaneID:28925528_0;Time:3824.0;\n",
      "LaneID:28925528_0;Time:3825.0;\n",
      "LaneID:28925528_0;Time:3826.0;\n",
      "LaneID:28925528_0;Time:3827.0;\n",
      "LaneID:28925528_0;Time:3828.0;\n",
      "LaneID:28925528_0;Time:3829.0;\n",
      "LaneID:28925528_0;Time:3830.0;\n",
      "LaneID:28925528_0;Time:3842.0;\n",
      "LaneID:28925528_0;Time:3843.0;\n",
      "LaneID:28925528_0;Time:3844.0;\n",
      "LaneID:28925528_0;Time:3845.0;\n",
      "LaneID:28925528_0;Time:3846.0;\n",
      "LaneID:28925528_0;Time:3847.0;\n",
      "LaneID:28925528_0;Time:3848.0;\n",
      "LaneID:28925528_0;Time:3849.0;\n",
      "LaneID:28925528_0;Time:3850.0;\n",
      "LaneID:28925528_0;Time:3851.0;\n"
     ]
    },
    {
     "name": "stderr",
     "output_type": "stream",
     "text": [
      "C:\\Users\\Administrator\\AppData\\Local\\Temp\\ipykernel_16000\\2984826684.py:101: FutureWarning: The frame.append method is deprecated and will be removed from pandas in a future version. Use pandas.concat instead.\n",
      "  redFlagRecord = redFlagRecord.append(veh, ignore_index=True)\n",
      "C:\\Users\\Administrator\\AppData\\Local\\Temp\\ipykernel_16000\\2984826684.py:101: FutureWarning: The frame.append method is deprecated and will be removed from pandas in a future version. Use pandas.concat instead.\n",
      "  redFlagRecord = redFlagRecord.append(veh, ignore_index=True)\n",
      "C:\\Users\\Administrator\\AppData\\Local\\Temp\\ipykernel_16000\\2984826684.py:101: FutureWarning: The frame.append method is deprecated and will be removed from pandas in a future version. Use pandas.concat instead.\n",
      "  redFlagRecord = redFlagRecord.append(veh, ignore_index=True)\n",
      "C:\\Users\\Administrator\\AppData\\Local\\Temp\\ipykernel_16000\\2984826684.py:101: FutureWarning: The frame.append method is deprecated and will be removed from pandas in a future version. Use pandas.concat instead.\n",
      "  redFlagRecord = redFlagRecord.append(veh, ignore_index=True)\n",
      "C:\\Users\\Administrator\\AppData\\Local\\Temp\\ipykernel_16000\\2984826684.py:101: FutureWarning: The frame.append method is deprecated and will be removed from pandas in a future version. Use pandas.concat instead.\n",
      "  redFlagRecord = redFlagRecord.append(veh, ignore_index=True)\n",
      "C:\\Users\\Administrator\\AppData\\Local\\Temp\\ipykernel_16000\\2984826684.py:101: FutureWarning: The frame.append method is deprecated and will be removed from pandas in a future version. Use pandas.concat instead.\n",
      "  redFlagRecord = redFlagRecord.append(veh, ignore_index=True)\n",
      "C:\\Users\\Administrator\\AppData\\Local\\Temp\\ipykernel_16000\\2984826684.py:101: FutureWarning: The frame.append method is deprecated and will be removed from pandas in a future version. Use pandas.concat instead.\n",
      "  redFlagRecord = redFlagRecord.append(veh, ignore_index=True)\n"
     ]
    },
    {
     "name": "stdout",
     "output_type": "stream",
     "text": [
      "LaneID:28925528_0;Time:3852.0;\n",
      "LaneID:28925528_0;Time:3853.0;\n",
      "LaneID:28925528_0;Time:3854.0;\n",
      "LaneID:28925528_0;Time:3855.0;\n",
      "LaneID:28925528_0;Time:3856.0;\n",
      "LaneID:28925528_0;Time:3857.0;\n",
      "LaneID:28925528_0;Time:3858.0;\n"
     ]
    },
    {
     "name": "stderr",
     "output_type": "stream",
     "text": [
      "C:\\Users\\Administrator\\AppData\\Local\\Temp\\ipykernel_16000\\2984826684.py:101: FutureWarning: The frame.append method is deprecated and will be removed from pandas in a future version. Use pandas.concat instead.\n",
      "  redFlagRecord = redFlagRecord.append(veh, ignore_index=True)\n",
      "C:\\Users\\Administrator\\AppData\\Local\\Temp\\ipykernel_16000\\2984826684.py:101: FutureWarning: The frame.append method is deprecated and will be removed from pandas in a future version. Use pandas.concat instead.\n",
      "  redFlagRecord = redFlagRecord.append(veh, ignore_index=True)\n",
      "C:\\Users\\Administrator\\AppData\\Local\\Temp\\ipykernel_16000\\2984826684.py:101: FutureWarning: The frame.append method is deprecated and will be removed from pandas in a future version. Use pandas.concat instead.\n",
      "  redFlagRecord = redFlagRecord.append(veh, ignore_index=True)\n",
      "C:\\Users\\Administrator\\AppData\\Local\\Temp\\ipykernel_16000\\2984826684.py:101: FutureWarning: The frame.append method is deprecated and will be removed from pandas in a future version. Use pandas.concat instead.\n",
      "  redFlagRecord = redFlagRecord.append(veh, ignore_index=True)\n",
      "C:\\Users\\Administrator\\AppData\\Local\\Temp\\ipykernel_16000\\2984826684.py:101: FutureWarning: The frame.append method is deprecated and will be removed from pandas in a future version. Use pandas.concat instead.\n",
      "  redFlagRecord = redFlagRecord.append(veh, ignore_index=True)\n",
      "C:\\Users\\Administrator\\AppData\\Local\\Temp\\ipykernel_16000\\2984826684.py:101: FutureWarning: The frame.append method is deprecated and will be removed from pandas in a future version. Use pandas.concat instead.\n",
      "  redFlagRecord = redFlagRecord.append(veh, ignore_index=True)\n"
     ]
    },
    {
     "name": "stdout",
     "output_type": "stream",
     "text": [
      "LaneID:28925528_0;Time:3859.0;\n",
      "LaneID:28925528_0;Time:3860.0;\n",
      "LaneID:28925528_0;Time:3861.0;\n",
      "LaneID:28925528_0;Time:3863.0;\n",
      "LaneID:28925528_0;Time:3864.0;\n",
      "LaneID:28925528_0;Time:3865.0;\n",
      "LaneID:28925528_0;Time:3866.0;\n",
      "LaneID:28925528_0;Time:3867.0;\n",
      "LaneID:28925528_0;Time:3868.0;\n",
      "LaneID:28925528_0;Time:3869.0;\n",
      "LaneID:28925528_0;Time:3870.0;\n",
      "LaneID:28925528_0;Time:3871.0;\n",
      "LaneID:28925528_0;Time:3872.0;\n",
      "LaneID:28925528_0;Time:3873.0;\n",
      "LaneID:28925528_0;Time:3874.0;\n",
      "LaneID:28925528_0;Time:3875.0;\n"
     ]
    },
    {
     "name": "stderr",
     "output_type": "stream",
     "text": [
      "C:\\Users\\Administrator\\AppData\\Local\\Temp\\ipykernel_16000\\2984826684.py:101: FutureWarning: The frame.append method is deprecated and will be removed from pandas in a future version. Use pandas.concat instead.\n",
      "  redFlagRecord = redFlagRecord.append(veh, ignore_index=True)\n",
      "C:\\Users\\Administrator\\AppData\\Local\\Temp\\ipykernel_16000\\2984826684.py:101: FutureWarning: The frame.append method is deprecated and will be removed from pandas in a future version. Use pandas.concat instead.\n",
      "  redFlagRecord = redFlagRecord.append(veh, ignore_index=True)\n",
      "C:\\Users\\Administrator\\AppData\\Local\\Temp\\ipykernel_16000\\2984826684.py:101: FutureWarning: The frame.append method is deprecated and will be removed from pandas in a future version. Use pandas.concat instead.\n",
      "  redFlagRecord = redFlagRecord.append(veh, ignore_index=True)\n",
      "C:\\Users\\Administrator\\AppData\\Local\\Temp\\ipykernel_16000\\2984826684.py:101: FutureWarning: The frame.append method is deprecated and will be removed from pandas in a future version. Use pandas.concat instead.\n",
      "  redFlagRecord = redFlagRecord.append(veh, ignore_index=True)\n",
      "C:\\Users\\Administrator\\AppData\\Local\\Temp\\ipykernel_16000\\2984826684.py:101: FutureWarning: The frame.append method is deprecated and will be removed from pandas in a future version. Use pandas.concat instead.\n",
      "  redFlagRecord = redFlagRecord.append(veh, ignore_index=True)\n",
      "C:\\Users\\Administrator\\AppData\\Local\\Temp\\ipykernel_16000\\2984826684.py:101: FutureWarning: The frame.append method is deprecated and will be removed from pandas in a future version. Use pandas.concat instead.\n",
      "  redFlagRecord = redFlagRecord.append(veh, ignore_index=True)\n",
      "C:\\Users\\Administrator\\AppData\\Local\\Temp\\ipykernel_16000\\2984826684.py:101: FutureWarning: The frame.append method is deprecated and will be removed from pandas in a future version. Use pandas.concat instead.\n",
      "  redFlagRecord = redFlagRecord.append(veh, ignore_index=True)\n"
     ]
    },
    {
     "name": "stdout",
     "output_type": "stream",
     "text": [
      "LaneID:28925528_0;Time:3876.0;\n",
      "LaneID:28925528_0;Time:3877.0;\n",
      "LaneID:28925528_0;Time:3878.0;\n",
      "LaneID:28925528_0;Time:3879.0;\n",
      "LaneID:28925528_0;Time:3880.0;\n",
      "LaneID:28925528_0;Time:3881.0;\n",
      "LaneID:28925528_0;Time:3882.0;\n"
     ]
    },
    {
     "name": "stderr",
     "output_type": "stream",
     "text": [
      "C:\\Users\\Administrator\\AppData\\Local\\Temp\\ipykernel_16000\\2984826684.py:101: FutureWarning: The frame.append method is deprecated and will be removed from pandas in a future version. Use pandas.concat instead.\n",
      "  redFlagRecord = redFlagRecord.append(veh, ignore_index=True)\n",
      "C:\\Users\\Administrator\\AppData\\Local\\Temp\\ipykernel_16000\\2984826684.py:101: FutureWarning: The frame.append method is deprecated and will be removed from pandas in a future version. Use pandas.concat instead.\n",
      "  redFlagRecord = redFlagRecord.append(veh, ignore_index=True)\n",
      "C:\\Users\\Administrator\\AppData\\Local\\Temp\\ipykernel_16000\\2984826684.py:101: FutureWarning: The frame.append method is deprecated and will be removed from pandas in a future version. Use pandas.concat instead.\n",
      "  redFlagRecord = redFlagRecord.append(veh, ignore_index=True)\n",
      "C:\\Users\\Administrator\\AppData\\Local\\Temp\\ipykernel_16000\\2984826684.py:101: FutureWarning: The frame.append method is deprecated and will be removed from pandas in a future version. Use pandas.concat instead.\n",
      "  redFlagRecord = redFlagRecord.append(veh, ignore_index=True)\n",
      "C:\\Users\\Administrator\\AppData\\Local\\Temp\\ipykernel_16000\\2984826684.py:101: FutureWarning: The frame.append method is deprecated and will be removed from pandas in a future version. Use pandas.concat instead.\n",
      "  redFlagRecord = redFlagRecord.append(veh, ignore_index=True)\n",
      "C:\\Users\\Administrator\\AppData\\Local\\Temp\\ipykernel_16000\\2984826684.py:101: FutureWarning: The frame.append method is deprecated and will be removed from pandas in a future version. Use pandas.concat instead.\n",
      "  redFlagRecord = redFlagRecord.append(veh, ignore_index=True)\n",
      "C:\\Users\\Administrator\\AppData\\Local\\Temp\\ipykernel_16000\\2984826684.py:101: FutureWarning: The frame.append method is deprecated and will be removed from pandas in a future version. Use pandas.concat instead.\n",
      "  redFlagRecord = redFlagRecord.append(veh, ignore_index=True)\n"
     ]
    },
    {
     "name": "stdout",
     "output_type": "stream",
     "text": [
      "LaneID:28925528_0;Time:3883.0;\n",
      "LaneID:28925528_0;Time:3884.0;\n",
      "LaneID:28925528_0;Time:3885.0;\n",
      "LaneID:28925528_0;Time:3886.0;\n",
      "LaneID:28925528_0;Time:3887.0;\n",
      "LaneID:28925528_0;Time:3888.0;\n",
      "LaneID:28925528_0;Time:3889.0;\n"
     ]
    },
    {
     "name": "stderr",
     "output_type": "stream",
     "text": [
      "C:\\Users\\Administrator\\AppData\\Local\\Temp\\ipykernel_16000\\2984826684.py:101: FutureWarning: The frame.append method is deprecated and will be removed from pandas in a future version. Use pandas.concat instead.\n",
      "  redFlagRecord = redFlagRecord.append(veh, ignore_index=True)\n",
      "C:\\Users\\Administrator\\AppData\\Local\\Temp\\ipykernel_16000\\2984826684.py:101: FutureWarning: The frame.append method is deprecated and will be removed from pandas in a future version. Use pandas.concat instead.\n",
      "  redFlagRecord = redFlagRecord.append(veh, ignore_index=True)\n",
      "C:\\Users\\Administrator\\AppData\\Local\\Temp\\ipykernel_16000\\2984826684.py:101: FutureWarning: The frame.append method is deprecated and will be removed from pandas in a future version. Use pandas.concat instead.\n",
      "  redFlagRecord = redFlagRecord.append(veh, ignore_index=True)\n",
      "C:\\Users\\Administrator\\AppData\\Local\\Temp\\ipykernel_16000\\2984826684.py:101: FutureWarning: The frame.append method is deprecated and will be removed from pandas in a future version. Use pandas.concat instead.\n",
      "  redFlagRecord = redFlagRecord.append(veh, ignore_index=True)\n",
      "C:\\Users\\Administrator\\AppData\\Local\\Temp\\ipykernel_16000\\2984826684.py:101: FutureWarning: The frame.append method is deprecated and will be removed from pandas in a future version. Use pandas.concat instead.\n",
      "  redFlagRecord = redFlagRecord.append(veh, ignore_index=True)\n",
      "C:\\Users\\Administrator\\AppData\\Local\\Temp\\ipykernel_16000\\2984826684.py:101: FutureWarning: The frame.append method is deprecated and will be removed from pandas in a future version. Use pandas.concat instead.\n",
      "  redFlagRecord = redFlagRecord.append(veh, ignore_index=True)\n"
     ]
    },
    {
     "name": "stdout",
     "output_type": "stream",
     "text": [
      "LaneID:28925528_0;Time:3890.0;\n",
      "LaneID:28925528_0;Time:3891.0;\n",
      "LaneID:28925528_0;Time:3892.0;\n",
      "LaneID:28925528_0;Time:3893.0;\n",
      "LaneID:28925528_0;Time:3894.0;\n",
      "LaneID:28925528_0;Time:3895.0;\n",
      "LaneID:28925528_0;Time:3906.0;\n",
      "LaneID:28925528_0;Time:3907.0;\n",
      "LaneID:28925528_0;Time:3908.0;\n",
      "LaneID:28925528_0;Time:3909.0;\n",
      "LaneID:28925528_0;Time:3910.0;\n",
      "LaneID:28925528_0;Time:3911.0;\n",
      "LaneID:28925528_0;Time:3912.0;\n",
      "LaneID:28925528_0;Time:3913.0;\n",
      "LaneID:28925528_0;Time:3914.0;\n",
      "LaneID:28925528_0;Time:3915.0;\n",
      "LaneID:28925528_0;Time:3916.0;\n",
      "LaneID:28925528_0;Time:3917.0;\n"
     ]
    },
    {
     "name": "stderr",
     "output_type": "stream",
     "text": [
      "C:\\Users\\Administrator\\AppData\\Local\\Temp\\ipykernel_16000\\2984826684.py:101: FutureWarning: The frame.append method is deprecated and will be removed from pandas in a future version. Use pandas.concat instead.\n",
      "  redFlagRecord = redFlagRecord.append(veh, ignore_index=True)\n",
      "C:\\Users\\Administrator\\AppData\\Local\\Temp\\ipykernel_16000\\2984826684.py:101: FutureWarning: The frame.append method is deprecated and will be removed from pandas in a future version. Use pandas.concat instead.\n",
      "  redFlagRecord = redFlagRecord.append(veh, ignore_index=True)\n",
      "C:\\Users\\Administrator\\AppData\\Local\\Temp\\ipykernel_16000\\2984826684.py:101: FutureWarning: The frame.append method is deprecated and will be removed from pandas in a future version. Use pandas.concat instead.\n",
      "  redFlagRecord = redFlagRecord.append(veh, ignore_index=True)\n",
      "C:\\Users\\Administrator\\AppData\\Local\\Temp\\ipykernel_16000\\2984826684.py:101: FutureWarning: The frame.append method is deprecated and will be removed from pandas in a future version. Use pandas.concat instead.\n",
      "  redFlagRecord = redFlagRecord.append(veh, ignore_index=True)\n",
      "C:\\Users\\Administrator\\AppData\\Local\\Temp\\ipykernel_16000\\2984826684.py:101: FutureWarning: The frame.append method is deprecated and will be removed from pandas in a future version. Use pandas.concat instead.\n",
      "  redFlagRecord = redFlagRecord.append(veh, ignore_index=True)\n",
      "C:\\Users\\Administrator\\AppData\\Local\\Temp\\ipykernel_16000\\2984826684.py:101: FutureWarning: The frame.append method is deprecated and will be removed from pandas in a future version. Use pandas.concat instead.\n",
      "  redFlagRecord = redFlagRecord.append(veh, ignore_index=True)\n",
      "C:\\Users\\Administrator\\AppData\\Local\\Temp\\ipykernel_16000\\2984826684.py:101: FutureWarning: The frame.append method is deprecated and will be removed from pandas in a future version. Use pandas.concat instead.\n",
      "  redFlagRecord = redFlagRecord.append(veh, ignore_index=True)\n"
     ]
    },
    {
     "name": "stdout",
     "output_type": "stream",
     "text": [
      "LaneID:28925528_0;Time:3918.0;\n",
      "LaneID:28925528_0;Time:3919.0;\n",
      "LaneID:28925528_0;Time:3920.0;\n",
      "LaneID:28925528_0;Time:3921.0;\n",
      "LaneID:28925528_0;Time:3922.0;\n",
      "LaneID:28925528_0;Time:3923.0;\n",
      "LaneID:28925528_0;Time:3927.0;\n",
      "LaneID:28925528_0;Time:3928.0;\n",
      "LaneID:28925528_0;Time:3929.0;\n",
      "LaneID:28925528_0;Time:3930.0;\n",
      "LaneID:28925528_0;Time:3931.0;\n",
      "LaneID:28925528_0;Time:3932.0;\n",
      "LaneID:28925528_0;Time:3933.0;\n",
      "LaneID:28925528_0;Time:3934.0;\n",
      "LaneID:28925528_0;Time:3935.0;\n",
      "LaneID:28925528_0;Time:3936.0;\n",
      "LaneID:28925528_0;Time:3937.0;\n"
     ]
    },
    {
     "name": "stderr",
     "output_type": "stream",
     "text": [
      "C:\\Users\\Administrator\\AppData\\Local\\Temp\\ipykernel_16000\\2984826684.py:101: FutureWarning: The frame.append method is deprecated and will be removed from pandas in a future version. Use pandas.concat instead.\n",
      "  redFlagRecord = redFlagRecord.append(veh, ignore_index=True)\n",
      "C:\\Users\\Administrator\\AppData\\Local\\Temp\\ipykernel_16000\\2984826684.py:101: FutureWarning: The frame.append method is deprecated and will be removed from pandas in a future version. Use pandas.concat instead.\n",
      "  redFlagRecord = redFlagRecord.append(veh, ignore_index=True)\n",
      "C:\\Users\\Administrator\\AppData\\Local\\Temp\\ipykernel_16000\\2984826684.py:101: FutureWarning: The frame.append method is deprecated and will be removed from pandas in a future version. Use pandas.concat instead.\n",
      "  redFlagRecord = redFlagRecord.append(veh, ignore_index=True)\n",
      "C:\\Users\\Administrator\\AppData\\Local\\Temp\\ipykernel_16000\\2984826684.py:101: FutureWarning: The frame.append method is deprecated and will be removed from pandas in a future version. Use pandas.concat instead.\n",
      "  redFlagRecord = redFlagRecord.append(veh, ignore_index=True)\n",
      "C:\\Users\\Administrator\\AppData\\Local\\Temp\\ipykernel_16000\\2984826684.py:101: FutureWarning: The frame.append method is deprecated and will be removed from pandas in a future version. Use pandas.concat instead.\n",
      "  redFlagRecord = redFlagRecord.append(veh, ignore_index=True)\n",
      "C:\\Users\\Administrator\\AppData\\Local\\Temp\\ipykernel_16000\\2984826684.py:101: FutureWarning: The frame.append method is deprecated and will be removed from pandas in a future version. Use pandas.concat instead.\n",
      "  redFlagRecord = redFlagRecord.append(veh, ignore_index=True)\n",
      "C:\\Users\\Administrator\\AppData\\Local\\Temp\\ipykernel_16000\\2984826684.py:101: FutureWarning: The frame.append method is deprecated and will be removed from pandas in a future version. Use pandas.concat instead.\n",
      "  redFlagRecord = redFlagRecord.append(veh, ignore_index=True)\n"
     ]
    },
    {
     "name": "stdout",
     "output_type": "stream",
     "text": [
      "LaneID:28925528_0;Time:3938.0;\n",
      "LaneID:28925528_0;Time:3939.0;\n",
      "LaneID:28925528_0;Time:3940.0;\n",
      "LaneID:28925528_0;Time:3941.0;\n",
      "LaneID:28925528_0;Time:3942.0;\n",
      "LaneID:28925528_0;Time:3943.0;\n",
      "LaneID:28925528_0;Time:3944.0;\n"
     ]
    },
    {
     "name": "stderr",
     "output_type": "stream",
     "text": [
      "C:\\Users\\Administrator\\AppData\\Local\\Temp\\ipykernel_16000\\2984826684.py:101: FutureWarning: The frame.append method is deprecated and will be removed from pandas in a future version. Use pandas.concat instead.\n",
      "  redFlagRecord = redFlagRecord.append(veh, ignore_index=True)\n",
      "C:\\Users\\Administrator\\AppData\\Local\\Temp\\ipykernel_16000\\2984826684.py:101: FutureWarning: The frame.append method is deprecated and will be removed from pandas in a future version. Use pandas.concat instead.\n",
      "  redFlagRecord = redFlagRecord.append(veh, ignore_index=True)\n",
      "C:\\Users\\Administrator\\AppData\\Local\\Temp\\ipykernel_16000\\2984826684.py:101: FutureWarning: The frame.append method is deprecated and will be removed from pandas in a future version. Use pandas.concat instead.\n",
      "  redFlagRecord = redFlagRecord.append(veh, ignore_index=True)\n",
      "C:\\Users\\Administrator\\AppData\\Local\\Temp\\ipykernel_16000\\2984826684.py:101: FutureWarning: The frame.append method is deprecated and will be removed from pandas in a future version. Use pandas.concat instead.\n",
      "  redFlagRecord = redFlagRecord.append(veh, ignore_index=True)\n",
      "C:\\Users\\Administrator\\AppData\\Local\\Temp\\ipykernel_16000\\2984826684.py:101: FutureWarning: The frame.append method is deprecated and will be removed from pandas in a future version. Use pandas.concat instead.\n",
      "  redFlagRecord = redFlagRecord.append(veh, ignore_index=True)\n",
      "C:\\Users\\Administrator\\AppData\\Local\\Temp\\ipykernel_16000\\2984826684.py:101: FutureWarning: The frame.append method is deprecated and will be removed from pandas in a future version. Use pandas.concat instead.\n",
      "  redFlagRecord = redFlagRecord.append(veh, ignore_index=True)\n",
      "C:\\Users\\Administrator\\AppData\\Local\\Temp\\ipykernel_16000\\2984826684.py:101: FutureWarning: The frame.append method is deprecated and will be removed from pandas in a future version. Use pandas.concat instead.\n",
      "  redFlagRecord = redFlagRecord.append(veh, ignore_index=True)\n"
     ]
    },
    {
     "name": "stdout",
     "output_type": "stream",
     "text": [
      "LaneID:28925528_0;Time:3945.0;\n",
      "LaneID:28925528_0;Time:3946.0;\n",
      "LaneID:28925528_0;Time:3947.0;\n",
      "LaneID:28925528_0;Time:3948.0;\n",
      "LaneID:28925528_0;Time:3949.0;\n",
      "LaneID:28925528_0;Time:3950.0;\n",
      "LaneID:28925528_0;Time:3951.0;\n"
     ]
    },
    {
     "name": "stderr",
     "output_type": "stream",
     "text": [
      "C:\\Users\\Administrator\\AppData\\Local\\Temp\\ipykernel_16000\\2984826684.py:101: FutureWarning: The frame.append method is deprecated and will be removed from pandas in a future version. Use pandas.concat instead.\n",
      "  redFlagRecord = redFlagRecord.append(veh, ignore_index=True)\n",
      "C:\\Users\\Administrator\\AppData\\Local\\Temp\\ipykernel_16000\\2984826684.py:101: FutureWarning: The frame.append method is deprecated and will be removed from pandas in a future version. Use pandas.concat instead.\n",
      "  redFlagRecord = redFlagRecord.append(veh, ignore_index=True)\n",
      "C:\\Users\\Administrator\\AppData\\Local\\Temp\\ipykernel_16000\\2984826684.py:101: FutureWarning: The frame.append method is deprecated and will be removed from pandas in a future version. Use pandas.concat instead.\n",
      "  redFlagRecord = redFlagRecord.append(veh, ignore_index=True)\n",
      "C:\\Users\\Administrator\\AppData\\Local\\Temp\\ipykernel_16000\\2984826684.py:101: FutureWarning: The frame.append method is deprecated and will be removed from pandas in a future version. Use pandas.concat instead.\n",
      "  redFlagRecord = redFlagRecord.append(veh, ignore_index=True)\n",
      "C:\\Users\\Administrator\\AppData\\Local\\Temp\\ipykernel_16000\\2984826684.py:101: FutureWarning: The frame.append method is deprecated and will be removed from pandas in a future version. Use pandas.concat instead.\n",
      "  redFlagRecord = redFlagRecord.append(veh, ignore_index=True)\n",
      "C:\\Users\\Administrator\\AppData\\Local\\Temp\\ipykernel_16000\\2984826684.py:101: FutureWarning: The frame.append method is deprecated and will be removed from pandas in a future version. Use pandas.concat instead.\n",
      "  redFlagRecord = redFlagRecord.append(veh, ignore_index=True)\n",
      "C:\\Users\\Administrator\\AppData\\Local\\Temp\\ipykernel_16000\\2984826684.py:101: FutureWarning: The frame.append method is deprecated and will be removed from pandas in a future version. Use pandas.concat instead.\n",
      "  redFlagRecord = redFlagRecord.append(veh, ignore_index=True)\n"
     ]
    },
    {
     "name": "stdout",
     "output_type": "stream",
     "text": [
      "LaneID:28925528_0;Time:3952.0;\n",
      "LaneID:28925528_0;Time:3953.0;\n",
      "LaneID:28925528_0;Time:3954.0;\n",
      "LaneID:28925528_0;Time:3955.0;\n",
      "LaneID:28925528_0;Time:3956.0;\n",
      "LaneID:28925528_0;Time:3969.0;\n",
      "LaneID:28925528_0;Time:3970.0;\n",
      "LaneID:28925528_0;Time:3971.0;\n",
      "LaneID:28925528_0;Time:3972.0;\n",
      "LaneID:28925528_0;Time:3973.0;\n",
      "LaneID:28925528_0;Time:3974.0;\n",
      "LaneID:28925528_0;Time:3975.0;\n",
      "LaneID:28925528_0;Time:3976.0;\n",
      "LaneID:28925528_0;Time:3977.0;\n",
      "LaneID:28925528_0;Time:3978.0;\n",
      "LaneID:28925528_0;Time:3979.0;\n",
      "LaneID:28925528_0;Time:3980.0;\n",
      "LaneID:28925528_0;Time:3981.0;\n"
     ]
    },
    {
     "name": "stderr",
     "output_type": "stream",
     "text": [
      "C:\\Users\\Administrator\\AppData\\Local\\Temp\\ipykernel_16000\\2984826684.py:101: FutureWarning: The frame.append method is deprecated and will be removed from pandas in a future version. Use pandas.concat instead.\n",
      "  redFlagRecord = redFlagRecord.append(veh, ignore_index=True)\n",
      "C:\\Users\\Administrator\\AppData\\Local\\Temp\\ipykernel_16000\\2984826684.py:101: FutureWarning: The frame.append method is deprecated and will be removed from pandas in a future version. Use pandas.concat instead.\n",
      "  redFlagRecord = redFlagRecord.append(veh, ignore_index=True)\n",
      "C:\\Users\\Administrator\\AppData\\Local\\Temp\\ipykernel_16000\\2984826684.py:101: FutureWarning: The frame.append method is deprecated and will be removed from pandas in a future version. Use pandas.concat instead.\n",
      "  redFlagRecord = redFlagRecord.append(veh, ignore_index=True)\n",
      "C:\\Users\\Administrator\\AppData\\Local\\Temp\\ipykernel_16000\\2984826684.py:101: FutureWarning: The frame.append method is deprecated and will be removed from pandas in a future version. Use pandas.concat instead.\n",
      "  redFlagRecord = redFlagRecord.append(veh, ignore_index=True)\n",
      "C:\\Users\\Administrator\\AppData\\Local\\Temp\\ipykernel_16000\\2984826684.py:101: FutureWarning: The frame.append method is deprecated and will be removed from pandas in a future version. Use pandas.concat instead.\n",
      "  redFlagRecord = redFlagRecord.append(veh, ignore_index=True)\n",
      "C:\\Users\\Administrator\\AppData\\Local\\Temp\\ipykernel_16000\\2984826684.py:101: FutureWarning: The frame.append method is deprecated and will be removed from pandas in a future version. Use pandas.concat instead.\n",
      "  redFlagRecord = redFlagRecord.append(veh, ignore_index=True)\n",
      "C:\\Users\\Administrator\\AppData\\Local\\Temp\\ipykernel_16000\\2984826684.py:101: FutureWarning: The frame.append method is deprecated and will be removed from pandas in a future version. Use pandas.concat instead.\n",
      "  redFlagRecord = redFlagRecord.append(veh, ignore_index=True)\n"
     ]
    },
    {
     "name": "stdout",
     "output_type": "stream",
     "text": [
      "LaneID:28925528_0;Time:3982.0;\n",
      "LaneID:28925528_0;Time:3983.0;\n",
      "LaneID:28925528_0;Time:3984.0;\n",
      "LaneID:28925528_0;Time:3985.0;\n",
      "LaneID:28925528_0;Time:3989.0;\n",
      "LaneID:28925528_0;Time:3990.0;\n",
      "LaneID:28925528_0;Time:3991.0;\n",
      "LaneID:28925528_0;Time:3992.0;\n",
      "LaneID:28925528_0;Time:3993.0;\n",
      "LaneID:28925528_0;Time:3994.0;\n",
      "LaneID:28925528_0;Time:3995.0;\n",
      "LaneID:28925528_0;Time:3996.0;\n",
      "LaneID:28925528_0;Time:3997.0;\n",
      "LaneID:28925528_0;Time:3998.0;\n",
      "LaneID:28925528_0;Time:3999.0;\n",
      "LaneID:28925528_0;Time:4000.0;\n",
      "LaneID:28925528_0;Time:4001.0;\n"
     ]
    },
    {
     "name": "stderr",
     "output_type": "stream",
     "text": [
      "C:\\Users\\Administrator\\AppData\\Local\\Temp\\ipykernel_16000\\2984826684.py:101: FutureWarning: The frame.append method is deprecated and will be removed from pandas in a future version. Use pandas.concat instead.\n",
      "  redFlagRecord = redFlagRecord.append(veh, ignore_index=True)\n",
      "C:\\Users\\Administrator\\AppData\\Local\\Temp\\ipykernel_16000\\2984826684.py:101: FutureWarning: The frame.append method is deprecated and will be removed from pandas in a future version. Use pandas.concat instead.\n",
      "  redFlagRecord = redFlagRecord.append(veh, ignore_index=True)\n",
      "C:\\Users\\Administrator\\AppData\\Local\\Temp\\ipykernel_16000\\2984826684.py:101: FutureWarning: The frame.append method is deprecated and will be removed from pandas in a future version. Use pandas.concat instead.\n",
      "  redFlagRecord = redFlagRecord.append(veh, ignore_index=True)\n",
      "C:\\Users\\Administrator\\AppData\\Local\\Temp\\ipykernel_16000\\2984826684.py:101: FutureWarning: The frame.append method is deprecated and will be removed from pandas in a future version. Use pandas.concat instead.\n",
      "  redFlagRecord = redFlagRecord.append(veh, ignore_index=True)\n",
      "C:\\Users\\Administrator\\AppData\\Local\\Temp\\ipykernel_16000\\2984826684.py:101: FutureWarning: The frame.append method is deprecated and will be removed from pandas in a future version. Use pandas.concat instead.\n",
      "  redFlagRecord = redFlagRecord.append(veh, ignore_index=True)\n",
      "C:\\Users\\Administrator\\AppData\\Local\\Temp\\ipykernel_16000\\2984826684.py:101: FutureWarning: The frame.append method is deprecated and will be removed from pandas in a future version. Use pandas.concat instead.\n",
      "  redFlagRecord = redFlagRecord.append(veh, ignore_index=True)\n",
      "C:\\Users\\Administrator\\AppData\\Local\\Temp\\ipykernel_16000\\2984826684.py:101: FutureWarning: The frame.append method is deprecated and will be removed from pandas in a future version. Use pandas.concat instead.\n",
      "  redFlagRecord = redFlagRecord.append(veh, ignore_index=True)\n"
     ]
    },
    {
     "name": "stdout",
     "output_type": "stream",
     "text": [
      "LaneID:28925528_0;Time:4002.0;\n",
      "LaneID:28925528_0;Time:4003.0;\n",
      "LaneID:28925528_0;Time:4004.0;\n",
      "LaneID:28925528_0;Time:4005.0;\n",
      "LaneID:28925528_0;Time:4006.0;\n",
      "LaneID:28925528_0;Time:4007.0;\n",
      "LaneID:28925528_0;Time:4008.0;\n"
     ]
    },
    {
     "name": "stderr",
     "output_type": "stream",
     "text": [
      "C:\\Users\\Administrator\\AppData\\Local\\Temp\\ipykernel_16000\\2984826684.py:101: FutureWarning: The frame.append method is deprecated and will be removed from pandas in a future version. Use pandas.concat instead.\n",
      "  redFlagRecord = redFlagRecord.append(veh, ignore_index=True)\n",
      "C:\\Users\\Administrator\\AppData\\Local\\Temp\\ipykernel_16000\\2984826684.py:101: FutureWarning: The frame.append method is deprecated and will be removed from pandas in a future version. Use pandas.concat instead.\n",
      "  redFlagRecord = redFlagRecord.append(veh, ignore_index=True)\n",
      "C:\\Users\\Administrator\\AppData\\Local\\Temp\\ipykernel_16000\\2984826684.py:101: FutureWarning: The frame.append method is deprecated and will be removed from pandas in a future version. Use pandas.concat instead.\n",
      "  redFlagRecord = redFlagRecord.append(veh, ignore_index=True)\n",
      "C:\\Users\\Administrator\\AppData\\Local\\Temp\\ipykernel_16000\\2984826684.py:101: FutureWarning: The frame.append method is deprecated and will be removed from pandas in a future version. Use pandas.concat instead.\n",
      "  redFlagRecord = redFlagRecord.append(veh, ignore_index=True)\n",
      "C:\\Users\\Administrator\\AppData\\Local\\Temp\\ipykernel_16000\\2984826684.py:101: FutureWarning: The frame.append method is deprecated and will be removed from pandas in a future version. Use pandas.concat instead.\n",
      "  redFlagRecord = redFlagRecord.append(veh, ignore_index=True)\n",
      "C:\\Users\\Administrator\\AppData\\Local\\Temp\\ipykernel_16000\\2984826684.py:101: FutureWarning: The frame.append method is deprecated and will be removed from pandas in a future version. Use pandas.concat instead.\n",
      "  redFlagRecord = redFlagRecord.append(veh, ignore_index=True)\n",
      "C:\\Users\\Administrator\\AppData\\Local\\Temp\\ipykernel_16000\\2984826684.py:101: FutureWarning: The frame.append method is deprecated and will be removed from pandas in a future version. Use pandas.concat instead.\n",
      "  redFlagRecord = redFlagRecord.append(veh, ignore_index=True)\n"
     ]
    },
    {
     "name": "stdout",
     "output_type": "stream",
     "text": [
      "LaneID:28925528_0;Time:4009.0;\n",
      "LaneID:28925528_0;Time:4010.0;\n",
      "LaneID:28925528_0;Time:4011.0;\n",
      "LaneID:28925528_0;Time:4012.0;\n",
      "LaneID:28925528_0;Time:4013.0;\n",
      "LaneID:28925528_0;Time:4014.0;\n",
      "LaneID:28925528_0;Time:4015.0;\n"
     ]
    },
    {
     "name": "stderr",
     "output_type": "stream",
     "text": [
      "C:\\Users\\Administrator\\AppData\\Local\\Temp\\ipykernel_16000\\2984826684.py:101: FutureWarning: The frame.append method is deprecated and will be removed from pandas in a future version. Use pandas.concat instead.\n",
      "  redFlagRecord = redFlagRecord.append(veh, ignore_index=True)\n",
      "C:\\Users\\Administrator\\AppData\\Local\\Temp\\ipykernel_16000\\2984826684.py:101: FutureWarning: The frame.append method is deprecated and will be removed from pandas in a future version. Use pandas.concat instead.\n",
      "  redFlagRecord = redFlagRecord.append(veh, ignore_index=True)\n",
      "C:\\Users\\Administrator\\AppData\\Local\\Temp\\ipykernel_16000\\2984826684.py:101: FutureWarning: The frame.append method is deprecated and will be removed from pandas in a future version. Use pandas.concat instead.\n",
      "  redFlagRecord = redFlagRecord.append(veh, ignore_index=True)\n",
      "C:\\Users\\Administrator\\AppData\\Local\\Temp\\ipykernel_16000\\2984826684.py:101: FutureWarning: The frame.append method is deprecated and will be removed from pandas in a future version. Use pandas.concat instead.\n",
      "  redFlagRecord = redFlagRecord.append(veh, ignore_index=True)\n",
      "C:\\Users\\Administrator\\AppData\\Local\\Temp\\ipykernel_16000\\2984826684.py:101: FutureWarning: The frame.append method is deprecated and will be removed from pandas in a future version. Use pandas.concat instead.\n",
      "  redFlagRecord = redFlagRecord.append(veh, ignore_index=True)\n",
      "C:\\Users\\Administrator\\AppData\\Local\\Temp\\ipykernel_16000\\2984826684.py:101: FutureWarning: The frame.append method is deprecated and will be removed from pandas in a future version. Use pandas.concat instead.\n",
      "  redFlagRecord = redFlagRecord.append(veh, ignore_index=True)\n",
      "C:\\Users\\Administrator\\AppData\\Local\\Temp\\ipykernel_16000\\2984826684.py:101: FutureWarning: The frame.append method is deprecated and will be removed from pandas in a future version. Use pandas.concat instead.\n",
      "  redFlagRecord = redFlagRecord.append(veh, ignore_index=True)\n"
     ]
    },
    {
     "name": "stdout",
     "output_type": "stream",
     "text": [
      "LaneID:28925528_0;Time:4016.0;\n",
      "LaneID:28925528_0;Time:4017.0;\n",
      "LaneID:28925528_0;Time:4018.0;\n",
      "LaneID:28925528_0;Time:4033.0;\n",
      "LaneID:28925528_0;Time:4034.0;\n",
      "LaneID:28925528_0;Time:4035.0;\n",
      "LaneID:28925528_0;Time:4036.0;\n",
      "LaneID:28925528_0;Time:4037.0;\n",
      "LaneID:28925528_0;Time:4038.0;\n",
      "LaneID:28925528_0;Time:4039.0;\n",
      "LaneID:28925528_0;Time:4040.0;\n",
      "LaneID:28925528_0;Time:4041.0;\n",
      "LaneID:28925528_0;Time:4042.0;\n",
      "LaneID:28925528_0;Time:4043.0;\n",
      "LaneID:28925528_0;Time:4044.0;\n",
      "LaneID:28925528_0;Time:4045.0;\n",
      "LaneID:28925528_0;Time:4046.0;\n",
      "LaneID:28925528_0;Time:4047.0;\n"
     ]
    },
    {
     "name": "stderr",
     "output_type": "stream",
     "text": [
      "C:\\Users\\Administrator\\AppData\\Local\\Temp\\ipykernel_16000\\2984826684.py:101: FutureWarning: The frame.append method is deprecated and will be removed from pandas in a future version. Use pandas.concat instead.\n",
      "  redFlagRecord = redFlagRecord.append(veh, ignore_index=True)\n",
      "C:\\Users\\Administrator\\AppData\\Local\\Temp\\ipykernel_16000\\2984826684.py:101: FutureWarning: The frame.append method is deprecated and will be removed from pandas in a future version. Use pandas.concat instead.\n",
      "  redFlagRecord = redFlagRecord.append(veh, ignore_index=True)\n",
      "C:\\Users\\Administrator\\AppData\\Local\\Temp\\ipykernel_16000\\2984826684.py:101: FutureWarning: The frame.append method is deprecated and will be removed from pandas in a future version. Use pandas.concat instead.\n",
      "  redFlagRecord = redFlagRecord.append(veh, ignore_index=True)\n",
      "C:\\Users\\Administrator\\AppData\\Local\\Temp\\ipykernel_16000\\2984826684.py:101: FutureWarning: The frame.append method is deprecated and will be removed from pandas in a future version. Use pandas.concat instead.\n",
      "  redFlagRecord = redFlagRecord.append(veh, ignore_index=True)\n",
      "C:\\Users\\Administrator\\AppData\\Local\\Temp\\ipykernel_16000\\2984826684.py:101: FutureWarning: The frame.append method is deprecated and will be removed from pandas in a future version. Use pandas.concat instead.\n",
      "  redFlagRecord = redFlagRecord.append(veh, ignore_index=True)\n",
      "C:\\Users\\Administrator\\AppData\\Local\\Temp\\ipykernel_16000\\2984826684.py:101: FutureWarning: The frame.append method is deprecated and will be removed from pandas in a future version. Use pandas.concat instead.\n",
      "  redFlagRecord = redFlagRecord.append(veh, ignore_index=True)\n",
      "C:\\Users\\Administrator\\AppData\\Local\\Temp\\ipykernel_16000\\2984826684.py:101: FutureWarning: The frame.append method is deprecated and will be removed from pandas in a future version. Use pandas.concat instead.\n",
      "  redFlagRecord = redFlagRecord.append(veh, ignore_index=True)\n"
     ]
    },
    {
     "name": "stdout",
     "output_type": "stream",
     "text": [
      "LaneID:28925528_0;Time:4050.0;\n",
      "LaneID:28925528_0;Time:4051.0;\n",
      "LaneID:28925528_0;Time:4052.0;\n",
      "LaneID:28925528_0;Time:4053.0;\n",
      "LaneID:28925528_0;Time:4055.0;\n",
      "LaneID:28925528_0;Time:4056.0;\n",
      "LaneID:28925528_0;Time:4057.0;\n",
      "LaneID:28925528_0;Time:4058.0;\n",
      "LaneID:28925528_0;Time:4059.0;\n",
      "LaneID:28925528_0;Time:4060.0;\n",
      "LaneID:28925528_0;Time:4061.0;\n",
      "LaneID:28925528_0;Time:4062.0;\n",
      "LaneID:28925528_0;Time:4063.0;\n",
      "LaneID:28925528_0;Time:4064.0;\n",
      "LaneID:28925528_0;Time:4065.0;\n",
      "LaneID:28925528_0;Time:4066.0;\n",
      "LaneID:28925528_0;Time:4067.0;\n",
      "LaneID:28925528_0;Time:4068.0;\n",
      "LaneID:28925528_0;Time:4069.0;\n",
      "LaneID:28925528_0;Time:4070.0;\n"
     ]
    },
    {
     "name": "stderr",
     "output_type": "stream",
     "text": [
      "C:\\Users\\Administrator\\AppData\\Local\\Temp\\ipykernel_16000\\2984826684.py:101: FutureWarning: The frame.append method is deprecated and will be removed from pandas in a future version. Use pandas.concat instead.\n",
      "  redFlagRecord = redFlagRecord.append(veh, ignore_index=True)\n",
      "C:\\Users\\Administrator\\AppData\\Local\\Temp\\ipykernel_16000\\2984826684.py:101: FutureWarning: The frame.append method is deprecated and will be removed from pandas in a future version. Use pandas.concat instead.\n",
      "  redFlagRecord = redFlagRecord.append(veh, ignore_index=True)\n",
      "C:\\Users\\Administrator\\AppData\\Local\\Temp\\ipykernel_16000\\2984826684.py:101: FutureWarning: The frame.append method is deprecated and will be removed from pandas in a future version. Use pandas.concat instead.\n",
      "  redFlagRecord = redFlagRecord.append(veh, ignore_index=True)\n",
      "C:\\Users\\Administrator\\AppData\\Local\\Temp\\ipykernel_16000\\2984826684.py:101: FutureWarning: The frame.append method is deprecated and will be removed from pandas in a future version. Use pandas.concat instead.\n",
      "  redFlagRecord = redFlagRecord.append(veh, ignore_index=True)\n",
      "C:\\Users\\Administrator\\AppData\\Local\\Temp\\ipykernel_16000\\2984826684.py:101: FutureWarning: The frame.append method is deprecated and will be removed from pandas in a future version. Use pandas.concat instead.\n",
      "  redFlagRecord = redFlagRecord.append(veh, ignore_index=True)\n",
      "C:\\Users\\Administrator\\AppData\\Local\\Temp\\ipykernel_16000\\2984826684.py:101: FutureWarning: The frame.append method is deprecated and will be removed from pandas in a future version. Use pandas.concat instead.\n",
      "  redFlagRecord = redFlagRecord.append(veh, ignore_index=True)\n",
      "C:\\Users\\Administrator\\AppData\\Local\\Temp\\ipykernel_16000\\2984826684.py:101: FutureWarning: The frame.append method is deprecated and will be removed from pandas in a future version. Use pandas.concat instead.\n",
      "  redFlagRecord = redFlagRecord.append(veh, ignore_index=True)\n"
     ]
    },
    {
     "name": "stdout",
     "output_type": "stream",
     "text": [
      "LaneID:28925528_0;Time:4071.0;\n",
      "LaneID:28925528_0;Time:4072.0;\n",
      "LaneID:28925528_0;Time:4073.0;\n",
      "LaneID:28925528_0;Time:4074.0;\n",
      "LaneID:28925528_0;Time:4075.0;\n",
      "LaneID:28925528_0;Time:4076.0;\n",
      "LaneID:28925528_0;Time:4077.0;\n"
     ]
    },
    {
     "name": "stderr",
     "output_type": "stream",
     "text": [
      "C:\\Users\\Administrator\\AppData\\Local\\Temp\\ipykernel_16000\\2984826684.py:101: FutureWarning: The frame.append method is deprecated and will be removed from pandas in a future version. Use pandas.concat instead.\n",
      "  redFlagRecord = redFlagRecord.append(veh, ignore_index=True)\n",
      "C:\\Users\\Administrator\\AppData\\Local\\Temp\\ipykernel_16000\\2984826684.py:101: FutureWarning: The frame.append method is deprecated and will be removed from pandas in a future version. Use pandas.concat instead.\n",
      "  redFlagRecord = redFlagRecord.append(veh, ignore_index=True)\n",
      "C:\\Users\\Administrator\\AppData\\Local\\Temp\\ipykernel_16000\\2984826684.py:101: FutureWarning: The frame.append method is deprecated and will be removed from pandas in a future version. Use pandas.concat instead.\n",
      "  redFlagRecord = redFlagRecord.append(veh, ignore_index=True)\n",
      "C:\\Users\\Administrator\\AppData\\Local\\Temp\\ipykernel_16000\\2984826684.py:101: FutureWarning: The frame.append method is deprecated and will be removed from pandas in a future version. Use pandas.concat instead.\n",
      "  redFlagRecord = redFlagRecord.append(veh, ignore_index=True)\n",
      "C:\\Users\\Administrator\\AppData\\Local\\Temp\\ipykernel_16000\\2984826684.py:101: FutureWarning: The frame.append method is deprecated and will be removed from pandas in a future version. Use pandas.concat instead.\n",
      "  redFlagRecord = redFlagRecord.append(veh, ignore_index=True)\n",
      "C:\\Users\\Administrator\\AppData\\Local\\Temp\\ipykernel_16000\\2984826684.py:101: FutureWarning: The frame.append method is deprecated and will be removed from pandas in a future version. Use pandas.concat instead.\n",
      "  redFlagRecord = redFlagRecord.append(veh, ignore_index=True)\n"
     ]
    },
    {
     "name": "stdout",
     "output_type": "stream",
     "text": [
      "LaneID:28925528_0;Time:4078.0;\n",
      "LaneID:28925528_0;Time:4079.0;\n",
      "LaneID:28925528_0;Time:4080.0;\n",
      "LaneID:28925528_0;Time:4081.0;\n",
      "LaneID:28925528_0;Time:4082.0;\n",
      "LaneID:28925528_0;Time:4083.0;\n",
      "LaneID:28925528_0;Time:4097.0;\n",
      "LaneID:28925528_0;Time:4098.0;\n",
      "LaneID:28925528_0;Time:4099.0;\n",
      "LaneID:28925528_0;Time:4100.0;\n",
      "LaneID:28925528_0;Time:4101.0;\n",
      "LaneID:28925528_0;Time:4102.0;\n",
      "LaneID:28925528_0;Time:4103.0;\n",
      "LaneID:28925528_0;Time:4104.0;\n",
      "LaneID:28925528_0;Time:4105.0;\n",
      "LaneID:28925528_0;Time:4106.0;\n",
      "LaneID:28925528_0;Time:4107.0;\n",
      "LaneID:28925528_0;Time:4108.0;\n",
      "LaneID:28925528_0;Time:4109.0;\n",
      "LaneID:28925528_0;Time:4118.0;\n",
      "LaneID:28925528_0;Time:4119.0;\n",
      "LaneID:28925528_0;Time:4120.0;\n",
      "LaneID:28925528_0;Time:4121.0;\n",
      "LaneID:28925528_0;Time:4122.0;\n",
      "LaneID:28925528_0;Time:4123.0;\n",
      "LaneID:28925528_0;Time:4124.0;\n",
      "LaneID:28925528_0;Time:4125.0;\n",
      "LaneID:28925528_0;Time:4126.0;\n",
      "LaneID:28925528_0;Time:4127.0;\n",
      "LaneID:28925528_0;Time:4128.0;\n",
      "LaneID:28925528_0;Time:4129.0;\n"
     ]
    },
    {
     "name": "stderr",
     "output_type": "stream",
     "text": [
      "C:\\Users\\Administrator\\AppData\\Local\\Temp\\ipykernel_16000\\2984826684.py:101: FutureWarning: The frame.append method is deprecated and will be removed from pandas in a future version. Use pandas.concat instead.\n",
      "  redFlagRecord = redFlagRecord.append(veh, ignore_index=True)\n",
      "C:\\Users\\Administrator\\AppData\\Local\\Temp\\ipykernel_16000\\2984826684.py:101: FutureWarning: The frame.append method is deprecated and will be removed from pandas in a future version. Use pandas.concat instead.\n",
      "  redFlagRecord = redFlagRecord.append(veh, ignore_index=True)\n",
      "C:\\Users\\Administrator\\AppData\\Local\\Temp\\ipykernel_16000\\2984826684.py:101: FutureWarning: The frame.append method is deprecated and will be removed from pandas in a future version. Use pandas.concat instead.\n",
      "  redFlagRecord = redFlagRecord.append(veh, ignore_index=True)\n",
      "C:\\Users\\Administrator\\AppData\\Local\\Temp\\ipykernel_16000\\2984826684.py:101: FutureWarning: The frame.append method is deprecated and will be removed from pandas in a future version. Use pandas.concat instead.\n",
      "  redFlagRecord = redFlagRecord.append(veh, ignore_index=True)\n",
      "C:\\Users\\Administrator\\AppData\\Local\\Temp\\ipykernel_16000\\2984826684.py:101: FutureWarning: The frame.append method is deprecated and will be removed from pandas in a future version. Use pandas.concat instead.\n",
      "  redFlagRecord = redFlagRecord.append(veh, ignore_index=True)\n",
      "C:\\Users\\Administrator\\AppData\\Local\\Temp\\ipykernel_16000\\2984826684.py:101: FutureWarning: The frame.append method is deprecated and will be removed from pandas in a future version. Use pandas.concat instead.\n",
      "  redFlagRecord = redFlagRecord.append(veh, ignore_index=True)\n",
      "C:\\Users\\Administrator\\AppData\\Local\\Temp\\ipykernel_16000\\2984826684.py:101: FutureWarning: The frame.append method is deprecated and will be removed from pandas in a future version. Use pandas.concat instead.\n",
      "  redFlagRecord = redFlagRecord.append(veh, ignore_index=True)\n"
     ]
    },
    {
     "name": "stdout",
     "output_type": "stream",
     "text": [
      "LaneID:28925528_0;Time:4130.0;\n",
      "LaneID:28925528_0;Time:4131.0;\n",
      "LaneID:28925528_0;Time:4132.0;\n",
      "LaneID:28925528_0;Time:4133.0;\n",
      "LaneID:28925528_0;Time:4134.0;\n",
      "LaneID:28925528_0;Time:4135.0;\n",
      "LaneID:28925528_0;Time:4136.0;\n"
     ]
    },
    {
     "name": "stderr",
     "output_type": "stream",
     "text": [
      "C:\\Users\\Administrator\\AppData\\Local\\Temp\\ipykernel_16000\\2984826684.py:101: FutureWarning: The frame.append method is deprecated and will be removed from pandas in a future version. Use pandas.concat instead.\n",
      "  redFlagRecord = redFlagRecord.append(veh, ignore_index=True)\n",
      "C:\\Users\\Administrator\\AppData\\Local\\Temp\\ipykernel_16000\\2984826684.py:101: FutureWarning: The frame.append method is deprecated and will be removed from pandas in a future version. Use pandas.concat instead.\n",
      "  redFlagRecord = redFlagRecord.append(veh, ignore_index=True)\n",
      "C:\\Users\\Administrator\\AppData\\Local\\Temp\\ipykernel_16000\\2984826684.py:101: FutureWarning: The frame.append method is deprecated and will be removed from pandas in a future version. Use pandas.concat instead.\n",
      "  redFlagRecord = redFlagRecord.append(veh, ignore_index=True)\n",
      "C:\\Users\\Administrator\\AppData\\Local\\Temp\\ipykernel_16000\\2984826684.py:101: FutureWarning: The frame.append method is deprecated and will be removed from pandas in a future version. Use pandas.concat instead.\n",
      "  redFlagRecord = redFlagRecord.append(veh, ignore_index=True)\n",
      "C:\\Users\\Administrator\\AppData\\Local\\Temp\\ipykernel_16000\\2984826684.py:101: FutureWarning: The frame.append method is deprecated and will be removed from pandas in a future version. Use pandas.concat instead.\n",
      "  redFlagRecord = redFlagRecord.append(veh, ignore_index=True)\n",
      "C:\\Users\\Administrator\\AppData\\Local\\Temp\\ipykernel_16000\\2984826684.py:101: FutureWarning: The frame.append method is deprecated and will be removed from pandas in a future version. Use pandas.concat instead.\n",
      "  redFlagRecord = redFlagRecord.append(veh, ignore_index=True)\n",
      "C:\\Users\\Administrator\\AppData\\Local\\Temp\\ipykernel_16000\\2984826684.py:101: FutureWarning: The frame.append method is deprecated and will be removed from pandas in a future version. Use pandas.concat instead.\n",
      "  redFlagRecord = redFlagRecord.append(veh, ignore_index=True)\n"
     ]
    },
    {
     "name": "stdout",
     "output_type": "stream",
     "text": [
      "LaneID:28925528_0;Time:4137.0;\n",
      "LaneID:28925528_0;Time:4138.0;\n",
      "LaneID:28925528_0;Time:4139.0;\n",
      "LaneID:28925528_0;Time:4140.0;\n",
      "LaneID:28925528_0;Time:4141.0;\n",
      "LaneID:28925528_0;Time:4142.0;\n",
      "LaneID:28925528_0;Time:4143.0;\n",
      "LaneID:28925528_0;Time:4144.0;\n",
      "LaneID:28925528_0;Time:4145.0;\n",
      "LaneID:28925528_0;Time:4159.0;\n",
      "LaneID:28925528_0;Time:4160.0;\n",
      "LaneID:28925528_0;Time:4161.0;\n",
      "LaneID:28925528_0;Time:4162.0;\n",
      "LaneID:28925528_0;Time:4163.0;\n",
      "LaneID:28925528_0;Time:4164.0;\n",
      "LaneID:28925528_0;Time:4165.0;\n",
      "LaneID:28925528_0;Time:4166.0;\n",
      "LaneID:28925528_0;Time:4167.0;\n",
      "LaneID:28925528_0;Time:4168.0;\n",
      "LaneID:28925528_0;Time:4169.0;\n",
      "LaneID:28925528_0;Time:4170.0;\n"
     ]
    },
    {
     "name": "stderr",
     "output_type": "stream",
     "text": [
      "C:\\Users\\Administrator\\AppData\\Local\\Temp\\ipykernel_16000\\2984826684.py:101: FutureWarning: The frame.append method is deprecated and will be removed from pandas in a future version. Use pandas.concat instead.\n",
      "  redFlagRecord = redFlagRecord.append(veh, ignore_index=True)\n",
      "C:\\Users\\Administrator\\AppData\\Local\\Temp\\ipykernel_16000\\2984826684.py:101: FutureWarning: The frame.append method is deprecated and will be removed from pandas in a future version. Use pandas.concat instead.\n",
      "  redFlagRecord = redFlagRecord.append(veh, ignore_index=True)\n",
      "C:\\Users\\Administrator\\AppData\\Local\\Temp\\ipykernel_16000\\2984826684.py:101: FutureWarning: The frame.append method is deprecated and will be removed from pandas in a future version. Use pandas.concat instead.\n",
      "  redFlagRecord = redFlagRecord.append(veh, ignore_index=True)\n",
      "C:\\Users\\Administrator\\AppData\\Local\\Temp\\ipykernel_16000\\2984826684.py:101: FutureWarning: The frame.append method is deprecated and will be removed from pandas in a future version. Use pandas.concat instead.\n",
      "  redFlagRecord = redFlagRecord.append(veh, ignore_index=True)\n",
      "C:\\Users\\Administrator\\AppData\\Local\\Temp\\ipykernel_16000\\2984826684.py:101: FutureWarning: The frame.append method is deprecated and will be removed from pandas in a future version. Use pandas.concat instead.\n",
      "  redFlagRecord = redFlagRecord.append(veh, ignore_index=True)\n",
      "C:\\Users\\Administrator\\AppData\\Local\\Temp\\ipykernel_16000\\2984826684.py:101: FutureWarning: The frame.append method is deprecated and will be removed from pandas in a future version. Use pandas.concat instead.\n",
      "  redFlagRecord = redFlagRecord.append(veh, ignore_index=True)\n"
     ]
    },
    {
     "name": "stdout",
     "output_type": "stream",
     "text": [
      "LaneID:28925528_0;Time:4171.0;\n",
      "LaneID:28925528_0;Time:4182.0;\n",
      "LaneID:28925528_0;Time:4183.0;\n",
      "LaneID:28925528_0;Time:4184.0;\n",
      "LaneID:28925528_0;Time:4185.0;\n",
      "LaneID:28925528_0;Time:4186.0;\n",
      "LaneID:28925528_0;Time:4187.0;\n",
      "LaneID:28925528_0;Time:4188.0;\n",
      "LaneID:28925528_0;Time:4189.0;\n",
      "LaneID:28925528_0;Time:4190.0;\n",
      "LaneID:28925528_0;Time:4191.0;\n",
      "LaneID:28925528_0;Time:4192.0;\n",
      "LaneID:28925528_0;Time:4193.0;\n",
      "LaneID:28925528_0;Time:4194.0;\n",
      "LaneID:28925528_0;Time:4195.0;\n",
      "LaneID:28925528_0;Time:4196.0;\n"
     ]
    },
    {
     "name": "stderr",
     "output_type": "stream",
     "text": [
      "C:\\Users\\Administrator\\AppData\\Local\\Temp\\ipykernel_16000\\2984826684.py:101: FutureWarning: The frame.append method is deprecated and will be removed from pandas in a future version. Use pandas.concat instead.\n",
      "  redFlagRecord = redFlagRecord.append(veh, ignore_index=True)\n",
      "C:\\Users\\Administrator\\AppData\\Local\\Temp\\ipykernel_16000\\2984826684.py:101: FutureWarning: The frame.append method is deprecated and will be removed from pandas in a future version. Use pandas.concat instead.\n",
      "  redFlagRecord = redFlagRecord.append(veh, ignore_index=True)\n",
      "C:\\Users\\Administrator\\AppData\\Local\\Temp\\ipykernel_16000\\2984826684.py:101: FutureWarning: The frame.append method is deprecated and will be removed from pandas in a future version. Use pandas.concat instead.\n",
      "  redFlagRecord = redFlagRecord.append(veh, ignore_index=True)\n",
      "C:\\Users\\Administrator\\AppData\\Local\\Temp\\ipykernel_16000\\2984826684.py:101: FutureWarning: The frame.append method is deprecated and will be removed from pandas in a future version. Use pandas.concat instead.\n",
      "  redFlagRecord = redFlagRecord.append(veh, ignore_index=True)\n",
      "C:\\Users\\Administrator\\AppData\\Local\\Temp\\ipykernel_16000\\2984826684.py:101: FutureWarning: The frame.append method is deprecated and will be removed from pandas in a future version. Use pandas.concat instead.\n",
      "  redFlagRecord = redFlagRecord.append(veh, ignore_index=True)\n",
      "C:\\Users\\Administrator\\AppData\\Local\\Temp\\ipykernel_16000\\2984826684.py:101: FutureWarning: The frame.append method is deprecated and will be removed from pandas in a future version. Use pandas.concat instead.\n",
      "  redFlagRecord = redFlagRecord.append(veh, ignore_index=True)\n",
      "C:\\Users\\Administrator\\AppData\\Local\\Temp\\ipykernel_16000\\2984826684.py:101: FutureWarning: The frame.append method is deprecated and will be removed from pandas in a future version. Use pandas.concat instead.\n",
      "  redFlagRecord = redFlagRecord.append(veh, ignore_index=True)\n"
     ]
    },
    {
     "name": "stdout",
     "output_type": "stream",
     "text": [
      "LaneID:28925528_0;Time:4197.0;\n",
      "LaneID:28925528_0;Time:4198.0;\n",
      "LaneID:28925528_0;Time:4199.0;\n",
      "LaneID:28925528_0;Time:4200.0;\n",
      "LaneID:28925528_0;Time:4201.0;\n",
      "LaneID:28925528_0;Time:4202.0;\n",
      "LaneID:28925528_0;Time:4203.0;\n",
      "LaneID:28925528_0;Time:4204.0;\n",
      "LaneID:28925528_0;Time:4205.0;\n",
      "LaneID:28925528_0;Time:4206.0;\n",
      "LaneID:28925528_0;Time:4207.0;\n",
      "LaneID:28925528_0;Time:4208.0;\n",
      "LaneID:28925528_0;Time:4209.0;\n",
      "LaneID:28925528_0;Time:4226.0;\n",
      "LaneID:28925528_0;Time:4227.0;\n",
      "LaneID:28925528_0;Time:4228.0;\n",
      "LaneID:28925528_0;Time:4229.0;\n",
      "LaneID:28925528_0;Time:4230.0;\n",
      "LaneID:28925528_0;Time:4231.0;\n",
      "LaneID:28925528_0;Time:4232.0;\n",
      "LaneID:28925528_0;Time:4233.0;\n",
      "LaneID:28925528_0;Time:4245.0;\n",
      "LaneID:28925528_0;Time:4246.0;\n",
      "LaneID:28925528_0;Time:4247.0;\n",
      "LaneID:28925528_0;Time:4248.0;\n",
      "LaneID:28925528_0;Time:4249.0;\n",
      "LaneID:28925528_0;Time:4250.0;\n",
      "LaneID:28925528_0;Time:4251.0;\n",
      "LaneID:28925528_0;Time:4252.0;\n",
      "LaneID:28925528_0;Time:4253.0;\n",
      "LaneID:28925528_0;Time:4254.0;\n"
     ]
    },
    {
     "name": "stderr",
     "output_type": "stream",
     "text": [
      "C:\\Users\\Administrator\\AppData\\Local\\Temp\\ipykernel_16000\\2984826684.py:101: FutureWarning: The frame.append method is deprecated and will be removed from pandas in a future version. Use pandas.concat instead.\n",
      "  redFlagRecord = redFlagRecord.append(veh, ignore_index=True)\n",
      "C:\\Users\\Administrator\\AppData\\Local\\Temp\\ipykernel_16000\\2984826684.py:101: FutureWarning: The frame.append method is deprecated and will be removed from pandas in a future version. Use pandas.concat instead.\n",
      "  redFlagRecord = redFlagRecord.append(veh, ignore_index=True)\n",
      "C:\\Users\\Administrator\\AppData\\Local\\Temp\\ipykernel_16000\\2984826684.py:101: FutureWarning: The frame.append method is deprecated and will be removed from pandas in a future version. Use pandas.concat instead.\n",
      "  redFlagRecord = redFlagRecord.append(veh, ignore_index=True)\n",
      "C:\\Users\\Administrator\\AppData\\Local\\Temp\\ipykernel_16000\\2984826684.py:101: FutureWarning: The frame.append method is deprecated and will be removed from pandas in a future version. Use pandas.concat instead.\n",
      "  redFlagRecord = redFlagRecord.append(veh, ignore_index=True)\n",
      "C:\\Users\\Administrator\\AppData\\Local\\Temp\\ipykernel_16000\\2984826684.py:101: FutureWarning: The frame.append method is deprecated and will be removed from pandas in a future version. Use pandas.concat instead.\n",
      "  redFlagRecord = redFlagRecord.append(veh, ignore_index=True)\n"
     ]
    },
    {
     "name": "stdout",
     "output_type": "stream",
     "text": [
      "LaneID:28925528_0;Time:4255.0;\n",
      "LaneID:28925528_0;Time:4256.0;\n",
      "LaneID:28925528_0;Time:4257.0;\n",
      "LaneID:28925528_0;Time:4258.0;\n",
      "LaneID:28925528_0;Time:4259.0;\n"
     ]
    },
    {
     "name": "stderr",
     "output_type": "stream",
     "text": [
      "C:\\Users\\Administrator\\AppData\\Local\\Temp\\ipykernel_16000\\2984826684.py:101: FutureWarning: The frame.append method is deprecated and will be removed from pandas in a future version. Use pandas.concat instead.\n",
      "  redFlagRecord = redFlagRecord.append(veh, ignore_index=True)\n",
      "C:\\Users\\Administrator\\AppData\\Local\\Temp\\ipykernel_16000\\2984826684.py:101: FutureWarning: The frame.append method is deprecated and will be removed from pandas in a future version. Use pandas.concat instead.\n",
      "  redFlagRecord = redFlagRecord.append(veh, ignore_index=True)\n",
      "C:\\Users\\Administrator\\AppData\\Local\\Temp\\ipykernel_16000\\2984826684.py:101: FutureWarning: The frame.append method is deprecated and will be removed from pandas in a future version. Use pandas.concat instead.\n",
      "  redFlagRecord = redFlagRecord.append(veh, ignore_index=True)\n",
      "C:\\Users\\Administrator\\AppData\\Local\\Temp\\ipykernel_16000\\2984826684.py:101: FutureWarning: The frame.append method is deprecated and will be removed from pandas in a future version. Use pandas.concat instead.\n",
      "  redFlagRecord = redFlagRecord.append(veh, ignore_index=True)\n",
      "C:\\Users\\Administrator\\AppData\\Local\\Temp\\ipykernel_16000\\2984826684.py:101: FutureWarning: The frame.append method is deprecated and will be removed from pandas in a future version. Use pandas.concat instead.\n",
      "  redFlagRecord = redFlagRecord.append(veh, ignore_index=True)\n",
      "C:\\Users\\Administrator\\AppData\\Local\\Temp\\ipykernel_16000\\2984826684.py:101: FutureWarning: The frame.append method is deprecated and will be removed from pandas in a future version. Use pandas.concat instead.\n",
      "  redFlagRecord = redFlagRecord.append(veh, ignore_index=True)\n",
      "C:\\Users\\Administrator\\AppData\\Local\\Temp\\ipykernel_16000\\2984826684.py:101: FutureWarning: The frame.append method is deprecated and will be removed from pandas in a future version. Use pandas.concat instead.\n",
      "  redFlagRecord = redFlagRecord.append(veh, ignore_index=True)\n"
     ]
    },
    {
     "name": "stdout",
     "output_type": "stream",
     "text": [
      "LaneID:28925528_0;Time:4260.0;\n",
      "LaneID:28925528_0;Time:4261.0;\n",
      "LaneID:28925528_0;Time:4262.0;\n",
      "LaneID:28925528_0;Time:4263.0;\n",
      "LaneID:28925528_0;Time:4264.0;\n",
      "LaneID:28925528_0;Time:4267.0;\n",
      "LaneID:28925528_0;Time:4268.0;\n",
      "LaneID:28925528_0;Time:4269.0;\n",
      "LaneID:28925528_0;Time:4270.0;\n",
      "LaneID:28925528_0;Time:4271.0;\n",
      "LaneID:28925528_0;Time:4272.0;\n",
      "LaneID:28925528_0;Time:4273.0;\n",
      "LaneID:28925528_0;Time:4274.0;\n",
      "LaneID:28925528_0;Time:4275.0;\n",
      "LaneID:28925528_0;Time:4276.0;\n",
      "LaneID:28925528_0;Time:4277.0;\n",
      "LaneID:28925528_0;Time:4278.0;\n"
     ]
    },
    {
     "name": "stderr",
     "output_type": "stream",
     "text": [
      "C:\\Users\\Administrator\\AppData\\Local\\Temp\\ipykernel_16000\\2984826684.py:101: FutureWarning: The frame.append method is deprecated and will be removed from pandas in a future version. Use pandas.concat instead.\n",
      "  redFlagRecord = redFlagRecord.append(veh, ignore_index=True)\n",
      "C:\\Users\\Administrator\\AppData\\Local\\Temp\\ipykernel_16000\\2984826684.py:101: FutureWarning: The frame.append method is deprecated and will be removed from pandas in a future version. Use pandas.concat instead.\n",
      "  redFlagRecord = redFlagRecord.append(veh, ignore_index=True)\n",
      "C:\\Users\\Administrator\\AppData\\Local\\Temp\\ipykernel_16000\\2984826684.py:101: FutureWarning: The frame.append method is deprecated and will be removed from pandas in a future version. Use pandas.concat instead.\n",
      "  redFlagRecord = redFlagRecord.append(veh, ignore_index=True)\n",
      "C:\\Users\\Administrator\\AppData\\Local\\Temp\\ipykernel_16000\\2984826684.py:101: FutureWarning: The frame.append method is deprecated and will be removed from pandas in a future version. Use pandas.concat instead.\n",
      "  redFlagRecord = redFlagRecord.append(veh, ignore_index=True)\n",
      "C:\\Users\\Administrator\\AppData\\Local\\Temp\\ipykernel_16000\\2984826684.py:101: FutureWarning: The frame.append method is deprecated and will be removed from pandas in a future version. Use pandas.concat instead.\n",
      "  redFlagRecord = redFlagRecord.append(veh, ignore_index=True)\n",
      "C:\\Users\\Administrator\\AppData\\Local\\Temp\\ipykernel_16000\\2984826684.py:101: FutureWarning: The frame.append method is deprecated and will be removed from pandas in a future version. Use pandas.concat instead.\n",
      "  redFlagRecord = redFlagRecord.append(veh, ignore_index=True)\n",
      "C:\\Users\\Administrator\\AppData\\Local\\Temp\\ipykernel_16000\\2984826684.py:101: FutureWarning: The frame.append method is deprecated and will be removed from pandas in a future version. Use pandas.concat instead.\n",
      "  redFlagRecord = redFlagRecord.append(veh, ignore_index=True)\n"
     ]
    },
    {
     "name": "stdout",
     "output_type": "stream",
     "text": [
      "LaneID:28925528_0;Time:4279.0;\n",
      "LaneID:28925528_0;Time:4280.0;\n",
      "LaneID:28925528_0;Time:4281.0;\n",
      "LaneID:28925528_0;Time:4282.0;\n",
      "LaneID:28925528_0;Time:4283.0;\n",
      "LaneID:28925528_0;Time:4284.0;\n",
      "LaneID:28925528_0;Time:4285.0;\n"
     ]
    },
    {
     "name": "stderr",
     "output_type": "stream",
     "text": [
      "C:\\Users\\Administrator\\AppData\\Local\\Temp\\ipykernel_16000\\2984826684.py:101: FutureWarning: The frame.append method is deprecated and will be removed from pandas in a future version. Use pandas.concat instead.\n",
      "  redFlagRecord = redFlagRecord.append(veh, ignore_index=True)\n",
      "C:\\Users\\Administrator\\AppData\\Local\\Temp\\ipykernel_16000\\2984826684.py:101: FutureWarning: The frame.append method is deprecated and will be removed from pandas in a future version. Use pandas.concat instead.\n",
      "  redFlagRecord = redFlagRecord.append(veh, ignore_index=True)\n",
      "C:\\Users\\Administrator\\AppData\\Local\\Temp\\ipykernel_16000\\2984826684.py:101: FutureWarning: The frame.append method is deprecated and will be removed from pandas in a future version. Use pandas.concat instead.\n",
      "  redFlagRecord = redFlagRecord.append(veh, ignore_index=True)\n",
      "C:\\Users\\Administrator\\AppData\\Local\\Temp\\ipykernel_16000\\2984826684.py:101: FutureWarning: The frame.append method is deprecated and will be removed from pandas in a future version. Use pandas.concat instead.\n",
      "  redFlagRecord = redFlagRecord.append(veh, ignore_index=True)\n",
      "C:\\Users\\Administrator\\AppData\\Local\\Temp\\ipykernel_16000\\2984826684.py:101: FutureWarning: The frame.append method is deprecated and will be removed from pandas in a future version. Use pandas.concat instead.\n",
      "  redFlagRecord = redFlagRecord.append(veh, ignore_index=True)\n",
      "C:\\Users\\Administrator\\AppData\\Local\\Temp\\ipykernel_16000\\2984826684.py:101: FutureWarning: The frame.append method is deprecated and will be removed from pandas in a future version. Use pandas.concat instead.\n",
      "  redFlagRecord = redFlagRecord.append(veh, ignore_index=True)\n",
      "C:\\Users\\Administrator\\AppData\\Local\\Temp\\ipykernel_16000\\2984826684.py:101: FutureWarning: The frame.append method is deprecated and will be removed from pandas in a future version. Use pandas.concat instead.\n",
      "  redFlagRecord = redFlagRecord.append(veh, ignore_index=True)\n"
     ]
    },
    {
     "name": "stdout",
     "output_type": "stream",
     "text": [
      "LaneID:28925528_0;Time:4286.0;\n",
      "LaneID:28925528_0;Time:4287.0;\n",
      "LaneID:28925528_0;Time:4288.0;\n",
      "LaneID:28925528_0;Time:4289.0;\n",
      "LaneID:28925528_0;Time:4290.0;\n",
      "LaneID:28925528_0;Time:4291.0;\n",
      "LaneID:28925528_0;Time:4292.0;\n",
      "LaneID:28925528_0;Time:4293.0;\n",
      "LaneID:28925528_0;Time:4294.0;\n",
      "LaneID:28925528_0;Time:4295.0;\n",
      "LaneID:28925528_0;Time:4296.0;\n",
      "LaneID:28925528_0;Time:4297.0;\n",
      "LaneID:28925528_0;Time:4308.0;\n",
      "LaneID:28925528_0;Time:4309.0;\n",
      "LaneID:28925528_0;Time:4310.0;\n",
      "LaneID:28925528_0;Time:4311.0;\n",
      "LaneID:28925528_0;Time:4312.0;\n",
      "LaneID:28925528_0;Time:4313.0;\n",
      "LaneID:28925528_0;Time:4314.0;\n",
      "LaneID:28925528_0;Time:4315.0;\n",
      "LaneID:28925528_0;Time:4322.0;\n",
      "LaneID:28925528_0;Time:4323.0;\n",
      "LaneID:28925528_0;Time:4324.0;\n"
     ]
    },
    {
     "name": "stderr",
     "output_type": "stream",
     "text": [
      "C:\\Users\\Administrator\\AppData\\Local\\Temp\\ipykernel_16000\\2984826684.py:101: FutureWarning: The frame.append method is deprecated and will be removed from pandas in a future version. Use pandas.concat instead.\n",
      "  redFlagRecord = redFlagRecord.append(veh, ignore_index=True)\n",
      "C:\\Users\\Administrator\\AppData\\Local\\Temp\\ipykernel_16000\\2984826684.py:101: FutureWarning: The frame.append method is deprecated and will be removed from pandas in a future version. Use pandas.concat instead.\n",
      "  redFlagRecord = redFlagRecord.append(veh, ignore_index=True)\n",
      "C:\\Users\\Administrator\\AppData\\Local\\Temp\\ipykernel_16000\\2984826684.py:101: FutureWarning: The frame.append method is deprecated and will be removed from pandas in a future version. Use pandas.concat instead.\n",
      "  redFlagRecord = redFlagRecord.append(veh, ignore_index=True)\n",
      "C:\\Users\\Administrator\\AppData\\Local\\Temp\\ipykernel_16000\\2984826684.py:101: FutureWarning: The frame.append method is deprecated and will be removed from pandas in a future version. Use pandas.concat instead.\n",
      "  redFlagRecord = redFlagRecord.append(veh, ignore_index=True)\n",
      "C:\\Users\\Administrator\\AppData\\Local\\Temp\\ipykernel_16000\\2984826684.py:101: FutureWarning: The frame.append method is deprecated and will be removed from pandas in a future version. Use pandas.concat instead.\n",
      "  redFlagRecord = redFlagRecord.append(veh, ignore_index=True)\n",
      "C:\\Users\\Administrator\\AppData\\Local\\Temp\\ipykernel_16000\\2984826684.py:101: FutureWarning: The frame.append method is deprecated and will be removed from pandas in a future version. Use pandas.concat instead.\n",
      "  redFlagRecord = redFlagRecord.append(veh, ignore_index=True)\n",
      "C:\\Users\\Administrator\\AppData\\Local\\Temp\\ipykernel_16000\\2984826684.py:101: FutureWarning: The frame.append method is deprecated and will be removed from pandas in a future version. Use pandas.concat instead.\n",
      "  redFlagRecord = redFlagRecord.append(veh, ignore_index=True)\n"
     ]
    },
    {
     "name": "stdout",
     "output_type": "stream",
     "text": [
      "LaneID:28925528_0;Time:4325.0;\n",
      "LaneID:28925528_0;Time:4326.0;\n",
      "LaneID:28925528_0;Time:4329.0;\n",
      "LaneID:28925528_0;Time:4330.0;\n",
      "LaneID:28925528_0;Time:4331.0;\n",
      "LaneID:28925528_0;Time:4332.0;\n",
      "LaneID:28925528_0;Time:4333.0;\n",
      "LaneID:28925528_0;Time:4334.0;\n",
      "LaneID:28925528_0;Time:4335.0;\n",
      "LaneID:28925528_0;Time:4336.0;\n",
      "LaneID:28925528_0;Time:4337.0;\n",
      "LaneID:28925528_0;Time:4338.0;\n",
      "LaneID:28925528_0;Time:4339.0;\n",
      "LaneID:28925528_0;Time:4340.0;\n",
      "LaneID:28925528_0;Time:4341.0;\n"
     ]
    },
    {
     "name": "stderr",
     "output_type": "stream",
     "text": [
      "C:\\Users\\Administrator\\AppData\\Local\\Temp\\ipykernel_16000\\2984826684.py:101: FutureWarning: The frame.append method is deprecated and will be removed from pandas in a future version. Use pandas.concat instead.\n",
      "  redFlagRecord = redFlagRecord.append(veh, ignore_index=True)\n",
      "C:\\Users\\Administrator\\AppData\\Local\\Temp\\ipykernel_16000\\2984826684.py:101: FutureWarning: The frame.append method is deprecated and will be removed from pandas in a future version. Use pandas.concat instead.\n",
      "  redFlagRecord = redFlagRecord.append(veh, ignore_index=True)\n",
      "C:\\Users\\Administrator\\AppData\\Local\\Temp\\ipykernel_16000\\2984826684.py:101: FutureWarning: The frame.append method is deprecated and will be removed from pandas in a future version. Use pandas.concat instead.\n",
      "  redFlagRecord = redFlagRecord.append(veh, ignore_index=True)\n",
      "C:\\Users\\Administrator\\AppData\\Local\\Temp\\ipykernel_16000\\2984826684.py:101: FutureWarning: The frame.append method is deprecated and will be removed from pandas in a future version. Use pandas.concat instead.\n",
      "  redFlagRecord = redFlagRecord.append(veh, ignore_index=True)\n",
      "C:\\Users\\Administrator\\AppData\\Local\\Temp\\ipykernel_16000\\2984826684.py:101: FutureWarning: The frame.append method is deprecated and will be removed from pandas in a future version. Use pandas.concat instead.\n",
      "  redFlagRecord = redFlagRecord.append(veh, ignore_index=True)\n",
      "C:\\Users\\Administrator\\AppData\\Local\\Temp\\ipykernel_16000\\2984826684.py:101: FutureWarning: The frame.append method is deprecated and will be removed from pandas in a future version. Use pandas.concat instead.\n",
      "  redFlagRecord = redFlagRecord.append(veh, ignore_index=True)\n"
     ]
    },
    {
     "name": "stdout",
     "output_type": "stream",
     "text": [
      "LaneID:28925528_0;Time:4342.0;\n",
      "LaneID:28925528_0;Time:4343.0;\n",
      "LaneID:28925528_0;Time:4344.0;\n",
      "LaneID:28925528_0;Time:4345.0;\n",
      "LaneID:28925528_0;Time:4346.0;\n",
      "LaneID:28925528_0;Time:4347.0;\n",
      "LaneID:28925528_0;Time:4348.0;\n"
     ]
    },
    {
     "name": "stderr",
     "output_type": "stream",
     "text": [
      "C:\\Users\\Administrator\\AppData\\Local\\Temp\\ipykernel_16000\\2984826684.py:101: FutureWarning: The frame.append method is deprecated and will be removed from pandas in a future version. Use pandas.concat instead.\n",
      "  redFlagRecord = redFlagRecord.append(veh, ignore_index=True)\n",
      "C:\\Users\\Administrator\\AppData\\Local\\Temp\\ipykernel_16000\\2984826684.py:101: FutureWarning: The frame.append method is deprecated and will be removed from pandas in a future version. Use pandas.concat instead.\n",
      "  redFlagRecord = redFlagRecord.append(veh, ignore_index=True)\n",
      "C:\\Users\\Administrator\\AppData\\Local\\Temp\\ipykernel_16000\\2984826684.py:101: FutureWarning: The frame.append method is deprecated and will be removed from pandas in a future version. Use pandas.concat instead.\n",
      "  redFlagRecord = redFlagRecord.append(veh, ignore_index=True)\n",
      "C:\\Users\\Administrator\\AppData\\Local\\Temp\\ipykernel_16000\\2984826684.py:101: FutureWarning: The frame.append method is deprecated and will be removed from pandas in a future version. Use pandas.concat instead.\n",
      "  redFlagRecord = redFlagRecord.append(veh, ignore_index=True)\n",
      "C:\\Users\\Administrator\\AppData\\Local\\Temp\\ipykernel_16000\\2984826684.py:101: FutureWarning: The frame.append method is deprecated and will be removed from pandas in a future version. Use pandas.concat instead.\n",
      "  redFlagRecord = redFlagRecord.append(veh, ignore_index=True)\n",
      "C:\\Users\\Administrator\\AppData\\Local\\Temp\\ipykernel_16000\\2984826684.py:101: FutureWarning: The frame.append method is deprecated and will be removed from pandas in a future version. Use pandas.concat instead.\n",
      "  redFlagRecord = redFlagRecord.append(veh, ignore_index=True)\n",
      "C:\\Users\\Administrator\\AppData\\Local\\Temp\\ipykernel_16000\\2984826684.py:101: FutureWarning: The frame.append method is deprecated and will be removed from pandas in a future version. Use pandas.concat instead.\n",
      "  redFlagRecord = redFlagRecord.append(veh, ignore_index=True)\n"
     ]
    },
    {
     "name": "stdout",
     "output_type": "stream",
     "text": [
      "LaneID:28925528_0;Time:4349.0;\n",
      "LaneID:28925528_0;Time:4350.0;\n",
      "LaneID:28925528_0;Time:4351.0;\n",
      "LaneID:28925528_0;Time:4352.0;\n",
      "LaneID:28925528_0;Time:4353.0;\n",
      "LaneID:28925528_0;Time:4354.0;\n",
      "LaneID:28925528_0;Time:4355.0;\n"
     ]
    },
    {
     "name": "stderr",
     "output_type": "stream",
     "text": [
      "C:\\Users\\Administrator\\AppData\\Local\\Temp\\ipykernel_16000\\2984826684.py:101: FutureWarning: The frame.append method is deprecated and will be removed from pandas in a future version. Use pandas.concat instead.\n",
      "  redFlagRecord = redFlagRecord.append(veh, ignore_index=True)\n",
      "C:\\Users\\Administrator\\AppData\\Local\\Temp\\ipykernel_16000\\2984826684.py:101: FutureWarning: The frame.append method is deprecated and will be removed from pandas in a future version. Use pandas.concat instead.\n",
      "  redFlagRecord = redFlagRecord.append(veh, ignore_index=True)\n",
      "C:\\Users\\Administrator\\AppData\\Local\\Temp\\ipykernel_16000\\2984826684.py:101: FutureWarning: The frame.append method is deprecated and will be removed from pandas in a future version. Use pandas.concat instead.\n",
      "  redFlagRecord = redFlagRecord.append(veh, ignore_index=True)\n",
      "C:\\Users\\Administrator\\AppData\\Local\\Temp\\ipykernel_16000\\2984826684.py:101: FutureWarning: The frame.append method is deprecated and will be removed from pandas in a future version. Use pandas.concat instead.\n",
      "  redFlagRecord = redFlagRecord.append(veh, ignore_index=True)\n",
      "C:\\Users\\Administrator\\AppData\\Local\\Temp\\ipykernel_16000\\2984826684.py:101: FutureWarning: The frame.append method is deprecated and will be removed from pandas in a future version. Use pandas.concat instead.\n",
      "  redFlagRecord = redFlagRecord.append(veh, ignore_index=True)\n",
      "C:\\Users\\Administrator\\AppData\\Local\\Temp\\ipykernel_16000\\2984826684.py:101: FutureWarning: The frame.append method is deprecated and will be removed from pandas in a future version. Use pandas.concat instead.\n",
      "  redFlagRecord = redFlagRecord.append(veh, ignore_index=True)\n",
      "C:\\Users\\Administrator\\AppData\\Local\\Temp\\ipykernel_16000\\2984826684.py:101: FutureWarning: The frame.append method is deprecated and will be removed from pandas in a future version. Use pandas.concat instead.\n",
      "  redFlagRecord = redFlagRecord.append(veh, ignore_index=True)\n"
     ]
    },
    {
     "name": "stdout",
     "output_type": "stream",
     "text": [
      "LaneID:28925528_0;Time:4356.0;\n",
      "LaneID:28925528_0;Time:4357.0;\n",
      "LaneID:28925528_0;Time:4376.0;\n",
      "LaneID:28925528_0;Time:4377.0;\n",
      "LaneID:28925528_0;Time:4378.0;\n",
      "LaneID:28925528_0;Time:4379.0;\n",
      "LaneID:28925528_0;Time:4380.0;\n",
      "LaneID:28925528_0;Time:4381.0;\n",
      "LaneID:28925528_0;Time:4382.0;\n",
      "LaneID:28925528_0;Time:4383.0;\n",
      "LaneID:28925528_0;Time:4384.0;\n",
      "LaneID:28925528_0;Time:4385.0;\n",
      "LaneID:28925528_0;Time:4386.0;\n",
      "LaneID:28925528_0;Time:4387.0;\n",
      "LaneID:28925528_0;Time:4388.0;\n",
      "LaneID:28925528_0;Time:4394.0;\n",
      "LaneID:28925528_0;Time:4395.0;\n",
      "LaneID:28925528_0;Time:4396.0;\n",
      "LaneID:28925528_0;Time:4397.0;\n",
      "LaneID:28925528_0;Time:4398.0;\n",
      "LaneID:28925528_0;Time:4399.0;\n",
      "LaneID:28925528_0;Time:4400.0;\n",
      "LaneID:28925528_0;Time:4401.0;\n",
      "LaneID:28925528_0;Time:4402.0;\n",
      "LaneID:28925528_0;Time:4403.0;\n"
     ]
    },
    {
     "name": "stderr",
     "output_type": "stream",
     "text": [
      "C:\\Users\\Administrator\\AppData\\Local\\Temp\\ipykernel_16000\\2984826684.py:101: FutureWarning: The frame.append method is deprecated and will be removed from pandas in a future version. Use pandas.concat instead.\n",
      "  redFlagRecord = redFlagRecord.append(veh, ignore_index=True)\n",
      "C:\\Users\\Administrator\\AppData\\Local\\Temp\\ipykernel_16000\\2984826684.py:101: FutureWarning: The frame.append method is deprecated and will be removed from pandas in a future version. Use pandas.concat instead.\n",
      "  redFlagRecord = redFlagRecord.append(veh, ignore_index=True)\n",
      "C:\\Users\\Administrator\\AppData\\Local\\Temp\\ipykernel_16000\\2984826684.py:101: FutureWarning: The frame.append method is deprecated and will be removed from pandas in a future version. Use pandas.concat instead.\n",
      "  redFlagRecord = redFlagRecord.append(veh, ignore_index=True)\n",
      "C:\\Users\\Administrator\\AppData\\Local\\Temp\\ipykernel_16000\\2984826684.py:101: FutureWarning: The frame.append method is deprecated and will be removed from pandas in a future version. Use pandas.concat instead.\n",
      "  redFlagRecord = redFlagRecord.append(veh, ignore_index=True)\n",
      "C:\\Users\\Administrator\\AppData\\Local\\Temp\\ipykernel_16000\\2984826684.py:101: FutureWarning: The frame.append method is deprecated and will be removed from pandas in a future version. Use pandas.concat instead.\n",
      "  redFlagRecord = redFlagRecord.append(veh, ignore_index=True)\n",
      "C:\\Users\\Administrator\\AppData\\Local\\Temp\\ipykernel_16000\\2984826684.py:101: FutureWarning: The frame.append method is deprecated and will be removed from pandas in a future version. Use pandas.concat instead.\n",
      "  redFlagRecord = redFlagRecord.append(veh, ignore_index=True)\n"
     ]
    },
    {
     "name": "stdout",
     "output_type": "stream",
     "text": [
      "LaneID:28925528_0;Time:4404.0;\n",
      "LaneID:28925528_0;Time:4405.0;\n",
      "LaneID:28925528_0;Time:4406.0;\n",
      "LaneID:28925528_0;Time:4407.0;\n",
      "LaneID:28925528_0;Time:4408.0;\n",
      "LaneID:28925528_0;Time:4409.0;\n",
      "LaneID:28925528_0;Time:4410.0;\n"
     ]
    },
    {
     "name": "stderr",
     "output_type": "stream",
     "text": [
      "C:\\Users\\Administrator\\AppData\\Local\\Temp\\ipykernel_16000\\2984826684.py:101: FutureWarning: The frame.append method is deprecated and will be removed from pandas in a future version. Use pandas.concat instead.\n",
      "  redFlagRecord = redFlagRecord.append(veh, ignore_index=True)\n",
      "C:\\Users\\Administrator\\AppData\\Local\\Temp\\ipykernel_16000\\2984826684.py:101: FutureWarning: The frame.append method is deprecated and will be removed from pandas in a future version. Use pandas.concat instead.\n",
      "  redFlagRecord = redFlagRecord.append(veh, ignore_index=True)\n",
      "C:\\Users\\Administrator\\AppData\\Local\\Temp\\ipykernel_16000\\2984826684.py:101: FutureWarning: The frame.append method is deprecated and will be removed from pandas in a future version. Use pandas.concat instead.\n",
      "  redFlagRecord = redFlagRecord.append(veh, ignore_index=True)\n",
      "C:\\Users\\Administrator\\AppData\\Local\\Temp\\ipykernel_16000\\2984826684.py:101: FutureWarning: The frame.append method is deprecated and will be removed from pandas in a future version. Use pandas.concat instead.\n",
      "  redFlagRecord = redFlagRecord.append(veh, ignore_index=True)\n",
      "C:\\Users\\Administrator\\AppData\\Local\\Temp\\ipykernel_16000\\2984826684.py:101: FutureWarning: The frame.append method is deprecated and will be removed from pandas in a future version. Use pandas.concat instead.\n",
      "  redFlagRecord = redFlagRecord.append(veh, ignore_index=True)\n",
      "C:\\Users\\Administrator\\AppData\\Local\\Temp\\ipykernel_16000\\2984826684.py:101: FutureWarning: The frame.append method is deprecated and will be removed from pandas in a future version. Use pandas.concat instead.\n",
      "  redFlagRecord = redFlagRecord.append(veh, ignore_index=True)\n",
      "C:\\Users\\Administrator\\AppData\\Local\\Temp\\ipykernel_16000\\2984826684.py:101: FutureWarning: The frame.append method is deprecated and will be removed from pandas in a future version. Use pandas.concat instead.\n",
      "  redFlagRecord = redFlagRecord.append(veh, ignore_index=True)\n"
     ]
    },
    {
     "name": "stdout",
     "output_type": "stream",
     "text": [
      "LaneID:28925528_0;Time:4411.0;\n",
      "LaneID:28925528_0;Time:4412.0;\n",
      "LaneID:28925528_0;Time:4413.0;\n",
      "LaneID:28925528_0;Time:4414.0;\n",
      "LaneID:28925528_0;Time:4415.0;\n",
      "LaneID:28925528_0;Time:4416.0;\n",
      "LaneID:28925528_0;Time:4417.0;\n"
     ]
    },
    {
     "name": "stderr",
     "output_type": "stream",
     "text": [
      "C:\\Users\\Administrator\\AppData\\Local\\Temp\\ipykernel_16000\\2984826684.py:101: FutureWarning: The frame.append method is deprecated and will be removed from pandas in a future version. Use pandas.concat instead.\n",
      "  redFlagRecord = redFlagRecord.append(veh, ignore_index=True)\n",
      "C:\\Users\\Administrator\\AppData\\Local\\Temp\\ipykernel_16000\\2984826684.py:101: FutureWarning: The frame.append method is deprecated and will be removed from pandas in a future version. Use pandas.concat instead.\n",
      "  redFlagRecord = redFlagRecord.append(veh, ignore_index=True)\n",
      "C:\\Users\\Administrator\\AppData\\Local\\Temp\\ipykernel_16000\\2984826684.py:101: FutureWarning: The frame.append method is deprecated and will be removed from pandas in a future version. Use pandas.concat instead.\n",
      "  redFlagRecord = redFlagRecord.append(veh, ignore_index=True)\n",
      "C:\\Users\\Administrator\\AppData\\Local\\Temp\\ipykernel_16000\\2984826684.py:101: FutureWarning: The frame.append method is deprecated and will be removed from pandas in a future version. Use pandas.concat instead.\n",
      "  redFlagRecord = redFlagRecord.append(veh, ignore_index=True)\n",
      "C:\\Users\\Administrator\\AppData\\Local\\Temp\\ipykernel_16000\\2984826684.py:101: FutureWarning: The frame.append method is deprecated and will be removed from pandas in a future version. Use pandas.concat instead.\n",
      "  redFlagRecord = redFlagRecord.append(veh, ignore_index=True)\n",
      "C:\\Users\\Administrator\\AppData\\Local\\Temp\\ipykernel_16000\\2984826684.py:101: FutureWarning: The frame.append method is deprecated and will be removed from pandas in a future version. Use pandas.concat instead.\n",
      "  redFlagRecord = redFlagRecord.append(veh, ignore_index=True)\n",
      "C:\\Users\\Administrator\\AppData\\Local\\Temp\\ipykernel_16000\\2984826684.py:101: FutureWarning: The frame.append method is deprecated and will be removed from pandas in a future version. Use pandas.concat instead.\n",
      "  redFlagRecord = redFlagRecord.append(veh, ignore_index=True)\n"
     ]
    },
    {
     "name": "stdout",
     "output_type": "stream",
     "text": [
      "LaneID:28925528_0;Time:4418.0;\n",
      "LaneID:28925528_0;Time:4419.0;\n",
      "LaneID:28925528_0;Time:4437.0;\n",
      "LaneID:28925528_0;Time:4438.0;\n",
      "LaneID:28925528_0;Time:4439.0;\n",
      "LaneID:28925528_0;Time:4440.0;\n",
      "LaneID:28925528_0;Time:4441.0;\n",
      "LaneID:28925528_0;Time:4442.0;\n",
      "LaneID:28925528_0;Time:4443.0;\n",
      "LaneID:28925528_0;Time:4444.0;\n",
      "LaneID:28925528_0;Time:4445.0;\n",
      "LaneID:28925528_0;Time:4446.0;\n",
      "LaneID:28925528_0;Time:4447.0;\n",
      "LaneID:28925528_0;Time:4448.0;\n",
      "LaneID:28925528_0;Time:4449.0;\n"
     ]
    },
    {
     "name": "stderr",
     "output_type": "stream",
     "text": [
      "C:\\Users\\Administrator\\AppData\\Local\\Temp\\ipykernel_16000\\2984826684.py:101: FutureWarning: The frame.append method is deprecated and will be removed from pandas in a future version. Use pandas.concat instead.\n",
      "  redFlagRecord = redFlagRecord.append(veh, ignore_index=True)\n",
      "C:\\Users\\Administrator\\AppData\\Local\\Temp\\ipykernel_16000\\2984826684.py:101: FutureWarning: The frame.append method is deprecated and will be removed from pandas in a future version. Use pandas.concat instead.\n",
      "  redFlagRecord = redFlagRecord.append(veh, ignore_index=True)\n",
      "C:\\Users\\Administrator\\AppData\\Local\\Temp\\ipykernel_16000\\2984826684.py:101: FutureWarning: The frame.append method is deprecated and will be removed from pandas in a future version. Use pandas.concat instead.\n",
      "  redFlagRecord = redFlagRecord.append(veh, ignore_index=True)\n",
      "C:\\Users\\Administrator\\AppData\\Local\\Temp\\ipykernel_16000\\2984826684.py:101: FutureWarning: The frame.append method is deprecated and will be removed from pandas in a future version. Use pandas.concat instead.\n",
      "  redFlagRecord = redFlagRecord.append(veh, ignore_index=True)\n",
      "C:\\Users\\Administrator\\AppData\\Local\\Temp\\ipykernel_16000\\2984826684.py:101: FutureWarning: The frame.append method is deprecated and will be removed from pandas in a future version. Use pandas.concat instead.\n",
      "  redFlagRecord = redFlagRecord.append(veh, ignore_index=True)\n",
      "C:\\Users\\Administrator\\AppData\\Local\\Temp\\ipykernel_16000\\2984826684.py:101: FutureWarning: The frame.append method is deprecated and will be removed from pandas in a future version. Use pandas.concat instead.\n",
      "  redFlagRecord = redFlagRecord.append(veh, ignore_index=True)\n"
     ]
    },
    {
     "name": "stdout",
     "output_type": "stream",
     "text": [
      "LaneID:28925528_0;Time:4450.0;\n",
      "LaneID:28925528_0;Time:4458.0;\n",
      "LaneID:28925528_0;Time:4459.0;\n",
      "LaneID:28925528_0;Time:4460.0;\n",
      "LaneID:28925528_0;Time:4461.0;\n",
      "LaneID:28925528_0;Time:4462.0;\n",
      "LaneID:28925528_0;Time:4463.0;\n",
      "LaneID:28925528_0;Time:4464.0;\n",
      "LaneID:28925528_0;Time:4465.0;\n",
      "LaneID:28925528_0;Time:4466.0;\n",
      "LaneID:28925528_0;Time:4467.0;\n",
      "LaneID:28925528_0;Time:4468.0;\n",
      "LaneID:28925528_0;Time:4469.0;\n",
      "LaneID:28925528_0;Time:4470.0;\n",
      "LaneID:28925528_0;Time:4471.0;\n",
      "LaneID:28925528_0;Time:4472.0;\n"
     ]
    },
    {
     "name": "stderr",
     "output_type": "stream",
     "text": [
      "C:\\Users\\Administrator\\AppData\\Local\\Temp\\ipykernel_16000\\2984826684.py:101: FutureWarning: The frame.append method is deprecated and will be removed from pandas in a future version. Use pandas.concat instead.\n",
      "  redFlagRecord = redFlagRecord.append(veh, ignore_index=True)\n",
      "C:\\Users\\Administrator\\AppData\\Local\\Temp\\ipykernel_16000\\2984826684.py:101: FutureWarning: The frame.append method is deprecated and will be removed from pandas in a future version. Use pandas.concat instead.\n",
      "  redFlagRecord = redFlagRecord.append(veh, ignore_index=True)\n",
      "C:\\Users\\Administrator\\AppData\\Local\\Temp\\ipykernel_16000\\2984826684.py:101: FutureWarning: The frame.append method is deprecated and will be removed from pandas in a future version. Use pandas.concat instead.\n",
      "  redFlagRecord = redFlagRecord.append(veh, ignore_index=True)\n",
      "C:\\Users\\Administrator\\AppData\\Local\\Temp\\ipykernel_16000\\2984826684.py:101: FutureWarning: The frame.append method is deprecated and will be removed from pandas in a future version. Use pandas.concat instead.\n",
      "  redFlagRecord = redFlagRecord.append(veh, ignore_index=True)\n",
      "C:\\Users\\Administrator\\AppData\\Local\\Temp\\ipykernel_16000\\2984826684.py:101: FutureWarning: The frame.append method is deprecated and will be removed from pandas in a future version. Use pandas.concat instead.\n",
      "  redFlagRecord = redFlagRecord.append(veh, ignore_index=True)\n",
      "C:\\Users\\Administrator\\AppData\\Local\\Temp\\ipykernel_16000\\2984826684.py:101: FutureWarning: The frame.append method is deprecated and will be removed from pandas in a future version. Use pandas.concat instead.\n",
      "  redFlagRecord = redFlagRecord.append(veh, ignore_index=True)\n",
      "C:\\Users\\Administrator\\AppData\\Local\\Temp\\ipykernel_16000\\2984826684.py:101: FutureWarning: The frame.append method is deprecated and will be removed from pandas in a future version. Use pandas.concat instead.\n",
      "  redFlagRecord = redFlagRecord.append(veh, ignore_index=True)\n",
      "C:\\Users\\Administrator\\AppData\\Local\\Temp\\ipykernel_16000\\2984826684.py:101: FutureWarning: The frame.append method is deprecated and will be removed from pandas in a future version. Use pandas.concat instead.\n",
      "  redFlagRecord = redFlagRecord.append(veh, ignore_index=True)\n",
      "C:\\Users\\Administrator\\AppData\\Local\\Temp\\ipykernel_16000\\2984826684.py:101: FutureWarning: The frame.append method is deprecated and will be removed from pandas in a future version. Use pandas.concat instead.\n",
      "  redFlagRecord = redFlagRecord.append(veh, ignore_index=True)\n",
      "C:\\Users\\Administrator\\AppData\\Local\\Temp\\ipykernel_16000\\2984826684.py:101: FutureWarning: The frame.append method is deprecated and will be removed from pandas in a future version. Use pandas.concat instead.\n",
      "  redFlagRecord = redFlagRecord.append(veh, ignore_index=True)\n",
      "C:\\Users\\Administrator\\AppData\\Local\\Temp\\ipykernel_16000\\2984826684.py:101: FutureWarning: The frame.append method is deprecated and will be removed from pandas in a future version. Use pandas.concat instead.\n",
      "  redFlagRecord = redFlagRecord.append(veh, ignore_index=True)\n",
      "C:\\Users\\Administrator\\AppData\\Local\\Temp\\ipykernel_16000\\2984826684.py:101: FutureWarning: The frame.append method is deprecated and will be removed from pandas in a future version. Use pandas.concat instead.\n",
      "  redFlagRecord = redFlagRecord.append(veh, ignore_index=True)\n",
      "C:\\Users\\Administrator\\AppData\\Local\\Temp\\ipykernel_16000\\2984826684.py:101: FutureWarning: The frame.append method is deprecated and will be removed from pandas in a future version. Use pandas.concat instead.\n",
      "  redFlagRecord = redFlagRecord.append(veh, ignore_index=True)\n"
     ]
    },
    {
     "name": "stdout",
     "output_type": "stream",
     "text": [
      "LaneID:28925528_0;Time:4473.0;\n",
      "LaneID:28925528_0;Time:4474.0;\n",
      "LaneID:28925528_0;Time:4475.0;\n",
      "LaneID:28925528_0;Time:4476.0;\n",
      "LaneID:28925528_0;Time:4477.0;\n",
      "LaneID:28925528_0;Time:4478.0;\n",
      "LaneID:28925528_0;Time:4479.0;\n"
     ]
    },
    {
     "name": "stderr",
     "output_type": "stream",
     "text": [
      "C:\\Users\\Administrator\\AppData\\Local\\Temp\\ipykernel_16000\\2984826684.py:101: FutureWarning: The frame.append method is deprecated and will be removed from pandas in a future version. Use pandas.concat instead.\n",
      "  redFlagRecord = redFlagRecord.append(veh, ignore_index=True)\n",
      "C:\\Users\\Administrator\\AppData\\Local\\Temp\\ipykernel_16000\\2984826684.py:101: FutureWarning: The frame.append method is deprecated and will be removed from pandas in a future version. Use pandas.concat instead.\n",
      "  redFlagRecord = redFlagRecord.append(veh, ignore_index=True)\n",
      "C:\\Users\\Administrator\\AppData\\Local\\Temp\\ipykernel_16000\\2984826684.py:101: FutureWarning: The frame.append method is deprecated and will be removed from pandas in a future version. Use pandas.concat instead.\n",
      "  redFlagRecord = redFlagRecord.append(veh, ignore_index=True)\n",
      "C:\\Users\\Administrator\\AppData\\Local\\Temp\\ipykernel_16000\\2984826684.py:101: FutureWarning: The frame.append method is deprecated and will be removed from pandas in a future version. Use pandas.concat instead.\n",
      "  redFlagRecord = redFlagRecord.append(veh, ignore_index=True)\n",
      "C:\\Users\\Administrator\\AppData\\Local\\Temp\\ipykernel_16000\\2984826684.py:101: FutureWarning: The frame.append method is deprecated and will be removed from pandas in a future version. Use pandas.concat instead.\n",
      "  redFlagRecord = redFlagRecord.append(veh, ignore_index=True)\n",
      "C:\\Users\\Administrator\\AppData\\Local\\Temp\\ipykernel_16000\\2984826684.py:101: FutureWarning: The frame.append method is deprecated and will be removed from pandas in a future version. Use pandas.concat instead.\n",
      "  redFlagRecord = redFlagRecord.append(veh, ignore_index=True)\n"
     ]
    },
    {
     "name": "stdout",
     "output_type": "stream",
     "text": [
      "LaneID:28925528_0;Time:4480.0;\n",
      "LaneID:28925528_0;Time:4481.0;\n",
      "LaneID:28925528_0;Time:4482.0;\n",
      "LaneID:28925528_0;Time:4483.0;\n",
      "LaneID:28925528_0;Time:4484.0;\n",
      "LaneID:28925528_0;Time:4485.0;\n",
      "LaneID:28925528_0;Time:4500.0;\n",
      "LaneID:28925528_0;Time:4501.0;\n",
      "LaneID:28925528_0;Time:4502.0;\n",
      "LaneID:28925528_0;Time:4503.0;\n",
      "LaneID:28925528_0;Time:4504.0;\n",
      "LaneID:28925528_0;Time:4505.0;\n",
      "LaneID:28925528_0;Time:4506.0;\n",
      "LaneID:28925528_0;Time:4507.0;\n",
      "LaneID:28925528_0;Time:4508.0;\n",
      "LaneID:28925528_0;Time:4509.0;\n",
      "LaneID:28925528_0;Time:4510.0;\n",
      "LaneID:28925528_0;Time:4511.0;\n",
      "LaneID:28925528_0;Time:4512.0;\n",
      "LaneID:28925528_0;Time:4526.0;\n",
      "LaneID:28925528_0;Time:4527.0;\n",
      "LaneID:28925528_0;Time:4528.0;\n",
      "LaneID:28925528_0;Time:4529.0;\n",
      "LaneID:28925528_0;Time:4530.0;\n",
      "LaneID:28925528_0;Time:4531.0;\n",
      "LaneID:28925528_0;Time:4532.0;\n",
      "LaneID:28925528_0;Time:4533.0;\n",
      "LaneID:28925528_0;Time:4534.0;\n",
      "LaneID:28925528_0;Time:4535.0;\n"
     ]
    },
    {
     "name": "stderr",
     "output_type": "stream",
     "text": [
      "C:\\Users\\Administrator\\AppData\\Local\\Temp\\ipykernel_16000\\2984826684.py:101: FutureWarning: The frame.append method is deprecated and will be removed from pandas in a future version. Use pandas.concat instead.\n",
      "  redFlagRecord = redFlagRecord.append(veh, ignore_index=True)\n",
      "C:\\Users\\Administrator\\AppData\\Local\\Temp\\ipykernel_16000\\2984826684.py:101: FutureWarning: The frame.append method is deprecated and will be removed from pandas in a future version. Use pandas.concat instead.\n",
      "  redFlagRecord = redFlagRecord.append(veh, ignore_index=True)\n",
      "C:\\Users\\Administrator\\AppData\\Local\\Temp\\ipykernel_16000\\2984826684.py:101: FutureWarning: The frame.append method is deprecated and will be removed from pandas in a future version. Use pandas.concat instead.\n",
      "  redFlagRecord = redFlagRecord.append(veh, ignore_index=True)\n",
      "C:\\Users\\Administrator\\AppData\\Local\\Temp\\ipykernel_16000\\2984826684.py:101: FutureWarning: The frame.append method is deprecated and will be removed from pandas in a future version. Use pandas.concat instead.\n",
      "  redFlagRecord = redFlagRecord.append(veh, ignore_index=True)\n",
      "C:\\Users\\Administrator\\AppData\\Local\\Temp\\ipykernel_16000\\2984826684.py:101: FutureWarning: The frame.append method is deprecated and will be removed from pandas in a future version. Use pandas.concat instead.\n",
      "  redFlagRecord = redFlagRecord.append(veh, ignore_index=True)\n",
      "C:\\Users\\Administrator\\AppData\\Local\\Temp\\ipykernel_16000\\2984826684.py:101: FutureWarning: The frame.append method is deprecated and will be removed from pandas in a future version. Use pandas.concat instead.\n",
      "  redFlagRecord = redFlagRecord.append(veh, ignore_index=True)\n"
     ]
    },
    {
     "name": "stdout",
     "output_type": "stream",
     "text": [
      "LaneID:28925528_0;Time:4536.0;\n",
      "LaneID:28925528_0;Time:4537.0;\n",
      "LaneID:28925528_0;Time:4538.0;\n",
      "LaneID:28925528_0;Time:4539.0;\n",
      "LaneID:28925528_0;Time:4540.0;\n",
      "LaneID:28925528_0;Time:4541.0;\n"
     ]
    },
    {
     "name": "stderr",
     "output_type": "stream",
     "text": [
      "C:\\Users\\Administrator\\AppData\\Local\\Temp\\ipykernel_16000\\2984826684.py:101: FutureWarning: The frame.append method is deprecated and will be removed from pandas in a future version. Use pandas.concat instead.\n",
      "  redFlagRecord = redFlagRecord.append(veh, ignore_index=True)\n",
      "C:\\Users\\Administrator\\AppData\\Local\\Temp\\ipykernel_16000\\2984826684.py:101: FutureWarning: The frame.append method is deprecated and will be removed from pandas in a future version. Use pandas.concat instead.\n",
      "  redFlagRecord = redFlagRecord.append(veh, ignore_index=True)\n",
      "C:\\Users\\Administrator\\AppData\\Local\\Temp\\ipykernel_16000\\2984826684.py:101: FutureWarning: The frame.append method is deprecated and will be removed from pandas in a future version. Use pandas.concat instead.\n",
      "  redFlagRecord = redFlagRecord.append(veh, ignore_index=True)\n",
      "C:\\Users\\Administrator\\AppData\\Local\\Temp\\ipykernel_16000\\2984826684.py:101: FutureWarning: The frame.append method is deprecated and will be removed from pandas in a future version. Use pandas.concat instead.\n",
      "  redFlagRecord = redFlagRecord.append(veh, ignore_index=True)\n",
      "C:\\Users\\Administrator\\AppData\\Local\\Temp\\ipykernel_16000\\2984826684.py:101: FutureWarning: The frame.append method is deprecated and will be removed from pandas in a future version. Use pandas.concat instead.\n",
      "  redFlagRecord = redFlagRecord.append(veh, ignore_index=True)\n",
      "C:\\Users\\Administrator\\AppData\\Local\\Temp\\ipykernel_16000\\2984826684.py:101: FutureWarning: The frame.append method is deprecated and will be removed from pandas in a future version. Use pandas.concat instead.\n",
      "  redFlagRecord = redFlagRecord.append(veh, ignore_index=True)\n"
     ]
    },
    {
     "name": "stdout",
     "output_type": "stream",
     "text": [
      "LaneID:28925528_0;Time:4542.0;\n",
      "LaneID:28925528_0;Time:4543.0;\n",
      "LaneID:28925528_0;Time:4546.0;\n",
      "LaneID:28925528_0;Time:4547.0;\n",
      "LaneID:28925528_0;Time:4548.0;\n",
      "LaneID:28925528_0;Time:4549.0;\n",
      "LaneID:28925528_0;Time:4550.0;\n",
      "LaneID:28925528_0;Time:4551.0;\n",
      "LaneID:28925528_0;Time:4552.0;\n",
      "LaneID:28925528_0;Time:4553.0;\n",
      "LaneID:28925528_0;Time:4554.0;\n",
      "LaneID:28925528_0;Time:4555.0;\n",
      "LaneID:28925528_0;Time:4556.0;\n",
      "LaneID:28925528_0;Time:4557.0;\n",
      "LaneID:28925528_0;Time:4558.0;\n",
      "LaneID:28925528_0;Time:4559.0;\n"
     ]
    },
    {
     "name": "stderr",
     "output_type": "stream",
     "text": [
      "C:\\Users\\Administrator\\AppData\\Local\\Temp\\ipykernel_16000\\2984826684.py:101: FutureWarning: The frame.append method is deprecated and will be removed from pandas in a future version. Use pandas.concat instead.\n",
      "  redFlagRecord = redFlagRecord.append(veh, ignore_index=True)\n",
      "C:\\Users\\Administrator\\AppData\\Local\\Temp\\ipykernel_16000\\2984826684.py:101: FutureWarning: The frame.append method is deprecated and will be removed from pandas in a future version. Use pandas.concat instead.\n",
      "  redFlagRecord = redFlagRecord.append(veh, ignore_index=True)\n",
      "C:\\Users\\Administrator\\AppData\\Local\\Temp\\ipykernel_16000\\2984826684.py:101: FutureWarning: The frame.append method is deprecated and will be removed from pandas in a future version. Use pandas.concat instead.\n",
      "  redFlagRecord = redFlagRecord.append(veh, ignore_index=True)\n",
      "C:\\Users\\Administrator\\AppData\\Local\\Temp\\ipykernel_16000\\2984826684.py:101: FutureWarning: The frame.append method is deprecated and will be removed from pandas in a future version. Use pandas.concat instead.\n",
      "  redFlagRecord = redFlagRecord.append(veh, ignore_index=True)\n",
      "C:\\Users\\Administrator\\AppData\\Local\\Temp\\ipykernel_16000\\2984826684.py:101: FutureWarning: The frame.append method is deprecated and will be removed from pandas in a future version. Use pandas.concat instead.\n",
      "  redFlagRecord = redFlagRecord.append(veh, ignore_index=True)\n",
      "C:\\Users\\Administrator\\AppData\\Local\\Temp\\ipykernel_16000\\2984826684.py:101: FutureWarning: The frame.append method is deprecated and will be removed from pandas in a future version. Use pandas.concat instead.\n",
      "  redFlagRecord = redFlagRecord.append(veh, ignore_index=True)\n",
      "C:\\Users\\Administrator\\AppData\\Local\\Temp\\ipykernel_16000\\2984826684.py:101: FutureWarning: The frame.append method is deprecated and will be removed from pandas in a future version. Use pandas.concat instead.\n",
      "  redFlagRecord = redFlagRecord.append(veh, ignore_index=True)\n"
     ]
    },
    {
     "name": "stdout",
     "output_type": "stream",
     "text": [
      "LaneID:28925528_0;Time:4560.0;\n",
      "LaneID:28925528_0;Time:4561.0;\n",
      "LaneID:28925528_0;Time:4562.0;\n",
      "LaneID:28925528_0;Time:4563.0;\n",
      "LaneID:28925528_0;Time:4564.0;\n",
      "LaneID:28925528_0;Time:4565.0;\n",
      "LaneID:28925528_0;Time:4566.0;\n"
     ]
    },
    {
     "name": "stderr",
     "output_type": "stream",
     "text": [
      "C:\\Users\\Administrator\\AppData\\Local\\Temp\\ipykernel_16000\\2984826684.py:101: FutureWarning: The frame.append method is deprecated and will be removed from pandas in a future version. Use pandas.concat instead.\n",
      "  redFlagRecord = redFlagRecord.append(veh, ignore_index=True)\n",
      "C:\\Users\\Administrator\\AppData\\Local\\Temp\\ipykernel_16000\\2984826684.py:101: FutureWarning: The frame.append method is deprecated and will be removed from pandas in a future version. Use pandas.concat instead.\n",
      "  redFlagRecord = redFlagRecord.append(veh, ignore_index=True)\n",
      "C:\\Users\\Administrator\\AppData\\Local\\Temp\\ipykernel_16000\\2984826684.py:101: FutureWarning: The frame.append method is deprecated and will be removed from pandas in a future version. Use pandas.concat instead.\n",
      "  redFlagRecord = redFlagRecord.append(veh, ignore_index=True)\n",
      "C:\\Users\\Administrator\\AppData\\Local\\Temp\\ipykernel_16000\\2984826684.py:101: FutureWarning: The frame.append method is deprecated and will be removed from pandas in a future version. Use pandas.concat instead.\n",
      "  redFlagRecord = redFlagRecord.append(veh, ignore_index=True)\n",
      "C:\\Users\\Administrator\\AppData\\Local\\Temp\\ipykernel_16000\\2984826684.py:101: FutureWarning: The frame.append method is deprecated and will be removed from pandas in a future version. Use pandas.concat instead.\n",
      "  redFlagRecord = redFlagRecord.append(veh, ignore_index=True)\n",
      "C:\\Users\\Administrator\\AppData\\Local\\Temp\\ipykernel_16000\\2984826684.py:101: FutureWarning: The frame.append method is deprecated and will be removed from pandas in a future version. Use pandas.concat instead.\n",
      "  redFlagRecord = redFlagRecord.append(veh, ignore_index=True)\n",
      "C:\\Users\\Administrator\\AppData\\Local\\Temp\\ipykernel_16000\\2984826684.py:101: FutureWarning: The frame.append method is deprecated and will be removed from pandas in a future version. Use pandas.concat instead.\n",
      "  redFlagRecord = redFlagRecord.append(veh, ignore_index=True)\n"
     ]
    },
    {
     "name": "stdout",
     "output_type": "stream",
     "text": [
      "LaneID:28925528_0;Time:4567.0;\n",
      "LaneID:28925528_0;Time:4568.0;\n",
      "LaneID:28925528_0;Time:4569.0;\n",
      "LaneID:28925528_0;Time:4570.0;\n",
      "LaneID:28925528_0;Time:4571.0;\n",
      "LaneID:28925528_0;Time:4572.0;\n",
      "LaneID:28925528_0;Time:4573.0;\n"
     ]
    },
    {
     "name": "stderr",
     "output_type": "stream",
     "text": [
      "C:\\Users\\Administrator\\AppData\\Local\\Temp\\ipykernel_16000\\2984826684.py:101: FutureWarning: The frame.append method is deprecated and will be removed from pandas in a future version. Use pandas.concat instead.\n",
      "  redFlagRecord = redFlagRecord.append(veh, ignore_index=True)\n",
      "C:\\Users\\Administrator\\AppData\\Local\\Temp\\ipykernel_16000\\2984826684.py:101: FutureWarning: The frame.append method is deprecated and will be removed from pandas in a future version. Use pandas.concat instead.\n",
      "  redFlagRecord = redFlagRecord.append(veh, ignore_index=True)\n",
      "C:\\Users\\Administrator\\AppData\\Local\\Temp\\ipykernel_16000\\2984826684.py:101: FutureWarning: The frame.append method is deprecated and will be removed from pandas in a future version. Use pandas.concat instead.\n",
      "  redFlagRecord = redFlagRecord.append(veh, ignore_index=True)\n",
      "C:\\Users\\Administrator\\AppData\\Local\\Temp\\ipykernel_16000\\2984826684.py:101: FutureWarning: The frame.append method is deprecated and will be removed from pandas in a future version. Use pandas.concat instead.\n",
      "  redFlagRecord = redFlagRecord.append(veh, ignore_index=True)\n",
      "C:\\Users\\Administrator\\AppData\\Local\\Temp\\ipykernel_16000\\2984826684.py:101: FutureWarning: The frame.append method is deprecated and will be removed from pandas in a future version. Use pandas.concat instead.\n",
      "  redFlagRecord = redFlagRecord.append(veh, ignore_index=True)\n",
      "C:\\Users\\Administrator\\AppData\\Local\\Temp\\ipykernel_16000\\2984826684.py:101: FutureWarning: The frame.append method is deprecated and will be removed from pandas in a future version. Use pandas.concat instead.\n",
      "  redFlagRecord = redFlagRecord.append(veh, ignore_index=True)\n"
     ]
    },
    {
     "name": "stdout",
     "output_type": "stream",
     "text": [
      "LaneID:28925528_0;Time:4574.0;\n",
      "LaneID:28925528_0;Time:4575.0;\n",
      "LaneID:28925528_0;Time:4576.0;\n",
      "LaneID:28925528_0;Time:4594.0;\n",
      "LaneID:28925528_0;Time:4595.0;\n",
      "LaneID:28925528_0;Time:4596.0;\n",
      "LaneID:28925528_0;Time:4597.0;\n",
      "LaneID:28925528_0;Time:4598.0;\n",
      "LaneID:28925528_0;Time:4599.0;\n",
      "LaneID:28925528_0;Time:4600.0;\n",
      "LaneID:28925528_0;Time:4601.0;\n",
      "LaneID:28925528_0;Time:4602.0;\n",
      "LaneID:28925528_0;Time:4603.0;\n",
      "LaneID:28925528_0;Time:4604.0;\n",
      "LaneID:28925528_0;Time:4605.0;\n",
      "LaneID:28925528_0;Time:4619.0;\n",
      "LaneID:28925528_0;Time:4620.0;\n",
      "LaneID:28925528_0;Time:4621.0;\n",
      "LaneID:28925528_0;Time:4622.0;\n",
      "LaneID:28925528_0;Time:4623.0;\n",
      "LaneID:28925528_0;Time:4624.0;\n",
      "LaneID:28925528_0;Time:4625.0;\n",
      "LaneID:28925528_0;Time:4626.0;\n",
      "LaneID:28925528_0;Time:4627.0;\n",
      "LaneID:28925528_0;Time:4628.0;\n",
      "LaneID:28925528_0;Time:4629.0;\n",
      "LaneID:28925528_0;Time:4630.0;\n",
      "LaneID:28925528_0;Time:4631.0;\n"
     ]
    },
    {
     "name": "stderr",
     "output_type": "stream",
     "text": [
      "C:\\Users\\Administrator\\AppData\\Local\\Temp\\ipykernel_16000\\2984826684.py:101: FutureWarning: The frame.append method is deprecated and will be removed from pandas in a future version. Use pandas.concat instead.\n",
      "  redFlagRecord = redFlagRecord.append(veh, ignore_index=True)\n",
      "C:\\Users\\Administrator\\AppData\\Local\\Temp\\ipykernel_16000\\2984826684.py:101: FutureWarning: The frame.append method is deprecated and will be removed from pandas in a future version. Use pandas.concat instead.\n",
      "  redFlagRecord = redFlagRecord.append(veh, ignore_index=True)\n",
      "C:\\Users\\Administrator\\AppData\\Local\\Temp\\ipykernel_16000\\2984826684.py:101: FutureWarning: The frame.append method is deprecated and will be removed from pandas in a future version. Use pandas.concat instead.\n",
      "  redFlagRecord = redFlagRecord.append(veh, ignore_index=True)\n",
      "C:\\Users\\Administrator\\AppData\\Local\\Temp\\ipykernel_16000\\2984826684.py:101: FutureWarning: The frame.append method is deprecated and will be removed from pandas in a future version. Use pandas.concat instead.\n",
      "  redFlagRecord = redFlagRecord.append(veh, ignore_index=True)\n",
      "C:\\Users\\Administrator\\AppData\\Local\\Temp\\ipykernel_16000\\2984826684.py:101: FutureWarning: The frame.append method is deprecated and will be removed from pandas in a future version. Use pandas.concat instead.\n",
      "  redFlagRecord = redFlagRecord.append(veh, ignore_index=True)\n",
      "C:\\Users\\Administrator\\AppData\\Local\\Temp\\ipykernel_16000\\2984826684.py:101: FutureWarning: The frame.append method is deprecated and will be removed from pandas in a future version. Use pandas.concat instead.\n",
      "  redFlagRecord = redFlagRecord.append(veh, ignore_index=True)\n",
      "C:\\Users\\Administrator\\AppData\\Local\\Temp\\ipykernel_16000\\2984826684.py:101: FutureWarning: The frame.append method is deprecated and will be removed from pandas in a future version. Use pandas.concat instead.\n",
      "  redFlagRecord = redFlagRecord.append(veh, ignore_index=True)\n"
     ]
    },
    {
     "name": "stdout",
     "output_type": "stream",
     "text": [
      "LaneID:28925528_0;Time:4632.0;\n",
      "LaneID:28925528_0;Time:4633.0;\n",
      "LaneID:28925528_0;Time:4634.0;\n",
      "LaneID:28925528_0;Time:4635.0;\n",
      "LaneID:28925528_0;Time:4636.0;\n",
      "LaneID:28925528_0;Time:4643.0;\n",
      "LaneID:28925528_0;Time:4644.0;\n",
      "LaneID:28925528_0;Time:4645.0;\n",
      "LaneID:28925528_0;Time:4646.0;\n",
      "LaneID:28925528_0;Time:4647.0;\n",
      "LaneID:28925528_0;Time:4648.0;\n",
      "LaneID:28925528_0;Time:4649.0;\n",
      "LaneID:28925528_0;Time:4650.0;\n",
      "LaneID:28925528_0;Time:4651.0;\n",
      "LaneID:28925528_0;Time:4652.0;\n",
      "LaneID:28925528_0;Time:4653.0;\n",
      "LaneID:28925528_0;Time:4654.0;\n"
     ]
    },
    {
     "name": "stderr",
     "output_type": "stream",
     "text": [
      "C:\\Users\\Administrator\\AppData\\Local\\Temp\\ipykernel_16000\\2984826684.py:101: FutureWarning: The frame.append method is deprecated and will be removed from pandas in a future version. Use pandas.concat instead.\n",
      "  redFlagRecord = redFlagRecord.append(veh, ignore_index=True)\n",
      "C:\\Users\\Administrator\\AppData\\Local\\Temp\\ipykernel_16000\\2984826684.py:101: FutureWarning: The frame.append method is deprecated and will be removed from pandas in a future version. Use pandas.concat instead.\n",
      "  redFlagRecord = redFlagRecord.append(veh, ignore_index=True)\n",
      "C:\\Users\\Administrator\\AppData\\Local\\Temp\\ipykernel_16000\\2984826684.py:101: FutureWarning: The frame.append method is deprecated and will be removed from pandas in a future version. Use pandas.concat instead.\n",
      "  redFlagRecord = redFlagRecord.append(veh, ignore_index=True)\n",
      "C:\\Users\\Administrator\\AppData\\Local\\Temp\\ipykernel_16000\\2984826684.py:101: FutureWarning: The frame.append method is deprecated and will be removed from pandas in a future version. Use pandas.concat instead.\n",
      "  redFlagRecord = redFlagRecord.append(veh, ignore_index=True)\n",
      "C:\\Users\\Administrator\\AppData\\Local\\Temp\\ipykernel_16000\\2984826684.py:101: FutureWarning: The frame.append method is deprecated and will be removed from pandas in a future version. Use pandas.concat instead.\n",
      "  redFlagRecord = redFlagRecord.append(veh, ignore_index=True)\n",
      "C:\\Users\\Administrator\\AppData\\Local\\Temp\\ipykernel_16000\\2984826684.py:101: FutureWarning: The frame.append method is deprecated and will be removed from pandas in a future version. Use pandas.concat instead.\n",
      "  redFlagRecord = redFlagRecord.append(veh, ignore_index=True)\n",
      "C:\\Users\\Administrator\\AppData\\Local\\Temp\\ipykernel_16000\\2984826684.py:101: FutureWarning: The frame.append method is deprecated and will be removed from pandas in a future version. Use pandas.concat instead.\n",
      "  redFlagRecord = redFlagRecord.append(veh, ignore_index=True)\n"
     ]
    },
    {
     "name": "stdout",
     "output_type": "stream",
     "text": [
      "LaneID:28925528_0;Time:4655.0;\n",
      "LaneID:28925528_0;Time:4656.0;\n",
      "LaneID:28925528_0;Time:4657.0;\n",
      "LaneID:28925528_0;Time:4658.0;\n",
      "LaneID:28925528_0;Time:4659.0;\n",
      "LaneID:28925528_0;Time:4660.0;\n",
      "LaneID:28925528_0;Time:4661.0;\n"
     ]
    },
    {
     "name": "stderr",
     "output_type": "stream",
     "text": [
      "C:\\Users\\Administrator\\AppData\\Local\\Temp\\ipykernel_16000\\2984826684.py:101: FutureWarning: The frame.append method is deprecated and will be removed from pandas in a future version. Use pandas.concat instead.\n",
      "  redFlagRecord = redFlagRecord.append(veh, ignore_index=True)\n",
      "C:\\Users\\Administrator\\AppData\\Local\\Temp\\ipykernel_16000\\2984826684.py:101: FutureWarning: The frame.append method is deprecated and will be removed from pandas in a future version. Use pandas.concat instead.\n",
      "  redFlagRecord = redFlagRecord.append(veh, ignore_index=True)\n",
      "C:\\Users\\Administrator\\AppData\\Local\\Temp\\ipykernel_16000\\2984826684.py:101: FutureWarning: The frame.append method is deprecated and will be removed from pandas in a future version. Use pandas.concat instead.\n",
      "  redFlagRecord = redFlagRecord.append(veh, ignore_index=True)\n",
      "C:\\Users\\Administrator\\AppData\\Local\\Temp\\ipykernel_16000\\2984826684.py:101: FutureWarning: The frame.append method is deprecated and will be removed from pandas in a future version. Use pandas.concat instead.\n",
      "  redFlagRecord = redFlagRecord.append(veh, ignore_index=True)\n",
      "C:\\Users\\Administrator\\AppData\\Local\\Temp\\ipykernel_16000\\2984826684.py:101: FutureWarning: The frame.append method is deprecated and will be removed from pandas in a future version. Use pandas.concat instead.\n",
      "  redFlagRecord = redFlagRecord.append(veh, ignore_index=True)\n",
      "C:\\Users\\Administrator\\AppData\\Local\\Temp\\ipykernel_16000\\2984826684.py:101: FutureWarning: The frame.append method is deprecated and will be removed from pandas in a future version. Use pandas.concat instead.\n",
      "  redFlagRecord = redFlagRecord.append(veh, ignore_index=True)\n"
     ]
    },
    {
     "name": "stdout",
     "output_type": "stream",
     "text": [
      "LaneID:28925528_0;Time:4662.0;\n",
      "LaneID:28925528_0;Time:4663.0;\n",
      "LaneID:28925528_0;Time:4664.0;\n",
      "LaneID:28925528_0;Time:4665.0;\n",
      "LaneID:28925528_0;Time:4666.0;\n",
      "LaneID:28925528_0;Time:4667.0;\n"
     ]
    },
    {
     "name": "stderr",
     "output_type": "stream",
     "text": [
      "C:\\Users\\Administrator\\AppData\\Local\\Temp\\ipykernel_16000\\2984826684.py:101: FutureWarning: The frame.append method is deprecated and will be removed from pandas in a future version. Use pandas.concat instead.\n",
      "  redFlagRecord = redFlagRecord.append(veh, ignore_index=True)\n",
      "C:\\Users\\Administrator\\AppData\\Local\\Temp\\ipykernel_16000\\2984826684.py:101: FutureWarning: The frame.append method is deprecated and will be removed from pandas in a future version. Use pandas.concat instead.\n",
      "  redFlagRecord = redFlagRecord.append(veh, ignore_index=True)\n",
      "C:\\Users\\Administrator\\AppData\\Local\\Temp\\ipykernel_16000\\2984826684.py:101: FutureWarning: The frame.append method is deprecated and will be removed from pandas in a future version. Use pandas.concat instead.\n",
      "  redFlagRecord = redFlagRecord.append(veh, ignore_index=True)\n",
      "C:\\Users\\Administrator\\AppData\\Local\\Temp\\ipykernel_16000\\2984826684.py:101: FutureWarning: The frame.append method is deprecated and will be removed from pandas in a future version. Use pandas.concat instead.\n",
      "  redFlagRecord = redFlagRecord.append(veh, ignore_index=True)\n",
      "C:\\Users\\Administrator\\AppData\\Local\\Temp\\ipykernel_16000\\2984826684.py:101: FutureWarning: The frame.append method is deprecated and will be removed from pandas in a future version. Use pandas.concat instead.\n",
      "  redFlagRecord = redFlagRecord.append(veh, ignore_index=True)\n",
      "C:\\Users\\Administrator\\AppData\\Local\\Temp\\ipykernel_16000\\2984826684.py:101: FutureWarning: The frame.append method is deprecated and will be removed from pandas in a future version. Use pandas.concat instead.\n",
      "  redFlagRecord = redFlagRecord.append(veh, ignore_index=True)\n"
     ]
    },
    {
     "name": "stdout",
     "output_type": "stream",
     "text": [
      "LaneID:28925528_0;Time:4668.0;\n",
      "LaneID:28925528_0;Time:4669.0;\n",
      "LaneID:28925528_0;Time:4670.0;\n",
      "LaneID:28925528_0;Time:4671.0;\n",
      "LaneID:28925528_0;Time:4672.0;\n",
      "LaneID:28925528_0;Time:4673.0;\n",
      "LaneID:28925528_0;Time:4692.0;\n",
      "LaneID:28925528_0;Time:4693.0;\n",
      "LaneID:28925528_0;Time:4694.0;\n",
      "LaneID:28925528_0;Time:4695.0;\n",
      "LaneID:28925528_0;Time:4696.0;\n",
      "LaneID:28925528_0;Time:4697.0;\n",
      "LaneID:28925528_0;Time:4698.0;\n",
      "LaneID:28925528_0;Time:4716.0;\n",
      "LaneID:28925528_0;Time:4717.0;\n",
      "LaneID:28925528_0;Time:4718.0;\n",
      "LaneID:28925528_0;Time:4719.0;\n",
      "LaneID:28925528_0;Time:4720.0;\n",
      "LaneID:28925528_0;Time:4721.0;\n",
      "LaneID:28925528_0;Time:4722.0;\n",
      "LaneID:28925528_0;Time:4723.0;\n",
      "LaneID:28925528_0;Time:4724.0;\n",
      "LaneID:28925528_0;Time:4725.0;\n",
      "LaneID:28925528_0;Time:4726.0;\n",
      "LaneID:28925528_0;Time:4727.0;\n",
      "LaneID:28925528_0;Time:4728.0;\n",
      "LaneID:28925528_0;Time:4729.0;\n",
      "LaneID:28925528_0;Time:4740.0;\n",
      "LaneID:28925528_0;Time:4741.0;\n",
      "LaneID:28925528_0;Time:4742.0;\n",
      "LaneID:28925528_0;Time:4743.0;\n",
      "LaneID:28925528_0;Time:4744.0;\n",
      "LaneID:28925528_0;Time:4745.0;\n",
      "LaneID:28925528_0;Time:4746.0;\n",
      "LaneID:28925528_0;Time:4747.0;\n",
      "LaneID:28925528_0;Time:4748.0;\n",
      "LaneID:28925528_0;Time:4749.0;\n"
     ]
    },
    {
     "name": "stderr",
     "output_type": "stream",
     "text": [
      "C:\\Users\\Administrator\\AppData\\Local\\Temp\\ipykernel_16000\\2984826684.py:101: FutureWarning: The frame.append method is deprecated and will be removed from pandas in a future version. Use pandas.concat instead.\n",
      "  redFlagRecord = redFlagRecord.append(veh, ignore_index=True)\n",
      "C:\\Users\\Administrator\\AppData\\Local\\Temp\\ipykernel_16000\\2984826684.py:101: FutureWarning: The frame.append method is deprecated and will be removed from pandas in a future version. Use pandas.concat instead.\n",
      "  redFlagRecord = redFlagRecord.append(veh, ignore_index=True)\n",
      "C:\\Users\\Administrator\\AppData\\Local\\Temp\\ipykernel_16000\\2984826684.py:101: FutureWarning: The frame.append method is deprecated and will be removed from pandas in a future version. Use pandas.concat instead.\n",
      "  redFlagRecord = redFlagRecord.append(veh, ignore_index=True)\n",
      "C:\\Users\\Administrator\\AppData\\Local\\Temp\\ipykernel_16000\\2984826684.py:101: FutureWarning: The frame.append method is deprecated and will be removed from pandas in a future version. Use pandas.concat instead.\n",
      "  redFlagRecord = redFlagRecord.append(veh, ignore_index=True)\n",
      "C:\\Users\\Administrator\\AppData\\Local\\Temp\\ipykernel_16000\\2984826684.py:101: FutureWarning: The frame.append method is deprecated and will be removed from pandas in a future version. Use pandas.concat instead.\n",
      "  redFlagRecord = redFlagRecord.append(veh, ignore_index=True)\n",
      "C:\\Users\\Administrator\\AppData\\Local\\Temp\\ipykernel_16000\\2984826684.py:101: FutureWarning: The frame.append method is deprecated and will be removed from pandas in a future version. Use pandas.concat instead.\n",
      "  redFlagRecord = redFlagRecord.append(veh, ignore_index=True)\n",
      "C:\\Users\\Administrator\\AppData\\Local\\Temp\\ipykernel_16000\\2984826684.py:101: FutureWarning: The frame.append method is deprecated and will be removed from pandas in a future version. Use pandas.concat instead.\n",
      "  redFlagRecord = redFlagRecord.append(veh, ignore_index=True)\n"
     ]
    },
    {
     "name": "stdout",
     "output_type": "stream",
     "text": [
      "LaneID:28925528_0;Time:4750.0;\n",
      "LaneID:28925528_0;Time:4751.0;\n",
      "LaneID:28925528_0;Time:4752.0;\n",
      "LaneID:28925528_0;Time:4753.0;\n",
      "LaneID:28925528_0;Time:4754.0;\n",
      "LaneID:28925528_0;Time:4755.0;\n",
      "LaneID:28925528_0;Time:4756.0;\n"
     ]
    },
    {
     "name": "stderr",
     "output_type": "stream",
     "text": [
      "C:\\Users\\Administrator\\AppData\\Local\\Temp\\ipykernel_16000\\2984826684.py:101: FutureWarning: The frame.append method is deprecated and will be removed from pandas in a future version. Use pandas.concat instead.\n",
      "  redFlagRecord = redFlagRecord.append(veh, ignore_index=True)\n",
      "C:\\Users\\Administrator\\AppData\\Local\\Temp\\ipykernel_16000\\2984826684.py:101: FutureWarning: The frame.append method is deprecated and will be removed from pandas in a future version. Use pandas.concat instead.\n",
      "  redFlagRecord = redFlagRecord.append(veh, ignore_index=True)\n",
      "C:\\Users\\Administrator\\AppData\\Local\\Temp\\ipykernel_16000\\2984826684.py:101: FutureWarning: The frame.append method is deprecated and will be removed from pandas in a future version. Use pandas.concat instead.\n",
      "  redFlagRecord = redFlagRecord.append(veh, ignore_index=True)\n",
      "C:\\Users\\Administrator\\AppData\\Local\\Temp\\ipykernel_16000\\2984826684.py:101: FutureWarning: The frame.append method is deprecated and will be removed from pandas in a future version. Use pandas.concat instead.\n",
      "  redFlagRecord = redFlagRecord.append(veh, ignore_index=True)\n",
      "C:\\Users\\Administrator\\AppData\\Local\\Temp\\ipykernel_16000\\2984826684.py:101: FutureWarning: The frame.append method is deprecated and will be removed from pandas in a future version. Use pandas.concat instead.\n",
      "  redFlagRecord = redFlagRecord.append(veh, ignore_index=True)\n",
      "C:\\Users\\Administrator\\AppData\\Local\\Temp\\ipykernel_16000\\2984826684.py:101: FutureWarning: The frame.append method is deprecated and will be removed from pandas in a future version. Use pandas.concat instead.\n",
      "  redFlagRecord = redFlagRecord.append(veh, ignore_index=True)\n",
      "C:\\Users\\Administrator\\AppData\\Local\\Temp\\ipykernel_16000\\2984826684.py:101: FutureWarning: The frame.append method is deprecated and will be removed from pandas in a future version. Use pandas.concat instead.\n",
      "  redFlagRecord = redFlagRecord.append(veh, ignore_index=True)\n"
     ]
    },
    {
     "name": "stdout",
     "output_type": "stream",
     "text": [
      "LaneID:28925528_0;Time:4757.0;\n",
      "LaneID:28925528_0;Time:4758.0;\n",
      "LaneID:28925528_0;Time:4759.0;\n",
      "LaneID:28925528_0;Time:4760.0;\n",
      "LaneID:28925528_0;Time:4765.0;\n",
      "LaneID:28925528_0;Time:4766.0;\n",
      "LaneID:28925528_0;Time:4767.0;\n",
      "LaneID:28925528_0;Time:4768.0;\n",
      "LaneID:28925528_0;Time:4769.0;\n",
      "LaneID:28925528_0;Time:4770.0;\n",
      "LaneID:28925528_0;Time:4771.0;\n",
      "LaneID:28925528_0;Time:4772.0;\n",
      "LaneID:28925528_0;Time:4773.0;\n",
      "LaneID:28925528_0;Time:4774.0;\n",
      "LaneID:28925528_0;Time:4775.0;\n",
      "LaneID:28925528_0;Time:4776.0;\n"
     ]
    },
    {
     "name": "stderr",
     "output_type": "stream",
     "text": [
      "C:\\Users\\Administrator\\AppData\\Local\\Temp\\ipykernel_16000\\2984826684.py:101: FutureWarning: The frame.append method is deprecated and will be removed from pandas in a future version. Use pandas.concat instead.\n",
      "  redFlagRecord = redFlagRecord.append(veh, ignore_index=True)\n",
      "C:\\Users\\Administrator\\AppData\\Local\\Temp\\ipykernel_16000\\2984826684.py:101: FutureWarning: The frame.append method is deprecated and will be removed from pandas in a future version. Use pandas.concat instead.\n",
      "  redFlagRecord = redFlagRecord.append(veh, ignore_index=True)\n",
      "C:\\Users\\Administrator\\AppData\\Local\\Temp\\ipykernel_16000\\2984826684.py:101: FutureWarning: The frame.append method is deprecated and will be removed from pandas in a future version. Use pandas.concat instead.\n",
      "  redFlagRecord = redFlagRecord.append(veh, ignore_index=True)\n",
      "C:\\Users\\Administrator\\AppData\\Local\\Temp\\ipykernel_16000\\2984826684.py:101: FutureWarning: The frame.append method is deprecated and will be removed from pandas in a future version. Use pandas.concat instead.\n",
      "  redFlagRecord = redFlagRecord.append(veh, ignore_index=True)\n",
      "C:\\Users\\Administrator\\AppData\\Local\\Temp\\ipykernel_16000\\2984826684.py:101: FutureWarning: The frame.append method is deprecated and will be removed from pandas in a future version. Use pandas.concat instead.\n",
      "  redFlagRecord = redFlagRecord.append(veh, ignore_index=True)\n",
      "C:\\Users\\Administrator\\AppData\\Local\\Temp\\ipykernel_16000\\2984826684.py:101: FutureWarning: The frame.append method is deprecated and will be removed from pandas in a future version. Use pandas.concat instead.\n",
      "  redFlagRecord = redFlagRecord.append(veh, ignore_index=True)\n",
      "C:\\Users\\Administrator\\AppData\\Local\\Temp\\ipykernel_16000\\2984826684.py:101: FutureWarning: The frame.append method is deprecated and will be removed from pandas in a future version. Use pandas.concat instead.\n",
      "  redFlagRecord = redFlagRecord.append(veh, ignore_index=True)\n"
     ]
    },
    {
     "name": "stdout",
     "output_type": "stream",
     "text": [
      "LaneID:28925528_0;Time:4777.0;\n",
      "LaneID:28925528_0;Time:4778.0;\n",
      "LaneID:28925528_0;Time:4779.0;\n",
      "LaneID:28925528_0;Time:4780.0;\n",
      "LaneID:28925528_0;Time:4781.0;\n",
      "LaneID:28925528_0;Time:4782.0;\n",
      "LaneID:28925528_0;Time:4783.0;\n"
     ]
    },
    {
     "name": "stderr",
     "output_type": "stream",
     "text": [
      "C:\\Users\\Administrator\\AppData\\Local\\Temp\\ipykernel_16000\\2984826684.py:101: FutureWarning: The frame.append method is deprecated and will be removed from pandas in a future version. Use pandas.concat instead.\n",
      "  redFlagRecord = redFlagRecord.append(veh, ignore_index=True)\n",
      "C:\\Users\\Administrator\\AppData\\Local\\Temp\\ipykernel_16000\\2984826684.py:101: FutureWarning: The frame.append method is deprecated and will be removed from pandas in a future version. Use pandas.concat instead.\n",
      "  redFlagRecord = redFlagRecord.append(veh, ignore_index=True)\n",
      "C:\\Users\\Administrator\\AppData\\Local\\Temp\\ipykernel_16000\\2984826684.py:101: FutureWarning: The frame.append method is deprecated and will be removed from pandas in a future version. Use pandas.concat instead.\n",
      "  redFlagRecord = redFlagRecord.append(veh, ignore_index=True)\n",
      "C:\\Users\\Administrator\\AppData\\Local\\Temp\\ipykernel_16000\\2984826684.py:101: FutureWarning: The frame.append method is deprecated and will be removed from pandas in a future version. Use pandas.concat instead.\n",
      "  redFlagRecord = redFlagRecord.append(veh, ignore_index=True)\n",
      "C:\\Users\\Administrator\\AppData\\Local\\Temp\\ipykernel_16000\\2984826684.py:101: FutureWarning: The frame.append method is deprecated and will be removed from pandas in a future version. Use pandas.concat instead.\n",
      "  redFlagRecord = redFlagRecord.append(veh, ignore_index=True)\n",
      "C:\\Users\\Administrator\\AppData\\Local\\Temp\\ipykernel_16000\\2984826684.py:101: FutureWarning: The frame.append method is deprecated and will be removed from pandas in a future version. Use pandas.concat instead.\n",
      "  redFlagRecord = redFlagRecord.append(veh, ignore_index=True)\n",
      "C:\\Users\\Administrator\\AppData\\Local\\Temp\\ipykernel_16000\\2984826684.py:101: FutureWarning: The frame.append method is deprecated and will be removed from pandas in a future version. Use pandas.concat instead.\n",
      "  redFlagRecord = redFlagRecord.append(veh, ignore_index=True)\n"
     ]
    },
    {
     "name": "stdout",
     "output_type": "stream",
     "text": [
      "LaneID:28925528_0;Time:4784.0;\n",
      "LaneID:28925528_0;Time:4785.0;\n",
      "LaneID:28925528_0;Time:4786.0;\n",
      "LaneID:28925528_0;Time:4787.0;\n",
      "LaneID:28925528_0;Time:4788.0;\n",
      "LaneID:28925528_0;Time:4789.0;\n",
      "LaneID:28925528_0;Time:4790.0;\n"
     ]
    },
    {
     "name": "stderr",
     "output_type": "stream",
     "text": [
      "C:\\Users\\Administrator\\AppData\\Local\\Temp\\ipykernel_16000\\2984826684.py:101: FutureWarning: The frame.append method is deprecated and will be removed from pandas in a future version. Use pandas.concat instead.\n",
      "  redFlagRecord = redFlagRecord.append(veh, ignore_index=True)\n",
      "C:\\Users\\Administrator\\AppData\\Local\\Temp\\ipykernel_16000\\2984826684.py:101: FutureWarning: The frame.append method is deprecated and will be removed from pandas in a future version. Use pandas.concat instead.\n",
      "  redFlagRecord = redFlagRecord.append(veh, ignore_index=True)\n",
      "C:\\Users\\Administrator\\AppData\\Local\\Temp\\ipykernel_16000\\2984826684.py:101: FutureWarning: The frame.append method is deprecated and will be removed from pandas in a future version. Use pandas.concat instead.\n",
      "  redFlagRecord = redFlagRecord.append(veh, ignore_index=True)\n",
      "C:\\Users\\Administrator\\AppData\\Local\\Temp\\ipykernel_16000\\2984826684.py:101: FutureWarning: The frame.append method is deprecated and will be removed from pandas in a future version. Use pandas.concat instead.\n",
      "  redFlagRecord = redFlagRecord.append(veh, ignore_index=True)\n",
      "C:\\Users\\Administrator\\AppData\\Local\\Temp\\ipykernel_16000\\2984826684.py:101: FutureWarning: The frame.append method is deprecated and will be removed from pandas in a future version. Use pandas.concat instead.\n",
      "  redFlagRecord = redFlagRecord.append(veh, ignore_index=True)\n",
      "C:\\Users\\Administrator\\AppData\\Local\\Temp\\ipykernel_16000\\2984826684.py:101: FutureWarning: The frame.append method is deprecated and will be removed from pandas in a future version. Use pandas.concat instead.\n",
      "  redFlagRecord = redFlagRecord.append(veh, ignore_index=True)\n"
     ]
    },
    {
     "name": "stdout",
     "output_type": "stream",
     "text": [
      "LaneID:28925528_0;Time:4791.0;\n",
      "LaneID:28925528_0;Time:4792.0;\n",
      "LaneID:28925528_0;Time:4793.0;\n",
      "LaneID:28925528_0;Time:4794.0;\n",
      "LaneID:28925528_0;Time:4801.0;\n",
      "LaneID:28925528_0;Time:4802.0;\n",
      "LaneID:28925528_0;Time:4803.0;\n",
      "LaneID:28925528_0;Time:4804.0;\n",
      "LaneID:28925528_0;Time:4805.0;\n",
      "LaneID:28925528_0;Time:4806.0;\n",
      "LaneID:28925528_0;Time:4813.0;\n",
      "LaneID:28925528_0;Time:4814.0;\n",
      "LaneID:28925528_0;Time:4815.0;\n",
      "LaneID:28925528_0;Time:4816.0;\n",
      "LaneID:28925528_0;Time:4817.0;\n",
      "LaneID:28925528_0;Time:4818.0;\n",
      "LaneID:28925528_0;Time:4819.0;\n",
      "LaneID:28925528_0;Time:4820.0;\n",
      "LaneID:28925528_0;Time:4821.0;\n",
      "LaneID:28925528_0;Time:4822.0;\n",
      "LaneID:28925528_0;Time:4838.0;\n",
      "LaneID:28925528_0;Time:4839.0;\n",
      "LaneID:28925528_0;Time:4840.0;\n",
      "LaneID:28925528_0;Time:4841.0;\n",
      "LaneID:28925528_0;Time:4842.0;\n",
      "LaneID:28925528_0;Time:4843.0;\n",
      "LaneID:28925528_0;Time:4844.0;\n",
      "LaneID:28925528_0;Time:4851.0;\n",
      "LaneID:28925528_0;Time:4852.0;\n",
      "LaneID:28925528_0;Time:4853.0;\n",
      "LaneID:28925528_0;Time:4862.0;\n",
      "LaneID:28925528_0;Time:4863.0;\n",
      "LaneID:28925528_0;Time:4864.0;\n",
      "LaneID:28925528_0;Time:4865.0;\n",
      "LaneID:28925528_0;Time:4866.0;\n",
      "LaneID:28925528_0;Time:4867.0;\n",
      "LaneID:28925528_0;Time:4868.0;\n",
      "LaneID:28925528_0;Time:4869.0;\n",
      "LaneID:28925528_0;Time:4870.0;\n",
      "LaneID:28925528_0;Time:4871.0;\n",
      "LaneID:28925528_0;Time:4872.0;\n"
     ]
    },
    {
     "name": "stderr",
     "output_type": "stream",
     "text": [
      "C:\\Users\\Administrator\\AppData\\Local\\Temp\\ipykernel_16000\\2984826684.py:101: FutureWarning: The frame.append method is deprecated and will be removed from pandas in a future version. Use pandas.concat instead.\n",
      "  redFlagRecord = redFlagRecord.append(veh, ignore_index=True)\n",
      "C:\\Users\\Administrator\\AppData\\Local\\Temp\\ipykernel_16000\\2984826684.py:101: FutureWarning: The frame.append method is deprecated and will be removed from pandas in a future version. Use pandas.concat instead.\n",
      "  redFlagRecord = redFlagRecord.append(veh, ignore_index=True)\n",
      "C:\\Users\\Administrator\\AppData\\Local\\Temp\\ipykernel_16000\\2984826684.py:101: FutureWarning: The frame.append method is deprecated and will be removed from pandas in a future version. Use pandas.concat instead.\n",
      "  redFlagRecord = redFlagRecord.append(veh, ignore_index=True)\n",
      "C:\\Users\\Administrator\\AppData\\Local\\Temp\\ipykernel_16000\\2984826684.py:101: FutureWarning: The frame.append method is deprecated and will be removed from pandas in a future version. Use pandas.concat instead.\n",
      "  redFlagRecord = redFlagRecord.append(veh, ignore_index=True)\n",
      "C:\\Users\\Administrator\\AppData\\Local\\Temp\\ipykernel_16000\\2984826684.py:101: FutureWarning: The frame.append method is deprecated and will be removed from pandas in a future version. Use pandas.concat instead.\n",
      "  redFlagRecord = redFlagRecord.append(veh, ignore_index=True)\n",
      "C:\\Users\\Administrator\\AppData\\Local\\Temp\\ipykernel_16000\\2984826684.py:101: FutureWarning: The frame.append method is deprecated and will be removed from pandas in a future version. Use pandas.concat instead.\n",
      "  redFlagRecord = redFlagRecord.append(veh, ignore_index=True)\n",
      "C:\\Users\\Administrator\\AppData\\Local\\Temp\\ipykernel_16000\\2984826684.py:101: FutureWarning: The frame.append method is deprecated and will be removed from pandas in a future version. Use pandas.concat instead.\n",
      "  redFlagRecord = redFlagRecord.append(veh, ignore_index=True)\n"
     ]
    },
    {
     "name": "stdout",
     "output_type": "stream",
     "text": [
      "LaneID:28925528_0;Time:4873.0;\n",
      "LaneID:28925528_0;Time:4874.0;\n",
      "LaneID:28925528_0;Time:4875.0;\n",
      "LaneID:28925528_0;Time:4876.0;\n",
      "LaneID:28925528_0;Time:4877.0;\n",
      "LaneID:28925528_0;Time:4878.0;\n",
      "LaneID:28925528_0;Time:4879.0;\n"
     ]
    },
    {
     "name": "stderr",
     "output_type": "stream",
     "text": [
      "C:\\Users\\Administrator\\AppData\\Local\\Temp\\ipykernel_16000\\2984826684.py:101: FutureWarning: The frame.append method is deprecated and will be removed from pandas in a future version. Use pandas.concat instead.\n",
      "  redFlagRecord = redFlagRecord.append(veh, ignore_index=True)\n",
      "C:\\Users\\Administrator\\AppData\\Local\\Temp\\ipykernel_16000\\2984826684.py:101: FutureWarning: The frame.append method is deprecated and will be removed from pandas in a future version. Use pandas.concat instead.\n",
      "  redFlagRecord = redFlagRecord.append(veh, ignore_index=True)\n",
      "C:\\Users\\Administrator\\AppData\\Local\\Temp\\ipykernel_16000\\2984826684.py:101: FutureWarning: The frame.append method is deprecated and will be removed from pandas in a future version. Use pandas.concat instead.\n",
      "  redFlagRecord = redFlagRecord.append(veh, ignore_index=True)\n",
      "C:\\Users\\Administrator\\AppData\\Local\\Temp\\ipykernel_16000\\2984826684.py:101: FutureWarning: The frame.append method is deprecated and will be removed from pandas in a future version. Use pandas.concat instead.\n",
      "  redFlagRecord = redFlagRecord.append(veh, ignore_index=True)\n",
      "C:\\Users\\Administrator\\AppData\\Local\\Temp\\ipykernel_16000\\2984826684.py:101: FutureWarning: The frame.append method is deprecated and will be removed from pandas in a future version. Use pandas.concat instead.\n",
      "  redFlagRecord = redFlagRecord.append(veh, ignore_index=True)\n",
      "C:\\Users\\Administrator\\AppData\\Local\\Temp\\ipykernel_16000\\2984826684.py:101: FutureWarning: The frame.append method is deprecated and will be removed from pandas in a future version. Use pandas.concat instead.\n",
      "  redFlagRecord = redFlagRecord.append(veh, ignore_index=True)\n",
      "C:\\Users\\Administrator\\AppData\\Local\\Temp\\ipykernel_16000\\2984826684.py:101: FutureWarning: The frame.append method is deprecated and will be removed from pandas in a future version. Use pandas.concat instead.\n",
      "  redFlagRecord = redFlagRecord.append(veh, ignore_index=True)\n"
     ]
    },
    {
     "name": "stdout",
     "output_type": "stream",
     "text": [
      "LaneID:28925528_0;Time:4880.0;\n",
      "LaneID:28925528_0;Time:4881.0;\n",
      "LaneID:28925528_0;Time:4882.0;\n",
      "LaneID:28925528_0;Time:4883.0;\n",
      "LaneID:28925528_0;Time:4884.0;\n",
      "LaneID:28925528_0;Time:4886.0;\n",
      "LaneID:28925528_0;Time:4887.0;\n",
      "LaneID:28925528_0;Time:4888.0;\n",
      "LaneID:28925528_0;Time:4889.0;\n",
      "LaneID:28925528_0;Time:4890.0;\n",
      "LaneID:28925528_0;Time:4891.0;\n",
      "LaneID:28925528_0;Time:4892.0;\n",
      "LaneID:28925528_0;Time:4893.0;\n",
      "LaneID:28925528_0;Time:4894.0;\n",
      "LaneID:28925528_0;Time:4895.0;\n",
      "LaneID:28925528_0;Time:4896.0;\n"
     ]
    },
    {
     "name": "stderr",
     "output_type": "stream",
     "text": [
      "C:\\Users\\Administrator\\AppData\\Local\\Temp\\ipykernel_16000\\2984826684.py:101: FutureWarning: The frame.append method is deprecated and will be removed from pandas in a future version. Use pandas.concat instead.\n",
      "  redFlagRecord = redFlagRecord.append(veh, ignore_index=True)\n",
      "C:\\Users\\Administrator\\AppData\\Local\\Temp\\ipykernel_16000\\2984826684.py:101: FutureWarning: The frame.append method is deprecated and will be removed from pandas in a future version. Use pandas.concat instead.\n",
      "  redFlagRecord = redFlagRecord.append(veh, ignore_index=True)\n",
      "C:\\Users\\Administrator\\AppData\\Local\\Temp\\ipykernel_16000\\2984826684.py:101: FutureWarning: The frame.append method is deprecated and will be removed from pandas in a future version. Use pandas.concat instead.\n",
      "  redFlagRecord = redFlagRecord.append(veh, ignore_index=True)\n",
      "C:\\Users\\Administrator\\AppData\\Local\\Temp\\ipykernel_16000\\2984826684.py:101: FutureWarning: The frame.append method is deprecated and will be removed from pandas in a future version. Use pandas.concat instead.\n",
      "  redFlagRecord = redFlagRecord.append(veh, ignore_index=True)\n",
      "C:\\Users\\Administrator\\AppData\\Local\\Temp\\ipykernel_16000\\2984826684.py:101: FutureWarning: The frame.append method is deprecated and will be removed from pandas in a future version. Use pandas.concat instead.\n",
      "  redFlagRecord = redFlagRecord.append(veh, ignore_index=True)\n",
      "C:\\Users\\Administrator\\AppData\\Local\\Temp\\ipykernel_16000\\2984826684.py:101: FutureWarning: The frame.append method is deprecated and will be removed from pandas in a future version. Use pandas.concat instead.\n",
      "  redFlagRecord = redFlagRecord.append(veh, ignore_index=True)\n",
      "C:\\Users\\Administrator\\AppData\\Local\\Temp\\ipykernel_16000\\2984826684.py:101: FutureWarning: The frame.append method is deprecated and will be removed from pandas in a future version. Use pandas.concat instead.\n",
      "  redFlagRecord = redFlagRecord.append(veh, ignore_index=True)\n"
     ]
    },
    {
     "name": "stdout",
     "output_type": "stream",
     "text": [
      "LaneID:28925528_0;Time:4897.0;\n",
      "LaneID:28925528_0;Time:4898.0;\n",
      "LaneID:28925528_0;Time:4899.0;\n",
      "LaneID:28925528_0;Time:4900.0;\n",
      "LaneID:28925528_0;Time:4901.0;\n",
      "LaneID:28925528_0;Time:4902.0;\n",
      "LaneID:28925528_0;Time:4903.0;\n"
     ]
    },
    {
     "name": "stderr",
     "output_type": "stream",
     "text": [
      "C:\\Users\\Administrator\\AppData\\Local\\Temp\\ipykernel_16000\\2984826684.py:101: FutureWarning: The frame.append method is deprecated and will be removed from pandas in a future version. Use pandas.concat instead.\n",
      "  redFlagRecord = redFlagRecord.append(veh, ignore_index=True)\n",
      "C:\\Users\\Administrator\\AppData\\Local\\Temp\\ipykernel_16000\\2984826684.py:101: FutureWarning: The frame.append method is deprecated and will be removed from pandas in a future version. Use pandas.concat instead.\n",
      "  redFlagRecord = redFlagRecord.append(veh, ignore_index=True)\n",
      "C:\\Users\\Administrator\\AppData\\Local\\Temp\\ipykernel_16000\\2984826684.py:101: FutureWarning: The frame.append method is deprecated and will be removed from pandas in a future version. Use pandas.concat instead.\n",
      "  redFlagRecord = redFlagRecord.append(veh, ignore_index=True)\n",
      "C:\\Users\\Administrator\\AppData\\Local\\Temp\\ipykernel_16000\\2984826684.py:101: FutureWarning: The frame.append method is deprecated and will be removed from pandas in a future version. Use pandas.concat instead.\n",
      "  redFlagRecord = redFlagRecord.append(veh, ignore_index=True)\n",
      "C:\\Users\\Administrator\\AppData\\Local\\Temp\\ipykernel_16000\\2984826684.py:101: FutureWarning: The frame.append method is deprecated and will be removed from pandas in a future version. Use pandas.concat instead.\n",
      "  redFlagRecord = redFlagRecord.append(veh, ignore_index=True)\n",
      "C:\\Users\\Administrator\\AppData\\Local\\Temp\\ipykernel_16000\\2984826684.py:101: FutureWarning: The frame.append method is deprecated and will be removed from pandas in a future version. Use pandas.concat instead.\n",
      "  redFlagRecord = redFlagRecord.append(veh, ignore_index=True)\n",
      "C:\\Users\\Administrator\\AppData\\Local\\Temp\\ipykernel_16000\\2984826684.py:101: FutureWarning: The frame.append method is deprecated and will be removed from pandas in a future version. Use pandas.concat instead.\n",
      "  redFlagRecord = redFlagRecord.append(veh, ignore_index=True)\n"
     ]
    },
    {
     "name": "stdout",
     "output_type": "stream",
     "text": [
      "LaneID:28925528_0;Time:4904.0;\n",
      "LaneID:28925528_0;Time:4905.0;\n",
      "LaneID:28925528_0;Time:4906.0;\n",
      "LaneID:28925528_0;Time:4907.0;\n",
      "LaneID:28925528_0;Time:4908.0;\n",
      "LaneID:28925528_0;Time:4909.0;\n",
      "LaneID:28925528_0;Time:4910.0;\n"
     ]
    },
    {
     "name": "stderr",
     "output_type": "stream",
     "text": [
      "C:\\Users\\Administrator\\AppData\\Local\\Temp\\ipykernel_16000\\2984826684.py:101: FutureWarning: The frame.append method is deprecated and will be removed from pandas in a future version. Use pandas.concat instead.\n",
      "  redFlagRecord = redFlagRecord.append(veh, ignore_index=True)\n",
      "C:\\Users\\Administrator\\AppData\\Local\\Temp\\ipykernel_16000\\2984826684.py:101: FutureWarning: The frame.append method is deprecated and will be removed from pandas in a future version. Use pandas.concat instead.\n",
      "  redFlagRecord = redFlagRecord.append(veh, ignore_index=True)\n",
      "C:\\Users\\Administrator\\AppData\\Local\\Temp\\ipykernel_16000\\2984826684.py:101: FutureWarning: The frame.append method is deprecated and will be removed from pandas in a future version. Use pandas.concat instead.\n",
      "  redFlagRecord = redFlagRecord.append(veh, ignore_index=True)\n",
      "C:\\Users\\Administrator\\AppData\\Local\\Temp\\ipykernel_16000\\2984826684.py:101: FutureWarning: The frame.append method is deprecated and will be removed from pandas in a future version. Use pandas.concat instead.\n",
      "  redFlagRecord = redFlagRecord.append(veh, ignore_index=True)\n",
      "C:\\Users\\Administrator\\AppData\\Local\\Temp\\ipykernel_16000\\2984826684.py:101: FutureWarning: The frame.append method is deprecated and will be removed from pandas in a future version. Use pandas.concat instead.\n",
      "  redFlagRecord = redFlagRecord.append(veh, ignore_index=True)\n",
      "C:\\Users\\Administrator\\AppData\\Local\\Temp\\ipykernel_16000\\2984826684.py:101: FutureWarning: The frame.append method is deprecated and will be removed from pandas in a future version. Use pandas.concat instead.\n",
      "  redFlagRecord = redFlagRecord.append(veh, ignore_index=True)\n",
      "C:\\Users\\Administrator\\AppData\\Local\\Temp\\ipykernel_16000\\2984826684.py:101: FutureWarning: The frame.append method is deprecated and will be removed from pandas in a future version. Use pandas.concat instead.\n",
      "  redFlagRecord = redFlagRecord.append(veh, ignore_index=True)\n"
     ]
    },
    {
     "name": "stdout",
     "output_type": "stream",
     "text": [
      "LaneID:28925528_0;Time:4911.0;\n",
      "LaneID:28925528_0;Time:4912.0;\n",
      "LaneID:28925528_0;Time:4913.0;\n",
      "LaneID:28925528_0;Time:4914.0;\n",
      "LaneID:28925528_0;Time:4915.0;\n",
      "LaneID:28925528_0;Time:4916.0;\n",
      "LaneID:28925528_0;Time:4917.0;\n",
      "LaneID:28925528_0;Time:4935.0;\n",
      "LaneID:28925528_0;Time:4936.0;\n",
      "LaneID:28925528_0;Time:4937.0;\n",
      "LaneID:28925528_0;Time:4938.0;\n",
      "LaneID:28925528_0;Time:4939.0;\n",
      "LaneID:28925528_0;Time:4940.0;\n",
      "LaneID:28925528_0;Time:4941.0;\n",
      "LaneID:28925528_0;Time:4942.0;\n",
      "LaneID:28925528_0;Time:4943.0;\n",
      "LaneID:28925528_0;Time:4944.0;\n",
      "LaneID:28925528_0;Time:4945.0;\n",
      "LaneID:28925528_0;Time:4946.0;\n",
      "LaneID:28925528_0;Time:4959.0;\n",
      "LaneID:28925528_0;Time:4960.0;\n",
      "LaneID:28925528_0;Time:4961.0;\n",
      "LaneID:28925528_0;Time:4962.0;\n",
      "LaneID:28925528_0;Time:4963.0;\n",
      "LaneID:28925528_0;Time:4964.0;\n",
      "LaneID:28925528_0;Time:4965.0;\n",
      "LaneID:28925528_0;Time:4966.0;\n",
      "LaneID:28925528_0;Time:4967.0;\n",
      "LaneID:28925528_0;Time:4968.0;\n",
      "LaneID:28925528_0;Time:4969.0;\n",
      "LaneID:28925528_0;Time:4970.0;\n",
      "LaneID:28925528_0;Time:4971.0;\n"
     ]
    },
    {
     "name": "stderr",
     "output_type": "stream",
     "text": [
      "C:\\Users\\Administrator\\AppData\\Local\\Temp\\ipykernel_16000\\2984826684.py:101: FutureWarning: The frame.append method is deprecated and will be removed from pandas in a future version. Use pandas.concat instead.\n",
      "  redFlagRecord = redFlagRecord.append(veh, ignore_index=True)\n",
      "C:\\Users\\Administrator\\AppData\\Local\\Temp\\ipykernel_16000\\2984826684.py:101: FutureWarning: The frame.append method is deprecated and will be removed from pandas in a future version. Use pandas.concat instead.\n",
      "  redFlagRecord = redFlagRecord.append(veh, ignore_index=True)\n",
      "C:\\Users\\Administrator\\AppData\\Local\\Temp\\ipykernel_16000\\2984826684.py:101: FutureWarning: The frame.append method is deprecated and will be removed from pandas in a future version. Use pandas.concat instead.\n",
      "  redFlagRecord = redFlagRecord.append(veh, ignore_index=True)\n",
      "C:\\Users\\Administrator\\AppData\\Local\\Temp\\ipykernel_16000\\2984826684.py:101: FutureWarning: The frame.append method is deprecated and will be removed from pandas in a future version. Use pandas.concat instead.\n",
      "  redFlagRecord = redFlagRecord.append(veh, ignore_index=True)\n",
      "C:\\Users\\Administrator\\AppData\\Local\\Temp\\ipykernel_16000\\2984826684.py:101: FutureWarning: The frame.append method is deprecated and will be removed from pandas in a future version. Use pandas.concat instead.\n",
      "  redFlagRecord = redFlagRecord.append(veh, ignore_index=True)\n",
      "C:\\Users\\Administrator\\AppData\\Local\\Temp\\ipykernel_16000\\2984826684.py:101: FutureWarning: The frame.append method is deprecated and will be removed from pandas in a future version. Use pandas.concat instead.\n",
      "  redFlagRecord = redFlagRecord.append(veh, ignore_index=True)\n"
     ]
    },
    {
     "name": "stdout",
     "output_type": "stream",
     "text": [
      "LaneID:28925528_0;Time:4972.0;\n",
      "LaneID:28925528_0;Time:4973.0;\n",
      "LaneID:28925528_0;Time:4974.0;\n",
      "LaneID:28925528_0;Time:4975.0;\n",
      "LaneID:28925528_0;Time:4976.0;\n",
      "LaneID:28925528_0;Time:4977.0;\n",
      "LaneID:28925528_0;Time:4984.0;\n",
      "LaneID:28925528_0;Time:4985.0;\n",
      "LaneID:28925528_0;Time:4986.0;\n",
      "LaneID:28925528_0;Time:4987.0;\n",
      "LaneID:28925528_0;Time:4988.0;\n"
     ]
    },
    {
     "name": "stderr",
     "output_type": "stream",
     "text": [
      "C:\\Users\\Administrator\\AppData\\Local\\Temp\\ipykernel_16000\\2984826684.py:101: FutureWarning: The frame.append method is deprecated and will be removed from pandas in a future version. Use pandas.concat instead.\n",
      "  redFlagRecord = redFlagRecord.append(veh, ignore_index=True)\n",
      "C:\\Users\\Administrator\\AppData\\Local\\Temp\\ipykernel_16000\\2984826684.py:101: FutureWarning: The frame.append method is deprecated and will be removed from pandas in a future version. Use pandas.concat instead.\n",
      "  redFlagRecord = redFlagRecord.append(veh, ignore_index=True)\n",
      "C:\\Users\\Administrator\\AppData\\Local\\Temp\\ipykernel_16000\\2984826684.py:101: FutureWarning: The frame.append method is deprecated and will be removed from pandas in a future version. Use pandas.concat instead.\n",
      "  redFlagRecord = redFlagRecord.append(veh, ignore_index=True)\n",
      "C:\\Users\\Administrator\\AppData\\Local\\Temp\\ipykernel_16000\\2984826684.py:101: FutureWarning: The frame.append method is deprecated and will be removed from pandas in a future version. Use pandas.concat instead.\n",
      "  redFlagRecord = redFlagRecord.append(veh, ignore_index=True)\n",
      "C:\\Users\\Administrator\\AppData\\Local\\Temp\\ipykernel_16000\\2984826684.py:101: FutureWarning: The frame.append method is deprecated and will be removed from pandas in a future version. Use pandas.concat instead.\n",
      "  redFlagRecord = redFlagRecord.append(veh, ignore_index=True)\n",
      "C:\\Users\\Administrator\\AppData\\Local\\Temp\\ipykernel_16000\\2984826684.py:101: FutureWarning: The frame.append method is deprecated and will be removed from pandas in a future version. Use pandas.concat instead.\n",
      "  redFlagRecord = redFlagRecord.append(veh, ignore_index=True)\n",
      "C:\\Users\\Administrator\\AppData\\Local\\Temp\\ipykernel_16000\\2984826684.py:101: FutureWarning: The frame.append method is deprecated and will be removed from pandas in a future version. Use pandas.concat instead.\n",
      "  redFlagRecord = redFlagRecord.append(veh, ignore_index=True)\n"
     ]
    },
    {
     "name": "stdout",
     "output_type": "stream",
     "text": [
      "LaneID:28925528_0;Time:4989.0;\n",
      "LaneID:28925528_0;Time:4990.0;\n",
      "LaneID:28925528_0;Time:4991.0;\n",
      "LaneID:28925528_0;Time:4992.0;\n",
      "LaneID:28925528_0;Time:4993.0;\n",
      "LaneID:28925528_0;Time:4994.0;\n",
      "LaneID:28925528_0;Time:4995.0;\n",
      "LaneID:28925528_0;Time:4996.0;\n",
      "LaneID:28925528_0;Time:4997.0;\n",
      "LaneID:28925528_0;Time:4998.0;\n",
      "LaneID:28925528_0;Time:4999.0;\n"
     ]
    },
    {
     "name": "stderr",
     "output_type": "stream",
     "text": [
      "C:\\Users\\Administrator\\AppData\\Local\\Temp\\ipykernel_16000\\2984826684.py:101: FutureWarning: The frame.append method is deprecated and will be removed from pandas in a future version. Use pandas.concat instead.\n",
      "  redFlagRecord = redFlagRecord.append(veh, ignore_index=True)\n",
      "C:\\Users\\Administrator\\AppData\\Local\\Temp\\ipykernel_16000\\2984826684.py:101: FutureWarning: The frame.append method is deprecated and will be removed from pandas in a future version. Use pandas.concat instead.\n",
      "  redFlagRecord = redFlagRecord.append(veh, ignore_index=True)\n",
      "C:\\Users\\Administrator\\AppData\\Local\\Temp\\ipykernel_16000\\2984826684.py:101: FutureWarning: The frame.append method is deprecated and will be removed from pandas in a future version. Use pandas.concat instead.\n",
      "  redFlagRecord = redFlagRecord.append(veh, ignore_index=True)\n",
      "C:\\Users\\Administrator\\AppData\\Local\\Temp\\ipykernel_16000\\2984826684.py:101: FutureWarning: The frame.append method is deprecated and will be removed from pandas in a future version. Use pandas.concat instead.\n",
      "  redFlagRecord = redFlagRecord.append(veh, ignore_index=True)\n",
      "C:\\Users\\Administrator\\AppData\\Local\\Temp\\ipykernel_16000\\2984826684.py:101: FutureWarning: The frame.append method is deprecated and will be removed from pandas in a future version. Use pandas.concat instead.\n",
      "  redFlagRecord = redFlagRecord.append(veh, ignore_index=True)\n",
      "C:\\Users\\Administrator\\AppData\\Local\\Temp\\ipykernel_16000\\2984826684.py:101: FutureWarning: The frame.append method is deprecated and will be removed from pandas in a future version. Use pandas.concat instead.\n",
      "  redFlagRecord = redFlagRecord.append(veh, ignore_index=True)\n",
      "C:\\Users\\Administrator\\AppData\\Local\\Temp\\ipykernel_16000\\2984826684.py:101: FutureWarning: The frame.append method is deprecated and will be removed from pandas in a future version. Use pandas.concat instead.\n",
      "  redFlagRecord = redFlagRecord.append(veh, ignore_index=True)\n"
     ]
    },
    {
     "name": "stdout",
     "output_type": "stream",
     "text": [
      "LaneID:28925528_0;Time:5000.0;\n",
      "LaneID:28925528_0;Time:5001.0;\n",
      "LaneID:28925528_0;Time:5002.0;\n",
      "LaneID:28925528_0;Time:5003.0;\n",
      "LaneID:28925528_0;Time:5004.0;\n",
      "LaneID:28925528_0;Time:5005.0;\n",
      "LaneID:28925528_0;Time:5006.0;\n"
     ]
    },
    {
     "name": "stderr",
     "output_type": "stream",
     "text": [
      "C:\\Users\\Administrator\\AppData\\Local\\Temp\\ipykernel_16000\\2984826684.py:101: FutureWarning: The frame.append method is deprecated and will be removed from pandas in a future version. Use pandas.concat instead.\n",
      "  redFlagRecord = redFlagRecord.append(veh, ignore_index=True)\n",
      "C:\\Users\\Administrator\\AppData\\Local\\Temp\\ipykernel_16000\\2984826684.py:101: FutureWarning: The frame.append method is deprecated and will be removed from pandas in a future version. Use pandas.concat instead.\n",
      "  redFlagRecord = redFlagRecord.append(veh, ignore_index=True)\n",
      "C:\\Users\\Administrator\\AppData\\Local\\Temp\\ipykernel_16000\\2984826684.py:101: FutureWarning: The frame.append method is deprecated and will be removed from pandas in a future version. Use pandas.concat instead.\n",
      "  redFlagRecord = redFlagRecord.append(veh, ignore_index=True)\n",
      "C:\\Users\\Administrator\\AppData\\Local\\Temp\\ipykernel_16000\\2984826684.py:101: FutureWarning: The frame.append method is deprecated and will be removed from pandas in a future version. Use pandas.concat instead.\n",
      "  redFlagRecord = redFlagRecord.append(veh, ignore_index=True)\n",
      "C:\\Users\\Administrator\\AppData\\Local\\Temp\\ipykernel_16000\\2984826684.py:101: FutureWarning: The frame.append method is deprecated and will be removed from pandas in a future version. Use pandas.concat instead.\n",
      "  redFlagRecord = redFlagRecord.append(veh, ignore_index=True)\n",
      "C:\\Users\\Administrator\\AppData\\Local\\Temp\\ipykernel_16000\\2984826684.py:101: FutureWarning: The frame.append method is deprecated and will be removed from pandas in a future version. Use pandas.concat instead.\n",
      "  redFlagRecord = redFlagRecord.append(veh, ignore_index=True)\n",
      "C:\\Users\\Administrator\\AppData\\Local\\Temp\\ipykernel_16000\\2984826684.py:101: FutureWarning: The frame.append method is deprecated and will be removed from pandas in a future version. Use pandas.concat instead.\n",
      "  redFlagRecord = redFlagRecord.append(veh, ignore_index=True)\n"
     ]
    },
    {
     "name": "stdout",
     "output_type": "stream",
     "text": [
      "LaneID:28925528_0;Time:5007.0;\n",
      "LaneID:28925528_0;Time:5008.0;\n",
      "LaneID:28925528_0;Time:5009.0;\n",
      "LaneID:28925528_0;Time:5010.0;\n",
      "LaneID:28925528_0;Time:5011.0;\n",
      "LaneID:28925528_0;Time:5012.0;\n",
      "LaneID:28925528_0;Time:5013.0;\n",
      "LaneID:28925528_0;Time:5032.0;\n",
      "LaneID:28925528_0;Time:5033.0;\n",
      "LaneID:28925528_0;Time:5034.0;\n",
      "LaneID:28925528_0;Time:5035.0;\n",
      "LaneID:28925528_0;Time:5036.0;\n",
      "LaneID:28925528_0;Time:5037.0;\n",
      "LaneID:28925528_0;Time:5038.0;\n",
      "LaneID:28925528_0;Time:5039.0;\n",
      "LaneID:28925528_0;Time:5057.0;\n",
      "LaneID:28925528_0;Time:5058.0;\n",
      "LaneID:28925528_0;Time:5059.0;\n",
      "LaneID:28925528_0;Time:5060.0;\n",
      "LaneID:28925528_0;Time:5061.0;\n",
      "LaneID:28925528_0;Time:5062.0;\n",
      "LaneID:28925528_0;Time:5063.0;\n",
      "LaneID:28925528_0;Time:5064.0;\n",
      "LaneID:28925528_0;Time:5065.0;\n",
      "LaneID:28925528_0;Time:5066.0;\n",
      "LaneID:28925528_0;Time:5067.0;\n",
      "LaneID:28925528_0;Time:5068.0;\n"
     ]
    },
    {
     "name": "stderr",
     "output_type": "stream",
     "text": [
      "C:\\Users\\Administrator\\AppData\\Local\\Temp\\ipykernel_16000\\2984826684.py:101: FutureWarning: The frame.append method is deprecated and will be removed from pandas in a future version. Use pandas.concat instead.\n",
      "  redFlagRecord = redFlagRecord.append(veh, ignore_index=True)\n",
      "C:\\Users\\Administrator\\AppData\\Local\\Temp\\ipykernel_16000\\2984826684.py:101: FutureWarning: The frame.append method is deprecated and will be removed from pandas in a future version. Use pandas.concat instead.\n",
      "  redFlagRecord = redFlagRecord.append(veh, ignore_index=True)\n",
      "C:\\Users\\Administrator\\AppData\\Local\\Temp\\ipykernel_16000\\2984826684.py:101: FutureWarning: The frame.append method is deprecated and will be removed from pandas in a future version. Use pandas.concat instead.\n",
      "  redFlagRecord = redFlagRecord.append(veh, ignore_index=True)\n",
      "C:\\Users\\Administrator\\AppData\\Local\\Temp\\ipykernel_16000\\2984826684.py:101: FutureWarning: The frame.append method is deprecated and will be removed from pandas in a future version. Use pandas.concat instead.\n",
      "  redFlagRecord = redFlagRecord.append(veh, ignore_index=True)\n",
      "C:\\Users\\Administrator\\AppData\\Local\\Temp\\ipykernel_16000\\2984826684.py:101: FutureWarning: The frame.append method is deprecated and will be removed from pandas in a future version. Use pandas.concat instead.\n",
      "  redFlagRecord = redFlagRecord.append(veh, ignore_index=True)\n",
      "C:\\Users\\Administrator\\AppData\\Local\\Temp\\ipykernel_16000\\2984826684.py:101: FutureWarning: The frame.append method is deprecated and will be removed from pandas in a future version. Use pandas.concat instead.\n",
      "  redFlagRecord = redFlagRecord.append(veh, ignore_index=True)\n"
     ]
    },
    {
     "name": "stdout",
     "output_type": "stream",
     "text": [
      "LaneID:28925528_0;Time:5069.0;\n",
      "LaneID:28925528_0;Time:5070.0;\n",
      "LaneID:28925528_0;Time:5081.0;\n",
      "LaneID:28925528_0;Time:5082.0;\n",
      "LaneID:28925528_0;Time:5083.0;\n",
      "LaneID:28925528_0;Time:5084.0;\n",
      "LaneID:28925528_0;Time:5085.0;\n",
      "LaneID:28925528_0;Time:5086.0;\n",
      "LaneID:28925528_0;Time:5093.0;\n",
      "LaneID:28925528_0;Time:5094.0;\n",
      "LaneID:28925528_0;Time:5095.0;\n",
      "LaneID:28925528_0;Time:5096.0;\n"
     ]
    },
    {
     "name": "stderr",
     "output_type": "stream",
     "text": [
      "C:\\Users\\Administrator\\AppData\\Local\\Temp\\ipykernel_16000\\2984826684.py:101: FutureWarning: The frame.append method is deprecated and will be removed from pandas in a future version. Use pandas.concat instead.\n",
      "  redFlagRecord = redFlagRecord.append(veh, ignore_index=True)\n",
      "C:\\Users\\Administrator\\AppData\\Local\\Temp\\ipykernel_16000\\2984826684.py:101: FutureWarning: The frame.append method is deprecated and will be removed from pandas in a future version. Use pandas.concat instead.\n",
      "  redFlagRecord = redFlagRecord.append(veh, ignore_index=True)\n",
      "C:\\Users\\Administrator\\AppData\\Local\\Temp\\ipykernel_16000\\2984826684.py:101: FutureWarning: The frame.append method is deprecated and will be removed from pandas in a future version. Use pandas.concat instead.\n",
      "  redFlagRecord = redFlagRecord.append(veh, ignore_index=True)\n",
      "C:\\Users\\Administrator\\AppData\\Local\\Temp\\ipykernel_16000\\2984826684.py:101: FutureWarning: The frame.append method is deprecated and will be removed from pandas in a future version. Use pandas.concat instead.\n",
      "  redFlagRecord = redFlagRecord.append(veh, ignore_index=True)\n",
      "C:\\Users\\Administrator\\AppData\\Local\\Temp\\ipykernel_16000\\2984826684.py:101: FutureWarning: The frame.append method is deprecated and will be removed from pandas in a future version. Use pandas.concat instead.\n",
      "  redFlagRecord = redFlagRecord.append(veh, ignore_index=True)\n",
      "C:\\Users\\Administrator\\AppData\\Local\\Temp\\ipykernel_16000\\2984826684.py:101: FutureWarning: The frame.append method is deprecated and will be removed from pandas in a future version. Use pandas.concat instead.\n",
      "  redFlagRecord = redFlagRecord.append(veh, ignore_index=True)\n"
     ]
    },
    {
     "name": "stdout",
     "output_type": "stream",
     "text": [
      "LaneID:28925528_0;Time:5097.0;\n",
      "LaneID:28925528_0;Time:5098.0;\n",
      "LaneID:28925528_0;Time:5099.0;\n",
      "LaneID:28925528_0;Time:5100.0;\n",
      "LaneID:28925528_0;Time:5101.0;\n",
      "LaneID:28925528_0;Time:5102.0;\n",
      "LaneID:28925528_0;Time:5103.0;\n",
      "LaneID:28925528_0;Time:5106.0;\n",
      "LaneID:28925528_0;Time:5107.0;\n",
      "LaneID:28925528_0;Time:5108.0;\n",
      "LaneID:28925528_0;Time:5109.0;\n",
      "LaneID:28925528_0;Time:5110.0;\n",
      "LaneID:28925528_0;Time:5111.0;\n",
      "LaneID:28925528_0;Time:5112.0;\n",
      "LaneID:28925528_0;Time:5113.0;\n",
      "LaneID:28925528_0;Time:5114.0;\n",
      "LaneID:28925528_0;Time:5115.0;\n"
     ]
    },
    {
     "name": "stderr",
     "output_type": "stream",
     "text": [
      "C:\\Users\\Administrator\\AppData\\Local\\Temp\\ipykernel_16000\\2984826684.py:101: FutureWarning: The frame.append method is deprecated and will be removed from pandas in a future version. Use pandas.concat instead.\n",
      "  redFlagRecord = redFlagRecord.append(veh, ignore_index=True)\n",
      "C:\\Users\\Administrator\\AppData\\Local\\Temp\\ipykernel_16000\\2984826684.py:101: FutureWarning: The frame.append method is deprecated and will be removed from pandas in a future version. Use pandas.concat instead.\n",
      "  redFlagRecord = redFlagRecord.append(veh, ignore_index=True)\n",
      "C:\\Users\\Administrator\\AppData\\Local\\Temp\\ipykernel_16000\\2984826684.py:101: FutureWarning: The frame.append method is deprecated and will be removed from pandas in a future version. Use pandas.concat instead.\n",
      "  redFlagRecord = redFlagRecord.append(veh, ignore_index=True)\n",
      "C:\\Users\\Administrator\\AppData\\Local\\Temp\\ipykernel_16000\\2984826684.py:101: FutureWarning: The frame.append method is deprecated and will be removed from pandas in a future version. Use pandas.concat instead.\n",
      "  redFlagRecord = redFlagRecord.append(veh, ignore_index=True)\n",
      "C:\\Users\\Administrator\\AppData\\Local\\Temp\\ipykernel_16000\\2984826684.py:101: FutureWarning: The frame.append method is deprecated and will be removed from pandas in a future version. Use pandas.concat instead.\n",
      "  redFlagRecord = redFlagRecord.append(veh, ignore_index=True)\n",
      "C:\\Users\\Administrator\\AppData\\Local\\Temp\\ipykernel_16000\\2984826684.py:101: FutureWarning: The frame.append method is deprecated and will be removed from pandas in a future version. Use pandas.concat instead.\n",
      "  redFlagRecord = redFlagRecord.append(veh, ignore_index=True)\n"
     ]
    },
    {
     "name": "stdout",
     "output_type": "stream",
     "text": [
      "LaneID:28925528_0;Time:5116.0;\n",
      "LaneID:28925528_0;Time:5117.0;\n",
      "LaneID:28925528_0;Time:5118.0;\n",
      "LaneID:28925528_0;Time:5119.0;\n",
      "LaneID:28925528_0;Time:5120.0;\n",
      "LaneID:28925528_0;Time:5121.0;\n"
     ]
    },
    {
     "name": "stderr",
     "output_type": "stream",
     "text": [
      "C:\\Users\\Administrator\\AppData\\Local\\Temp\\ipykernel_16000\\2984826684.py:101: FutureWarning: The frame.append method is deprecated and will be removed from pandas in a future version. Use pandas.concat instead.\n",
      "  redFlagRecord = redFlagRecord.append(veh, ignore_index=True)\n",
      "C:\\Users\\Administrator\\AppData\\Local\\Temp\\ipykernel_16000\\2984826684.py:101: FutureWarning: The frame.append method is deprecated and will be removed from pandas in a future version. Use pandas.concat instead.\n",
      "  redFlagRecord = redFlagRecord.append(veh, ignore_index=True)\n",
      "C:\\Users\\Administrator\\AppData\\Local\\Temp\\ipykernel_16000\\2984826684.py:101: FutureWarning: The frame.append method is deprecated and will be removed from pandas in a future version. Use pandas.concat instead.\n",
      "  redFlagRecord = redFlagRecord.append(veh, ignore_index=True)\n",
      "C:\\Users\\Administrator\\AppData\\Local\\Temp\\ipykernel_16000\\2984826684.py:101: FutureWarning: The frame.append method is deprecated and will be removed from pandas in a future version. Use pandas.concat instead.\n",
      "  redFlagRecord = redFlagRecord.append(veh, ignore_index=True)\n",
      "C:\\Users\\Administrator\\AppData\\Local\\Temp\\ipykernel_16000\\2984826684.py:101: FutureWarning: The frame.append method is deprecated and will be removed from pandas in a future version. Use pandas.concat instead.\n",
      "  redFlagRecord = redFlagRecord.append(veh, ignore_index=True)\n",
      "C:\\Users\\Administrator\\AppData\\Local\\Temp\\ipykernel_16000\\2984826684.py:101: FutureWarning: The frame.append method is deprecated and will be removed from pandas in a future version. Use pandas.concat instead.\n",
      "  redFlagRecord = redFlagRecord.append(veh, ignore_index=True)\n"
     ]
    },
    {
     "name": "stdout",
     "output_type": "stream",
     "text": [
      "LaneID:28925528_0;Time:5122.0;\n",
      "LaneID:28925528_0;Time:5123.0;\n",
      "LaneID:28925528_0;Time:5124.0;\n",
      "LaneID:28925528_0;Time:5125.0;\n",
      "LaneID:28925528_0;Time:5126.0;\n",
      "LaneID:28925528_0;Time:5127.0;\n",
      "LaneID:28925528_0;Time:5128.0;\n"
     ]
    },
    {
     "name": "stderr",
     "output_type": "stream",
     "text": [
      "C:\\Users\\Administrator\\AppData\\Local\\Temp\\ipykernel_16000\\2984826684.py:101: FutureWarning: The frame.append method is deprecated and will be removed from pandas in a future version. Use pandas.concat instead.\n",
      "  redFlagRecord = redFlagRecord.append(veh, ignore_index=True)\n",
      "C:\\Users\\Administrator\\AppData\\Local\\Temp\\ipykernel_16000\\2984826684.py:101: FutureWarning: The frame.append method is deprecated and will be removed from pandas in a future version. Use pandas.concat instead.\n",
      "  redFlagRecord = redFlagRecord.append(veh, ignore_index=True)\n",
      "C:\\Users\\Administrator\\AppData\\Local\\Temp\\ipykernel_16000\\2984826684.py:101: FutureWarning: The frame.append method is deprecated and will be removed from pandas in a future version. Use pandas.concat instead.\n",
      "  redFlagRecord = redFlagRecord.append(veh, ignore_index=True)\n",
      "C:\\Users\\Administrator\\AppData\\Local\\Temp\\ipykernel_16000\\2984826684.py:101: FutureWarning: The frame.append method is deprecated and will be removed from pandas in a future version. Use pandas.concat instead.\n",
      "  redFlagRecord = redFlagRecord.append(veh, ignore_index=True)\n",
      "C:\\Users\\Administrator\\AppData\\Local\\Temp\\ipykernel_16000\\2984826684.py:101: FutureWarning: The frame.append method is deprecated and will be removed from pandas in a future version. Use pandas.concat instead.\n",
      "  redFlagRecord = redFlagRecord.append(veh, ignore_index=True)\n",
      "C:\\Users\\Administrator\\AppData\\Local\\Temp\\ipykernel_16000\\2984826684.py:101: FutureWarning: The frame.append method is deprecated and will be removed from pandas in a future version. Use pandas.concat instead.\n",
      "  redFlagRecord = redFlagRecord.append(veh, ignore_index=True)\n",
      "C:\\Users\\Administrator\\AppData\\Local\\Temp\\ipykernel_16000\\2984826684.py:101: FutureWarning: The frame.append method is deprecated and will be removed from pandas in a future version. Use pandas.concat instead.\n",
      "  redFlagRecord = redFlagRecord.append(veh, ignore_index=True)\n"
     ]
    },
    {
     "name": "stdout",
     "output_type": "stream",
     "text": [
      "LaneID:28925528_0;Time:5129.0;\n",
      "LaneID:28925528_0;Time:5130.0;\n",
      "LaneID:28925528_0;Time:5131.0;\n",
      "LaneID:28925528_0;Time:5132.0;\n",
      "LaneID:28925528_0;Time:5133.0;\n",
      "LaneID:28925528_0;Time:5134.0;\n",
      "LaneID:28925528_0;Time:5135.0;\n",
      "LaneID:28925528_0;Time:5136.0;\n",
      "LaneID:28925528_0;Time:5154.0;\n",
      "LaneID:28925528_0;Time:5155.0;\n",
      "LaneID:28925528_0;Time:5156.0;\n",
      "LaneID:28925528_0;Time:5157.0;\n",
      "LaneID:28925528_0;Time:5158.0;\n",
      "LaneID:28925528_0;Time:5159.0;\n",
      "LaneID:28925528_0;Time:5160.0;\n",
      "LaneID:28925528_0;Time:5161.0;\n",
      "LaneID:28925528_0;Time:5162.0;\n",
      "LaneID:28925528_0;Time:5163.0;\n",
      "LaneID:28925528_0;Time:5178.0;\n",
      "LaneID:28925528_0;Time:5179.0;\n",
      "LaneID:28925528_0;Time:5180.0;\n",
      "LaneID:28925528_0;Time:5181.0;\n",
      "LaneID:28925528_0;Time:5182.0;\n",
      "LaneID:28925528_0;Time:5183.0;\n",
      "LaneID:28925528_0;Time:5184.0;\n",
      "LaneID:28925528_0;Time:5185.0;\n",
      "LaneID:28925528_0;Time:5186.0;\n",
      "LaneID:28925528_0;Time:5187.0;\n"
     ]
    },
    {
     "name": "stderr",
     "output_type": "stream",
     "text": [
      "C:\\Users\\Administrator\\AppData\\Local\\Temp\\ipykernel_16000\\2984826684.py:101: FutureWarning: The frame.append method is deprecated and will be removed from pandas in a future version. Use pandas.concat instead.\n",
      "  redFlagRecord = redFlagRecord.append(veh, ignore_index=True)\n",
      "C:\\Users\\Administrator\\AppData\\Local\\Temp\\ipykernel_16000\\2984826684.py:101: FutureWarning: The frame.append method is deprecated and will be removed from pandas in a future version. Use pandas.concat instead.\n",
      "  redFlagRecord = redFlagRecord.append(veh, ignore_index=True)\n",
      "C:\\Users\\Administrator\\AppData\\Local\\Temp\\ipykernel_16000\\2984826684.py:101: FutureWarning: The frame.append method is deprecated and will be removed from pandas in a future version. Use pandas.concat instead.\n",
      "  redFlagRecord = redFlagRecord.append(veh, ignore_index=True)\n",
      "C:\\Users\\Administrator\\AppData\\Local\\Temp\\ipykernel_16000\\2984826684.py:101: FutureWarning: The frame.append method is deprecated and will be removed from pandas in a future version. Use pandas.concat instead.\n",
      "  redFlagRecord = redFlagRecord.append(veh, ignore_index=True)\n",
      "C:\\Users\\Administrator\\AppData\\Local\\Temp\\ipykernel_16000\\2984826684.py:101: FutureWarning: The frame.append method is deprecated and will be removed from pandas in a future version. Use pandas.concat instead.\n",
      "  redFlagRecord = redFlagRecord.append(veh, ignore_index=True)\n"
     ]
    },
    {
     "name": "stdout",
     "output_type": "stream",
     "text": [
      "LaneID:28925528_0;Time:5188.0;\n",
      "LaneID:28925528_0;Time:5189.0;\n",
      "LaneID:28925528_0;Time:5190.0;\n",
      "LaneID:28925528_0;Time:5191.0;\n",
      "LaneID:28925528_0;Time:5192.0;\n",
      "LaneID:28925528_0;Time:5193.0;\n",
      "LaneID:28925528_0;Time:5194.0;\n"
     ]
    },
    {
     "name": "stderr",
     "output_type": "stream",
     "text": [
      "C:\\Users\\Administrator\\AppData\\Local\\Temp\\ipykernel_16000\\2984826684.py:101: FutureWarning: The frame.append method is deprecated and will be removed from pandas in a future version. Use pandas.concat instead.\n",
      "  redFlagRecord = redFlagRecord.append(veh, ignore_index=True)\n",
      "C:\\Users\\Administrator\\AppData\\Local\\Temp\\ipykernel_16000\\2984826684.py:101: FutureWarning: The frame.append method is deprecated and will be removed from pandas in a future version. Use pandas.concat instead.\n",
      "  redFlagRecord = redFlagRecord.append(veh, ignore_index=True)\n",
      "C:\\Users\\Administrator\\AppData\\Local\\Temp\\ipykernel_16000\\2984826684.py:101: FutureWarning: The frame.append method is deprecated and will be removed from pandas in a future version. Use pandas.concat instead.\n",
      "  redFlagRecord = redFlagRecord.append(veh, ignore_index=True)\n",
      "C:\\Users\\Administrator\\AppData\\Local\\Temp\\ipykernel_16000\\2984826684.py:101: FutureWarning: The frame.append method is deprecated and will be removed from pandas in a future version. Use pandas.concat instead.\n",
      "  redFlagRecord = redFlagRecord.append(veh, ignore_index=True)\n",
      "C:\\Users\\Administrator\\AppData\\Local\\Temp\\ipykernel_16000\\2984826684.py:101: FutureWarning: The frame.append method is deprecated and will be removed from pandas in a future version. Use pandas.concat instead.\n",
      "  redFlagRecord = redFlagRecord.append(veh, ignore_index=True)\n",
      "C:\\Users\\Administrator\\AppData\\Local\\Temp\\ipykernel_16000\\2984826684.py:101: FutureWarning: The frame.append method is deprecated and will be removed from pandas in a future version. Use pandas.concat instead.\n",
      "  redFlagRecord = redFlagRecord.append(veh, ignore_index=True)\n"
     ]
    },
    {
     "name": "stdout",
     "output_type": "stream",
     "text": [
      "LaneID:28925528_0;Time:5203.0;\n",
      "LaneID:28925528_0;Time:5204.0;\n",
      "LaneID:28925528_0;Time:5205.0;\n",
      "LaneID:28925528_0;Time:5206.0;\n",
      "LaneID:28925528_0;Time:5207.0;\n",
      "LaneID:28925528_0;Time:5208.0;\n",
      "LaneID:28925528_0;Time:5209.0;\n",
      "LaneID:28925528_0;Time:5210.0;\n",
      "LaneID:28925528_0;Time:5211.0;\n",
      "LaneID:28925528_0;Time:5212.0;\n",
      "LaneID:28925528_0;Time:5213.0;\n",
      "LaneID:28925528_0;Time:5214.0;\n",
      "LaneID:28925528_0;Time:5215.0;\n",
      "LaneID:28925528_0;Time:5216.0;\n",
      "LaneID:28925528_0;Time:5217.0;\n",
      "LaneID:28925528_0;Time:5218.0;\n"
     ]
    },
    {
     "name": "stderr",
     "output_type": "stream",
     "text": [
      "C:\\Users\\Administrator\\AppData\\Local\\Temp\\ipykernel_16000\\2984826684.py:101: FutureWarning: The frame.append method is deprecated and will be removed from pandas in a future version. Use pandas.concat instead.\n",
      "  redFlagRecord = redFlagRecord.append(veh, ignore_index=True)\n",
      "C:\\Users\\Administrator\\AppData\\Local\\Temp\\ipykernel_16000\\2984826684.py:101: FutureWarning: The frame.append method is deprecated and will be removed from pandas in a future version. Use pandas.concat instead.\n",
      "  redFlagRecord = redFlagRecord.append(veh, ignore_index=True)\n",
      "C:\\Users\\Administrator\\AppData\\Local\\Temp\\ipykernel_16000\\2984826684.py:101: FutureWarning: The frame.append method is deprecated and will be removed from pandas in a future version. Use pandas.concat instead.\n",
      "  redFlagRecord = redFlagRecord.append(veh, ignore_index=True)\n",
      "C:\\Users\\Administrator\\AppData\\Local\\Temp\\ipykernel_16000\\2984826684.py:101: FutureWarning: The frame.append method is deprecated and will be removed from pandas in a future version. Use pandas.concat instead.\n",
      "  redFlagRecord = redFlagRecord.append(veh, ignore_index=True)\n",
      "C:\\Users\\Administrator\\AppData\\Local\\Temp\\ipykernel_16000\\2984826684.py:101: FutureWarning: The frame.append method is deprecated and will be removed from pandas in a future version. Use pandas.concat instead.\n",
      "  redFlagRecord = redFlagRecord.append(veh, ignore_index=True)\n",
      "C:\\Users\\Administrator\\AppData\\Local\\Temp\\ipykernel_16000\\2984826684.py:101: FutureWarning: The frame.append method is deprecated and will be removed from pandas in a future version. Use pandas.concat instead.\n",
      "  redFlagRecord = redFlagRecord.append(veh, ignore_index=True)\n",
      "C:\\Users\\Administrator\\AppData\\Local\\Temp\\ipykernel_16000\\2984826684.py:101: FutureWarning: The frame.append method is deprecated and will be removed from pandas in a future version. Use pandas.concat instead.\n",
      "  redFlagRecord = redFlagRecord.append(veh, ignore_index=True)\n"
     ]
    },
    {
     "name": "stdout",
     "output_type": "stream",
     "text": [
      "LaneID:28925528_0;Time:5219.0;\n",
      "LaneID:28925528_0;Time:5220.0;\n",
      "LaneID:28925528_0;Time:5221.0;\n",
      "LaneID:28925528_0;Time:5222.0;\n",
      "LaneID:28925528_0;Time:5223.0;\n",
      "LaneID:28925528_0;Time:5224.0;\n",
      "LaneID:28925528_0;Time:5225.0;\n",
      "LaneID:28925528_0;Time:5227.0;\n"
     ]
    },
    {
     "name": "stderr",
     "output_type": "stream",
     "text": [
      "C:\\Users\\Administrator\\AppData\\Local\\Temp\\ipykernel_16000\\2984826684.py:101: FutureWarning: The frame.append method is deprecated and will be removed from pandas in a future version. Use pandas.concat instead.\n",
      "  redFlagRecord = redFlagRecord.append(veh, ignore_index=True)\n",
      "C:\\Users\\Administrator\\AppData\\Local\\Temp\\ipykernel_16000\\2984826684.py:101: FutureWarning: The frame.append method is deprecated and will be removed from pandas in a future version. Use pandas.concat instead.\n",
      "  redFlagRecord = redFlagRecord.append(veh, ignore_index=True)\n",
      "C:\\Users\\Administrator\\AppData\\Local\\Temp\\ipykernel_16000\\2984826684.py:101: FutureWarning: The frame.append method is deprecated and will be removed from pandas in a future version. Use pandas.concat instead.\n",
      "  redFlagRecord = redFlagRecord.append(veh, ignore_index=True)\n",
      "C:\\Users\\Administrator\\AppData\\Local\\Temp\\ipykernel_16000\\2984826684.py:101: FutureWarning: The frame.append method is deprecated and will be removed from pandas in a future version. Use pandas.concat instead.\n",
      "  redFlagRecord = redFlagRecord.append(veh, ignore_index=True)\n",
      "C:\\Users\\Administrator\\AppData\\Local\\Temp\\ipykernel_16000\\2984826684.py:101: FutureWarning: The frame.append method is deprecated and will be removed from pandas in a future version. Use pandas.concat instead.\n",
      "  redFlagRecord = redFlagRecord.append(veh, ignore_index=True)\n",
      "C:\\Users\\Administrator\\AppData\\Local\\Temp\\ipykernel_16000\\2984826684.py:101: FutureWarning: The frame.append method is deprecated and will be removed from pandas in a future version. Use pandas.concat instead.\n",
      "  redFlagRecord = redFlagRecord.append(veh, ignore_index=True)\n",
      "C:\\Users\\Administrator\\AppData\\Local\\Temp\\ipykernel_16000\\2984826684.py:101: FutureWarning: The frame.append method is deprecated and will be removed from pandas in a future version. Use pandas.concat instead.\n",
      "  redFlagRecord = redFlagRecord.append(veh, ignore_index=True)\n"
     ]
    },
    {
     "name": "stdout",
     "output_type": "stream",
     "text": [
      "LaneID:28925528_0;Time:5228.0;\n",
      "LaneID:28925528_0;Time:5229.0;\n",
      "LaneID:28925528_0;Time:5230.0;\n",
      "LaneID:28925528_0;Time:5231.0;\n",
      "LaneID:28925528_0;Time:5232.0;\n",
      "LaneID:28925528_0;Time:5233.0;\n",
      "LaneID:28925528_0;Time:5234.0;\n",
      "LaneID:28925528_0;Time:5235.0;\n",
      "LaneID:28925528_0;Time:5236.0;\n",
      "LaneID:28925528_0;Time:5237.0;\n",
      "LaneID:28925528_0;Time:5238.0;\n",
      "LaneID:28925528_0;Time:5239.0;\n",
      "LaneID:28925528_0;Time:5246.0;\n",
      "LaneID:28925528_0;Time:5247.0;\n"
     ]
    },
    {
     "name": "stderr",
     "output_type": "stream",
     "text": [
      "C:\\Users\\Administrator\\AppData\\Local\\Temp\\ipykernel_16000\\2984826684.py:101: FutureWarning: The frame.append method is deprecated and will be removed from pandas in a future version. Use pandas.concat instead.\n",
      "  redFlagRecord = redFlagRecord.append(veh, ignore_index=True)\n",
      "C:\\Users\\Administrator\\AppData\\Local\\Temp\\ipykernel_16000\\2984826684.py:101: FutureWarning: The frame.append method is deprecated and will be removed from pandas in a future version. Use pandas.concat instead.\n",
      "  redFlagRecord = redFlagRecord.append(veh, ignore_index=True)\n",
      "C:\\Users\\Administrator\\AppData\\Local\\Temp\\ipykernel_16000\\2984826684.py:101: FutureWarning: The frame.append method is deprecated and will be removed from pandas in a future version. Use pandas.concat instead.\n",
      "  redFlagRecord = redFlagRecord.append(veh, ignore_index=True)\n",
      "C:\\Users\\Administrator\\AppData\\Local\\Temp\\ipykernel_16000\\2984826684.py:101: FutureWarning: The frame.append method is deprecated and will be removed from pandas in a future version. Use pandas.concat instead.\n",
      "  redFlagRecord = redFlagRecord.append(veh, ignore_index=True)\n",
      "C:\\Users\\Administrator\\AppData\\Local\\Temp\\ipykernel_16000\\2984826684.py:101: FutureWarning: The frame.append method is deprecated and will be removed from pandas in a future version. Use pandas.concat instead.\n",
      "  redFlagRecord = redFlagRecord.append(veh, ignore_index=True)\n",
      "C:\\Users\\Administrator\\AppData\\Local\\Temp\\ipykernel_16000\\2984826684.py:101: FutureWarning: The frame.append method is deprecated and will be removed from pandas in a future version. Use pandas.concat instead.\n",
      "  redFlagRecord = redFlagRecord.append(veh, ignore_index=True)\n",
      "C:\\Users\\Administrator\\AppData\\Local\\Temp\\ipykernel_16000\\2984826684.py:101: FutureWarning: The frame.append method is deprecated and will be removed from pandas in a future version. Use pandas.concat instead.\n",
      "  redFlagRecord = redFlagRecord.append(veh, ignore_index=True)\n"
     ]
    },
    {
     "name": "stdout",
     "output_type": "stream",
     "text": [
      "LaneID:28925528_0;Time:5248.0;\n",
      "LaneID:28925528_0;Time:5249.0;\n",
      "LaneID:28925528_0;Time:5250.0;\n",
      "LaneID:28925528_0;Time:5251.0;\n",
      "LaneID:28925528_0;Time:5252.0;\n",
      "LaneID:28925528_0;Time:5253.0;\n"
     ]
    },
    {
     "name": "stderr",
     "output_type": "stream",
     "text": [
      "C:\\Users\\Administrator\\AppData\\Local\\Temp\\ipykernel_16000\\2984826684.py:101: FutureWarning: The frame.append method is deprecated and will be removed from pandas in a future version. Use pandas.concat instead.\n",
      "  redFlagRecord = redFlagRecord.append(veh, ignore_index=True)\n",
      "C:\\Users\\Administrator\\AppData\\Local\\Temp\\ipykernel_16000\\2984826684.py:101: FutureWarning: The frame.append method is deprecated and will be removed from pandas in a future version. Use pandas.concat instead.\n",
      "  redFlagRecord = redFlagRecord.append(veh, ignore_index=True)\n",
      "C:\\Users\\Administrator\\AppData\\Local\\Temp\\ipykernel_16000\\2984826684.py:101: FutureWarning: The frame.append method is deprecated and will be removed from pandas in a future version. Use pandas.concat instead.\n",
      "  redFlagRecord = redFlagRecord.append(veh, ignore_index=True)\n",
      "C:\\Users\\Administrator\\AppData\\Local\\Temp\\ipykernel_16000\\2984826684.py:101: FutureWarning: The frame.append method is deprecated and will be removed from pandas in a future version. Use pandas.concat instead.\n",
      "  redFlagRecord = redFlagRecord.append(veh, ignore_index=True)\n",
      "C:\\Users\\Administrator\\AppData\\Local\\Temp\\ipykernel_16000\\2984826684.py:101: FutureWarning: The frame.append method is deprecated and will be removed from pandas in a future version. Use pandas.concat instead.\n",
      "  redFlagRecord = redFlagRecord.append(veh, ignore_index=True)\n",
      "C:\\Users\\Administrator\\AppData\\Local\\Temp\\ipykernel_16000\\2984826684.py:101: FutureWarning: The frame.append method is deprecated and will be removed from pandas in a future version. Use pandas.concat instead.\n",
      "  redFlagRecord = redFlagRecord.append(veh, ignore_index=True)\n"
     ]
    },
    {
     "name": "stdout",
     "output_type": "stream",
     "text": [
      "LaneID:28925528_0;Time:5254.0;\n",
      "LaneID:28925528_0;Time:5255.0;\n",
      "LaneID:28925528_0;Time:5256.0;\n",
      "LaneID:28925528_0;Time:5275.0;\n",
      "LaneID:28925528_0;Time:5276.0;\n",
      "LaneID:28925528_0;Time:5277.0;\n",
      "LaneID:28925528_0;Time:5278.0;\n",
      "LaneID:28925528_0;Time:5279.0;\n",
      "LaneID:28925528_0;Time:5280.0;\n",
      "LaneID:28925528_0;Time:5281.0;\n",
      "LaneID:28925528_0;Time:5282.0;\n",
      "LaneID:28925528_0;Time:5283.0;\n",
      "LaneID:28925528_0;Time:5284.0;\n",
      "LaneID:28925528_0;Time:5285.0;\n",
      "LaneID:28925528_0;Time:5286.0;\n",
      "LaneID:28925528_0;Time:5287.0;\n"
     ]
    },
    {
     "name": "stderr",
     "output_type": "stream",
     "text": [
      "C:\\Users\\Administrator\\AppData\\Local\\Temp\\ipykernel_16000\\2984826684.py:101: FutureWarning: The frame.append method is deprecated and will be removed from pandas in a future version. Use pandas.concat instead.\n",
      "  redFlagRecord = redFlagRecord.append(veh, ignore_index=True)\n",
      "C:\\Users\\Administrator\\AppData\\Local\\Temp\\ipykernel_16000\\2984826684.py:101: FutureWarning: The frame.append method is deprecated and will be removed from pandas in a future version. Use pandas.concat instead.\n",
      "  redFlagRecord = redFlagRecord.append(veh, ignore_index=True)\n",
      "C:\\Users\\Administrator\\AppData\\Local\\Temp\\ipykernel_16000\\2984826684.py:101: FutureWarning: The frame.append method is deprecated and will be removed from pandas in a future version. Use pandas.concat instead.\n",
      "  redFlagRecord = redFlagRecord.append(veh, ignore_index=True)\n",
      "C:\\Users\\Administrator\\AppData\\Local\\Temp\\ipykernel_16000\\2984826684.py:101: FutureWarning: The frame.append method is deprecated and will be removed from pandas in a future version. Use pandas.concat instead.\n",
      "  redFlagRecord = redFlagRecord.append(veh, ignore_index=True)\n",
      "C:\\Users\\Administrator\\AppData\\Local\\Temp\\ipykernel_16000\\2984826684.py:101: FutureWarning: The frame.append method is deprecated and will be removed from pandas in a future version. Use pandas.concat instead.\n",
      "  redFlagRecord = redFlagRecord.append(veh, ignore_index=True)\n",
      "C:\\Users\\Administrator\\AppData\\Local\\Temp\\ipykernel_16000\\2984826684.py:101: FutureWarning: The frame.append method is deprecated and will be removed from pandas in a future version. Use pandas.concat instead.\n",
      "  redFlagRecord = redFlagRecord.append(veh, ignore_index=True)\n",
      "C:\\Users\\Administrator\\AppData\\Local\\Temp\\ipykernel_16000\\2984826684.py:101: FutureWarning: The frame.append method is deprecated and will be removed from pandas in a future version. Use pandas.concat instead.\n",
      "  redFlagRecord = redFlagRecord.append(veh, ignore_index=True)\n",
      "C:\\Users\\Administrator\\AppData\\Local\\Temp\\ipykernel_16000\\2984826684.py:101: FutureWarning: The frame.append method is deprecated and will be removed from pandas in a future version. Use pandas.concat instead.\n",
      "  redFlagRecord = redFlagRecord.append(veh, ignore_index=True)\n",
      "C:\\Users\\Administrator\\AppData\\Local\\Temp\\ipykernel_16000\\2984826684.py:101: FutureWarning: The frame.append method is deprecated and will be removed from pandas in a future version. Use pandas.concat instead.\n",
      "  redFlagRecord = redFlagRecord.append(veh, ignore_index=True)\n",
      "C:\\Users\\Administrator\\AppData\\Local\\Temp\\ipykernel_16000\\2984826684.py:101: FutureWarning: The frame.append method is deprecated and will be removed from pandas in a future version. Use pandas.concat instead.\n",
      "  redFlagRecord = redFlagRecord.append(veh, ignore_index=True)\n",
      "C:\\Users\\Administrator\\AppData\\Local\\Temp\\ipykernel_16000\\2984826684.py:101: FutureWarning: The frame.append method is deprecated and will be removed from pandas in a future version. Use pandas.concat instead.\n",
      "  redFlagRecord = redFlagRecord.append(veh, ignore_index=True)\n"
     ]
    },
    {
     "name": "stdout",
     "output_type": "stream",
     "text": [
      "LaneID:28925528_0;Time:5300.0;\n",
      "LaneID:28925528_0;Time:5301.0;\n",
      "LaneID:28925528_0;Time:5302.0;\n",
      "LaneID:28925528_0;Time:5303.0;\n",
      "LaneID:28925528_0;Time:5304.0;\n",
      "LaneID:28925528_0;Time:5305.0;\n",
      "LaneID:28925528_0;Time:5306.0;\n",
      "LaneID:28925528_0;Time:5307.0;\n",
      "LaneID:28925528_0;Time:5308.0;\n",
      "LaneID:28925528_0;Time:5309.0;\n",
      "LaneID:28925528_0;Time:5310.0;\n",
      "LaneID:28925528_0;Time:5311.0;\n",
      "LaneID:28925528_0;Time:5312.0;\n",
      "LaneID:28925528_0;Time:5313.0;\n",
      "LaneID:28925528_0;Time:5314.0;\n",
      "LaneID:28925528_0;Time:5315.0;\n",
      "LaneID:28925528_0;Time:5316.0;\n"
     ]
    },
    {
     "name": "stderr",
     "output_type": "stream",
     "text": [
      "C:\\Users\\Administrator\\AppData\\Local\\Temp\\ipykernel_16000\\2984826684.py:101: FutureWarning: The frame.append method is deprecated and will be removed from pandas in a future version. Use pandas.concat instead.\n",
      "  redFlagRecord = redFlagRecord.append(veh, ignore_index=True)\n",
      "C:\\Users\\Administrator\\AppData\\Local\\Temp\\ipykernel_16000\\2984826684.py:101: FutureWarning: The frame.append method is deprecated and will be removed from pandas in a future version. Use pandas.concat instead.\n",
      "  redFlagRecord = redFlagRecord.append(veh, ignore_index=True)\n",
      "C:\\Users\\Administrator\\AppData\\Local\\Temp\\ipykernel_16000\\2984826684.py:101: FutureWarning: The frame.append method is deprecated and will be removed from pandas in a future version. Use pandas.concat instead.\n",
      "  redFlagRecord = redFlagRecord.append(veh, ignore_index=True)\n",
      "C:\\Users\\Administrator\\AppData\\Local\\Temp\\ipykernel_16000\\2984826684.py:101: FutureWarning: The frame.append method is deprecated and will be removed from pandas in a future version. Use pandas.concat instead.\n",
      "  redFlagRecord = redFlagRecord.append(veh, ignore_index=True)\n",
      "C:\\Users\\Administrator\\AppData\\Local\\Temp\\ipykernel_16000\\2984826684.py:101: FutureWarning: The frame.append method is deprecated and will be removed from pandas in a future version. Use pandas.concat instead.\n",
      "  redFlagRecord = redFlagRecord.append(veh, ignore_index=True)\n",
      "C:\\Users\\Administrator\\AppData\\Local\\Temp\\ipykernel_16000\\2984826684.py:101: FutureWarning: The frame.append method is deprecated and will be removed from pandas in a future version. Use pandas.concat instead.\n",
      "  redFlagRecord = redFlagRecord.append(veh, ignore_index=True)\n",
      "C:\\Users\\Administrator\\AppData\\Local\\Temp\\ipykernel_16000\\2984826684.py:101: FutureWarning: The frame.append method is deprecated and will be removed from pandas in a future version. Use pandas.concat instead.\n",
      "  redFlagRecord = redFlagRecord.append(veh, ignore_index=True)\n"
     ]
    },
    {
     "name": "stdout",
     "output_type": "stream",
     "text": [
      "LaneID:28925528_0;Time:5317.0;\n",
      "LaneID:28925528_0;Time:5318.0;\n",
      "LaneID:28925528_0;Time:5324.0;\n",
      "LaneID:28925528_0;Time:5325.0;\n",
      "LaneID:28925528_0;Time:5326.0;\n",
      "LaneID:28925528_0;Time:5327.0;\n",
      "LaneID:28925528_0;Time:5328.0;\n",
      "LaneID:28925528_0;Time:5329.0;\n",
      "LaneID:28925528_0;Time:5330.0;\n",
      "LaneID:28925528_0;Time:5331.0;\n",
      "LaneID:28925528_0;Time:5332.0;\n",
      "LaneID:28925528_0;Time:5333.0;\n",
      "LaneID:28925528_0;Time:5334.0;\n",
      "LaneID:28925528_0;Time:5335.0;\n",
      "LaneID:28925528_0;Time:5336.0;\n",
      "LaneID:28925528_0;Time:5337.0;\n"
     ]
    },
    {
     "name": "stderr",
     "output_type": "stream",
     "text": [
      "C:\\Users\\Administrator\\AppData\\Local\\Temp\\ipykernel_16000\\2984826684.py:101: FutureWarning: The frame.append method is deprecated and will be removed from pandas in a future version. Use pandas.concat instead.\n",
      "  redFlagRecord = redFlagRecord.append(veh, ignore_index=True)\n",
      "C:\\Users\\Administrator\\AppData\\Local\\Temp\\ipykernel_16000\\2984826684.py:101: FutureWarning: The frame.append method is deprecated and will be removed from pandas in a future version. Use pandas.concat instead.\n",
      "  redFlagRecord = redFlagRecord.append(veh, ignore_index=True)\n",
      "C:\\Users\\Administrator\\AppData\\Local\\Temp\\ipykernel_16000\\2984826684.py:101: FutureWarning: The frame.append method is deprecated and will be removed from pandas in a future version. Use pandas.concat instead.\n",
      "  redFlagRecord = redFlagRecord.append(veh, ignore_index=True)\n",
      "C:\\Users\\Administrator\\AppData\\Local\\Temp\\ipykernel_16000\\2984826684.py:101: FutureWarning: The frame.append method is deprecated and will be removed from pandas in a future version. Use pandas.concat instead.\n",
      "  redFlagRecord = redFlagRecord.append(veh, ignore_index=True)\n",
      "C:\\Users\\Administrator\\AppData\\Local\\Temp\\ipykernel_16000\\2984826684.py:101: FutureWarning: The frame.append method is deprecated and will be removed from pandas in a future version. Use pandas.concat instead.\n",
      "  redFlagRecord = redFlagRecord.append(veh, ignore_index=True)\n",
      "C:\\Users\\Administrator\\AppData\\Local\\Temp\\ipykernel_16000\\2984826684.py:101: FutureWarning: The frame.append method is deprecated and will be removed from pandas in a future version. Use pandas.concat instead.\n",
      "  redFlagRecord = redFlagRecord.append(veh, ignore_index=True)\n",
      "C:\\Users\\Administrator\\AppData\\Local\\Temp\\ipykernel_16000\\2984826684.py:101: FutureWarning: The frame.append method is deprecated and will be removed from pandas in a future version. Use pandas.concat instead.\n",
      "  redFlagRecord = redFlagRecord.append(veh, ignore_index=True)\n"
     ]
    },
    {
     "name": "stdout",
     "output_type": "stream",
     "text": [
      "LaneID:28925528_0;Time:5338.0;\n",
      "LaneID:28925528_0;Time:5339.0;\n",
      "LaneID:28925528_0;Time:5340.0;\n",
      "LaneID:28925528_0;Time:5341.0;\n",
      "LaneID:28925528_0;Time:5342.0;\n",
      "LaneID:28925528_0;Time:5343.0;\n",
      "LaneID:28925528_0;Time:5344.0;\n"
     ]
    },
    {
     "name": "stderr",
     "output_type": "stream",
     "text": [
      "C:\\Users\\Administrator\\AppData\\Local\\Temp\\ipykernel_16000\\2984826684.py:101: FutureWarning: The frame.append method is deprecated and will be removed from pandas in a future version. Use pandas.concat instead.\n",
      "  redFlagRecord = redFlagRecord.append(veh, ignore_index=True)\n",
      "C:\\Users\\Administrator\\AppData\\Local\\Temp\\ipykernel_16000\\2984826684.py:101: FutureWarning: The frame.append method is deprecated and will be removed from pandas in a future version. Use pandas.concat instead.\n",
      "  redFlagRecord = redFlagRecord.append(veh, ignore_index=True)\n",
      "C:\\Users\\Administrator\\AppData\\Local\\Temp\\ipykernel_16000\\2984826684.py:101: FutureWarning: The frame.append method is deprecated and will be removed from pandas in a future version. Use pandas.concat instead.\n",
      "  redFlagRecord = redFlagRecord.append(veh, ignore_index=True)\n",
      "C:\\Users\\Administrator\\AppData\\Local\\Temp\\ipykernel_16000\\2984826684.py:101: FutureWarning: The frame.append method is deprecated and will be removed from pandas in a future version. Use pandas.concat instead.\n",
      "  redFlagRecord = redFlagRecord.append(veh, ignore_index=True)\n",
      "C:\\Users\\Administrator\\AppData\\Local\\Temp\\ipykernel_16000\\2984826684.py:101: FutureWarning: The frame.append method is deprecated and will be removed from pandas in a future version. Use pandas.concat instead.\n",
      "  redFlagRecord = redFlagRecord.append(veh, ignore_index=True)\n",
      "C:\\Users\\Administrator\\AppData\\Local\\Temp\\ipykernel_16000\\2984826684.py:101: FutureWarning: The frame.append method is deprecated and will be removed from pandas in a future version. Use pandas.concat instead.\n",
      "  redFlagRecord = redFlagRecord.append(veh, ignore_index=True)\n"
     ]
    },
    {
     "name": "stdout",
     "output_type": "stream",
     "text": [
      "LaneID:28925528_0;Time:5345.0;\n",
      "LaneID:28925528_0;Time:5346.0;\n",
      "LaneID:28925528_0;Time:5347.0;\n",
      "LaneID:28925528_0;Time:5348.0;\n",
      "LaneID:28925528_0;Time:5349.0;\n",
      "LaneID:28925528_0;Time:5350.0;\n",
      "LaneID:28925528_0;Time:5351.0;\n",
      "LaneID:28925528_0;Time:5352.0;\n",
      "LaneID:28925528_0;Time:5353.0;\n",
      "LaneID:28925528_0;Time:5354.0;\n",
      "LaneID:28925528_0;Time:5373.0;\n",
      "LaneID:28925528_0;Time:5374.0;\n",
      "LaneID:28925528_0;Time:5375.0;\n",
      "LaneID:28925528_0;Time:5376.0;\n",
      "LaneID:28925528_0;Time:5377.0;\n",
      "LaneID:28925528_0;Time:5378.0;\n",
      "LaneID:28925528_0;Time:5379.0;\n",
      "LaneID:28925528_0;Time:5380.0;\n",
      "LaneID:28925528_0;Time:5396.0;\n",
      "LaneID:28925528_0;Time:5397.0;\n",
      "LaneID:28925528_0;Time:5398.0;\n",
      "LaneID:28925528_0;Time:5399.0;\n",
      "LaneID:28925528_0;Time:5400.0;\n",
      "LaneID:28925528_0;Time:5401.0;\n",
      "LaneID:28925528_0;Time:5402.0;\n",
      "LaneID:28925528_0;Time:5403.0;\n",
      "LaneID:28925528_0;Time:5404.0;\n",
      "LaneID:28925528_0;Time:5405.0;\n",
      "LaneID:28925528_0;Time:5406.0;\n"
     ]
    },
    {
     "name": "stderr",
     "output_type": "stream",
     "text": [
      "C:\\Users\\Administrator\\AppData\\Local\\Temp\\ipykernel_16000\\2984826684.py:101: FutureWarning: The frame.append method is deprecated and will be removed from pandas in a future version. Use pandas.concat instead.\n",
      "  redFlagRecord = redFlagRecord.append(veh, ignore_index=True)\n",
      "C:\\Users\\Administrator\\AppData\\Local\\Temp\\ipykernel_16000\\2984826684.py:101: FutureWarning: The frame.append method is deprecated and will be removed from pandas in a future version. Use pandas.concat instead.\n",
      "  redFlagRecord = redFlagRecord.append(veh, ignore_index=True)\n",
      "C:\\Users\\Administrator\\AppData\\Local\\Temp\\ipykernel_16000\\2984826684.py:101: FutureWarning: The frame.append method is deprecated and will be removed from pandas in a future version. Use pandas.concat instead.\n",
      "  redFlagRecord = redFlagRecord.append(veh, ignore_index=True)\n",
      "C:\\Users\\Administrator\\AppData\\Local\\Temp\\ipykernel_16000\\2984826684.py:101: FutureWarning: The frame.append method is deprecated and will be removed from pandas in a future version. Use pandas.concat instead.\n",
      "  redFlagRecord = redFlagRecord.append(veh, ignore_index=True)\n",
      "C:\\Users\\Administrator\\AppData\\Local\\Temp\\ipykernel_16000\\2984826684.py:101: FutureWarning: The frame.append method is deprecated and will be removed from pandas in a future version. Use pandas.concat instead.\n",
      "  redFlagRecord = redFlagRecord.append(veh, ignore_index=True)\n",
      "C:\\Users\\Administrator\\AppData\\Local\\Temp\\ipykernel_16000\\2984826684.py:101: FutureWarning: The frame.append method is deprecated and will be removed from pandas in a future version. Use pandas.concat instead.\n",
      "  redFlagRecord = redFlagRecord.append(veh, ignore_index=True)\n"
     ]
    },
    {
     "name": "stdout",
     "output_type": "stream",
     "text": [
      "LaneID:28925528_0;Time:5407.0;\n",
      "LaneID:28925528_0;Time:5408.0;\n",
      "LaneID:28925528_0;Time:5409.0;\n",
      "LaneID:28925528_0;Time:5410.0;\n",
      "LaneID:28925528_0;Time:5411.0;\n",
      "LaneID:28925528_0;Time:5426.0;\n",
      "LaneID:28925528_0;Time:5427.0;\n",
      "LaneID:28925528_0;Time:5428.0;\n",
      "LaneID:28925528_0;Time:5429.0;\n",
      "LaneID:28925528_0;Time:5430.0;\n",
      "LaneID:28925528_0;Time:5431.0;\n",
      "LaneID:28925528_0;Time:5432.0;\n",
      "LaneID:28925528_0;Time:5433.0;\n",
      "LaneID:28925528_0;Time:5434.0;\n",
      "LaneID:28925528_0;Time:5435.0;\n",
      "LaneID:28925528_0;Time:5436.0;\n"
     ]
    },
    {
     "name": "stderr",
     "output_type": "stream",
     "text": [
      "C:\\Users\\Administrator\\AppData\\Local\\Temp\\ipykernel_16000\\2984826684.py:101: FutureWarning: The frame.append method is deprecated and will be removed from pandas in a future version. Use pandas.concat instead.\n",
      "  redFlagRecord = redFlagRecord.append(veh, ignore_index=True)\n",
      "C:\\Users\\Administrator\\AppData\\Local\\Temp\\ipykernel_16000\\2984826684.py:101: FutureWarning: The frame.append method is deprecated and will be removed from pandas in a future version. Use pandas.concat instead.\n",
      "  redFlagRecord = redFlagRecord.append(veh, ignore_index=True)\n",
      "C:\\Users\\Administrator\\AppData\\Local\\Temp\\ipykernel_16000\\2984826684.py:101: FutureWarning: The frame.append method is deprecated and will be removed from pandas in a future version. Use pandas.concat instead.\n",
      "  redFlagRecord = redFlagRecord.append(veh, ignore_index=True)\n",
      "C:\\Users\\Administrator\\AppData\\Local\\Temp\\ipykernel_16000\\2984826684.py:101: FutureWarning: The frame.append method is deprecated and will be removed from pandas in a future version. Use pandas.concat instead.\n",
      "  redFlagRecord = redFlagRecord.append(veh, ignore_index=True)\n",
      "C:\\Users\\Administrator\\AppData\\Local\\Temp\\ipykernel_16000\\2984826684.py:101: FutureWarning: The frame.append method is deprecated and will be removed from pandas in a future version. Use pandas.concat instead.\n",
      "  redFlagRecord = redFlagRecord.append(veh, ignore_index=True)\n",
      "C:\\Users\\Administrator\\AppData\\Local\\Temp\\ipykernel_16000\\2984826684.py:101: FutureWarning: The frame.append method is deprecated and will be removed from pandas in a future version. Use pandas.concat instead.\n",
      "  redFlagRecord = redFlagRecord.append(veh, ignore_index=True)\n",
      "C:\\Users\\Administrator\\AppData\\Local\\Temp\\ipykernel_16000\\2984826684.py:101: FutureWarning: The frame.append method is deprecated and will be removed from pandas in a future version. Use pandas.concat instead.\n",
      "  redFlagRecord = redFlagRecord.append(veh, ignore_index=True)\n"
     ]
    },
    {
     "name": "stdout",
     "output_type": "stream",
     "text": [
      "LaneID:28925528_0;Time:5437.0;\n",
      "LaneID:28925528_0;Time:5438.0;\n",
      "LaneID:28925528_0;Time:5439.0;\n",
      "LaneID:28925528_0;Time:5440.0;\n",
      "LaneID:28925528_0;Time:5441.0;\n",
      "LaneID:28925528_0;Time:5442.0;\n"
     ]
    },
    {
     "name": "stderr",
     "output_type": "stream",
     "text": [
      "C:\\Users\\Administrator\\AppData\\Local\\Temp\\ipykernel_16000\\2984826684.py:101: FutureWarning: The frame.append method is deprecated and will be removed from pandas in a future version. Use pandas.concat instead.\n",
      "  redFlagRecord = redFlagRecord.append(veh, ignore_index=True)\n",
      "C:\\Users\\Administrator\\AppData\\Local\\Temp\\ipykernel_16000\\2984826684.py:101: FutureWarning: The frame.append method is deprecated and will be removed from pandas in a future version. Use pandas.concat instead.\n",
      "  redFlagRecord = redFlagRecord.append(veh, ignore_index=True)\n",
      "C:\\Users\\Administrator\\AppData\\Local\\Temp\\ipykernel_16000\\2984826684.py:101: FutureWarning: The frame.append method is deprecated and will be removed from pandas in a future version. Use pandas.concat instead.\n",
      "  redFlagRecord = redFlagRecord.append(veh, ignore_index=True)\n",
      "C:\\Users\\Administrator\\AppData\\Local\\Temp\\ipykernel_16000\\2984826684.py:101: FutureWarning: The frame.append method is deprecated and will be removed from pandas in a future version. Use pandas.concat instead.\n",
      "  redFlagRecord = redFlagRecord.append(veh, ignore_index=True)\n",
      "C:\\Users\\Administrator\\AppData\\Local\\Temp\\ipykernel_16000\\2984826684.py:101: FutureWarning: The frame.append method is deprecated and will be removed from pandas in a future version. Use pandas.concat instead.\n",
      "  redFlagRecord = redFlagRecord.append(veh, ignore_index=True)\n",
      "C:\\Users\\Administrator\\AppData\\Local\\Temp\\ipykernel_16000\\2984826684.py:101: FutureWarning: The frame.append method is deprecated and will be removed from pandas in a future version. Use pandas.concat instead.\n",
      "  redFlagRecord = redFlagRecord.append(veh, ignore_index=True)\n",
      "C:\\Users\\Administrator\\AppData\\Local\\Temp\\ipykernel_16000\\2984826684.py:101: FutureWarning: The frame.append method is deprecated and will be removed from pandas in a future version. Use pandas.concat instead.\n",
      "  redFlagRecord = redFlagRecord.append(veh, ignore_index=True)\n"
     ]
    },
    {
     "name": "stdout",
     "output_type": "stream",
     "text": [
      "LaneID:28925528_0;Time:5447.0;\n",
      "LaneID:28925528_0;Time:5448.0;\n",
      "LaneID:28925528_0;Time:5449.0;\n",
      "LaneID:28925528_0;Time:5450.0;\n",
      "LaneID:28925528_0;Time:5451.0;\n",
      "LaneID:28925528_0;Time:5452.0;\n",
      "LaneID:28925528_0;Time:5453.0;\n",
      "LaneID:28925528_0;Time:5454.0;\n",
      "LaneID:28925528_0;Time:5455.0;\n",
      "LaneID:28925528_0;Time:5456.0;\n",
      "LaneID:28925528_0;Time:5457.0;\n",
      "LaneID:28925528_0;Time:5458.0;\n",
      "LaneID:28925528_0;Time:5459.0;\n",
      "LaneID:28925528_0;Time:5460.0;\n",
      "LaneID:28925528_0;Time:5461.0;\n",
      "LaneID:28925528_0;Time:5462.0;\n"
     ]
    },
    {
     "name": "stderr",
     "output_type": "stream",
     "text": [
      "C:\\Users\\Administrator\\AppData\\Local\\Temp\\ipykernel_16000\\2984826684.py:101: FutureWarning: The frame.append method is deprecated and will be removed from pandas in a future version. Use pandas.concat instead.\n",
      "  redFlagRecord = redFlagRecord.append(veh, ignore_index=True)\n",
      "C:\\Users\\Administrator\\AppData\\Local\\Temp\\ipykernel_16000\\2984826684.py:101: FutureWarning: The frame.append method is deprecated and will be removed from pandas in a future version. Use pandas.concat instead.\n",
      "  redFlagRecord = redFlagRecord.append(veh, ignore_index=True)\n",
      "C:\\Users\\Administrator\\AppData\\Local\\Temp\\ipykernel_16000\\2984826684.py:101: FutureWarning: The frame.append method is deprecated and will be removed from pandas in a future version. Use pandas.concat instead.\n",
      "  redFlagRecord = redFlagRecord.append(veh, ignore_index=True)\n",
      "C:\\Users\\Administrator\\AppData\\Local\\Temp\\ipykernel_16000\\2984826684.py:101: FutureWarning: The frame.append method is deprecated and will be removed from pandas in a future version. Use pandas.concat instead.\n",
      "  redFlagRecord = redFlagRecord.append(veh, ignore_index=True)\n",
      "C:\\Users\\Administrator\\AppData\\Local\\Temp\\ipykernel_16000\\2984826684.py:101: FutureWarning: The frame.append method is deprecated and will be removed from pandas in a future version. Use pandas.concat instead.\n",
      "  redFlagRecord = redFlagRecord.append(veh, ignore_index=True)\n",
      "C:\\Users\\Administrator\\AppData\\Local\\Temp\\ipykernel_16000\\2984826684.py:101: FutureWarning: The frame.append method is deprecated and will be removed from pandas in a future version. Use pandas.concat instead.\n",
      "  redFlagRecord = redFlagRecord.append(veh, ignore_index=True)\n",
      "C:\\Users\\Administrator\\AppData\\Local\\Temp\\ipykernel_16000\\2984826684.py:101: FutureWarning: The frame.append method is deprecated and will be removed from pandas in a future version. Use pandas.concat instead.\n",
      "  redFlagRecord = redFlagRecord.append(veh, ignore_index=True)\n"
     ]
    },
    {
     "name": "stdout",
     "output_type": "stream",
     "text": [
      "LaneID:28925528_0;Time:5463.0;\n",
      "LaneID:28925528_0;Time:5464.0;\n",
      "LaneID:28925528_0;Time:5465.0;\n",
      "LaneID:28925528_0;Time:5466.0;\n",
      "LaneID:28925528_0;Time:5467.0;\n",
      "LaneID:28925528_0;Time:5468.0;\n",
      "LaneID:28925528_0;Time:5469.0;\n"
     ]
    },
    {
     "name": "stderr",
     "output_type": "stream",
     "text": [
      "C:\\Users\\Administrator\\AppData\\Local\\Temp\\ipykernel_16000\\2984826684.py:101: FutureWarning: The frame.append method is deprecated and will be removed from pandas in a future version. Use pandas.concat instead.\n",
      "  redFlagRecord = redFlagRecord.append(veh, ignore_index=True)\n",
      "C:\\Users\\Administrator\\AppData\\Local\\Temp\\ipykernel_16000\\2984826684.py:101: FutureWarning: The frame.append method is deprecated and will be removed from pandas in a future version. Use pandas.concat instead.\n",
      "  redFlagRecord = redFlagRecord.append(veh, ignore_index=True)\n",
      "C:\\Users\\Administrator\\AppData\\Local\\Temp\\ipykernel_16000\\2984826684.py:101: FutureWarning: The frame.append method is deprecated and will be removed from pandas in a future version. Use pandas.concat instead.\n",
      "  redFlagRecord = redFlagRecord.append(veh, ignore_index=True)\n",
      "C:\\Users\\Administrator\\AppData\\Local\\Temp\\ipykernel_16000\\2984826684.py:101: FutureWarning: The frame.append method is deprecated and will be removed from pandas in a future version. Use pandas.concat instead.\n",
      "  redFlagRecord = redFlagRecord.append(veh, ignore_index=True)\n",
      "C:\\Users\\Administrator\\AppData\\Local\\Temp\\ipykernel_16000\\2984826684.py:101: FutureWarning: The frame.append method is deprecated and will be removed from pandas in a future version. Use pandas.concat instead.\n",
      "  redFlagRecord = redFlagRecord.append(veh, ignore_index=True)\n",
      "C:\\Users\\Administrator\\AppData\\Local\\Temp\\ipykernel_16000\\2984826684.py:101: FutureWarning: The frame.append method is deprecated and will be removed from pandas in a future version. Use pandas.concat instead.\n",
      "  redFlagRecord = redFlagRecord.append(veh, ignore_index=True)\n"
     ]
    },
    {
     "name": "stdout",
     "output_type": "stream",
     "text": [
      "LaneID:28925528_0;Time:5470.0;\n",
      "LaneID:28925528_0;Time:5471.0;\n",
      "LaneID:28925528_0;Time:5472.0;\n",
      "LaneID:28925528_0;Time:5473.0;\n",
      "LaneID:28925528_0;Time:5474.0;\n",
      "LaneID:28925528_0;Time:5475.0;\n",
      "LaneID:28925528_0;Time:5476.0;\n",
      "LaneID:28925528_0;Time:5477.0;\n",
      "LaneID:28925528_0;Time:5478.0;\n",
      "LaneID:28925528_0;Time:5496.0;\n",
      "LaneID:28925528_0;Time:5497.0;\n",
      "LaneID:28925528_0;Time:5498.0;\n",
      "LaneID:28925528_0;Time:5499.0;\n",
      "LaneID:28925528_0;Time:5500.0;\n",
      "LaneID:28925528_0;Time:5501.0;\n",
      "LaneID:28925528_0;Time:5502.0;\n",
      "LaneID:28925528_0;Time:5503.0;\n",
      "LaneID:28925528_0;Time:5504.0;\n",
      "LaneID:28925528_0;Time:5521.0;\n",
      "LaneID:28925528_0;Time:5522.0;\n",
      "LaneID:28925528_0;Time:5523.0;\n",
      "LaneID:28925528_0;Time:5524.0;\n",
      "LaneID:28925528_0;Time:5525.0;\n",
      "LaneID:28925528_0;Time:5526.0;\n",
      "LaneID:28925528_0;Time:5527.0;\n",
      "LaneID:28925528_0;Time:5528.0;\n",
      "LaneID:28925528_0;Time:5529.0;\n",
      "LaneID:28925528_0;Time:5530.0;\n",
      "LaneID:28925528_0;Time:5531.0;\n",
      "LaneID:28925528_0;Time:5532.0;\n"
     ]
    },
    {
     "name": "stderr",
     "output_type": "stream",
     "text": [
      "C:\\Users\\Administrator\\AppData\\Local\\Temp\\ipykernel_16000\\2984826684.py:101: FutureWarning: The frame.append method is deprecated and will be removed from pandas in a future version. Use pandas.concat instead.\n",
      "  redFlagRecord = redFlagRecord.append(veh, ignore_index=True)\n",
      "C:\\Users\\Administrator\\AppData\\Local\\Temp\\ipykernel_16000\\2984826684.py:101: FutureWarning: The frame.append method is deprecated and will be removed from pandas in a future version. Use pandas.concat instead.\n",
      "  redFlagRecord = redFlagRecord.append(veh, ignore_index=True)\n",
      "C:\\Users\\Administrator\\AppData\\Local\\Temp\\ipykernel_16000\\2984826684.py:101: FutureWarning: The frame.append method is deprecated and will be removed from pandas in a future version. Use pandas.concat instead.\n",
      "  redFlagRecord = redFlagRecord.append(veh, ignore_index=True)\n",
      "C:\\Users\\Administrator\\AppData\\Local\\Temp\\ipykernel_16000\\2984826684.py:101: FutureWarning: The frame.append method is deprecated and will be removed from pandas in a future version. Use pandas.concat instead.\n",
      "  redFlagRecord = redFlagRecord.append(veh, ignore_index=True)\n",
      "C:\\Users\\Administrator\\AppData\\Local\\Temp\\ipykernel_16000\\2984826684.py:101: FutureWarning: The frame.append method is deprecated and will be removed from pandas in a future version. Use pandas.concat instead.\n",
      "  redFlagRecord = redFlagRecord.append(veh, ignore_index=True)\n",
      "C:\\Users\\Administrator\\AppData\\Local\\Temp\\ipykernel_16000\\2984826684.py:101: FutureWarning: The frame.append method is deprecated and will be removed from pandas in a future version. Use pandas.concat instead.\n",
      "  redFlagRecord = redFlagRecord.append(veh, ignore_index=True)\n",
      "C:\\Users\\Administrator\\AppData\\Local\\Temp\\ipykernel_16000\\2984826684.py:101: FutureWarning: The frame.append method is deprecated and will be removed from pandas in a future version. Use pandas.concat instead.\n",
      "  redFlagRecord = redFlagRecord.append(veh, ignore_index=True)\n"
     ]
    },
    {
     "name": "stdout",
     "output_type": "stream",
     "text": [
      "LaneID:28925528_0;Time:5533.0;\n",
      "LaneID:28925528_0;Time:5534.0;\n",
      "LaneID:28925528_0;Time:5535.0;\n",
      "LaneID:28925528_0;Time:5547.0;\n",
      "LaneID:28925528_0;Time:5548.0;\n",
      "LaneID:28925528_0;Time:5549.0;\n",
      "LaneID:28925528_0;Time:5550.0;\n",
      "LaneID:28925528_0;Time:5551.0;\n",
      "LaneID:28925528_0;Time:5552.0;\n",
      "LaneID:28925528_0;Time:5559.0;\n",
      "LaneID:28925528_0;Time:5560.0;\n",
      "LaneID:28925528_0;Time:5561.0;\n",
      "LaneID:28925528_0;Time:5562.0;\n"
     ]
    },
    {
     "name": "stderr",
     "output_type": "stream",
     "text": [
      "C:\\Users\\Administrator\\AppData\\Local\\Temp\\ipykernel_16000\\2984826684.py:101: FutureWarning: The frame.append method is deprecated and will be removed from pandas in a future version. Use pandas.concat instead.\n",
      "  redFlagRecord = redFlagRecord.append(veh, ignore_index=True)\n",
      "C:\\Users\\Administrator\\AppData\\Local\\Temp\\ipykernel_16000\\2984826684.py:101: FutureWarning: The frame.append method is deprecated and will be removed from pandas in a future version. Use pandas.concat instead.\n",
      "  redFlagRecord = redFlagRecord.append(veh, ignore_index=True)\n",
      "C:\\Users\\Administrator\\AppData\\Local\\Temp\\ipykernel_16000\\2984826684.py:101: FutureWarning: The frame.append method is deprecated and will be removed from pandas in a future version. Use pandas.concat instead.\n",
      "  redFlagRecord = redFlagRecord.append(veh, ignore_index=True)\n",
      "C:\\Users\\Administrator\\AppData\\Local\\Temp\\ipykernel_16000\\2984826684.py:101: FutureWarning: The frame.append method is deprecated and will be removed from pandas in a future version. Use pandas.concat instead.\n",
      "  redFlagRecord = redFlagRecord.append(veh, ignore_index=True)\n",
      "C:\\Users\\Administrator\\AppData\\Local\\Temp\\ipykernel_16000\\2984826684.py:101: FutureWarning: The frame.append method is deprecated and will be removed from pandas in a future version. Use pandas.concat instead.\n",
      "  redFlagRecord = redFlagRecord.append(veh, ignore_index=True)\n",
      "C:\\Users\\Administrator\\AppData\\Local\\Temp\\ipykernel_16000\\2984826684.py:101: FutureWarning: The frame.append method is deprecated and will be removed from pandas in a future version. Use pandas.concat instead.\n",
      "  redFlagRecord = redFlagRecord.append(veh, ignore_index=True)\n",
      "C:\\Users\\Administrator\\AppData\\Local\\Temp\\ipykernel_16000\\2984826684.py:101: FutureWarning: The frame.append method is deprecated and will be removed from pandas in a future version. Use pandas.concat instead.\n",
      "  redFlagRecord = redFlagRecord.append(veh, ignore_index=True)\n"
     ]
    },
    {
     "name": "stdout",
     "output_type": "stream",
     "text": [
      "LaneID:28925528_0;Time:5563.0;\n",
      "LaneID:28925528_0;Time:5564.0;\n",
      "LaneID:28925528_0;Time:5565.0;\n",
      "LaneID:28925528_0;Time:5566.0;\n",
      "LaneID:28925528_0;Time:5571.0;\n",
      "LaneID:28925528_0;Time:5572.0;\n",
      "LaneID:28925528_0;Time:5573.0;\n",
      "LaneID:28925528_0;Time:5574.0;\n",
      "LaneID:28925528_0;Time:5575.0;\n",
      "LaneID:28925528_0;Time:5576.0;\n",
      "LaneID:28925528_0;Time:5577.0;\n",
      "LaneID:28925528_0;Time:5578.0;\n",
      "LaneID:28925528_0;Time:5579.0;\n",
      "LaneID:28925528_0;Time:5580.0;\n",
      "LaneID:28925528_0;Time:5581.0;\n",
      "LaneID:28925528_0;Time:5582.0;\n",
      "LaneID:28925528_0;Time:5583.0;\n",
      "LaneID:28925528_0;Time:5584.0;\n"
     ]
    },
    {
     "name": "stderr",
     "output_type": "stream",
     "text": [
      "C:\\Users\\Administrator\\AppData\\Local\\Temp\\ipykernel_16000\\2984826684.py:101: FutureWarning: The frame.append method is deprecated and will be removed from pandas in a future version. Use pandas.concat instead.\n",
      "  redFlagRecord = redFlagRecord.append(veh, ignore_index=True)\n",
      "C:\\Users\\Administrator\\AppData\\Local\\Temp\\ipykernel_16000\\2984826684.py:101: FutureWarning: The frame.append method is deprecated and will be removed from pandas in a future version. Use pandas.concat instead.\n",
      "  redFlagRecord = redFlagRecord.append(veh, ignore_index=True)\n",
      "C:\\Users\\Administrator\\AppData\\Local\\Temp\\ipykernel_16000\\2984826684.py:101: FutureWarning: The frame.append method is deprecated and will be removed from pandas in a future version. Use pandas.concat instead.\n",
      "  redFlagRecord = redFlagRecord.append(veh, ignore_index=True)\n",
      "C:\\Users\\Administrator\\AppData\\Local\\Temp\\ipykernel_16000\\2984826684.py:101: FutureWarning: The frame.append method is deprecated and will be removed from pandas in a future version. Use pandas.concat instead.\n",
      "  redFlagRecord = redFlagRecord.append(veh, ignore_index=True)\n",
      "C:\\Users\\Administrator\\AppData\\Local\\Temp\\ipykernel_16000\\2984826684.py:101: FutureWarning: The frame.append method is deprecated and will be removed from pandas in a future version. Use pandas.concat instead.\n",
      "  redFlagRecord = redFlagRecord.append(veh, ignore_index=True)\n",
      "C:\\Users\\Administrator\\AppData\\Local\\Temp\\ipykernel_16000\\2984826684.py:101: FutureWarning: The frame.append method is deprecated and will be removed from pandas in a future version. Use pandas.concat instead.\n",
      "  redFlagRecord = redFlagRecord.append(veh, ignore_index=True)\n",
      "C:\\Users\\Administrator\\AppData\\Local\\Temp\\ipykernel_16000\\2984826684.py:101: FutureWarning: The frame.append method is deprecated and will be removed from pandas in a future version. Use pandas.concat instead.\n",
      "  redFlagRecord = redFlagRecord.append(veh, ignore_index=True)\n"
     ]
    },
    {
     "name": "stdout",
     "output_type": "stream",
     "text": [
      "LaneID:28925528_0;Time:5585.0;\n",
      "LaneID:28925528_0;Time:5586.0;\n",
      "LaneID:28925528_0;Time:5587.0;\n",
      "LaneID:28925528_0;Time:5588.0;\n",
      "LaneID:28925528_0;Time:5589.0;\n",
      "LaneID:28925528_0;Time:5590.0;\n",
      "LaneID:28925528_0;Time:5591.0;\n"
     ]
    },
    {
     "name": "stderr",
     "output_type": "stream",
     "text": [
      "C:\\Users\\Administrator\\AppData\\Local\\Temp\\ipykernel_16000\\2984826684.py:101: FutureWarning: The frame.append method is deprecated and will be removed from pandas in a future version. Use pandas.concat instead.\n",
      "  redFlagRecord = redFlagRecord.append(veh, ignore_index=True)\n",
      "C:\\Users\\Administrator\\AppData\\Local\\Temp\\ipykernel_16000\\2984826684.py:101: FutureWarning: The frame.append method is deprecated and will be removed from pandas in a future version. Use pandas.concat instead.\n",
      "  redFlagRecord = redFlagRecord.append(veh, ignore_index=True)\n",
      "C:\\Users\\Administrator\\AppData\\Local\\Temp\\ipykernel_16000\\2984826684.py:101: FutureWarning: The frame.append method is deprecated and will be removed from pandas in a future version. Use pandas.concat instead.\n",
      "  redFlagRecord = redFlagRecord.append(veh, ignore_index=True)\n",
      "C:\\Users\\Administrator\\AppData\\Local\\Temp\\ipykernel_16000\\2984826684.py:101: FutureWarning: The frame.append method is deprecated and will be removed from pandas in a future version. Use pandas.concat instead.\n",
      "  redFlagRecord = redFlagRecord.append(veh, ignore_index=True)\n",
      "C:\\Users\\Administrator\\AppData\\Local\\Temp\\ipykernel_16000\\2984826684.py:101: FutureWarning: The frame.append method is deprecated and will be removed from pandas in a future version. Use pandas.concat instead.\n",
      "  redFlagRecord = redFlagRecord.append(veh, ignore_index=True)\n",
      "C:\\Users\\Administrator\\AppData\\Local\\Temp\\ipykernel_16000\\2984826684.py:101: FutureWarning: The frame.append method is deprecated and will be removed from pandas in a future version. Use pandas.concat instead.\n",
      "  redFlagRecord = redFlagRecord.append(veh, ignore_index=True)\n"
     ]
    },
    {
     "name": "stdout",
     "output_type": "stream",
     "text": [
      "LaneID:28925528_0;Time:5592.0;\n",
      "LaneID:28925528_0;Time:5593.0;\n",
      "LaneID:28925528_0;Time:5594.0;\n",
      "LaneID:28925528_0;Time:5595.0;\n",
      "LaneID:28925528_0;Time:5596.0;\n",
      "LaneID:28925528_0;Time:5597.0;\n"
     ]
    },
    {
     "name": "stderr",
     "output_type": "stream",
     "text": [
      "C:\\Users\\Administrator\\AppData\\Local\\Temp\\ipykernel_16000\\2984826684.py:101: FutureWarning: The frame.append method is deprecated and will be removed from pandas in a future version. Use pandas.concat instead.\n",
      "  redFlagRecord = redFlagRecord.append(veh, ignore_index=True)\n",
      "C:\\Users\\Administrator\\AppData\\Local\\Temp\\ipykernel_16000\\2984826684.py:101: FutureWarning: The frame.append method is deprecated and will be removed from pandas in a future version. Use pandas.concat instead.\n",
      "  redFlagRecord = redFlagRecord.append(veh, ignore_index=True)\n",
      "C:\\Users\\Administrator\\AppData\\Local\\Temp\\ipykernel_16000\\2984826684.py:101: FutureWarning: The frame.append method is deprecated and will be removed from pandas in a future version. Use pandas.concat instead.\n",
      "  redFlagRecord = redFlagRecord.append(veh, ignore_index=True)\n",
      "C:\\Users\\Administrator\\AppData\\Local\\Temp\\ipykernel_16000\\2984826684.py:101: FutureWarning: The frame.append method is deprecated and will be removed from pandas in a future version. Use pandas.concat instead.\n",
      "  redFlagRecord = redFlagRecord.append(veh, ignore_index=True)\n",
      "C:\\Users\\Administrator\\AppData\\Local\\Temp\\ipykernel_16000\\2984826684.py:101: FutureWarning: The frame.append method is deprecated and will be removed from pandas in a future version. Use pandas.concat instead.\n",
      "  redFlagRecord = redFlagRecord.append(veh, ignore_index=True)\n",
      "C:\\Users\\Administrator\\AppData\\Local\\Temp\\ipykernel_16000\\2984826684.py:101: FutureWarning: The frame.append method is deprecated and will be removed from pandas in a future version. Use pandas.concat instead.\n",
      "  redFlagRecord = redFlagRecord.append(veh, ignore_index=True)\n"
     ]
    },
    {
     "name": "stdout",
     "output_type": "stream",
     "text": [
      "LaneID:28925528_0;Time:5598.0;\n",
      "LaneID:28925528_0;Time:5599.0;\n",
      "LaneID:28925528_0;Time:5600.0;\n",
      "LaneID:28925528_0;Time:5601.0;\n",
      "LaneID:28925528_0;Time:5602.0;\n",
      "LaneID:28925528_0;Time:5603.0;\n",
      "LaneID:28925528_0;Time:5622.0;\n",
      "LaneID:28925528_0;Time:5623.0;\n",
      "LaneID:28925528_0;Time:5624.0;\n",
      "LaneID:28925528_0;Time:5625.0;\n",
      "LaneID:28925528_0;Time:5626.0;\n",
      "LaneID:28925528_0;Time:5627.0;\n",
      "LaneID:28925528_0;Time:5628.0;\n",
      "LaneID:28925528_0;Time:5649.0;\n",
      "LaneID:28925528_0;Time:5650.0;\n",
      "LaneID:28925528_0;Time:5651.0;\n",
      "LaneID:28925528_0;Time:5652.0;\n",
      "LaneID:28925528_0;Time:5653.0;\n",
      "LaneID:28925528_0;Time:5654.0;\n",
      "LaneID:28925528_0;Time:5655.0;\n",
      "LaneID:28925528_0;Time:5656.0;\n",
      "LaneID:28925528_0;Time:5657.0;\n",
      "LaneID:28925528_0;Time:5658.0;\n",
      "LaneID:28925528_0;Time:5659.0;\n",
      "LaneID:28925528_0;Time:5672.0;\n",
      "LaneID:28925528_0;Time:5673.0;\n",
      "LaneID:28925528_0;Time:5674.0;\n",
      "LaneID:28925528_0;Time:5675.0;\n",
      "LaneID:28925528_0;Time:5676.0;\n",
      "LaneID:28925528_0;Time:5677.0;\n",
      "LaneID:28925528_0;Time:5678.0;\n",
      "LaneID:28925528_0;Time:5679.0;\n",
      "LaneID:28925528_0;Time:5680.0;\n",
      "LaneID:28925528_0;Time:5681.0;\n",
      "LaneID:28925528_0;Time:5682.0;\n",
      "LaneID:28925528_0;Time:5683.0;\n",
      "LaneID:28925528_0;Time:5684.0;\n",
      "LaneID:28925528_0;Time:5685.0;\n"
     ]
    },
    {
     "name": "stderr",
     "output_type": "stream",
     "text": [
      "C:\\Users\\Administrator\\AppData\\Local\\Temp\\ipykernel_16000\\2984826684.py:101: FutureWarning: The frame.append method is deprecated and will be removed from pandas in a future version. Use pandas.concat instead.\n",
      "  redFlagRecord = redFlagRecord.append(veh, ignore_index=True)\n",
      "C:\\Users\\Administrator\\AppData\\Local\\Temp\\ipykernel_16000\\2984826684.py:101: FutureWarning: The frame.append method is deprecated and will be removed from pandas in a future version. Use pandas.concat instead.\n",
      "  redFlagRecord = redFlagRecord.append(veh, ignore_index=True)\n",
      "C:\\Users\\Administrator\\AppData\\Local\\Temp\\ipykernel_16000\\2984826684.py:101: FutureWarning: The frame.append method is deprecated and will be removed from pandas in a future version. Use pandas.concat instead.\n",
      "  redFlagRecord = redFlagRecord.append(veh, ignore_index=True)\n",
      "C:\\Users\\Administrator\\AppData\\Local\\Temp\\ipykernel_16000\\2984826684.py:101: FutureWarning: The frame.append method is deprecated and will be removed from pandas in a future version. Use pandas.concat instead.\n",
      "  redFlagRecord = redFlagRecord.append(veh, ignore_index=True)\n",
      "C:\\Users\\Administrator\\AppData\\Local\\Temp\\ipykernel_16000\\2984826684.py:101: FutureWarning: The frame.append method is deprecated and will be removed from pandas in a future version. Use pandas.concat instead.\n",
      "  redFlagRecord = redFlagRecord.append(veh, ignore_index=True)\n",
      "C:\\Users\\Administrator\\AppData\\Local\\Temp\\ipykernel_16000\\2984826684.py:101: FutureWarning: The frame.append method is deprecated and will be removed from pandas in a future version. Use pandas.concat instead.\n",
      "  redFlagRecord = redFlagRecord.append(veh, ignore_index=True)\n",
      "C:\\Users\\Administrator\\AppData\\Local\\Temp\\ipykernel_16000\\2984826684.py:101: FutureWarning: The frame.append method is deprecated and will be removed from pandas in a future version. Use pandas.concat instead.\n",
      "  redFlagRecord = redFlagRecord.append(veh, ignore_index=True)\n"
     ]
    },
    {
     "name": "stdout",
     "output_type": "stream",
     "text": [
      "LaneID:28925528_0;Time:5686.0;\n",
      "LaneID:28925528_0;Time:5687.0;\n",
      "LaneID:28925528_0;Time:5688.0;\n",
      "LaneID:28925528_0;Time:5689.0;\n",
      "LaneID:28925528_0;Time:5690.0;\n",
      "LaneID:28925528_0;Time:5696.0;\n",
      "LaneID:28925528_0;Time:5697.0;\n",
      "LaneID:28925528_0;Time:5698.0;\n",
      "LaneID:28925528_0;Time:5699.0;\n",
      "LaneID:28925528_0;Time:5700.0;\n",
      "LaneID:28925528_0;Time:5701.0;\n",
      "LaneID:28925528_0;Time:5702.0;\n",
      "LaneID:28925528_0;Time:5703.0;\n",
      "LaneID:28925528_0;Time:5704.0;\n",
      "LaneID:28925528_0;Time:5705.0;\n",
      "LaneID:28925528_0;Time:5706.0;\n"
     ]
    },
    {
     "name": "stderr",
     "output_type": "stream",
     "text": [
      "C:\\Users\\Administrator\\AppData\\Local\\Temp\\ipykernel_16000\\2984826684.py:101: FutureWarning: The frame.append method is deprecated and will be removed from pandas in a future version. Use pandas.concat instead.\n",
      "  redFlagRecord = redFlagRecord.append(veh, ignore_index=True)\n",
      "C:\\Users\\Administrator\\AppData\\Local\\Temp\\ipykernel_16000\\2984826684.py:101: FutureWarning: The frame.append method is deprecated and will be removed from pandas in a future version. Use pandas.concat instead.\n",
      "  redFlagRecord = redFlagRecord.append(veh, ignore_index=True)\n",
      "C:\\Users\\Administrator\\AppData\\Local\\Temp\\ipykernel_16000\\2984826684.py:101: FutureWarning: The frame.append method is deprecated and will be removed from pandas in a future version. Use pandas.concat instead.\n",
      "  redFlagRecord = redFlagRecord.append(veh, ignore_index=True)\n",
      "C:\\Users\\Administrator\\AppData\\Local\\Temp\\ipykernel_16000\\2984826684.py:101: FutureWarning: The frame.append method is deprecated and will be removed from pandas in a future version. Use pandas.concat instead.\n",
      "  redFlagRecord = redFlagRecord.append(veh, ignore_index=True)\n",
      "C:\\Users\\Administrator\\AppData\\Local\\Temp\\ipykernel_16000\\2984826684.py:101: FutureWarning: The frame.append method is deprecated and will be removed from pandas in a future version. Use pandas.concat instead.\n",
      "  redFlagRecord = redFlagRecord.append(veh, ignore_index=True)\n",
      "C:\\Users\\Administrator\\AppData\\Local\\Temp\\ipykernel_16000\\2984826684.py:101: FutureWarning: The frame.append method is deprecated and will be removed from pandas in a future version. Use pandas.concat instead.\n",
      "  redFlagRecord = redFlagRecord.append(veh, ignore_index=True)\n",
      "C:\\Users\\Administrator\\AppData\\Local\\Temp\\ipykernel_16000\\2984826684.py:101: FutureWarning: The frame.append method is deprecated and will be removed from pandas in a future version. Use pandas.concat instead.\n",
      "  redFlagRecord = redFlagRecord.append(veh, ignore_index=True)\n"
     ]
    },
    {
     "name": "stdout",
     "output_type": "stream",
     "text": [
      "LaneID:28925528_0;Time:5707.0;\n",
      "LaneID:28925528_0;Time:5708.0;\n",
      "LaneID:28925528_0;Time:5709.0;\n",
      "LaneID:28925528_0;Time:5710.0;\n",
      "LaneID:28925528_0;Time:5711.0;\n",
      "LaneID:28925528_0;Time:5712.0;\n",
      "LaneID:28925528_0;Time:5713.0;\n"
     ]
    },
    {
     "name": "stderr",
     "output_type": "stream",
     "text": [
      "C:\\Users\\Administrator\\AppData\\Local\\Temp\\ipykernel_16000\\2984826684.py:101: FutureWarning: The frame.append method is deprecated and will be removed from pandas in a future version. Use pandas.concat instead.\n",
      "  redFlagRecord = redFlagRecord.append(veh, ignore_index=True)\n",
      "C:\\Users\\Administrator\\AppData\\Local\\Temp\\ipykernel_16000\\2984826684.py:101: FutureWarning: The frame.append method is deprecated and will be removed from pandas in a future version. Use pandas.concat instead.\n",
      "  redFlagRecord = redFlagRecord.append(veh, ignore_index=True)\n",
      "C:\\Users\\Administrator\\AppData\\Local\\Temp\\ipykernel_16000\\2984826684.py:101: FutureWarning: The frame.append method is deprecated and will be removed from pandas in a future version. Use pandas.concat instead.\n",
      "  redFlagRecord = redFlagRecord.append(veh, ignore_index=True)\n",
      "C:\\Users\\Administrator\\AppData\\Local\\Temp\\ipykernel_16000\\2984826684.py:101: FutureWarning: The frame.append method is deprecated and will be removed from pandas in a future version. Use pandas.concat instead.\n",
      "  redFlagRecord = redFlagRecord.append(veh, ignore_index=True)\n",
      "C:\\Users\\Administrator\\AppData\\Local\\Temp\\ipykernel_16000\\2984826684.py:101: FutureWarning: The frame.append method is deprecated and will be removed from pandas in a future version. Use pandas.concat instead.\n",
      "  redFlagRecord = redFlagRecord.append(veh, ignore_index=True)\n",
      "C:\\Users\\Administrator\\AppData\\Local\\Temp\\ipykernel_16000\\2984826684.py:101: FutureWarning: The frame.append method is deprecated and will be removed from pandas in a future version. Use pandas.concat instead.\n",
      "  redFlagRecord = redFlagRecord.append(veh, ignore_index=True)\n",
      "C:\\Users\\Administrator\\AppData\\Local\\Temp\\ipykernel_16000\\2984826684.py:101: FutureWarning: The frame.append method is deprecated and will be removed from pandas in a future version. Use pandas.concat instead.\n",
      "  redFlagRecord = redFlagRecord.append(veh, ignore_index=True)\n"
     ]
    },
    {
     "name": "stdout",
     "output_type": "stream",
     "text": [
      "LaneID:28925528_0;Time:5714.0;\n",
      "LaneID:28925528_0;Time:5715.0;\n",
      "LaneID:28925528_0;Time:5716.0;\n",
      "LaneID:28925528_0;Time:5717.0;\n",
      "LaneID:28925528_0;Time:5718.0;\n",
      "LaneID:28925528_0;Time:5719.0;\n",
      "LaneID:28925528_0;Time:5720.0;\n"
     ]
    },
    {
     "name": "stderr",
     "output_type": "stream",
     "text": [
      "C:\\Users\\Administrator\\AppData\\Local\\Temp\\ipykernel_16000\\2984826684.py:101: FutureWarning: The frame.append method is deprecated and will be removed from pandas in a future version. Use pandas.concat instead.\n",
      "  redFlagRecord = redFlagRecord.append(veh, ignore_index=True)\n",
      "C:\\Users\\Administrator\\AppData\\Local\\Temp\\ipykernel_16000\\2984826684.py:101: FutureWarning: The frame.append method is deprecated and will be removed from pandas in a future version. Use pandas.concat instead.\n",
      "  redFlagRecord = redFlagRecord.append(veh, ignore_index=True)\n",
      "C:\\Users\\Administrator\\AppData\\Local\\Temp\\ipykernel_16000\\2984826684.py:101: FutureWarning: The frame.append method is deprecated and will be removed from pandas in a future version. Use pandas.concat instead.\n",
      "  redFlagRecord = redFlagRecord.append(veh, ignore_index=True)\n",
      "C:\\Users\\Administrator\\AppData\\Local\\Temp\\ipykernel_16000\\2984826684.py:101: FutureWarning: The frame.append method is deprecated and will be removed from pandas in a future version. Use pandas.concat instead.\n",
      "  redFlagRecord = redFlagRecord.append(veh, ignore_index=True)\n",
      "C:\\Users\\Administrator\\AppData\\Local\\Temp\\ipykernel_16000\\2984826684.py:101: FutureWarning: The frame.append method is deprecated and will be removed from pandas in a future version. Use pandas.concat instead.\n",
      "  redFlagRecord = redFlagRecord.append(veh, ignore_index=True)\n",
      "C:\\Users\\Administrator\\AppData\\Local\\Temp\\ipykernel_16000\\2984826684.py:101: FutureWarning: The frame.append method is deprecated and will be removed from pandas in a future version. Use pandas.concat instead.\n",
      "  redFlagRecord = redFlagRecord.append(veh, ignore_index=True)\n",
      "C:\\Users\\Administrator\\AppData\\Local\\Temp\\ipykernel_16000\\2984826684.py:101: FutureWarning: The frame.append method is deprecated and will be removed from pandas in a future version. Use pandas.concat instead.\n",
      "  redFlagRecord = redFlagRecord.append(veh, ignore_index=True)\n"
     ]
    },
    {
     "name": "stdout",
     "output_type": "stream",
     "text": [
      "LaneID:28925528_0;Time:5721.0;\n",
      "LaneID:28925528_0;Time:5723.0;\n",
      "LaneID:28925528_0;Time:5724.0;\n",
      "LaneID:28925528_0;Time:5725.0;\n",
      "LaneID:28925528_0;Time:5726.0;\n",
      "LaneID:28925528_0;Time:5727.0;\n",
      "LaneID:28925528_0;Time:5728.0;\n",
      "LaneID:28925528_0;Time:5729.0;\n",
      "LaneID:28925528_0;Time:5736.0;\n",
      "LaneID:28925528_0;Time:5737.0;\n",
      "LaneID:28925528_0;Time:5738.0;\n",
      "LaneID:28925528_0;Time:5739.0;\n",
      "LaneID:28925528_0;Time:5740.0;\n",
      "LaneID:28925528_0;Time:5741.0;\n"
     ]
    },
    {
     "name": "stderr",
     "output_type": "stream",
     "text": [
      "C:\\Users\\Administrator\\AppData\\Local\\Temp\\ipykernel_16000\\2984826684.py:101: FutureWarning: The frame.append method is deprecated and will be removed from pandas in a future version. Use pandas.concat instead.\n",
      "  redFlagRecord = redFlagRecord.append(veh, ignore_index=True)\n",
      "C:\\Users\\Administrator\\AppData\\Local\\Temp\\ipykernel_16000\\2984826684.py:101: FutureWarning: The frame.append method is deprecated and will be removed from pandas in a future version. Use pandas.concat instead.\n",
      "  redFlagRecord = redFlagRecord.append(veh, ignore_index=True)\n",
      "C:\\Users\\Administrator\\AppData\\Local\\Temp\\ipykernel_16000\\2984826684.py:101: FutureWarning: The frame.append method is deprecated and will be removed from pandas in a future version. Use pandas.concat instead.\n",
      "  redFlagRecord = redFlagRecord.append(veh, ignore_index=True)\n",
      "C:\\Users\\Administrator\\AppData\\Local\\Temp\\ipykernel_16000\\2984826684.py:101: FutureWarning: The frame.append method is deprecated and will be removed from pandas in a future version. Use pandas.concat instead.\n",
      "  redFlagRecord = redFlagRecord.append(veh, ignore_index=True)\n",
      "C:\\Users\\Administrator\\AppData\\Local\\Temp\\ipykernel_16000\\2984826684.py:101: FutureWarning: The frame.append method is deprecated and will be removed from pandas in a future version. Use pandas.concat instead.\n",
      "  redFlagRecord = redFlagRecord.append(veh, ignore_index=True)\n",
      "C:\\Users\\Administrator\\AppData\\Local\\Temp\\ipykernel_16000\\2984826684.py:101: FutureWarning: The frame.append method is deprecated and will be removed from pandas in a future version. Use pandas.concat instead.\n",
      "  redFlagRecord = redFlagRecord.append(veh, ignore_index=True)\n",
      "C:\\Users\\Administrator\\AppData\\Local\\Temp\\ipykernel_16000\\2984826684.py:101: FutureWarning: The frame.append method is deprecated and will be removed from pandas in a future version. Use pandas.concat instead.\n",
      "  redFlagRecord = redFlagRecord.append(veh, ignore_index=True)\n"
     ]
    },
    {
     "name": "stdout",
     "output_type": "stream",
     "text": [
      "LaneID:28925528_0;Time:5742.0;\n",
      "LaneID:28925528_0;Time:5743.0;\n",
      "LaneID:28925528_0;Time:5744.0;\n",
      "LaneID:28925528_0;Time:5745.0;\n",
      "LaneID:28925528_0;Time:5746.0;\n",
      "LaneID:28925528_0;Time:5747.0;\n",
      "LaneID:28925528_0;Time:5748.0;\n"
     ]
    },
    {
     "name": "stderr",
     "output_type": "stream",
     "text": [
      "C:\\Users\\Administrator\\AppData\\Local\\Temp\\ipykernel_16000\\2984826684.py:101: FutureWarning: The frame.append method is deprecated and will be removed from pandas in a future version. Use pandas.concat instead.\n",
      "  redFlagRecord = redFlagRecord.append(veh, ignore_index=True)\n",
      "C:\\Users\\Administrator\\AppData\\Local\\Temp\\ipykernel_16000\\2984826684.py:101: FutureWarning: The frame.append method is deprecated and will be removed from pandas in a future version. Use pandas.concat instead.\n",
      "  redFlagRecord = redFlagRecord.append(veh, ignore_index=True)\n",
      "C:\\Users\\Administrator\\AppData\\Local\\Temp\\ipykernel_16000\\2984826684.py:101: FutureWarning: The frame.append method is deprecated and will be removed from pandas in a future version. Use pandas.concat instead.\n",
      "  redFlagRecord = redFlagRecord.append(veh, ignore_index=True)\n",
      "C:\\Users\\Administrator\\AppData\\Local\\Temp\\ipykernel_16000\\2984826684.py:101: FutureWarning: The frame.append method is deprecated and will be removed from pandas in a future version. Use pandas.concat instead.\n",
      "  redFlagRecord = redFlagRecord.append(veh, ignore_index=True)\n",
      "C:\\Users\\Administrator\\AppData\\Local\\Temp\\ipykernel_16000\\2984826684.py:101: FutureWarning: The frame.append method is deprecated and will be removed from pandas in a future version. Use pandas.concat instead.\n",
      "  redFlagRecord = redFlagRecord.append(veh, ignore_index=True)\n",
      "C:\\Users\\Administrator\\AppData\\Local\\Temp\\ipykernel_16000\\2984826684.py:101: FutureWarning: The frame.append method is deprecated and will be removed from pandas in a future version. Use pandas.concat instead.\n",
      "  redFlagRecord = redFlagRecord.append(veh, ignore_index=True)\n",
      "C:\\Users\\Administrator\\AppData\\Local\\Temp\\ipykernel_16000\\2984826684.py:101: FutureWarning: The frame.append method is deprecated and will be removed from pandas in a future version. Use pandas.concat instead.\n",
      "  redFlagRecord = redFlagRecord.append(veh, ignore_index=True)\n"
     ]
    },
    {
     "name": "stdout",
     "output_type": "stream",
     "text": [
      "LaneID:28925528_0;Time:5749.0;\n",
      "LaneID:28925528_0;Time:5750.0;\n",
      "LaneID:28925528_0;Time:5751.0;\n",
      "LaneID:28925528_0;Time:5752.0;\n",
      "LaneID:28925528_0;Time:5753.0;\n",
      "LaneID:28925528_0;Time:5754.0;\n",
      "LaneID:28925528_0;Time:5772.0;\n",
      "LaneID:28925528_0;Time:5773.0;\n",
      "LaneID:28925528_0;Time:5774.0;\n",
      "LaneID:28925528_0;Time:5775.0;\n",
      "LaneID:28925528_0;Time:5776.0;\n",
      "LaneID:28925528_0;Time:5777.0;\n",
      "LaneID:28925528_0;Time:5778.0;\n",
      "LaneID:28925528_0;Time:5779.0;\n",
      "LaneID:28925528_0;Time:5780.0;\n",
      "LaneID:28925528_0;Time:5781.0;\n",
      "LaneID:28925528_0;Time:5782.0;\n",
      "LaneID:28925528_0;Time:5783.0;\n",
      "LaneID:28925528_0;Time:5797.0;\n",
      "LaneID:28925528_0;Time:5798.0;\n",
      "LaneID:28925528_0;Time:5799.0;\n",
      "LaneID:28925528_0;Time:5800.0;\n",
      "LaneID:28925528_0;Time:5801.0;\n",
      "LaneID:28925528_0;Time:5802.0;\n",
      "LaneID:28925528_0;Time:5803.0;\n",
      "LaneID:28925528_0;Time:5804.0;\n",
      "LaneID:28925528_0;Time:5805.0;\n",
      "LaneID:28925528_0;Time:5806.0;\n",
      "LaneID:28925528_0;Time:5807.0;\n",
      "LaneID:28925528_0;Time:5808.0;\n",
      "LaneID:28925528_0;Time:5809.0;\n",
      "LaneID:28925528_0;Time:5810.0;\n",
      "LaneID:28925528_0;Time:5811.0;\n",
      "LaneID:28925528_0;Time:5812.0;\n"
     ]
    },
    {
     "name": "stderr",
     "output_type": "stream",
     "text": [
      "C:\\Users\\Administrator\\AppData\\Local\\Temp\\ipykernel_16000\\2984826684.py:101: FutureWarning: The frame.append method is deprecated and will be removed from pandas in a future version. Use pandas.concat instead.\n",
      "  redFlagRecord = redFlagRecord.append(veh, ignore_index=True)\n",
      "C:\\Users\\Administrator\\AppData\\Local\\Temp\\ipykernel_16000\\2984826684.py:101: FutureWarning: The frame.append method is deprecated and will be removed from pandas in a future version. Use pandas.concat instead.\n",
      "  redFlagRecord = redFlagRecord.append(veh, ignore_index=True)\n",
      "C:\\Users\\Administrator\\AppData\\Local\\Temp\\ipykernel_16000\\2984826684.py:101: FutureWarning: The frame.append method is deprecated and will be removed from pandas in a future version. Use pandas.concat instead.\n",
      "  redFlagRecord = redFlagRecord.append(veh, ignore_index=True)\n",
      "C:\\Users\\Administrator\\AppData\\Local\\Temp\\ipykernel_16000\\2984826684.py:101: FutureWarning: The frame.append method is deprecated and will be removed from pandas in a future version. Use pandas.concat instead.\n",
      "  redFlagRecord = redFlagRecord.append(veh, ignore_index=True)\n",
      "C:\\Users\\Administrator\\AppData\\Local\\Temp\\ipykernel_16000\\2984826684.py:101: FutureWarning: The frame.append method is deprecated and will be removed from pandas in a future version. Use pandas.concat instead.\n",
      "  redFlagRecord = redFlagRecord.append(veh, ignore_index=True)\n",
      "C:\\Users\\Administrator\\AppData\\Local\\Temp\\ipykernel_16000\\2984826684.py:101: FutureWarning: The frame.append method is deprecated and will be removed from pandas in a future version. Use pandas.concat instead.\n",
      "  redFlagRecord = redFlagRecord.append(veh, ignore_index=True)\n",
      "C:\\Users\\Administrator\\AppData\\Local\\Temp\\ipykernel_16000\\2984826684.py:101: FutureWarning: The frame.append method is deprecated and will be removed from pandas in a future version. Use pandas.concat instead.\n",
      "  redFlagRecord = redFlagRecord.append(veh, ignore_index=True)\n"
     ]
    },
    {
     "name": "stdout",
     "output_type": "stream",
     "text": [
      "LaneID:28925528_0;Time:5813.0;\n",
      "LaneID:28925528_0;Time:5814.0;\n",
      "LaneID:28925528_0;Time:5822.0;\n",
      "LaneID:28925528_0;Time:5823.0;\n",
      "LaneID:28925528_0;Time:5824.0;\n",
      "LaneID:28925528_0;Time:5825.0;\n",
      "LaneID:28925528_0;Time:5826.0;\n",
      "LaneID:28925528_0;Time:5827.0;\n",
      "LaneID:28925528_0;Time:5834.0;\n",
      "LaneID:28925528_0;Time:5835.0;\n",
      "LaneID:28925528_0;Time:5836.0;\n",
      "LaneID:28925528_0;Time:5837.0;\n",
      "LaneID:28925528_0;Time:5838.0;\n"
     ]
    },
    {
     "name": "stderr",
     "output_type": "stream",
     "text": [
      "C:\\Users\\Administrator\\AppData\\Local\\Temp\\ipykernel_16000\\2984826684.py:101: FutureWarning: The frame.append method is deprecated and will be removed from pandas in a future version. Use pandas.concat instead.\n",
      "  redFlagRecord = redFlagRecord.append(veh, ignore_index=True)\n",
      "C:\\Users\\Administrator\\AppData\\Local\\Temp\\ipykernel_16000\\2984826684.py:101: FutureWarning: The frame.append method is deprecated and will be removed from pandas in a future version. Use pandas.concat instead.\n",
      "  redFlagRecord = redFlagRecord.append(veh, ignore_index=True)\n",
      "C:\\Users\\Administrator\\AppData\\Local\\Temp\\ipykernel_16000\\2984826684.py:101: FutureWarning: The frame.append method is deprecated and will be removed from pandas in a future version. Use pandas.concat instead.\n",
      "  redFlagRecord = redFlagRecord.append(veh, ignore_index=True)\n",
      "C:\\Users\\Administrator\\AppData\\Local\\Temp\\ipykernel_16000\\2984826684.py:101: FutureWarning: The frame.append method is deprecated and will be removed from pandas in a future version. Use pandas.concat instead.\n",
      "  redFlagRecord = redFlagRecord.append(veh, ignore_index=True)\n",
      "C:\\Users\\Administrator\\AppData\\Local\\Temp\\ipykernel_16000\\2984826684.py:101: FutureWarning: The frame.append method is deprecated and will be removed from pandas in a future version. Use pandas.concat instead.\n",
      "  redFlagRecord = redFlagRecord.append(veh, ignore_index=True)\n",
      "C:\\Users\\Administrator\\AppData\\Local\\Temp\\ipykernel_16000\\2984826684.py:101: FutureWarning: The frame.append method is deprecated and will be removed from pandas in a future version. Use pandas.concat instead.\n",
      "  redFlagRecord = redFlagRecord.append(veh, ignore_index=True)\n",
      "C:\\Users\\Administrator\\AppData\\Local\\Temp\\ipykernel_16000\\2984826684.py:101: FutureWarning: The frame.append method is deprecated and will be removed from pandas in a future version. Use pandas.concat instead.\n",
      "  redFlagRecord = redFlagRecord.append(veh, ignore_index=True)\n",
      "C:\\Users\\Administrator\\AppData\\Local\\Temp\\ipykernel_16000\\2984826684.py:101: FutureWarning: The frame.append method is deprecated and will be removed from pandas in a future version. Use pandas.concat instead.\n",
      "  redFlagRecord = redFlagRecord.append(veh, ignore_index=True)\n",
      "C:\\Users\\Administrator\\AppData\\Local\\Temp\\ipykernel_16000\\2984826684.py:101: FutureWarning: The frame.append method is deprecated and will be removed from pandas in a future version. Use pandas.concat instead.\n",
      "  redFlagRecord = redFlagRecord.append(veh, ignore_index=True)\n",
      "C:\\Users\\Administrator\\AppData\\Local\\Temp\\ipykernel_16000\\2984826684.py:101: FutureWarning: The frame.append method is deprecated and will be removed from pandas in a future version. Use pandas.concat instead.\n",
      "  redFlagRecord = redFlagRecord.append(veh, ignore_index=True)\n",
      "C:\\Users\\Administrator\\AppData\\Local\\Temp\\ipykernel_16000\\2984826684.py:101: FutureWarning: The frame.append method is deprecated and will be removed from pandas in a future version. Use pandas.concat instead.\n",
      "  redFlagRecord = redFlagRecord.append(veh, ignore_index=True)\n",
      "C:\\Users\\Administrator\\AppData\\Local\\Temp\\ipykernel_16000\\2984826684.py:101: FutureWarning: The frame.append method is deprecated and will be removed from pandas in a future version. Use pandas.concat instead.\n",
      "  redFlagRecord = redFlagRecord.append(veh, ignore_index=True)\n",
      "C:\\Users\\Administrator\\AppData\\Local\\Temp\\ipykernel_16000\\2984826684.py:101: FutureWarning: The frame.append method is deprecated and will be removed from pandas in a future version. Use pandas.concat instead.\n",
      "  redFlagRecord = redFlagRecord.append(veh, ignore_index=True)\n",
      "C:\\Users\\Administrator\\AppData\\Local\\Temp\\ipykernel_16000\\2984826684.py:101: FutureWarning: The frame.append method is deprecated and will be removed from pandas in a future version. Use pandas.concat instead.\n",
      "  redFlagRecord = redFlagRecord.append(veh, ignore_index=True)\n"
     ]
    },
    {
     "name": "stdout",
     "output_type": "stream",
     "text": [
      "LaneID:28925528_0;Time:5839.0;\n",
      "LaneID:28925528_0;Time:5840.0;\n",
      "LaneID:28925528_0;Time:5841.0;\n",
      "LaneID:28925528_0;Time:5842.0;\n",
      "LaneID:28925528_0;Time:5843.0;\n",
      "LaneID:28925528_0;Time:5844.0;\n",
      "LaneID:28925528_0;Time:5845.0;\n",
      "LaneID:28925528_0;Time:5846.0;\n",
      "LaneID:28925528_0;Time:5847.0;\n",
      "LaneID:28925528_0;Time:5848.0;\n",
      "LaneID:28925528_0;Time:5849.0;\n",
      "LaneID:28925528_0;Time:5850.0;\n",
      "LaneID:28925528_0;Time:5851.0;\n",
      "LaneID:28925528_0;Time:5852.0;\n",
      "LaneID:28925528_0;Time:5853.0;\n",
      "LaneID:28925528_0;Time:5876.0;\n",
      "LaneID:28925528_0;Time:5877.0;\n",
      "LaneID:28925528_0;Time:5878.0;\n",
      "LaneID:28925528_0;Time:5879.0;\n",
      "LaneID:28925528_0;Time:5880.0;\n",
      "LaneID:28925528_0;Time:5881.0;\n",
      "LaneID:28925528_0;Time:5882.0;\n",
      "LaneID:28925528_0;Time:5897.0;\n",
      "LaneID:28925528_0;Time:5898.0;\n",
      "LaneID:28925528_0;Time:5899.0;\n",
      "LaneID:28925528_0;Time:5900.0;\n",
      "LaneID:28925528_0;Time:5901.0;\n",
      "LaneID:28925528_0;Time:5902.0;\n",
      "LaneID:28925528_0;Time:5903.0;\n",
      "LaneID:28925528_0;Time:5904.0;\n",
      "LaneID:28925528_0;Time:5905.0;\n",
      "LaneID:28925528_0;Time:5906.0;\n",
      "LaneID:28925528_0;Time:5907.0;\n",
      "LaneID:28925528_0;Time:5922.0;\n",
      "LaneID:28925528_0;Time:5923.0;\n",
      "LaneID:28925528_0;Time:5924.0;\n",
      "LaneID:28925528_0;Time:5925.0;\n",
      "LaneID:28925528_0;Time:5926.0;\n",
      "LaneID:28925528_0;Time:5927.0;\n",
      "LaneID:28925528_0;Time:5928.0;\n",
      "LaneID:28925528_0;Time:5929.0;\n",
      "LaneID:28925528_0;Time:5930.0;\n",
      "LaneID:28925528_0;Time:5931.0;\n",
      "LaneID:28925528_0;Time:5932.0;\n",
      "LaneID:28925528_0;Time:5933.0;\n",
      "LaneID:28925528_0;Time:5934.0;\n",
      "LaneID:28925528_0;Time:5935.0;\n"
     ]
    },
    {
     "name": "stderr",
     "output_type": "stream",
     "text": [
      "C:\\Users\\Administrator\\AppData\\Local\\Temp\\ipykernel_16000\\2984826684.py:101: FutureWarning: The frame.append method is deprecated and will be removed from pandas in a future version. Use pandas.concat instead.\n",
      "  redFlagRecord = redFlagRecord.append(veh, ignore_index=True)\n",
      "C:\\Users\\Administrator\\AppData\\Local\\Temp\\ipykernel_16000\\2984826684.py:101: FutureWarning: The frame.append method is deprecated and will be removed from pandas in a future version. Use pandas.concat instead.\n",
      "  redFlagRecord = redFlagRecord.append(veh, ignore_index=True)\n",
      "C:\\Users\\Administrator\\AppData\\Local\\Temp\\ipykernel_16000\\2984826684.py:101: FutureWarning: The frame.append method is deprecated and will be removed from pandas in a future version. Use pandas.concat instead.\n",
      "  redFlagRecord = redFlagRecord.append(veh, ignore_index=True)\n",
      "C:\\Users\\Administrator\\AppData\\Local\\Temp\\ipykernel_16000\\2984826684.py:101: FutureWarning: The frame.append method is deprecated and will be removed from pandas in a future version. Use pandas.concat instead.\n",
      "  redFlagRecord = redFlagRecord.append(veh, ignore_index=True)\n",
      "C:\\Users\\Administrator\\AppData\\Local\\Temp\\ipykernel_16000\\2984826684.py:101: FutureWarning: The frame.append method is deprecated and will be removed from pandas in a future version. Use pandas.concat instead.\n",
      "  redFlagRecord = redFlagRecord.append(veh, ignore_index=True)\n",
      "C:\\Users\\Administrator\\AppData\\Local\\Temp\\ipykernel_16000\\2984826684.py:101: FutureWarning: The frame.append method is deprecated and will be removed from pandas in a future version. Use pandas.concat instead.\n",
      "  redFlagRecord = redFlagRecord.append(veh, ignore_index=True)\n",
      "C:\\Users\\Administrator\\AppData\\Local\\Temp\\ipykernel_16000\\2984826684.py:101: FutureWarning: The frame.append method is deprecated and will be removed from pandas in a future version. Use pandas.concat instead.\n",
      "  redFlagRecord = redFlagRecord.append(veh, ignore_index=True)\n"
     ]
    },
    {
     "name": "stdout",
     "output_type": "stream",
     "text": [
      "LaneID:28925528_0;Time:5936.0;\n",
      "LaneID:28925528_0;Time:5937.0;\n",
      "LaneID:28925528_0;Time:5938.0;\n",
      "LaneID:28925528_0;Time:5947.0;\n",
      "LaneID:28925528_0;Time:5948.0;\n",
      "LaneID:28925528_0;Time:5949.0;\n",
      "LaneID:28925528_0;Time:5950.0;\n",
      "LaneID:28925528_0;Time:5951.0;\n",
      "LaneID:28925528_0;Time:5952.0;\n",
      "LaneID:28925528_0;Time:5953.0;\n",
      "LaneID:28925528_0;Time:5954.0;\n",
      "LaneID:28925528_0;Time:5955.0;\n",
      "LaneID:28925528_0;Time:5956.0;\n",
      "LaneID:28925528_0;Time:5957.0;\n",
      "LaneID:28925528_0;Time:5958.0;\n",
      "LaneID:28925528_0;Time:5959.0;\n"
     ]
    },
    {
     "name": "stderr",
     "output_type": "stream",
     "text": [
      "C:\\Users\\Administrator\\AppData\\Local\\Temp\\ipykernel_16000\\2984826684.py:101: FutureWarning: The frame.append method is deprecated and will be removed from pandas in a future version. Use pandas.concat instead.\n",
      "  redFlagRecord = redFlagRecord.append(veh, ignore_index=True)\n",
      "C:\\Users\\Administrator\\AppData\\Local\\Temp\\ipykernel_16000\\2984826684.py:101: FutureWarning: The frame.append method is deprecated and will be removed from pandas in a future version. Use pandas.concat instead.\n",
      "  redFlagRecord = redFlagRecord.append(veh, ignore_index=True)\n",
      "C:\\Users\\Administrator\\AppData\\Local\\Temp\\ipykernel_16000\\2984826684.py:101: FutureWarning: The frame.append method is deprecated and will be removed from pandas in a future version. Use pandas.concat instead.\n",
      "  redFlagRecord = redFlagRecord.append(veh, ignore_index=True)\n",
      "C:\\Users\\Administrator\\AppData\\Local\\Temp\\ipykernel_16000\\2984826684.py:101: FutureWarning: The frame.append method is deprecated and will be removed from pandas in a future version. Use pandas.concat instead.\n",
      "  redFlagRecord = redFlagRecord.append(veh, ignore_index=True)\n",
      "C:\\Users\\Administrator\\AppData\\Local\\Temp\\ipykernel_16000\\2984826684.py:101: FutureWarning: The frame.append method is deprecated and will be removed from pandas in a future version. Use pandas.concat instead.\n",
      "  redFlagRecord = redFlagRecord.append(veh, ignore_index=True)\n",
      "C:\\Users\\Administrator\\AppData\\Local\\Temp\\ipykernel_16000\\2984826684.py:101: FutureWarning: The frame.append method is deprecated and will be removed from pandas in a future version. Use pandas.concat instead.\n",
      "  redFlagRecord = redFlagRecord.append(veh, ignore_index=True)\n"
     ]
    },
    {
     "name": "stdout",
     "output_type": "stream",
     "text": [
      "LaneID:28925528_0;Time:5960.0;\n",
      "LaneID:28925528_0;Time:5961.0;\n",
      "LaneID:28925528_0;Time:5962.0;\n",
      "LaneID:28925528_0;Time:5963.0;\n",
      "LaneID:28925528_0;Time:5964.0;\n",
      "LaneID:28925528_0;Time:5965.0;\n",
      "LaneID:28925528_0;Time:5966.0;\n"
     ]
    },
    {
     "name": "stderr",
     "output_type": "stream",
     "text": [
      "C:\\Users\\Administrator\\AppData\\Local\\Temp\\ipykernel_16000\\2984826684.py:101: FutureWarning: The frame.append method is deprecated and will be removed from pandas in a future version. Use pandas.concat instead.\n",
      "  redFlagRecord = redFlagRecord.append(veh, ignore_index=True)\n",
      "C:\\Users\\Administrator\\AppData\\Local\\Temp\\ipykernel_16000\\2984826684.py:101: FutureWarning: The frame.append method is deprecated and will be removed from pandas in a future version. Use pandas.concat instead.\n",
      "  redFlagRecord = redFlagRecord.append(veh, ignore_index=True)\n",
      "C:\\Users\\Administrator\\AppData\\Local\\Temp\\ipykernel_16000\\2984826684.py:101: FutureWarning: The frame.append method is deprecated and will be removed from pandas in a future version. Use pandas.concat instead.\n",
      "  redFlagRecord = redFlagRecord.append(veh, ignore_index=True)\n",
      "C:\\Users\\Administrator\\AppData\\Local\\Temp\\ipykernel_16000\\2984826684.py:101: FutureWarning: The frame.append method is deprecated and will be removed from pandas in a future version. Use pandas.concat instead.\n",
      "  redFlagRecord = redFlagRecord.append(veh, ignore_index=True)\n",
      "C:\\Users\\Administrator\\AppData\\Local\\Temp\\ipykernel_16000\\2984826684.py:101: FutureWarning: The frame.append method is deprecated and will be removed from pandas in a future version. Use pandas.concat instead.\n",
      "  redFlagRecord = redFlagRecord.append(veh, ignore_index=True)\n",
      "C:\\Users\\Administrator\\AppData\\Local\\Temp\\ipykernel_16000\\2984826684.py:101: FutureWarning: The frame.append method is deprecated and will be removed from pandas in a future version. Use pandas.concat instead.\n",
      "  redFlagRecord = redFlagRecord.append(veh, ignore_index=True)\n",
      "C:\\Users\\Administrator\\AppData\\Local\\Temp\\ipykernel_16000\\2984826684.py:101: FutureWarning: The frame.append method is deprecated and will be removed from pandas in a future version. Use pandas.concat instead.\n",
      "  redFlagRecord = redFlagRecord.append(veh, ignore_index=True)\n"
     ]
    },
    {
     "name": "stdout",
     "output_type": "stream",
     "text": [
      "LaneID:28925528_0;Time:5967.0;\n",
      "LaneID:28925528_0;Time:5968.0;\n",
      "LaneID:28925528_0;Time:5969.0;\n",
      "LaneID:28925528_0;Time:5972.0;\n",
      "LaneID:28925528_0;Time:5973.0;\n",
      "LaneID:28925528_0;Time:5974.0;\n",
      "LaneID:28925528_0;Time:5975.0;\n",
      "LaneID:28925528_0;Time:5976.0;\n",
      "LaneID:28925528_0;Time:5977.0;\n",
      "LaneID:28925528_0;Time:5978.0;\n",
      "LaneID:28925528_0;Time:5979.0;\n",
      "LaneID:28925528_0;Time:5980.0;\n",
      "LaneID:28925528_0;Time:5981.0;\n",
      "LaneID:28925528_0;Time:5982.0;\n",
      "LaneID:28925528_0;Time:5983.0;\n",
      "LaneID:28925528_0;Time:5984.0;\n",
      "LaneID:28925528_0;Time:5985.0;\n"
     ]
    },
    {
     "name": "stderr",
     "output_type": "stream",
     "text": [
      "C:\\Users\\Administrator\\AppData\\Local\\Temp\\ipykernel_16000\\2984826684.py:101: FutureWarning: The frame.append method is deprecated and will be removed from pandas in a future version. Use pandas.concat instead.\n",
      "  redFlagRecord = redFlagRecord.append(veh, ignore_index=True)\n",
      "C:\\Users\\Administrator\\AppData\\Local\\Temp\\ipykernel_16000\\2984826684.py:101: FutureWarning: The frame.append method is deprecated and will be removed from pandas in a future version. Use pandas.concat instead.\n",
      "  redFlagRecord = redFlagRecord.append(veh, ignore_index=True)\n",
      "C:\\Users\\Administrator\\AppData\\Local\\Temp\\ipykernel_16000\\2984826684.py:101: FutureWarning: The frame.append method is deprecated and will be removed from pandas in a future version. Use pandas.concat instead.\n",
      "  redFlagRecord = redFlagRecord.append(veh, ignore_index=True)\n",
      "C:\\Users\\Administrator\\AppData\\Local\\Temp\\ipykernel_16000\\2984826684.py:101: FutureWarning: The frame.append method is deprecated and will be removed from pandas in a future version. Use pandas.concat instead.\n",
      "  redFlagRecord = redFlagRecord.append(veh, ignore_index=True)\n",
      "C:\\Users\\Administrator\\AppData\\Local\\Temp\\ipykernel_16000\\2984826684.py:101: FutureWarning: The frame.append method is deprecated and will be removed from pandas in a future version. Use pandas.concat instead.\n",
      "  redFlagRecord = redFlagRecord.append(veh, ignore_index=True)\n",
      "C:\\Users\\Administrator\\AppData\\Local\\Temp\\ipykernel_16000\\2984826684.py:101: FutureWarning: The frame.append method is deprecated and will be removed from pandas in a future version. Use pandas.concat instead.\n",
      "  redFlagRecord = redFlagRecord.append(veh, ignore_index=True)\n",
      "C:\\Users\\Administrator\\AppData\\Local\\Temp\\ipykernel_16000\\2984826684.py:101: FutureWarning: The frame.append method is deprecated and will be removed from pandas in a future version. Use pandas.concat instead.\n",
      "  redFlagRecord = redFlagRecord.append(veh, ignore_index=True)\n"
     ]
    },
    {
     "name": "stdout",
     "output_type": "stream",
     "text": [
      "LaneID:28925528_0;Time:5986.0;\n",
      "LaneID:28925528_0;Time:5987.0;\n",
      "LaneID:28925528_0;Time:5988.0;\n",
      "LaneID:28925528_0;Time:5989.0;\n",
      "LaneID:28925528_0;Time:5990.0;\n",
      "LaneID:28925528_0;Time:5991.0;\n",
      "LaneID:28925528_0;Time:5992.0;\n"
     ]
    },
    {
     "name": "stderr",
     "output_type": "stream",
     "text": [
      "C:\\Users\\Administrator\\AppData\\Local\\Temp\\ipykernel_16000\\2984826684.py:101: FutureWarning: The frame.append method is deprecated and will be removed from pandas in a future version. Use pandas.concat instead.\n",
      "  redFlagRecord = redFlagRecord.append(veh, ignore_index=True)\n",
      "C:\\Users\\Administrator\\AppData\\Local\\Temp\\ipykernel_16000\\2984826684.py:101: FutureWarning: The frame.append method is deprecated and will be removed from pandas in a future version. Use pandas.concat instead.\n",
      "  redFlagRecord = redFlagRecord.append(veh, ignore_index=True)\n",
      "C:\\Users\\Administrator\\AppData\\Local\\Temp\\ipykernel_16000\\2984826684.py:101: FutureWarning: The frame.append method is deprecated and will be removed from pandas in a future version. Use pandas.concat instead.\n",
      "  redFlagRecord = redFlagRecord.append(veh, ignore_index=True)\n",
      "C:\\Users\\Administrator\\AppData\\Local\\Temp\\ipykernel_16000\\2984826684.py:101: FutureWarning: The frame.append method is deprecated and will be removed from pandas in a future version. Use pandas.concat instead.\n",
      "  redFlagRecord = redFlagRecord.append(veh, ignore_index=True)\n",
      "C:\\Users\\Administrator\\AppData\\Local\\Temp\\ipykernel_16000\\2984826684.py:101: FutureWarning: The frame.append method is deprecated and will be removed from pandas in a future version. Use pandas.concat instead.\n",
      "  redFlagRecord = redFlagRecord.append(veh, ignore_index=True)\n",
      "C:\\Users\\Administrator\\AppData\\Local\\Temp\\ipykernel_16000\\2984826684.py:101: FutureWarning: The frame.append method is deprecated and will be removed from pandas in a future version. Use pandas.concat instead.\n",
      "  redFlagRecord = redFlagRecord.append(veh, ignore_index=True)\n",
      "C:\\Users\\Administrator\\AppData\\Local\\Temp\\ipykernel_16000\\2984826684.py:101: FutureWarning: The frame.append method is deprecated and will be removed from pandas in a future version. Use pandas.concat instead.\n",
      "  redFlagRecord = redFlagRecord.append(veh, ignore_index=True)\n"
     ]
    },
    {
     "name": "stdout",
     "output_type": "stream",
     "text": [
      "LaneID:28925528_0;Time:5993.0;\n",
      "LaneID:28925528_0;Time:5994.0;\n",
      "LaneID:28925528_0;Time:5995.0;\n",
      "LaneID:28925528_0;Time:5996.0;\n",
      "LaneID:28925528_0;Time:5997.0;\n",
      "LaneID:28925528_0;Time:5998.0;\n",
      "LaneID:28925528_0;Time:5999.0;\n"
     ]
    },
    {
     "name": "stderr",
     "output_type": "stream",
     "text": [
      "C:\\Users\\Administrator\\AppData\\Local\\Temp\\ipykernel_16000\\2984826684.py:101: FutureWarning: The frame.append method is deprecated and will be removed from pandas in a future version. Use pandas.concat instead.\n",
      "  redFlagRecord = redFlagRecord.append(veh, ignore_index=True)\n",
      "C:\\Users\\Administrator\\AppData\\Local\\Temp\\ipykernel_16000\\2984826684.py:101: FutureWarning: The frame.append method is deprecated and will be removed from pandas in a future version. Use pandas.concat instead.\n",
      "  redFlagRecord = redFlagRecord.append(veh, ignore_index=True)\n",
      "C:\\Users\\Administrator\\AppData\\Local\\Temp\\ipykernel_16000\\2984826684.py:101: FutureWarning: The frame.append method is deprecated and will be removed from pandas in a future version. Use pandas.concat instead.\n",
      "  redFlagRecord = redFlagRecord.append(veh, ignore_index=True)\n",
      "C:\\Users\\Administrator\\AppData\\Local\\Temp\\ipykernel_16000\\2984826684.py:101: FutureWarning: The frame.append method is deprecated and will be removed from pandas in a future version. Use pandas.concat instead.\n",
      "  redFlagRecord = redFlagRecord.append(veh, ignore_index=True)\n",
      "C:\\Users\\Administrator\\AppData\\Local\\Temp\\ipykernel_16000\\2984826684.py:101: FutureWarning: The frame.append method is deprecated and will be removed from pandas in a future version. Use pandas.concat instead.\n",
      "  redFlagRecord = redFlagRecord.append(veh, ignore_index=True)\n",
      "C:\\Users\\Administrator\\AppData\\Local\\Temp\\ipykernel_16000\\2984826684.py:101: FutureWarning: The frame.append method is deprecated and will be removed from pandas in a future version. Use pandas.concat instead.\n",
      "  redFlagRecord = redFlagRecord.append(veh, ignore_index=True)\n",
      "C:\\Users\\Administrator\\AppData\\Local\\Temp\\ipykernel_16000\\2984826684.py:101: FutureWarning: The frame.append method is deprecated and will be removed from pandas in a future version. Use pandas.concat instead.\n",
      "  redFlagRecord = redFlagRecord.append(veh, ignore_index=True)\n"
     ]
    },
    {
     "name": "stdout",
     "output_type": "stream",
     "text": [
      "LaneID:28925528_0;Time:6000.0;\n",
      "LaneID:28925528_0;Time:6001.0;\n",
      "LaneID:28925528_0;Time:6002.0;\n",
      "LaneID:28925528_0;Time:6003.0;\n",
      "LaneID:28925528_0;Time:6004.0;\n",
      "LaneID:28925528_0;Time:6022.0;\n",
      "LaneID:28925528_0;Time:6023.0;\n",
      "LaneID:28925528_0;Time:6024.0;\n",
      "LaneID:28925528_0;Time:6025.0;\n",
      "LaneID:28925528_0;Time:6026.0;\n",
      "LaneID:28925528_0;Time:6027.0;\n",
      "LaneID:28925528_0;Time:6028.0;\n",
      "LaneID:28925528_0;Time:6029.0;\n",
      "LaneID:28925528_0;Time:6030.0;\n",
      "LaneID:28925528_0;Time:6031.0;\n",
      "LaneID:28925528_0;Time:6047.0;\n",
      "LaneID:28925528_0;Time:6048.0;\n",
      "LaneID:28925528_0;Time:6049.0;\n",
      "LaneID:28925528_0;Time:6050.0;\n",
      "LaneID:28925528_0;Time:6051.0;\n",
      "LaneID:28925528_0;Time:6052.0;\n",
      "LaneID:28925528_0;Time:6053.0;\n",
      "LaneID:28925528_0;Time:6054.0;\n",
      "LaneID:28925528_0;Time:6055.0;\n",
      "LaneID:28925528_0;Time:6056.0;\n",
      "LaneID:28925528_0;Time:6057.0;\n",
      "LaneID:28925528_0;Time:6058.0;\n",
      "LaneID:28925528_0;Time:6059.0;\n",
      "LaneID:28925528_0;Time:6060.0;\n",
      "LaneID:28925528_0;Time:6061.0;\n"
     ]
    },
    {
     "name": "stderr",
     "output_type": "stream",
     "text": [
      "C:\\Users\\Administrator\\AppData\\Local\\Temp\\ipykernel_16000\\2984826684.py:101: FutureWarning: The frame.append method is deprecated and will be removed from pandas in a future version. Use pandas.concat instead.\n",
      "  redFlagRecord = redFlagRecord.append(veh, ignore_index=True)\n",
      "C:\\Users\\Administrator\\AppData\\Local\\Temp\\ipykernel_16000\\2984826684.py:101: FutureWarning: The frame.append method is deprecated and will be removed from pandas in a future version. Use pandas.concat instead.\n",
      "  redFlagRecord = redFlagRecord.append(veh, ignore_index=True)\n",
      "C:\\Users\\Administrator\\AppData\\Local\\Temp\\ipykernel_16000\\2984826684.py:101: FutureWarning: The frame.append method is deprecated and will be removed from pandas in a future version. Use pandas.concat instead.\n",
      "  redFlagRecord = redFlagRecord.append(veh, ignore_index=True)\n",
      "C:\\Users\\Administrator\\AppData\\Local\\Temp\\ipykernel_16000\\2984826684.py:101: FutureWarning: The frame.append method is deprecated and will be removed from pandas in a future version. Use pandas.concat instead.\n",
      "  redFlagRecord = redFlagRecord.append(veh, ignore_index=True)\n",
      "C:\\Users\\Administrator\\AppData\\Local\\Temp\\ipykernel_16000\\2984826684.py:101: FutureWarning: The frame.append method is deprecated and will be removed from pandas in a future version. Use pandas.concat instead.\n",
      "  redFlagRecord = redFlagRecord.append(veh, ignore_index=True)\n",
      "C:\\Users\\Administrator\\AppData\\Local\\Temp\\ipykernel_16000\\2984826684.py:101: FutureWarning: The frame.append method is deprecated and will be removed from pandas in a future version. Use pandas.concat instead.\n",
      "  redFlagRecord = redFlagRecord.append(veh, ignore_index=True)\n",
      "C:\\Users\\Administrator\\AppData\\Local\\Temp\\ipykernel_16000\\2984826684.py:101: FutureWarning: The frame.append method is deprecated and will be removed from pandas in a future version. Use pandas.concat instead.\n",
      "  redFlagRecord = redFlagRecord.append(veh, ignore_index=True)\n"
     ]
    },
    {
     "name": "stdout",
     "output_type": "stream",
     "text": [
      "LaneID:28925528_0;Time:6062.0;\n",
      "LaneID:28925528_0;Time:6071.0;\n",
      "LaneID:28925528_0;Time:6072.0;\n",
      "LaneID:28925528_0;Time:6073.0;\n",
      "LaneID:28925528_0;Time:6074.0;\n",
      "LaneID:28925528_0;Time:6075.0;\n",
      "LaneID:28925528_0;Time:6076.0;\n",
      "LaneID:28925528_0;Time:6083.0;\n",
      "LaneID:28925528_0;Time:6084.0;\n",
      "LaneID:28925528_0;Time:6085.0;\n",
      "LaneID:28925528_0;Time:6086.0;\n",
      "LaneID:28925528_0;Time:6087.0;\n",
      "LaneID:28925528_0;Time:6088.0;\n"
     ]
    },
    {
     "name": "stderr",
     "output_type": "stream",
     "text": [
      "C:\\Users\\Administrator\\AppData\\Local\\Temp\\ipykernel_16000\\2984826684.py:101: FutureWarning: The frame.append method is deprecated and will be removed from pandas in a future version. Use pandas.concat instead.\n",
      "  redFlagRecord = redFlagRecord.append(veh, ignore_index=True)\n",
      "C:\\Users\\Administrator\\AppData\\Local\\Temp\\ipykernel_16000\\2984826684.py:101: FutureWarning: The frame.append method is deprecated and will be removed from pandas in a future version. Use pandas.concat instead.\n",
      "  redFlagRecord = redFlagRecord.append(veh, ignore_index=True)\n",
      "C:\\Users\\Administrator\\AppData\\Local\\Temp\\ipykernel_16000\\2984826684.py:101: FutureWarning: The frame.append method is deprecated and will be removed from pandas in a future version. Use pandas.concat instead.\n",
      "  redFlagRecord = redFlagRecord.append(veh, ignore_index=True)\n",
      "C:\\Users\\Administrator\\AppData\\Local\\Temp\\ipykernel_16000\\2984826684.py:101: FutureWarning: The frame.append method is deprecated and will be removed from pandas in a future version. Use pandas.concat instead.\n",
      "  redFlagRecord = redFlagRecord.append(veh, ignore_index=True)\n",
      "C:\\Users\\Administrator\\AppData\\Local\\Temp\\ipykernel_16000\\2984826684.py:101: FutureWarning: The frame.append method is deprecated and will be removed from pandas in a future version. Use pandas.concat instead.\n",
      "  redFlagRecord = redFlagRecord.append(veh, ignore_index=True)\n",
      "C:\\Users\\Administrator\\AppData\\Local\\Temp\\ipykernel_16000\\2984826684.py:101: FutureWarning: The frame.append method is deprecated and will be removed from pandas in a future version. Use pandas.concat instead.\n",
      "  redFlagRecord = redFlagRecord.append(veh, ignore_index=True)\n",
      "C:\\Users\\Administrator\\AppData\\Local\\Temp\\ipykernel_16000\\2984826684.py:101: FutureWarning: The frame.append method is deprecated and will be removed from pandas in a future version. Use pandas.concat instead.\n",
      "  redFlagRecord = redFlagRecord.append(veh, ignore_index=True)\n"
     ]
    },
    {
     "name": "stdout",
     "output_type": "stream",
     "text": [
      "LaneID:28925528_0;Time:6089.0;\n",
      "LaneID:28925528_0;Time:6090.0;\n",
      "LaneID:28925528_0;Time:6091.0;\n",
      "LaneID:28925528_0;Time:6092.0;\n",
      "LaneID:28925528_0;Time:6093.0;\n",
      "LaneID:28925528_0;Time:6099.0;\n",
      "LaneID:28925528_0;Time:6100.0;\n",
      "LaneID:28925528_0;Time:6101.0;\n",
      "LaneID:28925528_0;Time:6102.0;\n",
      "LaneID:28925528_0;Time:6103.0;\n",
      "LaneID:28925528_0;Time:6104.0;\n",
      "LaneID:28925528_0;Time:6105.0;\n",
      "LaneID:28925528_0;Time:6106.0;\n",
      "LaneID:28925528_0;Time:6107.0;\n",
      "LaneID:28925528_0;Time:6108.0;\n",
      "LaneID:28925528_0;Time:6109.0;\n"
     ]
    },
    {
     "name": "stderr",
     "output_type": "stream",
     "text": [
      "C:\\Users\\Administrator\\AppData\\Local\\Temp\\ipykernel_16000\\2984826684.py:101: FutureWarning: The frame.append method is deprecated and will be removed from pandas in a future version. Use pandas.concat instead.\n",
      "  redFlagRecord = redFlagRecord.append(veh, ignore_index=True)\n",
      "C:\\Users\\Administrator\\AppData\\Local\\Temp\\ipykernel_16000\\2984826684.py:101: FutureWarning: The frame.append method is deprecated and will be removed from pandas in a future version. Use pandas.concat instead.\n",
      "  redFlagRecord = redFlagRecord.append(veh, ignore_index=True)\n",
      "C:\\Users\\Administrator\\AppData\\Local\\Temp\\ipykernel_16000\\2984826684.py:101: FutureWarning: The frame.append method is deprecated and will be removed from pandas in a future version. Use pandas.concat instead.\n",
      "  redFlagRecord = redFlagRecord.append(veh, ignore_index=True)\n",
      "C:\\Users\\Administrator\\AppData\\Local\\Temp\\ipykernel_16000\\2984826684.py:101: FutureWarning: The frame.append method is deprecated and will be removed from pandas in a future version. Use pandas.concat instead.\n",
      "  redFlagRecord = redFlagRecord.append(veh, ignore_index=True)\n",
      "C:\\Users\\Administrator\\AppData\\Local\\Temp\\ipykernel_16000\\2984826684.py:101: FutureWarning: The frame.append method is deprecated and will be removed from pandas in a future version. Use pandas.concat instead.\n",
      "  redFlagRecord = redFlagRecord.append(veh, ignore_index=True)\n",
      "C:\\Users\\Administrator\\AppData\\Local\\Temp\\ipykernel_16000\\2984826684.py:101: FutureWarning: The frame.append method is deprecated and will be removed from pandas in a future version. Use pandas.concat instead.\n",
      "  redFlagRecord = redFlagRecord.append(veh, ignore_index=True)\n"
     ]
    },
    {
     "name": "stdout",
     "output_type": "stream",
     "text": [
      "LaneID:28925528_0;Time:6110.0;\n",
      "LaneID:28925528_0;Time:6111.0;\n",
      "LaneID:28925528_0;Time:6112.0;\n",
      "LaneID:28925528_0;Time:6113.0;\n",
      "LaneID:28925528_0;Time:6114.0;\n",
      "LaneID:28925528_0;Time:6115.0;\n",
      "LaneID:28925528_0;Time:6116.0;\n"
     ]
    },
    {
     "name": "stderr",
     "output_type": "stream",
     "text": [
      "C:\\Users\\Administrator\\AppData\\Local\\Temp\\ipykernel_16000\\2984826684.py:101: FutureWarning: The frame.append method is deprecated and will be removed from pandas in a future version. Use pandas.concat instead.\n",
      "  redFlagRecord = redFlagRecord.append(veh, ignore_index=True)\n",
      "C:\\Users\\Administrator\\AppData\\Local\\Temp\\ipykernel_16000\\2984826684.py:101: FutureWarning: The frame.append method is deprecated and will be removed from pandas in a future version. Use pandas.concat instead.\n",
      "  redFlagRecord = redFlagRecord.append(veh, ignore_index=True)\n",
      "C:\\Users\\Administrator\\AppData\\Local\\Temp\\ipykernel_16000\\2984826684.py:101: FutureWarning: The frame.append method is deprecated and will be removed from pandas in a future version. Use pandas.concat instead.\n",
      "  redFlagRecord = redFlagRecord.append(veh, ignore_index=True)\n",
      "C:\\Users\\Administrator\\AppData\\Local\\Temp\\ipykernel_16000\\2984826684.py:101: FutureWarning: The frame.append method is deprecated and will be removed from pandas in a future version. Use pandas.concat instead.\n",
      "  redFlagRecord = redFlagRecord.append(veh, ignore_index=True)\n",
      "C:\\Users\\Administrator\\AppData\\Local\\Temp\\ipykernel_16000\\2984826684.py:101: FutureWarning: The frame.append method is deprecated and will be removed from pandas in a future version. Use pandas.concat instead.\n",
      "  redFlagRecord = redFlagRecord.append(veh, ignore_index=True)\n",
      "C:\\Users\\Administrator\\AppData\\Local\\Temp\\ipykernel_16000\\2984826684.py:101: FutureWarning: The frame.append method is deprecated and will be removed from pandas in a future version. Use pandas.concat instead.\n",
      "  redFlagRecord = redFlagRecord.append(veh, ignore_index=True)\n",
      "C:\\Users\\Administrator\\AppData\\Local\\Temp\\ipykernel_16000\\2984826684.py:101: FutureWarning: The frame.append method is deprecated and will be removed from pandas in a future version. Use pandas.concat instead.\n",
      "  redFlagRecord = redFlagRecord.append(veh, ignore_index=True)\n"
     ]
    },
    {
     "name": "stdout",
     "output_type": "stream",
     "text": [
      "LaneID:28925528_0;Time:6117.0;\n",
      "LaneID:28925528_0;Time:6118.0;\n",
      "LaneID:28925528_0;Time:6119.0;\n",
      "LaneID:28925528_0;Time:6120.0;\n",
      "LaneID:28925528_0;Time:6121.0;\n",
      "LaneID:28925528_0;Time:6122.0;\n",
      "LaneID:28925528_0;Time:6123.0;\n"
     ]
    },
    {
     "name": "stderr",
     "output_type": "stream",
     "text": [
      "C:\\Users\\Administrator\\AppData\\Local\\Temp\\ipykernel_16000\\2984826684.py:101: FutureWarning: The frame.append method is deprecated and will be removed from pandas in a future version. Use pandas.concat instead.\n",
      "  redFlagRecord = redFlagRecord.append(veh, ignore_index=True)\n",
      "C:\\Users\\Administrator\\AppData\\Local\\Temp\\ipykernel_16000\\2984826684.py:101: FutureWarning: The frame.append method is deprecated and will be removed from pandas in a future version. Use pandas.concat instead.\n",
      "  redFlagRecord = redFlagRecord.append(veh, ignore_index=True)\n",
      "C:\\Users\\Administrator\\AppData\\Local\\Temp\\ipykernel_16000\\2984826684.py:101: FutureWarning: The frame.append method is deprecated and will be removed from pandas in a future version. Use pandas.concat instead.\n",
      "  redFlagRecord = redFlagRecord.append(veh, ignore_index=True)\n",
      "C:\\Users\\Administrator\\AppData\\Local\\Temp\\ipykernel_16000\\2984826684.py:101: FutureWarning: The frame.append method is deprecated and will be removed from pandas in a future version. Use pandas.concat instead.\n",
      "  redFlagRecord = redFlagRecord.append(veh, ignore_index=True)\n",
      "C:\\Users\\Administrator\\AppData\\Local\\Temp\\ipykernel_16000\\2984826684.py:101: FutureWarning: The frame.append method is deprecated and will be removed from pandas in a future version. Use pandas.concat instead.\n",
      "  redFlagRecord = redFlagRecord.append(veh, ignore_index=True)\n",
      "C:\\Users\\Administrator\\AppData\\Local\\Temp\\ipykernel_16000\\2984826684.py:101: FutureWarning: The frame.append method is deprecated and will be removed from pandas in a future version. Use pandas.concat instead.\n",
      "  redFlagRecord = redFlagRecord.append(veh, ignore_index=True)\n",
      "C:\\Users\\Administrator\\AppData\\Local\\Temp\\ipykernel_16000\\2984826684.py:101: FutureWarning: The frame.append method is deprecated and will be removed from pandas in a future version. Use pandas.concat instead.\n",
      "  redFlagRecord = redFlagRecord.append(veh, ignore_index=True)\n"
     ]
    },
    {
     "name": "stdout",
     "output_type": "stream",
     "text": [
      "LaneID:28925528_0;Time:6124.0;\n",
      "LaneID:28925528_0;Time:6125.0;\n",
      "LaneID:28925528_0;Time:6126.0;\n",
      "LaneID:28925528_0;Time:6127.0;\n",
      "LaneID:28925528_0;Time:6128.0;\n",
      "LaneID:28925528_0;Time:6147.0;\n",
      "LaneID:28925528_0;Time:6148.0;\n",
      "LaneID:28925528_0;Time:6149.0;\n",
      "LaneID:28925528_0;Time:6150.0;\n",
      "LaneID:28925528_0;Time:6151.0;\n",
      "LaneID:28925528_0;Time:6152.0;\n",
      "LaneID:28925528_0;Time:6153.0;\n",
      "LaneID:28925528_0;Time:6154.0;\n",
      "LaneID:28925528_0;Time:6155.0;\n",
      "LaneID:28925528_0;Time:6172.0;\n",
      "LaneID:28925528_0;Time:6173.0;\n",
      "LaneID:28925528_0;Time:6174.0;\n",
      "LaneID:28925528_0;Time:6175.0;\n",
      "LaneID:28925528_0;Time:6176.0;\n",
      "LaneID:28925528_0;Time:6177.0;\n",
      "LaneID:28925528_0;Time:6178.0;\n",
      "LaneID:28925528_0;Time:6179.0;\n",
      "LaneID:28925528_0;Time:6186.0;\n",
      "LaneID:28925528_0;Time:6196.0;\n",
      "LaneID:28925528_0;Time:6197.0;\n",
      "LaneID:28925528_0;Time:6198.0;\n",
      "LaneID:28925528_0;Time:6199.0;\n",
      "LaneID:28925528_0;Time:6200.0;\n",
      "LaneID:28925528_0;Time:6201.0;\n",
      "LaneID:28925528_0;Time:6202.0;\n",
      "LaneID:28925528_0;Time:6203.0;\n",
      "LaneID:28925528_0;Time:6204.0;\n",
      "LaneID:28925528_0;Time:6205.0;\n",
      "LaneID:28925528_0;Time:6206.0;\n",
      "LaneID:28925528_0;Time:6207.0;\n",
      "LaneID:28925528_0;Time:6208.0;\n"
     ]
    },
    {
     "name": "stderr",
     "output_type": "stream",
     "text": [
      "C:\\Users\\Administrator\\AppData\\Local\\Temp\\ipykernel_16000\\2984826684.py:101: FutureWarning: The frame.append method is deprecated and will be removed from pandas in a future version. Use pandas.concat instead.\n",
      "  redFlagRecord = redFlagRecord.append(veh, ignore_index=True)\n",
      "C:\\Users\\Administrator\\AppData\\Local\\Temp\\ipykernel_16000\\2984826684.py:101: FutureWarning: The frame.append method is deprecated and will be removed from pandas in a future version. Use pandas.concat instead.\n",
      "  redFlagRecord = redFlagRecord.append(veh, ignore_index=True)\n",
      "C:\\Users\\Administrator\\AppData\\Local\\Temp\\ipykernel_16000\\2984826684.py:101: FutureWarning: The frame.append method is deprecated and will be removed from pandas in a future version. Use pandas.concat instead.\n",
      "  redFlagRecord = redFlagRecord.append(veh, ignore_index=True)\n",
      "C:\\Users\\Administrator\\AppData\\Local\\Temp\\ipykernel_16000\\2984826684.py:101: FutureWarning: The frame.append method is deprecated and will be removed from pandas in a future version. Use pandas.concat instead.\n",
      "  redFlagRecord = redFlagRecord.append(veh, ignore_index=True)\n",
      "C:\\Users\\Administrator\\AppData\\Local\\Temp\\ipykernel_16000\\2984826684.py:101: FutureWarning: The frame.append method is deprecated and will be removed from pandas in a future version. Use pandas.concat instead.\n",
      "  redFlagRecord = redFlagRecord.append(veh, ignore_index=True)\n",
      "C:\\Users\\Administrator\\AppData\\Local\\Temp\\ipykernel_16000\\2984826684.py:101: FutureWarning: The frame.append method is deprecated and will be removed from pandas in a future version. Use pandas.concat instead.\n",
      "  redFlagRecord = redFlagRecord.append(veh, ignore_index=True)\n",
      "C:\\Users\\Administrator\\AppData\\Local\\Temp\\ipykernel_16000\\2984826684.py:101: FutureWarning: The frame.append method is deprecated and will be removed from pandas in a future version. Use pandas.concat instead.\n",
      "  redFlagRecord = redFlagRecord.append(veh, ignore_index=True)\n"
     ]
    },
    {
     "name": "stdout",
     "output_type": "stream",
     "text": [
      "LaneID:28925528_0;Time:6209.0;\n",
      "LaneID:28925528_0;Time:6210.0;\n",
      "LaneID:28925528_0;Time:6211.0;\n",
      "LaneID:28925528_0;Time:6212.0;\n",
      "LaneID:28925528_0;Time:6213.0;\n",
      "LaneID:28925528_0;Time:6214.0;\n",
      "LaneID:28925528_0;Time:6215.0;\n"
     ]
    },
    {
     "name": "stderr",
     "output_type": "stream",
     "text": [
      "C:\\Users\\Administrator\\AppData\\Local\\Temp\\ipykernel_16000\\2984826684.py:101: FutureWarning: The frame.append method is deprecated and will be removed from pandas in a future version. Use pandas.concat instead.\n",
      "  redFlagRecord = redFlagRecord.append(veh, ignore_index=True)\n",
      "C:\\Users\\Administrator\\AppData\\Local\\Temp\\ipykernel_16000\\2984826684.py:101: FutureWarning: The frame.append method is deprecated and will be removed from pandas in a future version. Use pandas.concat instead.\n",
      "  redFlagRecord = redFlagRecord.append(veh, ignore_index=True)\n",
      "C:\\Users\\Administrator\\AppData\\Local\\Temp\\ipykernel_16000\\2984826684.py:101: FutureWarning: The frame.append method is deprecated and will be removed from pandas in a future version. Use pandas.concat instead.\n",
      "  redFlagRecord = redFlagRecord.append(veh, ignore_index=True)\n",
      "C:\\Users\\Administrator\\AppData\\Local\\Temp\\ipykernel_16000\\2984826684.py:101: FutureWarning: The frame.append method is deprecated and will be removed from pandas in a future version. Use pandas.concat instead.\n",
      "  redFlagRecord = redFlagRecord.append(veh, ignore_index=True)\n",
      "C:\\Users\\Administrator\\AppData\\Local\\Temp\\ipykernel_16000\\2984826684.py:101: FutureWarning: The frame.append method is deprecated and will be removed from pandas in a future version. Use pandas.concat instead.\n",
      "  redFlagRecord = redFlagRecord.append(veh, ignore_index=True)\n",
      "C:\\Users\\Administrator\\AppData\\Local\\Temp\\ipykernel_16000\\2984826684.py:101: FutureWarning: The frame.append method is deprecated and will be removed from pandas in a future version. Use pandas.concat instead.\n",
      "  redFlagRecord = redFlagRecord.append(veh, ignore_index=True)\n",
      "C:\\Users\\Administrator\\AppData\\Local\\Temp\\ipykernel_16000\\2984826684.py:101: FutureWarning: The frame.append method is deprecated and will be removed from pandas in a future version. Use pandas.concat instead.\n",
      "  redFlagRecord = redFlagRecord.append(veh, ignore_index=True)\n"
     ]
    },
    {
     "name": "stdout",
     "output_type": "stream",
     "text": [
      "LaneID:28925528_0;Time:6216.0;\n",
      "LaneID:28925528_0;Time:6217.0;\n",
      "LaneID:28925528_0;Time:6221.0;\n",
      "LaneID:28925528_0;Time:6222.0;\n",
      "LaneID:28925528_0;Time:6223.0;\n",
      "LaneID:28925528_0;Time:6224.0;\n",
      "LaneID:28925528_0;Time:6225.0;\n",
      "LaneID:28925528_0;Time:6226.0;\n",
      "LaneID:28925528_0;Time:6227.0;\n",
      "LaneID:28925528_0;Time:6228.0;\n",
      "LaneID:28925528_0;Time:6229.0;\n",
      "LaneID:28925528_0;Time:6230.0;\n",
      "LaneID:28925528_0;Time:6231.0;\n",
      "LaneID:28925528_0;Time:6232.0;\n",
      "LaneID:28925528_0;Time:6233.0;\n",
      "LaneID:28925528_0;Time:6234.0;\n"
     ]
    },
    {
     "name": "stderr",
     "output_type": "stream",
     "text": [
      "C:\\Users\\Administrator\\AppData\\Local\\Temp\\ipykernel_16000\\2984826684.py:101: FutureWarning: The frame.append method is deprecated and will be removed from pandas in a future version. Use pandas.concat instead.\n",
      "  redFlagRecord = redFlagRecord.append(veh, ignore_index=True)\n",
      "C:\\Users\\Administrator\\AppData\\Local\\Temp\\ipykernel_16000\\2984826684.py:101: FutureWarning: The frame.append method is deprecated and will be removed from pandas in a future version. Use pandas.concat instead.\n",
      "  redFlagRecord = redFlagRecord.append(veh, ignore_index=True)\n",
      "C:\\Users\\Administrator\\AppData\\Local\\Temp\\ipykernel_16000\\2984826684.py:101: FutureWarning: The frame.append method is deprecated and will be removed from pandas in a future version. Use pandas.concat instead.\n",
      "  redFlagRecord = redFlagRecord.append(veh, ignore_index=True)\n",
      "C:\\Users\\Administrator\\AppData\\Local\\Temp\\ipykernel_16000\\2984826684.py:101: FutureWarning: The frame.append method is deprecated and will be removed from pandas in a future version. Use pandas.concat instead.\n",
      "  redFlagRecord = redFlagRecord.append(veh, ignore_index=True)\n",
      "C:\\Users\\Administrator\\AppData\\Local\\Temp\\ipykernel_16000\\2984826684.py:101: FutureWarning: The frame.append method is deprecated and will be removed from pandas in a future version. Use pandas.concat instead.\n",
      "  redFlagRecord = redFlagRecord.append(veh, ignore_index=True)\n",
      "C:\\Users\\Administrator\\AppData\\Local\\Temp\\ipykernel_16000\\2984826684.py:101: FutureWarning: The frame.append method is deprecated and will be removed from pandas in a future version. Use pandas.concat instead.\n",
      "  redFlagRecord = redFlagRecord.append(veh, ignore_index=True)\n",
      "C:\\Users\\Administrator\\AppData\\Local\\Temp\\ipykernel_16000\\2984826684.py:101: FutureWarning: The frame.append method is deprecated and will be removed from pandas in a future version. Use pandas.concat instead.\n",
      "  redFlagRecord = redFlagRecord.append(veh, ignore_index=True)\n"
     ]
    },
    {
     "name": "stdout",
     "output_type": "stream",
     "text": [
      "LaneID:28925528_0;Time:6235.0;\n",
      "LaneID:28925528_0;Time:6236.0;\n",
      "LaneID:28925528_0;Time:6237.0;\n",
      "LaneID:28925528_0;Time:6238.0;\n",
      "LaneID:28925528_0;Time:6239.0;\n",
      "LaneID:28925528_0;Time:6240.0;\n",
      "LaneID:28925528_0;Time:6241.0;\n"
     ]
    },
    {
     "name": "stderr",
     "output_type": "stream",
     "text": [
      "C:\\Users\\Administrator\\AppData\\Local\\Temp\\ipykernel_16000\\2984826684.py:101: FutureWarning: The frame.append method is deprecated and will be removed from pandas in a future version. Use pandas.concat instead.\n",
      "  redFlagRecord = redFlagRecord.append(veh, ignore_index=True)\n",
      "C:\\Users\\Administrator\\AppData\\Local\\Temp\\ipykernel_16000\\2984826684.py:101: FutureWarning: The frame.append method is deprecated and will be removed from pandas in a future version. Use pandas.concat instead.\n",
      "  redFlagRecord = redFlagRecord.append(veh, ignore_index=True)\n",
      "C:\\Users\\Administrator\\AppData\\Local\\Temp\\ipykernel_16000\\2984826684.py:101: FutureWarning: The frame.append method is deprecated and will be removed from pandas in a future version. Use pandas.concat instead.\n",
      "  redFlagRecord = redFlagRecord.append(veh, ignore_index=True)\n",
      "C:\\Users\\Administrator\\AppData\\Local\\Temp\\ipykernel_16000\\2984826684.py:101: FutureWarning: The frame.append method is deprecated and will be removed from pandas in a future version. Use pandas.concat instead.\n",
      "  redFlagRecord = redFlagRecord.append(veh, ignore_index=True)\n",
      "C:\\Users\\Administrator\\AppData\\Local\\Temp\\ipykernel_16000\\2984826684.py:101: FutureWarning: The frame.append method is deprecated and will be removed from pandas in a future version. Use pandas.concat instead.\n",
      "  redFlagRecord = redFlagRecord.append(veh, ignore_index=True)\n",
      "C:\\Users\\Administrator\\AppData\\Local\\Temp\\ipykernel_16000\\2984826684.py:101: FutureWarning: The frame.append method is deprecated and will be removed from pandas in a future version. Use pandas.concat instead.\n",
      "  redFlagRecord = redFlagRecord.append(veh, ignore_index=True)\n",
      "C:\\Users\\Administrator\\AppData\\Local\\Temp\\ipykernel_16000\\2984826684.py:101: FutureWarning: The frame.append method is deprecated and will be removed from pandas in a future version. Use pandas.concat instead.\n",
      "  redFlagRecord = redFlagRecord.append(veh, ignore_index=True)\n"
     ]
    },
    {
     "name": "stdout",
     "output_type": "stream",
     "text": [
      "LaneID:28925528_0;Time:6242.0;\n",
      "LaneID:28925528_0;Time:6243.0;\n",
      "LaneID:28925528_0;Time:6244.0;\n",
      "LaneID:28925528_0;Time:6245.0;\n",
      "LaneID:28925528_0;Time:6246.0;\n",
      "LaneID:28925528_0;Time:6247.0;\n",
      "LaneID:28925528_0;Time:6248.0;\n"
     ]
    },
    {
     "name": "stderr",
     "output_type": "stream",
     "text": [
      "C:\\Users\\Administrator\\AppData\\Local\\Temp\\ipykernel_16000\\2984826684.py:101: FutureWarning: The frame.append method is deprecated and will be removed from pandas in a future version. Use pandas.concat instead.\n",
      "  redFlagRecord = redFlagRecord.append(veh, ignore_index=True)\n",
      "C:\\Users\\Administrator\\AppData\\Local\\Temp\\ipykernel_16000\\2984826684.py:101: FutureWarning: The frame.append method is deprecated and will be removed from pandas in a future version. Use pandas.concat instead.\n",
      "  redFlagRecord = redFlagRecord.append(veh, ignore_index=True)\n",
      "C:\\Users\\Administrator\\AppData\\Local\\Temp\\ipykernel_16000\\2984826684.py:101: FutureWarning: The frame.append method is deprecated and will be removed from pandas in a future version. Use pandas.concat instead.\n",
      "  redFlagRecord = redFlagRecord.append(veh, ignore_index=True)\n",
      "C:\\Users\\Administrator\\AppData\\Local\\Temp\\ipykernel_16000\\2984826684.py:101: FutureWarning: The frame.append method is deprecated and will be removed from pandas in a future version. Use pandas.concat instead.\n",
      "  redFlagRecord = redFlagRecord.append(veh, ignore_index=True)\n",
      "C:\\Users\\Administrator\\AppData\\Local\\Temp\\ipykernel_16000\\2984826684.py:101: FutureWarning: The frame.append method is deprecated and will be removed from pandas in a future version. Use pandas.concat instead.\n",
      "  redFlagRecord = redFlagRecord.append(veh, ignore_index=True)\n"
     ]
    },
    {
     "name": "stdout",
     "output_type": "stream",
     "text": [
      "LaneID:28925528_0;Time:6249.0;\n",
      "LaneID:28925528_0;Time:6250.0;\n",
      "LaneID:28925528_0;Time:6251.0;\n",
      "LaneID:28925528_0;Time:6272.0;\n",
      "LaneID:28925528_0;Time:6273.0;\n",
      "LaneID:28925528_0;Time:6274.0;\n",
      "LaneID:28925528_0;Time:6275.0;\n",
      "LaneID:28925528_0;Time:6276.0;\n",
      "LaneID:28925528_0;Time:6277.0;\n",
      "LaneID:28925528_0;Time:6278.0;\n",
      "LaneID:28925528_0;Time:6279.0;\n",
      "LaneID:28925528_0;Time:6297.0;\n",
      "LaneID:28925528_0;Time:6298.0;\n",
      "LaneID:28925528_0;Time:6299.0;\n",
      "LaneID:28925528_0;Time:6300.0;\n",
      "LaneID:28925528_0;Time:6301.0;\n",
      "LaneID:28925528_0;Time:6302.0;\n",
      "LaneID:28925528_0;Time:6303.0;\n",
      "LaneID:28925528_0;Time:6304.0;\n",
      "LaneID:28925528_0;Time:6305.0;\n",
      "LaneID:28925528_0;Time:6306.0;\n",
      "LaneID:28925528_0;Time:6307.0;\n",
      "LaneID:28925528_0;Time:6308.0;\n",
      "LaneID:28925528_0;Time:6309.0;\n",
      "LaneID:28925528_0;Time:6310.0;\n",
      "LaneID:28925528_0;Time:6326.0;\n",
      "LaneID:28925528_0;Time:6327.0;\n",
      "LaneID:28925528_0;Time:6328.0;\n",
      "LaneID:28925528_0;Time:6329.0;\n",
      "LaneID:28925528_0;Time:6330.0;\n",
      "LaneID:28925528_0;Time:6331.0;\n",
      "LaneID:28925528_0;Time:6332.0;\n",
      "LaneID:28925528_0;Time:6333.0;\n",
      "LaneID:28925528_0;Time:6334.0;\n",
      "LaneID:28925528_0;Time:6335.0;\n"
     ]
    },
    {
     "name": "stderr",
     "output_type": "stream",
     "text": [
      "C:\\Users\\Administrator\\AppData\\Local\\Temp\\ipykernel_16000\\2984826684.py:101: FutureWarning: The frame.append method is deprecated and will be removed from pandas in a future version. Use pandas.concat instead.\n",
      "  redFlagRecord = redFlagRecord.append(veh, ignore_index=True)\n",
      "C:\\Users\\Administrator\\AppData\\Local\\Temp\\ipykernel_16000\\2984826684.py:101: FutureWarning: The frame.append method is deprecated and will be removed from pandas in a future version. Use pandas.concat instead.\n",
      "  redFlagRecord = redFlagRecord.append(veh, ignore_index=True)\n",
      "C:\\Users\\Administrator\\AppData\\Local\\Temp\\ipykernel_16000\\2984826684.py:101: FutureWarning: The frame.append method is deprecated and will be removed from pandas in a future version. Use pandas.concat instead.\n",
      "  redFlagRecord = redFlagRecord.append(veh, ignore_index=True)\n",
      "C:\\Users\\Administrator\\AppData\\Local\\Temp\\ipykernel_16000\\2984826684.py:101: FutureWarning: The frame.append method is deprecated and will be removed from pandas in a future version. Use pandas.concat instead.\n",
      "  redFlagRecord = redFlagRecord.append(veh, ignore_index=True)\n",
      "C:\\Users\\Administrator\\AppData\\Local\\Temp\\ipykernel_16000\\2984826684.py:101: FutureWarning: The frame.append method is deprecated and will be removed from pandas in a future version. Use pandas.concat instead.\n",
      "  redFlagRecord = redFlagRecord.append(veh, ignore_index=True)\n",
      "C:\\Users\\Administrator\\AppData\\Local\\Temp\\ipykernel_16000\\2984826684.py:101: FutureWarning: The frame.append method is deprecated and will be removed from pandas in a future version. Use pandas.concat instead.\n",
      "  redFlagRecord = redFlagRecord.append(veh, ignore_index=True)\n"
     ]
    },
    {
     "name": "stdout",
     "output_type": "stream",
     "text": [
      "LaneID:28925528_0;Time:6336.0;\n",
      "LaneID:28925528_0;Time:6337.0;\n",
      "LaneID:28925528_0;Time:6338.0;\n",
      "LaneID:28925528_0;Time:6339.0;\n",
      "LaneID:28925528_0;Time:6340.0;\n",
      "LaneID:28925528_0;Time:6341.0;\n",
      "LaneID:28925528_0;Time:6350.0;\n",
      "LaneID:28925528_0;Time:6351.0;\n",
      "LaneID:28925528_0;Time:6352.0;\n",
      "LaneID:28925528_0;Time:6353.0;\n",
      "LaneID:28925528_0;Time:6354.0;\n",
      "LaneID:28925528_0;Time:6355.0;\n",
      "LaneID:28925528_0;Time:6362.0;\n"
     ]
    },
    {
     "name": "stderr",
     "output_type": "stream",
     "text": [
      "C:\\Users\\Administrator\\AppData\\Local\\Temp\\ipykernel_16000\\2984826684.py:101: FutureWarning: The frame.append method is deprecated and will be removed from pandas in a future version. Use pandas.concat instead.\n",
      "  redFlagRecord = redFlagRecord.append(veh, ignore_index=True)\n",
      "C:\\Users\\Administrator\\AppData\\Local\\Temp\\ipykernel_16000\\2984826684.py:101: FutureWarning: The frame.append method is deprecated and will be removed from pandas in a future version. Use pandas.concat instead.\n",
      "  redFlagRecord = redFlagRecord.append(veh, ignore_index=True)\n",
      "C:\\Users\\Administrator\\AppData\\Local\\Temp\\ipykernel_16000\\2984826684.py:101: FutureWarning: The frame.append method is deprecated and will be removed from pandas in a future version. Use pandas.concat instead.\n",
      "  redFlagRecord = redFlagRecord.append(veh, ignore_index=True)\n",
      "C:\\Users\\Administrator\\AppData\\Local\\Temp\\ipykernel_16000\\2984826684.py:101: FutureWarning: The frame.append method is deprecated and will be removed from pandas in a future version. Use pandas.concat instead.\n",
      "  redFlagRecord = redFlagRecord.append(veh, ignore_index=True)\n",
      "C:\\Users\\Administrator\\AppData\\Local\\Temp\\ipykernel_16000\\2984826684.py:101: FutureWarning: The frame.append method is deprecated and will be removed from pandas in a future version. Use pandas.concat instead.\n",
      "  redFlagRecord = redFlagRecord.append(veh, ignore_index=True)\n",
      "C:\\Users\\Administrator\\AppData\\Local\\Temp\\ipykernel_16000\\2984826684.py:101: FutureWarning: The frame.append method is deprecated and will be removed from pandas in a future version. Use pandas.concat instead.\n",
      "  redFlagRecord = redFlagRecord.append(veh, ignore_index=True)\n",
      "C:\\Users\\Administrator\\AppData\\Local\\Temp\\ipykernel_16000\\2984826684.py:101: FutureWarning: The frame.append method is deprecated and will be removed from pandas in a future version. Use pandas.concat instead.\n",
      "  redFlagRecord = redFlagRecord.append(veh, ignore_index=True)\n"
     ]
    },
    {
     "name": "stdout",
     "output_type": "stream",
     "text": [
      "LaneID:28925528_0;Time:6363.0;\n",
      "LaneID:28925528_0;Time:6364.0;\n",
      "LaneID:28925528_0;Time:6365.0;\n",
      "LaneID:28925528_0;Time:6366.0;\n",
      "LaneID:28925528_0;Time:6367.0;\n",
      "LaneID:28925528_0;Time:6368.0;\n"
     ]
    },
    {
     "name": "stderr",
     "output_type": "stream",
     "text": [
      "C:\\Users\\Administrator\\AppData\\Local\\Temp\\ipykernel_16000\\2984826684.py:101: FutureWarning: The frame.append method is deprecated and will be removed from pandas in a future version. Use pandas.concat instead.\n",
      "  redFlagRecord = redFlagRecord.append(veh, ignore_index=True)\n",
      "C:\\Users\\Administrator\\AppData\\Local\\Temp\\ipykernel_16000\\2984826684.py:101: FutureWarning: The frame.append method is deprecated and will be removed from pandas in a future version. Use pandas.concat instead.\n",
      "  redFlagRecord = redFlagRecord.append(veh, ignore_index=True)\n",
      "C:\\Users\\Administrator\\AppData\\Local\\Temp\\ipykernel_16000\\2984826684.py:101: FutureWarning: The frame.append method is deprecated and will be removed from pandas in a future version. Use pandas.concat instead.\n",
      "  redFlagRecord = redFlagRecord.append(veh, ignore_index=True)\n",
      "C:\\Users\\Administrator\\AppData\\Local\\Temp\\ipykernel_16000\\2984826684.py:101: FutureWarning: The frame.append method is deprecated and will be removed from pandas in a future version. Use pandas.concat instead.\n",
      "  redFlagRecord = redFlagRecord.append(veh, ignore_index=True)\n",
      "C:\\Users\\Administrator\\AppData\\Local\\Temp\\ipykernel_16000\\2984826684.py:101: FutureWarning: The frame.append method is deprecated and will be removed from pandas in a future version. Use pandas.concat instead.\n",
      "  redFlagRecord = redFlagRecord.append(veh, ignore_index=True)\n",
      "C:\\Users\\Administrator\\AppData\\Local\\Temp\\ipykernel_16000\\2984826684.py:101: FutureWarning: The frame.append method is deprecated and will be removed from pandas in a future version. Use pandas.concat instead.\n",
      "  redFlagRecord = redFlagRecord.append(veh, ignore_index=True)\n"
     ]
    },
    {
     "name": "stdout",
     "output_type": "stream",
     "text": [
      "LaneID:28925528_0;Time:6369.0;\n",
      "LaneID:28925528_0;Time:6370.0;\n",
      "LaneID:28925528_0;Time:6371.0;\n",
      "LaneID:28925528_0;Time:6372.0;\n",
      "LaneID:28925528_0;Time:6377.0;\n",
      "LaneID:28925528_0;Time:6378.0;\n",
      "LaneID:28925528_0;Time:6379.0;\n",
      "LaneID:28925528_0;Time:6380.0;\n",
      "LaneID:28925528_0;Time:6381.0;\n",
      "LaneID:28925528_0;Time:6382.0;\n",
      "LaneID:28925528_0;Time:6383.0;\n",
      "LaneID:28925528_0;Time:6384.0;\n",
      "LaneID:28925528_0;Time:6385.0;\n",
      "LaneID:28925528_0;Time:6386.0;\n",
      "LaneID:28925528_0;Time:6387.0;\n",
      "LaneID:28925528_0;Time:6388.0;\n"
     ]
    },
    {
     "name": "stderr",
     "output_type": "stream",
     "text": [
      "C:\\Users\\Administrator\\AppData\\Local\\Temp\\ipykernel_16000\\2984826684.py:101: FutureWarning: The frame.append method is deprecated and will be removed from pandas in a future version. Use pandas.concat instead.\n",
      "  redFlagRecord = redFlagRecord.append(veh, ignore_index=True)\n",
      "C:\\Users\\Administrator\\AppData\\Local\\Temp\\ipykernel_16000\\2984826684.py:101: FutureWarning: The frame.append method is deprecated and will be removed from pandas in a future version. Use pandas.concat instead.\n",
      "  redFlagRecord = redFlagRecord.append(veh, ignore_index=True)\n",
      "C:\\Users\\Administrator\\AppData\\Local\\Temp\\ipykernel_16000\\2984826684.py:101: FutureWarning: The frame.append method is deprecated and will be removed from pandas in a future version. Use pandas.concat instead.\n",
      "  redFlagRecord = redFlagRecord.append(veh, ignore_index=True)\n",
      "C:\\Users\\Administrator\\AppData\\Local\\Temp\\ipykernel_16000\\2984826684.py:101: FutureWarning: The frame.append method is deprecated and will be removed from pandas in a future version. Use pandas.concat instead.\n",
      "  redFlagRecord = redFlagRecord.append(veh, ignore_index=True)\n",
      "C:\\Users\\Administrator\\AppData\\Local\\Temp\\ipykernel_16000\\2984826684.py:101: FutureWarning: The frame.append method is deprecated and will be removed from pandas in a future version. Use pandas.concat instead.\n",
      "  redFlagRecord = redFlagRecord.append(veh, ignore_index=True)\n",
      "C:\\Users\\Administrator\\AppData\\Local\\Temp\\ipykernel_16000\\2984826684.py:101: FutureWarning: The frame.append method is deprecated and will be removed from pandas in a future version. Use pandas.concat instead.\n",
      "  redFlagRecord = redFlagRecord.append(veh, ignore_index=True)\n"
     ]
    },
    {
     "name": "stdout",
     "output_type": "stream",
     "text": [
      "LaneID:28925528_0;Time:6389.0;\n",
      "LaneID:28925528_0;Time:6390.0;\n",
      "LaneID:28925528_0;Time:6391.0;\n",
      "LaneID:28925528_0;Time:6392.0;\n",
      "LaneID:28925528_0;Time:6393.0;\n",
      "LaneID:28925528_0;Time:6394.0;\n",
      "LaneID:28925528_0;Time:6395.0;\n"
     ]
    },
    {
     "name": "stderr",
     "output_type": "stream",
     "text": [
      "C:\\Users\\Administrator\\AppData\\Local\\Temp\\ipykernel_16000\\2984826684.py:101: FutureWarning: The frame.append method is deprecated and will be removed from pandas in a future version. Use pandas.concat instead.\n",
      "  redFlagRecord = redFlagRecord.append(veh, ignore_index=True)\n",
      "C:\\Users\\Administrator\\AppData\\Local\\Temp\\ipykernel_16000\\2984826684.py:101: FutureWarning: The frame.append method is deprecated and will be removed from pandas in a future version. Use pandas.concat instead.\n",
      "  redFlagRecord = redFlagRecord.append(veh, ignore_index=True)\n",
      "C:\\Users\\Administrator\\AppData\\Local\\Temp\\ipykernel_16000\\2984826684.py:101: FutureWarning: The frame.append method is deprecated and will be removed from pandas in a future version. Use pandas.concat instead.\n",
      "  redFlagRecord = redFlagRecord.append(veh, ignore_index=True)\n",
      "C:\\Users\\Administrator\\AppData\\Local\\Temp\\ipykernel_16000\\2984826684.py:101: FutureWarning: The frame.append method is deprecated and will be removed from pandas in a future version. Use pandas.concat instead.\n",
      "  redFlagRecord = redFlagRecord.append(veh, ignore_index=True)\n",
      "C:\\Users\\Administrator\\AppData\\Local\\Temp\\ipykernel_16000\\2984826684.py:101: FutureWarning: The frame.append method is deprecated and will be removed from pandas in a future version. Use pandas.concat instead.\n",
      "  redFlagRecord = redFlagRecord.append(veh, ignore_index=True)\n",
      "C:\\Users\\Administrator\\AppData\\Local\\Temp\\ipykernel_16000\\2984826684.py:101: FutureWarning: The frame.append method is deprecated and will be removed from pandas in a future version. Use pandas.concat instead.\n",
      "  redFlagRecord = redFlagRecord.append(veh, ignore_index=True)\n",
      "C:\\Users\\Administrator\\AppData\\Local\\Temp\\ipykernel_16000\\2984826684.py:101: FutureWarning: The frame.append method is deprecated and will be removed from pandas in a future version. Use pandas.concat instead.\n",
      "  redFlagRecord = redFlagRecord.append(veh, ignore_index=True)\n"
     ]
    },
    {
     "name": "stdout",
     "output_type": "stream",
     "text": [
      "LaneID:28925528_0;Time:6396.0;\n",
      "LaneID:28925528_0;Time:6397.0;\n",
      "LaneID:28925528_0;Time:6398.0;\n",
      "LaneID:28925528_0;Time:6399.0;\n",
      "LaneID:28925528_0;Time:6400.0;\n",
      "LaneID:28925528_0;Time:6401.0;\n",
      "LaneID:28925528_0;Time:6402.0;\n"
     ]
    },
    {
     "name": "stderr",
     "output_type": "stream",
     "text": [
      "C:\\Users\\Administrator\\AppData\\Local\\Temp\\ipykernel_16000\\2984826684.py:101: FutureWarning: The frame.append method is deprecated and will be removed from pandas in a future version. Use pandas.concat instead.\n",
      "  redFlagRecord = redFlagRecord.append(veh, ignore_index=True)\n",
      "C:\\Users\\Administrator\\AppData\\Local\\Temp\\ipykernel_16000\\2984826684.py:101: FutureWarning: The frame.append method is deprecated and will be removed from pandas in a future version. Use pandas.concat instead.\n",
      "  redFlagRecord = redFlagRecord.append(veh, ignore_index=True)\n",
      "C:\\Users\\Administrator\\AppData\\Local\\Temp\\ipykernel_16000\\2984826684.py:101: FutureWarning: The frame.append method is deprecated and will be removed from pandas in a future version. Use pandas.concat instead.\n",
      "  redFlagRecord = redFlagRecord.append(veh, ignore_index=True)\n",
      "C:\\Users\\Administrator\\AppData\\Local\\Temp\\ipykernel_16000\\2984826684.py:101: FutureWarning: The frame.append method is deprecated and will be removed from pandas in a future version. Use pandas.concat instead.\n",
      "  redFlagRecord = redFlagRecord.append(veh, ignore_index=True)\n",
      "C:\\Users\\Administrator\\AppData\\Local\\Temp\\ipykernel_16000\\2984826684.py:101: FutureWarning: The frame.append method is deprecated and will be removed from pandas in a future version. Use pandas.concat instead.\n",
      "  redFlagRecord = redFlagRecord.append(veh, ignore_index=True)\n",
      "C:\\Users\\Administrator\\AppData\\Local\\Temp\\ipykernel_16000\\2984826684.py:101: FutureWarning: The frame.append method is deprecated and will be removed from pandas in a future version. Use pandas.concat instead.\n",
      "  redFlagRecord = redFlagRecord.append(veh, ignore_index=True)\n",
      "C:\\Users\\Administrator\\AppData\\Local\\Temp\\ipykernel_16000\\2984826684.py:101: FutureWarning: The frame.append method is deprecated and will be removed from pandas in a future version. Use pandas.concat instead.\n",
      "  redFlagRecord = redFlagRecord.append(veh, ignore_index=True)\n"
     ]
    },
    {
     "name": "stdout",
     "output_type": "stream",
     "text": [
      "LaneID:28925528_0;Time:6403.0;\n",
      "LaneID:28925528_0;Time:6406.0;\n",
      "LaneID:28925528_0;Time:6407.0;\n",
      "LaneID:28925528_0;Time:6408.0;\n",
      "LaneID:28925528_0;Time:6409.0;\n",
      "LaneID:28925528_0;Time:6410.0;\n",
      "LaneID:28925528_0;Time:6411.0;\n",
      "LaneID:28925528_0;Time:6412.0;\n",
      "LaneID:28925528_0;Time:6413.0;\n",
      "LaneID:28925528_0;Time:6414.0;\n",
      "LaneID:28925528_0;Time:6415.0;\n",
      "LaneID:28925528_0;Time:6416.0;\n",
      "LaneID:28925528_0;Time:6417.0;\n",
      "LaneID:28925528_0;Time:6418.0;\n",
      "LaneID:28925528_0;Time:6419.0;\n",
      "LaneID:28925528_0;Time:6420.0;\n"
     ]
    },
    {
     "name": "stderr",
     "output_type": "stream",
     "text": [
      "C:\\Users\\Administrator\\AppData\\Local\\Temp\\ipykernel_16000\\2984826684.py:101: FutureWarning: The frame.append method is deprecated and will be removed from pandas in a future version. Use pandas.concat instead.\n",
      "  redFlagRecord = redFlagRecord.append(veh, ignore_index=True)\n",
      "C:\\Users\\Administrator\\AppData\\Local\\Temp\\ipykernel_16000\\2984826684.py:101: FutureWarning: The frame.append method is deprecated and will be removed from pandas in a future version. Use pandas.concat instead.\n",
      "  redFlagRecord = redFlagRecord.append(veh, ignore_index=True)\n",
      "C:\\Users\\Administrator\\AppData\\Local\\Temp\\ipykernel_16000\\2984826684.py:101: FutureWarning: The frame.append method is deprecated and will be removed from pandas in a future version. Use pandas.concat instead.\n",
      "  redFlagRecord = redFlagRecord.append(veh, ignore_index=True)\n",
      "C:\\Users\\Administrator\\AppData\\Local\\Temp\\ipykernel_16000\\2984826684.py:101: FutureWarning: The frame.append method is deprecated and will be removed from pandas in a future version. Use pandas.concat instead.\n",
      "  redFlagRecord = redFlagRecord.append(veh, ignore_index=True)\n",
      "C:\\Users\\Administrator\\AppData\\Local\\Temp\\ipykernel_16000\\2984826684.py:101: FutureWarning: The frame.append method is deprecated and will be removed from pandas in a future version. Use pandas.concat instead.\n",
      "  redFlagRecord = redFlagRecord.append(veh, ignore_index=True)\n",
      "C:\\Users\\Administrator\\AppData\\Local\\Temp\\ipykernel_16000\\2984826684.py:101: FutureWarning: The frame.append method is deprecated and will be removed from pandas in a future version. Use pandas.concat instead.\n",
      "  redFlagRecord = redFlagRecord.append(veh, ignore_index=True)\n",
      "C:\\Users\\Administrator\\AppData\\Local\\Temp\\ipykernel_16000\\2984826684.py:101: FutureWarning: The frame.append method is deprecated and will be removed from pandas in a future version. Use pandas.concat instead.\n",
      "  redFlagRecord = redFlagRecord.append(veh, ignore_index=True)\n"
     ]
    },
    {
     "name": "stdout",
     "output_type": "stream",
     "text": [
      "LaneID:28925528_0;Time:6421.0;\n",
      "LaneID:28925528_0;Time:6422.0;\n",
      "LaneID:28925528_0;Time:6423.0;\n",
      "LaneID:28925528_0;Time:6424.0;\n",
      "LaneID:28925528_0;Time:6425.0;\n"
     ]
    },
    {
     "name": "stderr",
     "output_type": "stream",
     "text": [
      "C:\\Users\\Administrator\\AppData\\Local\\Temp\\ipykernel_16000\\2984826684.py:101: FutureWarning: The frame.append method is deprecated and will be removed from pandas in a future version. Use pandas.concat instead.\n",
      "  redFlagRecord = redFlagRecord.append(veh, ignore_index=True)\n",
      "C:\\Users\\Administrator\\AppData\\Local\\Temp\\ipykernel_16000\\2984826684.py:101: FutureWarning: The frame.append method is deprecated and will be removed from pandas in a future version. Use pandas.concat instead.\n",
      "  redFlagRecord = redFlagRecord.append(veh, ignore_index=True)\n",
      "C:\\Users\\Administrator\\AppData\\Local\\Temp\\ipykernel_16000\\2984826684.py:101: FutureWarning: The frame.append method is deprecated and will be removed from pandas in a future version. Use pandas.concat instead.\n",
      "  redFlagRecord = redFlagRecord.append(veh, ignore_index=True)\n",
      "C:\\Users\\Administrator\\AppData\\Local\\Temp\\ipykernel_16000\\2984826684.py:101: FutureWarning: The frame.append method is deprecated and will be removed from pandas in a future version. Use pandas.concat instead.\n",
      "  redFlagRecord = redFlagRecord.append(veh, ignore_index=True)\n",
      "C:\\Users\\Administrator\\AppData\\Local\\Temp\\ipykernel_16000\\2984826684.py:101: FutureWarning: The frame.append method is deprecated and will be removed from pandas in a future version. Use pandas.concat instead.\n",
      "  redFlagRecord = redFlagRecord.append(veh, ignore_index=True)\n"
     ]
    },
    {
     "name": "stdout",
     "output_type": "stream",
     "text": [
      "LaneID:28925528_0;Time:6426.0;\n",
      "LaneID:28925528_0;Time:6427.0;\n",
      "LaneID:28925528_0;Time:6428.0;\n",
      "LaneID:28925528_0;Time:6429.0;\n",
      "LaneID:28925528_0;Time:6430.0;\n",
      "LaneID:28925528_0;Time:6431.0;\n"
     ]
    },
    {
     "name": "stderr",
     "output_type": "stream",
     "text": [
      "C:\\Users\\Administrator\\AppData\\Local\\Temp\\ipykernel_16000\\2984826684.py:101: FutureWarning: The frame.append method is deprecated and will be removed from pandas in a future version. Use pandas.concat instead.\n",
      "  redFlagRecord = redFlagRecord.append(veh, ignore_index=True)\n",
      "C:\\Users\\Administrator\\AppData\\Local\\Temp\\ipykernel_16000\\2984826684.py:101: FutureWarning: The frame.append method is deprecated and will be removed from pandas in a future version. Use pandas.concat instead.\n",
      "  redFlagRecord = redFlagRecord.append(veh, ignore_index=True)\n",
      "C:\\Users\\Administrator\\AppData\\Local\\Temp\\ipykernel_16000\\2984826684.py:101: FutureWarning: The frame.append method is deprecated and will be removed from pandas in a future version. Use pandas.concat instead.\n",
      "  redFlagRecord = redFlagRecord.append(veh, ignore_index=True)\n",
      "C:\\Users\\Administrator\\AppData\\Local\\Temp\\ipykernel_16000\\2984826684.py:101: FutureWarning: The frame.append method is deprecated and will be removed from pandas in a future version. Use pandas.concat instead.\n",
      "  redFlagRecord = redFlagRecord.append(veh, ignore_index=True)\n",
      "C:\\Users\\Administrator\\AppData\\Local\\Temp\\ipykernel_16000\\2984826684.py:101: FutureWarning: The frame.append method is deprecated and will be removed from pandas in a future version. Use pandas.concat instead.\n",
      "  redFlagRecord = redFlagRecord.append(veh, ignore_index=True)\n",
      "C:\\Users\\Administrator\\AppData\\Local\\Temp\\ipykernel_16000\\2984826684.py:101: FutureWarning: The frame.append method is deprecated and will be removed from pandas in a future version. Use pandas.concat instead.\n",
      "  redFlagRecord = redFlagRecord.append(veh, ignore_index=True)\n",
      "C:\\Users\\Administrator\\AppData\\Local\\Temp\\ipykernel_16000\\2984826684.py:101: FutureWarning: The frame.append method is deprecated and will be removed from pandas in a future version. Use pandas.concat instead.\n",
      "  redFlagRecord = redFlagRecord.append(veh, ignore_index=True)\n"
     ]
    },
    {
     "name": "stdout",
     "output_type": "stream",
     "text": [
      "LaneID:28925528_0;Time:6432.0;\n",
      "LaneID:28925528_0;Time:6433.0;\n",
      "LaneID:28925528_0;Time:6434.0;\n",
      "LaneID:28925528_0;Time:6435.0;\n",
      "LaneID:28925528_0;Time:6436.0;\n",
      "LaneID:28925528_0;Time:6437.0;\n",
      "LaneID:28925528_0;Time:6438.0;\n",
      "LaneID:28925528_0;Time:6439.0;\n",
      "LaneID:28925528_0;Time:6440.0;\n",
      "LaneID:28925528_0;Time:6462.0;\n",
      "LaneID:28925528_0;Time:6463.0;\n",
      "LaneID:28925528_0;Time:6464.0;\n",
      "LaneID:28925528_0;Time:6465.0;\n",
      "LaneID:28925528_0;Time:6466.0;\n",
      "LaneID:28925528_0;Time:6467.0;\n",
      "LaneID:28925528_0;Time:6468.0;\n",
      "LaneID:28925528_0;Time:6469.0;\n",
      "LaneID:28925528_0;Time:6490.0;\n",
      "LaneID:28925528_0;Time:6491.0;\n",
      "LaneID:28925528_0;Time:6492.0;\n",
      "LaneID:28925528_0;Time:6493.0;\n",
      "LaneID:28925528_0;Time:6494.0;\n",
      "LaneID:28925528_0;Time:6495.0;\n",
      "LaneID:28925528_0;Time:6496.0;\n",
      "LaneID:28925528_0;Time:6518.0;\n",
      "LaneID:28925528_0;Time:6519.0;\n",
      "LaneID:28925528_0;Time:6520.0;\n",
      "LaneID:28925528_0;Time:6521.0;\n",
      "LaneID:28925528_0;Time:6522.0;\n",
      "LaneID:28925528_0;Time:6523.0;\n",
      "LaneID:28925528_0;Time:6524.0;\n",
      "LaneID:28925528_0;Time:6525.0;\n",
      "LaneID:28925528_0;Time:6526.0;\n",
      "LaneID:28925528_0;Time:6527.0;\n",
      "LaneID:28925528_0;Time:6546.0;\n",
      "LaneID:28925528_0;Time:6547.0;\n",
      "LaneID:28925528_0;Time:6548.0;\n",
      "LaneID:28925528_0;Time:6549.0;\n",
      "LaneID:28925528_0;Time:6550.0;\n",
      "LaneID:28925528_0;Time:6551.0;\n",
      "LaneID:28925528_0;Time:6552.0;\n",
      "LaneID:28925528_0;Time:6553.0;\n",
      "LaneID:28925528_0;Time:6554.0;\n",
      "LaneID:28925528_0;Time:6555.0;\n"
     ]
    },
    {
     "name": "stderr",
     "output_type": "stream",
     "text": [
      "C:\\Users\\Administrator\\AppData\\Local\\Temp\\ipykernel_16000\\2984826684.py:101: FutureWarning: The frame.append method is deprecated and will be removed from pandas in a future version. Use pandas.concat instead.\n",
      "  redFlagRecord = redFlagRecord.append(veh, ignore_index=True)\n",
      "C:\\Users\\Administrator\\AppData\\Local\\Temp\\ipykernel_16000\\2984826684.py:101: FutureWarning: The frame.append method is deprecated and will be removed from pandas in a future version. Use pandas.concat instead.\n",
      "  redFlagRecord = redFlagRecord.append(veh, ignore_index=True)\n",
      "C:\\Users\\Administrator\\AppData\\Local\\Temp\\ipykernel_16000\\2984826684.py:101: FutureWarning: The frame.append method is deprecated and will be removed from pandas in a future version. Use pandas.concat instead.\n",
      "  redFlagRecord = redFlagRecord.append(veh, ignore_index=True)\n",
      "C:\\Users\\Administrator\\AppData\\Local\\Temp\\ipykernel_16000\\2984826684.py:101: FutureWarning: The frame.append method is deprecated and will be removed from pandas in a future version. Use pandas.concat instead.\n",
      "  redFlagRecord = redFlagRecord.append(veh, ignore_index=True)\n",
      "C:\\Users\\Administrator\\AppData\\Local\\Temp\\ipykernel_16000\\2984826684.py:101: FutureWarning: The frame.append method is deprecated and will be removed from pandas in a future version. Use pandas.concat instead.\n",
      "  redFlagRecord = redFlagRecord.append(veh, ignore_index=True)\n",
      "C:\\Users\\Administrator\\AppData\\Local\\Temp\\ipykernel_16000\\2984826684.py:101: FutureWarning: The frame.append method is deprecated and will be removed from pandas in a future version. Use pandas.concat instead.\n",
      "  redFlagRecord = redFlagRecord.append(veh, ignore_index=True)\n"
     ]
    },
    {
     "name": "stdout",
     "output_type": "stream",
     "text": [
      "LaneID:28925528_0;Time:6556.0;\n",
      "LaneID:28925528_0;Time:6557.0;\n",
      "LaneID:28925528_0;Time:6558.0;\n",
      "LaneID:28925528_0;Time:6575.0;\n",
      "LaneID:28925528_0;Time:6576.0;\n",
      "LaneID:28925528_0;Time:6577.0;\n",
      "LaneID:28925528_0;Time:6578.0;\n",
      "LaneID:28925528_0;Time:6579.0;\n",
      "LaneID:28925528_0;Time:6580.0;\n",
      "LaneID:28925528_0;Time:6581.0;\n",
      "LaneID:28925528_0;Time:6582.0;\n",
      "LaneID:28925528_0;Time:6583.0;\n",
      "LaneID:28925528_0;Time:6584.0;\n",
      "LaneID:28925528_0;Time:6585.0;\n",
      "LaneID:28925528_0;Time:6586.0;\n",
      "LaneID:28925528_0;Time:6587.0;\n"
     ]
    },
    {
     "name": "stderr",
     "output_type": "stream",
     "text": [
      "C:\\Users\\Administrator\\AppData\\Local\\Temp\\ipykernel_16000\\2984826684.py:101: FutureWarning: The frame.append method is deprecated and will be removed from pandas in a future version. Use pandas.concat instead.\n",
      "  redFlagRecord = redFlagRecord.append(veh, ignore_index=True)\n",
      "C:\\Users\\Administrator\\AppData\\Local\\Temp\\ipykernel_16000\\2984826684.py:101: FutureWarning: The frame.append method is deprecated and will be removed from pandas in a future version. Use pandas.concat instead.\n",
      "  redFlagRecord = redFlagRecord.append(veh, ignore_index=True)\n",
      "C:\\Users\\Administrator\\AppData\\Local\\Temp\\ipykernel_16000\\2984826684.py:101: FutureWarning: The frame.append method is deprecated and will be removed from pandas in a future version. Use pandas.concat instead.\n",
      "  redFlagRecord = redFlagRecord.append(veh, ignore_index=True)\n",
      "C:\\Users\\Administrator\\AppData\\Local\\Temp\\ipykernel_16000\\2984826684.py:101: FutureWarning: The frame.append method is deprecated and will be removed from pandas in a future version. Use pandas.concat instead.\n",
      "  redFlagRecord = redFlagRecord.append(veh, ignore_index=True)\n",
      "C:\\Users\\Administrator\\AppData\\Local\\Temp\\ipykernel_16000\\2984826684.py:101: FutureWarning: The frame.append method is deprecated and will be removed from pandas in a future version. Use pandas.concat instead.\n",
      "  redFlagRecord = redFlagRecord.append(veh, ignore_index=True)\n",
      "C:\\Users\\Administrator\\AppData\\Local\\Temp\\ipykernel_16000\\2984826684.py:101: FutureWarning: The frame.append method is deprecated and will be removed from pandas in a future version. Use pandas.concat instead.\n",
      "  redFlagRecord = redFlagRecord.append(veh, ignore_index=True)\n"
     ]
    },
    {
     "name": "stdout",
     "output_type": "stream",
     "text": [
      "LaneID:28925528_0;Time:6588.0;\n",
      "LaneID:28925528_0;Time:6589.0;\n",
      "LaneID:28925528_0;Time:6603.0;\n",
      "LaneID:28925528_0;Time:6604.0;\n",
      "LaneID:28925528_0;Time:6605.0;\n",
      "LaneID:28925528_0;Time:6606.0;\n",
      "LaneID:28925528_0;Time:6607.0;\n",
      "LaneID:28925528_0;Time:6608.0;\n",
      "LaneID:28925528_0;Time:6609.0;\n",
      "LaneID:28925528_0;Time:6610.0;\n",
      "LaneID:28925528_0;Time:6611.0;\n",
      "LaneID:28925528_0;Time:6612.0;\n",
      "LaneID:28925528_0;Time:6613.0;\n",
      "LaneID:28925528_0;Time:6614.0;\n",
      "LaneID:28925528_0;Time:6615.0;\n"
     ]
    },
    {
     "name": "stderr",
     "output_type": "stream",
     "text": [
      "C:\\Users\\Administrator\\AppData\\Local\\Temp\\ipykernel_16000\\2984826684.py:101: FutureWarning: The frame.append method is deprecated and will be removed from pandas in a future version. Use pandas.concat instead.\n",
      "  redFlagRecord = redFlagRecord.append(veh, ignore_index=True)\n",
      "C:\\Users\\Administrator\\AppData\\Local\\Temp\\ipykernel_16000\\2984826684.py:101: FutureWarning: The frame.append method is deprecated and will be removed from pandas in a future version. Use pandas.concat instead.\n",
      "  redFlagRecord = redFlagRecord.append(veh, ignore_index=True)\n",
      "C:\\Users\\Administrator\\AppData\\Local\\Temp\\ipykernel_16000\\2984826684.py:101: FutureWarning: The frame.append method is deprecated and will be removed from pandas in a future version. Use pandas.concat instead.\n",
      "  redFlagRecord = redFlagRecord.append(veh, ignore_index=True)\n",
      "C:\\Users\\Administrator\\AppData\\Local\\Temp\\ipykernel_16000\\2984826684.py:101: FutureWarning: The frame.append method is deprecated and will be removed from pandas in a future version. Use pandas.concat instead.\n",
      "  redFlagRecord = redFlagRecord.append(veh, ignore_index=True)\n",
      "C:\\Users\\Administrator\\AppData\\Local\\Temp\\ipykernel_16000\\2984826684.py:101: FutureWarning: The frame.append method is deprecated and will be removed from pandas in a future version. Use pandas.concat instead.\n",
      "  redFlagRecord = redFlagRecord.append(veh, ignore_index=True)\n",
      "C:\\Users\\Administrator\\AppData\\Local\\Temp\\ipykernel_16000\\2984826684.py:101: FutureWarning: The frame.append method is deprecated and will be removed from pandas in a future version. Use pandas.concat instead.\n",
      "  redFlagRecord = redFlagRecord.append(veh, ignore_index=True)\n",
      "C:\\Users\\Administrator\\AppData\\Local\\Temp\\ipykernel_16000\\2984826684.py:101: FutureWarning: The frame.append method is deprecated and will be removed from pandas in a future version. Use pandas.concat instead.\n",
      "  redFlagRecord = redFlagRecord.append(veh, ignore_index=True)\n"
     ]
    },
    {
     "name": "stdout",
     "output_type": "stream",
     "text": [
      "LaneID:28925528_0;Time:6616.0;\n",
      "LaneID:28925528_0;Time:6617.0;\n",
      "LaneID:28925528_0;Time:6618.0;\n",
      "LaneID:28925528_0;Time:6619.0;\n",
      "LaneID:28925528_0;Time:6620.0;\n",
      "LaneID:28925528_0;Time:6631.0;\n",
      "LaneID:28925528_0;Time:6632.0;\n",
      "LaneID:28925528_0;Time:6633.0;\n",
      "LaneID:28925528_0;Time:6634.0;\n",
      "LaneID:28925528_0;Time:6635.0;\n",
      "LaneID:28925528_0;Time:6636.0;\n",
      "LaneID:28925528_0;Time:6637.0;\n",
      "LaneID:28925528_0;Time:6638.0;\n",
      "LaneID:28925528_0;Time:6639.0;\n",
      "LaneID:28925528_0;Time:6640.0;\n",
      "LaneID:28925528_0;Time:6641.0;\n"
     ]
    },
    {
     "name": "stderr",
     "output_type": "stream",
     "text": [
      "C:\\Users\\Administrator\\AppData\\Local\\Temp\\ipykernel_16000\\2984826684.py:101: FutureWarning: The frame.append method is deprecated and will be removed from pandas in a future version. Use pandas.concat instead.\n",
      "  redFlagRecord = redFlagRecord.append(veh, ignore_index=True)\n",
      "C:\\Users\\Administrator\\AppData\\Local\\Temp\\ipykernel_16000\\2984826684.py:101: FutureWarning: The frame.append method is deprecated and will be removed from pandas in a future version. Use pandas.concat instead.\n",
      "  redFlagRecord = redFlagRecord.append(veh, ignore_index=True)\n",
      "C:\\Users\\Administrator\\AppData\\Local\\Temp\\ipykernel_16000\\2984826684.py:101: FutureWarning: The frame.append method is deprecated and will be removed from pandas in a future version. Use pandas.concat instead.\n",
      "  redFlagRecord = redFlagRecord.append(veh, ignore_index=True)\n",
      "C:\\Users\\Administrator\\AppData\\Local\\Temp\\ipykernel_16000\\2984826684.py:101: FutureWarning: The frame.append method is deprecated and will be removed from pandas in a future version. Use pandas.concat instead.\n",
      "  redFlagRecord = redFlagRecord.append(veh, ignore_index=True)\n",
      "C:\\Users\\Administrator\\AppData\\Local\\Temp\\ipykernel_16000\\2984826684.py:101: FutureWarning: The frame.append method is deprecated and will be removed from pandas in a future version. Use pandas.concat instead.\n",
      "  redFlagRecord = redFlagRecord.append(veh, ignore_index=True)\n",
      "C:\\Users\\Administrator\\AppData\\Local\\Temp\\ipykernel_16000\\2984826684.py:101: FutureWarning: The frame.append method is deprecated and will be removed from pandas in a future version. Use pandas.concat instead.\n",
      "  redFlagRecord = redFlagRecord.append(veh, ignore_index=True)\n",
      "C:\\Users\\Administrator\\AppData\\Local\\Temp\\ipykernel_16000\\2984826684.py:101: FutureWarning: The frame.append method is deprecated and will be removed from pandas in a future version. Use pandas.concat instead.\n",
      "  redFlagRecord = redFlagRecord.append(veh, ignore_index=True)\n"
     ]
    },
    {
     "name": "stdout",
     "output_type": "stream",
     "text": [
      "LaneID:28925528_0;Time:6642.0;\n",
      "LaneID:28925528_0;Time:6643.0;\n",
      "LaneID:28925528_0;Time:6644.0;\n",
      "LaneID:28925528_0;Time:6645.0;\n",
      "LaneID:28925528_0;Time:6646.0;\n",
      "LaneID:28925528_0;Time:6647.0;\n"
     ]
    },
    {
     "name": "stderr",
     "output_type": "stream",
     "text": [
      "C:\\Users\\Administrator\\AppData\\Local\\Temp\\ipykernel_16000\\2984826684.py:101: FutureWarning: The frame.append method is deprecated and will be removed from pandas in a future version. Use pandas.concat instead.\n",
      "  redFlagRecord = redFlagRecord.append(veh, ignore_index=True)\n",
      "C:\\Users\\Administrator\\AppData\\Local\\Temp\\ipykernel_16000\\2984826684.py:101: FutureWarning: The frame.append method is deprecated and will be removed from pandas in a future version. Use pandas.concat instead.\n",
      "  redFlagRecord = redFlagRecord.append(veh, ignore_index=True)\n",
      "C:\\Users\\Administrator\\AppData\\Local\\Temp\\ipykernel_16000\\2984826684.py:101: FutureWarning: The frame.append method is deprecated and will be removed from pandas in a future version. Use pandas.concat instead.\n",
      "  redFlagRecord = redFlagRecord.append(veh, ignore_index=True)\n",
      "C:\\Users\\Administrator\\AppData\\Local\\Temp\\ipykernel_16000\\2984826684.py:101: FutureWarning: The frame.append method is deprecated and will be removed from pandas in a future version. Use pandas.concat instead.\n",
      "  redFlagRecord = redFlagRecord.append(veh, ignore_index=True)\n",
      "C:\\Users\\Administrator\\AppData\\Local\\Temp\\ipykernel_16000\\2984826684.py:101: FutureWarning: The frame.append method is deprecated and will be removed from pandas in a future version. Use pandas.concat instead.\n",
      "  redFlagRecord = redFlagRecord.append(veh, ignore_index=True)\n",
      "C:\\Users\\Administrator\\AppData\\Local\\Temp\\ipykernel_16000\\2984826684.py:101: FutureWarning: The frame.append method is deprecated and will be removed from pandas in a future version. Use pandas.concat instead.\n",
      "  redFlagRecord = redFlagRecord.append(veh, ignore_index=True)\n",
      "C:\\Users\\Administrator\\AppData\\Local\\Temp\\ipykernel_16000\\2984826684.py:101: FutureWarning: The frame.append method is deprecated and will be removed from pandas in a future version. Use pandas.concat instead.\n",
      "  redFlagRecord = redFlagRecord.append(veh, ignore_index=True)\n"
     ]
    },
    {
     "name": "stdout",
     "output_type": "stream",
     "text": [
      "LaneID:28925528_0;Time:6648.0;\n",
      "LaneID:28925528_0;Time:6649.0;\n",
      "LaneID:28925528_0;Time:6650.0;\n",
      "LaneID:28925528_0;Time:6651.0;\n",
      "LaneID:28925528_0;Time:6658.0;\n",
      "LaneID:28925528_0;Time:6659.0;\n",
      "LaneID:28925528_0;Time:6660.0;\n",
      "LaneID:28925528_0;Time:6661.0;\n",
      "LaneID:28925528_0;Time:6662.0;\n",
      "LaneID:28925528_0;Time:6663.0;\n",
      "LaneID:28925528_0;Time:6664.0;\n",
      "LaneID:28925528_0;Time:6665.0;\n",
      "LaneID:28925528_0;Time:6666.0;\n",
      "LaneID:28925528_0;Time:6667.0;\n",
      "LaneID:28925528_0;Time:6668.0;\n",
      "LaneID:28925528_0;Time:6669.0;\n"
     ]
    },
    {
     "name": "stderr",
     "output_type": "stream",
     "text": [
      "C:\\Users\\Administrator\\AppData\\Local\\Temp\\ipykernel_16000\\2984826684.py:101: FutureWarning: The frame.append method is deprecated and will be removed from pandas in a future version. Use pandas.concat instead.\n",
      "  redFlagRecord = redFlagRecord.append(veh, ignore_index=True)\n",
      "C:\\Users\\Administrator\\AppData\\Local\\Temp\\ipykernel_16000\\2984826684.py:101: FutureWarning: The frame.append method is deprecated and will be removed from pandas in a future version. Use pandas.concat instead.\n",
      "  redFlagRecord = redFlagRecord.append(veh, ignore_index=True)\n",
      "C:\\Users\\Administrator\\AppData\\Local\\Temp\\ipykernel_16000\\2984826684.py:101: FutureWarning: The frame.append method is deprecated and will be removed from pandas in a future version. Use pandas.concat instead.\n",
      "  redFlagRecord = redFlagRecord.append(veh, ignore_index=True)\n",
      "C:\\Users\\Administrator\\AppData\\Local\\Temp\\ipykernel_16000\\2984826684.py:101: FutureWarning: The frame.append method is deprecated and will be removed from pandas in a future version. Use pandas.concat instead.\n",
      "  redFlagRecord = redFlagRecord.append(veh, ignore_index=True)\n",
      "C:\\Users\\Administrator\\AppData\\Local\\Temp\\ipykernel_16000\\2984826684.py:101: FutureWarning: The frame.append method is deprecated and will be removed from pandas in a future version. Use pandas.concat instead.\n",
      "  redFlagRecord = redFlagRecord.append(veh, ignore_index=True)\n",
      "C:\\Users\\Administrator\\AppData\\Local\\Temp\\ipykernel_16000\\2984826684.py:101: FutureWarning: The frame.append method is deprecated and will be removed from pandas in a future version. Use pandas.concat instead.\n",
      "  redFlagRecord = redFlagRecord.append(veh, ignore_index=True)\n"
     ]
    },
    {
     "name": "stdout",
     "output_type": "stream",
     "text": [
      "LaneID:28925528_0;Time:6670.0;\n",
      "LaneID:28925528_0;Time:6671.0;\n",
      "LaneID:28925528_0;Time:6672.0;\n",
      "LaneID:28925528_0;Time:6673.0;\n",
      "LaneID:28925528_0;Time:6674.0;\n",
      "LaneID:28925528_0;Time:6675.0;\n"
     ]
    },
    {
     "name": "stderr",
     "output_type": "stream",
     "text": [
      "C:\\Users\\Administrator\\AppData\\Local\\Temp\\ipykernel_16000\\2984826684.py:101: FutureWarning: The frame.append method is deprecated and will be removed from pandas in a future version. Use pandas.concat instead.\n",
      "  redFlagRecord = redFlagRecord.append(veh, ignore_index=True)\n",
      "C:\\Users\\Administrator\\AppData\\Local\\Temp\\ipykernel_16000\\2984826684.py:101: FutureWarning: The frame.append method is deprecated and will be removed from pandas in a future version. Use pandas.concat instead.\n",
      "  redFlagRecord = redFlagRecord.append(veh, ignore_index=True)\n",
      "C:\\Users\\Administrator\\AppData\\Local\\Temp\\ipykernel_16000\\2984826684.py:101: FutureWarning: The frame.append method is deprecated and will be removed from pandas in a future version. Use pandas.concat instead.\n",
      "  redFlagRecord = redFlagRecord.append(veh, ignore_index=True)\n",
      "C:\\Users\\Administrator\\AppData\\Local\\Temp\\ipykernel_16000\\2984826684.py:101: FutureWarning: The frame.append method is deprecated and will be removed from pandas in a future version. Use pandas.concat instead.\n",
      "  redFlagRecord = redFlagRecord.append(veh, ignore_index=True)\n",
      "C:\\Users\\Administrator\\AppData\\Local\\Temp\\ipykernel_16000\\2984826684.py:101: FutureWarning: The frame.append method is deprecated and will be removed from pandas in a future version. Use pandas.concat instead.\n",
      "  redFlagRecord = redFlagRecord.append(veh, ignore_index=True)\n",
      "C:\\Users\\Administrator\\AppData\\Local\\Temp\\ipykernel_16000\\2984826684.py:101: FutureWarning: The frame.append method is deprecated and will be removed from pandas in a future version. Use pandas.concat instead.\n",
      "  redFlagRecord = redFlagRecord.append(veh, ignore_index=True)\n",
      "C:\\Users\\Administrator\\AppData\\Local\\Temp\\ipykernel_16000\\2984826684.py:101: FutureWarning: The frame.append method is deprecated and will be removed from pandas in a future version. Use pandas.concat instead.\n",
      "  redFlagRecord = redFlagRecord.append(veh, ignore_index=True)\n",
      "C:\\Users\\Administrator\\AppData\\Local\\Temp\\ipykernel_16000\\2984826684.py:101: FutureWarning: The frame.append method is deprecated and will be removed from pandas in a future version. Use pandas.concat instead.\n",
      "  redFlagRecord = redFlagRecord.append(veh, ignore_index=True)\n"
     ]
    },
    {
     "name": "stdout",
     "output_type": "stream",
     "text": [
      "LaneID:28925528_0;Time:6676.0;\n",
      "LaneID:28925528_0;Time:6677.0;\n",
      "LaneID:28925528_0;Time:6678.0;\n",
      "LaneID:28925528_0;Time:6679.0;\n",
      "LaneID:28925528_0;Time:6680.0;\n",
      "LaneID:28925528_0;Time:6681.0;\n",
      "LaneID:28925528_0;Time:6682.0;\n",
      "LaneID:28925528_0;Time:6687.0;\n",
      "LaneID:28925528_0;Time:6688.0;\n",
      "LaneID:28925528_0;Time:6689.0;\n",
      "LaneID:28925528_0;Time:6690.0;\n",
      "LaneID:28925528_0;Time:6691.0;\n",
      "LaneID:28925528_0;Time:6692.0;\n",
      "LaneID:28925528_0;Time:6693.0;\n",
      "LaneID:28925528_0;Time:6694.0;\n",
      "LaneID:28925528_0;Time:6695.0;\n",
      "LaneID:28925528_0;Time:6696.0;\n"
     ]
    },
    {
     "name": "stderr",
     "output_type": "stream",
     "text": [
      "C:\\Users\\Administrator\\AppData\\Local\\Temp\\ipykernel_16000\\2984826684.py:101: FutureWarning: The frame.append method is deprecated and will be removed from pandas in a future version. Use pandas.concat instead.\n",
      "  redFlagRecord = redFlagRecord.append(veh, ignore_index=True)\n",
      "C:\\Users\\Administrator\\AppData\\Local\\Temp\\ipykernel_16000\\2984826684.py:101: FutureWarning: The frame.append method is deprecated and will be removed from pandas in a future version. Use pandas.concat instead.\n",
      "  redFlagRecord = redFlagRecord.append(veh, ignore_index=True)\n",
      "C:\\Users\\Administrator\\AppData\\Local\\Temp\\ipykernel_16000\\2984826684.py:101: FutureWarning: The frame.append method is deprecated and will be removed from pandas in a future version. Use pandas.concat instead.\n",
      "  redFlagRecord = redFlagRecord.append(veh, ignore_index=True)\n",
      "C:\\Users\\Administrator\\AppData\\Local\\Temp\\ipykernel_16000\\2984826684.py:101: FutureWarning: The frame.append method is deprecated and will be removed from pandas in a future version. Use pandas.concat instead.\n",
      "  redFlagRecord = redFlagRecord.append(veh, ignore_index=True)\n",
      "C:\\Users\\Administrator\\AppData\\Local\\Temp\\ipykernel_16000\\2984826684.py:101: FutureWarning: The frame.append method is deprecated and will be removed from pandas in a future version. Use pandas.concat instead.\n",
      "  redFlagRecord = redFlagRecord.append(veh, ignore_index=True)\n",
      "C:\\Users\\Administrator\\AppData\\Local\\Temp\\ipykernel_16000\\2984826684.py:101: FutureWarning: The frame.append method is deprecated and will be removed from pandas in a future version. Use pandas.concat instead.\n",
      "  redFlagRecord = redFlagRecord.append(veh, ignore_index=True)\n",
      "C:\\Users\\Administrator\\AppData\\Local\\Temp\\ipykernel_16000\\2984826684.py:101: FutureWarning: The frame.append method is deprecated and will be removed from pandas in a future version. Use pandas.concat instead.\n",
      "  redFlagRecord = redFlagRecord.append(veh, ignore_index=True)\n"
     ]
    },
    {
     "name": "stdout",
     "output_type": "stream",
     "text": [
      "LaneID:28925528_0;Time:6703.0;\n",
      "LaneID:28925528_0;Time:6704.0;\n",
      "LaneID:28925528_0;Time:6705.0;\n",
      "LaneID:28925528_0;Time:6706.0;\n",
      "LaneID:28925528_0;Time:6707.0;\n",
      "LaneID:28925528_0;Time:6708.0;\n",
      "LaneID:28925528_0;Time:6709.0;\n"
     ]
    },
    {
     "name": "stderr",
     "output_type": "stream",
     "text": [
      "C:\\Users\\Administrator\\AppData\\Local\\Temp\\ipykernel_16000\\2984826684.py:101: FutureWarning: The frame.append method is deprecated and will be removed from pandas in a future version. Use pandas.concat instead.\n",
      "  redFlagRecord = redFlagRecord.append(veh, ignore_index=True)\n",
      "C:\\Users\\Administrator\\AppData\\Local\\Temp\\ipykernel_16000\\2984826684.py:101: FutureWarning: The frame.append method is deprecated and will be removed from pandas in a future version. Use pandas.concat instead.\n",
      "  redFlagRecord = redFlagRecord.append(veh, ignore_index=True)\n",
      "C:\\Users\\Administrator\\AppData\\Local\\Temp\\ipykernel_16000\\2984826684.py:101: FutureWarning: The frame.append method is deprecated and will be removed from pandas in a future version. Use pandas.concat instead.\n",
      "  redFlagRecord = redFlagRecord.append(veh, ignore_index=True)\n",
      "C:\\Users\\Administrator\\AppData\\Local\\Temp\\ipykernel_16000\\2984826684.py:101: FutureWarning: The frame.append method is deprecated and will be removed from pandas in a future version. Use pandas.concat instead.\n",
      "  redFlagRecord = redFlagRecord.append(veh, ignore_index=True)\n",
      "C:\\Users\\Administrator\\AppData\\Local\\Temp\\ipykernel_16000\\2984826684.py:101: FutureWarning: The frame.append method is deprecated and will be removed from pandas in a future version. Use pandas.concat instead.\n",
      "  redFlagRecord = redFlagRecord.append(veh, ignore_index=True)\n",
      "C:\\Users\\Administrator\\AppData\\Local\\Temp\\ipykernel_16000\\2984826684.py:101: FutureWarning: The frame.append method is deprecated and will be removed from pandas in a future version. Use pandas.concat instead.\n",
      "  redFlagRecord = redFlagRecord.append(veh, ignore_index=True)\n",
      "C:\\Users\\Administrator\\AppData\\Local\\Temp\\ipykernel_16000\\2984826684.py:101: FutureWarning: The frame.append method is deprecated and will be removed from pandas in a future version. Use pandas.concat instead.\n",
      "  redFlagRecord = redFlagRecord.append(veh, ignore_index=True)\n"
     ]
    },
    {
     "name": "stdout",
     "output_type": "stream",
     "text": [
      "LaneID:28925528_0;Time:6710.0;\n",
      "LaneID:28925528_0;Time:6711.0;\n",
      "LaneID:28925528_0;Time:6712.0;\n",
      "LaneID:28925528_0;Time:6713.0;\n",
      "LaneID:28925528_0;Time:6715.0;\n",
      "LaneID:28925528_0;Time:6716.0;\n",
      "LaneID:28925528_0;Time:6717.0;\n",
      "LaneID:28925528_0;Time:6718.0;\n",
      "LaneID:28925528_0;Time:6719.0;\n",
      "LaneID:28925528_0;Time:6720.0;\n",
      "LaneID:28925528_0;Time:6721.0;\n",
      "LaneID:28925528_0;Time:6722.0;\n",
      "LaneID:28925528_0;Time:6723.0;\n",
      "LaneID:28925528_0;Time:6724.0;\n",
      "LaneID:28925528_0;Time:6725.0;\n",
      "LaneID:28925528_0;Time:6726.0;\n"
     ]
    },
    {
     "name": "stderr",
     "output_type": "stream",
     "text": [
      "C:\\Users\\Administrator\\AppData\\Local\\Temp\\ipykernel_16000\\2984826684.py:101: FutureWarning: The frame.append method is deprecated and will be removed from pandas in a future version. Use pandas.concat instead.\n",
      "  redFlagRecord = redFlagRecord.append(veh, ignore_index=True)\n",
      "C:\\Users\\Administrator\\AppData\\Local\\Temp\\ipykernel_16000\\2984826684.py:101: FutureWarning: The frame.append method is deprecated and will be removed from pandas in a future version. Use pandas.concat instead.\n",
      "  redFlagRecord = redFlagRecord.append(veh, ignore_index=True)\n",
      "C:\\Users\\Administrator\\AppData\\Local\\Temp\\ipykernel_16000\\2984826684.py:101: FutureWarning: The frame.append method is deprecated and will be removed from pandas in a future version. Use pandas.concat instead.\n",
      "  redFlagRecord = redFlagRecord.append(veh, ignore_index=True)\n",
      "C:\\Users\\Administrator\\AppData\\Local\\Temp\\ipykernel_16000\\2984826684.py:101: FutureWarning: The frame.append method is deprecated and will be removed from pandas in a future version. Use pandas.concat instead.\n",
      "  redFlagRecord = redFlagRecord.append(veh, ignore_index=True)\n",
      "C:\\Users\\Administrator\\AppData\\Local\\Temp\\ipykernel_16000\\2984826684.py:101: FutureWarning: The frame.append method is deprecated and will be removed from pandas in a future version. Use pandas.concat instead.\n",
      "  redFlagRecord = redFlagRecord.append(veh, ignore_index=True)\n",
      "C:\\Users\\Administrator\\AppData\\Local\\Temp\\ipykernel_16000\\2984826684.py:101: FutureWarning: The frame.append method is deprecated and will be removed from pandas in a future version. Use pandas.concat instead.\n",
      "  redFlagRecord = redFlagRecord.append(veh, ignore_index=True)\n",
      "C:\\Users\\Administrator\\AppData\\Local\\Temp\\ipykernel_16000\\2984826684.py:101: FutureWarning: The frame.append method is deprecated and will be removed from pandas in a future version. Use pandas.concat instead.\n",
      "  redFlagRecord = redFlagRecord.append(veh, ignore_index=True)\n"
     ]
    },
    {
     "name": "stdout",
     "output_type": "stream",
     "text": [
      "LaneID:28925528_0;Time:6727.0;\n",
      "LaneID:28925528_0;Time:6728.0;\n",
      "LaneID:28925528_0;Time:6729.0;\n",
      "LaneID:28925528_0;Time:6730.0;\n",
      "LaneID:28925528_0;Time:6731.0;\n",
      "LaneID:28925528_0;Time:6732.0;\n",
      "LaneID:28925528_0;Time:6733.0;\n"
     ]
    },
    {
     "name": "stderr",
     "output_type": "stream",
     "text": [
      "C:\\Users\\Administrator\\AppData\\Local\\Temp\\ipykernel_16000\\2984826684.py:101: FutureWarning: The frame.append method is deprecated and will be removed from pandas in a future version. Use pandas.concat instead.\n",
      "  redFlagRecord = redFlagRecord.append(veh, ignore_index=True)\n",
      "C:\\Users\\Administrator\\AppData\\Local\\Temp\\ipykernel_16000\\2984826684.py:101: FutureWarning: The frame.append method is deprecated and will be removed from pandas in a future version. Use pandas.concat instead.\n",
      "  redFlagRecord = redFlagRecord.append(veh, ignore_index=True)\n",
      "C:\\Users\\Administrator\\AppData\\Local\\Temp\\ipykernel_16000\\2984826684.py:101: FutureWarning: The frame.append method is deprecated and will be removed from pandas in a future version. Use pandas.concat instead.\n",
      "  redFlagRecord = redFlagRecord.append(veh, ignore_index=True)\n",
      "C:\\Users\\Administrator\\AppData\\Local\\Temp\\ipykernel_16000\\2984826684.py:101: FutureWarning: The frame.append method is deprecated and will be removed from pandas in a future version. Use pandas.concat instead.\n",
      "  redFlagRecord = redFlagRecord.append(veh, ignore_index=True)\n",
      "C:\\Users\\Administrator\\AppData\\Local\\Temp\\ipykernel_16000\\2984826684.py:101: FutureWarning: The frame.append method is deprecated and will be removed from pandas in a future version. Use pandas.concat instead.\n",
      "  redFlagRecord = redFlagRecord.append(veh, ignore_index=True)\n",
      "C:\\Users\\Administrator\\AppData\\Local\\Temp\\ipykernel_16000\\2984826684.py:101: FutureWarning: The frame.append method is deprecated and will be removed from pandas in a future version. Use pandas.concat instead.\n",
      "  redFlagRecord = redFlagRecord.append(veh, ignore_index=True)\n"
     ]
    },
    {
     "name": "stdout",
     "output_type": "stream",
     "text": [
      "LaneID:28925528_0;Time:6734.0;\n",
      "LaneID:28925528_0;Time:6735.0;\n",
      "LaneID:28925528_0;Time:6736.0;\n",
      "LaneID:28925528_0;Time:6737.0;\n",
      "LaneID:28925528_0;Time:6738.0;\n",
      "LaneID:28925528_0;Time:6739.0;\n",
      "LaneID:28925528_0;Time:6740.0;\n",
      "LaneID:28925528_0;Time:6741.0;\n",
      "LaneID:28925528_0;Time:6742.0;\n",
      "LaneID:28925528_0;Time:6743.0;\n",
      "LaneID:28925528_0;Time:6744.0;\n",
      "LaneID:28925528_0;Time:6745.0;\n",
      "LaneID:28925528_0;Time:6746.0;\n",
      "LaneID:28925528_0;Time:6747.0;\n",
      "LaneID:28925528_0;Time:6748.0;\n",
      "LaneID:28925528_0;Time:6749.0;\n",
      "LaneID:28925528_0;Time:6750.0;\n",
      "LaneID:28925528_0;Time:6751.0;\n",
      "LaneID:28925528_0;Time:6752.0;\n",
      "LaneID:28925528_0;Time:6772.0;\n",
      "LaneID:28925528_0;Time:6773.0;\n",
      "LaneID:28925528_0;Time:6774.0;\n",
      "LaneID:28925528_0;Time:6775.0;\n",
      "LaneID:28925528_0;Time:6776.0;\n",
      "LaneID:28925528_0;Time:6777.0;\n",
      "LaneID:28925528_0;Time:6778.0;\n",
      "LaneID:28925528_0;Time:6800.0;\n"
     ]
    },
    {
     "name": "stderr",
     "output_type": "stream",
     "text": [
      "C:\\Users\\Administrator\\AppData\\Local\\Temp\\ipykernel_16000\\2984826684.py:101: FutureWarning: The frame.append method is deprecated and will be removed from pandas in a future version. Use pandas.concat instead.\n",
      "  redFlagRecord = redFlagRecord.append(veh, ignore_index=True)\n",
      "C:\\Users\\Administrator\\AppData\\Local\\Temp\\ipykernel_16000\\2984826684.py:101: FutureWarning: The frame.append method is deprecated and will be removed from pandas in a future version. Use pandas.concat instead.\n",
      "  redFlagRecord = redFlagRecord.append(veh, ignore_index=True)\n",
      "C:\\Users\\Administrator\\AppData\\Local\\Temp\\ipykernel_16000\\2984826684.py:101: FutureWarning: The frame.append method is deprecated and will be removed from pandas in a future version. Use pandas.concat instead.\n",
      "  redFlagRecord = redFlagRecord.append(veh, ignore_index=True)\n",
      "C:\\Users\\Administrator\\AppData\\Local\\Temp\\ipykernel_16000\\2984826684.py:101: FutureWarning: The frame.append method is deprecated and will be removed from pandas in a future version. Use pandas.concat instead.\n",
      "  redFlagRecord = redFlagRecord.append(veh, ignore_index=True)\n",
      "C:\\Users\\Administrator\\AppData\\Local\\Temp\\ipykernel_16000\\2984826684.py:101: FutureWarning: The frame.append method is deprecated and will be removed from pandas in a future version. Use pandas.concat instead.\n",
      "  redFlagRecord = redFlagRecord.append(veh, ignore_index=True)\n",
      "C:\\Users\\Administrator\\AppData\\Local\\Temp\\ipykernel_16000\\2984826684.py:101: FutureWarning: The frame.append method is deprecated and will be removed from pandas in a future version. Use pandas.concat instead.\n",
      "  redFlagRecord = redFlagRecord.append(veh, ignore_index=True)\n"
     ]
    },
    {
     "name": "stdout",
     "output_type": "stream",
     "text": [
      "LaneID:28925528_0;Time:6801.0;\n",
      "LaneID:28925528_0;Time:6802.0;\n",
      "LaneID:28925528_0;Time:6803.0;\n",
      "LaneID:28925528_0;Time:6804.0;\n",
      "LaneID:28925528_0;Time:6805.0;\n",
      "LaneID:28925528_0;Time:6806.0;\n",
      "LaneID:28925528_0;Time:6828.0;\n",
      "LaneID:28925528_0;Time:6829.0;\n",
      "LaneID:28925528_0;Time:6830.0;\n",
      "LaneID:28925528_0;Time:6831.0;\n",
      "LaneID:28925528_0;Time:6832.0;\n",
      "LaneID:28925528_0;Time:6833.0;\n",
      "LaneID:28925528_0;Time:6834.0;\n",
      "LaneID:28925528_0;Time:6835.0;\n",
      "LaneID:28925528_0;Time:6836.0;\n",
      "LaneID:28925528_0;Time:6837.0;\n",
      "LaneID:28925528_0;Time:6856.0;\n",
      "LaneID:28925528_0;Time:6857.0;\n",
      "LaneID:28925528_0;Time:6858.0;\n",
      "LaneID:28925528_0;Time:6859.0;\n",
      "LaneID:28925528_0;Time:6860.0;\n",
      "LaneID:28925528_0;Time:6861.0;\n",
      "LaneID:28925528_0;Time:6862.0;\n",
      "LaneID:28925528_0;Time:6863.0;\n",
      "LaneID:28925528_0;Time:6864.0;\n",
      "LaneID:28925528_0;Time:6865.0;\n",
      "LaneID:28925528_0;Time:6866.0;\n",
      "LaneID:28925528_0;Time:6867.0;\n",
      "LaneID:28925528_0;Time:6868.0;\n",
      "LaneID:28925528_0;Time:6884.0;\n",
      "LaneID:28925528_0;Time:6885.0;\n",
      "LaneID:28925528_0;Time:6886.0;\n",
      "LaneID:28925528_0;Time:6887.0;\n",
      "LaneID:28925528_0;Time:6888.0;\n",
      "LaneID:28925528_0;Time:6889.0;\n",
      "LaneID:28925528_0;Time:6890.0;\n",
      "LaneID:28925528_0;Time:6891.0;\n",
      "LaneID:28925528_0;Time:6892.0;\n",
      "LaneID:28925528_0;Time:6893.0;\n"
     ]
    },
    {
     "name": "stderr",
     "output_type": "stream",
     "text": [
      "C:\\Users\\Administrator\\AppData\\Local\\Temp\\ipykernel_16000\\2984826684.py:101: FutureWarning: The frame.append method is deprecated and will be removed from pandas in a future version. Use pandas.concat instead.\n",
      "  redFlagRecord = redFlagRecord.append(veh, ignore_index=True)\n",
      "C:\\Users\\Administrator\\AppData\\Local\\Temp\\ipykernel_16000\\2984826684.py:101: FutureWarning: The frame.append method is deprecated and will be removed from pandas in a future version. Use pandas.concat instead.\n",
      "  redFlagRecord = redFlagRecord.append(veh, ignore_index=True)\n",
      "C:\\Users\\Administrator\\AppData\\Local\\Temp\\ipykernel_16000\\2984826684.py:101: FutureWarning: The frame.append method is deprecated and will be removed from pandas in a future version. Use pandas.concat instead.\n",
      "  redFlagRecord = redFlagRecord.append(veh, ignore_index=True)\n",
      "C:\\Users\\Administrator\\AppData\\Local\\Temp\\ipykernel_16000\\2984826684.py:101: FutureWarning: The frame.append method is deprecated and will be removed from pandas in a future version. Use pandas.concat instead.\n",
      "  redFlagRecord = redFlagRecord.append(veh, ignore_index=True)\n",
      "C:\\Users\\Administrator\\AppData\\Local\\Temp\\ipykernel_16000\\2984826684.py:101: FutureWarning: The frame.append method is deprecated and will be removed from pandas in a future version. Use pandas.concat instead.\n",
      "  redFlagRecord = redFlagRecord.append(veh, ignore_index=True)\n",
      "C:\\Users\\Administrator\\AppData\\Local\\Temp\\ipykernel_16000\\2984826684.py:101: FutureWarning: The frame.append method is deprecated and will be removed from pandas in a future version. Use pandas.concat instead.\n",
      "  redFlagRecord = redFlagRecord.append(veh, ignore_index=True)\n"
     ]
    },
    {
     "name": "stdout",
     "output_type": "stream",
     "text": [
      "LaneID:28925528_0;Time:6894.0;\n",
      "LaneID:28925528_0;Time:6895.0;\n",
      "LaneID:28925528_0;Time:6896.0;\n",
      "LaneID:28925528_0;Time:6897.0;\n",
      "LaneID:28925528_0;Time:6898.0;\n",
      "LaneID:28925528_0;Time:6899.0;\n",
      "LaneID:28925528_0;Time:6911.0;\n",
      "LaneID:28925528_0;Time:6912.0;\n",
      "LaneID:28925528_0;Time:6913.0;\n",
      "LaneID:28925528_0;Time:6914.0;\n",
      "LaneID:28925528_0;Time:6915.0;\n"
     ]
    },
    {
     "name": "stderr",
     "output_type": "stream",
     "text": [
      "C:\\Users\\Administrator\\AppData\\Local\\Temp\\ipykernel_16000\\2984826684.py:101: FutureWarning: The frame.append method is deprecated and will be removed from pandas in a future version. Use pandas.concat instead.\n",
      "  redFlagRecord = redFlagRecord.append(veh, ignore_index=True)\n",
      "C:\\Users\\Administrator\\AppData\\Local\\Temp\\ipykernel_16000\\2984826684.py:101: FutureWarning: The frame.append method is deprecated and will be removed from pandas in a future version. Use pandas.concat instead.\n",
      "  redFlagRecord = redFlagRecord.append(veh, ignore_index=True)\n",
      "C:\\Users\\Administrator\\AppData\\Local\\Temp\\ipykernel_16000\\2984826684.py:101: FutureWarning: The frame.append method is deprecated and will be removed from pandas in a future version. Use pandas.concat instead.\n",
      "  redFlagRecord = redFlagRecord.append(veh, ignore_index=True)\n",
      "C:\\Users\\Administrator\\AppData\\Local\\Temp\\ipykernel_16000\\2984826684.py:101: FutureWarning: The frame.append method is deprecated and will be removed from pandas in a future version. Use pandas.concat instead.\n",
      "  redFlagRecord = redFlagRecord.append(veh, ignore_index=True)\n",
      "C:\\Users\\Administrator\\AppData\\Local\\Temp\\ipykernel_16000\\2984826684.py:101: FutureWarning: The frame.append method is deprecated and will be removed from pandas in a future version. Use pandas.concat instead.\n",
      "  redFlagRecord = redFlagRecord.append(veh, ignore_index=True)\n",
      "C:\\Users\\Administrator\\AppData\\Local\\Temp\\ipykernel_16000\\2984826684.py:101: FutureWarning: The frame.append method is deprecated and will be removed from pandas in a future version. Use pandas.concat instead.\n",
      "  redFlagRecord = redFlagRecord.append(veh, ignore_index=True)\n",
      "C:\\Users\\Administrator\\AppData\\Local\\Temp\\ipykernel_16000\\2984826684.py:101: FutureWarning: The frame.append method is deprecated and will be removed from pandas in a future version. Use pandas.concat instead.\n",
      "  redFlagRecord = redFlagRecord.append(veh, ignore_index=True)\n"
     ]
    },
    {
     "name": "stdout",
     "output_type": "stream",
     "text": [
      "LaneID:28925528_0;Time:6916.0;\n",
      "LaneID:28925528_0;Time:6917.0;\n",
      "LaneID:28925528_0;Time:6918.0;\n",
      "LaneID:28925528_0;Time:6919.0;\n",
      "LaneID:28925528_0;Time:6920.0;\n",
      "LaneID:28925528_0;Time:6921.0;\n",
      "LaneID:28925528_0;Time:6922.0;\n",
      "LaneID:28925528_0;Time:6923.0;\n",
      "LaneID:28925528_0;Time:6924.0;\n",
      "LaneID:28925528_0;Time:6925.0;\n"
     ]
    },
    {
     "name": "stderr",
     "output_type": "stream",
     "text": [
      "C:\\Users\\Administrator\\AppData\\Local\\Temp\\ipykernel_16000\\2984826684.py:101: FutureWarning: The frame.append method is deprecated and will be removed from pandas in a future version. Use pandas.concat instead.\n",
      "  redFlagRecord = redFlagRecord.append(veh, ignore_index=True)\n",
      "C:\\Users\\Administrator\\AppData\\Local\\Temp\\ipykernel_16000\\2984826684.py:101: FutureWarning: The frame.append method is deprecated and will be removed from pandas in a future version. Use pandas.concat instead.\n",
      "  redFlagRecord = redFlagRecord.append(veh, ignore_index=True)\n",
      "C:\\Users\\Administrator\\AppData\\Local\\Temp\\ipykernel_16000\\2984826684.py:101: FutureWarning: The frame.append method is deprecated and will be removed from pandas in a future version. Use pandas.concat instead.\n",
      "  redFlagRecord = redFlagRecord.append(veh, ignore_index=True)\n",
      "C:\\Users\\Administrator\\AppData\\Local\\Temp\\ipykernel_16000\\2984826684.py:101: FutureWarning: The frame.append method is deprecated and will be removed from pandas in a future version. Use pandas.concat instead.\n",
      "  redFlagRecord = redFlagRecord.append(veh, ignore_index=True)\n",
      "C:\\Users\\Administrator\\AppData\\Local\\Temp\\ipykernel_16000\\2984826684.py:101: FutureWarning: The frame.append method is deprecated and will be removed from pandas in a future version. Use pandas.concat instead.\n",
      "  redFlagRecord = redFlagRecord.append(veh, ignore_index=True)\n",
      "C:\\Users\\Administrator\\AppData\\Local\\Temp\\ipykernel_16000\\2984826684.py:101: FutureWarning: The frame.append method is deprecated and will be removed from pandas in a future version. Use pandas.concat instead.\n",
      "  redFlagRecord = redFlagRecord.append(veh, ignore_index=True)\n",
      "C:\\Users\\Administrator\\AppData\\Local\\Temp\\ipykernel_16000\\2984826684.py:101: FutureWarning: The frame.append method is deprecated and will be removed from pandas in a future version. Use pandas.concat instead.\n",
      "  redFlagRecord = redFlagRecord.append(veh, ignore_index=True)\n"
     ]
    },
    {
     "name": "stdout",
     "output_type": "stream",
     "text": [
      "LaneID:28925528_0;Time:6926.0;\n",
      "LaneID:28925528_0;Time:6927.0;\n",
      "LaneID:28925528_0;Time:6928.0;\n",
      "LaneID:28925528_0;Time:6929.0;\n",
      "LaneID:28925528_0;Time:6930.0;\n",
      "LaneID:28925528_0;Time:6940.0;\n",
      "LaneID:28925528_0;Time:6941.0;\n",
      "LaneID:28925528_0;Time:6942.0;\n",
      "LaneID:28925528_0;Time:6943.0;\n",
      "LaneID:28925528_0;Time:6944.0;\n",
      "LaneID:28925528_0;Time:6945.0;\n",
      "LaneID:28925528_0;Time:6946.0;\n",
      "LaneID:28925528_0;Time:6953.0;\n"
     ]
    },
    {
     "name": "stderr",
     "output_type": "stream",
     "text": [
      "C:\\Users\\Administrator\\AppData\\Local\\Temp\\ipykernel_16000\\2984826684.py:101: FutureWarning: The frame.append method is deprecated and will be removed from pandas in a future version. Use pandas.concat instead.\n",
      "  redFlagRecord = redFlagRecord.append(veh, ignore_index=True)\n",
      "C:\\Users\\Administrator\\AppData\\Local\\Temp\\ipykernel_16000\\2984826684.py:101: FutureWarning: The frame.append method is deprecated and will be removed from pandas in a future version. Use pandas.concat instead.\n",
      "  redFlagRecord = redFlagRecord.append(veh, ignore_index=True)\n",
      "C:\\Users\\Administrator\\AppData\\Local\\Temp\\ipykernel_16000\\2984826684.py:101: FutureWarning: The frame.append method is deprecated and will be removed from pandas in a future version. Use pandas.concat instead.\n",
      "  redFlagRecord = redFlagRecord.append(veh, ignore_index=True)\n",
      "C:\\Users\\Administrator\\AppData\\Local\\Temp\\ipykernel_16000\\2984826684.py:101: FutureWarning: The frame.append method is deprecated and will be removed from pandas in a future version. Use pandas.concat instead.\n",
      "  redFlagRecord = redFlagRecord.append(veh, ignore_index=True)\n",
      "C:\\Users\\Administrator\\AppData\\Local\\Temp\\ipykernel_16000\\2984826684.py:101: FutureWarning: The frame.append method is deprecated and will be removed from pandas in a future version. Use pandas.concat instead.\n",
      "  redFlagRecord = redFlagRecord.append(veh, ignore_index=True)\n",
      "C:\\Users\\Administrator\\AppData\\Local\\Temp\\ipykernel_16000\\2984826684.py:101: FutureWarning: The frame.append method is deprecated and will be removed from pandas in a future version. Use pandas.concat instead.\n",
      "  redFlagRecord = redFlagRecord.append(veh, ignore_index=True)\n",
      "C:\\Users\\Administrator\\AppData\\Local\\Temp\\ipykernel_16000\\2984826684.py:101: FutureWarning: The frame.append method is deprecated and will be removed from pandas in a future version. Use pandas.concat instead.\n",
      "  redFlagRecord = redFlagRecord.append(veh, ignore_index=True)\n",
      "C:\\Users\\Administrator\\AppData\\Local\\Temp\\ipykernel_16000\\2984826684.py:101: FutureWarning: The frame.append method is deprecated and will be removed from pandas in a future version. Use pandas.concat instead.\n",
      "  redFlagRecord = redFlagRecord.append(veh, ignore_index=True)\n"
     ]
    },
    {
     "name": "stdout",
     "output_type": "stream",
     "text": [
      "LaneID:28925528_0;Time:6954.0;\n",
      "LaneID:28925528_0;Time:6955.0;\n",
      "LaneID:28925528_0;Time:6956.0;\n",
      "LaneID:28925528_0;Time:6957.0;\n",
      "LaneID:28925528_0;Time:6958.0;\n",
      "LaneID:28925528_0;Time:6959.0;\n",
      "LaneID:28925528_0;Time:6960.0;\n"
     ]
    },
    {
     "name": "stderr",
     "output_type": "stream",
     "text": [
      "C:\\Users\\Administrator\\AppData\\Local\\Temp\\ipykernel_16000\\2984826684.py:101: FutureWarning: The frame.append method is deprecated and will be removed from pandas in a future version. Use pandas.concat instead.\n",
      "  redFlagRecord = redFlagRecord.append(veh, ignore_index=True)\n",
      "C:\\Users\\Administrator\\AppData\\Local\\Temp\\ipykernel_16000\\2984826684.py:101: FutureWarning: The frame.append method is deprecated and will be removed from pandas in a future version. Use pandas.concat instead.\n",
      "  redFlagRecord = redFlagRecord.append(veh, ignore_index=True)\n",
      "C:\\Users\\Administrator\\AppData\\Local\\Temp\\ipykernel_16000\\2984826684.py:101: FutureWarning: The frame.append method is deprecated and will be removed from pandas in a future version. Use pandas.concat instead.\n",
      "  redFlagRecord = redFlagRecord.append(veh, ignore_index=True)\n",
      "C:\\Users\\Administrator\\AppData\\Local\\Temp\\ipykernel_16000\\2984826684.py:101: FutureWarning: The frame.append method is deprecated and will be removed from pandas in a future version. Use pandas.concat instead.\n",
      "  redFlagRecord = redFlagRecord.append(veh, ignore_index=True)\n",
      "C:\\Users\\Administrator\\AppData\\Local\\Temp\\ipykernel_16000\\2984826684.py:101: FutureWarning: The frame.append method is deprecated and will be removed from pandas in a future version. Use pandas.concat instead.\n",
      "  redFlagRecord = redFlagRecord.append(veh, ignore_index=True)\n",
      "C:\\Users\\Administrator\\AppData\\Local\\Temp\\ipykernel_16000\\2984826684.py:101: FutureWarning: The frame.append method is deprecated and will be removed from pandas in a future version. Use pandas.concat instead.\n",
      "  redFlagRecord = redFlagRecord.append(veh, ignore_index=True)\n",
      "C:\\Users\\Administrator\\AppData\\Local\\Temp\\ipykernel_16000\\2984826684.py:101: FutureWarning: The frame.append method is deprecated and will be removed from pandas in a future version. Use pandas.concat instead.\n",
      "  redFlagRecord = redFlagRecord.append(veh, ignore_index=True)\n"
     ]
    },
    {
     "name": "stdout",
     "output_type": "stream",
     "text": [
      "LaneID:28925528_0;Time:6961.0;\n",
      "LaneID:28925528_0;Time:6968.0;\n",
      "LaneID:28925528_0;Time:6969.0;\n",
      "LaneID:28925528_0;Time:6970.0;\n",
      "LaneID:28925528_0;Time:6971.0;\n",
      "LaneID:28925528_0;Time:6972.0;\n",
      "LaneID:28925528_0;Time:6973.0;\n",
      "LaneID:28925528_0;Time:6974.0;\n",
      "LaneID:28925528_0;Time:6975.0;\n",
      "LaneID:28925528_0;Time:6976.0;\n",
      "LaneID:28925528_0;Time:6977.0;\n",
      "LaneID:28925528_0;Time:6978.0;\n",
      "LaneID:28925528_0;Time:6979.0;\n",
      "LaneID:28925528_0;Time:6980.0;\n",
      "LaneID:28925528_0;Time:6981.0;\n",
      "LaneID:28925528_0;Time:6982.0;\n",
      "LaneID:28925528_0;Time:6983.0;\n"
     ]
    },
    {
     "name": "stderr",
     "output_type": "stream",
     "text": [
      "C:\\Users\\Administrator\\AppData\\Local\\Temp\\ipykernel_16000\\2984826684.py:101: FutureWarning: The frame.append method is deprecated and will be removed from pandas in a future version. Use pandas.concat instead.\n",
      "  redFlagRecord = redFlagRecord.append(veh, ignore_index=True)\n",
      "C:\\Users\\Administrator\\AppData\\Local\\Temp\\ipykernel_16000\\2984826684.py:101: FutureWarning: The frame.append method is deprecated and will be removed from pandas in a future version. Use pandas.concat instead.\n",
      "  redFlagRecord = redFlagRecord.append(veh, ignore_index=True)\n",
      "C:\\Users\\Administrator\\AppData\\Local\\Temp\\ipykernel_16000\\2984826684.py:101: FutureWarning: The frame.append method is deprecated and will be removed from pandas in a future version. Use pandas.concat instead.\n",
      "  redFlagRecord = redFlagRecord.append(veh, ignore_index=True)\n",
      "C:\\Users\\Administrator\\AppData\\Local\\Temp\\ipykernel_16000\\2984826684.py:101: FutureWarning: The frame.append method is deprecated and will be removed from pandas in a future version. Use pandas.concat instead.\n",
      "  redFlagRecord = redFlagRecord.append(veh, ignore_index=True)\n",
      "C:\\Users\\Administrator\\AppData\\Local\\Temp\\ipykernel_16000\\2984826684.py:101: FutureWarning: The frame.append method is deprecated and will be removed from pandas in a future version. Use pandas.concat instead.\n",
      "  redFlagRecord = redFlagRecord.append(veh, ignore_index=True)\n",
      "C:\\Users\\Administrator\\AppData\\Local\\Temp\\ipykernel_16000\\2984826684.py:101: FutureWarning: The frame.append method is deprecated and will be removed from pandas in a future version. Use pandas.concat instead.\n",
      "  redFlagRecord = redFlagRecord.append(veh, ignore_index=True)\n",
      "C:\\Users\\Administrator\\AppData\\Local\\Temp\\ipykernel_16000\\2984826684.py:101: FutureWarning: The frame.append method is deprecated and will be removed from pandas in a future version. Use pandas.concat instead.\n",
      "  redFlagRecord = redFlagRecord.append(veh, ignore_index=True)\n"
     ]
    },
    {
     "name": "stdout",
     "output_type": "stream",
     "text": [
      "LaneID:28925528_0;Time:6984.0;\n",
      "LaneID:28925528_0;Time:6985.0;\n",
      "LaneID:28925528_0;Time:6986.0;\n",
      "LaneID:28925528_0;Time:6987.0;\n",
      "LaneID:28925528_0;Time:6988.0;\n",
      "LaneID:28925528_0;Time:6989.0;\n",
      "LaneID:28925528_0;Time:6990.0;\n"
     ]
    },
    {
     "name": "stderr",
     "output_type": "stream",
     "text": [
      "C:\\Users\\Administrator\\AppData\\Local\\Temp\\ipykernel_16000\\2984826684.py:101: FutureWarning: The frame.append method is deprecated and will be removed from pandas in a future version. Use pandas.concat instead.\n",
      "  redFlagRecord = redFlagRecord.append(veh, ignore_index=True)\n",
      "C:\\Users\\Administrator\\AppData\\Local\\Temp\\ipykernel_16000\\2984826684.py:101: FutureWarning: The frame.append method is deprecated and will be removed from pandas in a future version. Use pandas.concat instead.\n",
      "  redFlagRecord = redFlagRecord.append(veh, ignore_index=True)\n",
      "C:\\Users\\Administrator\\AppData\\Local\\Temp\\ipykernel_16000\\2984826684.py:101: FutureWarning: The frame.append method is deprecated and will be removed from pandas in a future version. Use pandas.concat instead.\n",
      "  redFlagRecord = redFlagRecord.append(veh, ignore_index=True)\n",
      "C:\\Users\\Administrator\\AppData\\Local\\Temp\\ipykernel_16000\\2984826684.py:101: FutureWarning: The frame.append method is deprecated and will be removed from pandas in a future version. Use pandas.concat instead.\n",
      "  redFlagRecord = redFlagRecord.append(veh, ignore_index=True)\n",
      "C:\\Users\\Administrator\\AppData\\Local\\Temp\\ipykernel_16000\\2984826684.py:101: FutureWarning: The frame.append method is deprecated and will be removed from pandas in a future version. Use pandas.concat instead.\n",
      "  redFlagRecord = redFlagRecord.append(veh, ignore_index=True)\n",
      "C:\\Users\\Administrator\\AppData\\Local\\Temp\\ipykernel_16000\\2984826684.py:101: FutureWarning: The frame.append method is deprecated and will be removed from pandas in a future version. Use pandas.concat instead.\n",
      "  redFlagRecord = redFlagRecord.append(veh, ignore_index=True)\n"
     ]
    },
    {
     "name": "stdout",
     "output_type": "stream",
     "text": [
      "LaneID:28925528_0;Time:6991.0;\n",
      "LaneID:28925528_0;Time:6992.0;\n",
      "LaneID:28925528_0;Time:6997.0;\n",
      "LaneID:28925528_0;Time:6998.0;\n",
      "LaneID:28925528_0;Time:6999.0;\n",
      "LaneID:28925528_0;Time:7000.0;\n",
      "LaneID:28925528_0;Time:7001.0;\n",
      "LaneID:28925528_0;Time:7002.0;\n",
      "LaneID:28925528_0;Time:7003.0;\n",
      "LaneID:28925528_0;Time:7004.0;\n",
      "LaneID:28925528_0;Time:7005.0;\n",
      "LaneID:28925528_0;Time:7006.0;\n",
      "LaneID:28925528_0;Time:7007.0;\n",
      "LaneID:28925528_0;Time:7008.0;\n",
      "LaneID:28925528_0;Time:7009.0;\n"
     ]
    },
    {
     "name": "stderr",
     "output_type": "stream",
     "text": [
      "C:\\Users\\Administrator\\AppData\\Local\\Temp\\ipykernel_16000\\2984826684.py:101: FutureWarning: The frame.append method is deprecated and will be removed from pandas in a future version. Use pandas.concat instead.\n",
      "  redFlagRecord = redFlagRecord.append(veh, ignore_index=True)\n",
      "C:\\Users\\Administrator\\AppData\\Local\\Temp\\ipykernel_16000\\2984826684.py:101: FutureWarning: The frame.append method is deprecated and will be removed from pandas in a future version. Use pandas.concat instead.\n",
      "  redFlagRecord = redFlagRecord.append(veh, ignore_index=True)\n",
      "C:\\Users\\Administrator\\AppData\\Local\\Temp\\ipykernel_16000\\2984826684.py:101: FutureWarning: The frame.append method is deprecated and will be removed from pandas in a future version. Use pandas.concat instead.\n",
      "  redFlagRecord = redFlagRecord.append(veh, ignore_index=True)\n",
      "C:\\Users\\Administrator\\AppData\\Local\\Temp\\ipykernel_16000\\2984826684.py:101: FutureWarning: The frame.append method is deprecated and will be removed from pandas in a future version. Use pandas.concat instead.\n",
      "  redFlagRecord = redFlagRecord.append(veh, ignore_index=True)\n",
      "C:\\Users\\Administrator\\AppData\\Local\\Temp\\ipykernel_16000\\2984826684.py:101: FutureWarning: The frame.append method is deprecated and will be removed from pandas in a future version. Use pandas.concat instead.\n",
      "  redFlagRecord = redFlagRecord.append(veh, ignore_index=True)\n",
      "C:\\Users\\Administrator\\AppData\\Local\\Temp\\ipykernel_16000\\2984826684.py:101: FutureWarning: The frame.append method is deprecated and will be removed from pandas in a future version. Use pandas.concat instead.\n",
      "  redFlagRecord = redFlagRecord.append(veh, ignore_index=True)\n",
      "C:\\Users\\Administrator\\AppData\\Local\\Temp\\ipykernel_16000\\2984826684.py:101: FutureWarning: The frame.append method is deprecated and will be removed from pandas in a future version. Use pandas.concat instead.\n",
      "  redFlagRecord = redFlagRecord.append(veh, ignore_index=True)\n"
     ]
    },
    {
     "name": "stdout",
     "output_type": "stream",
     "text": [
      "LaneID:28925528_0;Time:7010.0;\n",
      "LaneID:28925528_0;Time:7011.0;\n",
      "LaneID:28925528_0;Time:7012.0;\n",
      "LaneID:28925528_0;Time:7013.0;\n",
      "LaneID:28925528_0;Time:7014.0;\n",
      "LaneID:28925528_0;Time:7015.0;\n",
      "LaneID:28925528_0;Time:7016.0;\n"
     ]
    },
    {
     "name": "stderr",
     "output_type": "stream",
     "text": [
      "C:\\Users\\Administrator\\AppData\\Local\\Temp\\ipykernel_16000\\2984826684.py:101: FutureWarning: The frame.append method is deprecated and will be removed from pandas in a future version. Use pandas.concat instead.\n",
      "  redFlagRecord = redFlagRecord.append(veh, ignore_index=True)\n",
      "C:\\Users\\Administrator\\AppData\\Local\\Temp\\ipykernel_16000\\2984826684.py:101: FutureWarning: The frame.append method is deprecated and will be removed from pandas in a future version. Use pandas.concat instead.\n",
      "  redFlagRecord = redFlagRecord.append(veh, ignore_index=True)\n",
      "C:\\Users\\Administrator\\AppData\\Local\\Temp\\ipykernel_16000\\2984826684.py:101: FutureWarning: The frame.append method is deprecated and will be removed from pandas in a future version. Use pandas.concat instead.\n",
      "  redFlagRecord = redFlagRecord.append(veh, ignore_index=True)\n",
      "C:\\Users\\Administrator\\AppData\\Local\\Temp\\ipykernel_16000\\2984826684.py:101: FutureWarning: The frame.append method is deprecated and will be removed from pandas in a future version. Use pandas.concat instead.\n",
      "  redFlagRecord = redFlagRecord.append(veh, ignore_index=True)\n",
      "C:\\Users\\Administrator\\AppData\\Local\\Temp\\ipykernel_16000\\2984826684.py:101: FutureWarning: The frame.append method is deprecated and will be removed from pandas in a future version. Use pandas.concat instead.\n",
      "  redFlagRecord = redFlagRecord.append(veh, ignore_index=True)\n",
      "C:\\Users\\Administrator\\AppData\\Local\\Temp\\ipykernel_16000\\2984826684.py:101: FutureWarning: The frame.append method is deprecated and will be removed from pandas in a future version. Use pandas.concat instead.\n",
      "  redFlagRecord = redFlagRecord.append(veh, ignore_index=True)\n",
      "C:\\Users\\Administrator\\AppData\\Local\\Temp\\ipykernel_16000\\2984826684.py:101: FutureWarning: The frame.append method is deprecated and will be removed from pandas in a future version. Use pandas.concat instead.\n",
      "  redFlagRecord = redFlagRecord.append(veh, ignore_index=True)\n"
     ]
    },
    {
     "name": "stdout",
     "output_type": "stream",
     "text": [
      "LaneID:28925528_0;Time:7017.0;\n",
      "LaneID:28925528_0;Time:7018.0;\n",
      "LaneID:28925528_0;Time:7019.0;\n",
      "LaneID:28925528_0;Time:7020.0;\n",
      "LaneID:28925528_0;Time:7021.0;\n",
      "LaneID:28925528_0;Time:7022.0;\n",
      "LaneID:28925528_0;Time:7023.0;\n"
     ]
    },
    {
     "name": "stderr",
     "output_type": "stream",
     "text": [
      "C:\\Users\\Administrator\\AppData\\Local\\Temp\\ipykernel_16000\\2984826684.py:101: FutureWarning: The frame.append method is deprecated and will be removed from pandas in a future version. Use pandas.concat instead.\n",
      "  redFlagRecord = redFlagRecord.append(veh, ignore_index=True)\n",
      "C:\\Users\\Administrator\\AppData\\Local\\Temp\\ipykernel_16000\\2984826684.py:101: FutureWarning: The frame.append method is deprecated and will be removed from pandas in a future version. Use pandas.concat instead.\n",
      "  redFlagRecord = redFlagRecord.append(veh, ignore_index=True)\n",
      "C:\\Users\\Administrator\\AppData\\Local\\Temp\\ipykernel_16000\\2984826684.py:101: FutureWarning: The frame.append method is deprecated and will be removed from pandas in a future version. Use pandas.concat instead.\n",
      "  redFlagRecord = redFlagRecord.append(veh, ignore_index=True)\n",
      "C:\\Users\\Administrator\\AppData\\Local\\Temp\\ipykernel_16000\\2984826684.py:101: FutureWarning: The frame.append method is deprecated and will be removed from pandas in a future version. Use pandas.concat instead.\n",
      "  redFlagRecord = redFlagRecord.append(veh, ignore_index=True)\n",
      "C:\\Users\\Administrator\\AppData\\Local\\Temp\\ipykernel_16000\\2984826684.py:101: FutureWarning: The frame.append method is deprecated and will be removed from pandas in a future version. Use pandas.concat instead.\n",
      "  redFlagRecord = redFlagRecord.append(veh, ignore_index=True)\n"
     ]
    },
    {
     "name": "stdout",
     "output_type": "stream",
     "text": [
      "LaneID:28925528_0;Time:7025.0;\n",
      "LaneID:28925528_0;Time:7026.0;\n",
      "LaneID:28925528_0;Time:7027.0;\n",
      "LaneID:28925528_0;Time:7028.0;\n",
      "LaneID:28925528_0;Time:7029.0;\n",
      "LaneID:28925528_0;Time:7030.0;\n",
      "LaneID:28925528_0;Time:7031.0;\n",
      "LaneID:28925528_0;Time:7032.0;\n",
      "LaneID:28925528_0;Time:7033.0;\n",
      "LaneID:28925528_0;Time:7034.0;\n",
      "LaneID:28925528_0;Time:7035.0;\n",
      "LaneID:28925528_0;Time:7036.0;\n",
      "LaneID:28925528_0;Time:7037.0;\n",
      "LaneID:28925528_0;Time:7038.0;\n"
     ]
    },
    {
     "name": "stderr",
     "output_type": "stream",
     "text": [
      "C:\\Users\\Administrator\\AppData\\Local\\Temp\\ipykernel_16000\\2984826684.py:101: FutureWarning: The frame.append method is deprecated and will be removed from pandas in a future version. Use pandas.concat instead.\n",
      "  redFlagRecord = redFlagRecord.append(veh, ignore_index=True)\n",
      "C:\\Users\\Administrator\\AppData\\Local\\Temp\\ipykernel_16000\\2984826684.py:101: FutureWarning: The frame.append method is deprecated and will be removed from pandas in a future version. Use pandas.concat instead.\n",
      "  redFlagRecord = redFlagRecord.append(veh, ignore_index=True)\n",
      "C:\\Users\\Administrator\\AppData\\Local\\Temp\\ipykernel_16000\\2984826684.py:101: FutureWarning: The frame.append method is deprecated and will be removed from pandas in a future version. Use pandas.concat instead.\n",
      "  redFlagRecord = redFlagRecord.append(veh, ignore_index=True)\n",
      "C:\\Users\\Administrator\\AppData\\Local\\Temp\\ipykernel_16000\\2984826684.py:101: FutureWarning: The frame.append method is deprecated and will be removed from pandas in a future version. Use pandas.concat instead.\n",
      "  redFlagRecord = redFlagRecord.append(veh, ignore_index=True)\n",
      "C:\\Users\\Administrator\\AppData\\Local\\Temp\\ipykernel_16000\\2984826684.py:101: FutureWarning: The frame.append method is deprecated and will be removed from pandas in a future version. Use pandas.concat instead.\n",
      "  redFlagRecord = redFlagRecord.append(veh, ignore_index=True)\n",
      "C:\\Users\\Administrator\\AppData\\Local\\Temp\\ipykernel_16000\\2984826684.py:101: FutureWarning: The frame.append method is deprecated and will be removed from pandas in a future version. Use pandas.concat instead.\n",
      "  redFlagRecord = redFlagRecord.append(veh, ignore_index=True)\n",
      "C:\\Users\\Administrator\\AppData\\Local\\Temp\\ipykernel_16000\\2984826684.py:101: FutureWarning: The frame.append method is deprecated and will be removed from pandas in a future version. Use pandas.concat instead.\n",
      "  redFlagRecord = redFlagRecord.append(veh, ignore_index=True)\n"
     ]
    },
    {
     "name": "stdout",
     "output_type": "stream",
     "text": [
      "LaneID:28925528_0;Time:7039.0;\n",
      "LaneID:28925528_0;Time:7040.0;\n",
      "LaneID:28925528_0;Time:7041.0;\n",
      "LaneID:28925528_0;Time:7042.0;\n",
      "LaneID:28925528_0;Time:7043.0;\n",
      "LaneID:28925528_0;Time:7044.0;\n",
      "LaneID:28925528_0;Time:7045.0;\n"
     ]
    },
    {
     "name": "stderr",
     "output_type": "stream",
     "text": [
      "C:\\Users\\Administrator\\AppData\\Local\\Temp\\ipykernel_16000\\2984826684.py:101: FutureWarning: The frame.append method is deprecated and will be removed from pandas in a future version. Use pandas.concat instead.\n",
      "  redFlagRecord = redFlagRecord.append(veh, ignore_index=True)\n",
      "C:\\Users\\Administrator\\AppData\\Local\\Temp\\ipykernel_16000\\2984826684.py:101: FutureWarning: The frame.append method is deprecated and will be removed from pandas in a future version. Use pandas.concat instead.\n",
      "  redFlagRecord = redFlagRecord.append(veh, ignore_index=True)\n",
      "C:\\Users\\Administrator\\AppData\\Local\\Temp\\ipykernel_16000\\2984826684.py:101: FutureWarning: The frame.append method is deprecated and will be removed from pandas in a future version. Use pandas.concat instead.\n",
      "  redFlagRecord = redFlagRecord.append(veh, ignore_index=True)\n",
      "C:\\Users\\Administrator\\AppData\\Local\\Temp\\ipykernel_16000\\2984826684.py:101: FutureWarning: The frame.append method is deprecated and will be removed from pandas in a future version. Use pandas.concat instead.\n",
      "  redFlagRecord = redFlagRecord.append(veh, ignore_index=True)\n",
      "C:\\Users\\Administrator\\AppData\\Local\\Temp\\ipykernel_16000\\2984826684.py:101: FutureWarning: The frame.append method is deprecated and will be removed from pandas in a future version. Use pandas.concat instead.\n",
      "  redFlagRecord = redFlagRecord.append(veh, ignore_index=True)\n",
      "C:\\Users\\Administrator\\AppData\\Local\\Temp\\ipykernel_16000\\2984826684.py:101: FutureWarning: The frame.append method is deprecated and will be removed from pandas in a future version. Use pandas.concat instead.\n",
      "  redFlagRecord = redFlagRecord.append(veh, ignore_index=True)\n"
     ]
    },
    {
     "name": "stdout",
     "output_type": "stream",
     "text": [
      "LaneID:28925528_0;Time:7046.0;\n",
      "LaneID:28925528_0;Time:7047.0;\n",
      "LaneID:28925528_0;Time:7048.0;\n",
      "LaneID:28925528_0;Time:7049.0;\n",
      "LaneID:28925528_0;Time:7050.0;\n",
      "LaneID:28925528_0;Time:7051.0;\n"
     ]
    },
    {
     "name": "stderr",
     "output_type": "stream",
     "text": [
      "C:\\Users\\Administrator\\AppData\\Local\\Temp\\ipykernel_16000\\2984826684.py:101: FutureWarning: The frame.append method is deprecated and will be removed from pandas in a future version. Use pandas.concat instead.\n",
      "  redFlagRecord = redFlagRecord.append(veh, ignore_index=True)\n",
      "C:\\Users\\Administrator\\AppData\\Local\\Temp\\ipykernel_16000\\2984826684.py:101: FutureWarning: The frame.append method is deprecated and will be removed from pandas in a future version. Use pandas.concat instead.\n",
      "  redFlagRecord = redFlagRecord.append(veh, ignore_index=True)\n",
      "C:\\Users\\Administrator\\AppData\\Local\\Temp\\ipykernel_16000\\2984826684.py:101: FutureWarning: The frame.append method is deprecated and will be removed from pandas in a future version. Use pandas.concat instead.\n",
      "  redFlagRecord = redFlagRecord.append(veh, ignore_index=True)\n",
      "C:\\Users\\Administrator\\AppData\\Local\\Temp\\ipykernel_16000\\2984826684.py:101: FutureWarning: The frame.append method is deprecated and will be removed from pandas in a future version. Use pandas.concat instead.\n",
      "  redFlagRecord = redFlagRecord.append(veh, ignore_index=True)\n",
      "C:\\Users\\Administrator\\AppData\\Local\\Temp\\ipykernel_16000\\2984826684.py:101: FutureWarning: The frame.append method is deprecated and will be removed from pandas in a future version. Use pandas.concat instead.\n",
      "  redFlagRecord = redFlagRecord.append(veh, ignore_index=True)\n",
      "C:\\Users\\Administrator\\AppData\\Local\\Temp\\ipykernel_16000\\2984826684.py:101: FutureWarning: The frame.append method is deprecated and will be removed from pandas in a future version. Use pandas.concat instead.\n",
      "  redFlagRecord = redFlagRecord.append(veh, ignore_index=True)\n"
     ]
    },
    {
     "name": "stdout",
     "output_type": "stream",
     "text": [
      "LaneID:28925528_0;Time:7052.0;\n",
      "LaneID:28925528_0;Time:7053.0;\n",
      "LaneID:28925528_0;Time:7054.0;\n",
      "LaneID:28925528_0;Time:7055.0;\n",
      "LaneID:28925528_0;Time:7056.0;\n",
      "LaneID:28925528_0;Time:7057.0;\n",
      "LaneID:28925528_0;Time:7058.0;\n",
      "LaneID:28925528_0;Time:7059.0;\n",
      "LaneID:28925528_0;Time:7081.0;\n",
      "LaneID:28925528_0;Time:7082.0;\n",
      "LaneID:28925528_0;Time:7083.0;\n",
      "LaneID:28925528_0;Time:7084.0;\n",
      "LaneID:28925528_0;Time:7085.0;\n",
      "LaneID:28925528_0;Time:7086.0;\n",
      "LaneID:28925528_0;Time:7087.0;\n",
      "LaneID:28925528_0;Time:7110.0;\n",
      "LaneID:28925528_0;Time:7111.0;\n",
      "LaneID:28925528_0;Time:7112.0;\n",
      "LaneID:28925528_0;Time:7113.0;\n",
      "LaneID:28925528_0;Time:7114.0;\n",
      "LaneID:28925528_0;Time:7115.0;\n",
      "LaneID:28925528_0;Time:7116.0;\n",
      "LaneID:28925528_0;Time:7138.0;\n",
      "LaneID:28925528_0;Time:7139.0;\n",
      "LaneID:28925528_0;Time:7140.0;\n",
      "LaneID:28925528_0;Time:7141.0;\n",
      "LaneID:28925528_0;Time:7142.0;\n",
      "LaneID:28925528_0;Time:7143.0;\n",
      "LaneID:28925528_0;Time:7144.0;\n",
      "LaneID:28925528_0;Time:7145.0;\n",
      "LaneID:28925528_0;Time:7146.0;\n",
      "LaneID:28925528_0;Time:7147.0;\n",
      "LaneID:28925528_0;Time:7165.0;\n",
      "LaneID:28925528_0;Time:7166.0;\n",
      "LaneID:28925528_0;Time:7167.0;\n",
      "LaneID:28925528_0;Time:7168.0;\n",
      "LaneID:28925528_0;Time:7169.0;\n",
      "LaneID:28925528_0;Time:7170.0;\n",
      "LaneID:28925528_0;Time:7171.0;\n",
      "LaneID:28925528_0;Time:7172.0;\n",
      "LaneID:28925528_0;Time:7173.0;\n",
      "LaneID:28925528_0;Time:7174.0;\n",
      "LaneID:28925528_0;Time:7175.0;\n"
     ]
    },
    {
     "name": "stderr",
     "output_type": "stream",
     "text": [
      "C:\\Users\\Administrator\\AppData\\Local\\Temp\\ipykernel_16000\\2984826684.py:101: FutureWarning: The frame.append method is deprecated and will be removed from pandas in a future version. Use pandas.concat instead.\n",
      "  redFlagRecord = redFlagRecord.append(veh, ignore_index=True)\n",
      "C:\\Users\\Administrator\\AppData\\Local\\Temp\\ipykernel_16000\\2984826684.py:101: FutureWarning: The frame.append method is deprecated and will be removed from pandas in a future version. Use pandas.concat instead.\n",
      "  redFlagRecord = redFlagRecord.append(veh, ignore_index=True)\n",
      "C:\\Users\\Administrator\\AppData\\Local\\Temp\\ipykernel_16000\\2984826684.py:101: FutureWarning: The frame.append method is deprecated and will be removed from pandas in a future version. Use pandas.concat instead.\n",
      "  redFlagRecord = redFlagRecord.append(veh, ignore_index=True)\n",
      "C:\\Users\\Administrator\\AppData\\Local\\Temp\\ipykernel_16000\\2984826684.py:101: FutureWarning: The frame.append method is deprecated and will be removed from pandas in a future version. Use pandas.concat instead.\n",
      "  redFlagRecord = redFlagRecord.append(veh, ignore_index=True)\n",
      "C:\\Users\\Administrator\\AppData\\Local\\Temp\\ipykernel_16000\\2984826684.py:101: FutureWarning: The frame.append method is deprecated and will be removed from pandas in a future version. Use pandas.concat instead.\n",
      "  redFlagRecord = redFlagRecord.append(veh, ignore_index=True)\n",
      "C:\\Users\\Administrator\\AppData\\Local\\Temp\\ipykernel_16000\\2984826684.py:101: FutureWarning: The frame.append method is deprecated and will be removed from pandas in a future version. Use pandas.concat instead.\n",
      "  redFlagRecord = redFlagRecord.append(veh, ignore_index=True)\n",
      "C:\\Users\\Administrator\\AppData\\Local\\Temp\\ipykernel_16000\\2984826684.py:101: FutureWarning: The frame.append method is deprecated and will be removed from pandas in a future version. Use pandas.concat instead.\n",
      "  redFlagRecord = redFlagRecord.append(veh, ignore_index=True)\n"
     ]
    },
    {
     "name": "stdout",
     "output_type": "stream",
     "text": [
      "LaneID:28925528_0;Time:7176.0;\n",
      "LaneID:28925528_0;Time:7177.0;\n",
      "LaneID:28925528_0;Time:7178.0;\n",
      "LaneID:28925528_0;Time:7192.0;\n",
      "LaneID:28925528_0;Time:7193.0;\n",
      "LaneID:28925528_0;Time:7194.0;\n",
      "LaneID:28925528_0;Time:7195.0;\n",
      "LaneID:28925528_0;Time:7196.0;\n",
      "LaneID:28925528_0;Time:7197.0;\n",
      "LaneID:28925528_0;Time:7198.0;\n",
      "LaneID:28925528_0;Time:7199.0;\n",
      "LaneID:28925528_0;Time:7200.0;\n",
      "LaneID:28925528_0;Time:7201.0;\n",
      "LaneID:28925528_0;Time:7202.0;\n",
      "LaneID:28925528_0;Time:7203.0;\n",
      "LaneID:28925528_0;Time:7204.0;\n",
      "LaneID:28925528_0;Time:7205.0;\n"
     ]
    },
    {
     "name": "stderr",
     "output_type": "stream",
     "text": [
      "C:\\Users\\Administrator\\AppData\\Local\\Temp\\ipykernel_16000\\2984826684.py:101: FutureWarning: The frame.append method is deprecated and will be removed from pandas in a future version. Use pandas.concat instead.\n",
      "  redFlagRecord = redFlagRecord.append(veh, ignore_index=True)\n",
      "C:\\Users\\Administrator\\AppData\\Local\\Temp\\ipykernel_16000\\2984826684.py:101: FutureWarning: The frame.append method is deprecated and will be removed from pandas in a future version. Use pandas.concat instead.\n",
      "  redFlagRecord = redFlagRecord.append(veh, ignore_index=True)\n",
      "C:\\Users\\Administrator\\AppData\\Local\\Temp\\ipykernel_16000\\2984826684.py:101: FutureWarning: The frame.append method is deprecated and will be removed from pandas in a future version. Use pandas.concat instead.\n",
      "  redFlagRecord = redFlagRecord.append(veh, ignore_index=True)\n",
      "C:\\Users\\Administrator\\AppData\\Local\\Temp\\ipykernel_16000\\2984826684.py:101: FutureWarning: The frame.append method is deprecated and will be removed from pandas in a future version. Use pandas.concat instead.\n",
      "  redFlagRecord = redFlagRecord.append(veh, ignore_index=True)\n",
      "C:\\Users\\Administrator\\AppData\\Local\\Temp\\ipykernel_16000\\2984826684.py:101: FutureWarning: The frame.append method is deprecated and will be removed from pandas in a future version. Use pandas.concat instead.\n",
      "  redFlagRecord = redFlagRecord.append(veh, ignore_index=True)\n"
     ]
    },
    {
     "name": "stdout",
     "output_type": "stream",
     "text": [
      "LaneID:28925528_0;Time:7206.0;\n",
      "LaneID:28925528_0;Time:7207.0;\n",
      "LaneID:28925528_0;Time:7208.0;\n",
      "LaneID:28925528_0;Time:7209.0;\n"
     ]
    }
   ],
   "source": [
    "import string\n",
    "from matplotlib.animation import FFMpegWriter\n",
    "import matplotlib\n",
    "import time\n",
    "import matplotlib.pyplot as plt\n",
    "import numpy as np\n",
    "import pandas as pd\n",
    "!cd D: \\GITHUB\\GitHub\\datasetProcessingForSUMO\n",
    "!pwd\n",
    "\n",
    "\n",
    "###################################################################################################\n",
    "#############主程序\n",
    "#matplotlib.use(\"Agg\")\n",
    "print(FFMpegWriter.bin_path())\n",
    "\n",
    "df = pd.read_csv('.\\data\\data1.csv', sep=';')\n",
    "print(\"#################################################################\")\n",
    "print(\"df.head()\\n\", df.head())\n",
    "#print(\"df.info()\\n\",df.info())\n",
    "#print(df.describe())\n",
    "veh_lane1 = df[df.vehicle_lane == '-1356_0']\n",
    "print(\"#################################################################\")\n",
    "print(\"veh_lane1\\n\", veh_lane1)\n",
    "\n",
    "veh_lane = df.vehicle_lane\n",
    "print(\"#################################################################\")\n",
    "#print(\"veh_lane.unique()\\n\",veh_lane.unique())\n",
    "print(\"#################################################################\")\n",
    "\n",
    "print(\"#################################################################\")\n",
    "print(\"显示多车同一车道\")\n",
    "print(\"#################################################################\")\n",
    "\n",
    "\n",
    "df1 = df.groupby([\"vehicle_lane\", \"timestep_time\"]).size()\n",
    "#print(df1)\n",
    "col = df1[df1 > 1].reset_index()[[\"vehicle_lane\", \"timestep_time\"]]\n",
    "#print(col)\n",
    "mulVehsOneLane = pd.merge(col, df, on=[\"vehicle_lane\", \"timestep_time\"])\n",
    "print(mulVehsOneLane)\n",
    "#input()\n",
    "\n",
    "print(\"#################################################################\")\n",
    "print(\"显示轨迹\")\n",
    "print(\"#################################################################\")\n",
    "\n",
    "\n",
    "fg1 = plt.figure(figsize=(8, 5))\n",
    "metadata = dict(title='france Dataset traces',\n",
    "                artist='lukeliuli', comment='france Dataset traces')\n",
    "writer = FFMpegWriter(fps=5, metadata=metadata)\n",
    "\n",
    "\n",
    "#df = mulVehsOneLane\n",
    "for i, curLaneID in enumerate(df.vehicle_lane.unique()):  # 枚举每一个车道\n",
    "\n",
    "    vehInOneLane = df[df.vehicle_lane == curLaneID]\n",
    "    maxLanePos = max(vehInOneLane.vehicle_pos)\n",
    "    vehInOneLane = vehInOneLane.sort_values(by='timestep_time', ascending=True)\n",
    "\n",
    "    redFlagRecord = vehInOneLane.drop(index=vehInOneLane.index)\n",
    "\n",
    "    #画车道图\n",
    "    lanePosX = vehInOneLane.vehicle_x.to_numpy()\n",
    "    lanePosY = vehInOneLane.vehicle_y.to_numpy()\n",
    "    lanePosXT = lanePosX[:len(lanePosX):10]\n",
    "    lanePosYT = lanePosY[:len(lanePosY):10]\n",
    "    #plt.plot( lanePosXT,lanePosYT, '.',color = 'black',linewidth=1,markersize=0.1,label='lane')\n",
    "\n",
    "    #writer.setup(fg1, str(i)+\"-\"+\"laneID(\"+str(curLaneID)+\").mp4\", dpi=600)\n",
    "    #提取时刻\n",
    "    timeList = vehInOneLane.timestep_time.unique()\n",
    "    lowSpeedFlag = 0\n",
    "    for t in timeList:  # 枚举每个时间\n",
    "        title = \"LaneID:\"+str(curLaneID)+\";\"+\"Time:\"+str(t)+\";\"\n",
    "        print(title)\n",
    "\n",
    "        colorList = ['r', 'g', 'b', 'y', 'c', 'm', 'k']\n",
    "\n",
    "        vehsAtTime = vehInOneLane[vehInOneLane.timestep_time == float(t)]\n",
    "\n",
    "        for index, veh in vehsAtTime.iterrows():  # 每一辆车\n",
    "            #print(index,veh)\n",
    "            vehX = veh.vehicle_x\n",
    "            vehY = veh.vehicle_y\n",
    "            vehVel = veh.vehicle_speed\n",
    "            vehTime = veh.timestep_time\n",
    "            vehID = veh.vehicle_id\n",
    "            vehicle_pos = veh.vehicle_pos\n",
    "            #title = title+\"\\n\"+vehID+\",Speed:\"+str(vehVel)+\";\"\n",
    "\n",
    "            randNum = sum([ord(x) for x in str(vehID)])\n",
    "            #plt.plot( vehX,vehY, 'o',color= colorList[randNum%7],label=vehID)  # 蓝色圆点实线\n",
    "            #plt.annotate(str(vehVel)+\",\"+str(vehicle_pos)+','+vehID, xy=(vehX,vehY),  xytext=(-50, 10), textcoords='offset points')\n",
    "            #plt.plot( lanePosXT,lanePosYT, '.',color = 'black',markersize=0.1,label='lane')\n",
    "            if vehVel < 1 & (abs(vehicle_pos - maxLanePos) < 1):\n",
    "                lowSpeedFlag = 1\n",
    "                #plt.annotate(\"redLight\", xy=(vehX,vehY),  xytext=(-50, 20), textcoords='offset points')\n",
    "                #print(\"redLight\"+vehID)\n",
    "                redFlagRecord = redFlagRecord.append(veh, ignore_index=True)\n",
    "\n",
    "        #plt.legend()\n",
    "        #plt.title(title,fontsize='xx-small')\n",
    "        #plt.show()\n",
    "        #writer.grab_frame()\n",
    "        #plt.ioff()\n",
    "        #plt.cla()\n",
    "\n",
    "    ######对每条道路进行分析,当有车处于红灯状态时而且车道上有多个车时，给出红灯状态持续时间\n",
    "    redVehs = redFlagRecord.vehicle_id.unique()  # 红灯状态的车辆ID\n",
    "    for i, id in enumerate(redVehs):\n",
    "\n",
    "        #红灯状态的车辆ID\n",
    "        # 红灯状态的车辆ID\n",
    "        redFlagRecordTMP = redFlagRecord[redFlagRecord.vehicle_id == id]\n",
    "        timeList = redFlagRecordTMP.timestep_time  # 红灯状态持续时间\n",
    "        indexTmp = (vehInOneLane.timestep_time >= min(timeList)) & (\n",
    "            vehInOneLane.timestep_time <= max(timeList))\n",
    "        vehsIDs = vehInOneLane[indexTmp]  # 获得红灯状态持续时间内，车道内的车辆数目\n",
    "\n",
    "        if len(vehsIDs.vehicle_id.unique()) > 1:\n",
    "            redLightTime = timeList  # 时间\n",
    "            vehsAtRedTime = vehsIDs  # 红灯时间内车道状态\n",
    "            redTimeDataSet = redFlagRecordTMP  # 红灯时间的红灯车状态\n",
    "            dict = {}\n",
    "\n",
    "            for i, idTmp in enumerate(vehsAtRedTime.vehicle_id.unique()):\n",
    "                if idTmp == id:\n",
    "                    continue\n",
    "                input()\n",
    "                index = (vehsAtRedTime.vehicle_id == idTmp) & (\n",
    "                    maxLanePos - vehsAtRedTime.vehicle_pos) < 100\n",
    "                vehTMP = vehsAtRedTime[index]\n",
    "                minSpeed = min(vehTmp.vehicle_speed)\n",
    "                if minSpeed >= 40/3.6:\n",
    "                    speedFlag = 4\n",
    "                if minSpeed < 40/3.6 & minSpeed > 30/3.6:\n",
    "                    speedFlag = 3\n",
    "                if minSpeed < 30/3.6 & minSpeed > 20/3.6:\n",
    "                    speedFlag = 2\n",
    "                if minSpeed < 20/3.6 & minSpeed > 10/3.6:\n",
    "                    speedFlag = 1\n",
    "                if minSpeed < 10/3.6:\n",
    "                    speedFlag = 0\n",
    "                dict[idTmp] = speedFlag\n",
    "\n",
    "            for t in timeList:  # 枚举每个时间\n",
    "                vehsAtTime = vehInOneLane[vehInOneLane.timestep_time == float(\n",
    "                    t)]\n",
    "                vehsAtTime = vehsAtTime.sort_values(\n",
    "                    by='lane_pos', ascending=True)\n",
    "\n",
    "                samples = []\n",
    "                for index, veh in vehsAtTime.iterrows():  # 每一辆车\n",
    "                    vehX = veh.vehicle_x\n",
    "                    vehY = veh.vehicle_y\n",
    "                    vehVel = veh.vehicle_speed\n",
    "                    vehTime = veh.timestep_time\n",
    "                    vehID = veh.vehicle_id\n",
    "                    vehicle_pos = veh.vehicle_pos\n",
    "\n",
    "                    samples2 = []\n",
    "\n",
    "                    if index > 0:\n",
    "                        avg_speed_lane = 60/3.6\n",
    "                        max_speed_lane = 80/3.6\n",
    "                        subject = [max(timeList) - t,\n",
    "                                   vehicle_pos,\n",
    "                                   speed,\n",
    "                                   vehicle_pos/speed,\n",
    "                                   vehicle_pos/avg_speed_lane,\n",
    "                                   vehicle_pos/max_speed_lane]\n",
    "                        samples1 = samples.extend([0, 0]*(8-index))\n",
    "                        samples2 = samples2.append(\n",
    "                            subject.extend(samples1).extend(dict[vehID]))\n",
    "                        print(samples2)\n",
    "                        input()\n",
    "\n",
    "                    samples.extend([vehicle_pos, speed])\n",
    "\n",
    "\n",
    "    #writer.finish()\n",
    "\n",
    "\n",
    "#plt.plot(df.vehicle_x,df.vehicle_y, '.')  # 蓝色圆点实线\n",
    "#plt.show()\n"
   ]
  }
 ],
 "metadata": {
  "interpreter": {
   "hash": "c14be72183c97298da809ba8fb42407e087de210326fcf48c7f32411b972bed6"
  },
  "kernelspec": {
   "display_name": "Python 3.8.13 ('pytorchYolo')",
   "language": "python",
   "name": "python3"
  },
  "language_info": {
   "codemirror_mode": {
    "name": "ipython",
    "version": 3
   },
   "file_extension": ".py",
   "mimetype": "text/x-python",
   "name": "python",
   "nbconvert_exporter": "python",
   "pygments_lexer": "ipython3",
   "version": "3.8.13"
  },
  "orig_nbformat": 4
 },
 "nbformat": 4,
 "nbformat_minor": 2
}
